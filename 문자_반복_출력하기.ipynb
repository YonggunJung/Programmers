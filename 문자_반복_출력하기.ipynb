{
  "nbformat": 4,
  "nbformat_minor": 0,
  "metadata": {
    "colab": {
      "provenance": [],
      "authorship_tag": "ABX9TyN6IrhtRyOrZqW/+EWVhQCf",
      "include_colab_link": true
    },
    "kernelspec": {
      "name": "python3",
      "display_name": "Python 3"
    },
    "language_info": {
      "name": "python"
    }
  },
  "cells": [
    {
      "cell_type": "markdown",
      "metadata": {
        "id": "view-in-github",
        "colab_type": "text"
      },
      "source": [
        "<a href=\"https://colab.research.google.com/github/YonggunJung/Programmers/blob/main/%EB%AC%B8%EC%9E%90_%EB%B0%98%EB%B3%B5_%EC%B6%9C%EB%A0%A5%ED%95%98%EA%B8%B0.ipynb\" target=\"_parent\"><img src=\"https://colab.research.google.com/assets/colab-badge.svg\" alt=\"Open In Colab\"/></a>"
      ]
    },
    {
      "cell_type": "code",
      "execution_count": 2,
      "metadata": {
        "id": "ln8ml8PfDAfu"
      },
      "outputs": [],
      "source": [
        "# 문제 설명\n",
        "# 문자열 my_string과 정수 n이 매개변수로 주어질 때,\n",
        "# my_string에 들어있는 각 문자를 n만큼 반복한 문자열을 return 하도록 solution 함수를 완성해보세요.\n",
        "\n",
        "# 제한사항\n",
        "# 2 ≤ my_string 길이 ≤ 5\n",
        "# 2 ≤ n ≤ 10\n",
        "# \"my_string\"은 영어 대소문자로 이루어져 있습니다.\n",
        "\n",
        "# 입출력 예\n",
        "# my_string\t          n\t          result\n",
        "# \"hello\"\t            3\t          \"hhheeellllllooo\"\n",
        "\n",
        "# 입출력 예 설명\n",
        "# 입출력 예 #1\n",
        "# \"hello\"의 각 문자를 세 번씩 반복한 \"hhheeellllllooo\"를 return 합니다."
      ]
    },
    {
      "cell_type": "code",
      "source": [
        "def solution(my_string, n):\n",
        "    answer = ''\n",
        "    for char in my_string:\n",
        "      answer += char * n\n",
        "    return answer"
      ],
      "metadata": {
        "id": "z_RHREqxM2f3"
      },
      "execution_count": 7,
      "outputs": []
    },
    {
      "cell_type": "code",
      "source": [
        "my_string = \"hello\"\n",
        "n = 3\n",
        "solution(my_string, n)"
      ],
      "metadata": {
        "colab": {
          "base_uri": "https://localhost:8080/",
          "height": 35
        },
        "id": "R3zK0mLiNgJK",
        "outputId": "dd6f8092-e11c-4cb6-e788-9cb1d9d28b18"
      },
      "execution_count": 8,
      "outputs": [
        {
          "output_type": "execute_result",
          "data": {
            "text/plain": [
              "'hhheeellllllooo'"
            ],
            "application/vnd.google.colaboratory.intrinsic+json": {
              "type": "string"
            }
          },
          "metadata": {},
          "execution_count": 8
        }
      ]
    },
    {
      "cell_type": "code",
      "source": [
        "# 다른사람 풀이"
      ],
      "metadata": {
        "id": "pNKuXodzNl3C"
      },
      "execution_count": 9,
      "outputs": []
    },
    {
      "cell_type": "code",
      "source": [
        "# join()은 문자열을 배열로 만든다\n",
        "def solution(my_string, n):\n",
        "    return ''.join(i*n for i in my_string)"
      ],
      "metadata": {
        "id": "wPzBmYv8OI18"
      },
      "execution_count": 10,
      "outputs": []
    },
    {
      "cell_type": "code",
      "source": [
        "# 이렇게도 가능\n",
        "def solution(my_string, n):\n",
        "    return \"\".join([s * n for s in my_string])"
      ],
      "metadata": {
        "id": "WP7dFKg9OVIT"
      },
      "execution_count": null,
      "outputs": []
    }
  ]
}