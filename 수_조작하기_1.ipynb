{
  "nbformat": 4,
  "nbformat_minor": 0,
  "metadata": {
    "colab": {
      "provenance": [],
      "authorship_tag": "ABX9TyP1f+jKL2tYhLszZ/dmdDSw",
      "include_colab_link": true
    },
    "kernelspec": {
      "name": "python3",
      "display_name": "Python 3"
    },
    "language_info": {
      "name": "python"
    }
  },
  "cells": [
    {
      "cell_type": "markdown",
      "metadata": {
        "id": "view-in-github",
        "colab_type": "text"
      },
      "source": [
        "<a href=\"https://colab.research.google.com/github/YonggunJung/Programmers/blob/main/%EC%88%98_%EC%A1%B0%EC%9E%91%ED%95%98%EA%B8%B0_1.ipynb\" target=\"_parent\"><img src=\"https://colab.research.google.com/assets/colab-badge.svg\" alt=\"Open In Colab\"/></a>"
      ]
    },
    {
      "cell_type": "code",
      "execution_count": null,
      "metadata": {
        "id": "ScLDZH_Q1Epy"
      },
      "outputs": [],
      "source": [
        "# 문제 설명\n",
        "# 정수 n과 문자열 control이 주어집니다.\n",
        "# control은 \"w\", \"a\", \"s\", \"d\"의 4개의 문자로 이루어져 있으며,\n",
        "# control의 앞에서부터 순서대로 문자에 따라 n의 값을 바꿉니다.\n",
        "\n",
        "# \"w\" : n이 1 커집니다.\n",
        "# \"s\" : n이 1 작아집니다.\n",
        "# \"d\" : n이 10 커집니다.\n",
        "# \"a\" : n이 10 작아집니다.\n",
        "# 위 규칙에 따라 n을 바꿨을 때 가장 마지막에 나오는 n의 값을\n",
        "#  return 하는 solution 함수를 완성해 주세요.\n",
        "\n",
        "# 제한사항\n",
        "# -100,000 ≤ n ≤ 100,000\n",
        "# 1 ≤ control의 길이 ≤ 100,000\n",
        "# control은 알파벳 소문자 \"w\", \"a\", \"s\", \"d\"로 이루어진 문자열입니다.\n",
        "\n",
        "# 입출력 예\n",
        "# n\t    control\t          result\n",
        "# 0\t    \"wsdawsdassw\"\t      -1\n",
        "\n",
        "# 입출력 예 설명\n",
        "# 입출력 예 #1\n",
        "# 수 n은 control에 따라 다음과 같은 순서로 변하게 됩니다.\n",
        "# 0 → 1 → 0 → 10 → 0 → 1 → 0 → 10 → 0 → -1 → -2 → -1\n",
        "# 따라서 -1을 return 합니다."
      ]
    },
    {
      "cell_type": "code",
      "source": [
        "def solution(n, control):\n",
        "    for char in control:\n",
        "      if char == \"w\":\n",
        "        n += 1\n",
        "      elif char == \"s\":\n",
        "        n += -1\n",
        "      elif char == \"d\":\n",
        "        n += 10\n",
        "      elif char == \"a\":\n",
        "        n += -10\n",
        "    return n"
      ],
      "metadata": {
        "id": "H29MwY3D1NNH"
      },
      "execution_count": 2,
      "outputs": []
    },
    {
      "cell_type": "code",
      "source": [
        "n = 0\n",
        "control = \"wsdawsdassw\"\n",
        "solution(n, control)"
      ],
      "metadata": {
        "colab": {
          "base_uri": "https://localhost:8080/"
        },
        "id": "Hrgwynlc1PHt",
        "outputId": "3e18f701-d0aa-43c7-af74-a02c13e9750e"
      },
      "execution_count": 3,
      "outputs": [
        {
          "output_type": "execute_result",
          "data": {
            "text/plain": [
              "-1"
            ]
          },
          "metadata": {},
          "execution_count": 3
        }
      ]
    },
    {
      "cell_type": "code",
      "source": [
        "# 다른 사람 풀이"
      ],
      "metadata": {
        "id": "iNXnKLZA1SJU"
      },
      "execution_count": 4,
      "outputs": []
    },
    {
      "cell_type": "code",
      "source": [
        "# 깔끔하게 잘 풀었네\n",
        "def solution(n, control):\n",
        "    key = dict(zip(['w','s','d','a'], [1,-1,10,-10]))\n",
        "    return n + sum([key[c] for c in control])"
      ],
      "metadata": {
        "id": "F2SfJzPg2Juo"
      },
      "execution_count": 5,
      "outputs": []
    },
    {
      "cell_type": "code",
      "source": [
        "# 이거도 괜찮네\n",
        "def solution(n, control):\n",
        "    answer = n\n",
        "    c = { 'w':1, 's':-1, 'd':10, 'a':-10}\n",
        "    for i in control:\n",
        "        answer += c[i]\n",
        "    return answer"
      ],
      "metadata": {
        "id": "8maXzP8q2RPt"
      },
      "execution_count": 6,
      "outputs": []
    },
    {
      "cell_type": "code",
      "source": [
        "# 이것은 무엇인가?\n",
        "def solution(n, control):\n",
        "    return n + 10*(control.count('d')-control.count('a')) + (control.count('w')-control.count('s'))"
      ],
      "metadata": {
        "id": "T9bG3dzO2TTf"
      },
      "execution_count": 6,
      "outputs": []
    }
  ]
}