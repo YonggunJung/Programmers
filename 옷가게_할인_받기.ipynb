{
  "nbformat": 4,
  "nbformat_minor": 0,
  "metadata": {
    "colab": {
      "provenance": [],
      "authorship_tag": "ABX9TyPWAUeHMu6PL1nvVu6hQ3Sk",
      "include_colab_link": true
    },
    "kernelspec": {
      "name": "python3",
      "display_name": "Python 3"
    },
    "language_info": {
      "name": "python"
    }
  },
  "cells": [
    {
      "cell_type": "markdown",
      "metadata": {
        "id": "view-in-github",
        "colab_type": "text"
      },
      "source": [
        "<a href=\"https://colab.research.google.com/github/YonggunJung/Programmers/blob/main/%EC%98%B7%EA%B0%80%EA%B2%8C_%ED%95%A0%EC%9D%B8_%EB%B0%9B%EA%B8%B0.ipynb\" target=\"_parent\"><img src=\"https://colab.research.google.com/assets/colab-badge.svg\" alt=\"Open In Colab\"/></a>"
      ]
    },
    {
      "cell_type": "code",
      "execution_count": 1,
      "metadata": {
        "id": "MQmp40Arxz-H"
      },
      "outputs": [],
      "source": [
        "# 문제 설명\n",
        "# 머쓱이네 옷가게는 10만 원 이상 사면 5%, 30만 원 이상 사면 10%, 50만 원 이상 사면 20%를 할인해줍니다.\n",
        "# 구매한 옷의 가격 price가 주어질 때, 지불해야 할 금액을 return 하도록 solution 함수를 완성해보세요.\n",
        "\n",
        "# 제한사항\n",
        "# 10 ≤ price ≤ 1,000,000\n",
        "# price는 10원 단위로(1의 자리가 0) 주어집니다.\n",
        "# 소수점 이하를 버린 정수를 return합니다.\n",
        "\n",
        "# 입출력 예\n",
        "# price\t        result\n",
        "# 150,000\t      142,500\n",
        "# 580,000\t      464,000\n",
        "\n",
        "# 입출력 예 설명\n",
        "# 입출력 예 #1\n",
        "# 150,000원에서 5%를 할인한 142,500원을 return 합니다.\n",
        "\n",
        "# 입출력 예 #2\n",
        "# 580,000원에서 20%를 할인한 464,000원을 return 합니다."
      ]
    },
    {
      "cell_type": "code",
      "source": [
        "def solution(price):\n",
        "    if price >= 100000 and price < 300000:\n",
        "      price = price * 0.95\n",
        "    elif price >= 300000 and price < 500000:\n",
        "      price = price * 0.9\n",
        "    elif price >= 500000:\n",
        "      price = price * 0.8\n",
        "    return int(price)"
      ],
      "metadata": {
        "id": "LIY3Y1P-x-Ag"
      },
      "execution_count": 14,
      "outputs": []
    },
    {
      "cell_type": "code",
      "source": [
        "price = 150000\n",
        "solution(price)"
      ],
      "metadata": {
        "colab": {
          "base_uri": "https://localhost:8080/"
        },
        "id": "_HfAEfSMy5P1",
        "outputId": "9218d0d3-4ec8-4eec-ac95-8ce90738a867"
      },
      "execution_count": 15,
      "outputs": [
        {
          "output_type": "execute_result",
          "data": {
            "text/plain": [
              "142500.0"
            ]
          },
          "metadata": {},
          "execution_count": 15
        }
      ]
    },
    {
      "cell_type": "code",
      "source": [
        "price = 580000\n",
        "solution(price)"
      ],
      "metadata": {
        "colab": {
          "base_uri": "https://localhost:8080/"
        },
        "id": "VZlyZ0tQy-6F",
        "outputId": "17fe824c-9c86-481d-b83f-9e2082fb2840"
      },
      "execution_count": 16,
      "outputs": [
        {
          "output_type": "execute_result",
          "data": {
            "text/plain": [
              "464000.0"
            ]
          },
          "metadata": {},
          "execution_count": 16
        }
      ]
    },
    {
      "cell_type": "code",
      "source": [
        "# 다른 사람 풀이"
      ],
      "metadata": {
        "id": "mj2s4MfRzOsl"
      },
      "execution_count": 17,
      "outputs": []
    },
    {
      "cell_type": "code",
      "source": [
        "# 깔끔하고 좋음\n",
        "#  조금 헷갈림\n",
        "def solution(price):\n",
        "    discount_rates = {500000: 0.8, 300000: 0.9, 100000: 0.95, 0: 1}\n",
        "    for discount_price, discount_rate in discount_rates.items():\n",
        "        if price >= discount_price:\n",
        "            return int(price * discount_rate)"
      ],
      "metadata": {
        "id": "G3ZxP3JM05jm"
      },
      "execution_count": 18,
      "outputs": []
    },
    {
      "cell_type": "code",
      "source": [
        "# 내랑 순서를 반대로 하니 조금더 간다함\n",
        "def solution(price):\n",
        "    if price>=500000:\n",
        "        price = price *0.8\n",
        "    elif price>=300000:\n",
        "        price = price *0.9\n",
        "    elif price>=100000:\n",
        "        price = price * 0.95\n",
        "    return int(price)"
      ],
      "metadata": {
        "id": "jQBYAD3c1Jk0"
      },
      "execution_count": 19,
      "outputs": []
    },
    {
      "cell_type": "code",
      "source": [
        "# 전혀 이해안가는 신기한 코드\n",
        "def solution(price):\n",
        "    return (100 - len([1 for k in [100000, 300000, 500000, 500000] if k<=price])*5) * price // 100\n"
      ],
      "metadata": {
        "id": "R50zOR_b1XRc"
      },
      "execution_count": 20,
      "outputs": []
    },
    {
      "cell_type": "code",
      "source": [
        "#  이렇게 한줄로도 가능\n",
        "def solution(price):\n",
        "    return int(price*0.8) if price>=500000 else int(price*0.9) if price>=300000 else int(price*0.95) if price>=100000 else price\n"
      ],
      "metadata": {
        "id": "D3zKHkgF1tNL"
      },
      "execution_count": null,
      "outputs": []
    }
  ]
}