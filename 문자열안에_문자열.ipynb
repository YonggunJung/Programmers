{
  "nbformat": 4,
  "nbformat_minor": 0,
  "metadata": {
    "colab": {
      "provenance": [],
      "authorship_tag": "ABX9TyNLXjjWwSwHFmuM8Yu1ti8M",
      "include_colab_link": true
    },
    "kernelspec": {
      "name": "python3",
      "display_name": "Python 3"
    },
    "language_info": {
      "name": "python"
    }
  },
  "cells": [
    {
      "cell_type": "markdown",
      "metadata": {
        "id": "view-in-github",
        "colab_type": "text"
      },
      "source": [
        "<a href=\"https://colab.research.google.com/github/YonggunJung/Programmers/blob/main/%EB%AC%B8%EC%9E%90%EC%97%B4%EC%95%88%EC%97%90_%EB%AC%B8%EC%9E%90%EC%97%B4.ipynb\" target=\"_parent\"><img src=\"https://colab.research.google.com/assets/colab-badge.svg\" alt=\"Open In Colab\"/></a>"
      ]
    },
    {
      "cell_type": "code",
      "execution_count": 1,
      "metadata": {
        "id": "-T9mqiARNyz1"
      },
      "outputs": [],
      "source": [
        "# 문제 설명\n",
        "# 문자열 str1, str2가 매개변수로 주어집니다.\n",
        "# str1 안에 str2가 있다면 1을 없다면 2를 return하도록\n",
        "# solution 함수를 완성해주세요.\n",
        "\n",
        "# 제한사항\n",
        "# 1 ≤ str1의 길이 ≤ 100\n",
        "# 1 ≤ str2의 길이 ≤ 100\n",
        "# 문자열은 알파벳 대문자, 소문자, 숫자로 구성되어 있습니다.\n",
        "\n",
        "# 입출력 예\n",
        "# str1\t                          str2\t      result\n",
        "# \"ab6CDE443fgh22iJKlmn1o\"\t      \"6CD\"\t        1\n",
        "# \"ppprrrogrammers\"\t              \"pppp\"\t      2\n",
        "# \"AbcAbcA\"\t                      \"AAA\"\t        2\n",
        "\n",
        "# 입출력 예 설명\n",
        "# 입출력 예 #1\n",
        "# \"ab6CDE443fgh22iJKlmn1o\" str1에 str2가 존재하므로 1을 return합니다.\n",
        "\n",
        "# 입출력 예 #2\n",
        "# \"ppprrrogrammers\" str1에 str2가 없으므로 2를 return합니다.\n",
        "\n",
        "# 입출력 예 #3\n",
        "# \"AbcAbcA\" str1에 str2가 없으므로 2를 return합니다."
      ]
    },
    {
      "cell_type": "code",
      "source": [
        "def solution(str1, str2):\n",
        "    if str2 in str1:\n",
        "        return 1\n",
        "    else:\n",
        "        return 2\n",
        "    return answer"
      ],
      "metadata": {
        "id": "iipYP66nOD3Y"
      },
      "execution_count": 6,
      "outputs": []
    },
    {
      "cell_type": "code",
      "source": [
        "str1 = \"ab6CDE443fgh22iJKlmn1o\"\n",
        "str2 = \"6CD\"\n",
        "solution(str1, str2)"
      ],
      "metadata": {
        "colab": {
          "base_uri": "https://localhost:8080/"
        },
        "id": "bYGG-gO5O-f2",
        "outputId": "05cf8ee0-df19-4b28-9023-ac413620cd2f"
      },
      "execution_count": 7,
      "outputs": [
        {
          "output_type": "execute_result",
          "data": {
            "text/plain": [
              "1"
            ]
          },
          "metadata": {},
          "execution_count": 7
        }
      ]
    },
    {
      "cell_type": "code",
      "source": [
        "str1 = \"ppprrrogrammers\"\n",
        "str2 = \"pppp\"\n",
        "solution(str1, str2)"
      ],
      "metadata": {
        "colab": {
          "base_uri": "https://localhost:8080/"
        },
        "id": "uhXhzHMCPHlS",
        "outputId": "59574b93-0e42-475b-f499-0cb9b23737a9"
      },
      "execution_count": 8,
      "outputs": [
        {
          "output_type": "execute_result",
          "data": {
            "text/plain": [
              "2"
            ]
          },
          "metadata": {},
          "execution_count": 8
        }
      ]
    },
    {
      "cell_type": "code",
      "source": [
        "str1 = \"AbcAbcA\"\n",
        "str2 = \"AAA\"\n",
        "solution(str1, str2)"
      ],
      "metadata": {
        "colab": {
          "base_uri": "https://localhost:8080/"
        },
        "id": "0pqsS51EPHMr",
        "outputId": "e105c038-95d5-4e4d-a0d5-cae039a11a20"
      },
      "execution_count": 9,
      "outputs": [
        {
          "output_type": "execute_result",
          "data": {
            "text/plain": [
              "2"
            ]
          },
          "metadata": {},
          "execution_count": 9
        }
      ]
    },
    {
      "cell_type": "code",
      "source": [
        "# 다른사람 풀이"
      ],
      "metadata": {
        "id": "8-rlbJRpPTa3"
      },
      "execution_count": 10,
      "outputs": []
    },
    {
      "cell_type": "code",
      "source": [
        "# 같은 풀이 짧은 코드\n",
        "def solution(str1, str2):\n",
        "    return 1 if str2 in str1 else 2"
      ],
      "metadata": {
        "id": "0NZzzqJnPh33"
      },
      "execution_count": 11,
      "outputs": []
    },
    {
      "cell_type": "code",
      "source": [
        "# 저건 True False를 쓴건가?\n",
        "def solution(str1, str2):\n",
        "    return 1 + int(str2 not in str1)"
      ],
      "metadata": {
        "id": "9fqUsvsSPlV3"
      },
      "execution_count": null,
      "outputs": []
    }
  ]
}