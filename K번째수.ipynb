{
  "nbformat": 4,
  "nbformat_minor": 0,
  "metadata": {
    "colab": {
      "provenance": [],
      "authorship_tag": "ABX9TyNNwrmwwasrj3pD41hLBNA9",
      "include_colab_link": true
    },
    "kernelspec": {
      "name": "python3",
      "display_name": "Python 3"
    },
    "language_info": {
      "name": "python"
    }
  },
  "cells": [
    {
      "cell_type": "markdown",
      "metadata": {
        "id": "view-in-github",
        "colab_type": "text"
      },
      "source": [
        "<a href=\"https://colab.research.google.com/github/YonggunJung/Programmers/blob/main/K%EB%B2%88%EC%A7%B8%EC%88%98.ipynb\" target=\"_parent\"><img src=\"https://colab.research.google.com/assets/colab-badge.svg\" alt=\"Open In Colab\"/></a>"
      ]
    },
    {
      "cell_type": "code",
      "execution_count": 1,
      "metadata": {
        "id": "NnpZ8JOFdw6R"
      },
      "outputs": [],
      "source": [
        "# 문제 설명\n",
        "# 배열 array의 i번째 숫자부터 j번째 숫자까지 자르고 정렬했을 때,\n",
        "# k번째에 있는 수를 구하려 합니다.\n",
        "\n",
        "# 예를 들어 array가 [1, 5, 2, 6, 3, 7, 4], i = 2, j = 5, k = 3이라면\n",
        "\n",
        "# array의 2번째부터 5번째까지 자르면 [5, 2, 6, 3]입니다.\n",
        "# 1에서 나온 배열을 정렬하면 [2, 3, 5, 6]입니다.\n",
        "# 2에서 나온 배열의 3번째 숫자는 5입니다.\n",
        "# 배열 array, [i, j, k]를 원소로 가진 2차원 배열 commands가 매개변수로 주어질 때,\n",
        "# commands의 모든 원소에 대해 앞서 설명한 연산을 적용했을 때 나온 결과를 배열에 담아\n",
        "# return 하도록 solution 함수를 작성해주세요.\n",
        "\n",
        "# 제한사항\n",
        "# array의 길이는 1 이상 100 이하입니다.\n",
        "# array의 각 원소는 1 이상 100 이하입니다.\n",
        "# commands의 길이는 1 이상 50 이하입니다.\n",
        "# commands의 각 원소는 길이가 3입니다.\n",
        "\n",
        "# 입출력 예\n",
        "# array\t                    commands\t                            return\n",
        "# [1, 5, 2, 6, 3, 7, 4]\t    [[2, 5, 3], [4, 4, 1], [1, 7, 3]]\t    [5, 6, 3]\n",
        "\n",
        "# 입출력 예 설명\n",
        "# [1, 5, 2, 6, 3, 7, 4]를 2번째부터 5번째까지 자른 후 정렬합니다.\n",
        "#  [2, 3, 5, 6]의 세 번째 숫자는 5입니다.\n",
        "\n",
        "# [1, 5, 2, 6, 3, 7, 4]를 4번째부터 4번째까지 자른 후 정렬합니다.\n",
        "#  [6]의 첫 번째 숫자는 6입니다.\n",
        "\n",
        "# [1, 5, 2, 6, 3, 7, 4]를 1번째부터 7번째까지 자릅니다.\n",
        "#  [1, 2, 3, 4, 5, 6, 7]의 세 번째 숫자는 3입니다."
      ]
    },
    {
      "cell_type": "code",
      "source": [
        "# 7분 걸림\n",
        "def solution(array, commands):\n",
        "    answer = []\n",
        "    for s, e, k in commands:\n",
        "      li = array[s-1:e]\n",
        "      li.sort()\n",
        "      answer.append(li[k-1])\n",
        "\n",
        "    return answer"
      ],
      "metadata": {
        "id": "G37OPgf0eAkd"
      },
      "execution_count": 2,
      "outputs": []
    },
    {
      "cell_type": "code",
      "source": [
        "\n",
        "# 람다식은 보면 알겠는데 짜진 못하겠음.\n",
        "# 계속 눈으로 익히는중\n",
        "def solution(array, commands):\n",
        "    return list(map(lambda x:sorted(array[x[0]-1:x[1]])[x[2]-1], commands))"
      ],
      "metadata": {
        "id": "1jud_amyfjiB"
      },
      "execution_count": null,
      "outputs": []
    }
  ]
}