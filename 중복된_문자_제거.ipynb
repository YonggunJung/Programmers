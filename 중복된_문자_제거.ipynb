{
  "nbformat": 4,
  "nbformat_minor": 0,
  "metadata": {
    "colab": {
      "provenance": [],
      "authorship_tag": "ABX9TyMIAHCORur2M5q5HIA/wj5a",
      "include_colab_link": true
    },
    "kernelspec": {
      "name": "python3",
      "display_name": "Python 3"
    },
    "language_info": {
      "name": "python"
    }
  },
  "cells": [
    {
      "cell_type": "markdown",
      "metadata": {
        "id": "view-in-github",
        "colab_type": "text"
      },
      "source": [
        "<a href=\"https://colab.research.google.com/github/YonggunJung/Programmers/blob/main/%EC%A4%91%EB%B3%B5%EB%90%9C_%EB%AC%B8%EC%9E%90_%EC%A0%9C%EA%B1%B0.ipynb\" target=\"_parent\"><img src=\"https://colab.research.google.com/assets/colab-badge.svg\" alt=\"Open In Colab\"/></a>"
      ]
    },
    {
      "cell_type": "code",
      "execution_count": null,
      "metadata": {
        "id": "nPSyApoqLi-A"
      },
      "outputs": [],
      "source": [
        "# 문제 설명\n",
        "# 문자열 my_string이 매개변수로 주어집니다.\n",
        "# my_string에서 중복된 문자를 제거하고 하나의 문자만 남긴 문자열을\n",
        "# return하도록 solution 함수를 완성해주세요.\n",
        "\n",
        "# 제한사항\n",
        "# 1 ≤ my_string ≤ 110\n",
        "# my_string은 대문자, 소문자, 공백으로 구성되어 있습니다.\n",
        "# 대문자와 소문자를 구분합니다.\n",
        "# 공백(\" \")도 하나의 문자로 구분합니다.\n",
        "# 중복된 문자 중 가장 앞에 있는 문자를 남깁니다.\n",
        "\n",
        "# 입출력 예\n",
        "# my_string\t                 result\n",
        "# \"people\"\t                 \"peol\"\n",
        "# \"We are the world\"\t       \"We arthwold\"\n",
        "\n",
        "# 입출력 예 설명\n",
        "# 입출력 예 #1\n",
        "# \"people\"에서 중복된 문자 \"p\"와 \"e\"을 제거한 \"peol\"을 return합니다.\n",
        "\n",
        "# 입출력 예 #2\n",
        "# \"We are the world\"에서 중복된 문자 \"e\", \" \", \"r\" 들을 제거한 \"We arthwold\"을 return합니다."
      ]
    },
    {
      "cell_type": "code",
      "source": [
        "# 디테일이 부족함 큰 그림은  그려지는데\n",
        "def solution(my_string):\n",
        "    answer = ''\n",
        "    for char in my_string:\n",
        "      if char in answer:\n",
        "        pass\n",
        "      else:\n",
        "        answer += char\n",
        "    return answer"
      ],
      "metadata": {
        "id": "0lrS8UXBLr2I"
      },
      "execution_count": 13,
      "outputs": []
    },
    {
      "cell_type": "code",
      "source": [
        "my_string = \"people\"\n",
        "solution(my_string)"
      ],
      "metadata": {
        "colab": {
          "base_uri": "https://localhost:8080/",
          "height": 35
        },
        "id": "3S8znnpTLr0g",
        "outputId": "e312dc39-8577-4637-c896-d9559542681e"
      },
      "execution_count": 14,
      "outputs": [
        {
          "output_type": "execute_result",
          "data": {
            "text/plain": [
              "'peol'"
            ],
            "application/vnd.google.colaboratory.intrinsic+json": {
              "type": "string"
            }
          },
          "metadata": {},
          "execution_count": 14
        }
      ]
    },
    {
      "cell_type": "code",
      "source": [
        "my_string = \"We are the world\"\n",
        "solution(my_string)"
      ],
      "metadata": {
        "colab": {
          "base_uri": "https://localhost:8080/",
          "height": 35
        },
        "id": "9iY47MYpLryM",
        "outputId": "029fc3b9-fb43-4a0a-b545-45339b4666dc"
      },
      "execution_count": 15,
      "outputs": [
        {
          "output_type": "execute_result",
          "data": {
            "text/plain": [
              "'We arthwold'"
            ],
            "application/vnd.google.colaboratory.intrinsic+json": {
              "type": "string"
            }
          },
          "metadata": {},
          "execution_count": 15
        }
      ]
    },
    {
      "cell_type": "code",
      "source": [
        "# 다른 사람 풀이"
      ],
      "metadata": {
        "id": "CuXW-TVVLrv7"
      },
      "execution_count": 16,
      "outputs": []
    },
    {
      "cell_type": "code",
      "source": [
        "# 와우 신기 하구만\n",
        "# 처음에 .join() 사용하려다가 실패 했는데 안에 dict.fromkeys()를 사용하니 가능하네\n",
        "def solution(my_string):\n",
        "    return ''.join(dict.fromkeys(my_string))"
      ],
      "metadata": {
        "id": "eNPEM-QLM4Tp"
      },
      "execution_count": 17,
      "outputs": []
    },
    {
      "cell_type": "code",
      "source": [
        "# 풀이랑 같은데 not in을 쓰면 조금더 간단\n",
        "def solution(my_string):\n",
        "    answer = ''\n",
        "    for i in my_string:\n",
        "        if i not in answer:\n",
        "            answer+=i\n",
        "    return answer"
      ],
      "metadata": {
        "id": "jkwNlJWBNMa4"
      },
      "execution_count": null,
      "outputs": []
    }
  ]
}