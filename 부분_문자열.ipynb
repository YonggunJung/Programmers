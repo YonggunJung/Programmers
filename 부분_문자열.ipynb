{
  "nbformat": 4,
  "nbformat_minor": 0,
  "metadata": {
    "colab": {
      "provenance": [],
      "authorship_tag": "ABX9TyM18FCbQ6zkMJZ5Iq+be8Db",
      "include_colab_link": true
    },
    "kernelspec": {
      "name": "python3",
      "display_name": "Python 3"
    },
    "language_info": {
      "name": "python"
    }
  },
  "cells": [
    {
      "cell_type": "markdown",
      "metadata": {
        "id": "view-in-github",
        "colab_type": "text"
      },
      "source": [
        "<a href=\"https://colab.research.google.com/github/YonggunJung/Programmers/blob/main/%EB%B6%80%EB%B6%84_%EB%AC%B8%EC%9E%90%EC%97%B4.ipynb\" target=\"_parent\"><img src=\"https://colab.research.google.com/assets/colab-badge.svg\" alt=\"Open In Colab\"/></a>"
      ]
    },
    {
      "cell_type": "code",
      "execution_count": null,
      "metadata": {
        "id": "fI9NabSfDIiw"
      },
      "outputs": [],
      "source": [
        "# 문제 설명\n",
        "# 어떤 문자열 A가 다른 문자열 B안에 속하면 A를 B의 부분 문자열이라고 합니다.\n",
        "# 예를 들어 문자열 \"abc\"는 문자열 \"aabcc\"의 부분 문자열입니다.\n",
        "\n",
        "# 문자열 str1과 str2가 주어질 때,\n",
        "# str1이 str2의 부분 문자열이라면 1을 부분 문자열이 아니라면 0을\n",
        "# return하도록 solution 함수를 완성해주세요.\n",
        "\n",
        "# 제한 사항\n",
        "# 1 ≤ str1 ≤ str2 ≤ 20\n",
        "# str1과 str2는 영어 소문자로만 이루어져 있습니다.\n",
        "\n",
        "# 입출력 예\n",
        "# str1\t      str2\t        result\n",
        "# \"abc\"\t      \"aabcc\"\t        1\n",
        "# \"tbt\"\t      \"tbbttb\"\t      0\n",
        "\n",
        "# 입출력 예 설명\n",
        "# 입출력 예 #1\n",
        "# 본문과 동일합니다.\n",
        "\n",
        "# 입출력 예 #2\n",
        "# \"tbbttb\"에는 \"tbt\"가 없으므로 0을 return합니다."
      ]
    },
    {
      "cell_type": "code",
      "source": [
        "def solution(str1, str2):\n",
        "    answer = 0\n",
        "    if str1 in str2:\n",
        "      answer = 1\n",
        "    return answer"
      ],
      "metadata": {
        "id": "WWNxkCPXDQ5B"
      },
      "execution_count": 1,
      "outputs": []
    },
    {
      "cell_type": "code",
      "source": [
        "str1 = \"abc\"\n",
        "str2 = \"aabcc\"\n",
        "solution(str1, str2)"
      ],
      "metadata": {
        "id": "2iN78oaGDShf",
        "colab": {
          "base_uri": "https://localhost:8080/"
        },
        "outputId": "e83bd659-d079-4a30-aed4-52e14b93cace"
      },
      "execution_count": 2,
      "outputs": [
        {
          "output_type": "execute_result",
          "data": {
            "text/plain": [
              "1"
            ]
          },
          "metadata": {},
          "execution_count": 2
        }
      ]
    },
    {
      "cell_type": "code",
      "source": [
        "str1 = \"tbt\"\n",
        "str2 = \"tbbttb\"\n",
        "solution(str1, str2)"
      ],
      "metadata": {
        "id": "effaytGRDVVI",
        "colab": {
          "base_uri": "https://localhost:8080/"
        },
        "outputId": "e85aaee1-8b15-46a0-93af-8d5d0d45bb3c"
      },
      "execution_count": 3,
      "outputs": [
        {
          "output_type": "execute_result",
          "data": {
            "text/plain": [
              "0"
            ]
          },
          "metadata": {},
          "execution_count": 3
        }
      ]
    },
    {
      "cell_type": "code",
      "source": [
        "# 다른 사람 풀이"
      ],
      "metadata": {
        "id": "cid61TPoDVZK"
      },
      "execution_count": 4,
      "outputs": []
    },
    {
      "cell_type": "code",
      "source": [
        "def solution(str1, str2):\n",
        "    return int(str1 in str2)"
      ],
      "metadata": {
        "id": "yWLdh5Wl5aIp"
      },
      "execution_count": 5,
      "outputs": []
    },
    {
      "cell_type": "code",
      "source": [
        "def solution(str1, str2):\n",
        "    return 1 if str1 in str2 else 0"
      ],
      "metadata": {
        "id": "u7kxzkZQ5eBY"
      },
      "execution_count": 6,
      "outputs": []
    },
    {
      "cell_type": "code",
      "source": [],
      "metadata": {
        "id": "3YN9jq285fyR"
      },
      "execution_count": null,
      "outputs": []
    }
  ]
}