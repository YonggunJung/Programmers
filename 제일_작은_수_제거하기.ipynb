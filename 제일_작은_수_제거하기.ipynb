{
  "nbformat": 4,
  "nbformat_minor": 0,
  "metadata": {
    "colab": {
      "provenance": [],
      "authorship_tag": "ABX9TyPXkevwM72Sq8360+EkHM7e",
      "include_colab_link": true
    },
    "kernelspec": {
      "name": "python3",
      "display_name": "Python 3"
    },
    "language_info": {
      "name": "python"
    }
  },
  "cells": [
    {
      "cell_type": "markdown",
      "metadata": {
        "id": "view-in-github",
        "colab_type": "text"
      },
      "source": [
        "<a href=\"https://colab.research.google.com/github/YonggunJung/Programmers/blob/main/%EC%A0%9C%EC%9D%BC_%EC%9E%91%EC%9D%80_%EC%88%98_%EC%A0%9C%EA%B1%B0%ED%95%98%EA%B8%B0.ipynb\" target=\"_parent\"><img src=\"https://colab.research.google.com/assets/colab-badge.svg\" alt=\"Open In Colab\"/></a>"
      ]
    },
    {
      "cell_type": "code",
      "execution_count": 1,
      "metadata": {
        "id": "Ew3GvhhIkVBs"
      },
      "outputs": [],
      "source": [
        "# 문제 설명\n",
        "# 정수를 저장한 배열,\n",
        "# arr 에서 가장 작은 수를 제거한 배열을 리턴하는 함수,\n",
        "# solution을 완성해주세요.\n",
        "# 단, 리턴하려는 배열이 빈 배열인 경우엔 배열에 -1을 채워 리턴하세요.\n",
        "# 예를들어 arr이 [4,3,2,1]인 경우는 [4,3,2]를 리턴 하고,\n",
        "#  [10]면 [-1]을 리턴 합니다.\n",
        "\n",
        "# 제한 조건\n",
        "# arr은 길이 1 이상인 배열입니다.\n",
        "# 인덱스 i, j에 대해 i ≠ j이면 arr[i] ≠ arr[j] 입니다.\n",
        "\n",
        "# 입출력 예\n",
        "# arr\t          return\n",
        "# [4,3,2,1]\t    [4,3,2]\n",
        "# [10]\t        [-1]"
      ]
    },
    {
      "cell_type": "code",
      "source": [
        "def solution(arr):\n",
        "    arr.remove(min(arr))\n",
        "    if len(arr) == 0:\n",
        "        arr = [-1]\n",
        "\n",
        "    return arr"
      ],
      "metadata": {
        "id": "NLO4pDeSkbAr"
      },
      "execution_count": 2,
      "outputs": []
    },
    {
      "cell_type": "code",
      "source": [
        "# 다른 사람 풀이\n",
        "# return [i for i in mylist if i > min(mylist)]"
      ],
      "metadata": {
        "id": "igQ-G3bQllVT"
      },
      "execution_count": null,
      "outputs": []
    }
  ]
}