{
  "nbformat": 4,
  "nbformat_minor": 0,
  "metadata": {
    "colab": {
      "provenance": [],
      "authorship_tag": "ABX9TyPlQcxaUSpR9bmijoMckQfm",
      "include_colab_link": true
    },
    "kernelspec": {
      "name": "python3",
      "display_name": "Python 3"
    },
    "language_info": {
      "name": "python"
    }
  },
  "cells": [
    {
      "cell_type": "markdown",
      "metadata": {
        "id": "view-in-github",
        "colab_type": "text"
      },
      "source": [
        "<a href=\"https://colab.research.google.com/github/YonggunJung/Programmers/blob/main/%EC%99%B8%EA%B3%84%ED%96%89%EC%84%B1%EC%9D%98_%EB%82%98%EC%9D%B4.ipynb\" target=\"_parent\"><img src=\"https://colab.research.google.com/assets/colab-badge.svg\" alt=\"Open In Colab\"/></a>"
      ]
    },
    {
      "cell_type": "code",
      "execution_count": 1,
      "metadata": {
        "id": "YO_AX4GX3jo8"
      },
      "outputs": [],
      "source": [
        "# 문제 설명\n",
        "# 우주여행을 하던 머쓱이는 엔진 고장으로 PROGRAMMERS-962 행성에 불시착하게 됐습니다.\n",
        "# 입국심사에서 나이를 말해야 하는데,\n",
        "# PROGRAMMERS-962 행성에서는 나이를 알파벳으로 말하고 있습니다.\n",
        "# a는 0, b는 1, c는 2, ..., j는 9입니다.\n",
        "# 예를 들어 23살은 cd, 51살은 fb로 표현합니다.\n",
        "# 나이 age가 매개변수로 주어질 때 PROGRAMMER-962식 나이를 return하도록 solution 함수를 완성해주세요.\n",
        "\n",
        "# 제한사항\n",
        "# age는 자연수입니다.\n",
        "# age ≤ 1,000\n",
        "# PROGRAMMERS-962 행성은 알파벳 소문자만 사용합니다.\n",
        "\n",
        "# 입출력 예\n",
        "# age\t        result\n",
        "# 23\t        \"cd\"\n",
        "# 51\t        \"fb\"\n",
        "# 100\t        \"baa\"\n",
        "\n",
        "# 입출력 예 설명\n",
        "# 입출력 예 #1\n",
        "# age가 23이므로 \"cd\"를 return합니다.\n",
        "\n",
        "# 입출력 예 #2\n",
        "# age가 51이므로 \"fb\"를 return합니다.\n",
        "\n",
        "# 입출력 예 #3\n",
        "# age가 100이므로 \"baa\"를 return합니다."
      ]
    },
    {
      "cell_type": "code",
      "source": [
        "# 풀이 봄\n",
        "# 이해는 했는데 다시봐도 떠오르진 않을 느낌 ㅠㅠ\n",
        "def solution(age):\n",
        "    answer = \"\"\n",
        "    a = \"abcdefghij\"\n",
        "    for num in str(age):\n",
        "      answer += a[int(num)]\n",
        "    return answer"
      ],
      "metadata": {
        "id": "Xhwfh-st3vzH"
      },
      "execution_count": 13,
      "outputs": []
    },
    {
      "cell_type": "code",
      "source": [
        "age = 23\n",
        "solution(age)"
      ],
      "metadata": {
        "colab": {
          "base_uri": "https://localhost:8080/",
          "height": 35
        },
        "id": "_ZSTRGnH5BCm",
        "outputId": "099ed323-b062-45ec-ff2a-65450a48d365"
      },
      "execution_count": 14,
      "outputs": [
        {
          "output_type": "execute_result",
          "data": {
            "text/plain": [
              "'cd'"
            ],
            "application/vnd.google.colaboratory.intrinsic+json": {
              "type": "string"
            }
          },
          "metadata": {},
          "execution_count": 14
        }
      ]
    },
    {
      "cell_type": "code",
      "source": [
        "age = 51\n",
        "solution(age)"
      ],
      "metadata": {
        "colab": {
          "base_uri": "https://localhost:8080/",
          "height": 35
        },
        "id": "VLMXjvh15Gjl",
        "outputId": "2eaea34e-a731-40f5-a680-e8b51d020839"
      },
      "execution_count": 15,
      "outputs": [
        {
          "output_type": "execute_result",
          "data": {
            "text/plain": [
              "'fb'"
            ],
            "application/vnd.google.colaboratory.intrinsic+json": {
              "type": "string"
            }
          },
          "metadata": {},
          "execution_count": 15
        }
      ]
    },
    {
      "cell_type": "code",
      "source": [
        "age = 100\n",
        "solution(age)"
      ],
      "metadata": {
        "colab": {
          "base_uri": "https://localhost:8080/",
          "height": 35
        },
        "id": "n2pwKojj5Ghi",
        "outputId": "4854a2e3-ae7f-4d52-f771-a9239ac8989e"
      },
      "execution_count": 16,
      "outputs": [
        {
          "output_type": "execute_result",
          "data": {
            "text/plain": [
              "'baa'"
            ],
            "application/vnd.google.colaboratory.intrinsic+json": {
              "type": "string"
            }
          },
          "metadata": {},
          "execution_count": 16
        }
      ]
    },
    {
      "cell_type": "code",
      "source": [
        "# 다른 사람 풀이"
      ],
      "metadata": {
        "id": "wap14T1E5KDP"
      },
      "execution_count": 17,
      "outputs": []
    },
    {
      "cell_type": "code",
      "source": [
        "# 역시 노가다 만한게 없음 ㅋㅋㅋㅋ\n",
        "def solution(age):\n",
        "    age = str(age)\n",
        "    age = age.replace(\"0\", \"a\")\n",
        "    age = age.replace(\"1\", \"b\")\n",
        "    age = age.replace(\"2\", \"c\")\n",
        "    age = age.replace(\"3\", \"d\")\n",
        "    age = age.replace(\"4\", \"e\")\n",
        "    age = age.replace(\"5\", \"f\")\n",
        "    age = age.replace(\"6\", \"g\")\n",
        "    age = age.replace(\"7\", \"h\")\n",
        "    age = age.replace(\"8\", \"i\")\n",
        "    age = age.replace(\"9\", \"j\")\n",
        "    return age"
      ],
      "metadata": {
        "id": "yWVOoBEc7L_m"
      },
      "execution_count": 18,
      "outputs": []
    },
    {
      "cell_type": "code",
      "source": [
        "# 유니 코드 이용한거라는데 전혀 이해는 안감\n",
        "def solution(age):\n",
        "\n",
        "    return ''.join([chr(int(i)+97) for i in str(age)])"
      ],
      "metadata": {
        "id": "DliPDXPV7McE"
      },
      "execution_count": 19,
      "outputs": []
    },
    {
      "cell_type": "code",
      "source": [
        "# 나도 처음에 딕셔너리 이용하려 했는데 리턴을 못시킴 ㅠㅠ\n",
        "def solution(age):\n",
        "    conv = {'0':'a','1':'b','2':'c','3':'d','4':'e'\n",
        "            ,'5':'f','6':'g','7':'h','8':'i','9':'j'}\n",
        "    return ''.join(conv[i] for i in str(age))"
      ],
      "metadata": {
        "id": "QzCY7j5t7cDc"
      },
      "execution_count": 20,
      "outputs": []
    },
    {
      "cell_type": "code",
      "source": [
        "# 뭔가 딱 맘에 드는건 없는데 그나마 이게 젤 이해하기 쉬움\n",
        "def solution(age):\n",
        "    str_age = str(age)\n",
        "    answer = ''\n",
        "    lst =[\"a\",\"b\",\"c\",\"d\",\"e\",\"f\",\"g\",\"h\",\"i\",\"j\"]\n",
        "    for ch in str_age:\n",
        "        for i in range(0,10):\n",
        "            if int(ch) == i:\n",
        "                answer += lst[i]\n",
        "    return answer"
      ],
      "metadata": {
        "id": "vQhaurGq7uA8"
      },
      "execution_count": null,
      "outputs": []
    }
  ]
}