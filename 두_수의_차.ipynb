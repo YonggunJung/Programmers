{
  "nbformat": 4,
  "nbformat_minor": 0,
  "metadata": {
    "colab": {
      "provenance": [],
      "authorship_tag": "ABX9TyMEQYt20k5Womf6a9xKa5GG",
      "include_colab_link": true
    },
    "kernelspec": {
      "name": "python3",
      "display_name": "Python 3"
    },
    "language_info": {
      "name": "python"
    }
  },
  "cells": [
    {
      "cell_type": "markdown",
      "metadata": {
        "id": "view-in-github",
        "colab_type": "text"
      },
      "source": [
        "<a href=\"https://colab.research.google.com/github/YonggunJung/Programmers/blob/main/%EB%91%90_%EC%88%98%EC%9D%98_%EC%B0%A8.ipynb\" target=\"_parent\"><img src=\"https://colab.research.google.com/assets/colab-badge.svg\" alt=\"Open In Colab\"/></a>"
      ]
    },
    {
      "cell_type": "code",
      "execution_count": 2,
      "metadata": {
        "id": "JvdzaZN8JkT3"
      },
      "outputs": [],
      "source": [
        "# 문제 설명\n",
        "# 정수 num1과 num2가 주어질 때, num1에서 num2를 뺀 값을 return하도록 soltuion 함수를 완성해주세요.\n",
        "\n",
        "# 제한사항\n",
        "# -50000 ≤ num1 ≤ 50000\n",
        "# -50000 ≤ num2 ≤ 50000\n",
        "\n",
        "# 입출력 예\n",
        "# num1\tnum2\tresult\n",
        "#   2\t    3\t     -1\n",
        "# 100\t    2\t     98\n",
        "\n",
        "# 입출력 예 설명\n",
        "# 입출력 예 #1\n",
        "# num1이 2이고 num2가 3이므로 2 - 3 = -1을 return합니다.\n",
        "\n",
        "# 입출력 예 #2\n",
        "# num1이 100이고 num2가 2이므로 100 - 2 = 98을 return합니다."
      ]
    },
    {
      "cell_type": "code",
      "source": [
        "def solution(num1, num2):\n",
        "    answer = 0\n",
        "    answer = num1 - num2\n",
        "    return answer"
      ],
      "metadata": {
        "id": "JH7m1EcYJuBO"
      },
      "execution_count": 3,
      "outputs": []
    },
    {
      "cell_type": "code",
      "source": [
        "solution(2, 3)"
      ],
      "metadata": {
        "colab": {
          "base_uri": "https://localhost:8080/"
        },
        "id": "QDPW8LVdJt8H",
        "outputId": "d75d91b0-f8b3-4788-f3a2-c2f659e2eb18"
      },
      "execution_count": 4,
      "outputs": [
        {
          "output_type": "execute_result",
          "data": {
            "text/plain": [
              "-1"
            ]
          },
          "metadata": {},
          "execution_count": 4
        }
      ]
    },
    {
      "cell_type": "code",
      "source": [
        "solution(100, 2)"
      ],
      "metadata": {
        "colab": {
          "base_uri": "https://localhost:8080/"
        },
        "id": "xzrUsaOzJ8oM",
        "outputId": "9440578b-0101-4061-c667-9e9119210f65"
      },
      "execution_count": 5,
      "outputs": [
        {
          "output_type": "execute_result",
          "data": {
            "text/plain": [
              "98"
            ]
          },
          "metadata": {},
          "execution_count": 5
        }
      ]
    },
    {
      "cell_type": "code",
      "source": [],
      "metadata": {
        "id": "BhzIMgkBJ_UC"
      },
      "execution_count": null,
      "outputs": []
    }
  ]
}