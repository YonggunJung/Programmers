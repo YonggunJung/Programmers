{
  "nbformat": 4,
  "nbformat_minor": 0,
  "metadata": {
    "colab": {
      "provenance": [],
      "authorship_tag": "ABX9TyP2GZqnjxC+JVehiZ+5PCkM",
      "include_colab_link": true
    },
    "kernelspec": {
      "name": "python3",
      "display_name": "Python 3"
    },
    "language_info": {
      "name": "python"
    }
  },
  "cells": [
    {
      "cell_type": "markdown",
      "metadata": {
        "id": "view-in-github",
        "colab_type": "text"
      },
      "source": [
        "<a href=\"https://colab.research.google.com/github/YonggunJung/Programmers/blob/main/3%EC%A7%84%EB%B2%95_%EB%92%A4%EC%A7%91%EA%B8%B0.ipynb\" target=\"_parent\"><img src=\"https://colab.research.google.com/assets/colab-badge.svg\" alt=\"Open In Colab\"/></a>"
      ]
    },
    {
      "cell_type": "code",
      "execution_count": 1,
      "metadata": {
        "id": "r1tL-xJh5mjp"
      },
      "outputs": [],
      "source": [
        "# 문제 설명\n",
        "# 자연수 n이 매개변수로 주어집니다. n을 3진법 상에서 앞뒤로 뒤집은 후,\n",
        "# 이를 다시 10진법으로 표현한 수를 return 하도록\n",
        "# solution 함수를 완성해주세요.\n",
        "\n",
        "# 제한사항\n",
        "# n은 1 이상 100,000,000 이하인 자연수입니다.\n",
        "\n",
        "# 입출력 예\n",
        "# n\tresult\n",
        "# 45\t7\n",
        "# 125\t229\n",
        "# 입출력 예 설명\n",
        "# 입출력 예 #1\n",
        "# 답을 도출하는 과정은 다음과 같습니다.\n",
        "# n (10진법)\tn (3진법)\t앞뒤 반전(3진법)\t10진법으로 표현\n",
        "# 45\t1200\t0021\t7\n",
        "# 따라서 7을 return 해야 합니다.\n",
        "\n",
        "# 입출력 예 #2\n",
        "# 답을 도출하는 과정은 다음과 같습니다.\n",
        "# n (10진법)\tn (3진법)\t앞뒤 반전(3진법)\t10진법으로 표현\n",
        "# 125\t11122\t22111\t229\n",
        "# 따라서 229를 return 해야 합니다."
      ]
    },
    {
      "cell_type": "code",
      "source": [
        "# 역시 파이썬이구만\n",
        "def solution(n):\n",
        "    answer = 0\n",
        "    s = \"\"\n",
        "    while n > 0:\n",
        "        # divmod(a, b)는 a를 b로 나눈 몫과 나머지를 튜플 형태로 반환\n",
        "        n, r = divmod(n, 3)\n",
        "        s += str(r)\n",
        "    # int(s, 3)는 3진수 문자열을 10진수 정수로 변환\n",
        "    answer = int(s, 3)\n",
        "    return answer"
      ],
      "metadata": {
        "id": "r4TOdSdI5tNd"
      },
      "execution_count": 2,
      "outputs": []
    },
    {
      "cell_type": "code",
      "source": [
        "# 다른 사람 풀이\n",
        "def solution(n):\n",
        "    tmp = ''\n",
        "    while n:\n",
        "        tmp += str(n % 3)\n",
        "        n = n // 3\n",
        "\n",
        "    answer = int(tmp, 3)\n",
        "    return answer"
      ],
      "metadata": {
        "id": "sfvb9mkD7Az4"
      },
      "execution_count": 3,
      "outputs": []
    },
    {
      "cell_type": "code",
      "source": [],
      "metadata": {
        "id": "DCFNP5tk7BiN"
      },
      "execution_count": null,
      "outputs": []
    }
  ]
}