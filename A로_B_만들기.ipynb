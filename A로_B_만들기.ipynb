{
  "nbformat": 4,
  "nbformat_minor": 0,
  "metadata": {
    "colab": {
      "provenance": [],
      "authorship_tag": "ABX9TyMa2p5Z+QfUKsh+jA0rQd9f",
      "include_colab_link": true
    },
    "kernelspec": {
      "name": "python3",
      "display_name": "Python 3"
    },
    "language_info": {
      "name": "python"
    }
  },
  "cells": [
    {
      "cell_type": "markdown",
      "metadata": {
        "id": "view-in-github",
        "colab_type": "text"
      },
      "source": [
        "<a href=\"https://colab.research.google.com/github/YonggunJung/Programmers/blob/main/A%EB%A1%9C_B_%EB%A7%8C%EB%93%A4%EA%B8%B0.ipynb\" target=\"_parent\"><img src=\"https://colab.research.google.com/assets/colab-badge.svg\" alt=\"Open In Colab\"/></a>"
      ]
    },
    {
      "cell_type": "code",
      "execution_count": 1,
      "metadata": {
        "id": "9H6TvhXIaHpB"
      },
      "outputs": [],
      "source": [
        "# 문제 설명\n",
        "# 문자열 before와 after가 매개변수로 주어질 때,\n",
        "# before의 순서를 바꾸어 after를 만들 수 있으면 1을, 만들 수 없으면 0을\n",
        "# return 하도록 solution 함수를 완성해보세요.\n",
        "\n",
        "# 제한사항\n",
        "# 0 < before의 길이 == after의 길이 < 1,000\n",
        "# before와 after는 모두 소문자로 이루어져 있습니다.\n",
        "\n",
        "# 입출력 예\n",
        "# before\t      after\t        result\n",
        "# \"olleh\"\t      \"hello\"\t        1\n",
        "# \"allpe\"\t      \"apple\"\t        0\n",
        "\n",
        "# 입출력 예 설명\n",
        "# 입출력 예 #1\n",
        "# \"olleh\"의 순서를 바꾸면 \"hello\"를 만들 수 있습니다.\n",
        "\n",
        "# 입출력 예 #2\n",
        "# \"allpe\"의 순서를 바꿔도 \"apple\"을 만들 수 없습니다."
      ]
    },
    {
      "cell_type": "code",
      "source": [
        "# 아직 문자열 다루는게 서투네 ㅠㅠ 슬프네\n",
        "# char가 알파벳 하나하나 다 들어가서 좀 힘들었음  += 해보고 알았음\n",
        "# 풀이 봄\n",
        "def solution(before, after):\n",
        "  answer = 1\n",
        "  for char in 'abcdefghijklmnopqrstuvwxyz':\n",
        "    if before.count(char) == after.count(char):\n",
        "      pass\n",
        "    else:\n",
        "      answer = 0\n",
        "\n",
        "  return answer"
      ],
      "metadata": {
        "id": "f51Kdt6GaRKh"
      },
      "execution_count": 66,
      "outputs": []
    },
    {
      "cell_type": "code",
      "source": [
        "before = \"olleh\"\n",
        "after = \"hello\"\n",
        "solution(before, after)"
      ],
      "metadata": {
        "colab": {
          "base_uri": "https://localhost:8080/"
        },
        "id": "ljO79vwHaSf5",
        "outputId": "66d5e1e6-5e9b-4586-d329-d1ad134c65ed"
      },
      "execution_count": 67,
      "outputs": [
        {
          "output_type": "execute_result",
          "data": {
            "text/plain": [
              "1"
            ]
          },
          "metadata": {},
          "execution_count": 67
        }
      ]
    },
    {
      "cell_type": "code",
      "source": [
        "before = \"allpe\"\n",
        "after = \"apple\"\n",
        "solution(before, after)"
      ],
      "metadata": {
        "colab": {
          "base_uri": "https://localhost:8080/"
        },
        "id": "J1qGbmv2aSZw",
        "outputId": "1d2ef2bc-4284-4b82-b2b0-89a2328e94e2"
      },
      "execution_count": 68,
      "outputs": [
        {
          "output_type": "execute_result",
          "data": {
            "text/plain": [
              "0"
            ]
          },
          "metadata": {},
          "execution_count": 68
        }
      ]
    },
    {
      "cell_type": "code",
      "source": [
        "# 다른 사람 풀이"
      ],
      "metadata": {
        "id": "OS8_h_VGaSXh"
      },
      "execution_count": 69,
      "outputs": []
    },
    {
      "cell_type": "code",
      "source": [
        "# 이런 쉬운 방법이 있었네\n",
        "# 난 쑈를 했네\n",
        "def solution(before, after):\n",
        "    before=sorted(before)\n",
        "    after=sorted(after)\n",
        "    if before==after:\n",
        "        return 1\n",
        "    else:\n",
        "        return 0"
      ],
      "metadata": {
        "id": "Ran3HRfmgWBw"
      },
      "execution_count": 70,
      "outputs": []
    },
    {
      "cell_type": "code",
      "source": [
        "# 하 현타 오네\n",
        "def solution(before, after):\n",
        "    return 1 if sorted(before)==sorted(after) else 0"
      ],
      "metadata": {
        "id": "r9Na7Z39gbCY"
      },
      "execution_count": 71,
      "outputs": []
    },
    {
      "cell_type": "code",
      "source": [],
      "metadata": {
        "id": "sfIh9ZsZggUR"
      },
      "execution_count": null,
      "outputs": []
    }
  ]
}