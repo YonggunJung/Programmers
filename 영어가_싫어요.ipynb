{
  "nbformat": 4,
  "nbformat_minor": 0,
  "metadata": {
    "colab": {
      "provenance": [],
      "authorship_tag": "ABX9TyNGZg8zofbH5j5ijbp+l+PT",
      "include_colab_link": true
    },
    "kernelspec": {
      "name": "python3",
      "display_name": "Python 3"
    },
    "language_info": {
      "name": "python"
    }
  },
  "cells": [
    {
      "cell_type": "markdown",
      "metadata": {
        "id": "view-in-github",
        "colab_type": "text"
      },
      "source": [
        "<a href=\"https://colab.research.google.com/github/YonggunJung/Programmers/blob/main/%EC%98%81%EC%96%B4%EA%B0%80_%EC%8B%AB%EC%96%B4%EC%9A%94.ipynb\" target=\"_parent\"><img src=\"https://colab.research.google.com/assets/colab-badge.svg\" alt=\"Open In Colab\"/></a>"
      ]
    },
    {
      "cell_type": "code",
      "execution_count": 1,
      "metadata": {
        "id": "Gcb3xBH2FMqq"
      },
      "outputs": [],
      "source": [
        "# 문제 설명\n",
        "# 영어가 싫은 머쓱이는 영어로 표기되어있는 숫자를 수로 바꾸려고 합니다.\n",
        "# 문자열 numbers가 매개변수로 주어질 때, numbers를 정수로 바꿔\n",
        "# return 하도록 solution 함수를 완성해 주세요.\n",
        "\n",
        "# 제한사항\n",
        "# numbers는 소문자로만 구성되어 있습니다.\n",
        "# numbers는 \"zero\", \"one\", \"two\", \"three\", \"four\", \"five\", \"six\", \"seven\", \"eight\", \"nine\" 들이\n",
        "# 공백 없이 조합되어 있습니다.\n",
        "\n",
        "# 1 ≤ numbers의 길이 ≤ 50\n",
        "# \"zero\"는 numbers의 맨 앞에 올 수 없습니다.\n",
        "\n",
        "# 입출력 예\n",
        "# numbers\t                                      result\n",
        "# \"onetwothreefourfivesixseveneightnine\"\t      123456789\n",
        "# \"onefourzerosixseven\"\t                        14067\n",
        "\n",
        "# 입출력 예 설명\n",
        "# 입출력 예 #1\n",
        "# \"onetwothreefourfivesixseveneightnine\"를 숫자로 바꾼 123456789를 return합니다.\n",
        "\n",
        "# 입출력 예 #1\n",
        "# \"onefourzerosixseven\"를 숫자로 바꾼 14067를 return합니다."
      ]
    },
    {
      "cell_type": "code",
      "source": [
        "# 딕셔너리, replace()다 실패\n",
        "def solution(numbers):\n",
        "    answer = 0\n",
        "    while numbers:\n",
        "      answer *= 10\n",
        "      if numbers[:4] == 'zero':\n",
        "        answer += 0\n",
        "        numbers = numbers[4:]\n",
        "      elif numbers[:3] == 'one':\n",
        "        answer += 1\n",
        "        numbers = numbers[3:]\n",
        "      elif numbers[:3] == 'two':\n",
        "        answer += 2\n",
        "        numbers = numbers[3:]\n",
        "      elif numbers[:5] == 'three':\n",
        "        answer += 3\n",
        "        numbers = numbers[5:]\n",
        "      elif numbers[:4] == 'four':\n",
        "        answer += 4\n",
        "        numbers = numbers[4:]\n",
        "      elif numbers[:4] == 'five':\n",
        "        answer += 5\n",
        "        numbers = numbers[4:]\n",
        "      elif numbers[:3] == 'six':\n",
        "        answer += 6\n",
        "        numbers = numbers[3:]\n",
        "      elif numbers[:5] == 'seven':\n",
        "        answer += 7\n",
        "        numbers = numbers[5:]\n",
        "      elif numbers[:5] == 'eight':\n",
        "        answer += 8\n",
        "        numbers = numbers[5:]\n",
        "      elif numbers[:4] == 'nine':\n",
        "        answer += 9\n",
        "        numbers = numbers[4:]\n",
        "    return answer\n",
        "  # 약간 노가다에 생각도 해야함"
      ],
      "metadata": {
        "id": "UrKUYJuGFZxx"
      },
      "execution_count": 35,
      "outputs": []
    },
    {
      "cell_type": "code",
      "source": [
        "numbers = \"onetwothreefourfivesixseveneightnine\"\n",
        "solution(numbers)"
      ],
      "metadata": {
        "colab": {
          "base_uri": "https://localhost:8080/"
        },
        "id": "UzGulo0tFcCg",
        "outputId": "7f4d3b5d-ae29-4f1e-a2e7-7fc25f90183c"
      },
      "execution_count": 36,
      "outputs": [
        {
          "output_type": "execute_result",
          "data": {
            "text/plain": [
              "123456789"
            ]
          },
          "metadata": {},
          "execution_count": 36
        }
      ]
    },
    {
      "cell_type": "code",
      "source": [
        "numbers = \"onefourzerosixseven\"\n",
        "solution(numbers)"
      ],
      "metadata": {
        "colab": {
          "base_uri": "https://localhost:8080/"
        },
        "id": "5G0MZWgrFfSK",
        "outputId": "64891776-fbfb-47c5-fc73-5344933efef6"
      },
      "execution_count": 37,
      "outputs": [
        {
          "output_type": "execute_result",
          "data": {
            "text/plain": [
              "14067"
            ]
          },
          "metadata": {},
          "execution_count": 37
        }
      ]
    },
    {
      "cell_type": "code",
      "source": [
        "# 다른 사람 풀이"
      ],
      "metadata": {
        "id": "QOpBnIdUFfJ-"
      },
      "execution_count": null,
      "outputs": []
    },
    {
      "cell_type": "code",
      "source": [
        "# 이런 생각을 참 잘하네, 와우\n",
        "def solution(numbers):\n",
        "    for num, eng in enumerate([\"zero\", \"one\", \"two\", \"three\", \"four\", \"five\", \"six\", \"seven\", \"eight\", \"nine\"]):\n",
        "        numbers = numbers.replace(eng, str(num))\n",
        "    return int(numbers)"
      ],
      "metadata": {
        "id": "lH6D6mRynwcF"
      },
      "execution_count": 38,
      "outputs": []
    },
    {
      "cell_type": "code",
      "source": [
        "# 딕셔너리 이렇게 해야 하는 구나\n",
        "def solution(numbers):\n",
        "    r = {'zero': '0', 'one': '1', 'two': '2', 'three': '3', 'four': '4',\\\n",
        "         'five': '5', 'six': '6', 'seven': '7', 'eight': '8', 'nine': '9'}\n",
        "    for k in r.keys():\n",
        "        numbers = numbers.replace(k, r[k])\n",
        "\n",
        "    return int(numbers)"
      ],
      "metadata": {
        "id": "WSbKN9nupaZS"
      },
      "execution_count": 39,
      "outputs": []
    },
    {
      "cell_type": "code",
      "source": [
        "# replace() 이렇게 했는데 그냥 인트로 리턴하면 되는걸 이상하게 쑈했네\n",
        "def solution(numbers):\n",
        "    numbers = numbers.replace(\"one\",\"1\")\n",
        "    numbers = numbers.replace(\"two\",\"2\")\n",
        "    numbers = numbers.replace(\"three\",\"3\")\n",
        "    numbers = numbers.replace(\"four\",\"4\")\n",
        "    numbers = numbers.replace(\"five\",\"5\")\n",
        "    numbers = numbers.replace(\"six\",\"6\")\n",
        "    numbers = numbers.replace(\"seven\",\"7\")\n",
        "    numbers = numbers.replace(\"eight\",\"8\")\n",
        "    numbers = numbers.replace(\"nine\",\"9\")\n",
        "    numbers = numbers.replace(\"zero\",\"0\")\n",
        "    return int(numbers)"
      ],
      "metadata": {
        "id": "71HjC4lFpg76"
      },
      "execution_count": null,
      "outputs": []
    }
  ]
}