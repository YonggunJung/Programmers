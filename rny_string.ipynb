{
  "nbformat": 4,
  "nbformat_minor": 0,
  "metadata": {
    "colab": {
      "provenance": [],
      "authorship_tag": "ABX9TyPTi99u5wle1QfB8o224Stu",
      "include_colab_link": true
    },
    "kernelspec": {
      "name": "python3",
      "display_name": "Python 3"
    },
    "language_info": {
      "name": "python"
    }
  },
  "cells": [
    {
      "cell_type": "markdown",
      "metadata": {
        "id": "view-in-github",
        "colab_type": "text"
      },
      "source": [
        "<a href=\"https://colab.research.google.com/github/YonggunJung/Programmers/blob/main/rny_string.ipynb\" target=\"_parent\"><img src=\"https://colab.research.google.com/assets/colab-badge.svg\" alt=\"Open In Colab\"/></a>"
      ]
    },
    {
      "cell_type": "code",
      "execution_count": 1,
      "metadata": {
        "id": "thpxOum9yRLx"
      },
      "outputs": [],
      "source": [
        "# 문제 설명\n",
        "# 'm'과 \"rn\"이 모양이 비슷하게 생긴 점을 활용해 문자열에 장난을 하려고 합니다.\n",
        "# 문자열 rny_string이 주어질 때,\n",
        "# rny_string의 모든 'm'을 \"rn\"으로 바꾼 문자열을\n",
        "# return 하는 solution 함수를 작성해 주세요.\n",
        "\n",
        "# 제한사항\n",
        "# 1 ≤ rny_string의 길이 ≤ 100\n",
        "# rny_string은 영소문자로만 이루어져 있습니다.\n",
        "\n",
        "# 입출력 예\n",
        "# rny_string            \tresult\n",
        "# \"masterpiece\"\t          \"rnasterpiece\"\n",
        "# \"programmers\"\t          \"prograrnrners\"\n",
        "# \"jerry\"\t                \"jerry\"\n",
        "# \"burn\"\t                \"burn\"\n",
        "\n",
        "# 입출력 예 설명\n",
        "# 입출력 예 #1\n",
        "# 예제 1번의 rny_string의 'm'을 \"rn\"으로 바꾸는 과정을 표로 나타내면 다음과 같습니다.\n",
        "# rny_string\tm\ta\ts\tt\te\tr\tp\ti\te\tc\te\n",
        "# result\trn\ta\ts\tt\te\tr\tp\ti\te\tc\te\n",
        "# 따라서 \"rnasterpiece\"를 return 합니다.\n",
        "\n",
        "# 입출력 예 #2\n",
        "# 예제 2번의 rny_string의 'm'을 \"rn\"으로 바꾸는 과정을 표로 나타내면 다음과 같습니다.\n",
        "# rny_string\tp\tr\to\tg\tr\ta\tm\tm\te\tr\ts\n",
        "# result\tp\tr\to\tg\tr\ta\trn\trn\te\tr\ts\n",
        "# 따라서 \"prograrnrners\"를 return 합니다.\n",
        "\n",
        "# 입출력 예 #3\n",
        "# 예제 3번의 rny_string에는 'm'이 없습니다.\n",
        "# 따라서 rny_string 그대로인 \"jerry\"를 return 합니다.\n",
        "\n",
        "# 입출력 예 #4\n",
        "# 예제 4번의 rny_string에는 'm'이 없습니다.\n",
        "# 따라서 rny_string 그대로인 \"burn\"를 return 합니다."
      ]
    },
    {
      "cell_type": "code",
      "source": [
        "def solution(rny_string):\n",
        "    answer = rny_string.replace('m', 'rn')\n",
        "\n",
        "    return answer"
      ],
      "metadata": {
        "id": "K45lEflcyhR1"
      },
      "execution_count": 3,
      "outputs": []
    },
    {
      "cell_type": "code",
      "source": [
        "rny_string = \"masterpiece\"\n",
        "solution(rny_string)"
      ],
      "metadata": {
        "colab": {
          "base_uri": "https://localhost:8080/",
          "height": 35
        },
        "id": "jstmw8sJyi5M",
        "outputId": "5c21ff4d-fc40-4496-b578-fb7b646592a6"
      },
      "execution_count": 4,
      "outputs": [
        {
          "output_type": "execute_result",
          "data": {
            "text/plain": [
              "'rnasterpiece'"
            ],
            "application/vnd.google.colaboratory.intrinsic+json": {
              "type": "string"
            }
          },
          "metadata": {},
          "execution_count": 4
        }
      ]
    },
    {
      "cell_type": "code",
      "source": [
        "rny_string = \"programmers\"\n",
        "solution(rny_string)"
      ],
      "metadata": {
        "colab": {
          "base_uri": "https://localhost:8080/",
          "height": 35
        },
        "id": "CydHc5bRyk6U",
        "outputId": "6b2fad4e-ed37-46df-8af8-0a68103d9099"
      },
      "execution_count": 5,
      "outputs": [
        {
          "output_type": "execute_result",
          "data": {
            "text/plain": [
              "'prograrnrners'"
            ],
            "application/vnd.google.colaboratory.intrinsic+json": {
              "type": "string"
            }
          },
          "metadata": {},
          "execution_count": 5
        }
      ]
    },
    {
      "cell_type": "code",
      "source": [
        "rny_string = \"jerry\"\n",
        "solution(rny_string)"
      ],
      "metadata": {
        "colab": {
          "base_uri": "https://localhost:8080/",
          "height": 35
        },
        "id": "O8ezVuqpym0A",
        "outputId": "722a4227-844d-4e20-91f4-9d1e60e9b1a2"
      },
      "execution_count": 6,
      "outputs": [
        {
          "output_type": "execute_result",
          "data": {
            "text/plain": [
              "'jerry'"
            ],
            "application/vnd.google.colaboratory.intrinsic+json": {
              "type": "string"
            }
          },
          "metadata": {},
          "execution_count": 6
        }
      ]
    },
    {
      "cell_type": "code",
      "source": [
        "rny_string = \"burn\"\n",
        "solution(rny_string)"
      ],
      "metadata": {
        "colab": {
          "base_uri": "https://localhost:8080/",
          "height": 35
        },
        "id": "Vyn-ekSgymuv",
        "outputId": "988c2c45-b7e1-4d86-90c0-c2603f639061"
      },
      "execution_count": 7,
      "outputs": [
        {
          "output_type": "execute_result",
          "data": {
            "text/plain": [
              "'burn'"
            ],
            "application/vnd.google.colaboratory.intrinsic+json": {
              "type": "string"
            }
          },
          "metadata": {},
          "execution_count": 7
        }
      ]
    },
    {
      "cell_type": "code",
      "source": [
        "# 다른 사람 풀이"
      ],
      "metadata": {
        "id": "0XRmX7X9ympI"
      },
      "execution_count": 8,
      "outputs": []
    },
    {
      "cell_type": "code",
      "source": [
        "def solution(rny_string):\n",
        "    answer = []\n",
        "    for x in rny_string:\n",
        "        if x=='m': answer.append('rn')\n",
        "        else: answer.append(x)\n",
        "    return ''.join(answer)"
      ],
      "metadata": {
        "id": "1vFl2qlmzQgQ"
      },
      "execution_count": 9,
      "outputs": []
    },
    {
      "cell_type": "code",
      "source": [
        "def solution(rny_string):\n",
        "    answer = ''\n",
        "    for i in rny_string:\n",
        "        if i==\"m\":\n",
        "            answer+='rn'\n",
        "        else:\n",
        "            answer+=i\n",
        "    return answer\n"
      ],
      "metadata": {
        "id": "x2B33YUPzXwF"
      },
      "execution_count": null,
      "outputs": []
    }
  ]
}