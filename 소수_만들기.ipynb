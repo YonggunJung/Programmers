{
  "nbformat": 4,
  "nbformat_minor": 0,
  "metadata": {
    "colab": {
      "provenance": [],
      "authorship_tag": "ABX9TyN7n9DzPIv+dS3R+H6mMqoB",
      "include_colab_link": true
    },
    "kernelspec": {
      "name": "python3",
      "display_name": "Python 3"
    },
    "language_info": {
      "name": "python"
    }
  },
  "cells": [
    {
      "cell_type": "markdown",
      "metadata": {
        "id": "view-in-github",
        "colab_type": "text"
      },
      "source": [
        "<a href=\"https://colab.research.google.com/github/YonggunJung/Programmers/blob/main/%EC%86%8C%EC%88%98_%EB%A7%8C%EB%93%A4%EA%B8%B0.ipynb\" target=\"_parent\"><img src=\"https://colab.research.google.com/assets/colab-badge.svg\" alt=\"Open In Colab\"/></a>"
      ]
    },
    {
      "cell_type": "code",
      "execution_count": 1,
      "metadata": {
        "id": "_Qj-TADTpa1u"
      },
      "outputs": [],
      "source": [
        "# 문제 설명\n",
        "# 주어진 숫자 중 3개의 수를 더했을 때 소수가 되는 경우의 개수를 구하려고 합니다.\n",
        "# 숫자들이 들어있는 배열 nums가 매개변수로 주어질 때,\n",
        "# nums에 있는 숫자들 중 서로 다른 3개를 골라 더했을 때\n",
        "# 소수가 되는 경우의 개수를 return 하도록 solution 함수를 완성해주세요.\n",
        "\n",
        "# 제한사항\n",
        "# nums에 들어있는 숫자의 개수는 3개 이상 50개 이하입니다.\n",
        "# nums의 각 원소는 1 이상 1,000 이하의 자연수이며, 중복된 숫자가 들어있지 않습니다.\n",
        "\n",
        "# 입출력 예\n",
        "# nums\t            result\n",
        "# [1,2,3,4]\t            1\n",
        "# [1,2,7,6,4]\t          4\n",
        "\n",
        "# 입출력 예 설명\n",
        "# 입출력 예 #1\n",
        "# [1,2,4]를 이용해서 7을 만들 수 있습니다.\n",
        "\n",
        "# 입출력 예 #2\n",
        "# [1,2,4]를 이용해서 7을 만들 수 있습니다.\n",
        "# [1,4,6]을 이용해서 11을 만들 수 있습니다.\n",
        "# [2,4,7]을 이용해서 13을 만들 수 있습니다.\n",
        "# [4,6,7]을 이용해서 17을 만들 수 있습니다."
      ]
    },
    {
      "cell_type": "code",
      "source": [
        "def solution(nums):\n",
        "    answer = 0\n",
        "    li = []\n",
        "    for i in range(len(nums)-2):\n",
        "      for j in range(i+1, len(nums) -1):\n",
        "        for k in range(j+1, len(nums)):\n",
        "            li.append(nums[i] + nums[j] + nums[k])\n",
        "\n",
        "    for n in li:\n",
        "      for i in range(2, int(n**0.5)+1):\n",
        "        if n % i == 0:\n",
        "          break\n",
        "      else:\n",
        "        answer += 1\n",
        "    # [실행] 버튼을 누르면 출력 값을 볼 수 있습니다.\n",
        "    print('Hello Python')\n",
        "\n",
        "    return answer"
      ],
      "metadata": {
        "id": "TuD2vDXXphmK"
      },
      "execution_count": null,
      "outputs": []
    }
  ]
}