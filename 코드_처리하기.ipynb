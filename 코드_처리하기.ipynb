{
  "nbformat": 4,
  "nbformat_minor": 0,
  "metadata": {
    "colab": {
      "provenance": [],
      "authorship_tag": "ABX9TyO3Jl8OrDPoyGvdHRbiUdoi",
      "include_colab_link": true
    },
    "kernelspec": {
      "name": "python3",
      "display_name": "Python 3"
    },
    "language_info": {
      "name": "python"
    }
  },
  "cells": [
    {
      "cell_type": "markdown",
      "metadata": {
        "id": "view-in-github",
        "colab_type": "text"
      },
      "source": [
        "<a href=\"https://colab.research.google.com/github/YonggunJung/Programmers/blob/main/%EC%BD%94%EB%93%9C_%EC%B2%98%EB%A6%AC%ED%95%98%EA%B8%B0.ipynb\" target=\"_parent\"><img src=\"https://colab.research.google.com/assets/colab-badge.svg\" alt=\"Open In Colab\"/></a>"
      ]
    },
    {
      "cell_type": "code",
      "execution_count": 1,
      "metadata": {
        "id": "TIAX_VwHce2z"
      },
      "outputs": [],
      "source": [
        "# 문제 설명\n",
        "# 문자열 code가 주어집니다.\n",
        "# code를 앞에서부터 읽으면서 만약 문자가 \"1\"이면 mode를 바꿉니다.\n",
        "# mode에 따라 code를 읽어가면서 문자열 ret을 만들어냅니다.\n",
        "\n",
        "# mode는 0과 1이 있으며, idx를 0 부터 code의 길이 - 1 까지 1씩 키워나가면서\n",
        "# code[idx]의 값에 따라 다음과 같이 행동합니다.\n",
        "\n",
        "# mode가 0일 때\n",
        "# code[idx]가 \"1\"이 아니면 idx가 짝수일 때만 ret의 맨 뒤에 code[idx]를 추가합니다.\n",
        "# code[idx]가 \"1\"이면 mode를 0에서 1로 바꿉니다.\n",
        "\n",
        "# mode가 1일 때\n",
        "# code[idx]가 \"1\"이 아니면 idx가 홀수일 때만 ret의 맨 뒤에 code[idx]를 추가합니다.\n",
        "# code[idx]가 \"1\"이면 mode를 1에서 0으로 바꿉니다.\n",
        "# 문자열 code를 통해 만들어진 문자열 ret를 return 하는 solution 함수를 완성해 주세요.\n",
        "\n",
        "# 단, 시작할 때 mode는 0이며,\n",
        "# return 하려는 ret가 만약 빈 문자열이라면 대신 \"EMPTY\"를 return 합니다.\n",
        "\n",
        "# 제한사항\n",
        "# 1 ≤ code의 길이 ≤ 100,000\n",
        "# code는 알파벳 소문자 또는 \"1\"로 이루어진 문자열입니다.\n",
        "\n",
        "# 입출력 예\n",
        "# code\t                result\n",
        "# \"abc1abc1abc\"\t        \"acbac\"\n",
        "\n",
        "# 입출력 예 설명\n",
        "# 입출력 예 #1\n",
        "# code의 각 인덱스 i에 따라 다음과 같이 mode와 ret가 변합니다.\n",
        "# i\t    code[i]\t  mode\t  ret\n",
        "# 0\t    \"a\"      \t0\t      \"a\"\n",
        "# 1\t    \"b\"\t      0     \t\"a\"\n",
        "# 2   \t\"c\"\t      0\t      \"ac\"\n",
        "# 3\t    \"1\"\t      1\t      \"ac\"\n",
        "# 4\t    \"a\"     \t1\t      \"ac\"\n",
        "# 5\t    \"b\"\t      1\t      \"acb\"\n",
        "# 6\t    \"c\"\t      1     \t\"acb\"\n",
        "# 7\t    \"1\"\t      0\t      \"acb\"\n",
        "# 8\t    \"a\"\t      0\t      \"acba\"\n",
        "# 9\t    \"b\"\t      0\t      \"acba\"\n",
        "# 10\t  \"c\"\t      0\t      \"acbac\"\n",
        "# 따라서 \"acbac\"를 return 합니다."
      ]
    },
    {
      "cell_type": "code",
      "source": [
        "# 이게 왜 틀린건지 모르겠음 ㅠㅠ 답은 잘나옴\n",
        "# def solution(code):\n",
        "#     answer = ''\n",
        "#     mode = 0\n",
        "#     for idx, i in enumerate(code): # enumerate를 사용하여 code 문자열을 순회, idx는 현재 인덱스, i는 현재 문자\n",
        "#       if mode == 0:\n",
        "#         if i == '1':\n",
        "#           mode = 1\n",
        "#           continue\n",
        "#         if idx % 2 == 0:\n",
        "#           answer += i\n",
        "\n",
        "#       elif mode == 1:\n",
        "#         if i == '1':\n",
        "#           mode = 0\n",
        "#           continue\n",
        "#         if idx % 2 != 0:\n",
        "#           answer += i\n",
        "\n",
        "#     return answer"
      ],
      "metadata": {
        "id": "5OIJpL-bdAlB"
      },
      "execution_count": 49,
      "outputs": []
    },
    {
      "cell_type": "code",
      "source": [
        "# 문제 제대로 안읽고 마지막에 EMPTY 지정 안해줌 그래서 문제였음\n",
        "def solution(code):\n",
        "    answer = ''\n",
        "    mode = 0\n",
        "    for idx, i in enumerate(code): # enumerate를 사용하여 code 문자열을 순회, idx는 현재 인덱스, i는 현재 문자\n",
        "      if mode == 0:\n",
        "        if i == '1':\n",
        "          mode = 1\n",
        "          continue\n",
        "        if idx % 2 == 0:\n",
        "          answer += i\n",
        "\n",
        "      elif mode == 1:\n",
        "        if i == '1':\n",
        "          mode = 0\n",
        "          continue\n",
        "        if idx % 2 != 0:\n",
        "          answer += i\n",
        "\n",
        "    if len(answer) == 0:\n",
        "      answer = 'EMPTY'\n",
        "    return answer"
      ],
      "metadata": {
        "id": "EBQsX00SnBka"
      },
      "execution_count": 54,
      "outputs": []
    },
    {
      "cell_type": "code",
      "source": [
        "code = \"abc1abc1abc\"\n",
        "solution(code)"
      ],
      "metadata": {
        "colab": {
          "base_uri": "https://localhost:8080/",
          "height": 35
        },
        "id": "n4VOih9bdBnP",
        "outputId": "899cbd15-6d91-4b83-ae25-2ca41c139c17"
      },
      "execution_count": 55,
      "outputs": [
        {
          "output_type": "execute_result",
          "data": {
            "text/plain": [
              "'acbac'"
            ],
            "application/vnd.google.colaboratory.intrinsic+json": {
              "type": "string"
            }
          },
          "metadata": {},
          "execution_count": 55
        }
      ]
    },
    {
      "cell_type": "code",
      "source": [
        "# 풀이 이거 나랑 점수 똑같음 통과 안됨 ㅋㅋㅋㅋㅋ\n",
        "def solution(code):\n",
        "    result = '' # 결과를 저장할 빈 문자열\n",
        "    # mode를 False로 저장, 이는 mode가 0임을 나타냄.\n",
        "    mode = False\n",
        "\n",
        "    # enumerate를 사용하여 code 문자열을 순회 / idx는 현재 인덱스, i는 현재 문자\n",
        "    for idx, i in enumerate(code):\n",
        "\n",
        "      # 만약 현재 문자가 '1'이라면 mode를 변경\n",
        "      if i == \"1\":\n",
        "        mode = not mode\n",
        "        continue\n",
        "\n",
        "      # 만약 mode가 False이고 idx가 짝수라면, 현재 문자를 result에 추가\n",
        "      if not mode and idx%2==0:\n",
        "        result += i\n",
        "\n",
        "      # 만약 mode가 True이고 idx가 홀수라면, 현재 문자를 result에 추가\n",
        "      elif mode and idx%2==1:\n",
        "        result += i\n",
        "\n",
        "      # 만약 result가 빈 문자열이라면 'EMPTY'를 반환\n",
        "      if not result:\n",
        "        return \"EMPTY\"\n",
        "\n",
        "    return result # 그렇지 않다면 result를 반환"
      ],
      "metadata": {
        "id": "5O8PgFO6dFbb"
      },
      "execution_count": 52,
      "outputs": []
    },
    {
      "cell_type": "code",
      "source": [
        "code = \"abc1abc1abc\"\n",
        "solution(code)"
      ],
      "metadata": {
        "colab": {
          "base_uri": "https://localhost:8080/",
          "height": 35
        },
        "id": "0qpQBipLlL5l",
        "outputId": "fedcfaeb-9c57-47ce-b33f-6d0883aae9bd"
      },
      "execution_count": 53,
      "outputs": [
        {
          "output_type": "execute_result",
          "data": {
            "text/plain": [
              "'acbac'"
            ],
            "application/vnd.google.colaboratory.intrinsic+json": {
              "type": "string"
            }
          },
          "metadata": {},
          "execution_count": 53
        }
      ]
    },
    {
      "cell_type": "code",
      "source": [
        "# 다른 사람 풀이"
      ],
      "metadata": {
        "id": "1CFueoU4mNAs"
      },
      "execution_count": 56,
      "outputs": []
    },
    {
      "cell_type": "code",
      "source": [
        "# 와 이렇게 간단하고 편한 코드 였군 ㅋㅋㅋ\n",
        "def solution(code):\n",
        "    return \"\".join(code.split(\"1\"))[::2] or \"EMPTY\""
      ],
      "metadata": {
        "id": "XDnxTQZToQo9"
      },
      "execution_count": 57,
      "outputs": []
    },
    {
      "cell_type": "code",
      "source": [
        "# 비트 연산자 좋았다\n",
        "def solution(code):\n",
        "    answer = ''\n",
        "\n",
        "    mode = 0\n",
        "    for i in range(len(code)):\n",
        "        if code[i] == '1':\n",
        "            mode ^= 1\n",
        "        else:\n",
        "            if i % 2 == mode:\n",
        "                answer += code[i]\n",
        "\n",
        "    return answer if answer else 'EMPTY'\n",
        "# ^= 는 비트연산자 중에 xor을 뜻합니다.\n",
        "# 두 비트가 서로 같으면 0 다르면 1입니다.\n",
        "# 따라서 mode가 0이면 결과는 1이되고, 1이면 같기때문에 0이됩니다.\n",
        "\n",
        "# answer if answer else 'EMPTY'는 answer가 빈문자열이 아니면 answer를 리턴하고,\n",
        "# 빈문자열이면 'EMPTY'를 리턴하게됩니당\n",
        "# if 뒤에 조건이 참이면 if 앞에걸 반환하고, 거짓이면 else 뒤에걸 반환합니당\n"
      ],
      "metadata": {
        "id": "5aJLmNRRoioy"
      },
      "execution_count": null,
      "outputs": []
    }
  ]
}