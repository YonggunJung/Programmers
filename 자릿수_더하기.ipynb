{
  "nbformat": 4,
  "nbformat_minor": 0,
  "metadata": {
    "colab": {
      "provenance": [],
      "authorship_tag": "ABX9TyOl9dl70Ud+RJwy7u6Qxxto",
      "include_colab_link": true
    },
    "kernelspec": {
      "name": "python3",
      "display_name": "Python 3"
    },
    "language_info": {
      "name": "python"
    }
  },
  "cells": [
    {
      "cell_type": "markdown",
      "metadata": {
        "id": "view-in-github",
        "colab_type": "text"
      },
      "source": [
        "<a href=\"https://colab.research.google.com/github/YonggunJung/Programmers/blob/main/%EC%9E%90%EB%A6%BF%EC%88%98_%EB%8D%94%ED%95%98%EA%B8%B0.ipynb\" target=\"_parent\"><img src=\"https://colab.research.google.com/assets/colab-badge.svg\" alt=\"Open In Colab\"/></a>"
      ]
    },
    {
      "cell_type": "code",
      "execution_count": 1,
      "metadata": {
        "id": "67psvEIMUESk"
      },
      "outputs": [],
      "source": [
        "# 문제 설명\n",
        "# 자연수 N이 주어지면, N의 각 자릿수의 합을 구해서 return 하는 solution 함수를 만들어 주세요.\n",
        "# 예를들어 N = 123이면 1 + 2 + 3 = 6을 return 하면 됩니다.\n",
        "\n",
        "# 제한사항\n",
        "# N의 범위 : 100,000,000 이하의 자연수\n",
        "\n",
        "# 입출력 예\n",
        "# N\t      answer\n",
        "# 123\t      6\n",
        "# 987\t      24\n",
        "\n",
        "# 입출력 예 설명\n",
        "# 입출력 예 #1\n",
        "# 문제의 예시와 같습니다.\n",
        "\n",
        "# 입출력 예 #2\n",
        "# 9 + 8 + 7 = 24이므로 24를 return 하면 됩니다."
      ]
    },
    {
      "cell_type": "code",
      "source": [
        "def solution(n):\n",
        "    answer = 0\n",
        "    while n > 0:\n",
        "        answer += n % 10\n",
        "        n = n // 10\n",
        "\n",
        "    return answer"
      ],
      "metadata": {
        "id": "DfVuPoeoUJ8T"
      },
      "execution_count": 2,
      "outputs": []
    }
  ]
}