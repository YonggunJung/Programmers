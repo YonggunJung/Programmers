{
  "nbformat": 4,
  "nbformat_minor": 0,
  "metadata": {
    "colab": {
      "provenance": [],
      "authorship_tag": "ABX9TyPXlF9oZn7ujRv2STluBmsP",
      "include_colab_link": true
    },
    "kernelspec": {
      "name": "python3",
      "display_name": "Python 3"
    },
    "language_info": {
      "name": "python"
    }
  },
  "cells": [
    {
      "cell_type": "markdown",
      "metadata": {
        "id": "view-in-github",
        "colab_type": "text"
      },
      "source": [
        "<a href=\"https://colab.research.google.com/github/YonggunJung/Programmers/blob/main/%EC%9E%90%EB%A6%BF%EC%88%98_%EB%8D%94%ED%95%98%EA%B8%B0.ipynb\" target=\"_parent\"><img src=\"https://colab.research.google.com/assets/colab-badge.svg\" alt=\"Open In Colab\"/></a>"
      ]
    },
    {
      "cell_type": "code",
      "execution_count": null,
      "metadata": {
        "id": "HmQOm7_yB1rE"
      },
      "outputs": [],
      "source": [
        "# 문제 설명\n",
        "# 정수 n이 매개변수로 주어질 때 n의 각 자리 숫자의 합을 return하도록 solution 함수를 완성해주세요\n",
        "\n",
        "# 제한사항\n",
        "# 0 ≤ n ≤ 1,000,000\n",
        "\n",
        "# 입출력 예\n",
        "# n\t        result\n",
        "# 1234\t      10\n",
        "# 930211\t    16\n",
        "\n",
        "# 입출력 예 설명\n",
        "# 입출력 예 #1\n",
        "# 1 + 2 + 3 + 4 = 10을 return합니다.\n",
        "\n",
        "# 입출력 예 #2\n",
        "# 9 + 3 + 0 + 2 + 1 + 1 = 16을 return합니다."
      ]
    },
    {
      "cell_type": "code",
      "source": [
        "def solution(n):\n",
        "    answer = 0\n",
        "    while n != 0:\n",
        "      answer += n % 10\n",
        "      n = n //10\n",
        "    return answer"
      ],
      "metadata": {
        "id": "RBLwaxzxCAYT"
      },
      "execution_count": 1,
      "outputs": []
    },
    {
      "cell_type": "code",
      "source": [
        "n = 1234\n",
        "solution(n)"
      ],
      "metadata": {
        "colab": {
          "base_uri": "https://localhost:8080/"
        },
        "id": "WMIKryFYDEbx",
        "outputId": "f5358279-407c-4bd3-cbf0-684e0b9b2021"
      },
      "execution_count": 2,
      "outputs": [
        {
          "output_type": "execute_result",
          "data": {
            "text/plain": [
              "10"
            ]
          },
          "metadata": {},
          "execution_count": 2
        }
      ]
    },
    {
      "cell_type": "code",
      "source": [
        "n = 930211\n",
        "solution(n)"
      ],
      "metadata": {
        "colab": {
          "base_uri": "https://localhost:8080/"
        },
        "id": "-3pI1-JSDI44",
        "outputId": "22c72891-a001-42e9-94c7-921b2144706c"
      },
      "execution_count": 3,
      "outputs": [
        {
          "output_type": "execute_result",
          "data": {
            "text/plain": [
              "16"
            ]
          },
          "metadata": {},
          "execution_count": 3
        }
      ]
    },
    {
      "cell_type": "code",
      "source": [
        "n = 123456789\n",
        "solution(n)"
      ],
      "metadata": {
        "colab": {
          "base_uri": "https://localhost:8080/"
        },
        "id": "aisqCBkcDLDS",
        "outputId": "2a64a54c-446f-4d67-b061-ca1edb381f67"
      },
      "execution_count": 5,
      "outputs": [
        {
          "output_type": "execute_result",
          "data": {
            "text/plain": [
              "45"
            ]
          },
          "metadata": {},
          "execution_count": 5
        }
      ]
    },
    {
      "cell_type": "code",
      "source": [
        "n = 12345678910\n",
        "solution(n)"
      ],
      "metadata": {
        "colab": {
          "base_uri": "https://localhost:8080/"
        },
        "id": "J530XUVLDRkh",
        "outputId": "0999f0fd-5226-4d00-f296-2cdf6c91d53a"
      },
      "execution_count": 6,
      "outputs": [
        {
          "output_type": "execute_result",
          "data": {
            "text/plain": [
              "46"
            ]
          },
          "metadata": {},
          "execution_count": 6
        }
      ]
    },
    {
      "cell_type": "code",
      "source": [
        "# 이런 방법이 있음, 완전 이해는 안가는데 간단함\n",
        "def solution(n):\n",
        "    answer = sum(list(map(int(str(n)))))\n",
        "    return answer"
      ],
      "metadata": {
        "id": "jz3s_heJDU9A"
      },
      "execution_count": 7,
      "outputs": []
    },
    {
      "cell_type": "code",
      "source": [
        "# 와우 이런 방법이 있네\n",
        "def solution(n):\n",
        "    return sum(int(i) for i in str(n))"
      ],
      "metadata": {
        "id": "RzoiKTpyDxAc"
      },
      "execution_count": 8,
      "outputs": []
    },
    {
      "cell_type": "code",
      "source": [],
      "metadata": {
        "id": "cf7mxR2hD8Mz"
      },
      "execution_count": null,
      "outputs": []
    }
  ]
}