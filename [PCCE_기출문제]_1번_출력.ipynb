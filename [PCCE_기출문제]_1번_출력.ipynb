{
  "nbformat": 4,
  "nbformat_minor": 0,
  "metadata": {
    "colab": {
      "provenance": [],
      "authorship_tag": "ABX9TyO9r1l1+NI94j7y95ZDO+IW",
      "include_colab_link": true
    },
    "kernelspec": {
      "name": "python3",
      "display_name": "Python 3"
    },
    "language_info": {
      "name": "python"
    }
  },
  "cells": [
    {
      "cell_type": "markdown",
      "metadata": {
        "id": "view-in-github",
        "colab_type": "text"
      },
      "source": [
        "<a href=\"https://colab.research.google.com/github/YonggunJung/Programmers/blob/main/%5BPCCE_%EA%B8%B0%EC%B6%9C%EB%AC%B8%EC%A0%9C%5D_1%EB%B2%88_%EC%B6%9C%EB%A0%A5.ipynb\" target=\"_parent\"><img src=\"https://colab.research.google.com/assets/colab-badge.svg\" alt=\"Open In Colab\"/></a>"
      ]
    },
    {
      "cell_type": "code",
      "execution_count": 1,
      "metadata": {
        "id": "3Lv9cN67Gzt-"
      },
      "outputs": [],
      "source": [
        "# 문제 설명\n",
        "# 주어진 초기 코드는 변수에 데이터를 저장하고 출력하는 코드입니다.\n",
        "# 아래와 같이 출력되도록 빈칸을 채워 코드를 완성해 주세요.\n",
        "\n",
        "# 출력 예시\n",
        "# Spring is beginning\n",
        "# 13\n",
        "# 310\n",
        "\n",
        "# 빈칸 채우기 문제 안내\n",
        "# 빈칸 채우기는 이미 완성된 코드 중 빈칸에 알맞은 코드를 입력하는 문제 타입입니다.\n",
        "# 빈칸을 제외한 기본 코드는 수정할 수 없습니다.\n",
        "# 빈칸을 채우지 않을 경우, 실행 결과에 에러 메시지가 표시됩니다.\n"
      ]
    },
    {
      "cell_type": "code",
      "source": [
        "string_msg = 'Spring is beginning'\n",
        "\n",
        "int_val = 3\n",
        "\n",
        "string_val = '3'\n",
        "\n",
        "print(string_msg)\n",
        "print(int_val + 10)\n",
        "print(string_val + \"10\")"
      ],
      "metadata": {
        "colab": {
          "base_uri": "https://localhost:8080/"
        },
        "id": "GgwLpCExG6qC",
        "outputId": "0700ccf0-5ccd-45f2-eb33-b973ae18a29e"
      },
      "execution_count": 3,
      "outputs": [
        {
          "output_type": "stream",
          "name": "stdout",
          "text": [
            "Spring is beginning\n",
            "13\n",
            "310\n"
          ]
        }
      ]
    },
    {
      "cell_type": "code",
      "source": [
        "# 다른 사람 풀이"
      ],
      "metadata": {
        "id": "d2j9JUQnHZEM"
      },
      "execution_count": 4,
      "outputs": []
    },
    {
      "cell_type": "code",
      "source": [
        "# 이건 ㅋㅋㅋㅋ 싸우자는 건가?\n",
        "string_msg = \"Spring is beginning\"\n",
        "int_val = len(string_msg.split())\n",
        "string_val = str(int_val)\n",
        "\n",
        "print(string_msg)\n",
        "print(int_val + 10)\n",
        "print(string_val + \"10\")"
      ],
      "metadata": {
        "id": "WNU-Tn05Hn7b"
      },
      "execution_count": null,
      "outputs": []
    }
  ]
}