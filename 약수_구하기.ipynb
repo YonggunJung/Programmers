{
  "nbformat": 4,
  "nbformat_minor": 0,
  "metadata": {
    "colab": {
      "provenance": [],
      "authorship_tag": "ABX9TyO9rFBMk5E7wd7K+1vWQeVN",
      "include_colab_link": true
    },
    "kernelspec": {
      "name": "python3",
      "display_name": "Python 3"
    },
    "language_info": {
      "name": "python"
    }
  },
  "cells": [
    {
      "cell_type": "markdown",
      "metadata": {
        "id": "view-in-github",
        "colab_type": "text"
      },
      "source": [
        "<a href=\"https://colab.research.google.com/github/YonggunJung/Programmers/blob/main/%EC%95%BD%EC%88%98_%EA%B5%AC%ED%95%98%EA%B8%B0.ipynb\" target=\"_parent\"><img src=\"https://colab.research.google.com/assets/colab-badge.svg\" alt=\"Open In Colab\"/></a>"
      ]
    },
    {
      "cell_type": "code",
      "execution_count": null,
      "metadata": {
        "id": "o4DTtc0J78fn"
      },
      "outputs": [],
      "source": [
        "# 문제 설명\n",
        "# 정수 n이 매개변수로 주어질 때, n의 약수를 오름차순으로 담은 배열을 return하도록\n",
        "# solution 함수를 완성해주세요.\n",
        "\n",
        "# 제한사항\n",
        "# 1 ≤ n ≤ 10,000\n",
        "\n",
        "# 입출력 예\n",
        "# n\t        result\n",
        "# 24\t      [1, 2, 3, 4, 6, 8, 12, 24]\n",
        "# 29\t      [1, 29]\n",
        "\n",
        "# 입출력 예 설명\n",
        "# 입출력 예 #1\n",
        "# 24의 약수를 오름차순으로 담은 배열 [1, 2, 3, 4, 6, 8, 12, 24]를 return합니다.\n",
        "\n",
        "# 입출력 예 #2\n",
        "# 29의 약수를 오름차순으로 담은 배열 [1, 29]를 return합니다."
      ]
    },
    {
      "cell_type": "code",
      "source": [
        "def solution(n):\n",
        "    answer = []\n",
        "    for i in range(1, n+1):\n",
        "      if n % i ==0:\n",
        "        answer.append(i)\n",
        "    return answer"
      ],
      "metadata": {
        "id": "hR3mz-od8GVW"
      },
      "execution_count": 2,
      "outputs": []
    },
    {
      "cell_type": "code",
      "source": [
        "n = 24\n",
        "solution(n)"
      ],
      "metadata": {
        "colab": {
          "base_uri": "https://localhost:8080/"
        },
        "id": "y9LqDf8k8I4t",
        "outputId": "c8716955-33f3-4654-ae93-34e28ddbf029"
      },
      "execution_count": 3,
      "outputs": [
        {
          "output_type": "execute_result",
          "data": {
            "text/plain": [
              "[1, 2, 3, 4, 6, 8, 12, 24]"
            ]
          },
          "metadata": {},
          "execution_count": 3
        }
      ]
    },
    {
      "cell_type": "code",
      "source": [
        "n = 29\n",
        "solution(n)"
      ],
      "metadata": {
        "colab": {
          "base_uri": "https://localhost:8080/"
        },
        "id": "z4403ASm8JgW",
        "outputId": "ed84633e-6765-40d3-a23b-ec39d76f1e1a"
      },
      "execution_count": 4,
      "outputs": [
        {
          "output_type": "execute_result",
          "data": {
            "text/plain": [
              "[1, 29]"
            ]
          },
          "metadata": {},
          "execution_count": 4
        }
      ]
    },
    {
      "cell_type": "code",
      "source": [
        "# 다른사람 풀이"
      ],
      "metadata": {
        "id": "eBAWGU918JVP"
      },
      "execution_count": 5,
      "outputs": []
    },
    {
      "cell_type": "code",
      "source": [
        "def solution(n):\n",
        "    answer = [i for i in range(1,n+1) if n%i == 0]\n",
        "    return answer"
      ],
      "metadata": {
        "id": "Rbs-ehUn8yzs"
      },
      "execution_count": 6,
      "outputs": []
    },
    {
      "cell_type": "code",
      "source": [
        "# 신기하게 어렵게 푼 느낌?\n",
        "import numpy\n",
        "def solution(n):\n",
        "    answer = []\n",
        "    k = int(numpy.sqrt(n))\n",
        "\n",
        "    for i in range(k):\n",
        "        if n % (i+1) == 0:\n",
        "            answer.append((i+1))\n",
        "            answer.append(n // (i+1))\n",
        "    answer = set(answer)\n",
        "    answer = list(answer)\n",
        "    answer.sort()\n",
        "    return answer"
      ],
      "metadata": {
        "id": "AJd31dTZ84ct"
      },
      "execution_count": null,
      "outputs": []
    }
  ]
}