{
  "nbformat": 4,
  "nbformat_minor": 0,
  "metadata": {
    "colab": {
      "provenance": [],
      "authorship_tag": "ABX9TyNLiXaAU+VjQAiptzzPi1Ye",
      "include_colab_link": true
    },
    "kernelspec": {
      "name": "python3",
      "display_name": "Python 3"
    },
    "language_info": {
      "name": "python"
    }
  },
  "cells": [
    {
      "cell_type": "markdown",
      "metadata": {
        "id": "view-in-github",
        "colab_type": "text"
      },
      "source": [
        "<a href=\"https://colab.research.google.com/github/YonggunJung/Programmers/blob/main/%EB%AA%A8%EC%9D%8C_%EC%A0%9C%EA%B1%B0.ipynb\" target=\"_parent\"><img src=\"https://colab.research.google.com/assets/colab-badge.svg\" alt=\"Open In Colab\"/></a>"
      ]
    },
    {
      "cell_type": "code",
      "execution_count": 1,
      "metadata": {
        "id": "_KAByOhJ2he6"
      },
      "outputs": [],
      "source": [
        "# 문제 설명\n",
        "# 영어에선 a, e, i, o, u 다섯 가지 알파벳을 모음으로 분류합니다.\n",
        "# 문자열 my_string이 매개변수로 주어질 때 모음을 제거한 문자열을 return하도록 solution 함수를 완성해주세요.\n",
        "\n",
        "# 제한사항\n",
        "# my_string은 소문자와 공백으로 이루어져 있습니다.\n",
        "# 1 ≤ my_string의 길이 ≤ 1,000\n",
        "\n",
        "# 입출력 예\n",
        "# my_string\t              result\n",
        "# \"bus\"\t                  \"bs\"\n",
        "# \"nice to meet you\"\t    \"nc t mt y\"\n",
        "\n",
        "# 입출력 예 설명\n",
        "# 입출력 예 #1\n",
        "# \"bus\"에서 모음 u를 제거한 \"bs\"를 return합니다.\n",
        "\n",
        "# 입출력 예 #1\n",
        "# \"nice to meet you\"에서 모음 i, o, e, u를 모두 제거한 \"nc t mt y\"를 return합니다."
      ]
    },
    {
      "cell_type": "code",
      "source": [
        "# 이건 몰라서 풀이 봄\n",
        "def solution(my_string):\n",
        "    answer = ''\n",
        "    for char in my_string:\n",
        "      if char not in \"aeiou\":\n",
        "        answer += char\n",
        "    return answer"
      ],
      "metadata": {
        "id": "ciHFsi863tjN"
      },
      "execution_count": 4,
      "outputs": []
    },
    {
      "cell_type": "code",
      "source": [
        "my_string = \"bus\"\n",
        "solution(my_string)"
      ],
      "metadata": {
        "colab": {
          "base_uri": "https://localhost:8080/",
          "height": 35
        },
        "id": "Vyi8JWit57p8",
        "outputId": "ee6375cd-3ebc-4e8f-8cb3-9175940aa576"
      },
      "execution_count": 5,
      "outputs": [
        {
          "output_type": "execute_result",
          "data": {
            "text/plain": [
              "'bs'"
            ],
            "application/vnd.google.colaboratory.intrinsic+json": {
              "type": "string"
            }
          },
          "metadata": {},
          "execution_count": 5
        }
      ]
    },
    {
      "cell_type": "code",
      "source": [
        "my_string = \"nice to meet you\"\n",
        "solution(my_string)"
      ],
      "metadata": {
        "colab": {
          "base_uri": "https://localhost:8080/",
          "height": 35
        },
        "id": "qKnbvasz6BaC",
        "outputId": "73feb36f-f826-41e1-eb55-b7ef09c301b0"
      },
      "execution_count": 6,
      "outputs": [
        {
          "output_type": "execute_result",
          "data": {
            "text/plain": [
              "'nc t mt y'"
            ],
            "application/vnd.google.colaboratory.intrinsic+json": {
              "type": "string"
            }
          },
          "metadata": {},
          "execution_count": 6
        }
      ]
    },
    {
      "cell_type": "code",
      "source": [
        "# 이렇게도 가능\n",
        "def solution(my_string):\n",
        "    answer = ''\n",
        "    for char in my_string:\n",
        "      if not char in \"aeiou\":\n",
        "        answer += char\n",
        "    return answer"
      ],
      "metadata": {
        "id": "3_tRdfcV7qoh"
      },
      "execution_count": null,
      "outputs": []
    },
    {
      "cell_type": "code",
      "source": [
        "# 이렇게도 가능\n",
        "def solution(my_string):\n",
        "    answer = ''\n",
        "    for char in my_string:\n",
        "      if char in \"aeiou\":\n",
        "        pass\n",
        "      else:\n",
        "        answer += char\n",
        "    return answer"
      ],
      "metadata": {
        "id": "Dfb0R3fh62Hq"
      },
      "execution_count": 7,
      "outputs": []
    },
    {
      "cell_type": "code",
      "source": [
        "my_string = \"bus\"\n",
        "solution(my_string)"
      ],
      "metadata": {
        "colab": {
          "base_uri": "https://localhost:8080/",
          "height": 35
        },
        "id": "aFmV6IGy7iUw",
        "outputId": "4e98e2ba-7593-4df3-a72b-1b2b9a2aeb68"
      },
      "execution_count": 8,
      "outputs": [
        {
          "output_type": "execute_result",
          "data": {
            "text/plain": [
              "'bs'"
            ],
            "application/vnd.google.colaboratory.intrinsic+json": {
              "type": "string"
            }
          },
          "metadata": {},
          "execution_count": 8
        }
      ]
    },
    {
      "cell_type": "code",
      "source": [
        "my_string = \"nice to meet you\"\n",
        "solution(my_string)"
      ],
      "metadata": {
        "colab": {
          "base_uri": "https://localhost:8080/",
          "height": 35
        },
        "id": "UXPoQUyX7iNB",
        "outputId": "099dbbc7-4e56-4560-8432-5211d11618d9"
      },
      "execution_count": 9,
      "outputs": [
        {
          "output_type": "execute_result",
          "data": {
            "text/plain": [
              "'nc t mt y'"
            ],
            "application/vnd.google.colaboratory.intrinsic+json": {
              "type": "string"
            }
          },
          "metadata": {},
          "execution_count": 9
        }
      ]
    },
    {
      "cell_type": "code",
      "source": [
        "# 다른 사람 풀이"
      ],
      "metadata": {
        "id": "_a-zE9xS7j5x"
      },
      "execution_count": 10,
      "outputs": []
    },
    {
      "cell_type": "code",
      "source": [
        "# 이 join()함수 볼때마다 신기함\n",
        "def solution(my_string):\n",
        "    return \"\".join([i for i in my_string if not(i in \"aeiou\")])"
      ],
      "metadata": {
        "id": "etUn_AcD8cZ5"
      },
      "execution_count": 11,
      "outputs": []
    },
    {
      "cell_type": "code",
      "source": [
        "# 내가 replace() 생각하다 실패했는데 이렇게 하면 됨\n",
        "def solution(my_string):\n",
        "    vowels = ['a','e','i','o','u']\n",
        "    for vowel in vowels:\n",
        "        my_string = my_string.replace(vowel, '')\n",
        "    return my_string"
      ],
      "metadata": {
        "id": "-fJFHeRm8iaZ"
      },
      "execution_count": 12,
      "outputs": []
    },
    {
      "cell_type": "code",
      "source": [
        "# replace()랑 비슷한 느낌\n",
        "import re\n",
        "\n",
        "def solution(my_string):\n",
        "    return re.sub(r\"a|e|i|o|u\", \"\", my_string)\n"
      ],
      "metadata": {
        "id": "CKS_ZZ7E8rgz"
      },
      "execution_count": null,
      "outputs": []
    },
    {
      "cell_type": "code",
      "source": [
        "# 이것도 re 활용\n",
        "import re\n",
        "def solution(my_string):\n",
        "    return re.sub('[aeiou]', '', my_string)"
      ],
      "metadata": {
        "id": "7FQJuMa68s2s"
      },
      "execution_count": 13,
      "outputs": []
    },
    {
      "cell_type": "code",
      "source": [
        "# 이정도는 할만 했는데 생각을 못했네\n",
        "def solution(my_string):\n",
        "    answer = ''\n",
        "\n",
        "    for c in my_string:\n",
        "        if c in ['a', 'e', 'i', 'o', 'u']:\n",
        "            continue\n",
        "        answer += c\n",
        "\n",
        "    return answer"
      ],
      "metadata": {
        "id": "JXTjQf4a88eo"
      },
      "execution_count": null,
      "outputs": []
    },
    {
      "cell_type": "code",
      "source": [
        "# 하드 코딩 ㅋㅋㅋ\n",
        "def solution(my_string):\n",
        "    my_string = my_string.replace(\"a\",\"\")\n",
        "    my_string = my_string.replace(\"e\",\"\")\n",
        "    my_string = my_string.replace(\"i\",\"\")\n",
        "    my_string = my_string.replace(\"o\",\"\")\n",
        "    my_string = my_string.replace(\"u\",\"\")\n",
        "    return my_string"
      ],
      "metadata": {
        "id": "x2JmcH0R9CKc"
      },
      "execution_count": null,
      "outputs": []
    }
  ]
}