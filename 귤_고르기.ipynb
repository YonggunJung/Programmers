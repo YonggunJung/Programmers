{
  "nbformat": 4,
  "nbformat_minor": 0,
  "metadata": {
    "colab": {
      "provenance": [],
      "authorship_tag": "ABX9TyO9PcrTcsjaEjS7p3YnpvR3",
      "include_colab_link": true
    },
    "kernelspec": {
      "name": "python3",
      "display_name": "Python 3"
    },
    "language_info": {
      "name": "python"
    }
  },
  "cells": [
    {
      "cell_type": "markdown",
      "metadata": {
        "id": "view-in-github",
        "colab_type": "text"
      },
      "source": [
        "<a href=\"https://colab.research.google.com/github/YonggunJung/Programmers/blob/main/%EA%B7%A4_%EA%B3%A0%EB%A5%B4%EA%B8%B0.ipynb\" target=\"_parent\"><img src=\"https://colab.research.google.com/assets/colab-badge.svg\" alt=\"Open In Colab\"/></a>"
      ]
    },
    {
      "cell_type": "code",
      "execution_count": 1,
      "metadata": {
        "id": "EGln271GH6vO"
      },
      "outputs": [],
      "source": [
        "# 문제 설명\n",
        "# 경화는 과수원에서 귤을 수확했습니다.\n",
        "# 경화는 수확한 귤 중 'k'개를 골라 상자 하나에 담아 판매하려고 합니다.\n",
        "# 그런데 수확한 귤의 크기가 일정하지 않아 보기에 좋지 않다고 생각한 경화는\n",
        "# 귤을 크기별로 분류했을 때 서로 다른 종류의 수를 최소화하고 싶습니다.\n",
        "\n",
        "# 예를 들어, 경화가 수확한 귤 8개의 크기가 [1, 3, 2, 5, 4, 5, 2, 3] 이라고 합시다.\n",
        "# 경화가 귤 6개를 판매하고 싶다면,\n",
        "# 크기가 1, 4인 귤을 제외한 여섯 개의 귤을 상자에 담으면,\n",
        "# 귤의 크기의 종류가 2, 3, 5로 총 3가지가 되며\n",
        "# 이때가 서로 다른 종류가 최소일 때입니다.\n",
        "\n",
        "# 경화가 한 상자에 담으려는 귤의 개수 k와\n",
        "# 귤의 크기를 담은 배열 tangerine이 매개변수로 주어집니다.\n",
        "# 경화가 귤 k개를 고를 때 크기가 서로 다른 종류의 수의 최솟값을\n",
        "# return 하도록 solution 함수를 작성해주세요.\n",
        "\n",
        "# 제한사항\n",
        "# 1 ≤ k ≤ tangerine의 길이 ≤ 100,000\n",
        "# 1 ≤ tangerine의 원소 ≤ 10,000,000\n",
        "\n",
        "# 입출력 예\n",
        "# k\t    tangerine\t                  result\n",
        "# 6\t    [1, 3, 2, 5, 4, 5, 2, 3]\t    3\n",
        "# 4\t    [1, 3, 2, 5, 4, 5, 2, 3]\t    2\n",
        "# 2\t    [1, 1, 1, 1, 2, 2, 2, 3]\t    1\n",
        "\n",
        "# 입출력 예 설명\n",
        "# 입출력 예 #1\n",
        "# 본문에서 설명한 예시입니다.\n",
        "\n",
        "# 입출력 예 #2\n",
        "# 경화는 크기가 2인 귤 2개와 3인 귤 2개 또는\n",
        "# 2인 귤 2개와 5인 귤 2개 또는\n",
        "# 3인 귤 2개와 5인 귤 2개로 귤을 판매할 수 있습니다.\n",
        "# 이때의 크기 종류는 2가지로 이 값이 최소가 됩니다.\n",
        "\n",
        "# 입출력 예 #3\n",
        "# 경화는 크기가 1인 귤 2개를 판매하거나\n",
        "# 2인 귤 2개를 판매할 수 있습니다.\n",
        "# 이때의 크기 종류는 1가지로, 이 값이 최소가 됩니다.\n"
      ]
    },
    {
      "cell_type": "code",
      "source": [
        "def solution(k, tangerine):\n",
        "    answer = 0\n",
        "    arr = [0 for i in range(10000001)]\n",
        "    for i in range(len(tangerine)):\n",
        "      arr[tangerine[i]] += 1\n",
        "    arr.sort(reverse = True)\n",
        "    for i in range(len(arr)):\n",
        "      k -= arr[i]\n",
        "      if k <= 0:\n",
        "        answer = i + 1\n",
        "        break\n",
        "\n",
        "    return answer"
      ],
      "metadata": {
        "id": "35eN9uZzIQNA"
      },
      "execution_count": 2,
      "outputs": []
    },
    {
      "cell_type": "code",
      "source": [
        "# 와 넘파이 못쓰게하네 ㅠㅠ\n",
        "import numpy as np\n",
        "\n",
        "k = 2\n",
        "tangerine = [1, 1, 1, 1, 2, 2, 2, 3]\n",
        "t = np.array(tangerine)\n",
        "u, c = np.unique(t, return_counts = True)\n",
        "c = list(c)\n",
        "c.sort(reverse = True)\n",
        "for i in range(len(c)):\n",
        "  k -= c[i]\n",
        "  if k <= 0:\n",
        "    answer = i + 1\n",
        "    break"
      ],
      "metadata": {
        "colab": {
          "base_uri": "https://localhost:8080/"
        },
        "id": "1woP1MekK1ov",
        "outputId": "3057bc2e-b9bc-47d9-f0ba-64cb5c8da124"
      },
      "execution_count": 15,
      "outputs": [
        {
          "output_type": "execute_result",
          "data": {
            "text/plain": [
              "[4, 3, 1]"
            ]
          },
          "metadata": {},
          "execution_count": 15
        }
      ]
    },
    {
      "cell_type": "code",
      "source": [
        "# 다른사람 풀이\n",
        "# 넘파이는 못쓰게 하더니 이건 되네?\n",
        "# collections 일단 이거 하나 배웠음 ㅋㅋㅋ\n",
        "import collections\n",
        "def solution(k, tangerine):\n",
        "    answer = 0\n",
        "    cnt = collections.Counter(tangerine)\n",
        "\n",
        "    # 딕셔너리로 나와서 벨류로 내림차순 정렬\n",
        "    for v in sorted(cnt.values(), reverse = True):\n",
        "        k -= v\n",
        "        answer += 1\n",
        "        if k <= 0:\n",
        "            break\n",
        "    return answer"
      ],
      "metadata": {
        "id": "eOp4JF42K9DG"
      },
      "execution_count": 16,
      "outputs": []
    },
    {
      "cell_type": "code",
      "source": [
        "import collections\n",
        "\n",
        "k = 2\n",
        "tangerine = [1, 1, 1, 1, 2, 2, 2, 3]\n",
        "cnt = collections.Counter(tangerine)\n",
        "t = np.array(tangerine)\n",
        "u, c = np.unique(t, return_counts = True)\n",
        "c = list(c)\n",
        "c.sort(reverse = True)\n",
        "for i in range(len(c)):\n",
        "  k -= c[i]\n",
        "  if k <= 0:\n",
        "    answer = i + 1\n",
        "    break\n",
        "\n",
        "# 딕셔너리로 나오는군 확인\n",
        "cnt"
      ],
      "metadata": {
        "colab": {
          "base_uri": "https://localhost:8080/"
        },
        "id": "X3IVtSPfPIvv",
        "outputId": "3fc8de71-8666-43dc-a23b-8f426e15153a"
      },
      "execution_count": 17,
      "outputs": [
        {
          "output_type": "execute_result",
          "data": {
            "text/plain": [
              "Counter({1: 4, 2: 3, 3: 1})"
            ]
          },
          "metadata": {},
          "execution_count": 17
        }
      ]
    }
  ]
}