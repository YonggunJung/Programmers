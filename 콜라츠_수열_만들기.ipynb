{
  "nbformat": 4,
  "nbformat_minor": 0,
  "metadata": {
    "colab": {
      "provenance": [],
      "authorship_tag": "ABX9TyMWQuedHqz5wZgL9cNI+KLb",
      "include_colab_link": true
    },
    "kernelspec": {
      "name": "python3",
      "display_name": "Python 3"
    },
    "language_info": {
      "name": "python"
    }
  },
  "cells": [
    {
      "cell_type": "markdown",
      "metadata": {
        "id": "view-in-github",
        "colab_type": "text"
      },
      "source": [
        "<a href=\"https://colab.research.google.com/github/YonggunJung/Programmers/blob/main/%EC%BD%9C%EB%9D%BC%EC%B8%A0_%EC%88%98%EC%97%B4_%EB%A7%8C%EB%93%A4%EA%B8%B0.ipynb\" target=\"_parent\"><img src=\"https://colab.research.google.com/assets/colab-badge.svg\" alt=\"Open In Colab\"/></a>"
      ]
    },
    {
      "cell_type": "code",
      "execution_count": null,
      "metadata": {
        "id": "SxMbEDO-D8jI"
      },
      "outputs": [],
      "source": [
        "# 문제 설명\n",
        "# 모든 자연수 x에 대해서 현재 값이 x이면 x가 짝수일 때는 2로 나누고,\n",
        "# x가 홀수일 때는 3 * x + 1로 바꾸는 계산을 계속해서 반복하면\n",
        "# 언젠가는 반드시 x가 1이 되는지 묻는 문제를 콜라츠 문제라고 부릅니다.\n",
        "\n",
        "# 그리고 위 과정에서 거쳐간 모든 수를 기록한 수열을 콜라츠 수열이라고 부릅니다.\n",
        "\n",
        "# 계산 결과 1,000 보다 작거나 같은 수에 대해서는\n",
        "# 전부 언젠가 1에 도달한다는 것이 알려져 있습니다.\n",
        "\n",
        "# 임의의 1,000 보다 작거나 같은 양의 정수 n이 주어질 때 초기값이 n인 콜라츠 수열을\n",
        "# return 하는 solution 함수를 완성해 주세요.\n",
        "\n",
        "# 제한사항\n",
        "# 1 ≤ n ≤ 1,000\n",
        "\n",
        "# 입출력 예\n",
        "# n\t        result\n",
        "# 10\t      [10, 5, 16, 8, 4, 2, 1]\n",
        "\n",
        "# 입출력 예 설명\n",
        "# 입출력 예 #1\n",
        "# 순서대로 연산한 결과를 표로 만들면 다음과 같습니다.\n",
        "# 연산 횟수\tx\t홀짝 여부\n",
        "# 0\t10\t짝수\n",
        "# 1\t5\t홀수\n",
        "# 2\t16\t짝수\n",
        "# 3\t8\t짝수\n",
        "# 4\t4\t짝수\n",
        "# 5\t2\t짝수\n",
        "# 6\t1\t홀수\n",
        "# 따라서 [10, 5, 16, 8, 4, 2, 1]을 return 합니다."
      ]
    },
    {
      "cell_type": "code",
      "source": [
        "def solution(n):\n",
        "    answer = [n]\n",
        "    while n > 1:\n",
        "      if n % 2 == 0:\n",
        "        n //= 2\n",
        "        answer.append(n)\n",
        "      else:\n",
        "        n = n * 3 +1\n",
        "        answer.append(n)\n",
        "    return answer"
      ],
      "metadata": {
        "id": "iahBXpPhEHCX"
      },
      "execution_count": 9,
      "outputs": []
    },
    {
      "cell_type": "code",
      "source": [
        "n = 10\n",
        "solution(n)"
      ],
      "metadata": {
        "colab": {
          "base_uri": "https://localhost:8080/"
        },
        "id": "oMn0ZKYFEJDW",
        "outputId": "bf872c7c-dce1-4e97-f8da-74becea665ac"
      },
      "execution_count": 10,
      "outputs": [
        {
          "output_type": "execute_result",
          "data": {
            "text/plain": [
              "[10, 5, 16, 8, 4, 2, 1]"
            ]
          },
          "metadata": {},
          "execution_count": 10
        }
      ]
    },
    {
      "cell_type": "code",
      "source": [
        "# 다른 사람 풀이"
      ],
      "metadata": {
        "id": "8IZOlQAAFgKV"
      },
      "execution_count": 11,
      "outputs": []
    },
    {
      "cell_type": "code",
      "source": [
        "def solution(n):\n",
        "    answer = []\n",
        "    while True :\n",
        "        answer.append(n)\n",
        "        if n%2==0 :\n",
        "            n/=2\n",
        "        else :\n",
        "            n =3*n+1\n",
        "        if n ==1 :\n",
        "            answer.append(n)\n",
        "            break\n",
        "    return answer"
      ],
      "metadata": {
        "id": "X-7OYMjMGfaH"
      },
      "execution_count": null,
      "outputs": []
    }
  ]
}