{
  "nbformat": 4,
  "nbformat_minor": 0,
  "metadata": {
    "colab": {
      "provenance": [],
      "authorship_tag": "ABX9TyN89+4R4PGi1Cagd3oYuTBq",
      "include_colab_link": true
    },
    "kernelspec": {
      "name": "python3",
      "display_name": "Python 3"
    },
    "language_info": {
      "name": "python"
    }
  },
  "cells": [
    {
      "cell_type": "markdown",
      "metadata": {
        "id": "view-in-github",
        "colab_type": "text"
      },
      "source": [
        "<a href=\"https://colab.research.google.com/github/YonggunJung/Programmers/blob/main/%EC%A1%B0%EA%B1%B4%EC%97%90_%EB%A7%9E%EA%B2%8C_%EC%88%98%EC%97%B4_%EB%B3%80%ED%99%98%ED%95%98%EA%B8%B0_3.ipynb\" target=\"_parent\"><img src=\"https://colab.research.google.com/assets/colab-badge.svg\" alt=\"Open In Colab\"/></a>"
      ]
    },
    {
      "cell_type": "code",
      "execution_count": 1,
      "metadata": {
        "id": "drHMdDUOTIp1"
      },
      "outputs": [],
      "source": [
        "# 문제 설명\n",
        "# 정수 배열 arr와 자연수 k가 주어집니다.\n",
        "\n",
        "# 만약 k가 홀수라면 arr의 모든 원소에 k를 곱하고,\n",
        "# k가 짝수라면 arr의 모든 원소에 k를 더합니다.\n",
        "\n",
        "# 이러한 변환을 마친 후의 arr를 return 하는 solution 함수를 완성해 주세요.\n",
        "\n",
        "# 제한사항\n",
        "# 1 ≤ arr의 길이 ≤ 1,000,000\n",
        "# 1 ≤ arr의 원소의 값 ≤ 100\n",
        "# 1 ≤ k ≤ 100\n",
        "\n",
        "# 입출력 예\n",
        "# arr\t                      k\t      result\n",
        "# [1, 2, 3, 100, 99, 98]\t  3\t      [3, 6, 9, 300, 297, 294]\n",
        "# [1, 2, 3, 100, 99, 98]\t  2\t      [3, 4, 5, 102, 101, 100]\n",
        "\n",
        "# 입출력 예 설명\n",
        "# 입출력 예 #1\n",
        "# 주어진 k인 3은 홀수이므로, 전체 배열에 3을 곱합니다.\n",
        "# 따라서 [3, 6, 9, 300, 297, 294]을 return 합니다.\n",
        "\n",
        "# 입출력 예 #2\n",
        "# 주어진 k인 2는 짝수이므로, 전체 배열에 2를 더합니다.\n",
        "# 따라서 [3, 4, 5, 102, 101, 100]을 return 합니다."
      ]
    },
    {
      "cell_type": "code",
      "source": [
        "def solution(arr, k):\n",
        "    answer = []\n",
        "    for num in arr:\n",
        "      if k % 2 == 1:\n",
        "        answer.append(num * k)\n",
        "      else:\n",
        "        answer.append(num + k)\n",
        "    return answer"
      ],
      "metadata": {
        "id": "6Rn_c5B2TR1S"
      },
      "execution_count": 9,
      "outputs": []
    },
    {
      "cell_type": "code",
      "source": [
        "arr = [1, 2, 3, 100, 99, 98]\n",
        "k = 3\n",
        "solution(arr, k)"
      ],
      "metadata": {
        "colab": {
          "base_uri": "https://localhost:8080/"
        },
        "id": "UL63oPnZTTgZ",
        "outputId": "0e1d916f-b50c-47ba-9a96-42261cd716a7"
      },
      "execution_count": 10,
      "outputs": [
        {
          "output_type": "execute_result",
          "data": {
            "text/plain": [
              "[3, 6, 9, 300, 297, 294]"
            ]
          },
          "metadata": {},
          "execution_count": 10
        }
      ]
    },
    {
      "cell_type": "code",
      "source": [
        "arr = [1, 2, 3, 100, 99, 98]\n",
        "k = 2\n",
        "solution(arr, k)"
      ],
      "metadata": {
        "colab": {
          "base_uri": "https://localhost:8080/"
        },
        "id": "06etf0SSTWQs",
        "outputId": "50cc881d-cf9c-4352-b650-2e86772a8f07"
      },
      "execution_count": 11,
      "outputs": [
        {
          "output_type": "execute_result",
          "data": {
            "text/plain": [
              "[3, 4, 5, 102, 101, 100]"
            ]
          },
          "metadata": {},
          "execution_count": 11
        }
      ]
    },
    {
      "cell_type": "code",
      "source": [
        "# 다른사람 풀이"
      ],
      "metadata": {
        "id": "oXUrKAB2TWOR"
      },
      "execution_count": 12,
      "outputs": []
    },
    {
      "cell_type": "code",
      "source": [
        "def solution(arr, k):\n",
        "    return [i*k if k%2!=0 else i+k for i in arr]"
      ],
      "metadata": {
        "id": "CYyELRjEUbuy"
      },
      "execution_count": 13,
      "outputs": []
    },
    {
      "cell_type": "code",
      "source": [
        "def solution(arr, k):\n",
        "    if k % 2 != 0:\n",
        "        return list(map(lambda x: x * k, arr))\n",
        "\n",
        "    return list(map(lambda x: x + k, arr))"
      ],
      "metadata": {
        "id": "UPxaNlVkUfUZ"
      },
      "execution_count": 14,
      "outputs": []
    },
    {
      "cell_type": "code",
      "source": [
        "def solution(arr, k):\n",
        "\n",
        "    if k%2==0:\n",
        "        return [a+k for a in arr]\n",
        "    else:\n",
        "        return [a*k for a in arr]"
      ],
      "metadata": {
        "id": "1q6RMw94UjYp"
      },
      "execution_count": 15,
      "outputs": []
    },
    {
      "cell_type": "code",
      "source": [],
      "metadata": {
        "id": "8MnvsyZMUoHR"
      },
      "execution_count": null,
      "outputs": []
    }
  ]
}