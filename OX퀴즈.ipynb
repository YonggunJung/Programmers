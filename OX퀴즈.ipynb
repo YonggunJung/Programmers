{
  "nbformat": 4,
  "nbformat_minor": 0,
  "metadata": {
    "colab": {
      "provenance": [],
      "authorship_tag": "ABX9TyOyiB8BJ6xabWXYL2nZV2Fn",
      "include_colab_link": true
    },
    "kernelspec": {
      "name": "python3",
      "display_name": "Python 3"
    },
    "language_info": {
      "name": "python"
    }
  },
  "cells": [
    {
      "cell_type": "markdown",
      "metadata": {
        "id": "view-in-github",
        "colab_type": "text"
      },
      "source": [
        "<a href=\"https://colab.research.google.com/github/YonggunJung/Programmers/blob/main/OX%ED%80%B4%EC%A6%88.ipynb\" target=\"_parent\"><img src=\"https://colab.research.google.com/assets/colab-badge.svg\" alt=\"Open In Colab\"/></a>"
      ]
    },
    {
      "cell_type": "code",
      "execution_count": 1,
      "metadata": {
        "id": "4YEKUVkYkw1E"
      },
      "outputs": [],
      "source": [
        "# 문제 설명\n",
        "# 덧셈, 뺄셈 수식들이 'X [연산자] Y = Z' 형태로 들어있는 문자열 배열 quiz가 매개변수로 주어집니다.\n",
        "# 수식이 옳다면 \"O\"를 틀리다면 \"X\"를 순서대로 담은 배열을\n",
        "# return하도록 solution 함수를 완성해주세요.\n",
        "\n",
        "# 제한사항\n",
        "# 연산 기호와 숫자 사이는 항상 하나의 공백이 존재합니다.\n",
        "# 단 음수를 표시하는 마이너스 기호와 숫자 사이에는 공백이 존재하지 않습니다.\n",
        "# 1 ≤ quiz의 길이 ≤ 10\n",
        "# X, Y, Z는 각각 0부터 9까지 숫자로 이루어진 정수를 의미하며,\n",
        "# 각 숫자의 맨 앞에 마이너스 기호가 하나 있을 수 있고 이는 음수를 의미합니다.\n",
        "# X, Y, Z는 0을 제외하고는 0으로 시작하지 않습니다.\n",
        "# -10,000 ≤ X, Y ≤ 10,000\n",
        "# -20,000 ≤ Z ≤ 20,000\n",
        "# [연산자]는 + 와 - 중 하나입니다.\n",
        "\n",
        "# 입출력 예\n",
        "# quiz\t                                                            result\n",
        "# [\"3 - 4 = -3\", \"5 + 6 = 11\"]\t                                    [\"X\", \"O\"]\n",
        "# [\"19 - 6 = 13\", \"5 + 66 = 71\", \"5 - 15 = 63\", \"3 - 1 = 2\"]\t      [\"O\", \"O\", \"X\", \"O\"]\n",
        "\n",
        "# 입출력 예 설명\n",
        "# 입출력 예 #1\n",
        "# 3 - 4 = -3 은 틀린 수식이므로 \"X\", 5 + 6 = 11 은 옳은 수식이므로 \"O\" 입니다.\n",
        "# 따라서 [\"X\", \"O\"]를 return합니다.\n",
        "\n",
        "# 입출력 예 #2\n",
        "# 19 - 6 = 13 은 옳은 수식이므로 \"O\",\n",
        "# 5 + 66 = 71 은 옳은 수식이므로 \"O\",\n",
        "# 5 - 15 = 63 은 틀린 수식이므로 \"X\",\n",
        "# 3 - 1 = 2는 옳은 수식이므로 \"O\" 따라서 [\"O\", \"O\", \"X\", \"O\"]를 return합니다."
      ]
    },
    {
      "cell_type": "code",
      "source": [
        "# 약간 헤매긴 했는데 그래도 천천히 풀어냄\n",
        "def solution(quiz):\n",
        "    answer = []\n",
        "    for i in quiz:\n",
        "      a = i.split('=')\n",
        "      if eval(a[0]) == int(a[-1]):\n",
        "        answer.append(\"O\")\n",
        "      elif eval(a[0]) != int(a[-1]):\n",
        "        answer.append(\"X\")\n",
        "\n",
        "\n",
        "    return answer"
      ],
      "metadata": {
        "id": "llff970YlcW2"
      },
      "execution_count": 32,
      "outputs": []
    },
    {
      "cell_type": "code",
      "source": [
        "# quiz = [\"19 - 6 = 13\", \"5 + 66 = 71\", \"5 - 15 = 63\"]\n",
        "# for i in quiz:\n",
        "#       a = i.split('=')\n",
        "#       if eval(a[0]) == int(a[-1]):\n",
        "#         b = 2\n",
        "#       elif eval(a[0]) != int(a[-1]):\n",
        "#         b = 3\n",
        "\n",
        "# a,b"
      ],
      "metadata": {
        "id": "7WOwvJ5PsTn8"
      },
      "execution_count": 33,
      "outputs": []
    },
    {
      "cell_type": "code",
      "source": [
        "quiz = [\"3 - 4 = -3\", \"5 + 6 = 11\"]\n",
        "solution(quiz)"
      ],
      "metadata": {
        "colab": {
          "base_uri": "https://localhost:8080/"
        },
        "id": "dgXDhXbYldmq",
        "outputId": "3e21b375-58b7-4771-c4a9-fa0b96728fe2"
      },
      "execution_count": 34,
      "outputs": [
        {
          "output_type": "execute_result",
          "data": {
            "text/plain": [
              "['X', 'O']"
            ]
          },
          "metadata": {},
          "execution_count": 34
        }
      ]
    },
    {
      "cell_type": "code",
      "source": [
        "quiz = [\"19 - 6 = 13\", \"5 + 66 = 71\", \"5 - 15 = 63\", \"3 - 1 = 2\"]\n",
        "solution(quiz)"
      ],
      "metadata": {
        "colab": {
          "base_uri": "https://localhost:8080/"
        },
        "id": "xrGzLAoslg_h",
        "outputId": "c86b4a50-bbf0-4595-d78b-5827bddb5359"
      },
      "execution_count": 37,
      "outputs": [
        {
          "output_type": "execute_result",
          "data": {
            "text/plain": [
              "['O', 'O', 'X', 'O']"
            ]
          },
          "metadata": {},
          "execution_count": 37
        }
      ]
    },
    {
      "cell_type": "code",
      "source": [
        "# 다른 사람 풀이"
      ],
      "metadata": {
        "id": "ggqgDBnVlg9A"
      },
      "execution_count": 38,
      "outputs": []
    },
    {
      "cell_type": "code",
      "source": [
        "# 와 이걸 바로 이렇게 풀다니 ㅋㅋㅋ\n",
        "# 생각지도 못했네\n",
        "def valid(equation):\n",
        "    equation = equation.replace('=', '==')\n",
        "    return eval(equation)\n",
        "\n",
        "def solution(equations):\n",
        "    return [\"O\" if valid(equation) else \"X\" for equation in equations]"
      ],
      "metadata": {
        "id": "kTQwiaOOtmoZ"
      },
      "execution_count": 39,
      "outputs": []
    },
    {
      "cell_type": "code",
      "source": [
        "# 이렇게 했으면 더 쉬웠군\n",
        "def solution(quiz):\n",
        "    answer = []\n",
        "    for q in quiz:\n",
        "        p, a = q.split(\"=\")\n",
        "        if eval(p) == int(a):\n",
        "            answer.append(\"O\")\n",
        "        else:\n",
        "            answer.append(\"X\")\n",
        "    return answer"
      ],
      "metadata": {
        "id": "Jz_M3xj_ttFn"
      },
      "execution_count": null,
      "outputs": []
    }
  ]
}