{
  "nbformat": 4,
  "nbformat_minor": 0,
  "metadata": {
    "colab": {
      "provenance": [],
      "authorship_tag": "ABX9TyPzJGxrwViFA073YUCD2kK5",
      "include_colab_link": true
    },
    "kernelspec": {
      "name": "python3",
      "display_name": "Python 3"
    },
    "language_info": {
      "name": "python"
    }
  },
  "cells": [
    {
      "cell_type": "markdown",
      "metadata": {
        "id": "view-in-github",
        "colab_type": "text"
      },
      "source": [
        "<a href=\"https://colab.research.google.com/github/YonggunJung/Programmers/blob/main/%EC%B9%B4%ED%8E%AB.ipynb\" target=\"_parent\"><img src=\"https://colab.research.google.com/assets/colab-badge.svg\" alt=\"Open In Colab\"/></a>"
      ]
    },
    {
      "cell_type": "code",
      "execution_count": 1,
      "metadata": {
        "id": "XdHftSJI7MmK"
      },
      "outputs": [],
      "source": [
        "# 문제 설명\n",
        "# Leo는 카펫을 사러 갔다가 아래 그림과 같이 중앙에는\n",
        "# 노란색으로 칠해져 있고 테두리 1줄은 갈색으로 칠해져 있는 격자 모양 카펫을 봤습니다.\n",
        "\n",
        "# carpet.png\n",
        "\n",
        "# Leo는 집으로 돌아와서 아까 본 카펫의 노란색과 갈색으로\n",
        "# 색칠된 격자의 개수는 기억했지만,\n",
        "# 전체 카펫의 크기는 기억하지 못했습니다.\n",
        "\n",
        "# Leo가 본 카펫에서 갈색 격자의 수 brown,\n",
        "# 노란색 격자의 수 yellow가 매개변수로 주어질 때 카펫의 가로,\n",
        "# 세로 크기를 순서대로 배열에 담아 return 하도록 solution 함수를 작성해주세요.\n",
        "\n",
        "# 제한사항\n",
        "# 갈색 격자의 수 brown은 8 이상 5,000 이하인 자연수입니다.\n",
        "# 노란색 격자의 수 yellow는 1 이상 2,000,000 이하인 자연수입니다.\n",
        "# 카펫의 가로 길이는 세로 길이와 같거나, 세로 길이보다 깁니다.\n",
        "\n",
        "# 입출력 예\n",
        "# brown\t    yellow\t    return\n",
        "# 10\t        2\t        [4, 3]\n",
        "# 8\t          1\t        [3, 3]\n",
        "# 24\t        24\t      [8, 6]"
      ]
    },
    {
      "cell_type": "code",
      "source": [
        "# 이렇게도 되는구나\n",
        "#  근의 공식을 안쓴 가장 이해하기 좋은 코드.\n",
        "def solution(brown, yellow):\n",
        "    w = (brown / 2) + 1\n",
        "    h = 1\n",
        "    while w >= h:\n",
        "        if (w - 2) * (h - 2) == yellow:\n",
        "            return [w, h]\n",
        "        w -= 1\n",
        "        h += 1"
      ],
      "metadata": {
        "id": "3NRiH7l77OkU"
      },
      "execution_count": null,
      "outputs": []
    }
  ]
}