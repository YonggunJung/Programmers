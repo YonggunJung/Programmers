{
  "nbformat": 4,
  "nbformat_minor": 0,
  "metadata": {
    "colab": {
      "provenance": [],
      "authorship_tag": "ABX9TyOTThGEnS1k8a1MV92D1YIj",
      "include_colab_link": true
    },
    "kernelspec": {
      "name": "python3",
      "display_name": "Python 3"
    },
    "language_info": {
      "name": "python"
    }
  },
  "cells": [
    {
      "cell_type": "markdown",
      "metadata": {
        "id": "view-in-github",
        "colab_type": "text"
      },
      "source": [
        "<a href=\"https://colab.research.google.com/github/YonggunJung/Programmers/blob/main/%EC%A0%9C%EA%B3%B1%EC%88%98_%ED%8C%90%EB%B3%84%ED%95%98%EA%B8%B0.ipynb\" target=\"_parent\"><img src=\"https://colab.research.google.com/assets/colab-badge.svg\" alt=\"Open In Colab\"/></a>"
      ]
    },
    {
      "cell_type": "code",
      "execution_count": 1,
      "metadata": {
        "id": "nRQOFy8qAy-B"
      },
      "outputs": [],
      "source": [
        "# 문제 설명\n",
        "# 어떤 자연수를 제곱했을 때 나오는 정수를 제곱수라고 합니다.\n",
        "# 정수 n이 매개변수로 주어질 때, n이 제곱수라면 1을 아니라면 2를 return하도록 solution 함수를 완성해주세요.\n",
        "\n",
        "# 제한사항\n",
        "# 1 ≤ n ≤ 1,000,000\n",
        "\n",
        "# 입출력 예\n",
        "# n\t        result\n",
        "# 144\t        1\n",
        "# 976\t        2\n",
        "\n",
        "# 입출력 예 설명\n",
        "# 입출력 예 #1\n",
        "# 144는 12의 제곱이므로 제곱수입니다. 따라서 1을 return합니다.\n",
        "\n",
        "# 입출력 예 #2\n",
        "# 976은 제곱수가 아닙니다. 따라서 2를 return합니다."
      ]
    },
    {
      "cell_type": "code",
      "source": [
        "# 0.5제곱 하는걸 몰라서 시간 보냄\n",
        "def solution(n):\n",
        "    num = n ** 0.5\n",
        "    if num == int(num):\n",
        "      answer = 1\n",
        "    else:\n",
        "      answer = 2\n",
        "\n",
        "    return answer"
      ],
      "metadata": {
        "id": "bqO0dyjkBMCM"
      },
      "execution_count": 4,
      "outputs": []
    },
    {
      "cell_type": "code",
      "source": [
        "n = 144\n",
        "solution(n)"
      ],
      "metadata": {
        "colab": {
          "base_uri": "https://localhost:8080/"
        },
        "id": "eFA9ffquBKwd",
        "outputId": "c11fd3cb-944d-4134-ee38-0e5886ce1e18"
      },
      "execution_count": 5,
      "outputs": [
        {
          "output_type": "execute_result",
          "data": {
            "text/plain": [
              "1"
            ]
          },
          "metadata": {},
          "execution_count": 5
        }
      ]
    },
    {
      "cell_type": "code",
      "source": [
        "n = 976\n",
        "solution(n)"
      ],
      "metadata": {
        "colab": {
          "base_uri": "https://localhost:8080/"
        },
        "id": "g3HS7bZFBYhG",
        "outputId": "91c4d811-9c03-47d9-844e-f957c337c0c7"
      },
      "execution_count": 6,
      "outputs": [
        {
          "output_type": "execute_result",
          "data": {
            "text/plain": [
              "2"
            ]
          },
          "metadata": {},
          "execution_count": 6
        }
      ]
    },
    {
      "cell_type": "code",
      "source": [
        "# 다른 사람 풀이"
      ],
      "metadata": {
        "id": "uxdX-9WoC30m"
      },
      "execution_count": 7,
      "outputs": []
    },
    {
      "cell_type": "code",
      "source": [
        "# 한줄 코드\n",
        "# 나눈 값이 정수이면 1 리턴\n",
        "def solution(n):\n",
        "    return 1 if (n ** 0.5).is_integer() else 2"
      ],
      "metadata": {
        "id": "n6N8LXf4DGc8"
      },
      "execution_count": 8,
      "outputs": []
    },
    {
      "cell_type": "code",
      "source": [
        "# 나눈 값의 나머지가 0이면 1리턴\n",
        "def solution(n):\n",
        "    return 1 if (n ** 0.5) % 1 == 0 else 2"
      ],
      "metadata": {
        "id": "In1x6kThDY5T"
      },
      "execution_count": 9,
      "outputs": []
    },
    {
      "cell_type": "code",
      "source": [
        "# 이런 생각도 가능\n",
        "def solution(n):\n",
        "    for i in range(1,n):\n",
        "        if n == i * i:\n",
        "            return 1\n",
        "    return 2"
      ],
      "metadata": {
        "id": "VrjI2r2rDlVr"
      },
      "execution_count": 10,
      "outputs": []
    },
    {
      "cell_type": "code",
      "source": [
        "# math 사용\n",
        "import math\n",
        "\n",
        "def solution(n):\n",
        "    return 1 if int(math.sqrt(n)) ** 2 == n else 2"
      ],
      "metadata": {
        "id": "3Pc4EU6xDr3T"
      },
      "execution_count": null,
      "outputs": []
    }
  ]
}