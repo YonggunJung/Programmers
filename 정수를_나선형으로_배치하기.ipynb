{
  "nbformat": 4,
  "nbformat_minor": 0,
  "metadata": {
    "colab": {
      "provenance": [],
      "authorship_tag": "ABX9TyPinQvfZJYHw873cGLkOxUE",
      "include_colab_link": true
    },
    "kernelspec": {
      "name": "python3",
      "display_name": "Python 3"
    },
    "language_info": {
      "name": "python"
    }
  },
  "cells": [
    {
      "cell_type": "markdown",
      "metadata": {
        "id": "view-in-github",
        "colab_type": "text"
      },
      "source": [
        "<a href=\"https://colab.research.google.com/github/YonggunJung/Programmers/blob/main/%EC%A0%95%EC%88%98%EB%A5%BC_%EB%82%98%EC%84%A0%ED%98%95%EC%9C%BC%EB%A1%9C_%EB%B0%B0%EC%B9%98%ED%95%98%EA%B8%B0.ipynb\" target=\"_parent\"><img src=\"https://colab.research.google.com/assets/colab-badge.svg\" alt=\"Open In Colab\"/></a>"
      ]
    },
    {
      "cell_type": "code",
      "execution_count": 1,
      "metadata": {
        "id": "Y4vrr9Hxf-sq"
      },
      "outputs": [],
      "source": [
        "# 문제 설명\n",
        "# 양의 정수 n이 매개변수로 주어집니다.\n",
        "# n × n 배열에 1부터 n2 까지 정수를 인덱스 [0][0]부터\n",
        "# 시계방향 나선형으로 배치한 이차원 배열을 return 하는 solution 함수를 작성해 주세요.\n",
        "\n",
        "# 제한사항\n",
        "# 1 ≤ n ≤ 30\n",
        "\n",
        "# 입출력 예\n",
        "# n\t    result\n",
        "# 4\t    [[1, 2, 3, 4], [12, 13, 14, 5], [11, 16, 15, 6], [10, 9, 8, 7]]\n",
        "# 5\t    [[1, 2, 3, 4, 5], [16, 17, 18, 19, 6], [15, 24, 25, 20, 7], [14, 23, 22, 21, 8], [13, 12, 11, 10, 9]]\n",
        "\n",
        "# 입출력 예 설명\n",
        "# 입출력 예 #1\n",
        "# 예제 1번의 n의 값은 4로 4 × 4 배열에 다음과 같이 1부터 16까지 숫자를 채울 수 있습니다.\n",
        "\n",
        "# 행\\열\t  0\t    1\t    2\t    3\n",
        "# 0\t      1\t    2\t    3\t    4\n",
        "# 1\t      12\t  13\t  14\t  5\n",
        "# 2\t      11\t  16\t  15\t  6\n",
        "# 3\t      10\t  9\t    8\t    7\n",
        "# 따라서 [[1, 2, 3, 4], [12, 13, 14, 5], [11, 16, 15, 6], [10, 9, 8, 7]]를\n",
        "# return 합니다.\n",
        "\n",
        "# 입출력 예 #2\n",
        "# 예제 2번의 n의 값은 5로 5 × 5 배열에 다음과 같이 1부터 25까지 숫자를 채울 수 있습니다.\n",
        "\n",
        "# 행\\열\t  0\t    1\t    2\t    3\t    4\n",
        "# 0\t      1\t    2\t    3\t    4\t    5\n",
        "# 1     \t16\t  17\t  18\t  19\t  6\n",
        "# 2\t      15\t  24\t  25\t  20\t  7\n",
        "# 3\t      14  \t23\t  22\t  21\t  8\n",
        "# 4\t      13\t  12\t  11\t  10\t  9\n",
        "# 따라서 [[1, 2, 3, 4, 5], [16, 17, 18, 19, 6], [15, 24, 25, 20, 7], [14, 23, 22, 21, 8], [13, 12, 11, 10, 9]]를 return 합니다."
      ]
    },
    {
      "cell_type": "code",
      "source": [
        "# 풀이.\n",
        "# 혼자선 못 풀었음\n",
        "\n",
        "def solution(n):\n",
        "\n",
        "    #[[0,0,0,0], [0,0,0,0], [0,0,0,0], [0,0,0,0]] 빈 리스트 만들기\n",
        "    sprial = [[0] * n for _ in range(n)]\n",
        "\n",
        "    # 무언가에 부딪혔을 때 [우 하 상 좌]순으로 움직이게 하는 방향설정\n",
        "    # [ 오른쪽으로(→) 이동 / 부딪히면 아래로(↓) 이동 / 부딪히면 왼쪽(←)으로 이동 / 부딪히면 위로(↑) 이동 ] 반복\n",
        "    dx = [1,0,-1,0] # 처음 방향은 오른쪽이니 dx는 1, dy는 0 / 부딪히면 아래쪽으로 이동해야 하니 dx 0 dy 1 이런식\n",
        "    dy = [0,1,0,-1]\n",
        "\n",
        "    #처음 좌표\n",
        "    x, y = 0, 0\n",
        "\n",
        "    #방향 (dx, dy의 0,1,2,3 0,1,2,3 대입하면서 방향을 설정하는 용도)\n",
        "    diretion = 0\n",
        "\n",
        "    # n의 제곱만큼 반복 (i는 1부터 n*n까지)\n",
        "    for i in range(1,(n*n)+1):\n",
        "\n",
        "        #빈배열에 i 순서대로 넣어주기\n",
        "        sprial[y][x] = i\n",
        "\n",
        "        #이동할 다음 좌표 구하기\n",
        "        nx = x + dx[diretion]\n",
        "        ny = y + dy[diretion]\n",
        "\n",
        "        #이동할 좌표가 벽에 부딪히거나(인덱스를 벗어나는 행위) 숫자가 들어있을 시 다음 이동할 좌표 새로 구하기\n",
        "        if nx >= n or nx < 0 or ny >= n or ny < 0 or sprial[ny][nx] != 0:\n",
        "\n",
        "            #방향은 총 상하좌우 4가지\n",
        "            diretion = (diretion + 1) % 4\n",
        "\n",
        "            #방향 정한후 다음 이동할 좌표 정하기\n",
        "            nx = x + dx[diretion]\n",
        "            ny = y + dy[diretion]\n",
        "\n",
        "        #x, y에 이동해야할 다음 좌표 넣기\n",
        "        x, y = nx, ny\n",
        "\n",
        "    return sprial"
      ],
      "metadata": {
        "id": "0av_RKrEt9JF"
      },
      "execution_count": null,
      "outputs": []
    },
    {
      "cell_type": "code",
      "source": [
        "# 이건 정말 어렵군\n",
        "# 입문 문제에 이런게 나올 줄이야\n",
        "# 쉬운거 나온다고 그랬는데 이렇도는 나와 줘야 확실히 배우는 느낌이네\n",
        "# 한시간 고민해도 안나온건 오랜만\n",
        "def solution(n):\n",
        "    answer = [[0]*n for _ in range(n)]\n",
        "    # 방향 좌표\n",
        "    dx = [1, 0, -1, 0]\n",
        "    dy = [0, 1, 0, -1]\n",
        "    #처음 좌표\n",
        "    x, y = 0, 0\n",
        "    # 방향키\n",
        "    direction = 0\n",
        "\n",
        "    # 들어갈 숫자\n",
        "    for i in range(1, n **2 +1):\n",
        "      answer[y][x] = i\n",
        "      # 이동할 다음 좌표\n",
        "      nx = x + dx[direction]\n",
        "      ny = y + dy[direction]\n",
        "      # 방향키 돌릴 시점\n",
        "      if nx >= n or nx < 0 or ny >= n or ny < 0 or answer[ny][nx] != 0:\n",
        "        # 방향은 4방향. 방향키 돌리기\n",
        "        direction = (direction + 1) % 4\n",
        "\n",
        "        # 방향키 돌린 후 다음 이동할 좌표\n",
        "        nx = x + dx[direction]\n",
        "        ny = y + dy[direction]\n",
        "\n",
        "      # x, y에 이동해야할 다음 좌표 전달\n",
        "      x, y = nx, ny\n",
        "\n",
        "    return answer"
      ],
      "metadata": {
        "id": "VV5vaDy4gwsQ"
      },
      "execution_count": 21,
      "outputs": []
    },
    {
      "cell_type": "code",
      "source": [
        "n = 4\n",
        "solution(n)\n"
      ],
      "metadata": {
        "colab": {
          "base_uri": "https://localhost:8080/"
        },
        "id": "MSmAES9Yg17-",
        "outputId": "6a11a89d-82f5-4abc-e3f3-41868aae1164"
      },
      "execution_count": 22,
      "outputs": [
        {
          "output_type": "execute_result",
          "data": {
            "text/plain": [
              "[[1, 2, 3, 4], [12, 13, 14, 5], [11, 16, 15, 6], [10, 9, 8, 7]]"
            ]
          },
          "metadata": {},
          "execution_count": 22
        }
      ]
    },
    {
      "cell_type": "code",
      "source": [
        "n = 5\n",
        "solution(n)"
      ],
      "metadata": {
        "colab": {
          "base_uri": "https://localhost:8080/"
        },
        "id": "1tn7K_K1g5Jr",
        "outputId": "764edab9-1ef1-4f9f-a29f-7e7d28743dda"
      },
      "execution_count": 23,
      "outputs": [
        {
          "output_type": "execute_result",
          "data": {
            "text/plain": [
              "[[1, 2, 3, 4, 5],\n",
              " [16, 17, 18, 19, 6],\n",
              " [15, 24, 25, 20, 7],\n",
              " [14, 23, 22, 21, 8],\n",
              " [13, 12, 11, 10, 9]]"
            ]
          },
          "metadata": {},
          "execution_count": 23
        }
      ]
    },
    {
      "cell_type": "code",
      "source": [
        "# 다른 사람 풀이"
      ],
      "metadata": {
        "id": "D7lUUSr6g44A"
      },
      "execution_count": 24,
      "outputs": []
    },
    {
      "cell_type": "code",
      "source": [
        "# 알면 좀더 간단하게 가능\n",
        "# 하지만 풀이가 훨씬 이해하기 쉬움\n",
        "def solution(n):\n",
        "    answer = [[None for j in range(n)] for i in range(n)]\n",
        "    move = [[0, 1], [1, 0], [0, -1], [-1, 0]]\n",
        "    x, y, m = 0, 0, 0\n",
        "    for i in range(1, n**2 + 1):\n",
        "        answer[y][x] = i\n",
        "        if y + move[m][0] >= n or x + move[m][1] >= n or answer[y + move[m][0]][x + move[m][1]]:\n",
        "            m = (m + 1) % len(move)\n",
        "        y, x = y + move[m][0], x + move[m][1]\n",
        "    return answer"
      ],
      "metadata": {
        "id": "gCB2aND4xYhM"
      },
      "execution_count": 25,
      "outputs": []
    },
    {
      "cell_type": "code",
      "source": [
        "# 거의 비슷\n",
        "def solution(n):\n",
        "    dy = [0, 1, 0, -1]\n",
        "    dx = [1, 0, -1, 0]\n",
        "    y, x = 0, -1\n",
        "\n",
        "    arr = [[0] * n for _ in range(n)]\n",
        "    cnt = 1\n",
        "    direction = 0\n",
        "    while cnt <= n**2:\n",
        "        ny, nx = y + dy[direction], x + dx[direction]\n",
        "        if 0 <= ny < n and 0 <= nx < n and not arr[ny][nx]:\n",
        "            arr[ny][nx] = cnt\n",
        "            cnt += 1\n",
        "            y, x = ny, nx\n",
        "        else:\n",
        "            direction = (direction + 1) % 4\n",
        "\n",
        "    return arr"
      ],
      "metadata": {
        "id": "ILM4PztNxuBC"
      },
      "execution_count": 26,
      "outputs": []
    },
    {
      "cell_type": "code",
      "source": [
        "# 이건 뭘까??\n",
        "# 이것은 수학인가 코딩인가?? 봐도 모르겠네 ㅋㅋㅋㅋ\n",
        "def solution(n):\n",
        "    return [[ 4*i*(n-i) + (1+x+y - 2*i if (x==i or y==n-i-1) else (4*n - 6*i - x - y -3))\\\n",
        "             for i,x,y in row]\\\n",
        "               for row in [[(min(n-x-1,x,n-y-1,y),x,y)\\\n",
        "                                              for y in range(n)] for x in range(n)]]"
      ],
      "metadata": {
        "id": "Phng17Nwx5yD"
      },
      "execution_count": null,
      "outputs": []
    }
  ]
}