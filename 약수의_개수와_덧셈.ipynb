{
  "nbformat": 4,
  "nbformat_minor": 0,
  "metadata": {
    "colab": {
      "provenance": [],
      "authorship_tag": "ABX9TyPK8FpIeqTmZd3oA1L1vbAj",
      "include_colab_link": true
    },
    "kernelspec": {
      "name": "python3",
      "display_name": "Python 3"
    },
    "language_info": {
      "name": "python"
    }
  },
  "cells": [
    {
      "cell_type": "markdown",
      "metadata": {
        "id": "view-in-github",
        "colab_type": "text"
      },
      "source": [
        "<a href=\"https://colab.research.google.com/github/YonggunJung/Programmers/blob/main/%EC%95%BD%EC%88%98%EC%9D%98_%EA%B0%9C%EC%88%98%EC%99%80_%EB%8D%A7%EC%85%88.ipynb\" target=\"_parent\"><img src=\"https://colab.research.google.com/assets/colab-badge.svg\" alt=\"Open In Colab\"/></a>"
      ]
    },
    {
      "cell_type": "code",
      "execution_count": 1,
      "metadata": {
        "id": "9cEe8k3q72Wi"
      },
      "outputs": [],
      "source": [
        "# 문제 설명\n",
        "# 두 정수 left와 right가 매개변수로 주어집니다.\n",
        "# left부터 right까지의 모든 수들 중에서,\n",
        "# 약수의 개수가 짝수인 수는 더하고,\n",
        "# 약수의 개수가 홀수인 수는 뺀 수를 return 하도록\n",
        "# solution 함수를 완성해주세요.\n",
        "\n",
        "# 제한사항\n",
        "# 1 ≤ left ≤ right ≤ 1,000\n",
        "\n",
        "# 입출력 예\n",
        "# left\t  right\t    result\n",
        "# 13\t      17\t      43\n",
        "# 24\t      27\t      52\n",
        "\n",
        "# 입출력 예 설명\n",
        "# 입출력 예 #1\n",
        "# 다음 표는 13부터 17까지의 수들의 약수를 모두 나타낸 것입니다.\n",
        "# 수\t    약수\t            약수의 개수\n",
        "# 13\t    1, 13               \t2\n",
        "# 14\t    1, 2, 7, 14\t          4\n",
        "# 15\t    1, 3, 5, 15\t          4\n",
        "# 16\t    1, 2, 4, 8, 16\t      5\n",
        "# 17\t    1, 17\t                2\n",
        "# 따라서, 13 + 14 + 15 - 16 + 17 = 43을 return 해야 합니다.\n",
        "\n",
        "# 입출력 예 #2\n",
        "# 다음 표는 24부터 27까지의 수들의 약수를 모두 나타낸 것입니다.\n",
        "# 수\t    약수\t                        약수의 개수\n",
        "# 24\t    1, 2, 3, 4, 6, 8, 12, 24\t        8\n",
        "# 25\t    1, 5, 25\t                        3\n",
        "# 26\t    1, 2, 13, 26\t                    4\n",
        "# 27\t    1, 3, 9, 27\t                      4\n",
        "# 따라서, 24 - 25 + 26 + 27 = 52를 return 해야 합니다."
      ]
    },
    {
      "cell_type": "code",
      "source": [
        "def solution(left, right):\n",
        "    answer = 0\n",
        "    for i in range(left, right+1):\n",
        "        count = 0\n",
        "        for j in range(1, i+1):\n",
        "            if i % j == 0:\n",
        "                count += 1\n",
        "        if count % 2 == 0:\n",
        "            answer += i\n",
        "        else:\n",
        "            answer -= i\n",
        "    return answer"
      ],
      "metadata": {
        "id": "uW15jl6l8JKX"
      },
      "execution_count": 2,
      "outputs": []
    },
    {
      "cell_type": "code",
      "source": [
        "# 다른 사람 풀이\n",
        "# 제곱수의 약수의 개수???\n",
        "# 신기한거 알아감 ㅋㅋㅋ\n",
        "def solution(left, right):\n",
        "    answer = 0\n",
        "    for i in range(left,right+1):\n",
        "        if int(i**0.5)==i**0.5:\n",
        "            answer -= i\n",
        "        else:\n",
        "            answer += i\n",
        "    return answer"
      ],
      "metadata": {
        "id": "F1w-VNtn9EfC"
      },
      "execution_count": 3,
      "outputs": []
    },
    {
      "cell_type": "code",
      "source": [
        "# n ** 0.5 이게 1이면 약수가 짝수개이다 ㅇㅋㄷㅋ\n",
        "def solution(left, right):\n",
        "    return sum(n if (n ** 0.5) % 1 else -n for n in range(left, right + 1))"
      ],
      "metadata": {
        "id": "PJ3ypp4f9ITF"
      },
      "execution_count": null,
      "outputs": []
    }
  ]
}