{
  "nbformat": 4,
  "nbformat_minor": 0,
  "metadata": {
    "colab": {
      "provenance": [],
      "authorship_tag": "ABX9TyPdjJIvIOKbcJQ86bH1UCsh",
      "include_colab_link": true
    },
    "kernelspec": {
      "name": "python3",
      "display_name": "Python 3"
    },
    "language_info": {
      "name": "python"
    }
  },
  "cells": [
    {
      "cell_type": "markdown",
      "metadata": {
        "id": "view-in-github",
        "colab_type": "text"
      },
      "source": [
        "<a href=\"https://colab.research.google.com/github/YonggunJung/Programmers/blob/main/%EB%91%90_%EC%88%98%EC%9D%98_%EA%B3%B1.ipynb\" target=\"_parent\"><img src=\"https://colab.research.google.com/assets/colab-badge.svg\" alt=\"Open In Colab\"/></a>"
      ]
    },
    {
      "cell_type": "code",
      "execution_count": 1,
      "metadata": {
        "id": "dQsmaC9mFPLO"
      },
      "outputs": [],
      "source": [
        "# 문제 설명\n",
        "# 정수 num1, num2가 매개변수 주어집니다. num1과 num2를 곱한 값을 return 하도록 solution 함수를 완성해주세요.\n",
        "\n",
        "# 제한사항\n",
        "# 0 ≤ num1 ≤ 100\n",
        "# 0 ≤ num2 ≤ 100\n",
        "\n",
        "# 입출력 예\n",
        "# num1\tnum2\tresult\n",
        "#   3\t    4\t     12\n",
        "#  27\t   19\t    513\n",
        "\n",
        "# 입출력 예 설명\n",
        "# 입출력 예 #1\n",
        "# num1이 3, num2가 4이므로 3 * 4 = 12를 return합니다.\n",
        "\n",
        "# 입출력 예 #2\n",
        "# num1이 27, num2가 19이므로 27 * 19 = 513을 return합니다."
      ]
    },
    {
      "cell_type": "code",
      "source": [
        "def solution(num1, num2):\n",
        "    answer = 0\n",
        "    answer = num1 * num2\n",
        "    return answer"
      ],
      "metadata": {
        "id": "7raKNIOSFZqZ"
      },
      "execution_count": 2,
      "outputs": []
    },
    {
      "cell_type": "code",
      "source": [
        "solution(3, 4)"
      ],
      "metadata": {
        "colab": {
          "base_uri": "https://localhost:8080/"
        },
        "id": "iYV8UDc3FvYh",
        "outputId": "541694af-053f-4d59-a089-015d38dc53b8"
      },
      "execution_count": 3,
      "outputs": [
        {
          "output_type": "execute_result",
          "data": {
            "text/plain": [
              "12"
            ]
          },
          "metadata": {},
          "execution_count": 3
        }
      ]
    },
    {
      "cell_type": "code",
      "source": [
        "solution(27, 19)"
      ],
      "metadata": {
        "colab": {
          "base_uri": "https://localhost:8080/"
        },
        "id": "5tmWM7cBFxZ9",
        "outputId": "b1dad046-fb21-417a-cada-1f16c05388e2"
      },
      "execution_count": 4,
      "outputs": [
        {
          "output_type": "execute_result",
          "data": {
            "text/plain": [
              "513"
            ]
          },
          "metadata": {},
          "execution_count": 4
        }
      ]
    },
    {
      "cell_type": "code",
      "source": [],
      "metadata": {
        "id": "4QwYO1R6F26C"
      },
      "execution_count": null,
      "outputs": []
    }
  ]
}