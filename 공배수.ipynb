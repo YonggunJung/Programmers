{
  "nbformat": 4,
  "nbformat_minor": 0,
  "metadata": {
    "colab": {
      "provenance": [],
      "authorship_tag": "ABX9TyNxEUUJ9wZnbxS+zlm5xQN8",
      "include_colab_link": true
    },
    "kernelspec": {
      "name": "python3",
      "display_name": "Python 3"
    },
    "language_info": {
      "name": "python"
    }
  },
  "cells": [
    {
      "cell_type": "markdown",
      "metadata": {
        "id": "view-in-github",
        "colab_type": "text"
      },
      "source": [
        "<a href=\"https://colab.research.google.com/github/YonggunJung/Programmers/blob/main/%EA%B3%B5%EB%B0%B0%EC%88%98.ipynb\" target=\"_parent\"><img src=\"https://colab.research.google.com/assets/colab-badge.svg\" alt=\"Open In Colab\"/></a>"
      ]
    },
    {
      "cell_type": "code",
      "execution_count": null,
      "metadata": {
        "id": "AggZy5BSh6Wu"
      },
      "outputs": [],
      "source": [
        "# 문제 설명\n",
        "# 정수 number와 n, m이 주어집니다.\n",
        "# number가 n의 배수이면서 m의 배수이면 1을\n",
        "# 아니라면 0을 return하도록 solution 함수를 완성해주세요.\n",
        "\n",
        "# 제한사항\n",
        "# 10 ≤ number ≤ 100\n",
        "# 2 ≤ n, m < 10\n",
        "\n",
        "# 입출력 예\n",
        "# number\t    n\t      m\t        result\n",
        "# 60\t        2\t      3\t          1\n",
        "# 55\t        10\t    5\t          0\n",
        "\n",
        "# 입출력 예 설명\n",
        "# 입출력 예 #1\n",
        "# 60은 2의 배수이면서 3의 배수이기 때문에 1을 return합니다.\n",
        "\n",
        "# 입출력 예 #2\n",
        "# 55는 5의 배수이지만 10의 배수가 아니기 때문에 0을 return합니다."
      ]
    },
    {
      "cell_type": "code",
      "source": [
        "# 배운거 바로 써먹기\n",
        "def solution(number, n, m):\n",
        "    answer = int(not((number % n) or (number % m)))\n",
        "\n",
        "    return answer"
      ],
      "metadata": {
        "id": "EvQr9ljQiDtM"
      },
      "execution_count": 10,
      "outputs": []
    },
    {
      "cell_type": "code",
      "source": [
        "number = 60\n",
        "n = 2\n",
        "m = 3\n",
        "solution(number, n, m)"
      ],
      "metadata": {
        "colab": {
          "base_uri": "https://localhost:8080/"
        },
        "id": "f--slTS8iFgD",
        "outputId": "ffeaa0a5-9dca-42f9-c92b-b91747aadf9f"
      },
      "execution_count": 11,
      "outputs": [
        {
          "output_type": "execute_result",
          "data": {
            "text/plain": [
              "1"
            ]
          },
          "metadata": {},
          "execution_count": 11
        }
      ]
    },
    {
      "cell_type": "code",
      "source": [
        "number = 55\n",
        "n = 10\n",
        "m = 5\n",
        "solution(number, n, m)"
      ],
      "metadata": {
        "colab": {
          "base_uri": "https://localhost:8080/"
        },
        "id": "8bnCvLJjiJWH",
        "outputId": "ced1d253-cd72-4118-d433-b2971350a3ae"
      },
      "execution_count": 12,
      "outputs": [
        {
          "output_type": "execute_result",
          "data": {
            "text/plain": [
              "0"
            ]
          },
          "metadata": {},
          "execution_count": 12
        }
      ]
    },
    {
      "cell_type": "code",
      "source": [
        "# 다른 사람 풀이"
      ],
      "metadata": {
        "id": "P1POcneBiJUD"
      },
      "execution_count": 13,
      "outputs": []
    },
    {
      "cell_type": "code",
      "source": [
        "# 이것도 bool로 썻지만 내께 더 좋은듯\n",
        "def solution(number, n, m):\n",
        "    return int(bool(number % n == 0) & bool(number % m == 0))"
      ],
      "metadata": {
        "id": "d7kZOooijWA9"
      },
      "execution_count": null,
      "outputs": []
    },
    {
      "cell_type": "code",
      "source": [
        "# 내꺼 반대로 해논거\n",
        "def solution(number, n, m):\n",
        "    return int(number%n == 0 and number%m == 0)"
      ],
      "metadata": {
        "id": "Vki0Cia-jfqr"
      },
      "execution_count": null,
      "outputs": []
    }
  ]
}