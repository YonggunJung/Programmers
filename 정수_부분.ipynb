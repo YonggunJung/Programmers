{
  "nbformat": 4,
  "nbformat_minor": 0,
  "metadata": {
    "colab": {
      "provenance": [],
      "authorship_tag": "ABX9TyOQ7uR2HjKDQdGIzwk//u2F",
      "include_colab_link": true
    },
    "kernelspec": {
      "name": "python3",
      "display_name": "Python 3"
    },
    "language_info": {
      "name": "python"
    }
  },
  "cells": [
    {
      "cell_type": "markdown",
      "metadata": {
        "id": "view-in-github",
        "colab_type": "text"
      },
      "source": [
        "<a href=\"https://colab.research.google.com/github/YonggunJung/Programmers/blob/main/%EC%A0%95%EC%88%98_%EB%B6%80%EB%B6%84.ipynb\" target=\"_parent\"><img src=\"https://colab.research.google.com/assets/colab-badge.svg\" alt=\"Open In Colab\"/></a>"
      ]
    },
    {
      "cell_type": "code",
      "execution_count": 1,
      "metadata": {
        "id": "b8dkkQIE5_ue"
      },
      "outputs": [],
      "source": [
        "# 문제 설명\n",
        "# 실수 flo가 매개 변수로 주어질 때,\n",
        "# flo의 정수 부분을 return하도록 solution 함수를 완성해주세요.\n",
        "\n",
        "# 제한사항\n",
        "# 0 ≤ flo ≤ 100\n",
        "\n",
        "# 입출력 예\n",
        "# flo\t      result\n",
        "# 1.42\t      1\n",
        "# 69.32\t      69\n",
        "\n",
        "# 입출력 예 설명\n",
        "# 입출력 예 #1\n",
        "# 1.42의 정수 부분은 1입니다.\n",
        "\n",
        "# 입출력 예 #2\n",
        "# 69.32의 정수 부분은 69입니다."
      ]
    },
    {
      "cell_type": "code",
      "source": [
        "def solution(flo):\n",
        "    answer = int(flo)\n",
        "\n",
        "    return answer"
      ],
      "metadata": {
        "id": "0zC0XMVT6GV3"
      },
      "execution_count": 3,
      "outputs": []
    },
    {
      "cell_type": "code",
      "source": [
        "flo = 1.42\n",
        "solution(flo)"
      ],
      "metadata": {
        "colab": {
          "base_uri": "https://localhost:8080/"
        },
        "id": "kJ57l5eR6Jam",
        "outputId": "aab02198-d3df-4d4a-a845-ed3e6d58270c"
      },
      "execution_count": 4,
      "outputs": [
        {
          "output_type": "execute_result",
          "data": {
            "text/plain": [
              "1"
            ]
          },
          "metadata": {},
          "execution_count": 4
        }
      ]
    },
    {
      "cell_type": "code",
      "source": [
        "flo = 69.32\n",
        "solution(flo)"
      ],
      "metadata": {
        "colab": {
          "base_uri": "https://localhost:8080/"
        },
        "id": "eQ0tAq6y6LmG",
        "outputId": "8121a0ea-413a-4224-9e80-ea0f6074ba8a"
      },
      "execution_count": 5,
      "outputs": [
        {
          "output_type": "execute_result",
          "data": {
            "text/plain": [
              "69"
            ]
          },
          "metadata": {},
          "execution_count": 5
        }
      ]
    },
    {
      "cell_type": "code",
      "source": [
        "# 다른 사람 풀이"
      ],
      "metadata": {
        "id": "DA1VOiCe6MaF"
      },
      "execution_count": 6,
      "outputs": []
    },
    {
      "cell_type": "code",
      "source": [
        "# ㅋㅋㅋㅋㅋ\n",
        "def solution(flo):\n",
        "    return flo//1"
      ],
      "metadata": {
        "id": "Ad3M6KpV6YOY"
      },
      "execution_count": 7,
      "outputs": []
    },
    {
      "cell_type": "code",
      "source": [
        "import math\n",
        "def solution(flo):\n",
        "    answer = math.floor(flo)\n",
        "    return answer"
      ],
      "metadata": {
        "id": "Yy1srkoJ6aKt"
      },
      "execution_count": 8,
      "outputs": []
    },
    {
      "cell_type": "code",
      "source": [
        "from math import floor\n",
        "def solution(flo):\n",
        "    return floor(flo)"
      ],
      "metadata": {
        "id": "hnx2G8G66fm2"
      },
      "execution_count": 9,
      "outputs": []
    },
    {
      "cell_type": "code",
      "source": [],
      "metadata": {
        "id": "Zkm9C3ox6kPl"
      },
      "execution_count": null,
      "outputs": []
    }
  ]
}