{
  "nbformat": 4,
  "nbformat_minor": 0,
  "metadata": {
    "colab": {
      "provenance": [],
      "authorship_tag": "ABX9TyPLA0LUzNPmBd+Qnxh5zklm",
      "include_colab_link": true
    },
    "kernelspec": {
      "name": "python3",
      "display_name": "Python 3"
    },
    "language_info": {
      "name": "python"
    }
  },
  "cells": [
    {
      "cell_type": "markdown",
      "metadata": {
        "id": "view-in-github",
        "colab_type": "text"
      },
      "source": [
        "<a href=\"https://colab.research.google.com/github/YonggunJung/Programmers/blob/main/%EB%8D%A7%EC%85%88%EC%8B%9D_%EC%B6%9C%EB%A0%A5%ED%95%98%EA%B8%B0.ipynb\" target=\"_parent\"><img src=\"https://colab.research.google.com/assets/colab-badge.svg\" alt=\"Open In Colab\"/></a>"
      ]
    },
    {
      "cell_type": "code",
      "execution_count": 1,
      "metadata": {
        "id": "T16BGDoRbbVe"
      },
      "outputs": [],
      "source": [
        "# 문제 설명\n",
        "# 두 정수 a, b가 주어질 때 다음과 같은 형태의 계산식을 출력하는 코드를 작성해 보세요.\n",
        "\n",
        "# a + b = c\n",
        "# 제한사항\n",
        "# 1 ≤ a, b ≤ 100\n",
        "\n",
        "# 입출력 예\n",
        "# 입력 #1\n",
        "# 4 5\n",
        "\n",
        "# 출력 #1\n",
        "# 4 + 5 = 9"
      ]
    },
    {
      "cell_type": "code",
      "source": [
        "# 문제\n",
        "# a, b = map(int, input().strip().split(' '))\n",
        "# print(a + b)"
      ],
      "metadata": {
        "id": "o0oGKW2vbhQT"
      },
      "execution_count": 2,
      "outputs": []
    },
    {
      "cell_type": "code",
      "source": [
        "a, b = map(int, input().strip().split(' '))\n",
        "print(\"%d + %d =\"%(a, b), a+b)"
      ],
      "metadata": {
        "colab": {
          "base_uri": "https://localhost:8080/"
        },
        "id": "iKcW589hbjNr",
        "outputId": "44047f76-d8e3-433e-8c82-22bfab21b47f"
      },
      "execution_count": 5,
      "outputs": [
        {
          "output_type": "stream",
          "name": "stdout",
          "text": [
            "4 5\n",
            "4 + 5 = 9\n"
          ]
        }
      ]
    },
    {
      "cell_type": "code",
      "source": [
        "a, b = map(int, input().strip().split(' '))\n",
        "print(\"{} + {} =\".format(a, b), a+b)"
      ],
      "metadata": {
        "colab": {
          "base_uri": "https://localhost:8080/"
        },
        "id": "5-Cdg_5Ybs4b",
        "outputId": "53150b9e-9d3f-4010-8b0b-49fcabded4af"
      },
      "execution_count": 6,
      "outputs": [
        {
          "output_type": "stream",
          "name": "stdout",
          "text": [
            "4 5\n",
            "4 + 5 = 9\n"
          ]
        }
      ]
    },
    {
      "cell_type": "code",
      "source": [
        "a, b = map(int, input().strip().split(' '))\n",
        "print(\"{0} + {1} =\".format(a, b), a+b)"
      ],
      "metadata": {
        "colab": {
          "base_uri": "https://localhost:8080/"
        },
        "id": "QD6uiETAecFn",
        "outputId": "9aa6a2b8-304a-4ff5-ba02-0f99676fe7b3"
      },
      "execution_count": 7,
      "outputs": [
        {
          "output_type": "stream",
          "name": "stdout",
          "text": [
            "4 5\n",
            "4 + 5 = 9\n"
          ]
        }
      ]
    },
    {
      "cell_type": "code",
      "source": [
        "# 다른 사람 풀이"
      ],
      "metadata": {
        "id": "_S8qQsRUefsy"
      },
      "execution_count": 8,
      "outputs": []
    },
    {
      "cell_type": "code",
      "source": [
        "# 훨씬 편한 방법이 있었군 ㅋㅋㅋ\n",
        "a, b = map(int, input().strip().split(' '))\n",
        "print(f\"{a} + {b} = {a + b}\")"
      ],
      "metadata": {
        "colab": {
          "base_uri": "https://localhost:8080/"
        },
        "id": "Khx8Mhbqeni9",
        "outputId": "7dde904d-86f0-4ae0-eea5-9aeafd0aa2ed"
      },
      "execution_count": 9,
      "outputs": [
        {
          "output_type": "stream",
          "name": "stdout",
          "text": [
            "4 5\n",
            "4 + 5 = 9\n"
          ]
        }
      ]
    },
    {
      "cell_type": "code",
      "source": [
        "# 이렇게도 가능\n",
        "a, b = map(int, input().strip().split(' '))\n",
        "c = a + b\n",
        "print('{} + {} = {}'.format(a, b, c))"
      ],
      "metadata": {
        "id": "cQdxAbDyezq2"
      },
      "execution_count": null,
      "outputs": []
    },
    {
      "cell_type": "code",
      "source": [
        "# 참 방법은 많군\n",
        "a, b = map(int, input().strip().split(' '))\n",
        "print(a, '+', b,'=',a+b)"
      ],
      "metadata": {
        "id": "D1YtSF3Ye5jb"
      },
      "execution_count": null,
      "outputs": []
    }
  ]
}