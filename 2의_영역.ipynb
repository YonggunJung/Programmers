{
  "nbformat": 4,
  "nbformat_minor": 0,
  "metadata": {
    "colab": {
      "provenance": [],
      "authorship_tag": "ABX9TyMHXMvSDrHgN2+sI9fGMmsg",
      "include_colab_link": true
    },
    "kernelspec": {
      "name": "python3",
      "display_name": "Python 3"
    },
    "language_info": {
      "name": "python"
    }
  },
  "cells": [
    {
      "cell_type": "markdown",
      "metadata": {
        "id": "view-in-github",
        "colab_type": "text"
      },
      "source": [
        "<a href=\"https://colab.research.google.com/github/YonggunJung/Programmers/blob/main/2%EC%9D%98_%EC%98%81%EC%97%AD.ipynb\" target=\"_parent\"><img src=\"https://colab.research.google.com/assets/colab-badge.svg\" alt=\"Open In Colab\"/></a>"
      ]
    },
    {
      "cell_type": "code",
      "execution_count": 1,
      "metadata": {
        "id": "ycAW35IUlyov"
      },
      "outputs": [],
      "source": [
        "# 문제 설명\n",
        "# 정수 배열 arr가 주어집니다.\n",
        "# 배열 안의 2가 모두 포함된 가장 작은 연속된 부분 배열을\n",
        "# return 하는 solution 함수를 완성해 주세요.\n",
        "\n",
        "# 단, arr에 2가 없는 경우 [-1]을 return 합니다.\n",
        "\n",
        "# 제한사항\n",
        "# 1 ≤ arr의 길이 ≤ 100,000\n",
        "# 1 ≤ arr의 원소 ≤ 10\n",
        "\n",
        "# 입출력 예\n",
        "# arr\t                            result\n",
        "# [1, 2, 1, 4, 5, 2, 9]\t          [2, 1, 4, 5, 2]\n",
        "# [1, 2, 1]\t                      [2]\n",
        "# [1, 1, 1]\t                      [-1]\n",
        "# [1, 2, 1, 2, 1, 10, 2, 1]\t      [2, 1, 2, 1, 10, 2]\n",
        "\n",
        "# 입출력 예 설명\n",
        "# 입출력 예 #1\n",
        "# 2가 있는 인덱스는 1번, 5번 인덱스뿐이므로\n",
        "# 1번부터 5번 인덱스까지의 부분 배열인 [2, 1, 4, 5, 2]를 return 합니다.\n",
        "\n",
        "# 입출력 예 #2\n",
        "# 2가 한 개뿐이므로 [2]를 return 합니다.\n",
        "\n",
        "# 입출력 예 #3\n",
        "# 2가 배열에 없으므로 [-1]을 return 합니다.\n",
        "\n",
        "# 입출력 예 #4\n",
        "# 2가 있는 인덱스는 1번, 3번, 6번 인덱스이므로\n",
        "# 1번부터 6번 인덱스까지의 부분 배열인 [2, 1, 2, 1, 10, 2]를 return 합니다."
      ]
    },
    {
      "cell_type": "code",
      "source": [
        "# 좀 더러운거 같은데 바로 풀긴함\n",
        "def solution(arr):\n",
        "    answer = []\n",
        "    idx = []\n",
        "    for i in range(len(arr)):\n",
        "      if arr[i] == 2:\n",
        "        idx.append(i)\n",
        "    if len(idx) == 0:\n",
        "      answer.append(-1)\n",
        "    else:\n",
        "      answer = arr[min(idx):max(idx)+1]\n",
        "\n",
        "    return answer"
      ],
      "metadata": {
        "id": "t0xGLVPKmAyF"
      },
      "execution_count": 3,
      "outputs": []
    },
    {
      "cell_type": "code",
      "source": [
        "arr = [1, 2, 1, 4, 5, 2, 9]\n",
        "solution(arr)"
      ],
      "metadata": {
        "colab": {
          "base_uri": "https://localhost:8080/"
        },
        "id": "Qtld6cFcmB8U",
        "outputId": "9e6b5d72-5261-4d9a-829f-c496c0973f77"
      },
      "execution_count": 4,
      "outputs": [
        {
          "output_type": "execute_result",
          "data": {
            "text/plain": [
              "[2, 1, 4, 5, 2]"
            ]
          },
          "metadata": {},
          "execution_count": 4
        }
      ]
    },
    {
      "cell_type": "code",
      "source": [
        "arr = [1, 2, 1]\n",
        "solution(arr)"
      ],
      "metadata": {
        "colab": {
          "base_uri": "https://localhost:8080/"
        },
        "id": "M2RVtfrdmEdg",
        "outputId": "a994cb85-ec28-496a-9046-68ea92399f7f"
      },
      "execution_count": 5,
      "outputs": [
        {
          "output_type": "execute_result",
          "data": {
            "text/plain": [
              "[2]"
            ]
          },
          "metadata": {},
          "execution_count": 5
        }
      ]
    },
    {
      "cell_type": "code",
      "source": [
        "arr = [1, 1, 1]\n",
        "solution(arr)"
      ],
      "metadata": {
        "colab": {
          "base_uri": "https://localhost:8080/"
        },
        "id": "h4Xosr_omEa9",
        "outputId": "43441cb3-0136-4939-9070-7b5bf520cee0"
      },
      "execution_count": 6,
      "outputs": [
        {
          "output_type": "execute_result",
          "data": {
            "text/plain": [
              "[-1]"
            ]
          },
          "metadata": {},
          "execution_count": 6
        }
      ]
    },
    {
      "cell_type": "code",
      "source": [
        "arr = [1, 2, 1, 2, 1, 10, 2, 1]\n",
        "solution(arr)"
      ],
      "metadata": {
        "colab": {
          "base_uri": "https://localhost:8080/"
        },
        "id": "Q3hN4mEymEYN",
        "outputId": "d5a696ea-9a2b-48d8-9113-a60ddc0fd85d"
      },
      "execution_count": 7,
      "outputs": [
        {
          "output_type": "execute_result",
          "data": {
            "text/plain": [
              "[2, 1, 2, 1, 10, 2]"
            ]
          },
          "metadata": {},
          "execution_count": 7
        }
      ]
    },
    {
      "cell_type": "code",
      "source": [
        "# 다른 사람 풀이"
      ],
      "metadata": {
        "id": "jCjC-V-0mEV4"
      },
      "execution_count": 8,
      "outputs": []
    },
    {
      "cell_type": "code",
      "source": [
        "# 이거 깔끔하고 좋은데\n",
        "# 다시해도 이코드는 생각 안날거 같음\n",
        "def solution(arr):\n",
        "    if 2 not in arr:\n",
        "        return [-1]\n",
        "    return arr[arr.index(2) : len(arr) - arr[::-1].index(2)]"
      ],
      "metadata": {
        "id": "fqdugEstp0lP"
      },
      "execution_count": 9,
      "outputs": []
    },
    {
      "cell_type": "code",
      "source": [],
      "metadata": {
        "id": "oh_isF9EqQ9z"
      },
      "execution_count": null,
      "outputs": []
    }
  ]
}