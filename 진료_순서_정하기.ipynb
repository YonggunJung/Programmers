{
  "nbformat": 4,
  "nbformat_minor": 0,
  "metadata": {
    "colab": {
      "provenance": [],
      "authorship_tag": "ABX9TyN5I2Yh3KZJV+CAARlkh2t2",
      "include_colab_link": true
    },
    "kernelspec": {
      "name": "python3",
      "display_name": "Python 3"
    },
    "language_info": {
      "name": "python"
    }
  },
  "cells": [
    {
      "cell_type": "markdown",
      "metadata": {
        "id": "view-in-github",
        "colab_type": "text"
      },
      "source": [
        "<a href=\"https://colab.research.google.com/github/YonggunJung/Programmers/blob/main/%EC%A7%84%EB%A3%8C_%EC%88%9C%EC%84%9C_%EC%A0%95%ED%95%98%EA%B8%B0.ipynb\" target=\"_parent\"><img src=\"https://colab.research.google.com/assets/colab-badge.svg\" alt=\"Open In Colab\"/></a>"
      ]
    },
    {
      "cell_type": "code",
      "execution_count": 1,
      "metadata": {
        "id": "DeioBqY7UNuF"
      },
      "outputs": [],
      "source": [
        "# 문제 설명\n",
        "# 외과의사 머쓱이는 응급실에 온 환자의 응급도를 기준으로 진료 순서를 정하려고 합니다.\n",
        "# 정수 배열 emergency가 매개변수로 주어질 때 응급도가 높은 순서대로 진료 순서를 정한 배열을\n",
        "# return하도록 solution 함수를 완성해주세요.\n",
        "\n",
        "# 제한사항\n",
        "# 중복된 원소는 없습니다.\n",
        "# 1 ≤ emergency의 길이 ≤ 10\n",
        "# 1 ≤ emergency의 원소 ≤ 100\n",
        "\n",
        "# 입출력 예\n",
        "# emergency\t                      result\n",
        "# [3, 76, 24]\t                    [3, 1, 2]\n",
        "# [1, 2, 3, 4, 5, 6, 7]\t          [7, 6, 5, 4, 3, 2, 1]\n",
        "# [30, 10, 23, 6, 100]\t          [2, 4, 3, 5, 1]\n",
        "\n",
        "# 입출력 예 설명\n",
        "# 입출력 예 #1\n",
        "# emergency가 [3, 76, 24]이므로 응급도의 크기 순서대로 번호를 매긴 [3, 1, 2]를 return합니다.\n",
        "\n",
        "# 입출력 예 #2\n",
        "# emergency가 [1, 2, 3, 4, 5, 6, 7]이므로 응급도의 크기 순서대로 번호를 매긴\n",
        "#  [7, 6, 5, 4, 3, 2, 1]를 return합니다.\n",
        "\n",
        "# 입출력 예 #3\n",
        "# emergency가 [30, 10, 23, 6, 100]이므로 응급도의 크기 순서대로 번호를 매긴\n",
        "#  [2, 4, 3, 5, 1]를 return합니다."
      ]
    },
    {
      "cell_type": "code",
      "source": [
        "# 조금만 생각하자 별거 아니다\n",
        "def solution(emergency):\n",
        "    sem = sorted(emergency, reverse=True)\n",
        "    answer = [sem.index(i)+1 for i in emergency]\n",
        "    return answer"
      ],
      "metadata": {
        "id": "nnRnm7hvUn-g"
      },
      "execution_count": 12,
      "outputs": []
    },
    {
      "cell_type": "code",
      "source": [
        "emergency = [3, 76, 24]\n",
        "solution(emergency)"
      ],
      "metadata": {
        "colab": {
          "base_uri": "https://localhost:8080/"
        },
        "id": "NW_RWnelUpFK",
        "outputId": "f9264fff-5bc0-45d7-9e33-5929fc03480b"
      },
      "execution_count": 13,
      "outputs": [
        {
          "output_type": "execute_result",
          "data": {
            "text/plain": [
              "[3, 1, 2]"
            ]
          },
          "metadata": {},
          "execution_count": 13
        }
      ]
    },
    {
      "cell_type": "code",
      "source": [
        "emergency = [1, 2, 3, 4, 5, 6, 7]\n",
        "solution(emergency)"
      ],
      "metadata": {
        "colab": {
          "base_uri": "https://localhost:8080/"
        },
        "id": "0v7R6NCXUo4I",
        "outputId": "ec33686c-09d0-4f8e-f51e-8c81759c4db3"
      },
      "execution_count": 14,
      "outputs": [
        {
          "output_type": "execute_result",
          "data": {
            "text/plain": [
              "[7, 6, 5, 4, 3, 2, 1]"
            ]
          },
          "metadata": {},
          "execution_count": 14
        }
      ]
    },
    {
      "cell_type": "code",
      "source": [
        "emergency = [30, 10, 23, 6, 100]\n",
        "solution(emergency)"
      ],
      "metadata": {
        "colab": {
          "base_uri": "https://localhost:8080/"
        },
        "id": "eHQ6a9vHUoyv",
        "outputId": "fc56304c-15c5-4dba-9004-10cc711e7caa"
      },
      "execution_count": 15,
      "outputs": [
        {
          "output_type": "execute_result",
          "data": {
            "text/plain": [
              "[2, 4, 3, 5, 1]"
            ]
          },
          "metadata": {},
          "execution_count": 15
        }
      ]
    },
    {
      "cell_type": "code",
      "source": [
        "# 다른 사람 풀이"
      ],
      "metadata": {
        "id": "QKDt2MfZUowe"
      },
      "execution_count": 16,
      "outputs": []
    },
    {
      "cell_type": "code",
      "source": [
        "# 나와 비슷한 한줄 코드\n",
        "def solution(emergency):\n",
        "    return [sorted(emergency, reverse=True).index(e) + 1 for e in emergency]"
      ],
      "metadata": {
        "id": "5uLusCQ1Y7RB"
      },
      "execution_count": null,
      "outputs": []
    }
  ]
}