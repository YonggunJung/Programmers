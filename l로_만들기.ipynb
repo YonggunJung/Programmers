{
  "nbformat": 4,
  "nbformat_minor": 0,
  "metadata": {
    "colab": {
      "provenance": [],
      "authorship_tag": "ABX9TyNiRgMOfK1Q13BYk2zzc3SD",
      "include_colab_link": true
    },
    "kernelspec": {
      "name": "python3",
      "display_name": "Python 3"
    },
    "language_info": {
      "name": "python"
    }
  },
  "cells": [
    {
      "cell_type": "markdown",
      "metadata": {
        "id": "view-in-github",
        "colab_type": "text"
      },
      "source": [
        "<a href=\"https://colab.research.google.com/github/YonggunJung/Programmers/blob/main/l%EB%A1%9C_%EB%A7%8C%EB%93%A4%EA%B8%B0.ipynb\" target=\"_parent\"><img src=\"https://colab.research.google.com/assets/colab-badge.svg\" alt=\"Open In Colab\"/></a>"
      ]
    },
    {
      "cell_type": "code",
      "execution_count": 1,
      "metadata": {
        "id": "_3y2LXiZUz_w"
      },
      "outputs": [],
      "source": [
        "# 문제 설명\n",
        "# 알파벳 소문자로 이루어진 문자열 myString이 주어집니다.\n",
        "# 알파벳 순서에서 \"l\"보다 앞서는 모든 문자를 \"l\"로 바꾼 문자열을\n",
        "# return 하는 solution 함수를 완성해 주세요.\n",
        "\n",
        "# 제한사항\n",
        "# 1 ≤ myString ≤ 100,000\n",
        "# myString은 알파벳 소문자로 이루어진 문자열입니다.\n",
        "\n",
        "# 입출력 예\n",
        "# myString\t          result\n",
        "# \"abcdevwxyz\"\t      \"lllllvwxyz\"\n",
        "# \"jjnnllkkmm\"\t      \"llnnllllmm\"\n",
        "\n",
        "# 입출력 예 설명\n",
        "# 입출력 예 #1\n",
        "# 0 ~ 4번 인덱스의 문자 \"a\",\"b\",\"c\",\"d\",\"e\"는 각각 \"l\"보다 앞서는 문자입니다.\n",
        "# 따라서 \"l\"로 고쳐줍니다.\n",
        "# 그 외의 문자는 모두 \"l\"보다 앞서지 않는 문자입니다.\n",
        "# 따라서 바꾸지 않습니다.\n",
        "# 따라서 \"lllllvwxyz\"을 return 합니다.\n",
        "\n",
        "# 입출력 예 #2\n",
        "# 0번, 1번, 6번, 7번 인덱스의 문자 \"j\",\"j\",\"k\",\"k\"는 각각 \"l\"보다 앞서는 문자입니다.\n",
        "# 따라서 \"l\"로 고쳐줍니다.\n",
        "# 그 외의 문자는 모두 \"l\"보다 앞서지 않는 문자입니다.\n",
        "# 따라서 바꾸지 않습니다.\n",
        "# 따라서 \"llnnllllmm\"을 return 합니다."
      ]
    },
    {
      "cell_type": "code",
      "source": [
        "def solution(myString):\n",
        "    a = 'abcdefghijk'\n",
        "    answer = ''\n",
        "    for i in range(len(myString)):\n",
        "      if myString[i] in a:\n",
        "        myString = myString.replace(myString[i], 'l')\n",
        "    answer = myString\n",
        "    return answer"
      ],
      "metadata": {
        "id": "kapYE7vHU9gS"
      },
      "execution_count": 9,
      "outputs": []
    },
    {
      "cell_type": "code",
      "source": [
        "myString = \"abcdevwxyz\"\n",
        "solution(myString)"
      ],
      "metadata": {
        "colab": {
          "base_uri": "https://localhost:8080/",
          "height": 35
        },
        "id": "Mjw2wmjnU_eZ",
        "outputId": "a44d2397-ee26-4522-fb54-f476d212d865"
      },
      "execution_count": 10,
      "outputs": [
        {
          "output_type": "execute_result",
          "data": {
            "text/plain": [
              "'lllllvwxyz'"
            ],
            "application/vnd.google.colaboratory.intrinsic+json": {
              "type": "string"
            }
          },
          "metadata": {},
          "execution_count": 10
        }
      ]
    },
    {
      "cell_type": "code",
      "source": [
        "myString = \"jjnnllkkmm\"\n",
        "solution(myString)"
      ],
      "metadata": {
        "colab": {
          "base_uri": "https://localhost:8080/",
          "height": 35
        },
        "id": "w7Mi2OsHVCmo",
        "outputId": "de73733f-7759-49d4-8ecb-21504ac21b01"
      },
      "execution_count": 11,
      "outputs": [
        {
          "output_type": "execute_result",
          "data": {
            "text/plain": [
              "'llnnllllmm'"
            ],
            "application/vnd.google.colaboratory.intrinsic+json": {
              "type": "string"
            }
          },
          "metadata": {},
          "execution_count": 11
        }
      ]
    },
    {
      "cell_type": "code",
      "source": [
        "# 다른 사람 풀이"
      ],
      "metadata": {
        "id": "FNKEab9qVCOE"
      },
      "execution_count": 12,
      "outputs": []
    },
    {
      "cell_type": "code",
      "source": [
        "def solution(myString):\n",
        "    return myString.translate(str.maketrans('abcdefghijk', 'lllllllllll'))"
      ],
      "metadata": {
        "id": "UYfbM4T_XrIo"
      },
      "execution_count": 13,
      "outputs": []
    },
    {
      "cell_type": "code",
      "source": [
        "# 이게 되는 구나\n",
        "def solution(myString):\n",
        "    answer = [x if x > 'l' else 'l' for x in myString]\n",
        "    return ''.join(answer)\n"
      ],
      "metadata": {
        "id": "0zaFcRnSXsKg"
      },
      "execution_count": 14,
      "outputs": []
    },
    {
      "cell_type": "code",
      "source": [
        "def solution(myString):\n",
        "    answer = ''\n",
        "    for i in myString:\n",
        "        if i < \"l\":\n",
        "            answer+='l'\n",
        "        else:\n",
        "            answer+=i\n",
        "    return answer"
      ],
      "metadata": {
        "id": "oqXSvaR0X0uS"
      },
      "execution_count": 15,
      "outputs": []
    },
    {
      "cell_type": "code",
      "source": [],
      "metadata": {
        "id": "9DNpDgyTX4SA"
      },
      "execution_count": null,
      "outputs": []
    }
  ]
}