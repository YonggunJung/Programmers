{
  "nbformat": 4,
  "nbformat_minor": 0,
  "metadata": {
    "colab": {
      "provenance": [],
      "authorship_tag": "ABX9TyN2/3OaHVB3qK295IfexNhU",
      "include_colab_link": true
    },
    "kernelspec": {
      "name": "python3",
      "display_name": "Python 3"
    },
    "language_info": {
      "name": "python"
    }
  },
  "cells": [
    {
      "cell_type": "markdown",
      "metadata": {
        "id": "view-in-github",
        "colab_type": "text"
      },
      "source": [
        "<a href=\"https://colab.research.google.com/github/YonggunJung/Programmers/blob/main/n%5E2_%EB%B0%B0%EC%97%B4_%EC%9E%90%EB%A5%B4%EA%B8%B0.ipynb\" target=\"_parent\"><img src=\"https://colab.research.google.com/assets/colab-badge.svg\" alt=\"Open In Colab\"/></a>"
      ]
    },
    {
      "cell_type": "code",
      "execution_count": 1,
      "metadata": {
        "id": "XJd2vRSvbvmp"
      },
      "outputs": [],
      "source": [
        "# 문제 설명\n",
        "# 정수 n, left, right가 주어집니다.\n",
        "# 다음 과정을 거쳐서 1차원 배열을 만들고자 합니다.\n",
        "\n",
        "# n행 n열 크기의 비어있는 2차원 배열을 만듭니다.\n",
        "# i = 1, 2, 3, ..., n에 대해서, 다음 과정을 반복합니다.\n",
        "# 1행 1열부터 i행 i열까지의 영역 내의 모든 빈 칸을 숫자 i로 채웁니다.\n",
        "# 1행, 2행, ..., n행을 잘라내어 모두 이어붙인 새로운 1차원 배열을 만듭니다.\n",
        "# 새로운 1차원 배열을 arr이라 할 때,\n",
        "# arr[left], arr[left+1], ..., arr[right]만 남기고 나머지는 지웁니다.\n",
        "# 정수 n, left, right가 매개변수로 주어집니다.\n",
        "# 주어진 과정대로 만들어진 1차원 배열을 return 하도록 solution 함수를 완성해주세요.\n",
        "\n",
        "# 제한사항\n",
        "# 1 ≤ n ≤ 107\n",
        "# 0 ≤ left ≤ right < n2\n",
        "# right - left < 105\n",
        "# 입출력 예\n",
        "# n\tleft\tright\tresult\n",
        "# 3\t2\t5\t[3,2,2,3]\n",
        "# 4\t7\t14\t[4,3,3,3,4,4,4,4]\n",
        "# 입출력 예 설명\n",
        "# 입출력 예 #1\n",
        "\n",
        "# 다음 애니메이션은 주어진 과정대로 1차원 배열을 만드는 과정을 나타낸 것입니다.\n",
        "# ex1\n",
        "\n",
        "# 입출력 예 #2\n",
        "# 다음 애니메이션은 주어진 과정대로 1차원 배열을 만드는 과정을 나타낸 것입니다.\n",
        "# ex2"
      ]
    },
    {
      "cell_type": "code",
      "source": [
        "\n",
        "# 이런 규칙을 찾다니 센스를 더 길러야 겠다.\n",
        "def solution(n, left, right):\n",
        "    answer = []\n",
        "    for i in range(left, right+1):\n",
        "\n",
        "      # left ~ right 사이의 숫자를 n으로 나누면\n",
        "      # 몫은 y(index) 좌표를\n",
        "      # 나머지는 x(index) 좌표를 알 수 있다.\n",
        "      y = i//n\n",
        "      x = i%n\n",
        "\n",
        "      # 넣을 값은 (y,x 좌표중 큰 값) + 1\n",
        "      # [0][0]=1 [0][1]=2 [0][2]=3 [0][3]=4\n",
        "      # [1][0]=2 [1][1]=2 [1][2]=3 [1][3]=4\n",
        "      # [2][0]=3 [2][1]=3 [2][2]=3 [2][3]=4\n",
        "      # [3][0]=4 [3][1]=4 [3][2]=4 [3][3]=4\n",
        "      value = max(y,x) + 1\n",
        "\n",
        "      answer.append(value)\n",
        "\n",
        "    return answer"
      ],
      "metadata": {
        "id": "mh0Ui0SJb1Hw"
      },
      "execution_count": 2,
      "outputs": []
    },
    {
      "cell_type": "code",
      "source": [
        "# 이거 시간 초과 ㅠㅠ\n",
        "def solution(n, left, right):\n",
        "    answer = []\n",
        "    for i in range(1, n+1):\n",
        "      num = i\n",
        "      for j in range(1, n+1):\n",
        "        if j <= num:\n",
        "          answer.append(num)\n",
        "        else:\n",
        "          num += 1\n",
        "          answer.append(num)\n",
        "    answer = answer[left:right+1]\n",
        "\n",
        "    return answer"
      ],
      "metadata": {
        "id": "H_kMEf_Snk19"
      },
      "execution_count": null,
      "outputs": []
    }
  ]
}