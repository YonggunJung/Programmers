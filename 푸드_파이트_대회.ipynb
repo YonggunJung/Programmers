{
  "nbformat": 4,
  "nbformat_minor": 0,
  "metadata": {
    "colab": {
      "provenance": [],
      "authorship_tag": "ABX9TyOcyoJtP7ZPCvlm35Yv5z/K",
      "include_colab_link": true
    },
    "kernelspec": {
      "name": "python3",
      "display_name": "Python 3"
    },
    "language_info": {
      "name": "python"
    }
  },
  "cells": [
    {
      "cell_type": "markdown",
      "metadata": {
        "id": "view-in-github",
        "colab_type": "text"
      },
      "source": [
        "<a href=\"https://colab.research.google.com/github/YonggunJung/Programmers/blob/main/%ED%91%B8%EB%93%9C_%ED%8C%8C%EC%9D%B4%ED%8A%B8_%EB%8C%80%ED%9A%8C.ipynb\" target=\"_parent\"><img src=\"https://colab.research.google.com/assets/colab-badge.svg\" alt=\"Open In Colab\"/></a>"
      ]
    },
    {
      "cell_type": "code",
      "execution_count": 1,
      "metadata": {
        "id": "i1aUmM2ggGD5"
      },
      "outputs": [],
      "source": [
        "# 문제 설명\n",
        "# 수웅이는 매달 주어진 음식을 빨리 먹는 푸드 파이트 대회를 개최합니다.\n",
        "# 이 대회에서 선수들은 1대 1로 대결하며,\n",
        "# 매 대결마다 음식의 종류와 양이 바뀝니다.\n",
        "# 대결은 준비된 음식들을 일렬로 배치한 뒤,\n",
        "# 한 선수는 제일 왼쪽에 있는 음식부터 오른쪽으로,\n",
        "# 다른 선수는 제일 오른쪽에 있는 음식부터 왼쪽으로 순서대로 먹는 방식으로 진행됩니다.\n",
        "# 중앙에는 물을 배치하고, 물을 먼저 먹는 선수가 승리하게 됩니다.\n",
        "\n",
        "# 이때, 대회의 공정성을 위해 두 선수가 먹는 음식의 종류와 양이 같아야 하며,\n",
        "# 음식을 먹는 순서도 같아야 합니다.\n",
        "# 또한, 이번 대회부터는 칼로리가 낮은 음식을 먼저 먹을 수 있게 배치하여\n",
        "# 선수들이 음식을 더 잘 먹을 수 있게 하려고 합니다.\n",
        "# 이번 대회를 위해 수웅이는 음식을 주문했는데,\n",
        "# 대회의 조건을 고려하지 않고 음식을 주문하여 몇 개의 음식은 대회에 사용하지 못하게 되었습니다.\n",
        "\n",
        "# 예를 들어, 3가지의 음식이 준비되어 있으며,\n",
        "# 칼로리가 적은 순서대로 1번 음식을 3개, 2번 음식을 4개, 3번 음식을 6개 준비했으며,\n",
        "# 물을 편의상 0번 음식이라고 칭한다면,\n",
        "# 두 선수는 1번 음식 1개, 2번 음식 2개, 3번 음식 3개씩을 먹게 되므로 음식의 배치는 \"1223330333221\"이 됩니다.\n",
        "# 따라서 1번 음식 1개는 대회에 사용하지 못합니다.\n",
        "\n",
        "# 수웅이가 준비한 음식의 양을 칼로리가 적은 순서대로 나타내는 정수 배열 food가 주어졌을 때,\n",
        "# 대회를 위한 음식의 배치를 나타내는 문자열을 return 하는 solution 함수를 완성해주세요.\n",
        "\n",
        "# 제한사항\n",
        "# 2 ≤ food의 길이 ≤ 9\n",
        "# 1 ≤ food의 각 원소 ≤ 1,000\n",
        "# food에는 칼로리가 적은 순서대로 음식의 양이 담겨 있습니다.\n",
        "# food[i]는 i번 음식의 수입니다.\n",
        "# food[0]은 수웅이가 준비한 물의 양이며, 항상 1입니다.\n",
        "# 정답의 길이가 3 이상인 경우만 입력으로 주어집니다.\n",
        "\n",
        "# 입출력 예\n",
        "# food\t            result\n",
        "# [1, 3, 4, 6]\t    \"1223330333221\"\n",
        "# [1, 7, 1, 2]\t    \"111303111\"\n",
        "\n",
        "# 입출력 예 설명\n",
        "# 입출력 예 #1\n",
        "# 문제 예시와 같습니다.\n",
        "\n",
        "# 입출력 예 #2\n",
        "# 두 선수는 1번 음식 3개, 3번 음식 1개를 먹게 되므로 음식의 배치는 \"111303111\"입니다."
      ]
    },
    {
      "cell_type": "code",
      "source": [
        "def solution(food):\n",
        "    answer = ''\n",
        "    answer2 = ''\n",
        "    for i in range(1, len(food)):\n",
        "      for j in range(food[i]//2):\n",
        "        answer += str(i)\n",
        "        answer2 = str(i) + answer2\n",
        "    answer += '0' + answer2\n",
        "    return answer"
      ],
      "metadata": {
        "id": "bBfYyowEgVmt"
      },
      "execution_count": null,
      "outputs": []
    }
  ]
}