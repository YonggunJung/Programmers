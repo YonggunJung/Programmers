{
  "nbformat": 4,
  "nbformat_minor": 0,
  "metadata": {
    "colab": {
      "provenance": [],
      "authorship_tag": "ABX9TyMwWVyCwnHQLMZWwPJQ6OLQ",
      "include_colab_link": true
    },
    "kernelspec": {
      "name": "python3",
      "display_name": "Python 3"
    },
    "language_info": {
      "name": "python"
    }
  },
  "cells": [
    {
      "cell_type": "markdown",
      "metadata": {
        "id": "view-in-github",
        "colab_type": "text"
      },
      "source": [
        "<a href=\"https://colab.research.google.com/github/YonggunJung/Programmers/blob/main/%EB%AC%B8%EC%9E%90_%EA%B0%9C%EC%88%98_%EC%84%B8%EA%B8%B0.ipynb\" target=\"_parent\"><img src=\"https://colab.research.google.com/assets/colab-badge.svg\" alt=\"Open In Colab\"/></a>"
      ]
    },
    {
      "cell_type": "code",
      "execution_count": 1,
      "metadata": {
        "id": "AkG3EADqGqxn"
      },
      "outputs": [],
      "source": [
        "# 문제 설명\n",
        "# 알파벳 대소문자로만 이루어진 문자열 my_string이 주어질 때,\n",
        "# my_string에서 'A'의 개수,\n",
        "# my_string에서 'B'의 개수,..., my_string에서 'Z'의 개수,\n",
        "# my_string에서 'a'의 개수,\n",
        "# my_string에서 'b'의 개수,..., my_string에서 'z'의 개수를\n",
        "# 순서대로 담은 길이 52의 정수 배열을 return 하는 solution 함수를 작성해 주세요.\n",
        "\n",
        "# 제한사항\n",
        "# 1 ≤ my_string의 길이 ≤ 1,000\n",
        "\n",
        "# 입출력 예\n",
        "# my_string\t      result\n",
        "# \"Programmers\"\t  [0, 0, 0, 0, 0, 0, 0, 0, 0, 0, 0, 0, 0, 0, 0, 1, 0, 0, 0, 0, 0, 0, 0, 0, 0, 0, 1, 0, 0, 0, 1, 0, 1, 0, 0, 0, 0, 0, 2, 0, 1, 0, 0, 3, 1, 0, 0, 0, 0, 0, 0, 0]\n",
        "\n",
        "# 입출력 예 설명\n",
        "# 입출력 예 #1\n",
        "# 예제 1번의 my_string에서 'P'가 1개,\n",
        "# 'a'가 1개,\n",
        "# 'e'가 1개,\n",
        "# 'g'가 1개,\n",
        "# 'm'이 2개,\n",
        "# 'o'가 1개,\n",
        "# 'r'가 3개,\n",
        "# 's'가 1개 있으므로\n",
        "#  [0, 0, 0, 0, 0, 0, 0, 0, 0, 0, 0, 0, 0, 0, 0, 1, 0, 0, 0, 0, 0, 0, 0, 0, 0, 0, 1, 0, 0, 0, 1, 0, 1, 0, 0, 0, 0, 0, 2, 0, 1, 0, 0, 3, 1, 0, 0, 0, 0, 0, 0, 0]를 return 합니다."
      ]
    },
    {
      "cell_type": "code",
      "source": [
        "# 풀이 봄. 아스키 코드 이용문제\n",
        "# A는 65. a는 97. 0부터 인덱스 시작이라서 대문자는 -65, 소문자는 -71을 해준다\n",
        "# ord() 함수는 뭔지 모르겠다 찾아 봐야함\n",
        "def solution(my_string):\n",
        "    answer = [0] * 52\n",
        "    for char in my_string:\n",
        "      if char.isupper():\n",
        "        answer[ord(char)-65] += 1\n",
        "      else:\n",
        "        answer[ord(char)-71] += 1\n",
        "\n",
        "    return answer\n",
        "\n",
        "# ord(문자)\n",
        "# 하나의 문자를 인자로 받고 해당 문자에 해당하는 유니코드 정수를 반환합니다.\n",
        "# ord('a')를 넣으면 정수 97을 반환합니다.\n",
        "\n",
        "# chr(정수)\n",
        "# 하나의 정수를 인자로 받고 해당 정수에 해당하는 유니코드 문자를 반환합니다.\n",
        "# 인자(정수)의 유효 범위는 0 ~ 1,114,111 (16진수 0x10 FFFF)까지 입니다.\n",
        "# chr(97)을 하면 문자 'a'를 반환합니다"
      ],
      "metadata": {
        "id": "VAej6YX3HErw"
      },
      "execution_count": 4,
      "outputs": []
    },
    {
      "cell_type": "code",
      "source": [
        "my_string = \"Programmers\"\n",
        "solution(my_string)"
      ],
      "metadata": {
        "colab": {
          "base_uri": "https://localhost:8080/"
        },
        "id": "KK70QTyxLd6f",
        "outputId": "73b694a8-da73-4200-df77-427a23a84878"
      },
      "execution_count": 5,
      "outputs": [
        {
          "output_type": "execute_result",
          "data": {
            "text/plain": [
              "[0,\n",
              " 0,\n",
              " 0,\n",
              " 0,\n",
              " 0,\n",
              " 0,\n",
              " 0,\n",
              " 0,\n",
              " 0,\n",
              " 0,\n",
              " 0,\n",
              " 0,\n",
              " 0,\n",
              " 0,\n",
              " 0,\n",
              " 1,\n",
              " 0,\n",
              " 0,\n",
              " 0,\n",
              " 0,\n",
              " 0,\n",
              " 0,\n",
              " 0,\n",
              " 0,\n",
              " 0,\n",
              " 0,\n",
              " 1,\n",
              " 0,\n",
              " 0,\n",
              " 0,\n",
              " 1,\n",
              " 0,\n",
              " 1,\n",
              " 0,\n",
              " 0,\n",
              " 0,\n",
              " 0,\n",
              " 0,\n",
              " 2,\n",
              " 0,\n",
              " 1,\n",
              " 0,\n",
              " 0,\n",
              " 3,\n",
              " 1,\n",
              " 0,\n",
              " 0,\n",
              " 0,\n",
              " 0,\n",
              " 0,\n",
              " 0,\n",
              " 0]"
            ]
          },
          "metadata": {},
          "execution_count": 5
        }
      ]
    },
    {
      "cell_type": "code",
      "source": [
        "# 다른 사람 풀이"
      ],
      "metadata": {
        "id": "tsUuMICxLiAv"
      },
      "execution_count": 6,
      "outputs": []
    },
    {
      "cell_type": "code",
      "source": [
        "# 아직 이런 한줄 코드는 감이 없네\n",
        "# 이렇게 할려고도 해봤는데 실패함\n",
        "def solution(my_string):\n",
        "    return [my_string.count(alphabet) for alphabet in 'abcdefghijklmnopqrstuvwxyz'.upper()+'abcdefghijklmnopqrstuvwxyz']"
      ],
      "metadata": {
        "id": "x0stdDMvNge7"
      },
      "execution_count": 7,
      "outputs": []
    },
    {
      "cell_type": "code",
      "source": [
        "import string\n",
        "def solution(my_string):\n",
        "    count = dict.fromkeys(string.ascii_uppercase + string.ascii_lowercase, 0)\n",
        "    for s in my_string:\n",
        "        count[s] += 1\n",
        "    return list(count.values())"
      ],
      "metadata": {
        "id": "mpOkBDpWONrB"
      },
      "execution_count": 8,
      "outputs": []
    },
    {
      "cell_type": "code",
      "source": [
        "# 이렇게 하다가 실패 했는데\n",
        "# 이게 정답 이었군\n",
        "def solution(my_string):\n",
        "    answer = []\n",
        "    alphabet = \"ABCDEFGHIJKLMNOPQRSTUVWXYZabcdefghijklmnopqrstuvwxyz\"\n",
        "    for i in alphabet:\n",
        "        answer.append(len(my_string.split(i))-1)\n",
        "    return answer"
      ],
      "metadata": {
        "id": "01xyVgL0OZGI"
      },
      "execution_count": 9,
      "outputs": []
    },
    {
      "cell_type": "code",
      "source": [
        "def solution(my_string):\n",
        "    return [my_string.count(chr(i)) for i in range(65, 91)] + [my_string.count(chr(i)) for i in range(97, 123)]"
      ],
      "metadata": {
        "id": "JjpFh-EwOfi4"
      },
      "execution_count": null,
      "outputs": []
    }
  ]
}