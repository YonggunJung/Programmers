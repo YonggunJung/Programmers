{
  "nbformat": 4,
  "nbformat_minor": 0,
  "metadata": {
    "colab": {
      "provenance": [],
      "authorship_tag": "ABX9TyNVZCA/wm/9BuWY/B8foEtL",
      "include_colab_link": true
    },
    "kernelspec": {
      "name": "python3",
      "display_name": "Python 3"
    },
    "language_info": {
      "name": "python"
    }
  },
  "cells": [
    {
      "cell_type": "markdown",
      "metadata": {
        "id": "view-in-github",
        "colab_type": "text"
      },
      "source": [
        "<a href=\"https://colab.research.google.com/github/YonggunJung/Programmers/blob/main/%EA%BC%AC%EB%A6%AC_%EB%AC%B8%EC%9E%90%EC%97%B4.ipynb\" target=\"_parent\"><img src=\"https://colab.research.google.com/assets/colab-badge.svg\" alt=\"Open In Colab\"/></a>"
      ]
    },
    {
      "cell_type": "code",
      "execution_count": 1,
      "metadata": {
        "id": "rW0RAHYRUqCE"
      },
      "outputs": [],
      "source": [
        "# 문제 설명\n",
        "# 문자열들이 담긴 리스트가 주어졌을 때,\n",
        "# 모든 문자열들을 순서대로 합친 문자열을 꼬리 문자열이라고 합니다.\n",
        "# 꼬리 문자열을 만들 때 특정 문자열을 포함한 문자열은 제외시키려고 합니다.\n",
        "# 예를 들어 문자열 리스트 [\"abc\", \"def\", \"ghi\"]가 있고 문자열 \"ef\"를 포함한 문자열은\n",
        "# 제외하고 꼬리 문자열을 만들면 \"abcghi\"가 됩니다.\n",
        "\n",
        "# 문자열 리스트 str_list와 제외하려는 문자열 ex가 주어질 때,\n",
        "# str_list에서 ex를 포함한 문자열을 제외하고 만든 꼬리 문자열을\n",
        "# return하도록 solution 함수를 완성해주세요.\n",
        "\n",
        "# 제한사항\n",
        "# 2 ≤ str_list의 길이 ≤ 10\n",
        "# 1 ≤ str_list의 원소의 길이 ≤ 10\n",
        "# 1 ≤ ex의 길이 ≤ 5\n",
        "\n",
        "# 입출력 예\n",
        "# str_list\t                ex\t        result\n",
        "# [\"abc\", \"def\", \"ghi\"]   \t\"ef\"\t      \"abcghi\"\n",
        "# [\"abc\", \"bbc\", \"cbc\"]   \t\"c\"\t        \"\"\n",
        "\n",
        "# 입출력 예 설명\n",
        "# 입출력 예 #1\n",
        "# 본문과 동일합니다.\n",
        "\n",
        "# 입출력 예 #2\n",
        "# 리스트 안의 모든 문자열이 \"c\"를 포함하므로 빈 문자열을 return합니다."
      ]
    },
    {
      "cell_type": "code",
      "source": [
        "def solution(str_list, ex):\n",
        "    answer = ''\n",
        "    for s in str_list:\n",
        "      if ex in s:\n",
        "        pass\n",
        "      else:\n",
        "        answer += s\n",
        "    return answer"
      ],
      "metadata": {
        "id": "VgGs8Eq2U2Hy"
      },
      "execution_count": 3,
      "outputs": []
    },
    {
      "cell_type": "code",
      "source": [
        "str_list = [\"abc\", \"def\", \"ghi\"]\n",
        "ex = \"ef\"\n",
        "solution(str_list, ex)"
      ],
      "metadata": {
        "colab": {
          "base_uri": "https://localhost:8080/",
          "height": 35
        },
        "id": "xwOj4xrjU5AR",
        "outputId": "79f00415-c11f-4662-d6dc-71259dfc6c2d"
      },
      "execution_count": 4,
      "outputs": [
        {
          "output_type": "execute_result",
          "data": {
            "text/plain": [
              "'abcghi'"
            ],
            "application/vnd.google.colaboratory.intrinsic+json": {
              "type": "string"
            }
          },
          "metadata": {},
          "execution_count": 4
        }
      ]
    },
    {
      "cell_type": "code",
      "source": [
        "str_list = [\"abc\", \"bbc\", \"cbc\"]\n",
        "ex = \"c\"\n",
        "solution(str_list, ex)"
      ],
      "metadata": {
        "colab": {
          "base_uri": "https://localhost:8080/",
          "height": 35
        },
        "id": "Nlpz2w95U7hM",
        "outputId": "29b92b32-58b2-466f-c5a3-6c9fd7d2d94c"
      },
      "execution_count": 5,
      "outputs": [
        {
          "output_type": "execute_result",
          "data": {
            "text/plain": [
              "''"
            ],
            "application/vnd.google.colaboratory.intrinsic+json": {
              "type": "string"
            }
          },
          "metadata": {},
          "execution_count": 5
        }
      ]
    },
    {
      "cell_type": "code",
      "source": [
        "# 다른 사람 풀이"
      ],
      "metadata": {
        "id": "QmSqgtNzU7eu"
      },
      "execution_count": 6,
      "outputs": []
    },
    {
      "cell_type": "code",
      "source": [
        "def solution(str_list, ex):\n",
        "    filtered_list = [s for s in str_list if ex not in s]\n",
        "    return \"\".join(filtered_list)"
      ],
      "metadata": {
        "id": "pmUmqhadV0rp"
      },
      "execution_count": 7,
      "outputs": []
    },
    {
      "cell_type": "code",
      "source": [
        "def solution(str_list, ex):\n",
        "    return ''.join(filter(lambda x: ex not in x, str_list))"
      ],
      "metadata": {
        "id": "vGbbd0HvV2y3"
      },
      "execution_count": 8,
      "outputs": []
    },
    {
      "cell_type": "code",
      "source": [
        "def solution(str_list, ex):\n",
        "    return ''.join([i for i in str_list if ex not in i])"
      ],
      "metadata": {
        "id": "jRa-2dFOV4mw"
      },
      "execution_count": 9,
      "outputs": []
    },
    {
      "cell_type": "code",
      "source": [],
      "metadata": {
        "id": "szE3DI6xV53f"
      },
      "execution_count": null,
      "outputs": []
    }
  ]
}