{
  "nbformat": 4,
  "nbformat_minor": 0,
  "metadata": {
    "colab": {
      "provenance": [],
      "authorship_tag": "ABX9TyOguRzT/RfanZu2QoRNmHZE",
      "include_colab_link": true
    },
    "kernelspec": {
      "name": "python3",
      "display_name": "Python 3"
    },
    "language_info": {
      "name": "python"
    }
  },
  "cells": [
    {
      "cell_type": "markdown",
      "metadata": {
        "id": "view-in-github",
        "colab_type": "text"
      },
      "source": [
        "<a href=\"https://colab.research.google.com/github/YonggunJung/Programmers/blob/main/%EB%AC%B8%EC%9E%90%EC%97%B4_%EB%92%A4%EC%A7%91%EA%B8%B0.ipynb\" target=\"_parent\"><img src=\"https://colab.research.google.com/assets/colab-badge.svg\" alt=\"Open In Colab\"/></a>"
      ]
    },
    {
      "cell_type": "code",
      "execution_count": 1,
      "metadata": {
        "id": "XKPWe4nQoSrD"
      },
      "outputs": [],
      "source": [
        "# 문제 설명\n",
        "# 문자열 my_string과 정수 s, e가 매개변수로 주어질 때,\n",
        "# my_string에서 인덱스 s부터 인덱스 e까지를 뒤집은 문자열을\n",
        "# return 하는 solution 함수를 작성해 주세요.\n",
        "\n",
        "# 제한사항\n",
        "# my_string은 숫자와 알파벳으로만 이루어져 있습니다.\n",
        "# 1 ≤ my_string의 길이 ≤ 1,000\n",
        "# 0 ≤ s ≤ e < my_string의 길이\n",
        "\n",
        "# 입출력 예\n",
        "# my_string\t            s\t        e\t          result\n",
        "# \"Progra21Sremm3\"\t    6\t        12\t        \"ProgrammerS123\"\n",
        "# \"Stanley1yelnatS\"\t    4\t        10\t        \"Stanley1yelnatS\"\n",
        "\n",
        "# 입출력 예 설명\n",
        "# 입출력 예 #1\n",
        "# 예제 1번의 my_string에서 인덱스 6부터 인덱스 12까지를 뒤집은 문자열은\n",
        "# \"ProgrammerS123\"이므로 \"ProgrammerS123\"를 return 합니다.\n",
        "\n",
        "# 입출력 예 #2\n",
        "# 예제 2번의 my_string에서 인덱스 4부터 인덱스 10까지를 뒤집으면\n",
        "# 원래 문자열과 같은 \"Stanley1yelnatS\"이므로 \"Stanley1yelnatS\"를 return 합니다."
      ]
    },
    {
      "cell_type": "code",
      "source": [
        "def solution(my_string, s, e):\n",
        "     answer = ''\n",
        "     rms = my_string[s:e+1][::-1]\n",
        "     for i in range(len(my_string)):\n",
        "      if s <= i <= e:\n",
        "        answer += rms[i-s]\n",
        "      else:\n",
        "        answer += my_string[i]\n",
        "     return answer"
      ],
      "metadata": {
        "id": "ngXWBHGBoinC"
      },
      "execution_count": 17,
      "outputs": []
    },
    {
      "cell_type": "code",
      "source": [
        "my_string = \"Progra21Sremm3\"\n",
        "s = 6\n",
        "e = 12\n",
        "solution(my_string, s, e)"
      ],
      "metadata": {
        "colab": {
          "base_uri": "https://localhost:8080/",
          "height": 35
        },
        "id": "9ubnuRScokdH",
        "outputId": "5b428444-54c8-47b4-cad7-ba24e14cd8c0"
      },
      "execution_count": 18,
      "outputs": [
        {
          "output_type": "execute_result",
          "data": {
            "text/plain": [
              "'ProgrammerS123'"
            ],
            "application/vnd.google.colaboratory.intrinsic+json": {
              "type": "string"
            }
          },
          "metadata": {},
          "execution_count": 18
        }
      ]
    },
    {
      "cell_type": "code",
      "source": [
        "my_string = \"Stanley1yelnatS\"\n",
        "s = 4\n",
        "e = 10\n",
        "solution(my_string, s, e)"
      ],
      "metadata": {
        "colab": {
          "base_uri": "https://localhost:8080/",
          "height": 35
        },
        "id": "It7inHHqooWU",
        "outputId": "cd885528-d19f-4c09-8ec4-80082afb343f"
      },
      "execution_count": 19,
      "outputs": [
        {
          "output_type": "execute_result",
          "data": {
            "text/plain": [
              "'Stanley1yelnatS'"
            ],
            "application/vnd.google.colaboratory.intrinsic+json": {
              "type": "string"
            }
          },
          "metadata": {},
          "execution_count": 19
        }
      ]
    },
    {
      "cell_type": "code",
      "source": [
        "# 다른 사람 풀이"
      ],
      "metadata": {
        "id": "ZQBUHSq2ooUW"
      },
      "execution_count": 20,
      "outputs": []
    },
    {
      "cell_type": "code",
      "source": [
        "# 이게 더 쉬운듯\n",
        "def solution(my_string, s, e):\n",
        "    return my_string[:s]+my_string[s:e+1][::-1]+my_string[e+1:]"
      ],
      "metadata": {
        "id": "A9DvPr3MrxEB"
      },
      "execution_count": 21,
      "outputs": []
    },
    {
      "cell_type": "code",
      "source": [],
      "metadata": {
        "id": "eBQHrRN6r1qh"
      },
      "execution_count": null,
      "outputs": []
    }
  ]
}