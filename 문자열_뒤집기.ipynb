{
  "nbformat": 4,
  "nbformat_minor": 0,
  "metadata": {
    "colab": {
      "provenance": [],
      "authorship_tag": "ABX9TyN8b88uAevQiZsNNUwD5gGf",
      "include_colab_link": true
    },
    "kernelspec": {
      "name": "python3",
      "display_name": "Python 3"
    },
    "language_info": {
      "name": "python"
    }
  },
  "cells": [
    {
      "cell_type": "markdown",
      "metadata": {
        "id": "view-in-github",
        "colab_type": "text"
      },
      "source": [
        "<a href=\"https://colab.research.google.com/github/YonggunJung/Programmers/blob/main/%EB%AC%B8%EC%9E%90%EC%97%B4_%EB%92%A4%EC%A7%91%EA%B8%B0.ipynb\" target=\"_parent\"><img src=\"https://colab.research.google.com/assets/colab-badge.svg\" alt=\"Open In Colab\"/></a>"
      ]
    },
    {
      "cell_type": "code",
      "execution_count": 1,
      "metadata": {
        "id": "LqshS0jjkrXe"
      },
      "outputs": [],
      "source": [
        "# 문제 설명\n",
        "# 문자열 my_string이 매개변수로 주어집니다.\n",
        "# my_string을 거꾸로 뒤집은 문자열을 return하도록 solution 함수를 완성해주세요.\n",
        "\n",
        "# 제한사항\n",
        "# 1 ≤ my_string의 길이 ≤ 1,000\n",
        "\n",
        "# 입출력 예\n",
        "# my_string\t        return\n",
        "# \"jaron\"         \t\"noraj\"\n",
        "# \"bread\"\t          \"daerb\"\n",
        "\n",
        "# 입출력 예 설명\n",
        "# 입출력 예 #1\n",
        "# my_string이 \"jaron\"이므로 거꾸로 뒤집은 \"noraj\"를 return합니다.\n",
        "\n",
        "# 입출력 예 #2\n",
        "# my_string이 \"bread\"이므로 거꾸로 뒤집은 \"daerb\"를 return합니다."
      ]
    },
    {
      "cell_type": "code",
      "source": [
        "def solution(my_string):\n",
        "    answer = my_string[: : -1]\n",
        "    return answer"
      ],
      "metadata": {
        "id": "YUMeLjcGk3xs"
      },
      "execution_count": 35,
      "outputs": []
    },
    {
      "cell_type": "code",
      "source": [
        "# # 에러 AttributeError: 'str' object has no attribute 'append'\n",
        "# def solution(my_string):\n",
        "#     answer = ''\n",
        "#     while (my_string):\n",
        "#       answer.append(my_string.pop())\n",
        "#     return answer"
      ],
      "metadata": {
        "id": "n_oRolcan_zd"
      },
      "execution_count": 36,
      "outputs": []
    },
    {
      "cell_type": "code",
      "source": [
        "# # 에러 AttributeError: 'str' object has no attribute 'reverse'\n",
        "\n",
        "# def solution(my_string):\n",
        "#     my_string.reverse()\n",
        "#     return my_string"
      ],
      "metadata": {
        "id": "DOCr7JeDojDe"
      },
      "execution_count": 37,
      "outputs": []
    },
    {
      "cell_type": "code",
      "source": [
        "my_string = \"jaron\"\n",
        "solution(my_string)"
      ],
      "metadata": {
        "colab": {
          "base_uri": "https://localhost:8080/",
          "height": 35
        },
        "id": "8nZbEEedlFe0",
        "outputId": "4fc2b37a-83a3-4955-f011-c0783b5d80e1"
      },
      "execution_count": 38,
      "outputs": [
        {
          "output_type": "execute_result",
          "data": {
            "text/plain": [
              "'noraj'"
            ],
            "application/vnd.google.colaboratory.intrinsic+json": {
              "type": "string"
            }
          },
          "metadata": {},
          "execution_count": 38
        }
      ]
    },
    {
      "cell_type": "code",
      "source": [
        "my_string = \"bread\"\n",
        "solution(my_string)"
      ],
      "metadata": {
        "colab": {
          "base_uri": "https://localhost:8080/",
          "height": 35
        },
        "id": "WPAcs31alGHr",
        "outputId": "7fba0f36-ca27-4088-8a34-695ab0b88e88"
      },
      "execution_count": 39,
      "outputs": [
        {
          "output_type": "execute_result",
          "data": {
            "text/plain": [
              "'daerb'"
            ],
            "application/vnd.google.colaboratory.intrinsic+json": {
              "type": "string"
            }
          },
          "metadata": {},
          "execution_count": 39
        }
      ]
    },
    {
      "cell_type": "code",
      "source": [
        "# 다른 사람 풀이"
      ],
      "metadata": {
        "id": "Ue2xkkEAnynM"
      },
      "execution_count": 40,
      "outputs": []
    },
    {
      "cell_type": "code",
      "source": [
        "# 대충 이해감\n",
        "def solution(my_string):\n",
        "\n",
        "    my_list = list(my_string)\n",
        "    my_list.reverse()\n",
        "\n",
        "    answer = ''.join(my_list)\n",
        "\n",
        "    return answer"
      ],
      "metadata": {
        "id": "vxZByR46pi7D"
      },
      "execution_count": 41,
      "outputs": []
    },
    {
      "cell_type": "code",
      "source": [
        "# 문자열에 리스트화 해서 reverse() 사용\n",
        "def solution(my_string):\n",
        "    answer = ''\n",
        "    a = list(my_string)\n",
        "    a.reverse()\n",
        "    for i in a:\n",
        "        answer += i\n",
        "\n",
        "    return answer"
      ],
      "metadata": {
        "id": "gDYAjNSGpr0h"
      },
      "execution_count": 42,
      "outputs": []
    },
    {
      "cell_type": "code",
      "source": [
        "# 이렇게 간단한 코드 배워야함\n",
        "# 이해는 못했음\n",
        "def solution(my_string):\n",
        "\n",
        "    return ''.join(reversed(my_string))"
      ],
      "metadata": {
        "id": "Yj28qAyxp1vQ"
      },
      "execution_count": null,
      "outputs": []
    }
  ]
}