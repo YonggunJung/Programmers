{
  "nbformat": 4,
  "nbformat_minor": 0,
  "metadata": {
    "colab": {
      "provenance": [],
      "authorship_tag": "ABX9TyNT948lL8nMx3dtJFous3h3",
      "include_colab_link": true
    },
    "kernelspec": {
      "name": "python3",
      "display_name": "Python 3"
    },
    "language_info": {
      "name": "python"
    }
  },
  "cells": [
    {
      "cell_type": "markdown",
      "metadata": {
        "id": "view-in-github",
        "colab_type": "text"
      },
      "source": [
        "<a href=\"https://colab.research.google.com/github/YonggunJung/Programmers/blob/main/%ED%8A%B9%EC%A0%95_%EB%AC%B8%EC%9E%90_%EC%A0%9C%EA%B1%B0%ED%95%98%EA%B8%B0.ipynb\" target=\"_parent\"><img src=\"https://colab.research.google.com/assets/colab-badge.svg\" alt=\"Open In Colab\"/></a>"
      ]
    },
    {
      "cell_type": "code",
      "execution_count": 1,
      "metadata": {
        "id": "J_qLHH7BKNch"
      },
      "outputs": [],
      "source": [
        "# 문제 설명\n",
        "# 문자열 my_string과 문자 letter이 매개변수로 주어집니다.\n",
        "# my_string에서 letter를 제거한 문자열을 return하도록 solution 함수를 완성해주세요.\n",
        "\n",
        "# 제한사항\n",
        "# 1 ≤ my_string의 길이 ≤ 100\n",
        "# letter은 길이가 1인 영문자입니다.\n",
        "# my_string과 letter은 알파벳 대소문자로 이루어져 있습니다.\n",
        "# 대문자와 소문자를 구분합니다.\n",
        "\n",
        "# 입출력 예\n",
        "# my_string\t      letter      \tresult\n",
        "# \"abcdef\"\t        \"f\"\t        \"abcde\"\n",
        "# \"BCBdbe\"\t        \"B\"\t        \"Cdbe\"\n",
        "\n",
        "# 입출력 예 설명\n",
        "# 입출력 예 #1\n",
        "# \"abcdef\" 에서 \"f\"를 제거한 \"abcde\"를 return합니다.\n",
        "\n",
        "# 입출력 예 #2\n",
        "# \"BCBdbe\" 에서 \"B\"를 모두 제거한 \"Cdbe\"를 return합니다."
      ]
    },
    {
      "cell_type": "code",
      "source": [
        "def solution(my_string, letter):\n",
        "    answer = ''\n",
        "    for i in my_string:\n",
        "      if i != letter:\n",
        "      # if i not in letter:    <= 이거도 똑같은 거임\n",
        "        answer += i\n",
        "    return answer"
      ],
      "metadata": {
        "id": "-ozkQXBcKsiA"
      },
      "execution_count": 2,
      "outputs": []
    },
    {
      "cell_type": "code",
      "source": [
        "solution(\"abcdef\", \"f\")"
      ],
      "metadata": {
        "colab": {
          "base_uri": "https://localhost:8080/",
          "height": 35
        },
        "id": "B1PdBu0_MhTY",
        "outputId": "41d4ec03-796a-422f-fbff-ca6fc980c2df"
      },
      "execution_count": 4,
      "outputs": [
        {
          "output_type": "execute_result",
          "data": {
            "text/plain": [
              "'abcde'"
            ],
            "application/vnd.google.colaboratory.intrinsic+json": {
              "type": "string"
            }
          },
          "metadata": {},
          "execution_count": 4
        }
      ]
    },
    {
      "cell_type": "code",
      "source": [
        "solution(\"BCBdbe\", \"B\")"
      ],
      "metadata": {
        "colab": {
          "base_uri": "https://localhost:8080/",
          "height": 35
        },
        "id": "D-sx3g6bMiWu",
        "outputId": "b98a7908-b349-473a-d997-b3fb2ac5eb62"
      },
      "execution_count": 5,
      "outputs": [
        {
          "output_type": "execute_result",
          "data": {
            "text/plain": [
              "'Cdbe'"
            ],
            "application/vnd.google.colaboratory.intrinsic+json": {
              "type": "string"
            }
          },
          "metadata": {},
          "execution_count": 5
        }
      ]
    },
    {
      "cell_type": "code",
      "source": [
        "# 다른 사람 풀이"
      ],
      "metadata": {
        "id": "NxR8mVUoMrKu"
      },
      "execution_count": 6,
      "outputs": []
    },
    {
      "cell_type": "code",
      "source": [
        "# 이게 쉽고 보기도 좋음\n",
        "def solution(my_string, letter):\n",
        "    return my_string.replace(letter, '')"
      ],
      "metadata": {
        "id": "B9VhYZpsNAmA"
      },
      "execution_count": 7,
      "outputs": []
    },
    {
      "cell_type": "code",
      "source": [
        "#  이건 대충 알겠음\n",
        "def solution(my_string, letter):\n",
        "    return ''.join([c for c in my_string if c != letter])"
      ],
      "metadata": {
        "id": "_FQ4TU3MNJ2m"
      },
      "execution_count": null,
      "outputs": []
    }
  ]
}