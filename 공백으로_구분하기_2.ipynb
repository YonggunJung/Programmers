{
  "nbformat": 4,
  "nbformat_minor": 0,
  "metadata": {
    "colab": {
      "provenance": [],
      "authorship_tag": "ABX9TyOZO9LTZ7TruD5KyfvROjpV",
      "include_colab_link": true
    },
    "kernelspec": {
      "name": "python3",
      "display_name": "Python 3"
    },
    "language_info": {
      "name": "python"
    }
  },
  "cells": [
    {
      "cell_type": "markdown",
      "metadata": {
        "id": "view-in-github",
        "colab_type": "text"
      },
      "source": [
        "<a href=\"https://colab.research.google.com/github/YonggunJung/Programmers/blob/main/%EA%B3%B5%EB%B0%B1%EC%9C%BC%EB%A1%9C_%EA%B5%AC%EB%B6%84%ED%95%98%EA%B8%B0_2.ipynb\" target=\"_parent\"><img src=\"https://colab.research.google.com/assets/colab-badge.svg\" alt=\"Open In Colab\"/></a>"
      ]
    },
    {
      "cell_type": "code",
      "execution_count": 1,
      "metadata": {
        "id": "nKEBjcEFbcsz"
      },
      "outputs": [],
      "source": [
        "# 문제 설명\n",
        "# 단어가 공백 한 개 이상으로 구분되어 있는 문자열 my_string이 매개변수로 주어질 때,\n",
        "# my_string에 나온 단어를 앞에서부터 순서대로 담은 문자열 배열을\n",
        "# return 하는 solution 함수를 작성해 주세요.\n",
        "\n",
        "# 제한사항\n",
        "# my_string은 영소문자와 공백으로만 이루어져 있습니다.\n",
        "# 1 ≤ my_string의 길이 ≤ 1,000\n",
        "# my_string의 맨 앞과 맨 뒤에도 공백이 있을 수 있습니다.\n",
        "# my_string에는 단어가 하나 이상 존재합니다.\n",
        "\n",
        "# 입출력 예\n",
        "# my_string\t                  result\n",
        "# \" i    love  you\"\t          [\"i\", \"love\", \"you\"]\n",
        "# \"    programmers  \"\t        [\"programmers\"]\n",
        "\n",
        "# 입출력 예 설명\n",
        "# 입출력 예 #1\n",
        "# 예제 1번의 my_string은 \" i    love  you\"로 공백을 기준으로 단어를 나누면\n",
        "# \"i\", \"love\", \"you\" 3개의 단어가 있습니다.\n",
        "# 따라서 [\"i\", \"love\", \"you\"]를 return 합니다.\n",
        "\n",
        "# 입출력 예 #2\n",
        "# 예제 2번의 my_string은 \"    programmers  \"로\n",
        "# 단어는 \"programmers\" 하나만 있습니다.\n",
        "# 따라서 [\"programmers\"]를 return 합니다."
      ]
    },
    {
      "cell_type": "code",
      "source": [
        "def solution(my_string):\n",
        "    answer = my_string.split()\n",
        "\n",
        "    return answer\n",
        "# 이걸 원하는게 아닌거 같은데 이게 됨 ㅋㅋㅋ"
      ],
      "metadata": {
        "id": "zm0NKbgVbmw0"
      },
      "execution_count": 6,
      "outputs": []
    },
    {
      "cell_type": "code",
      "source": [
        "my_string = \" i    love  you\"\n",
        "solution(my_string)"
      ],
      "metadata": {
        "colab": {
          "base_uri": "https://localhost:8080/"
        },
        "id": "ECMzB1XGborT",
        "outputId": "e6cdc99c-9658-45e9-e419-ff03550685bb"
      },
      "execution_count": 7,
      "outputs": [
        {
          "output_type": "execute_result",
          "data": {
            "text/plain": [
              "['i', 'love', 'you']"
            ]
          },
          "metadata": {},
          "execution_count": 7
        }
      ]
    },
    {
      "cell_type": "code",
      "source": [
        "my_string = \"    programmers  \"\n",
        "solution(my_string)"
      ],
      "metadata": {
        "colab": {
          "base_uri": "https://localhost:8080/"
        },
        "id": "5FZJUi07bqkl",
        "outputId": "84f0ebf0-0195-49cb-d44d-53acdfc12f3b"
      },
      "execution_count": 8,
      "outputs": [
        {
          "output_type": "execute_result",
          "data": {
            "text/plain": [
              "['programmers']"
            ]
          },
          "metadata": {},
          "execution_count": 8
        }
      ]
    },
    {
      "cell_type": "code",
      "source": [
        "# 다른사람 풀이"
      ],
      "metadata": {
        "id": "WHfdErjYbqia"
      },
      "execution_count": 9,
      "outputs": []
    },
    {
      "cell_type": "code",
      "source": [
        "def solution(my_string):\n",
        "    return [word for word in my_string.split() if word]"
      ],
      "metadata": {
        "id": "2QQoN1wZb9R9"
      },
      "execution_count": null,
      "outputs": []
    }
  ]
}