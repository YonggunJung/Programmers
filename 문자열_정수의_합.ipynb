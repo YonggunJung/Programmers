{
  "nbformat": 4,
  "nbformat_minor": 0,
  "metadata": {
    "colab": {
      "provenance": [],
      "authorship_tag": "ABX9TyO7qYVaozGkYdgZZig2BTed",
      "include_colab_link": true
    },
    "kernelspec": {
      "name": "python3",
      "display_name": "Python 3"
    },
    "language_info": {
      "name": "python"
    }
  },
  "cells": [
    {
      "cell_type": "markdown",
      "metadata": {
        "id": "view-in-github",
        "colab_type": "text"
      },
      "source": [
        "<a href=\"https://colab.research.google.com/github/YonggunJung/Programmers/blob/main/%EB%AC%B8%EC%9E%90%EC%97%B4_%EC%A0%95%EC%88%98%EC%9D%98_%ED%95%A9.ipynb\" target=\"_parent\"><img src=\"https://colab.research.google.com/assets/colab-badge.svg\" alt=\"Open In Colab\"/></a>"
      ]
    },
    {
      "cell_type": "code",
      "execution_count": 1,
      "metadata": {
        "id": "k2n9gN5SiOiz"
      },
      "outputs": [],
      "source": [
        "# 문제 설명\n",
        "# 한 자리 정수로 이루어진 문자열 num_str이 주어질 때,\n",
        "# 각 자리수의 합을 return하도록 solution 함수를 완성해주세요.\n",
        "\n",
        "# 제한사항\n",
        "# 3 ≤ num_str ≤ 100\n",
        "# 입출력 예\n",
        "# num_str\t          result\n",
        "# \"123456789\"\t        45\n",
        "# \"1000000\"\t           1\n",
        "\n",
        "# 입출력 예 설명\n",
        "# 입출력 예 #1\n",
        "# 문자열 안의 모든 숫자를 더하면 45가 됩니다.\n",
        "\n",
        "# 입출력 예 #2\n",
        "# 문자열 안의 모든 숫자를 더하면 1이 됩니다."
      ]
    },
    {
      "cell_type": "code",
      "source": [
        "def solution(num_str):\n",
        "    answer = 0\n",
        "    for i in range(len(num_str)):\n",
        "      answer += int(num_str[i])\n",
        "    return answer"
      ],
      "metadata": {
        "id": "M_4uNS-GiiOM"
      },
      "execution_count": 6,
      "outputs": []
    },
    {
      "cell_type": "code",
      "source": [
        "num_str = \"123456789\"\n",
        "solution(num_str)"
      ],
      "metadata": {
        "colab": {
          "base_uri": "https://localhost:8080/"
        },
        "id": "qJ-nVECFijx7",
        "outputId": "a96d4196-ef49-48bb-f6eb-b99cedf14bcd"
      },
      "execution_count": 7,
      "outputs": [
        {
          "output_type": "execute_result",
          "data": {
            "text/plain": [
              "45"
            ]
          },
          "metadata": {},
          "execution_count": 7
        }
      ]
    },
    {
      "cell_type": "code",
      "source": [
        "num_str = \"1000000\"\n",
        "solution(num_str)"
      ],
      "metadata": {
        "colab": {
          "base_uri": "https://localhost:8080/"
        },
        "id": "LhS-4kUbildv",
        "outputId": "59e70b00-d940-4b1a-85ae-8959c48f5460"
      },
      "execution_count": 8,
      "outputs": [
        {
          "output_type": "execute_result",
          "data": {
            "text/plain": [
              "1"
            ]
          },
          "metadata": {},
          "execution_count": 8
        }
      ]
    },
    {
      "cell_type": "code",
      "source": [
        "# 다른 사람 풀이"
      ],
      "metadata": {
        "id": "pnWNiGc9il2w"
      },
      "execution_count": 9,
      "outputs": []
    },
    {
      "cell_type": "code",
      "source": [
        "def solution(num_str):\n",
        "    return sum(map(int, list(num_str)))"
      ],
      "metadata": {
        "id": "8Sb6JSnyjMNV"
      },
      "execution_count": 10,
      "outputs": []
    },
    {
      "cell_type": "code",
      "source": [
        "\n",
        "solution=lambda s:sum(map(int,s))"
      ],
      "metadata": {
        "id": "E__cCs8wjOOi"
      },
      "execution_count": 11,
      "outputs": []
    },
    {
      "cell_type": "code",
      "source": [],
      "metadata": {
        "id": "TSVnCYiZjVjD"
      },
      "execution_count": null,
      "outputs": []
    }
  ]
}