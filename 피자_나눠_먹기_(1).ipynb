{
  "nbformat": 4,
  "nbformat_minor": 0,
  "metadata": {
    "colab": {
      "provenance": [],
      "authorship_tag": "ABX9TyO9lw3fGjldSnvKMqYxhgIX",
      "include_colab_link": true
    },
    "kernelspec": {
      "name": "python3",
      "display_name": "Python 3"
    },
    "language_info": {
      "name": "python"
    }
  },
  "cells": [
    {
      "cell_type": "markdown",
      "metadata": {
        "id": "view-in-github",
        "colab_type": "text"
      },
      "source": [
        "<a href=\"https://colab.research.google.com/github/YonggunJung/Programmers/blob/main/%ED%94%BC%EC%9E%90_%EB%82%98%EB%88%A0_%EB%A8%B9%EA%B8%B0_(1).ipynb\" target=\"_parent\"><img src=\"https://colab.research.google.com/assets/colab-badge.svg\" alt=\"Open In Colab\"/></a>"
      ]
    },
    {
      "cell_type": "code",
      "execution_count": 1,
      "metadata": {
        "id": "TrGJGgch-bIF"
      },
      "outputs": [],
      "source": [
        "# 문제 설명\n",
        "# 머쓱이네 피자가게는 피자를 일곱 조각으로 잘라 줍니다.\n",
        "# 피자를 나눠먹을 사람의 수 n이 주어질 때,\n",
        "# 모든 사람이 피자를 한 조각 이상 먹기 위해 필요한 피자의 수를 return 하는 solution 함수를 완성해보세요.\n",
        "\n",
        "# 제한사항\n",
        "# 1 ≤ n ≤ 100\n",
        "\n",
        "# 입출력 예\n",
        "# n\t        result\n",
        "# 7\t          1\n",
        "# 1\t          1\n",
        "# 15\t        3\n",
        "\n",
        "# 입출력 예 설명\n",
        "# 입출력 예 #1\n",
        "# 7명이 최소 한 조각씩 먹기 위해서 최소 1판이 필요합니다.\n",
        "\n",
        "# 입출력 예 #2\n",
        "# 1명은 최소 한 조각을 먹기 위해 1판이 필요합니다.\n",
        "\n",
        "# 입출력 예 #3\n",
        "# 15명이 최소 한 조각씩 먹기 위해서 최소 3판이 필요합니다."
      ]
    },
    {
      "cell_type": "code",
      "source": [
        "import math\n",
        "def solution(n):\n",
        "    answer = math.ceil(n / 7)\n",
        "    return answer"
      ],
      "metadata": {
        "id": "5lIRG1Go-kvF"
      },
      "execution_count": 6,
      "outputs": []
    },
    {
      "cell_type": "code",
      "source": [
        "n = 7\n",
        "solution(n)"
      ],
      "metadata": {
        "colab": {
          "base_uri": "https://localhost:8080/"
        },
        "id": "2OSRyeK__qvU",
        "outputId": "f2c15df8-f2cf-48e7-a710-45a116521056"
      },
      "execution_count": 7,
      "outputs": [
        {
          "output_type": "execute_result",
          "data": {
            "text/plain": [
              "1"
            ]
          },
          "metadata": {},
          "execution_count": 7
        }
      ]
    },
    {
      "cell_type": "code",
      "source": [
        "n = 1\n",
        "solution(n)"
      ],
      "metadata": {
        "colab": {
          "base_uri": "https://localhost:8080/"
        },
        "id": "UOjr7jRa_vu8",
        "outputId": "aeaca447-7e2b-45fe-f77f-5ea5600587d8"
      },
      "execution_count": 8,
      "outputs": [
        {
          "output_type": "execute_result",
          "data": {
            "text/plain": [
              "1"
            ]
          },
          "metadata": {},
          "execution_count": 8
        }
      ]
    },
    {
      "cell_type": "code",
      "source": [
        "n = 15\n",
        "solution(n)"
      ],
      "metadata": {
        "colab": {
          "base_uri": "https://localhost:8080/"
        },
        "id": "CrKqjRU9Aerq",
        "outputId": "76172662-a557-4433-9e79-c84bb573a179"
      },
      "execution_count": 9,
      "outputs": [
        {
          "output_type": "execute_result",
          "data": {
            "text/plain": [
              "3"
            ]
          },
          "metadata": {},
          "execution_count": 9
        }
      ]
    },
    {
      "cell_type": "code",
      "source": [
        "n = 50\n",
        "solution(n)"
      ],
      "metadata": {
        "colab": {
          "base_uri": "https://localhost:8080/"
        },
        "id": "amDkfAi9AfpC",
        "outputId": "a86891da-09b3-47eb-a33f-1e53422edf38"
      },
      "execution_count": 10,
      "outputs": [
        {
          "output_type": "execute_result",
          "data": {
            "text/plain": [
              "8"
            ]
          },
          "metadata": {},
          "execution_count": 10
        }
      ]
    },
    {
      "cell_type": "code",
      "source": [
        "# 다른 사람 풀이"
      ],
      "metadata": {
        "id": "q09614cjAhcZ"
      },
      "execution_count": 11,
      "outputs": []
    },
    {
      "cell_type": "code",
      "source": [
        "# 와우 그냥 수학적으로 풀어버림\n",
        "def solution(n):\n",
        "    return (n - 1) // 7 + 1"
      ],
      "metadata": {
        "id": "Rphp7MG1BAWi"
      },
      "execution_count": 12,
      "outputs": []
    },
    {
      "cell_type": "code",
      "source": [
        "# 올림 계산을 수식으로 구현한 방법이라는데 이해는 안감\n",
        "def solution(n):\n",
        "    return -(-n // 7)"
      ],
      "metadata": {
        "id": "_-qId74RBHUa"
      },
      "execution_count": 13,
      "outputs": []
    },
    {
      "cell_type": "code",
      "source": [
        "# 다양한 수학적 방법들이 있음\n",
        "def solution(n):\n",
        "    answer = 0\n",
        "    return (n+6) // 7"
      ],
      "metadata": {
        "id": "okEqqh0MBbGU"
      },
      "execution_count": null,
      "outputs": []
    }
  ]
}