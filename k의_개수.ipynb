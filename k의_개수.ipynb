{
  "nbformat": 4,
  "nbformat_minor": 0,
  "metadata": {
    "colab": {
      "provenance": [],
      "authorship_tag": "ABX9TyNOyzCp/nB37lQT/NwuMnlp",
      "include_colab_link": true
    },
    "kernelspec": {
      "name": "python3",
      "display_name": "Python 3"
    },
    "language_info": {
      "name": "python"
    }
  },
  "cells": [
    {
      "cell_type": "markdown",
      "metadata": {
        "id": "view-in-github",
        "colab_type": "text"
      },
      "source": [
        "<a href=\"https://colab.research.google.com/github/YonggunJung/Programmers/blob/main/k%EC%9D%98_%EA%B0%9C%EC%88%98.ipynb\" target=\"_parent\"><img src=\"https://colab.research.google.com/assets/colab-badge.svg\" alt=\"Open In Colab\"/></a>"
      ]
    },
    {
      "cell_type": "code",
      "execution_count": 1,
      "metadata": {
        "id": "7U9lzOSWmnNg"
      },
      "outputs": [],
      "source": [
        "# 문제 설명\n",
        "# 1부터 13까지의 수에서, 1은 1, 10, 11, 12, 13 이렇게 총 6번 등장합니다.\n",
        "# 정수 i, j, k가 매개변수로 주어질 때, i부터 j까지 k가 몇 번 등장하는지\n",
        "# return 하도록 solution 함수를 완성해주세요.\n",
        "\n",
        "# 제한사항\n",
        "# 1 ≤ i < j ≤ 100,000\n",
        "# 0 ≤ k ≤ 9\n",
        "\n",
        "# 입출력 예\n",
        "# i\t      j\t        k\t        result\n",
        "# 1\t      13\t      1\t          6\n",
        "# 10\t    50\t      5         \t5\n",
        "# 3     \t10      \t2\t          0\n",
        "\n",
        "# 입출력 예 설명\n",
        "# 입출력 예 #1\n",
        "# 본문과 동일합니다.\n",
        "\n",
        "# 입출력 예 #2\n",
        "# 10부터 50까지 5는 15, 25, 35, 45, 50 총 5번 등장합니다. 따라서 5를 return 합니다.\n",
        "\n",
        "# 입출력 예 #3\n",
        "# 3부터 10까지 2는 한 번도 등장하지 않으므로 0을 return 합니다."
      ]
    },
    {
      "cell_type": "code",
      "source": [
        "# 점점 어려워 짐# 이게 왜 안되는지 모르겠음 ㅠㅠ\n",
        "# def solution(i, j, k):\n",
        "#     answer = 0\n",
        "#     for num in range(i, j+1):\n",
        "#       if num // 10 == k:\n",
        "#         answer += 1\n",
        "#       elif num % 10 == k:\n",
        "#         answer += 1\n",
        "#     return answer\n",
        "\n",
        "# 풀이봄 이해 안감 ㅠㅠ\n",
        "def solution(i, j, k):\n",
        "    answer = 0\n",
        "    for num in range(i, j+1):\n",
        "      while num:\n",
        "        if num % 10 == k:\n",
        "          answer += 1\n",
        "        num //= 10\n",
        "\n",
        "    return answer"
      ],
      "metadata": {
        "id": "CB3W3zehrT8U"
      },
      "execution_count": 47,
      "outputs": []
    },
    {
      "cell_type": "code",
      "source": [
        "i = 1\n",
        "j = 13\n",
        "k = 1\n",
        "solution(i, j, k)"
      ],
      "metadata": {
        "colab": {
          "base_uri": "https://localhost:8080/"
        },
        "id": "zgTb93q4rWg7",
        "outputId": "11400716-3dc9-4bc8-d5ff-2384f588aaa7"
      },
      "execution_count": 48,
      "outputs": [
        {
          "output_type": "execute_result",
          "data": {
            "text/plain": [
              "6"
            ]
          },
          "metadata": {},
          "execution_count": 48
        }
      ]
    },
    {
      "cell_type": "code",
      "source": [
        "i = 10\n",
        "j = 50\n",
        "k = 5\n",
        "solution(i, j, k)"
      ],
      "metadata": {
        "colab": {
          "base_uri": "https://localhost:8080/"
        },
        "id": "CWXLp1VbrWU9",
        "outputId": "6a09fac7-d7b3-4f78-c27f-40afee0b6f5b"
      },
      "execution_count": 49,
      "outputs": [
        {
          "output_type": "execute_result",
          "data": {
            "text/plain": [
              "5"
            ]
          },
          "metadata": {},
          "execution_count": 49
        }
      ]
    },
    {
      "cell_type": "code",
      "source": [
        "i = 3\n",
        "j = 10\n",
        "k = 2\n",
        "solution(i, j, k)"
      ],
      "metadata": {
        "colab": {
          "base_uri": "https://localhost:8080/"
        },
        "id": "RrNrkvAqrWSs",
        "outputId": "54639a5d-5332-4853-92e7-576f2dc4978e"
      },
      "execution_count": 50,
      "outputs": [
        {
          "output_type": "execute_result",
          "data": {
            "text/plain": [
              "0"
            ]
          },
          "metadata": {},
          "execution_count": 50
        }
      ]
    },
    {
      "cell_type": "code",
      "source": [
        "# 다른사람 풀이"
      ],
      "metadata": {
        "id": "LPBR8RktrVOi"
      },
      "execution_count": 20,
      "outputs": []
    },
    {
      "cell_type": "code",
      "source": [
        "# 이런걸 원했던건데, 이렇게 쉽게 되네  바로이해감\n",
        "def solution(i, j, k):\n",
        "    answer = sum([ str(i).count(str(k)) for i in range(i,j+1)])\n",
        "    return answer"
      ],
      "metadata": {
        "id": "gJRH0CEKu0VM"
      },
      "execution_count": 51,
      "outputs": []
    },
    {
      "cell_type": "code",
      "source": [
        "# 이렇게 해도 되네 이해감\n",
        "def solution(i, j, k):\n",
        "    answer = 0\n",
        "    for n in range(i, j + 1):\n",
        "        answer += str(n).count(str(k))\n",
        "    return answer"
      ],
      "metadata": {
        "id": "x9BGVqR4xQUr"
      },
      "execution_count": 52,
      "outputs": []
    },
    {
      "cell_type": "code",
      "source": [],
      "metadata": {
        "id": "64gAzPAqxS5j"
      },
      "execution_count": null,
      "outputs": []
    }
  ]
}