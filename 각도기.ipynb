{
  "nbformat": 4,
  "nbformat_minor": 0,
  "metadata": {
    "colab": {
      "provenance": [],
      "authorship_tag": "ABX9TyNuUsNDoUAYSSMgzMe7QJEW",
      "include_colab_link": true
    },
    "kernelspec": {
      "name": "python3",
      "display_name": "Python 3"
    },
    "language_info": {
      "name": "python"
    }
  },
  "cells": [
    {
      "cell_type": "markdown",
      "metadata": {
        "id": "view-in-github",
        "colab_type": "text"
      },
      "source": [
        "<a href=\"https://colab.research.google.com/github/YonggunJung/Programmers/blob/main/%EA%B0%81%EB%8F%84%EA%B8%B0.ipynb\" target=\"_parent\"><img src=\"https://colab.research.google.com/assets/colab-badge.svg\" alt=\"Open In Colab\"/></a>"
      ]
    },
    {
      "cell_type": "code",
      "execution_count": 1,
      "metadata": {
        "id": "IcwM67ts-c67"
      },
      "outputs": [],
      "source": [
        "# 문제 설명\n",
        "# 각에서 0도 초과 90도 미만은 예각, 90도는 직각, 90도 초과 180도 미만은 둔각 180도는 평각으로 분류합니다.\n",
        "# 각 angle이 매개변수로 주어질 때 예각일 때 1,\n",
        "# 직각일 때 2,\n",
        "# 둔각일 때 3,\n",
        "# 평각일 때 4를 return하도록 solution 함수를 완성해주세요.\n",
        "\n",
        "# 예각 : 0 < angle < 90\n",
        "# 직각 : angle = 90\n",
        "# 둔각 : 90 < angle < 180\n",
        "# 평각 : angle = 180\n",
        "\n",
        "# 제한사항\n",
        "# 0 < angle ≤ 180\n",
        "# angle은 정수입니다.\n",
        "\n",
        "# 입출력 예\n",
        "# angle\tresult\n",
        "#   70\t    1\n",
        "#   91\t    3\n",
        "#  180\t    4\n",
        "\n",
        "# 입출력 예 설명\n",
        "# 입출력 예 #1\n",
        "# angle이 70이므로 예각입니다. 따라서 1을 return합니다.\n",
        "\n",
        "# 입출력 예 #2\n",
        "# angle이 91이므로 둔각입니다. 따라서 3을 return합니다.\n",
        "\n",
        "# 입출력 예 #3\n",
        "# angle이 180이므로 평각입니다. 따라서 4를 return합니다."
      ]
    },
    {
      "cell_type": "code",
      "source": [
        "def solution(angle):\n",
        "    answer = 0\n",
        "    if 0 < angle < 90:\n",
        "      return 1\n",
        "    elif angle == 90:\n",
        "      return 2\n",
        "    elif 90 < angle < 180:\n",
        "      return 3\n",
        "    elif angle == 180:\n",
        "      return 4\n",
        "    return answer"
      ],
      "metadata": {
        "id": "CT8V5juu-2rK"
      },
      "execution_count": 4,
      "outputs": []
    },
    {
      "cell_type": "code",
      "source": [
        "solution(70)"
      ],
      "metadata": {
        "colab": {
          "base_uri": "https://localhost:8080/"
        },
        "id": "Icd_-zId-4Um",
        "outputId": "ed086d05-498d-4cec-c92c-0cd4dc791ccd"
      },
      "execution_count": 6,
      "outputs": [
        {
          "output_type": "execute_result",
          "data": {
            "text/plain": [
              "1"
            ]
          },
          "metadata": {},
          "execution_count": 6
        }
      ]
    },
    {
      "cell_type": "code",
      "source": [
        "solution(91)"
      ],
      "metadata": {
        "colab": {
          "base_uri": "https://localhost:8080/"
        },
        "id": "uiAqQPFO_uff",
        "outputId": "50ee63cf-b941-45fa-ae83-4a85a7e9b4dc"
      },
      "execution_count": 7,
      "outputs": [
        {
          "output_type": "execute_result",
          "data": {
            "text/plain": [
              "3"
            ]
          },
          "metadata": {},
          "execution_count": 7
        }
      ]
    },
    {
      "cell_type": "code",
      "source": [
        "solution(180)"
      ],
      "metadata": {
        "colab": {
          "base_uri": "https://localhost:8080/"
        },
        "id": "hr1qzZie_yGG",
        "outputId": "29f31888-504e-4fb0-f15c-ab38c4b15d17"
      },
      "execution_count": 8,
      "outputs": [
        {
          "output_type": "execute_result",
          "data": {
            "text/plain": [
              "4"
            ]
          },
          "metadata": {},
          "execution_count": 8
        }
      ]
    },
    {
      "cell_type": "code",
      "source": [
        "solution(90)"
      ],
      "metadata": {
        "colab": {
          "base_uri": "https://localhost:8080/"
        },
        "id": "uVQeyz7B_zcW",
        "outputId": "7a1eb443-88ad-422b-8a7c-cea1dae8b261"
      },
      "execution_count": 9,
      "outputs": [
        {
          "output_type": "execute_result",
          "data": {
            "text/plain": [
              "2"
            ]
          },
          "metadata": {},
          "execution_count": 9
        }
      ]
    },
    {
      "cell_type": "code",
      "source": [],
      "metadata": {
        "id": "XCprRdU8_0Iu"
      },
      "execution_count": null,
      "outputs": []
    }
  ]
}