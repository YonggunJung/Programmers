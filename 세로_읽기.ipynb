{
  "nbformat": 4,
  "nbformat_minor": 0,
  "metadata": {
    "colab": {
      "provenance": [],
      "authorship_tag": "ABX9TyMUrzK29FRpIYr49CnaCl9k",
      "include_colab_link": true
    },
    "kernelspec": {
      "name": "python3",
      "display_name": "Python 3"
    },
    "language_info": {
      "name": "python"
    }
  },
  "cells": [
    {
      "cell_type": "markdown",
      "metadata": {
        "id": "view-in-github",
        "colab_type": "text"
      },
      "source": [
        "<a href=\"https://colab.research.google.com/github/YonggunJung/Programmers/blob/main/%EC%84%B8%EB%A1%9C_%EC%9D%BD%EA%B8%B0.ipynb\" target=\"_parent\"><img src=\"https://colab.research.google.com/assets/colab-badge.svg\" alt=\"Open In Colab\"/></a>"
      ]
    },
    {
      "cell_type": "code",
      "execution_count": 1,
      "metadata": {
        "id": "TM9kqmfD-Ymc"
      },
      "outputs": [],
      "source": [
        "# 문제 설명\n",
        "# 문자열 my_string과 두 정수 m, c가 주어집니다.\n",
        "# my_string을 한 줄에 m 글자씩 가로로 적었을 때\n",
        "# 왼쪽부터 세로로 c번째 열에 적힌 글자들을 문자열로 return 하는\n",
        "# solution 함수를 작성해 주세요.\n",
        "\n",
        "# 제한사항\n",
        "# my_string은 영소문자로 이루어져 있습니다.\n",
        "# 1 ≤ m ≤ my_string의 길이 ≤ 1,000\n",
        "# m은 my_string 길이의 약수로만 주어집니다.\n",
        "# 1 ≤ c ≤ m\n",
        "\n",
        "# 입출력 예\n",
        "# my_string                   \tm\t    c     \tresult\n",
        "# \"ihrhbakrfpndopljhygc\"\t      4\t    2\t      \"happy\"\n",
        "# \"programmers\"\t                1\t    1\t      \"programmers\"\n",
        "\n",
        "# 입출력 예 설명\n",
        "# 입출력 예 #1\n",
        "# 예제 1번의 my_string을 한 줄에 4 글자씩 쓰면 다음의 표와 같습니다.\n",
        "# 1열\t  2열\t  3열\t    4열\n",
        "# i\t    h\t     r\t    h\n",
        "# b\t    a\t     k\t    r\n",
        "# f\t    p    \t n\t    d\n",
        "# o\t    p\t     l\t    j\n",
        "# h   \ty\t     g\t    c\n",
        "# 2열에 적힌 글자를 세로로 읽으면 happy이므로 \"happy\"를 return 합니다.\n",
        "\n",
        "# 입출력 예 #2\n",
        "# 예제 2번의 my_string은 m이 1이므로 세로로 \"programmers\"를 적는 것과 같고\n",
        "# 따라서 1열에 적힌 글자를 세로로 읽으면 programmers입니다.\n",
        "# 따라서 \"programmers\"를 return 합니다."
      ]
    },
    {
      "cell_type": "code",
      "source": [
        "def solution(my_string, m, c):\n",
        "    answer = ''\n",
        "    for i in range(c-1, len(my_string), m):\n",
        "      answer += my_string[i]\n",
        "    return answer"
      ],
      "metadata": {
        "id": "RecilghJ-5nv"
      },
      "execution_count": 9,
      "outputs": []
    },
    {
      "cell_type": "code",
      "source": [
        "my_string = \"ihrhbakrfpndopljhygc\"\n",
        "m = 4\n",
        "c = 2\n",
        "solution(my_string, m, c)"
      ],
      "metadata": {
        "colab": {
          "base_uri": "https://localhost:8080/",
          "height": 35
        },
        "id": "I9LbuLg5-7Jz",
        "outputId": "91f5cacd-274d-4896-d48e-f12efc464359"
      },
      "execution_count": 10,
      "outputs": [
        {
          "output_type": "execute_result",
          "data": {
            "text/plain": [
              "'happy'"
            ],
            "application/vnd.google.colaboratory.intrinsic+json": {
              "type": "string"
            }
          },
          "metadata": {},
          "execution_count": 10
        }
      ]
    },
    {
      "cell_type": "code",
      "source": [
        "my_string = \"programmers\"\n",
        "m = 1\n",
        "c = 1\n",
        "solution(my_string, m, c)"
      ],
      "metadata": {
        "colab": {
          "base_uri": "https://localhost:8080/",
          "height": 35
        },
        "id": "i_pjsSeH_Cj-",
        "outputId": "bd554c35-f7ef-4ccb-f2c7-88721b6902e5"
      },
      "execution_count": 11,
      "outputs": [
        {
          "output_type": "execute_result",
          "data": {
            "text/plain": [
              "'programmers'"
            ],
            "application/vnd.google.colaboratory.intrinsic+json": {
              "type": "string"
            }
          },
          "metadata": {},
          "execution_count": 11
        }
      ]
    },
    {
      "cell_type": "code",
      "source": [
        "# 다른 사람 풀이"
      ],
      "metadata": {
        "id": "6zxntXgA_DQz"
      },
      "execution_count": 12,
      "outputs": []
    },
    {
      "cell_type": "code",
      "source": [
        "# 이거 생각 못한거 아깝네\n",
        "def solution(s, m, c):\n",
        "    return s[c-1::m]"
      ],
      "metadata": {
        "id": "Y5_w8DhgB2X2"
      },
      "execution_count": 13,
      "outputs": []
    },
    {
      "cell_type": "code",
      "source": [],
      "metadata": {
        "id": "HseemQOTB4ZM"
      },
      "execution_count": null,
      "outputs": []
    }
  ]
}