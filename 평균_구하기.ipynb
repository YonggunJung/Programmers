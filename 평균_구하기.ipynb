{
  "nbformat": 4,
  "nbformat_minor": 0,
  "metadata": {
    "colab": {
      "provenance": [],
      "authorship_tag": "ABX9TyPv1iD0x+GkKkpYFfAlDRUq",
      "include_colab_link": true
    },
    "kernelspec": {
      "name": "python3",
      "display_name": "Python 3"
    },
    "language_info": {
      "name": "python"
    }
  },
  "cells": [
    {
      "cell_type": "markdown",
      "metadata": {
        "id": "view-in-github",
        "colab_type": "text"
      },
      "source": [
        "<a href=\"https://colab.research.google.com/github/YonggunJung/Programmers/blob/main/%ED%8F%89%EA%B7%A0_%EA%B5%AC%ED%95%98%EA%B8%B0.ipynb\" target=\"_parent\"><img src=\"https://colab.research.google.com/assets/colab-badge.svg\" alt=\"Open In Colab\"/></a>"
      ]
    },
    {
      "cell_type": "code",
      "execution_count": null,
      "metadata": {
        "id": "u2OViavZGvDa"
      },
      "outputs": [],
      "source": [
        "# 문제 설명\n",
        "# 정수를 담고 있는 배열 arr의 평균값을 return하는 함수,\n",
        "# solution을 완성해보세요.\n",
        "\n",
        "# 제한사항\n",
        "# arr은 길이 1 이상, 100 이하인 배열입니다.\n",
        "# arr의 원소는 -10,000 이상 10,000 이하인 정수입니다.\n",
        "\n",
        "# 입출력 예\n",
        "# arr\t        return\n",
        "# [1,2,3,4]\t    2.5\n",
        "# [5,5]\t          5"
      ]
    },
    {
      "cell_type": "code",
      "source": [
        "def solution(arr):\n",
        "    answer = sum(arr) / len(arr)\n",
        "\n",
        "    return answer"
      ],
      "metadata": {
        "id": "5vlz9hljGzfQ"
      },
      "execution_count": null,
      "outputs": []
    }
  ]
}