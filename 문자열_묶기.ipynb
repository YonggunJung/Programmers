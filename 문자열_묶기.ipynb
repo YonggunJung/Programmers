{
  "nbformat": 4,
  "nbformat_minor": 0,
  "metadata": {
    "colab": {
      "provenance": [],
      "authorship_tag": "ABX9TyNrHoRsLQKPhwbLKAkms4r0",
      "include_colab_link": true
    },
    "kernelspec": {
      "name": "python3",
      "display_name": "Python 3"
    },
    "language_info": {
      "name": "python"
    }
  },
  "cells": [
    {
      "cell_type": "markdown",
      "metadata": {
        "id": "view-in-github",
        "colab_type": "text"
      },
      "source": [
        "<a href=\"https://colab.research.google.com/github/YonggunJung/Programmers/blob/main/%EB%AC%B8%EC%9E%90%EC%97%B4_%EB%AC%B6%EA%B8%B0.ipynb\" target=\"_parent\"><img src=\"https://colab.research.google.com/assets/colab-badge.svg\" alt=\"Open In Colab\"/></a>"
      ]
    },
    {
      "cell_type": "code",
      "execution_count": 1,
      "metadata": {
        "id": "2-Gw-QDtNLAJ"
      },
      "outputs": [],
      "source": [
        "# 문제 설명\n",
        "# 문자열 배열 strArr이 주어집니다.\n",
        "# strArr의 원소들을 길이가 같은 문자열들끼리 그룹으로 묶었을 때\n",
        "# 가장 개수가 많은 그룹의 크기를 return 하는 solution 함수를 완성해 주세요.\n",
        "\n",
        "# 제한사항\n",
        "# 1 ≤ strArr의 길이 ≤ 100,000\n",
        "# 1 ≤ strArr의 원소의 길이 ≤ 30\n",
        "# strArr의 원소들은 알파벳 소문자로 이루어진 문자열입니다.\n",
        "\n",
        "# 입출력 예\n",
        "# strArr\t                            result\n",
        "# [\"a\",\"bc\",\"d\",\"efg\",\"hi\"]\t            2\n",
        "\n",
        "# 입출력 예 설명\n",
        "# 입출력 예 #1\n",
        "# 각 문자열들을 길이에 맞게 그룹으로 묶으면 다음과 같습니다.\n",
        "# 문자열 길이\t문자열 목록\t개수\n",
        "# 1\t[\"a\",\"d\"]\t2\n",
        "# 2\t[\"bc\",\"hi\"]\t2\n",
        "# 3\t[\"efg\"]\t1\n",
        "# 개수의 최댓값은 2이므로 2를 return 합니다."
      ]
    },
    {
      "cell_type": "code",
      "source": [
        "# 이게 왜 안될까??\n",
        "\n",
        "def solution(strArr):\n",
        "    ls = []\n",
        "    cls = []\n",
        "    for s in strArr:\n",
        "      ls.append(len(s))\n",
        "    for i in ls:\n",
        "      cls.append(ls.count(i))\n",
        "    answer = max(cls)\n",
        "    return answer"
      ],
      "metadata": {
        "id": "_diP9RZsNRA5"
      },
      "execution_count": 14,
      "outputs": []
    },
    {
      "cell_type": "code",
      "source": [
        "# 풀이봄\n",
        "# 이건 왜 될까???\n",
        "def solution(strArr):\n",
        "    tmp = []\n",
        "    getarr = [0] * len(strArr)\n",
        "    for i in strArr:\n",
        "        getarr[len(i)] += 1    # 이 부분 이해가 안가네 ㅠㅠ\n",
        "\n",
        "    return max(getarr)"
      ],
      "metadata": {
        "id": "of4RVohCTctG"
      },
      "execution_count": null,
      "outputs": []
    },
    {
      "cell_type": "code",
      "source": [
        "strArr = [\"a\",\"bc\",\"d\",\"efg\",\"hi\"]\n",
        "solution(strArr)"
      ],
      "metadata": {
        "colab": {
          "base_uri": "https://localhost:8080/"
        },
        "id": "D5avwRTcNTZo",
        "outputId": "bdb3703e-9795-4c9a-9507-2d7c3ae5436e"
      },
      "execution_count": 25,
      "outputs": [
        {
          "output_type": "execute_result",
          "data": {
            "text/plain": [
              "2"
            ]
          },
          "metadata": {},
          "execution_count": 25
        }
      ]
    },
    {
      "cell_type": "code",
      "source": [
        "# 다른 사람 풀이"
      ],
      "metadata": {
        "id": "AGgHiyqmNVVh"
      },
      "execution_count": 11,
      "outputs": []
    },
    {
      "cell_type": "code",
      "source": [
        "# 이것도 이해가 안가네\n",
        "# 거의다 이렇게 풀었네\n",
        "def solution(strArr):\n",
        "    a=[0]*31\n",
        "    for x in strArr:\n",
        "      a[len(x)]+=1   # 이 부분 뭐지ㅠㅠ 똑같은게 다음에 나오면 +1을한다는거 같은데 확신이 없음\n",
        "    return max(a)"
      ],
      "metadata": {
        "id": "-cB-hSblPCkq"
      },
      "execution_count": null,
      "outputs": []
    }
  ]
}