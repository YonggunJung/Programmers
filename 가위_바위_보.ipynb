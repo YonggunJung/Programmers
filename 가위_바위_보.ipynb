{
  "nbformat": 4,
  "nbformat_minor": 0,
  "metadata": {
    "colab": {
      "provenance": [],
      "authorship_tag": "ABX9TyNn62G7zPG1hlKdFMfwkoa5",
      "include_colab_link": true
    },
    "kernelspec": {
      "name": "python3",
      "display_name": "Python 3"
    },
    "language_info": {
      "name": "python"
    }
  },
  "cells": [
    {
      "cell_type": "markdown",
      "metadata": {
        "id": "view-in-github",
        "colab_type": "text"
      },
      "source": [
        "<a href=\"https://colab.research.google.com/github/YonggunJung/Programmers/blob/main/%EA%B0%80%EC%9C%84_%EB%B0%94%EC%9C%84_%EB%B3%B4.ipynb\" target=\"_parent\"><img src=\"https://colab.research.google.com/assets/colab-badge.svg\" alt=\"Open In Colab\"/></a>"
      ]
    },
    {
      "cell_type": "code",
      "execution_count": null,
      "metadata": {
        "id": "t0n-xAIX7dkr"
      },
      "outputs": [],
      "source": [
        "# 문제 설명\n",
        "# 가위는 2 바위는 0 보는 5로 표현합니다.\n",
        "# 가위 바위 보를 내는 순서대로 나타낸 문자열 rsp가 매개변수로 주어질 때,\n",
        "# rsp에 저장된 가위 바위 보를 모두 이기는 경우를 순서대로 나타낸 문자열을\n",
        "# return하도록 solution 함수를 완성해보세요.\n",
        "\n",
        "# 제한사항\n",
        "# 0 < rsp의 길이 ≤ 100\n",
        "# rsp와 길이가 같은 문자열을 return 합니다.\n",
        "# rsp는 숫자 0, 2, 5로 이루어져 있습니다.\n",
        "\n",
        "# 입출력 예\n",
        "# rsp\t          result\n",
        "# \"2\"\t            \"0\"\n",
        "# \"205\"\t        \"052\"\n",
        "\n",
        "# 입출력 예 설명\n",
        "# 입출력 예 #1\n",
        "# \"2\"는 가위이므로 바위를 나타내는 \"0\"을 return 합니다.\n",
        "\n",
        "# 입출력 예 #2\n",
        "# \"205\"는 순서대로 가위, 바위, 보이고 이를 모두 이기려면 바위, 보, 가위를 순서대로 내야하므로\n",
        "# “052”를 return합니다."
      ]
    },
    {
      "cell_type": "code",
      "source": [
        "def solution(rsp):\n",
        "    answer = ''\n",
        "    for i in rsp:\n",
        "      if i == \"2\":\n",
        "        answer += '0'\n",
        "      elif i == \"0\":\n",
        "        answer += '5'\n",
        "      elif i == \"5\":\n",
        "        answer += '2'\n",
        "    return answer"
      ],
      "metadata": {
        "id": "ujl3RCvP73wJ"
      },
      "execution_count": 12,
      "outputs": []
    },
    {
      "cell_type": "code",
      "source": [
        "rsp = \"2\"\n",
        "solution(rsp)"
      ],
      "metadata": {
        "colab": {
          "base_uri": "https://localhost:8080/",
          "height": 35
        },
        "id": "Yi0Q7uLv8l_O",
        "outputId": "fdd878b0-0ba3-4400-ba02-3df3affe5cde"
      },
      "execution_count": 13,
      "outputs": [
        {
          "output_type": "execute_result",
          "data": {
            "text/plain": [
              "'0'"
            ],
            "application/vnd.google.colaboratory.intrinsic+json": {
              "type": "string"
            }
          },
          "metadata": {},
          "execution_count": 13
        }
      ]
    },
    {
      "cell_type": "code",
      "source": [
        "rsp = \"205\"\n",
        "solution(rsp)"
      ],
      "metadata": {
        "colab": {
          "base_uri": "https://localhost:8080/",
          "height": 35
        },
        "id": "18jsWguE8q6H",
        "outputId": "784ed3ce-ff8d-4dc0-9c37-fd52a01844d0"
      },
      "execution_count": 14,
      "outputs": [
        {
          "output_type": "execute_result",
          "data": {
            "text/plain": [
              "'052'"
            ],
            "application/vnd.google.colaboratory.intrinsic+json": {
              "type": "string"
            }
          },
          "metadata": {},
          "execution_count": 14
        }
      ]
    },
    {
      "cell_type": "code",
      "source": [
        "# 다른사람 풀이"
      ],
      "metadata": {
        "id": "W4ze75Fq8zsf"
      },
      "execution_count": 15,
      "outputs": []
    },
    {
      "cell_type": "code",
      "source": [
        "# 딕셔너리 사용\n",
        "def solution(rsp):\n",
        "    d = {'0':'5','2':'0','5':'2'}\n",
        "    return ''.join(d[i] for i in rsp)"
      ],
      "metadata": {
        "id": "-A7lk4t09PAA"
      },
      "execution_count": 16,
      "outputs": []
    },
    {
      "cell_type": "code",
      "source": [
        "# 하나하나 다 지정\n",
        "def solution(rsp):\n",
        "    rsp =rsp.replace('2','s')\n",
        "    rsp =rsp.replace('5','p')\n",
        "    rsp =rsp.replace('0','r')\n",
        "    rsp =rsp.replace('r','5')\n",
        "    rsp =rsp.replace('s','0')\n",
        "    rsp =rsp.replace('p','2')\n",
        "    return rsp"
      ],
      "metadata": {
        "id": "BnVvpiWC9RhW"
      },
      "execution_count": 17,
      "outputs": []
    },
    {
      "cell_type": "code",
      "source": [
        "# 오 신기한 코드, 아는게 힘\n",
        "def solution(rsp):\n",
        "    return rsp.translate(str.maketrans('025', '502'))"
      ],
      "metadata": {
        "id": "Ge1Mpw-z9Zvn"
      },
      "execution_count": null,
      "outputs": []
    }
  ]
}