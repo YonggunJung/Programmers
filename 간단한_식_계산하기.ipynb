{
  "nbformat": 4,
  "nbformat_minor": 0,
  "metadata": {
    "colab": {
      "provenance": [],
      "authorship_tag": "ABX9TyMGpyqmOmOtSN+D8xk/AaEg",
      "include_colab_link": true
    },
    "kernelspec": {
      "name": "python3",
      "display_name": "Python 3"
    },
    "language_info": {
      "name": "python"
    }
  },
  "cells": [
    {
      "cell_type": "markdown",
      "metadata": {
        "id": "view-in-github",
        "colab_type": "text"
      },
      "source": [
        "<a href=\"https://colab.research.google.com/github/YonggunJung/Programmers/blob/main/%EA%B0%84%EB%8B%A8%ED%95%9C_%EC%8B%9D_%EA%B3%84%EC%82%B0%ED%95%98%EA%B8%B0.ipynb\" target=\"_parent\"><img src=\"https://colab.research.google.com/assets/colab-badge.svg\" alt=\"Open In Colab\"/></a>"
      ]
    },
    {
      "cell_type": "code",
      "execution_count": 1,
      "metadata": {
        "id": "v07wv88xn87o"
      },
      "outputs": [],
      "source": [
        "# 문제 설명\n",
        "# 문자열 binomial이 매개변수로 주어집니다.\n",
        "# binomial은 \"a op b\" 형태의 이항식이고 a와 b는 음이 아닌 정수,\n",
        "# op는 '+', '-', '*' 중 하나입니다.\n",
        "# 주어진 식을 계산한 정수를 return 하는 solution 함수를 작성해 주세요.\n",
        "\n",
        "# 제한사항\n",
        "# 0 ≤ a, b ≤ 40,000\n",
        "# 0을 제외하고 a, b는 0으로 시작하지 않습니다.\n",
        "\n",
        "# 입출력 예\n",
        "# binomial\t            result\n",
        "# \"43 + 12\"\t              55\n",
        "# \"0 - 7777\"\t          -7777\n",
        "# \"40000 * 40000\"\t      1600000000\n",
        "\n",
        "# 입출력 예 설명\n",
        "# 입출력 예 #1\n",
        "# 예제 1번의 binomial은 \"43 + 12\"로\n",
        "# 이 식을 계산한 결과인 43 + 12 = 55를 return 합니다.\n",
        "\n",
        "# 입출력 예 #2\n",
        "# 예제 2번의 binomial은 \"0 - 7777\"로\n",
        "# 이 식을 계산한 결과인 0 - 7777 = -7777을 return 합니다.\n",
        "\n",
        "# 입출력 예 #3\n",
        "# 예제 3번의 binomial은 \"40000 * 40000\"으로\n",
        "# 이 식을 계산한 결과인 40000 × 40000 = 1600000000을 return 합니다."
      ]
    },
    {
      "cell_type": "code",
      "source": [
        "def solution(binomial):\n",
        "    answer = eval(binomial)\n",
        "    return answer"
      ],
      "metadata": {
        "id": "DtdpGT1loKMl"
      },
      "execution_count": 3,
      "outputs": []
    },
    {
      "cell_type": "code",
      "source": [
        "binomial = \"43 + 12\"\n",
        "solution(binomial)"
      ],
      "metadata": {
        "colab": {
          "base_uri": "https://localhost:8080/"
        },
        "id": "R3jdii6XoMnj",
        "outputId": "b9163c4a-cb22-47a2-9ded-2c16482f14cf"
      },
      "execution_count": 4,
      "outputs": [
        {
          "output_type": "execute_result",
          "data": {
            "text/plain": [
              "55"
            ]
          },
          "metadata": {},
          "execution_count": 4
        }
      ]
    },
    {
      "cell_type": "code",
      "source": [
        "binomial = \"0 - 7777\"\n",
        "solution(binomial)"
      ],
      "metadata": {
        "colab": {
          "base_uri": "https://localhost:8080/"
        },
        "id": "n62Z4L_SoPSq",
        "outputId": "525cf2ea-2190-45c3-af22-3f53c3b32336"
      },
      "execution_count": 5,
      "outputs": [
        {
          "output_type": "execute_result",
          "data": {
            "text/plain": [
              "-7777"
            ]
          },
          "metadata": {},
          "execution_count": 5
        }
      ]
    },
    {
      "cell_type": "code",
      "source": [
        "binomial = \"40000 * 40000\"\n",
        "solution(binomial)"
      ],
      "metadata": {
        "colab": {
          "base_uri": "https://localhost:8080/"
        },
        "id": "bq0SK2rpoO60",
        "outputId": "1a813d10-2fca-4690-f43e-a5591b042243"
      },
      "execution_count": 6,
      "outputs": [
        {
          "output_type": "execute_result",
          "data": {
            "text/plain": [
              "1600000000"
            ]
          },
          "metadata": {},
          "execution_count": 6
        }
      ]
    },
    {
      "cell_type": "code",
      "source": [
        "# 다른 사람 풀이"
      ],
      "metadata": {
        "id": "B2p0ACWFoO4c"
      },
      "execution_count": 7,
      "outputs": []
    },
    {
      "cell_type": "code",
      "source": [
        "# 이건 뭐지??? 이게 되네 ㅋㅋㅋㅋㅋㅋ\n",
        "# 이런 형식 자체를 처음 봄\n",
        "solution=eval\n"
      ],
      "metadata": {
        "id": "tyC7-M88oYON"
      },
      "execution_count": 9,
      "outputs": []
    },
    {
      "cell_type": "code",
      "source": [
        "# 노가다\n",
        "def solution(binomial):\n",
        "    a, op, b = binomial.split()\n",
        "\n",
        "    a = int(a)\n",
        "    b = int(b)\n",
        "\n",
        "    if op == \"+\":\n",
        "        result = a + b\n",
        "    elif op == \"-\":\n",
        "        result = a - b\n",
        "    elif op == \"*\":\n",
        "        result = a * b\n",
        "\n",
        "    return result"
      ],
      "metadata": {
        "id": "cip1gyEaomw_"
      },
      "execution_count": 10,
      "outputs": []
    },
    {
      "cell_type": "code",
      "source": [
        "# eval()이 아니면 노가다는 필수인거 같음\n",
        "def solution(binomial):\n",
        "    b = binomial.split()\n",
        "\n",
        "    if b[1] == '+':\n",
        "        return int(b[0])+int(b[2])\n",
        "    elif b[1] == '-':\n",
        "        return int(b[0])-int(b[2])\n",
        "    else:\n",
        "        return int(b[0])*int(b[2])"
      ],
      "metadata": {
        "id": "0gApBLNOo2zM"
      },
      "execution_count": null,
      "outputs": []
    }
  ]
}