{
  "nbformat": 4,
  "nbformat_minor": 0,
  "metadata": {
    "colab": {
      "provenance": [],
      "authorship_tag": "ABX9TyOKIvlqxXGqpTqXLEyVl91Z",
      "include_colab_link": true
    },
    "kernelspec": {
      "name": "python3",
      "display_name": "Python 3"
    },
    "language_info": {
      "name": "python"
    }
  },
  "cells": [
    {
      "cell_type": "markdown",
      "metadata": {
        "id": "view-in-github",
        "colab_type": "text"
      },
      "source": [
        "<a href=\"https://colab.research.google.com/github/YonggunJung/Programmers/blob/main/%EB%B0%B0%EC%97%B4%EC%9D%98_%EC%9B%90%EC%86%8C%EB%A7%8C%ED%81%BC_%EC%B6%94%EA%B0%80%ED%95%98%EA%B8%B0.ipynb\" target=\"_parent\"><img src=\"https://colab.research.google.com/assets/colab-badge.svg\" alt=\"Open In Colab\"/></a>"
      ]
    },
    {
      "cell_type": "code",
      "execution_count": 1,
      "metadata": {
        "id": "6dDesb-hmD-w"
      },
      "outputs": [],
      "source": [
        "# 문제 설명\n",
        "# 아무 원소도 들어있지 않은 빈 배열 X가 있습니다.\n",
        "# 양의 정수 배열 arr가 매개변수로 주어질 때,\n",
        "# arr의 앞에서부터 차례대로 원소를 보면서\n",
        "# 원소가 a라면 X의 맨 뒤에 a를 a번 추가하는 일을 반복한 뒤의 배열 X를\n",
        "# return 하는 solution 함수를 작성해 주세요.\n",
        "\n",
        "# 제한사항\n",
        "# 1 ≤ arr의 길이 ≤ 100\n",
        "# 1 ≤ arr의 원소 ≤ 100\n",
        "\n",
        "# 입출력 예\n",
        "# arr\t                  result\n",
        "# [5, 1, 4]\t            [5, 5, 5, 5, 5, 1, 4, 4, 4, 4]\n",
        "# [6, 6]\t              [6, 6, 6, 6, 6, 6, 6, 6, 6, 6, 6, 6]\n",
        "# [1]\t                  [1]\n",
        "\n",
        "# 입출력 예 설명\n",
        "# 입출력 예 #1\n",
        "# 예제 1번에 대해서 a와 X를 나타내보면 다음 표와 같습니다.\n",
        "# a           \tX\n",
        "#               []\n",
        "# 5\t            [5, 5, 5, 5, 5]\n",
        "# 1\t            [5, 5, 5, 5, 5, 1]\n",
        "# 4\t            [5, 5, 5, 5, 5, 1, 4, 4, 4, 4]\n",
        "# 따라서 [5, 5, 5, 5, 5, 1, 4, 4, 4, 4]를 return 합니다.\n",
        "\n",
        "# 입출력 예 #2\n",
        "# 예제 2번에 대해서 a와 X를 나타내보면 다음 표와 같습니다.\n",
        "# a\t            X\n",
        "#               []\n",
        "# 6\t            [6, 6, 6, 6, 6, 6]\n",
        "# 6\t            [6, 6, 6, 6, 6, 6, 6, 6, 6, 6, 6, 6]\n",
        "# 따라서 [6, 6, 6, 6, 6, 6, 6, 6, 6, 6, 6, 6]를 return 합니다.\n",
        "\n",
        "# 입출력 예 #3\n",
        "# 예제 2번에 대해서 a와 X를 나타내보면 다음 표와 같습니다.\n",
        "# a\t            X\n",
        "#               []\n",
        "# 1\t            [1]\n",
        "# 따라서 [1]을 return 합니다."
      ]
    },
    {
      "cell_type": "code",
      "source": [
        "# 이거 간만에 생각 조금 함\n",
        "def solution(arr):\n",
        "    answer = []\n",
        "    for i in range(len(arr)):\n",
        "      while len(answer) < sum(arr[:i+1]):\n",
        "          answer.append(arr[i])\n",
        "    return answer"
      ],
      "metadata": {
        "id": "swEQHpQymbs7"
      },
      "execution_count": 17,
      "outputs": []
    },
    {
      "cell_type": "code",
      "source": [
        "arr = [5, 1, 4]\n",
        "solution(arr)"
      ],
      "metadata": {
        "colab": {
          "base_uri": "https://localhost:8080/"
        },
        "id": "kvERfM7Mmdap",
        "outputId": "a804cce6-9017-4335-8b14-967d2b8df83b"
      },
      "execution_count": 18,
      "outputs": [
        {
          "output_type": "execute_result",
          "data": {
            "text/plain": [
              "[5, 5, 5, 5, 5, 1, 4, 4, 4, 4]"
            ]
          },
          "metadata": {},
          "execution_count": 18
        }
      ]
    },
    {
      "cell_type": "code",
      "source": [
        "arr = [6, 6]\n",
        "solution(arr)"
      ],
      "metadata": {
        "colab": {
          "base_uri": "https://localhost:8080/"
        },
        "id": "1t4spNYdmjGx",
        "outputId": "d53b2ae1-5ea8-4312-c03e-8709ffc3d93a"
      },
      "execution_count": 19,
      "outputs": [
        {
          "output_type": "execute_result",
          "data": {
            "text/plain": [
              "[6, 6, 6, 6, 6, 6, 6, 6, 6, 6, 6, 6]"
            ]
          },
          "metadata": {},
          "execution_count": 19
        }
      ]
    },
    {
      "cell_type": "code",
      "source": [
        "arr = [1]\n",
        "solution(arr)"
      ],
      "metadata": {
        "colab": {
          "base_uri": "https://localhost:8080/"
        },
        "id": "T3rGTmyVmjEL",
        "outputId": "a1904917-45d9-4fc8-f599-50fe9f413409"
      },
      "execution_count": 20,
      "outputs": [
        {
          "output_type": "execute_result",
          "data": {
            "text/plain": [
              "[1]"
            ]
          },
          "metadata": {},
          "execution_count": 20
        }
      ]
    },
    {
      "cell_type": "code",
      "source": [
        "# 다른 사람 풀이"
      ],
      "metadata": {
        "id": "qB0yULe3mjBs"
      },
      "execution_count": 21,
      "outputs": []
    },
    {
      "cell_type": "code",
      "source": [
        "# 와우 이렇게도 가능 하군\n",
        "# arr의 i를 j로해서 i만 돌아가게 하는거 음 ㅇㅋㄷㅋ\n",
        "def solution(arr):\n",
        "    return [i for i in arr for j in range(i)]"
      ],
      "metadata": {
        "id": "JfUVrFLMrX6B"
      },
      "execution_count": 22,
      "outputs": []
    },
    {
      "cell_type": "code",
      "source": [
        "# 이렇게 보는게 이해는 쉬움\n",
        "def solution(arr):\n",
        "    answer = []\n",
        "    for x in arr:\n",
        "        for i in range(x):\n",
        "            answer.append(x)\n",
        "    return answer"
      ],
      "metadata": {
        "id": "1_X7tk8ssQmn"
      },
      "execution_count": 24,
      "outputs": []
    },
    {
      "cell_type": "code",
      "source": [
        "# 이렇게 하면 되는 구나\n",
        "# 이게 이해가 젤 쉬움\n",
        "def solution(arr):\n",
        "    answer = []\n",
        "    for num in arr:\n",
        "        answer += [num] * num\n",
        "    return answer"
      ],
      "metadata": {
        "id": "jhtXjmHnr2My"
      },
      "execution_count": 23,
      "outputs": []
    },
    {
      "cell_type": "code",
      "source": [
        "def solution(arr):\n",
        "    X = []\n",
        "    for a in arr:\n",
        "        if a > 0:\n",
        "            X += [a] * a\n",
        "    return X"
      ],
      "metadata": {
        "id": "oFXoi_sEr9ui"
      },
      "execution_count": 25,
      "outputs": []
    },
    {
      "cell_type": "code",
      "source": [],
      "metadata": {
        "id": "mubMRXeAsW46"
      },
      "execution_count": null,
      "outputs": []
    }
  ]
}