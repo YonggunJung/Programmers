{
  "nbformat": 4,
  "nbformat_minor": 0,
  "metadata": {
    "colab": {
      "provenance": [],
      "authorship_tag": "ABX9TyMvVS/95E9uNlDEHRVfsWQC",
      "include_colab_link": true
    },
    "kernelspec": {
      "name": "python3",
      "display_name": "Python 3"
    },
    "language_info": {
      "name": "python"
    }
  },
  "cells": [
    {
      "cell_type": "markdown",
      "metadata": {
        "id": "view-in-github",
        "colab_type": "text"
      },
      "source": [
        "<a href=\"https://colab.research.google.com/github/YonggunJung/Programmers/blob/main/%EC%B9%98%ED%82%A8_%EC%BF%A0%ED%8F%B0.ipynb\" target=\"_parent\"><img src=\"https://colab.research.google.com/assets/colab-badge.svg\" alt=\"Open In Colab\"/></a>"
      ]
    },
    {
      "cell_type": "code",
      "execution_count": 1,
      "metadata": {
        "id": "jkvs7gULX7MK"
      },
      "outputs": [],
      "source": [
        "# 문제 설명\n",
        "# 프로그래머스 치킨은 치킨을 시켜먹으면 한 마리당 쿠폰을 한 장 발급합니다.\n",
        "# 쿠폰을 열 장 모으면 치킨을 한 마리 서비스로 받을 수 있고,\n",
        "# 서비스 치킨에도 쿠폰이 발급됩니다.\n",
        "# 시켜먹은 치킨의 수 chicken이 매개변수로 주어질 때 받을 수 있는 최대 서비스 치킨의 수를\n",
        "# return하도록 solution 함수를 완성해주세요.\n",
        "\n",
        "# 제한사항\n",
        "# chicken은 정수입니다.\n",
        "# 0 ≤ chicken ≤ 1,000,000\n",
        "\n",
        "# 입출력 예\n",
        "# chicken\t        result\n",
        "# 100\t              11\n",
        "# 1,081\t            120\n",
        "\n",
        "# 입출력 예 설명\n",
        "# 입출력 예 #1\n",
        "# 100마리를 주문하면 쿠폰이 100장 발급되므로 서비스 치킨 10마리를 주문할 수 있습니다.\n",
        "# 10마리를 주문하면 쿠폰이 10장 발급되므로 서비스 치킨 1마리를 주문할 수 있습니다.\n",
        "# 따라서 10 + 1 = 11 을 return합니다.\n",
        "\n",
        "# 입출력 예 #2\n",
        "# 1081마리를 주문하면 쿠폰이 1081장 발급되므로 서비스 치킨 108마리를 주문할 수 있습니다.\n",
        "# 그리고 쿠폰이 1장 남습니다.\n",
        "# 108마리를 주문하면 쿠폰이 108장 발급되므로 서비스 치킨 10마리를 주문할 수 있습니다.\n",
        "# 그리고 쿠폰이 8장 남습니다.\n",
        "# 10마리를 주문하면 쿠폰이 10장 발급되므로 서비스 치킨 1마리를 주문할 수 있습니다.\n",
        "# 1마리를 주문하면 쿠폰이 1장 발급됩니다.\n",
        "# 가지고 있는 쿠폰이 총 10장이므로 서비스 치킨 1마리를 추가로 주문할 수 있습니다.\n",
        "# 따라서 108 + 10 + 1 + 1 = 120 을 return합니다."
      ]
    },
    {
      "cell_type": "code",
      "source": [
        "# 별거 아닌건데 실수 한뻔, 그래도 천천히 잘 풀었음\n",
        "def solution(chicken):\n",
        "    answer = 0\n",
        "    coupon = 0\n",
        "\n",
        "    while chicken > 0:\n",
        "      chicken -= 1\n",
        "      coupon += 1\n",
        "      if coupon >= 10:\n",
        "        answer += 1\n",
        "        coupon -= 9\n",
        "\n",
        "    return answer"
      ],
      "metadata": {
        "id": "P7Egk6jkYPai"
      },
      "execution_count": 27,
      "outputs": []
    },
    {
      "cell_type": "code",
      "source": [
        "chicken = 100\n",
        "\n",
        "solution(chicken)"
      ],
      "metadata": {
        "colab": {
          "base_uri": "https://localhost:8080/"
        },
        "id": "M7Goth2vYRgH",
        "outputId": "c66e85b0-4ba1-47dd-fc64-73b5e4b40f28"
      },
      "execution_count": 29,
      "outputs": [
        {
          "output_type": "execute_result",
          "data": {
            "text/plain": [
              "11"
            ]
          },
          "metadata": {},
          "execution_count": 29
        }
      ]
    },
    {
      "cell_type": "code",
      "source": [
        "chicken = 1081\n",
        "solution(chicken)"
      ],
      "metadata": {
        "colab": {
          "base_uri": "https://localhost:8080/"
        },
        "id": "wPVGRI_AYU_m",
        "outputId": "db4eb794-ce74-4ad3-e723-2d284bb0e028"
      },
      "execution_count": 28,
      "outputs": [
        {
          "output_type": "execute_result",
          "data": {
            "text/plain": [
              "120"
            ]
          },
          "metadata": {},
          "execution_count": 28
        }
      ]
    },
    {
      "cell_type": "code",
      "source": [
        "# 다른사람 풀이"
      ],
      "metadata": {
        "id": "XmYKXjsFYU9U"
      },
      "execution_count": 30,
      "outputs": []
    },
    {
      "cell_type": "code",
      "source": [
        "# 진짜 이런 사람은 누구일까??\n",
        "# 진짜 밑에서 배우고 싶다 주변에서 와~\n",
        "def solution(chicken):\n",
        "    return int(chicken*0.11111111111)\n",
        "# 10%의 10%의 10%의 10%"
      ],
      "metadata": {
        "id": "GbGp37INfmq6"
      },
      "execution_count": 31,
      "outputs": []
    },
    {
      "cell_type": "code",
      "source": [
        "# 내가 이러 하려다 실패함 ㅋㅋㅋ\n",
        "def solution(chicken):\n",
        "    answer = 0\n",
        "    while(chicken>=10):\n",
        "        answer+=1\n",
        "        chicken-=9\n",
        "    return answer"
      ],
      "metadata": {
        "id": "RAofIm1_f3Fg"
      },
      "execution_count": null,
      "outputs": []
    }
  ]
}