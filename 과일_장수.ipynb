{
  "nbformat": 4,
  "nbformat_minor": 0,
  "metadata": {
    "colab": {
      "provenance": [],
      "authorship_tag": "ABX9TyPXQJr5pnn5mHkfbeIpouID",
      "include_colab_link": true
    },
    "kernelspec": {
      "name": "python3",
      "display_name": "Python 3"
    },
    "language_info": {
      "name": "python"
    }
  },
  "cells": [
    {
      "cell_type": "markdown",
      "metadata": {
        "id": "view-in-github",
        "colab_type": "text"
      },
      "source": [
        "<a href=\"https://colab.research.google.com/github/YonggunJung/Programmers/blob/main/%EA%B3%BC%EC%9D%BC_%EC%9E%A5%EC%88%98.ipynb\" target=\"_parent\"><img src=\"https://colab.research.google.com/assets/colab-badge.svg\" alt=\"Open In Colab\"/></a>"
      ]
    },
    {
      "cell_type": "code",
      "execution_count": null,
      "metadata": {
        "id": "s99ni2Msz7OW"
      },
      "outputs": [],
      "source": [
        "# 문제 설명\n",
        "# 과일 장수가 사과 상자를 포장하고 있습니다.\n",
        "# 사과는 상태에 따라 1점부터 k점까지의 점수로 분류하며,\n",
        "# k점이 최상품의 사과이고 1점이 최하품의 사과입니다.\n",
        "# 사과 한 상자의 가격은 다음과 같이 결정됩니다.\n",
        "\n",
        "# 한 상자에 사과를 m개씩 담아 포장합니다.\n",
        "# 상자에 담긴 사과 중 가장 낮은 점수가 p (1 ≤ p ≤ k)점인 경우,\n",
        "# 사과 한 상자의 가격은 p * m 입니다.\n",
        "# 과일 장수가 가능한 많은 사과를 팔았을 때,\n",
        "# 얻을 수 있는 최대 이익을 계산하고자 합니다.\n",
        "#  (사과는 상자 단위로만 판매하며, 남는 사과는 버립니다)\n",
        "\n",
        "# 예를 들어, k = 3, m = 4, 사과 7개의 점수가 [1, 2, 3, 1, 2, 3, 1]이라면,\n",
        "# 다음과 같이 [2, 3, 2, 3]으로 구성된 사과 상자 1개를 만들어 판매하여 최대 이익을 얻을 수 있습니다.\n",
        "\n",
        "# (최저 사과 점수) x (한 상자에 담긴 사과 개수) x (상자의 개수) = 2 x 4 x 1 = 8\n",
        "# 사과의 최대 점수 k,\n",
        "# 한 상자에 들어가는 사과의 수 m,\n",
        "# 사과들의 점수 score가 주어졌을 때,\n",
        "# 과일 장수가 얻을 수 있는 최대 이익을 return하는 solution 함수를 완성해주세요.\n",
        "\n",
        "# 제한사항\n",
        "# 3 ≤ k ≤ 9\n",
        "# 3 ≤ m ≤ 10\n",
        "# 7 ≤ score의 길이 ≤ 1,000,000\n",
        "# 1 ≤ score[i] ≤ k\n",
        "# 이익이 발생하지 않는 경우에는 0을 return 해주세요.\n",
        "\n",
        "# 입출력 예\n",
        "# k\t  m\t    score\t                                  result\n",
        "# 3\t  4\t    [1, 2, 3, 1, 2, 3, 1]\t                    8\n",
        "# 4\t  3\t    [4, 1, 2, 2, 4, 4, 4, 4, 1, 2, 4, 2]\t    33\n",
        "\n",
        "# 입출력 예 설명\n",
        "# 입출력 예 #1\n",
        "\n",
        "# 문제의 예시와 같습니다.\n",
        "# 입출력 예 #2\n",
        "\n",
        "# 다음과 같이 사과 상자를 포장하여 모두 팔면 최대 이익을 낼 수 있습니다.\n",
        "# 사과 상자\t가격\n",
        "# [1, 1, 2]\t1 x 3 = 3\n",
        "# [2, 2, 2]\t2 x 3 = 6\n",
        "# [4, 4, 4]\t4 x 3 = 12\n",
        "# [4, 4, 4]\t4 x 3 = 12\n",
        "# 따라서 (1 x 3 x 1) + (2 x 3 x 1) + (4 x 3 x 2) = 33을 return합니다."
      ]
    },
    {
      "cell_type": "code",
      "source": [
        "\n",
        "# 시간 복잡도 계산 하니까 정말 어렵긴 하네 ㅠㅠ\n",
        "# 그래도 뭔가 생각 할게 많아지고 성장하는 느낌 ㅋㅋㅋㅋ\n",
        "def solution(k, m, score):\n",
        "    answer = 0\n",
        "    score.sort(reverse=True)\n",
        "    n = 1\n",
        "    while len(score) > m*n-1:\n",
        "      s = score[m * (n-1) : m * n]\n",
        "      answer += min(s) * m\n",
        "      n += 1\n",
        "    return answer"
      ],
      "metadata": {
        "id": "06Ba6dsh0hSk"
      },
      "execution_count": null,
      "outputs": []
    },
    {
      "cell_type": "code",
      "source": [
        "m = 3\n",
        "score = [4, 1, 2, 2, 4, 4, 4, 4, 1, 2, 4, 2]\n",
        "answer = 0\n",
        "score.sort(reverse=True)\n",
        "print(score)\n",
        "n = 1\n",
        "while len(score) > m*n-1:\n",
        "  s = score[m * (n-1) : m * n]\n",
        "  answer += min(s) * m\n",
        "  n += 1\n",
        "  print(answer)\n",
        "answer"
      ],
      "metadata": {
        "colab": {
          "base_uri": "https://localhost:8080/"
        },
        "id": "JIlhk5om_Eie",
        "outputId": "81e109c4-b2bd-41af-dc6e-b11b681996dd"
      },
      "execution_count": null,
      "outputs": [
        {
          "output_type": "stream",
          "name": "stdout",
          "text": [
            "[4, 4, 4, 4, 4, 4, 2, 2, 2, 2, 1, 1]\n",
            "12\n",
            "24\n",
            "30\n",
            "33\n"
          ]
        },
        {
          "output_type": "execute_result",
          "data": {
            "text/plain": [
              "33"
            ]
          },
          "metadata": {},
          "execution_count": 5
        }
      ]
    },
    {
      "cell_type": "code",
      "source": [
        "#  이거 보고 현타 ㅋㅋㅋ\n",
        "# 새로운 관점을 얻었다.\n",
        "def solution(k, m, score):\n",
        "    return sum(sorted(score)[len(score)%m::m])*m"
      ],
      "metadata": {
        "id": "9BUbkHTY_Puj"
      },
      "execution_count": null,
      "outputs": []
    }
  ]
}