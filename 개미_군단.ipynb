{
  "nbformat": 4,
  "nbformat_minor": 0,
  "metadata": {
    "colab": {
      "provenance": [],
      "authorship_tag": "ABX9TyNxZ6U8IXMHH3t7u+t84HIf",
      "include_colab_link": true
    },
    "kernelspec": {
      "name": "python3",
      "display_name": "Python 3"
    },
    "language_info": {
      "name": "python"
    }
  },
  "cells": [
    {
      "cell_type": "markdown",
      "metadata": {
        "id": "view-in-github",
        "colab_type": "text"
      },
      "source": [
        "<a href=\"https://colab.research.google.com/github/YonggunJung/Programmers/blob/main/%EA%B0%9C%EB%AF%B8_%EA%B5%B0%EB%8B%A8.ipynb\" target=\"_parent\"><img src=\"https://colab.research.google.com/assets/colab-badge.svg\" alt=\"Open In Colab\"/></a>"
      ]
    },
    {
      "cell_type": "code",
      "execution_count": 1,
      "metadata": {
        "id": "MJfcwvHN9oX2"
      },
      "outputs": [],
      "source": [
        "# 문제 설명\n",
        "# 개미 군단이 사냥을 나가려고 합니다. 개미군단은 사냥감의 체력에 딱 맞는 병력을 데리고 나가려고 합니다. 장군개미는 5의 공격력을, 병정개미는 3의 공격력을 일개미는 1의 공격력을 가지고 있습니다. 예를 들어 체력 23의 여치를 사냥하려고 할 때, 일개미 23마리를 데리고 가도 되지만, 장군개미 네 마리와 병정개미 한 마리를 데리고 간다면 더 적은 병력으로 사냥할 수 있습니다. 사냥감의 체력 hp가 매개변수로 주어질 때, 사냥감의 체력에 딱 맞게 최소한의 병력을 구성하려면 몇 마리의 개미가 필요한지를 return하도록 solution 함수를 완성해주세요.\n",
        "\n",
        "# 제한사항\n",
        "# hp는 자연수입니다.\n",
        "# 0 ≤ hp ≤ 1000\n",
        "\n",
        "# 입출력 예\n",
        "# hp\t        result\n",
        "# 23\t          5\n",
        "# 24\t          6\n",
        "# 999\t          201\n",
        "\n",
        "# 입출력 예 설명\n",
        "# 입출력 예 #1\n",
        "# hp가 23이므로, 장군개미 네마리와 병정개미 한마리로 사냥할 수 있습니다.\n",
        "# 따라서 5를 return합니다.\n",
        "\n",
        "# 입출력 예 #2\n",
        "# hp가 24이므로, 장군개미 네마리 병정개미 한마리 일개미 한마리로 사냥할 수 있습니다.\n",
        "# 따라서 6을 return합니다.\n",
        "\n",
        "# 입출력 예 #3\n",
        "# hp가 999이므로, 장군개미 199 마리 병정개미 한마리 일개미 한마리로 사냥할 수 있습니다.\n",
        "# 따라서 201을 return합니다."
      ]
    },
    {
      "cell_type": "code",
      "source": [
        "# 최선이긴 했는데 너무 길어서 맘에 안듦\n",
        "def solution(hp):\n",
        "    answer = 0\n",
        "    answer += hp //5\n",
        "\n",
        "    hp %= 5\n",
        "    answer += hp // 3\n",
        "\n",
        "    hp %= 3\n",
        "    answer += hp//1\n",
        "\n",
        "    return answer"
      ],
      "metadata": {
        "id": "VbXZpcC1-pwI"
      },
      "execution_count": 2,
      "outputs": []
    },
    {
      "cell_type": "code",
      "source": [
        "hp = 23\n",
        "solution(hp)"
      ],
      "metadata": {
        "colab": {
          "base_uri": "https://localhost:8080/"
        },
        "id": "gOplV5W5-q7S",
        "outputId": "0dd5523c-5a89-4cf1-b12c-6e8256fa2a7e"
      },
      "execution_count": 3,
      "outputs": [
        {
          "output_type": "execute_result",
          "data": {
            "text/plain": [
              "5"
            ]
          },
          "metadata": {},
          "execution_count": 3
        }
      ]
    },
    {
      "cell_type": "code",
      "source": [
        "hp = 24\n",
        "solution(hp)"
      ],
      "metadata": {
        "colab": {
          "base_uri": "https://localhost:8080/"
        },
        "id": "BLCMrvQh-qol",
        "outputId": "77ffa85c-a049-49b3-df79-7ed0df3ef200"
      },
      "execution_count": 4,
      "outputs": [
        {
          "output_type": "execute_result",
          "data": {
            "text/plain": [
              "6"
            ]
          },
          "metadata": {},
          "execution_count": 4
        }
      ]
    },
    {
      "cell_type": "code",
      "source": [
        "hp = 999\n",
        "solution(hp)"
      ],
      "metadata": {
        "colab": {
          "base_uri": "https://localhost:8080/"
        },
        "id": "PyGttkaI-qmL",
        "outputId": "1a154438-7183-41f1-e2a8-d342740e8fda"
      },
      "execution_count": 5,
      "outputs": [
        {
          "output_type": "execute_result",
          "data": {
            "text/plain": [
              "201"
            ]
          },
          "metadata": {},
          "execution_count": 5
        }
      ]
    },
    {
      "cell_type": "code",
      "source": [
        "# 다른 사람 풀이"
      ],
      "metadata": {
        "id": "Uys9q0vx_4N_"
      },
      "execution_count": 6,
      "outputs": []
    },
    {
      "cell_type": "code",
      "source": [
        "# 이러면 되는군 이거 맘에 드네\n",
        "def solution(hp):\n",
        "    return hp // 5 + (hp % 5 // 3) + ((hp % 5) % 3)"
      ],
      "metadata": {
        "id": "Zhy1L5XhAFLB"
      },
      "execution_count": 7,
      "outputs": []
    },
    {
      "cell_type": "code",
      "source": [
        "# 이런거 보면 한참 멀었다는 생각, 배울게 많다\n",
        "def solution(hp):\n",
        "    answer = 0\n",
        "    for ant in [5, 3, 1]:\n",
        "        d, hp = divmod(hp, ant)\n",
        "        answer += d\n",
        "    return answer"
      ],
      "metadata": {
        "id": "TmyAwYQWANLd"
      },
      "execution_count": 8,
      "outputs": []
    },
    {
      "cell_type": "code",
      "source": [
        "# 이렇게도 가능 하군\n",
        "def solution(hp):\n",
        "    count = 0\n",
        "    ants = [5, 3, 1]\n",
        "\n",
        "    for att in ants:\n",
        "        count += hp // att\n",
        "        hp %= att\n",
        "\n",
        "    return count"
      ],
      "metadata": {
        "id": "YTbfD0muAYcu"
      },
      "execution_count": null,
      "outputs": []
    }
  ]
}