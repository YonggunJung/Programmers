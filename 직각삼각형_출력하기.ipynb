{
  "nbformat": 4,
  "nbformat_minor": 0,
  "metadata": {
    "colab": {
      "provenance": [],
      "authorship_tag": "ABX9TyN/pdoJUUOP7ZmYMifxFFNF",
      "include_colab_link": true
    },
    "kernelspec": {
      "name": "python3",
      "display_name": "Python 3"
    },
    "language_info": {
      "name": "python"
    }
  },
  "cells": [
    {
      "cell_type": "markdown",
      "metadata": {
        "id": "view-in-github",
        "colab_type": "text"
      },
      "source": [
        "<a href=\"https://colab.research.google.com/github/YonggunJung/Programmers/blob/main/%EC%A7%81%EA%B0%81%EC%82%BC%EA%B0%81%ED%98%95_%EC%B6%9C%EB%A0%A5%ED%95%98%EA%B8%B0.ipynb\" target=\"_parent\"><img src=\"https://colab.research.google.com/assets/colab-badge.svg\" alt=\"Open In Colab\"/></a>"
      ]
    },
    {
      "cell_type": "code",
      "execution_count": 1,
      "metadata": {
        "id": "o_wF_3jIQ9Gp"
      },
      "outputs": [],
      "source": [
        "# 문제 설명\n",
        "# \"*\"의 높이와 너비를 1이라고 했을 때, \"*\"을 이용해 직각 이등변 삼각형을 그리려고합니다.\n",
        "# 정수 n 이 주어지면 높이와 너비가 n 인 직각 이등변 삼각형을 출력하도록 코드를 작성해보세요.\n",
        "\n",
        "# 제한사항\n",
        "# 1 ≤ n ≤ 10\n",
        "\n",
        "# 입출력 예\n",
        "# 입력 #1\n",
        "# 3\n",
        "\n",
        "# 출력 #1\n",
        "# *\n",
        "# **\n",
        "# ***\n",
        "# 입출력 예 설명\n",
        "\n",
        "# 입출력 예 #1\n",
        "# n이 3이므로 첫째 줄에 * 1개, 둘째 줄에 * 2개, 셋째 줄에 * 3개를 출력합니다."
      ]
    },
    {
      "cell_type": "code",
      "source": [
        "# 문제 이해못함 문제 설명이 이상함\n",
        "# 그냥 별찍기 인데 ㅋㅋㅋㅋ 이상하게 설명해서 헷갈림\n",
        "n = int(input())\n",
        "for num in range(1, n+1):\n",
        "  print(\"*\" * num)"
      ],
      "metadata": {
        "colab": {
          "base_uri": "https://localhost:8080/"
        },
        "id": "0nczEDYdRk-O",
        "outputId": "08936af6-9750-4d04-c850-cbd960e529fd"
      },
      "execution_count": 5,
      "outputs": [
        {
          "output_type": "stream",
          "name": "stdout",
          "text": [
            "4\n",
            "*\n",
            "**\n",
            "***\n",
            "****\n"
          ]
        }
      ]
    },
    {
      "cell_type": "code",
      "source": [
        "# 와우 신기 하구만 ㅋㅋㅋ\n",
        "print('\\n'.join('*' * (i + 1) for i in range(int(input()))))"
      ],
      "metadata": {
        "id": "hD7IEg7BRn5a"
      },
      "execution_count": 5,
      "outputs": []
    }
  ]
}