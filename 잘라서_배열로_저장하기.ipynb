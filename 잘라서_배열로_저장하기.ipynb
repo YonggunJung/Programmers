{
  "nbformat": 4,
  "nbformat_minor": 0,
  "metadata": {
    "colab": {
      "provenance": [],
      "authorship_tag": "ABX9TyPFNw1/S7bZRnZVX1vesY3r",
      "include_colab_link": true
    },
    "kernelspec": {
      "name": "python3",
      "display_name": "Python 3"
    },
    "language_info": {
      "name": "python"
    }
  },
  "cells": [
    {
      "cell_type": "markdown",
      "metadata": {
        "id": "view-in-github",
        "colab_type": "text"
      },
      "source": [
        "<a href=\"https://colab.research.google.com/github/YonggunJung/Programmers/blob/main/%EC%9E%98%EB%9D%BC%EC%84%9C_%EB%B0%B0%EC%97%B4%EB%A1%9C_%EC%A0%80%EC%9E%A5%ED%95%98%EA%B8%B0.ipynb\" target=\"_parent\"><img src=\"https://colab.research.google.com/assets/colab-badge.svg\" alt=\"Open In Colab\"/></a>"
      ]
    },
    {
      "cell_type": "code",
      "execution_count": 1,
      "metadata": {
        "id": "syIauFTTso5X"
      },
      "outputs": [],
      "source": [
        "# 문제 설명\n",
        "# 문자열 my_str과 n이 매개변수로 주어질 때,\n",
        "# my_str을 길이 n씩 잘라서 저장한 배열을 return하도록 solution 함수를 완성해주세요.\n",
        "\n",
        "# 제한사항\n",
        "# 1 ≤ my_str의 길이 ≤ 100\n",
        "# 1 ≤ n ≤ my_str의 길이\n",
        "# my_str은 알파벳 소문자, 대문자, 숫자로 이루어져 있습니다.\n",
        "\n",
        "# 입출력 예\n",
        "# my_str\t                n\t            result\n",
        "# \"abc1Addfggg4556b\"\t    6\t            [\"abc1Ad\", \"dfggg4\", \"556b\"]\n",
        "# \"abcdef123\"\t            3\t            [\"abc\", \"def\", \"123\"]\n",
        "\n",
        "# 입출력 예 설명\n",
        "# 입출력 예 #1\n",
        "# \"abc1Addfggg4556b\" 를 길이 6씩 잘라 배열에 저장한 [\"abc1Ad\", \"dfggg4\", \"556b\"]를 return해야 합니다.\n",
        "\n",
        "# 입출력 예 #2\n",
        "# \"abcdef123\" 를 길이 3씩 잘라 배열에 저장한 [\"abc\", \"def\", \"123\"]를 return해야 합니다.\n",
        "\n",
        "# 유의사항\n",
        "# \b입출력 예 #1의 경우 \"abc1Addfggg4556b\"를 길이 6씩 자르면\n",
        "# \"abc1Ad\", \"dfggg4\" 두개와 마지막 \"556b\"가 남습니다.\n",
        "# 이런 경우 남은 문자열을 그대로 배열에 저장합니다."
      ]
    },
    {
      "cell_type": "code",
      "source": [
        "# lens 구하는거 생각도 못했음 너무 어려움\n",
        "# 파이썬이 이렇게 어려운 것이었나 ㅠㅠ\n",
        "# 아직 이해도 잘 안감 ㅠㅠ\n",
        "def solution(my_str, n):\n",
        "    lens = len(my_str)//n if len(my_str)//n == len(my_str)/n else int(len(my_str)/ n+1)\n",
        "    answer = [my_str[n*i:n*(i+1)] for i in range(lens)]\n",
        "    return answer"
      ],
      "metadata": {
        "id": "qQuoCbtJ0Vqg"
      },
      "execution_count": 34,
      "outputs": []
    },
    {
      "cell_type": "code",
      "source": [
        "my_str = \"abc1Addfggg4556b\"\n",
        "n = 6\n",
        "solution(my_str, n)"
      ],
      "metadata": {
        "colab": {
          "base_uri": "https://localhost:8080/"
        },
        "id": "2dHRJFO50XQ1",
        "outputId": "9bc48bd4-6825-4a95-edd5-dd4b9d7ddfaf"
      },
      "execution_count": 35,
      "outputs": [
        {
          "output_type": "execute_result",
          "data": {
            "text/plain": [
              "['abc1Ad', 'dfggg4', '556b']"
            ]
          },
          "metadata": {},
          "execution_count": 35
        }
      ]
    },
    {
      "cell_type": "code",
      "source": [
        "my_str = \"abcdef123\"\n",
        "n = 3\n",
        "solution(my_str, n)"
      ],
      "metadata": {
        "colab": {
          "base_uri": "https://localhost:8080/"
        },
        "id": "0ZaGmfjo0YGC",
        "outputId": "e0906f65-d3b1-4480-a0ae-3492cd09b4f6"
      },
      "execution_count": 36,
      "outputs": [
        {
          "output_type": "execute_result",
          "data": {
            "text/plain": [
              "['abc', 'def', '123']"
            ]
          },
          "metadata": {},
          "execution_count": 36
        }
      ]
    },
    {
      "cell_type": "code",
      "source": [
        "# 다른 사람 풀이"
      ],
      "metadata": {
        "id": "l-FI8t7O0YDz"
      },
      "execution_count": 37,
      "outputs": []
    },
    {
      "cell_type": "code",
      "source": [
        "# 내가 생각 했던 코드다.\n",
        "# 저런 식으로 하면 될거라 생각은 맨날 하는데 구현은 못함\n",
        "# 더 생각하고 하자 이렇게 보며 진짜 쉬운거다\n",
        "def solution(my_str, n):\n",
        "    return [my_str[i: i + n] for i in range(0, len(my_str), n)]"
      ],
      "metadata": {
        "id": "lKKP4cDC67fh"
      },
      "execution_count": null,
      "outputs": []
    },
    {
      "cell_type": "code",
      "source": [
        "# 조금더 풀어서쓴거\n",
        "def solution(my_str, n):\n",
        "    answer = []\n",
        "    for i in range(0, len(my_str), n):\n",
        "        answer.append(my_str[i:i+n])\n",
        "    return answer"
      ],
      "metadata": {
        "id": "r2iOYyZn7asO"
      },
      "execution_count": null,
      "outputs": []
    }
  ]
}