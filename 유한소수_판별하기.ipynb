{
  "nbformat": 4,
  "nbformat_minor": 0,
  "metadata": {
    "colab": {
      "provenance": [],
      "authorship_tag": "ABX9TyPZXrPsSJkoMg+AoP3rlepe",
      "include_colab_link": true
    },
    "kernelspec": {
      "name": "python3",
      "display_name": "Python 3"
    },
    "language_info": {
      "name": "python"
    }
  },
  "cells": [
    {
      "cell_type": "markdown",
      "metadata": {
        "id": "view-in-github",
        "colab_type": "text"
      },
      "source": [
        "<a href=\"https://colab.research.google.com/github/YonggunJung/Programmers/blob/main/%EC%9C%A0%ED%95%9C%EC%86%8C%EC%88%98_%ED%8C%90%EB%B3%84%ED%95%98%EA%B8%B0.ipynb\" target=\"_parent\"><img src=\"https://colab.research.google.com/assets/colab-badge.svg\" alt=\"Open In Colab\"/></a>"
      ]
    },
    {
      "cell_type": "code",
      "execution_count": 1,
      "metadata": {
        "id": "9TDLOUnt4hm4"
      },
      "outputs": [],
      "source": [
        "# 문제 설명\n",
        "# 소수점 아래 숫자가 계속되지 않고 유한개인 소수를 유한소수라고 합니다.\n",
        "# 분수를 소수로 고칠 때 유한소수로 나타낼 수 있는 분수인지 판별하려고 합니다.\n",
        "# 유한소수가 되기 위한 분수의 조건은 다음과 같습니다.\n",
        "\n",
        "# 기약분수로 나타내었을 때, 분모의 소인수가 2와 5만 존재해야 합니다.\n",
        "# 두 정수 a와 b가 매개변수로 주어질 때, a/b가 유한소수이면 1을, 무한소수라면 2를 return하도록 solution 함수를 완성해주세요.\n",
        "\n",
        "# 제한사항\n",
        "# a, b는 정수\n",
        "# 0 < a ≤ 1,000\n",
        "# 0 < b ≤ 1,000\n",
        "\n",
        "# 입출력 예\n",
        "# a     \tb\t      result\n",
        "# 7\t      20\t      1\n",
        "# 11\t    22\t      1\n",
        "# 12\t    21\t      2\n",
        "\n",
        "# 입출력 예 설명\n",
        "# 입출력 예 #1\n",
        "# 분수 7/20은 기약분수 입니다.\n",
        "# 분모 20의 소인수가 2, 5 이기 때문에 유한소수입니다.\n",
        "# 따라서 1을 return합니다.\n",
        "\n",
        "# 입출력 예 #2\n",
        "# 분수 11/22는 기약분수로 나타내면 1/2 입니다.\n",
        "# 분모 2는 소인수가 2 뿐이기 때문에 유한소수 입니다.\n",
        "# 따라서 1을 return합니다.\n",
        "\n",
        "# 입출력 예 #3\n",
        "# 분수 12/21는 기약분수로 나타내면 4/7 입니다.\n",
        "# 분모 7은 소인수가 7 이므로 무한소수입니다.\n",
        "# 따라서 2를 return합니다.\n",
        "\n",
        "# Hint\n",
        "# 분자와 분모의 최대공약수로 약분하면 기약분수를 만들 수 있습니다.\n",
        "# 정수도 유한소수로 분류합니다."
      ]
    },
    {
      "cell_type": "code",
      "source": [
        "# 이해도 어렵고 문제도 어려움 풀이봄\n",
        "# 실무가면 이런게 기본적을거 같음\n",
        "def solution(a, b):\n",
        "    # 기약 분수 만들기\n",
        "    for div in reversed(range(1, min(a, b)+1)):\n",
        "      if a % div == 0 and b % div == 0:\n",
        "        a, b = a // div, b // div\n",
        "        break\n",
        "    # 분모의 소인수가 2와 5만 존재하게 함\n",
        "    while True:\n",
        "      if b == 1:\n",
        "        return 1\n",
        "      elif b % 2 == 0:\n",
        "        b = b // 2\n",
        "      elif b % 5 == 0:\n",
        "        b = b // 5\n",
        "      else:\n",
        "        return 2"
      ],
      "metadata": {
        "id": "fktQabYs56v7"
      },
      "execution_count": 5,
      "outputs": []
    },
    {
      "cell_type": "code",
      "source": [
        "a = 7\n",
        "b = 20\n",
        "solution(a, b)"
      ],
      "metadata": {
        "colab": {
          "base_uri": "https://localhost:8080/"
        },
        "id": "UZRwdgDB58LA",
        "outputId": "a9a7d78c-ee58-43c7-d8b9-9e4e4cfb5592"
      },
      "execution_count": 6,
      "outputs": [
        {
          "output_type": "execute_result",
          "data": {
            "text/plain": [
              "1"
            ]
          },
          "metadata": {},
          "execution_count": 6
        }
      ]
    },
    {
      "cell_type": "code",
      "source": [
        "a = 11\n",
        "b = 22\n",
        "solution(a, b)"
      ],
      "metadata": {
        "colab": {
          "base_uri": "https://localhost:8080/"
        },
        "id": "Cg7B-XcT6AM8",
        "outputId": "cea4ccbc-319e-47f8-fdea-1d0126207b7b"
      },
      "execution_count": 7,
      "outputs": [
        {
          "output_type": "execute_result",
          "data": {
            "text/plain": [
              "1"
            ]
          },
          "metadata": {},
          "execution_count": 7
        }
      ]
    },
    {
      "cell_type": "code",
      "source": [
        "a = 12\n",
        "b = 21\n",
        "solution(a, b)"
      ],
      "metadata": {
        "colab": {
          "base_uri": "https://localhost:8080/"
        },
        "id": "lJvKZ9gY6AKU",
        "outputId": "e8b6818e-3073-4f46-d1c8-afe4d4c62ff4"
      },
      "execution_count": 8,
      "outputs": [
        {
          "output_type": "execute_result",
          "data": {
            "text/plain": [
              "2"
            ]
          },
          "metadata": {},
          "execution_count": 8
        }
      ]
    },
    {
      "cell_type": "code",
      "source": [
        "# 다른 사람 풀이"
      ],
      "metadata": {
        "id": "ngPfD8dl6a_Q"
      },
      "execution_count": 9,
      "outputs": []
    },
    {
      "cell_type": "code",
      "source": [
        "# 새로운 함수 등장 - 유클리드 호제법\n",
        "# gcd()는 최대 공약수, lcm()은 최소 공배수\n",
        "# 알면 훨씬 쉽게 풀이 가능\n",
        "from math import gcd\n",
        "\n",
        "def solution(a, b):\n",
        "    b //= gcd(a,b)\n",
        "    while b%2==0:\n",
        "        b//=2\n",
        "    while b%5==0:\n",
        "        b//=5\n",
        "    return 1 if b==1 else 2\n",
        "\n",
        "# 다른 풀이는 거의 이걸 풀어쓴 느낌. 이게 젤 좋은듯"
      ],
      "metadata": {
        "id": "ymt809bV-FSY"
      },
      "execution_count": null,
      "outputs": []
    }
  ]
}