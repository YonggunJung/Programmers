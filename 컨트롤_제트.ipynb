{
  "nbformat": 4,
  "nbformat_minor": 0,
  "metadata": {
    "colab": {
      "provenance": [],
      "authorship_tag": "ABX9TyPgbgMsygF8edqvXQqyiS6f",
      "include_colab_link": true
    },
    "kernelspec": {
      "name": "python3",
      "display_name": "Python 3"
    },
    "language_info": {
      "name": "python"
    }
  },
  "cells": [
    {
      "cell_type": "markdown",
      "metadata": {
        "id": "view-in-github",
        "colab_type": "text"
      },
      "source": [
        "<a href=\"https://colab.research.google.com/github/YonggunJung/Programmers/blob/main/%EC%BB%A8%ED%8A%B8%EB%A1%A4_%EC%A0%9C%ED%8A%B8.ipynb\" target=\"_parent\"><img src=\"https://colab.research.google.com/assets/colab-badge.svg\" alt=\"Open In Colab\"/></a>"
      ]
    },
    {
      "cell_type": "code",
      "execution_count": null,
      "metadata": {
        "id": "9JaxW77Bhja8"
      },
      "outputs": [],
      "source": [
        "# 문제 설명\n",
        "# 숫자와 \"Z\"가 공백으로 구분되어 담긴 문자열이 주어집니다.\n",
        "# 문자열에 있는 숫자를 차례대로 더하려고 합니다.\n",
        "# 이 때 \"Z\"가 나오면 바로 전에 더했던 숫자를 뺀다는 뜻입니다.\n",
        "# 숫자와 \"Z\"로 이루어진 문자열 s가 주어질 때,\n",
        "# 머쓱이가 구한 값을 return 하도록 solution 함수를 완성해보세요.\n",
        "\n",
        "# 제한사항\n",
        "# 1 ≤ s의 길이 ≤ 200\n",
        "# -1,000 < s의 원소 중 숫자 < 1,000\n",
        "# s는 숫자, \"Z\", 공백으로 이루어져 있습니다.\n",
        "# s에 있는 숫자와 \"Z\"는 서로 공백으로 구분됩니다.\n",
        "# 연속된 공백은 주어지지 않습니다.\n",
        "# 0을 제외하고는 0으로 시작하는 숫자는 없습니다.\n",
        "# s는 \"Z\"로 시작하지 않습니다.\n",
        "# s의 시작과 끝에는 공백이 없습니다.\n",
        "# \"Z\"가 연속해서 나오는 경우는 없습니다.\n",
        "\n",
        "# 입출력 예\n",
        "# s\t                        result\n",
        "# \"1 2 Z 3\"\t                  4\n",
        "# \"10 20 30 40\"\t              100\n",
        "# \"10 Z 20 Z 1\"\t              1\n",
        "# \"10 Z 20 Z\"\t                0\n",
        "# \"-1 -2 -3 Z\"\t              -3\n",
        "\n",
        "# 입출력 예 설명\n",
        "# 입출력 예 #1\n",
        "# 본문과 동일합니다.\n",
        "\n",
        "# 입출력 예 #2\n",
        "# 10 + 20 + 30 + 40 = 100을 return 합니다.\n",
        "\n",
        "# 입출력 예 #3\n",
        "# \"10 Z 20 Z 1\"에서 10 다음 Z, 20 다음 Z로 10, 20이 지워지고 1만 더하여 1을 return 합니다."
      ]
    },
    {
      "cell_type": "code",
      "source": [
        "# 지울 숫자를 찾지말고 저장하면 편함\n",
        "# split 잊지말자\n",
        "def solution(s):\n",
        "    answer = 0\n",
        "    ss = s.split()\n",
        "    for i in ss:\n",
        "      if i == 'Z':\n",
        "        answer -= j\n",
        "      else:\n",
        "        answer += int(i)\n",
        "        j = int(i)\n",
        "\n",
        "    return answer"
      ],
      "metadata": {
        "id": "Z8C62k_Qh19e"
      },
      "execution_count": 16,
      "outputs": []
    },
    {
      "cell_type": "code",
      "source": [
        "s = \"1 2 Z 3\"\n",
        "solution(s)"
      ],
      "metadata": {
        "colab": {
          "base_uri": "https://localhost:8080/"
        },
        "id": "UpKke4dRh6rc",
        "outputId": "66de8197-3dd2-4f34-a98c-641b889ebdbc"
      },
      "execution_count": 17,
      "outputs": [
        {
          "output_type": "execute_result",
          "data": {
            "text/plain": [
              "4"
            ]
          },
          "metadata": {},
          "execution_count": 17
        }
      ]
    },
    {
      "cell_type": "code",
      "source": [
        "s = \"10 20 30 40\"\n",
        "solution(s)"
      ],
      "metadata": {
        "colab": {
          "base_uri": "https://localhost:8080/"
        },
        "id": "2kXSo-rch-BI",
        "outputId": "53d3591a-39fe-4fd0-daae-58709ff592ef"
      },
      "execution_count": 18,
      "outputs": [
        {
          "output_type": "execute_result",
          "data": {
            "text/plain": [
              "100"
            ]
          },
          "metadata": {},
          "execution_count": 18
        }
      ]
    },
    {
      "cell_type": "code",
      "source": [
        "s = \"10 Z 20 Z 1\"\n",
        "solution(s)"
      ],
      "metadata": {
        "colab": {
          "base_uri": "https://localhost:8080/"
        },
        "id": "G-D2dMs9h9-A",
        "outputId": "e9da668f-45a2-4e6e-a662-0606a727f830"
      },
      "execution_count": 19,
      "outputs": [
        {
          "output_type": "execute_result",
          "data": {
            "text/plain": [
              "1"
            ]
          },
          "metadata": {},
          "execution_count": 19
        }
      ]
    },
    {
      "cell_type": "code",
      "source": [
        "s = \"10 Z 20 Z\"\n",
        "solution(s)"
      ],
      "metadata": {
        "colab": {
          "base_uri": "https://localhost:8080/"
        },
        "id": "zoT3yuYth96d",
        "outputId": "6b0d39de-cd79-4b9d-fe76-83417a1ffe46"
      },
      "execution_count": 20,
      "outputs": [
        {
          "output_type": "execute_result",
          "data": {
            "text/plain": [
              "0"
            ]
          },
          "metadata": {},
          "execution_count": 20
        }
      ]
    },
    {
      "cell_type": "code",
      "source": [
        "s = \"-1 -2 -3 Z\"\n",
        "solution(s)"
      ],
      "metadata": {
        "colab": {
          "base_uri": "https://localhost:8080/"
        },
        "id": "Aa5hZwD9h93e",
        "outputId": "46d08dbf-6c45-4521-9135-3ad5a29995d5"
      },
      "execution_count": 21,
      "outputs": [
        {
          "output_type": "execute_result",
          "data": {
            "text/plain": [
              "-3"
            ]
          },
          "metadata": {},
          "execution_count": 21
        }
      ]
    },
    {
      "cell_type": "code",
      "source": [
        "# 다른 사람 풀이"
      ],
      "metadata": {
        "id": "xj5ULmzkh90g"
      },
      "execution_count": 22,
      "outputs": []
    },
    {
      "cell_type": "code",
      "source": [
        "# 이거 쉽게 잘 푼거 같음\n",
        "def solution(s):\n",
        "    stack = []\n",
        "    for a in s.split():\n",
        "        if a != 'Z':\n",
        "            stack.append(int(a))\n",
        "        else:\n",
        "            if stack:\n",
        "                stack.pop()\n",
        "\n",
        "    return sum(stack)"
      ],
      "metadata": {
        "id": "KFoB2D7zh9x_"
      },
      "execution_count": 23,
      "outputs": []
    },
    {
      "cell_type": "code",
      "source": [
        "# 이런식 풀이가 많음\n",
        "def solution(s):\n",
        "    arr = s.split(' ')\n",
        "    result =[]\n",
        "    for i in arr :\n",
        "        if i=='Z':\n",
        "            result.pop()\n",
        "        else:\n",
        "            result.append(int(i))\n",
        "    return sum(result)"
      ],
      "metadata": {
        "id": "N_ktIrFwmAcz"
      },
      "execution_count": null,
      "outputs": []
    }
  ]
}