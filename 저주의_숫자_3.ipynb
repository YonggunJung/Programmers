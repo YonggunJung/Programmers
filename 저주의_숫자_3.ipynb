{
  "nbformat": 4,
  "nbformat_minor": 0,
  "metadata": {
    "colab": {
      "provenance": [],
      "authorship_tag": "ABX9TyPa8Oo9PL5XVsAFhgXdalOU",
      "include_colab_link": true
    },
    "kernelspec": {
      "name": "python3",
      "display_name": "Python 3"
    },
    "language_info": {
      "name": "python"
    }
  },
  "cells": [
    {
      "cell_type": "markdown",
      "metadata": {
        "id": "view-in-github",
        "colab_type": "text"
      },
      "source": [
        "<a href=\"https://colab.research.google.com/github/YonggunJung/Programmers/blob/main/%EC%A0%80%EC%A3%BC%EC%9D%98_%EC%88%AB%EC%9E%90_3.ipynb\" target=\"_parent\"><img src=\"https://colab.research.google.com/assets/colab-badge.svg\" alt=\"Open In Colab\"/></a>"
      ]
    },
    {
      "cell_type": "code",
      "execution_count": 1,
      "metadata": {
        "id": "TBbDc3la_tMn"
      },
      "outputs": [],
      "source": [
        "# 문제 설명\n",
        "# 3x 마을 사람들은 3을 저주의 숫자라고 생각하기 때문에 3의 배수와 숫자 3을 사용하지 않습니다.\n",
        "# 3x 마을 사람들의 숫자는 다음과 같습니다.\n",
        "\n",
        "# 10진법\t3x 마을에서 쓰는 숫자\n",
        "# 1\t              1\n",
        "# 2               2\n",
        "# 3\t              4\n",
        "# 4\t              5\n",
        "# 5\t              7\n",
        "# 6               8\n",
        "# 7               10\n",
        "# 8               11\n",
        "# 9               14\n",
        "# 10              16\n",
        "# 정수 n이 매개변수로 주어질 때, n을 3x 마을에서 사용하는 숫자로 바꿔\n",
        "# return하도록 solution 함수를 완성해주세요.\n",
        "\n",
        "# 제한사항\n",
        "# 1 ≤ n ≤ 100\n",
        "\n",
        "# 입출력 예\n",
        "# n\t      result\n",
        "# 15\t      25\n",
        "# 40\t      76\n",
        "\n",
        "# 입출력 예 설명\n",
        "# 입출력 예 #1\n",
        "# 15를 3x 마을의 숫자로 변환하면 25입니다.\n",
        "\n",
        "# 입출력 예 #2\n",
        "# 40을 3x 마을의 숫자로 변환하면 76입니다."
      ]
    },
    {
      "cell_type": "code",
      "source": [
        "# 3 들어가는 숫자를 제거 못해서 풀이봄 ㅠㅠ\n",
        "\n",
        "# def solution(n):\n",
        "#     answer = 0\n",
        "#     v = []\n",
        "#     v3 = []\n",
        "#     for i in range(1, 300):\n",
        "#       if i % 3 != 0 &\n",
        "#         v.append(i)\n",
        "#     for j in v:\n",
        "#       if j % 10 != 3\n",
        "\n",
        "\n",
        "\n",
        "\n",
        "#     return answer"
      ],
      "metadata": {
        "id": "Lssbg-BcAjSv"
      },
      "execution_count": 23,
      "outputs": []
    },
    {
      "cell_type": "code",
      "source": [
        "# 풀이\n",
        "def solution(n):\n",
        "    answer = 0\n",
        "    while n:\n",
        "      # 3x increment\n",
        "      while True:\n",
        "        answer += 1\n",
        "        if answer % 3 == 0 or \"3\" in str(answer):\n",
        "          pass\n",
        "        else:\n",
        "          break\n",
        "      # counter decrement     <-- 이 부분이 이해가 안감 왜 n-=1이 되는지\n",
        "      n -= 1\n",
        "    return answer"
      ],
      "metadata": {
        "id": "A1ek3GCbJfDx"
      },
      "execution_count": 24,
      "outputs": []
    },
    {
      "cell_type": "code",
      "source": [
        "n = 15\n",
        "solution(n)"
      ],
      "metadata": {
        "colab": {
          "base_uri": "https://localhost:8080/"
        },
        "id": "HkQeUXxKAkiN",
        "outputId": "4b74368e-4312-4d93-85b4-3a60a9013154"
      },
      "execution_count": 25,
      "outputs": [
        {
          "output_type": "execute_result",
          "data": {
            "text/plain": [
              "25"
            ]
          },
          "metadata": {},
          "execution_count": 25
        }
      ]
    },
    {
      "cell_type": "code",
      "source": [
        "n = 40\n",
        "solution(n)"
      ],
      "metadata": {
        "colab": {
          "base_uri": "https://localhost:8080/"
        },
        "id": "UVTBQLvoAnZp",
        "outputId": "216f0c07-24a6-45e7-9523-f0b10ef746fa"
      },
      "execution_count": 26,
      "outputs": [
        {
          "output_type": "execute_result",
          "data": {
            "text/plain": [
              "76"
            ]
          },
          "metadata": {},
          "execution_count": 26
        }
      ]
    },
    {
      "cell_type": "code",
      "source": [
        "# 내가 이렇게 풀려 했던건데.. 이걸보니 뭘 잘못 생각 했는지 알겠음\n",
        "def solution(n):\n",
        "    answer = 0\n",
        "    for _ in range(n):\n",
        "        answer += 1\n",
        "        while answer % 3 == 0 or '3' in str(answer):\n",
        "            answer += 1\n",
        "    return answer"
      ],
      "metadata": {
        "id": "lM1bZ-CdAnXH"
      },
      "execution_count": 27,
      "outputs": []
    },
    {
      "cell_type": "code",
      "source": [
        "# 이거도 n-=1을 모르겠음\n",
        "def solution(n):\n",
        "    answer = 0\n",
        "\n",
        "    i = 1\n",
        "    while n:\n",
        "        if i % 3 and '3' not in str(i):\n",
        "            n -= 1\n",
        "        i += 1\n",
        "    answer = i - 1\n",
        "\n",
        "    return answer"
      ],
      "metadata": {
        "id": "MslbyzMTNCFi"
      },
      "execution_count": null,
      "outputs": []
    }
  ]
}