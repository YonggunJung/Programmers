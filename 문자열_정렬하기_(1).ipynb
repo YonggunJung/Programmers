{
  "nbformat": 4,
  "nbformat_minor": 0,
  "metadata": {
    "colab": {
      "provenance": [],
      "authorship_tag": "ABX9TyNy/irlPfdTSj4xuaLPUcHs",
      "include_colab_link": true
    },
    "kernelspec": {
      "name": "python3",
      "display_name": "Python 3"
    },
    "language_info": {
      "name": "python"
    }
  },
  "cells": [
    {
      "cell_type": "markdown",
      "metadata": {
        "id": "view-in-github",
        "colab_type": "text"
      },
      "source": [
        "<a href=\"https://colab.research.google.com/github/YonggunJung/Programmers/blob/main/%EB%AC%B8%EC%9E%90%EC%97%B4_%EC%A0%95%EB%A0%AC%ED%95%98%EA%B8%B0_(1).ipynb\" target=\"_parent\"><img src=\"https://colab.research.google.com/assets/colab-badge.svg\" alt=\"Open In Colab\"/></a>"
      ]
    },
    {
      "cell_type": "code",
      "execution_count": 1,
      "metadata": {
        "id": "Z5PjMjmkwbuU"
      },
      "outputs": [],
      "source": [
        "# 문제 설명\n",
        "# 문자열 my_string이 매개변수로 주어질 때,\n",
        "# my_string 안에 있는 숫자만 골라 오름차순 정렬한 리스트를\n",
        "# return 하도록 solution 함수를 작성해보세요.\n",
        "\n",
        "# 제한사항\n",
        "# 1 ≤ my_string의 길이 ≤ 100\n",
        "# my_string에는 숫자가 한 개 이상 포함되어 있습니다.\n",
        "# my_string은 영어 소문자 또는 0부터 9까지의 숫자로 이루어져 있습니다. - - -\n",
        "\n",
        "# 입출력 예\n",
        "# my_string\t                result\n",
        "# \"hi12392\"\t                [1, 2, 2, 3, 9]\n",
        "# \"p2o4i8gj2\"\t              [2, 2, 4, 8]\n",
        "# \"abcde0\"\t                [0]\n",
        "\n",
        "# 입출력 예 설명\n",
        "# 입출력 예 #1\n",
        "# \"hi12392\"에 있는 숫자 1, 2, 3, 9, 2를 오름차순 정렬한 [1, 2, 2, 3, 9]를 return 합니다.\n",
        "\n",
        "# 입출력 예 #2\n",
        "# \"p2o4i8gj2\"에 있는 숫자 2, 4, 8, 2를 오름차순 정렬한 [2, 2, 4, 8]을 return 합니다.\n",
        "\n",
        "# 입출력 예 #3\n",
        "# \"abcde0\"에 있는 숫자 0을 오름차순 정렬한 [0]을 return 합니다."
      ]
    },
    {
      "cell_type": "code",
      "source": [
        "def solution(my_string):\n",
        "    answer = []\n",
        "    for char in my_string:\n",
        "      if char.isdigit():\n",
        "        answer.append(int(char))\n",
        "    return sorted(answer)"
      ],
      "metadata": {
        "id": "J76v2NWPwt9p"
      },
      "execution_count": 3,
      "outputs": []
    },
    {
      "cell_type": "code",
      "source": [
        "my_string = \"hi12392\"\n",
        "solution(my_string)"
      ],
      "metadata": {
        "colab": {
          "base_uri": "https://localhost:8080/"
        },
        "id": "meW5tZxTw5Pn",
        "outputId": "2ee08f56-ee03-43ce-aafe-55e138c42f71"
      },
      "execution_count": 4,
      "outputs": [
        {
          "output_type": "execute_result",
          "data": {
            "text/plain": [
              "['1', '2', '2', '3', '9']"
            ]
          },
          "metadata": {},
          "execution_count": 4
        }
      ]
    },
    {
      "cell_type": "code",
      "source": [
        "my_string = \"p2o4i8gj2\"\n",
        "solution(my_string)"
      ],
      "metadata": {
        "colab": {
          "base_uri": "https://localhost:8080/"
        },
        "id": "_cQLicShw8Xc",
        "outputId": "cf00a474-e7c5-47d4-a56d-14e48554957b"
      },
      "execution_count": 5,
      "outputs": [
        {
          "output_type": "execute_result",
          "data": {
            "text/plain": [
              "['2', '2', '4', '8']"
            ]
          },
          "metadata": {},
          "execution_count": 5
        }
      ]
    },
    {
      "cell_type": "code",
      "source": [
        "my_string = \"abcde0\"\n",
        "solution(my_string)"
      ],
      "metadata": {
        "colab": {
          "base_uri": "https://localhost:8080/"
        },
        "id": "ZP6olRQ4w9lg",
        "outputId": "ed89c24d-61c1-4394-f0ba-990ad342f929"
      },
      "execution_count": 6,
      "outputs": [
        {
          "output_type": "execute_result",
          "data": {
            "text/plain": [
              "['0']"
            ]
          },
          "metadata": {},
          "execution_count": 6
        }
      ]
    },
    {
      "cell_type": "code",
      "source": [
        "# 다른 사람 풀이"
      ],
      "metadata": {
        "id": "8BQJ2SGzxZiR"
      },
      "execution_count": 7,
      "outputs": []
    },
    {
      "cell_type": "code",
      "source": [
        "# 한줄 코드 계속 생각 하자\n",
        "def solution(my_string):\n",
        "    return sorted([int(c) for c in my_string if c.isdigit()])"
      ],
      "metadata": {
        "id": "113Wr0p5yJGC"
      },
      "execution_count": 8,
      "outputs": []
    },
    {
      "cell_type": "code",
      "source": [
        "# 이건 완벽 이해는 안감\n",
        "def solution(my_string):\n",
        "    return sorted(map(int, filter(lambda s: s.isdigit(), my_string)))"
      ],
      "metadata": {
        "id": "_edzhDLgye4Q"
      },
      "execution_count": null,
      "outputs": []
    }
  ]
}