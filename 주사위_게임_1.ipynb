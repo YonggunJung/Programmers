{
  "nbformat": 4,
  "nbformat_minor": 0,
  "metadata": {
    "colab": {
      "provenance": [],
      "authorship_tag": "ABX9TyNhIcYnCYmTVo4Hm/PURZTU",
      "include_colab_link": true
    },
    "kernelspec": {
      "name": "python3",
      "display_name": "Python 3"
    },
    "language_info": {
      "name": "python"
    }
  },
  "cells": [
    {
      "cell_type": "markdown",
      "metadata": {
        "id": "view-in-github",
        "colab_type": "text"
      },
      "source": [
        "<a href=\"https://colab.research.google.com/github/YonggunJung/Programmers/blob/main/%EC%A3%BC%EC%82%AC%EC%9C%84_%EA%B2%8C%EC%9E%84_1.ipynb\" target=\"_parent\"><img src=\"https://colab.research.google.com/assets/colab-badge.svg\" alt=\"Open In Colab\"/></a>"
      ]
    },
    {
      "cell_type": "code",
      "execution_count": 1,
      "metadata": {
        "id": "nepWz3Dcgk5Q"
      },
      "outputs": [],
      "source": [
        "# 문제 설명\n",
        "# 1부터 6까지 숫자가 적힌 주사위가 두 개 있습니다.\n",
        "# 두 주사위를 굴렸을 때 나온 \b숫자를 각각 a, b라고 했을 때\n",
        "# 얻는 점수는 다음과 같습니다.\n",
        "\n",
        "# a와 b가 모두 홀수라면 a2 + b2 점을 얻습니다.\n",
        "# a와 b 중 하나만 홀수라면 2 × (a + b) 점을 얻습니다.\n",
        "# a와 b 모두 홀수가 아니라면 |a - b| 점을 얻습니다.\n",
        "# 두 정수 a와 b가 매개변수로 주어질 때,\n",
        "# 얻는 점수를 return 하는 solution 함수를 작성해 주세요.\n",
        "\n",
        "# 제한사항\n",
        "# a와 b는 1 이상 6 이하의 정수입니다.\n",
        "\n",
        "# 입출력 예\n",
        "# a\t    b\t      result\n",
        "# 3\t    5\t      34\n",
        "# 6\t    1\t      14\n",
        "# 2\t    4\t       2\n",
        "\n",
        "# 입출력 예 설명\n",
        "# 입출력 예 #1\n",
        "# 예제 1번에서 두 주사위 숫자가 모두 홀수이므로 32 + 52 = 9 + 25 = 34점을 얻습니다.\n",
        "# 따라서 34를 return 합니다.\n",
        "\n",
        "# 입출력 예 #2\n",
        "# 예제 2번에서 두 주사위 숫자 중 하나만 홀수이므로\n",
        "# 2 × (6 + 1) = 2 × 7 = 14점을 얻습니다.\n",
        "# 따라서 14를 return 합니다.\n",
        "\n",
        "# 입출력 예 #3\n",
        "# 예제 3번에서 두 주사위 숫자가 모두 홀수가 아니므로 |2 - 4| = |-2| = 2점을 얻습니다.\n",
        "# 따라서 2를 return 합니다."
      ]
    },
    {
      "cell_type": "code",
      "source": [
        "def solution(a, b):\n",
        "    answer = 0\n",
        "    if a % 2 == 1 and b % 2 == 1:\n",
        "      answer = a ** 2 + b ** 2\n",
        "    elif a % 2 == 1 or b % 2 == 1:\n",
        "      answer = (a + b) * 2\n",
        "    else:\n",
        "      answer = abs(a - b)\n",
        "    return answer"
      ],
      "metadata": {
        "id": "ny1Nb6jjg0yG"
      },
      "execution_count": 24,
      "outputs": []
    },
    {
      "cell_type": "code",
      "source": [
        "a = 3\n",
        "b = 5\n",
        "solution(a, b)"
      ],
      "metadata": {
        "colab": {
          "base_uri": "https://localhost:8080/"
        },
        "id": "nKgnTIxQhBA0",
        "outputId": "bb2dfd18-4fa7-42fe-d303-02f170ad5401"
      },
      "execution_count": 25,
      "outputs": [
        {
          "output_type": "execute_result",
          "data": {
            "text/plain": [
              "34"
            ]
          },
          "metadata": {},
          "execution_count": 25
        }
      ]
    },
    {
      "cell_type": "code",
      "source": [
        "a = 6\n",
        "b = 1\n",
        "solution(a, b)"
      ],
      "metadata": {
        "colab": {
          "base_uri": "https://localhost:8080/"
        },
        "id": "NrrYD-v4hDcs",
        "outputId": "c9ae0fa6-3cba-4930-d30e-6c5af9905e6b"
      },
      "execution_count": 26,
      "outputs": [
        {
          "output_type": "execute_result",
          "data": {
            "text/plain": [
              "14"
            ]
          },
          "metadata": {},
          "execution_count": 26
        }
      ]
    },
    {
      "cell_type": "code",
      "source": [
        "a = 2\n",
        "b = 4\n",
        "solution(a, b)"
      ],
      "metadata": {
        "colab": {
          "base_uri": "https://localhost:8080/"
        },
        "id": "qY8fCVkghDaR",
        "outputId": "833d4701-0e68-4656-c536-b15d2efa81cb"
      },
      "execution_count": 27,
      "outputs": [
        {
          "output_type": "execute_result",
          "data": {
            "text/plain": [
              "2"
            ]
          },
          "metadata": {},
          "execution_count": 27
        }
      ]
    },
    {
      "cell_type": "code",
      "source": [
        "# 다른 사람 풀이"
      ],
      "metadata": {
        "id": "uIS4z6lihDXt"
      },
      "execution_count": 23,
      "outputs": []
    },
    {
      "cell_type": "code",
      "source": [
        "def solution(a, b):\n",
        "        return a*a+b*b if a & b & 1 else (a + b) << 1 if (a | b) & 1 else abs(a - b)"
      ],
      "metadata": {
        "id": "5wVqU7sZiWn9"
      },
      "execution_count": 28,
      "outputs": []
    },
    {
      "cell_type": "code",
      "source": [
        "def solution(a, b):\n",
        "    if a%2 and b%2: return a*a+b*b\n",
        "    elif a%2 or b%2: return 2*(a+b)\n",
        "    return abs(a-b)"
      ],
      "metadata": {
        "id": "sws81s6GikKt"
      },
      "execution_count": 29,
      "outputs": []
    },
    {
      "cell_type": "code",
      "source": [],
      "metadata": {
        "id": "4-qNe-ARipW9"
      },
      "execution_count": null,
      "outputs": []
    }
  ]
}