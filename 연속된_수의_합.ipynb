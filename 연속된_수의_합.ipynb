{
  "nbformat": 4,
  "nbformat_minor": 0,
  "metadata": {
    "colab": {
      "provenance": [],
      "authorship_tag": "ABX9TyMMs8W4GUJvpmEiCIwGlo1p",
      "include_colab_link": true
    },
    "kernelspec": {
      "name": "python3",
      "display_name": "Python 3"
    },
    "language_info": {
      "name": "python"
    }
  },
  "cells": [
    {
      "cell_type": "markdown",
      "metadata": {
        "id": "view-in-github",
        "colab_type": "text"
      },
      "source": [
        "<a href=\"https://colab.research.google.com/github/YonggunJung/Programmers/blob/main/%EC%97%B0%EC%86%8D%EB%90%9C_%EC%88%98%EC%9D%98_%ED%95%A9.ipynb\" target=\"_parent\"><img src=\"https://colab.research.google.com/assets/colab-badge.svg\" alt=\"Open In Colab\"/></a>"
      ]
    },
    {
      "cell_type": "code",
      "execution_count": 1,
      "metadata": {
        "id": "oPf8V6lF4p8B"
      },
      "outputs": [],
      "source": [
        "# 문제 설명\n",
        "# 연속된 세 개의 정수를 더해 12가 되는 경우는 3, 4, 5입니다.\n",
        "# 두 정수 num과 total이 주어집니다.\n",
        "# 연속된 수 num개를 더한 값이 total이 될 때,\n",
        "# 정수 배열을 오름차순으로 담아 return하도록 solution함수를 완성해보세요.\n",
        "\n",
        "# 제한사항\n",
        "# 1 ≤ num ≤ 100\n",
        "# 0 ≤ total ≤ 1000\n",
        "# num개의 연속된 수를 더하여 total이 될 수 없는 테스트 케이스는 없습니다.\n",
        "\n",
        "# 입출력 예\n",
        "# num\t      total\t          result\n",
        "# 3\t         12\t            [3, 4, 5]\n",
        "# 5\t         15\t            [1, 2, 3, 4, 5]\n",
        "# 4\t         14\t            [2, 3, 4, 5]\n",
        "# 5\t          5\t            [-1, 0, 1, 2, 3]\n",
        "\n",
        "# 입출력 예 설명\n",
        "# 입출력 예 #1\n",
        "# num = 3, total = 12인 경우 [3, 4, 5]를 return합니다.\n",
        "\n",
        "# 입출력 예 #2\n",
        "# num = 5, total = 15인 경우 [1, 2, 3, 4, 5]를 return합니다.\n",
        "\n",
        "# 입출력 예 #3\n",
        "# 4개의 연속된 수를 더해 14가 되는 경우는 2, 3, 4, 5입니다."
      ]
    },
    {
      "cell_type": "code",
      "source": [
        "# 이해는 다 되는데 코드를 못짜겠음 ㅠㅠ\n",
        "# 수학적 솔루션을 먼저 짜보자\n",
        "# 12 / 3 = 4\n",
        "# 15 / 5 = 3\n",
        "# 14 / 4 = 3.5\n",
        "# 5 / 5 = 1\n",
        "def solution(num, total):\n",
        "    mid = total // num\n",
        "    half = num // 2\n",
        "    top = mid + half +1\n",
        "    bot = top - num\n",
        "    answer = [i for i in range(bot, top)]\n",
        "    return answer\n",
        "# 이해는 했지만 다시 보면 또 모를거 같은 느낌\n",
        "# 주기적으로 봐야겠음"
      ],
      "metadata": {
        "id": "UcNAcyid49gL"
      },
      "execution_count": 8,
      "outputs": []
    },
    {
      "cell_type": "code",
      "source": [
        "num = 3\n",
        "total = 12\n",
        "solution(num, total)"
      ],
      "metadata": {
        "colab": {
          "base_uri": "https://localhost:8080/"
        },
        "id": "973Kw8mA4_Jx",
        "outputId": "da541ba3-14cf-4a8d-af41-aea173d98ecf"
      },
      "execution_count": 9,
      "outputs": [
        {
          "output_type": "execute_result",
          "data": {
            "text/plain": [
              "[3, 4, 5]"
            ]
          },
          "metadata": {},
          "execution_count": 9
        }
      ]
    },
    {
      "cell_type": "code",
      "source": [
        "num = 5\n",
        "total = 15\n",
        "solution(num, total)"
      ],
      "metadata": {
        "colab": {
          "base_uri": "https://localhost:8080/"
        },
        "id": "9ccWa2hC5DB6",
        "outputId": "517b0798-ad50-49d9-d770-02750adbb9fa"
      },
      "execution_count": 10,
      "outputs": [
        {
          "output_type": "execute_result",
          "data": {
            "text/plain": [
              "[1, 2, 3, 4, 5]"
            ]
          },
          "metadata": {},
          "execution_count": 10
        }
      ]
    },
    {
      "cell_type": "code",
      "source": [
        "num = 4\n",
        "total = 14\n",
        "solution(num, total)"
      ],
      "metadata": {
        "colab": {
          "base_uri": "https://localhost:8080/"
        },
        "id": "N1kdav9K5C-z",
        "outputId": "821fa70b-d730-4c53-c6c5-e4a901969b08"
      },
      "execution_count": 11,
      "outputs": [
        {
          "output_type": "execute_result",
          "data": {
            "text/plain": [
              "[2, 3, 4, 5]"
            ]
          },
          "metadata": {},
          "execution_count": 11
        }
      ]
    },
    {
      "cell_type": "code",
      "source": [
        "num = 5\n",
        "total = 5\n",
        "solution(num, total)"
      ],
      "metadata": {
        "colab": {
          "base_uri": "https://localhost:8080/"
        },
        "id": "oLX0Icqc5C74",
        "outputId": "46dea0ac-5d51-4009-a69d-fe0dbb8f8921"
      },
      "execution_count": 12,
      "outputs": [
        {
          "output_type": "execute_result",
          "data": {
            "text/plain": [
              "[-1, 0, 1, 2, 3]"
            ]
          },
          "metadata": {},
          "execution_count": 12
        }
      ]
    },
    {
      "cell_type": "code",
      "source": [
        "# 다른 사람 풀이"
      ],
      "metadata": {
        "id": "uhXF1RTP5C5V"
      },
      "execution_count": 13,
      "outputs": []
    },
    {
      "cell_type": "code",
      "source": [
        "# 이런거 보면 참 간단하네\n",
        "# 이해는 안간단하네\n",
        "def solution(num, total):\n",
        "    return [(total - (num * (num - 1) // 2)) // num + i for i in range(num)]"
      ],
      "metadata": {
        "id": "qHyW3K3IExg8"
      },
      "execution_count": 14,
      "outputs": []
    },
    {
      "cell_type": "code",
      "source": [
        "# 이거 간단하게 괜찮은듯, 코드도 별로 안어렵고\n",
        "def solution(num, total):\n",
        "    answer = []\n",
        "    var = sum(range(num+1))\n",
        "    diff = total - var\n",
        "    start_num = diff//num\n",
        "    answer = [i+1+start_num for i in range(num)]\n",
        "    return answer"
      ],
      "metadata": {
        "id": "O2WiAm1YE0S9"
      },
      "execution_count": 15,
      "outputs": []
    },
    {
      "cell_type": "code",
      "source": [
        "# 이런거 보면 수학도 코드도 참 ㅋㅋㅋ\n",
        "def solution(num, total):\n",
        "    if num % 2 == 1:\n",
        "        return list(range(total//num-num//2, total//num+num//2+1))\n",
        "    else:\n",
        "        return list(range(total//num-num//2+1, total//num+num//2+1))"
      ],
      "metadata": {
        "id": "6SNRVcuWFSpW"
      },
      "execution_count": 16,
      "outputs": []
    },
    {
      "cell_type": "code",
      "source": [
        "def solution(num, total):\n",
        "    # base\n",
        "    # offset\n",
        "    # # sum of offsets = num(num-1) / 2\n",
        "    base = total - num * (num-1) / 2\n",
        "    base = int(base // num)\n",
        "    answer = [i for i in range(base, base+num)]\n",
        "    return answer"
      ],
      "metadata": {
        "id": "vNvXimEQFWpd"
      },
      "execution_count": null,
      "outputs": []
    }
  ]
}