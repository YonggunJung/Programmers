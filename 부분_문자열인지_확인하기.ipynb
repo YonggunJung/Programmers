{
  "nbformat": 4,
  "nbformat_minor": 0,
  "metadata": {
    "colab": {
      "provenance": [],
      "authorship_tag": "ABX9TyMI+anJ+qjKNZ5S957UNq+7",
      "include_colab_link": true
    },
    "kernelspec": {
      "name": "python3",
      "display_name": "Python 3"
    },
    "language_info": {
      "name": "python"
    }
  },
  "cells": [
    {
      "cell_type": "markdown",
      "metadata": {
        "id": "view-in-github",
        "colab_type": "text"
      },
      "source": [
        "<a href=\"https://colab.research.google.com/github/YonggunJung/Programmers/blob/main/%EB%B6%80%EB%B6%84_%EB%AC%B8%EC%9E%90%EC%97%B4%EC%9D%B8%EC%A7%80_%ED%99%95%EC%9D%B8%ED%95%98%EA%B8%B0.ipynb\" target=\"_parent\"><img src=\"https://colab.research.google.com/assets/colab-badge.svg\" alt=\"Open In Colab\"/></a>"
      ]
    },
    {
      "cell_type": "code",
      "execution_count": 1,
      "metadata": {
        "id": "S_Gi1ekFCVx6"
      },
      "outputs": [],
      "source": [
        "# 문제 설명\n",
        "# 부분 문자열이란 문자열에서 연속된 일부분에 해당하는 문자열을 의미합니다.\n",
        "# 예를 들어, 문자열 \"ana\", \"ban\", \"anana\", \"banana\",\n",
        "# \"n\"는 모두 문자열 \"banana\"의 부분 문자열이지만,\n",
        "# \"aaa\", \"bnana\", \"wxyz\"는 모두 \"banana\"의 부분 문자열이 아닙니다.\n",
        "\n",
        "# 문자열 my_string과 target이 매개변수로 주어질 때,\n",
        "# target이 문자열 my_string의 부분 문자열이라면 1을,\n",
        "# 아니라면 0을 return 하는 solution 함수를 작성해 주세요.\n",
        "\n",
        "# 제한사항\n",
        "# 1 ≤ my_string의 길이 ≤ 100\n",
        "# my_string은 영소문자로만 이루어져 있습니다.\n",
        "# 1 ≤ target의 길이 ≤ 100\n",
        "# target은 영소문자로만 이루어져 있습니다.\n",
        "\n",
        "# 입출력 예\n",
        "# my_string\t      target\t      result\n",
        "# \"banana\"\t      \"ana\"\t          1\n",
        "# \"banana\"\t      \"wxyz\"\t        0\n",
        "\n",
        "# 입출력 예 설명\n",
        "# 입출력 예 #1\n",
        "# 문제 설명과 같습니다.\n",
        "\n",
        "# 입출력 예 #2\n",
        "# 문제 설명과 같습니다."
      ]
    },
    {
      "cell_type": "code",
      "source": [
        "def solution(my_string, target):\n",
        "    answer = 0\n",
        "    if target in my_string:\n",
        "      answer = 1\n",
        "    return answer"
      ],
      "metadata": {
        "id": "aaQ0h_aICd5Q"
      },
      "execution_count": 3,
      "outputs": []
    },
    {
      "cell_type": "code",
      "source": [
        "my_string = \"banana\"\n",
        "target = \"ana\"\n",
        "solution(my_string, target)"
      ],
      "metadata": {
        "colab": {
          "base_uri": "https://localhost:8080/"
        },
        "id": "yqw4GEWBCfWg",
        "outputId": "d621afbf-ffd8-4b70-a516-30750a9f0bf0"
      },
      "execution_count": 4,
      "outputs": [
        {
          "output_type": "execute_result",
          "data": {
            "text/plain": [
              "1"
            ]
          },
          "metadata": {},
          "execution_count": 4
        }
      ]
    },
    {
      "cell_type": "code",
      "source": [
        "my_string = \"banana\"\n",
        "target = \"wxyz\"\n",
        "solution(my_string, target)"
      ],
      "metadata": {
        "colab": {
          "base_uri": "https://localhost:8080/"
        },
        "id": "klmx9vPyCh5P",
        "outputId": "0258f67a-52f3-4654-fe28-f3019ff9c097"
      },
      "execution_count": 5,
      "outputs": [
        {
          "output_type": "execute_result",
          "data": {
            "text/plain": [
              "0"
            ]
          },
          "metadata": {},
          "execution_count": 5
        }
      ]
    },
    {
      "cell_type": "code",
      "source": [
        "# 다른 사람 풀이"
      ],
      "metadata": {
        "id": "ezz2QD50DAKj"
      },
      "execution_count": 7,
      "outputs": []
    },
    {
      "cell_type": "code",
      "source": [
        "def solution(my_string, target):\n",
        "    answer = 0\n",
        "\n",
        "    my_string2 = list(my_string)\n",
        "\n",
        "    for i in range(len(my_string)):\n",
        "        if my_string2[:len(target)] == list(target):\n",
        "            return 1\n",
        "        my_string2.pop(0)\n",
        "\n",
        "    return answer"
      ],
      "metadata": {
        "id": "2cdx4JH_Ch3F"
      },
      "execution_count": 6,
      "outputs": []
    },
    {
      "cell_type": "code",
      "source": [],
      "metadata": {
        "id": "9Unn0xzMC_uR"
      },
      "execution_count": null,
      "outputs": []
    }
  ]
}