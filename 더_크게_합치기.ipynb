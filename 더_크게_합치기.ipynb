{
  "nbformat": 4,
  "nbformat_minor": 0,
  "metadata": {
    "colab": {
      "provenance": [],
      "authorship_tag": "ABX9TyPW2SXd/+4NeVgdfIZfPQCL",
      "include_colab_link": true
    },
    "kernelspec": {
      "name": "python3",
      "display_name": "Python 3"
    },
    "language_info": {
      "name": "python"
    }
  },
  "cells": [
    {
      "cell_type": "markdown",
      "metadata": {
        "id": "view-in-github",
        "colab_type": "text"
      },
      "source": [
        "<a href=\"https://colab.research.google.com/github/YonggunJung/Programmers/blob/main/%EB%8D%94_%ED%81%AC%EA%B2%8C_%ED%95%A9%EC%B9%98%EA%B8%B0.ipynb\" target=\"_parent\"><img src=\"https://colab.research.google.com/assets/colab-badge.svg\" alt=\"Open In Colab\"/></a>"
      ]
    },
    {
      "cell_type": "code",
      "execution_count": 1,
      "metadata": {
        "id": "WmNSR8ejaiRB"
      },
      "outputs": [],
      "source": [
        "# 문제 설명\n",
        "# 연산 ⊕는 두 정수에 대한 연산으로 두 정수를 붙여서 쓴 값을 반환합니다.\n",
        "# 예를 들면 다음과 같습니다.\n",
        "\n",
        "# 12 ⊕ 3 = 123\n",
        "# 3 ⊕ 12 = 312\n",
        "# 양의 정수 a와 b가 주어졌을 때,\n",
        "# a ⊕ b와 b ⊕ a 중 더 큰 값을 return 하는 solution 함수를 완성해 주세요.\n",
        "\n",
        "# 단, a ⊕ b와 b ⊕ a가 같다면 a ⊕ b를 return 합니다.\n",
        "\n",
        "# 제한사항\n",
        "# 1 ≤ a, b < 10,000\n",
        "\n",
        "# 입출력 예\n",
        "# a\t    b\t          result\n",
        "# 9\t    91\t        991\n",
        "# 89\t  8\t          898\n",
        "\n",
        "# 입출력 예 설명\n",
        "# 입출력 예 #1\n",
        "# a ⊕ b = 991 이고, b ⊕ a = 919 입니다.\n",
        "# 둘 중 더 큰 값은 991 이므로 991을 return 합니다.\n",
        "\n",
        "# 입출력 예 #2\n",
        "# a ⊕ b = 898 이고, b ⊕ a = 889 입니다.\n",
        "# 둘 중 더 큰 값은 898 이므로 898을 return 합니다."
      ]
    },
    {
      "cell_type": "code",
      "source": [
        "def solution(a, b):\n",
        "    answer = 0\n",
        "    aa = str(a) + str(b)\n",
        "    bb = str(b) + str(a)\n",
        "    c = [int(aa), int(bb)]\n",
        "    answer = max(c)\n",
        "    return answer"
      ],
      "metadata": {
        "id": "3LOvaR7SbtF8"
      },
      "execution_count": 3,
      "outputs": []
    },
    {
      "cell_type": "code",
      "source": [
        "a = 9\n",
        "b = 91\n",
        "solution(a, b)"
      ],
      "metadata": {
        "colab": {
          "base_uri": "https://localhost:8080/"
        },
        "id": "Sxfin8VAbuCi",
        "outputId": "8ae1f019-79f7-4929-e076-38aa519a702a"
      },
      "execution_count": 4,
      "outputs": [
        {
          "output_type": "execute_result",
          "data": {
            "text/plain": [
              "991"
            ]
          },
          "metadata": {},
          "execution_count": 4
        }
      ]
    },
    {
      "cell_type": "code",
      "source": [
        "a = 89\n",
        "b = 8\n",
        "solution(a, b)"
      ],
      "metadata": {
        "colab": {
          "base_uri": "https://localhost:8080/"
        },
        "id": "jkbltBP1bx9X",
        "outputId": "f37b5896-91f4-43f3-e915-ea5cc4508d26"
      },
      "execution_count": 5,
      "outputs": [
        {
          "output_type": "execute_result",
          "data": {
            "text/plain": [
              "898"
            ]
          },
          "metadata": {},
          "execution_count": 5
        }
      ]
    },
    {
      "cell_type": "code",
      "source": [
        "# 다른 사람 풀이"
      ],
      "metadata": {
        "id": "k3eOOn8tb2Qb"
      },
      "execution_count": null,
      "outputs": []
    },
    {
      "cell_type": "code",
      "source": [
        "# 보면 아는 건데 떠오르지는 못한\n",
        "# 이게 훨씬 간단하고 좋음\n",
        "def solution(a, b):\n",
        "    return int(max(f\"{a}{b}\", f\"{b}{a}\"))"
      ],
      "metadata": {
        "id": "hT4yDrRFb1aD"
      },
      "execution_count": null,
      "outputs": []
    }
  ]
}