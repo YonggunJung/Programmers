{
  "nbformat": 4,
  "nbformat_minor": 0,
  "metadata": {
    "colab": {
      "provenance": [],
      "authorship_tag": "ABX9TyP+f9q93fSp5sD0uxKY2M4s",
      "include_colab_link": true
    },
    "kernelspec": {
      "name": "python3",
      "display_name": "Python 3"
    },
    "language_info": {
      "name": "python"
    }
  },
  "cells": [
    {
      "cell_type": "markdown",
      "metadata": {
        "id": "view-in-github",
        "colab_type": "text"
      },
      "source": [
        "<a href=\"https://colab.research.google.com/github/YonggunJung/Programmers/blob/main/%EA%B4%84%ED%98%B8_%ED%9A%8C%EC%A0%84%ED%95%98%EA%B8%B0.ipynb\" target=\"_parent\"><img src=\"https://colab.research.google.com/assets/colab-badge.svg\" alt=\"Open In Colab\"/></a>"
      ]
    },
    {
      "cell_type": "code",
      "execution_count": 1,
      "metadata": {
        "id": "GdyO2epvfwgO"
      },
      "outputs": [],
      "source": [
        "# 문제 설명\n",
        "# 다음 규칙을 지키는 문자열을 올바른 괄호 문자열이라고 정의합니다.\n",
        "\n",
        "# (), [], {} 는 모두 올바른 괄호 문자열입니다.\n",
        "# 만약 A가 올바른 괄호 문자열이라면, (A), [A], {A} 도 올바른 괄호 문자열입니다.\n",
        "# 예를 들어, [] 가 올바른 괄호 문자열이므로, ([]) 도 올바른 괄호 문자열입니다.\n",
        "# 만약 A, B가 올바른 괄호 문자열이라면, AB 도 올바른 괄호 문자열입니다.\n",
        "# 예를 들어, {} 와 ([]) 가 올바른 괄호 문자열이므로, {}([]) 도 올바른 괄호 문자열입니다.\n",
        "# 대괄호, 중괄호, 그리고 소괄호로 이루어진 문자열 s가 매개변수로 주어집니다.\n",
        "# 이 s를 왼쪽으로 x (0 ≤ x < (s의 길이)) 칸만큼 회전시켰을 때\n",
        "# s가 올바른 괄호 문자열이 되게 하는 x의 개수를 return 하도록 solution 함수를 완성해주세요.\n",
        "\n",
        "# 제한사항\n",
        "# s의 길이는 1 이상 1,000 이하입니다.\n",
        "\n",
        "# 입출력 예\n",
        "# s\t            result\n",
        "# \"[](){}\"\t        3\n",
        "# \"}]()[{\"\t        2\n",
        "# \"[)(]\"\t          0\n",
        "# \"}}}\"\t            0\n",
        "\n",
        "# 입출력 예 설명\n",
        "# 입출력 예 #1\n",
        "# 다음 표는 \"[](){}\" 를 회전시킨 모습을 나타낸 것입니다.\n",
        "# x\ts를 왼쪽으로 x칸만큼 회전\t올바른 괄호 문자열?\n",
        "# 0\t\"[](){}\"\tO\n",
        "# 1\t\"](){}[\"\tX\n",
        "# 2\t\"(){}[]\"\tO\n",
        "# 3\t\"){}[](\"\tX\n",
        "# 4\t\"{}[]()\"\tO\n",
        "# 5\t\"}[](){\"\tX\n",
        "# 올바른 괄호 문자열이 되는 x가 3개이므로, 3을 return 해야 합니다.\n",
        "\n",
        "# 입출력 예 #2\n",
        "# 다음 표는 \"}]()[{\" 를 회전시킨 모습을 나타낸 것입니다.\n",
        "# x\ts를 왼쪽으로 x칸만큼 회전\t올바른 괄호 문자열?\n",
        "# 0\t\"}]()[{\"\tX\n",
        "# 1\t\"]()[{}\"\tX\n",
        "# 2\t\"()[{}]\"\tO\n",
        "# 3\t\")[{}](\"\tX\n",
        "# 4\t\"[{}]()\"\tO\n",
        "# 5\t\"{}]()[\"\tX\n",
        "# 올바른 괄호 문자열이 되는 x가 2개이므로, 2를 return 해야 합니다.\n",
        "\n",
        "# 입출력 예 #3\n",
        "# s를 어떻게 회전하더라도 올바른 괄호 문자열을 만들 수 없으므로,\n",
        "# 0을 return 해야 합니다.\n",
        "\n",
        "# 입출력 예 #4\n",
        "# s를 어떻게 회전하더라도 올바른 괄호 문자열을 만들 수 없으므로,\n",
        "# 0을 return 해야 합니다."
      ]
    },
    {
      "cell_type": "code",
      "source": [
        "def solution(s):\n",
        "    answer = 0\n",
        "    len_s = len(s)\n",
        "    left_bracket = {'(', '{', '['}\n",
        "    right_bracket_dict = {')': '(', '}': '{', ']': '['}\n",
        "\n",
        "    index = 0\n",
        "    while index < len_s:\n",
        "        stack = []\n",
        "        cnt = 0\n",
        "        while cnt < len_s:\n",
        "            if s[(index+cnt)%len_s] in left_bracket:\n",
        "                stack.append(s[(index+cnt)%len(s)])\n",
        "            elif stack and right_bracket_dict[s[(index+cnt)%len_s]] == stack[-1]:\n",
        "                stack.pop()\n",
        "            else:\n",
        "                break\n",
        "            cnt += 1\n",
        "        else:\n",
        "            if len(stack) == 0:\n",
        "                answer += 1\n",
        "        index += 1\n",
        "\n",
        "    return answer"
      ],
      "metadata": {
        "id": "OygzlIA4f7yz"
      },
      "execution_count": 2,
      "outputs": []
    },
    {
      "cell_type": "code",
      "source": [
        "# 멋지다 파이썬 ㅋㅋㅋ\n",
        "def check(s):\n",
        "    while True:\n",
        "        if '()' not in s and '[]' not in s and '{}' not in s:\n",
        "            break\n",
        "        s = s.replace('()', '')\n",
        "        s = s.replace('[]', '')\n",
        "        s = s.replace('{}', '')\n",
        "    return 1 if len(s) == 0 else 0\n",
        "\n",
        "def solution(s):\n",
        "    answer = 0\n",
        "\n",
        "    for i in range(len(s)):\n",
        "        answer += check(s)\n",
        "        s = s[1:] + s[0]\n",
        "\n",
        "    return answer"
      ],
      "metadata": {
        "id": "U1xQZfUmgWIZ"
      },
      "execution_count": null,
      "outputs": []
    }
  ]
}