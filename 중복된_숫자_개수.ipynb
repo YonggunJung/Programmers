{
  "nbformat": 4,
  "nbformat_minor": 0,
  "metadata": {
    "colab": {
      "provenance": [],
      "authorship_tag": "ABX9TyMkGpq9G/r98wIUICbmcLx0",
      "include_colab_link": true
    },
    "kernelspec": {
      "name": "python3",
      "display_name": "Python 3"
    },
    "language_info": {
      "name": "python"
    }
  },
  "cells": [
    {
      "cell_type": "markdown",
      "metadata": {
        "id": "view-in-github",
        "colab_type": "text"
      },
      "source": [
        "<a href=\"https://colab.research.google.com/github/YonggunJung/Programmers/blob/main/%EC%A4%91%EB%B3%B5%EB%90%9C_%EC%88%AB%EC%9E%90_%EA%B0%9C%EC%88%98.ipynb\" target=\"_parent\"><img src=\"https://colab.research.google.com/assets/colab-badge.svg\" alt=\"Open In Colab\"/></a>"
      ]
    },
    {
      "cell_type": "code",
      "execution_count": 1,
      "metadata": {
        "id": "ctGRAF4ZqLhG"
      },
      "outputs": [],
      "source": [
        "# 문제 설명\n",
        "# 정수가 담긴 배열 array와 정수 n이 매개변수로 주어질 때,\n",
        "# array에 n이 몇 개 있는 지를 return 하도록 solution 함수를 완성해보세요.\n",
        "\n",
        "# 제한사항\n",
        "# 1 ≤ array의 길이 ≤ 100\n",
        "# 0 ≤ array의 원소 ≤ 1,000\n",
        "# 0 ≤ n ≤ 1,000\n",
        "\n",
        "# 입출력 예\n",
        "# array       \t          n       \tresult\n",
        "# [1, 1, 2, 3, 4, 5]\t    1\t          2\n",
        "# [0, 2, 3, 4]\t          1\t          0\n",
        "\n",
        "# 입출력 예 설명\n",
        "# 입출력 예 #1\n",
        "# [1, 1, 2, 3, 4, 5] 에는 1이 2개 있습니다.\n",
        "\n",
        "# 입출력 예 #2\n",
        "# [0, 2, 3, 4] 에는 1이 0개 있습니다."
      ]
    },
    {
      "cell_type": "code",
      "source": [
        "def solution(array, n):\n",
        "    answer = array.count(n)\n",
        "    return answer"
      ],
      "metadata": {
        "id": "ipViKBkSqXY6"
      },
      "execution_count": 13,
      "outputs": []
    },
    {
      "cell_type": "code",
      "source": [
        "array = [1, 1, 2, 3, 4, 5]\n",
        "n = 1\n",
        "solution(array, n)"
      ],
      "metadata": {
        "colab": {
          "base_uri": "https://localhost:8080/"
        },
        "id": "XGjVj2Qwqbgh",
        "outputId": "5a05fc7b-a5b7-4946-c17e-cc3b74bbd5a8"
      },
      "execution_count": 14,
      "outputs": [
        {
          "output_type": "execute_result",
          "data": {
            "text/plain": [
              "2"
            ]
          },
          "metadata": {},
          "execution_count": 14
        }
      ]
    },
    {
      "cell_type": "code",
      "source": [
        "array = [0, 2, 3, 4]\n",
        "n = 1\n",
        "solution(array, n)"
      ],
      "metadata": {
        "colab": {
          "base_uri": "https://localhost:8080/"
        },
        "id": "kcMhUq3lqb0Y",
        "outputId": "8064375b-786f-4248-b864-1e4ea5d36e38"
      },
      "execution_count": 15,
      "outputs": [
        {
          "output_type": "execute_result",
          "data": {
            "text/plain": [
              "0"
            ]
          },
          "metadata": {},
          "execution_count": 15
        }
      ]
    },
    {
      "cell_type": "code",
      "source": [
        "# 다른 사람 풀이"
      ],
      "metadata": {
        "id": "U6ekD3glq2Po"
      },
      "execution_count": 16,
      "outputs": []
    },
    {
      "cell_type": "code",
      "source": [
        "# 이렇게도 가능\n",
        "def solution(array, n):\n",
        "    return sum(1 for i in array if i == n)"
      ],
      "metadata": {
        "id": "nHsbIj36rUQo"
      },
      "execution_count": 17,
      "outputs": []
    },
    {
      "cell_type": "code",
      "source": [
        "# 조금 돌아가는 느낌이지만 알아두면 좋을 것 같음\n",
        "def solution(array, n):\n",
        "    answer = 0\n",
        "    for i in range(0, len(array)):\n",
        "        if n == array[i] :\n",
        "            answer += 1\n",
        "    return answer"
      ],
      "metadata": {
        "id": "gvJ0KA9KrZ3n"
      },
      "execution_count": 18,
      "outputs": []
    },
    {
      "cell_type": "code",
      "source": [
        "# 조금 더 간단\n",
        "def solution(array, n):\n",
        "    count = 0\n",
        "    for i in array:\n",
        "        if i==n :\n",
        "            count +=1\n",
        "    return count"
      ],
      "metadata": {
        "id": "ftmYtRlCrnv4"
      },
      "execution_count": null,
      "outputs": []
    }
  ]
}