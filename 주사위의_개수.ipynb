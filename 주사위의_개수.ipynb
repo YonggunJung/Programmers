{
  "nbformat": 4,
  "nbformat_minor": 0,
  "metadata": {
    "colab": {
      "provenance": [],
      "authorship_tag": "ABX9TyPqY/1NmtQKT1o1FQ4F4maO",
      "include_colab_link": true
    },
    "kernelspec": {
      "name": "python3",
      "display_name": "Python 3"
    },
    "language_info": {
      "name": "python"
    }
  },
  "cells": [
    {
      "cell_type": "markdown",
      "metadata": {
        "id": "view-in-github",
        "colab_type": "text"
      },
      "source": [
        "<a href=\"https://colab.research.google.com/github/YonggunJung/Programmers/blob/main/%EC%A3%BC%EC%82%AC%EC%9C%84%EC%9D%98_%EA%B0%9C%EC%88%98.ipynb\" target=\"_parent\"><img src=\"https://colab.research.google.com/assets/colab-badge.svg\" alt=\"Open In Colab\"/></a>"
      ]
    },
    {
      "cell_type": "code",
      "execution_count": 1,
      "metadata": {
        "id": "O8FjHxsUDZtq"
      },
      "outputs": [],
      "source": [
        "# 문제 설명\n",
        "# 머쓱이는 직육면체 모양의 상자를 하나 가지고 있는데\n",
        "# 이 상자에 정육면체 모양의 주사위를 최대한 많이 채우고 싶습니다.\n",
        "# 상자의 가로, 세로, 높이가 저장되어있는 배열 box와 주사위 모서리의 길이 정수 n이 매개변수로 주어졌을 때,\n",
        "#  상자에 들어갈 수 있는 주사위의 최대 개수를 return 하도록 solution 함수를 완성해주세요.\n",
        "\n",
        "# 제한사항\n",
        "# box의 길이는 3입니다.\n",
        "# box[0] = 상자의 가로 길이\n",
        "# box[1] = 상자의 세로 길이\n",
        "# box[2] = 상자의 높이 길이\n",
        "\n",
        "# 1 ≤ box의 원소 ≤ 100\n",
        "# 1 ≤ n ≤ 50\n",
        "# n ≤ box의 원소\n",
        "# 주사위는 상자와 평행하게 넣습니다.\n",
        "\n",
        "# 입출력 예\n",
        "# box           \tn\t            result\n",
        "# [1, 1, 1]\t      1\t              1\n",
        "# [10, 8, 6]\t    3\t              12\n",
        "\n",
        "# 입출력 예 설명\n",
        "# 입출력 예 #1\n",
        "# 상자의 크기가 가로 1, 세로 1, 높이 1이므로 모서리의 길이가 1인 주사위는 1개 들어갈 수 있습니다.\n",
        "\n",
        "# 입출력 예 #2\n",
        "# 상자의 크기가 가로 10, 세로 8, 높이 6이므로 모서리의 길이가 3인 주사위는 12개 들어갈 수 있습니다."
      ]
    },
    {
      "cell_type": "code",
      "source": [
        "def solution(box, n):\n",
        "    answer = 0\n",
        "    answer += box[0] // n\n",
        "    answer *= box[1] // n\n",
        "    answer *= box[2] // n\n",
        "\n",
        "    return answer"
      ],
      "metadata": {
        "id": "d37jtSISOvLP"
      },
      "execution_count": 6,
      "outputs": []
    },
    {
      "cell_type": "code",
      "source": [
        "box = [1, 1, 1]\n",
        "n = 1\n",
        "solution(box, n)"
      ],
      "metadata": {
        "colab": {
          "base_uri": "https://localhost:8080/"
        },
        "id": "9aGYOnV8Oyga",
        "outputId": "17c7ef82-3594-4b9e-d3fb-e9c848c4b58f"
      },
      "execution_count": 7,
      "outputs": [
        {
          "output_type": "execute_result",
          "data": {
            "text/plain": [
              "1"
            ]
          },
          "metadata": {},
          "execution_count": 7
        }
      ]
    },
    {
      "cell_type": "code",
      "source": [
        "box = [10, 8, 6]\n",
        "n = 3\n",
        "solution(box, n)"
      ],
      "metadata": {
        "colab": {
          "base_uri": "https://localhost:8080/"
        },
        "id": "YLKASM5yO3Xh",
        "outputId": "fbd428ee-b8b6-41f8-aa92-aeb177f158e2"
      },
      "execution_count": 8,
      "outputs": [
        {
          "output_type": "execute_result",
          "data": {
            "text/plain": [
              "12"
            ]
          },
          "metadata": {},
          "execution_count": 8
        }
      ]
    },
    {
      "cell_type": "code",
      "source": [
        "# 다른사람 풀이"
      ],
      "metadata": {
        "id": "rTtiJiG5QsuP"
      },
      "execution_count": null,
      "outputs": []
    },
    {
      "cell_type": "code",
      "source": [
        "# 어떻게 간단하게 표현하는냐가 관건\n",
        "def solution(box, n):\n",
        "    x, y, z = box\n",
        "    return (x // n) * (y // n) * (z // n )"
      ],
      "metadata": {
        "id": "j_A-egVMQaXS"
      },
      "execution_count": 9,
      "outputs": []
    },
    {
      "cell_type": "code",
      "source": [
        "def solution(box, n):\n",
        "    answer = 1\n",
        "    for b in box:\n",
        "        answer *= b // n\n",
        "    return answer"
      ],
      "metadata": {
        "id": "9sy25U--Qyzy"
      },
      "execution_count": 10,
      "outputs": []
    },
    {
      "cell_type": "code",
      "source": [
        "import math\n",
        "\n",
        "def solution(box, n):\n",
        "    return math.prod(map(lambda v: v//n, box))"
      ],
      "metadata": {
        "id": "qAD5aAN_Q0va"
      },
      "execution_count": null,
      "outputs": []
    }
  ]
}