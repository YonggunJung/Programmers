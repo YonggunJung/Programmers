{
  "nbformat": 4,
  "nbformat_minor": 0,
  "metadata": {
    "colab": {
      "provenance": [],
      "authorship_tag": "ABX9TyN2VyH8YXz2/0fqhW/DEPXB",
      "include_colab_link": true
    },
    "kernelspec": {
      "name": "python3",
      "display_name": "Python 3"
    },
    "language_info": {
      "name": "python"
    }
  },
  "cells": [
    {
      "cell_type": "markdown",
      "metadata": {
        "id": "view-in-github",
        "colab_type": "text"
      },
      "source": [
        "<a href=\"https://colab.research.google.com/github/YonggunJung/Programmers/blob/main/%EC%84%B8%EA%B7%A0_%EC%A6%9D%EC%8B%9D.ipynb\" target=\"_parent\"><img src=\"https://colab.research.google.com/assets/colab-badge.svg\" alt=\"Open In Colab\"/></a>"
      ]
    },
    {
      "cell_type": "code",
      "execution_count": null,
      "metadata": {
        "id": "6Ew-unHRUuAp"
      },
      "outputs": [],
      "source": [
        "# 문제 설명\n",
        "# 어떤 세균은 1시간에 두배만큼 증식한다고 합니다.\n",
        "# 처음 세균의 마리수 n과 경과한 시간 t가 매개변수로 주어질 때\n",
        "# t시간 후 세균의 수를 return하도록 solution 함수를 완성해주세요.\n",
        "\n",
        "# 제한사항\n",
        "# 1 ≤ n ≤ 10\n",
        "# 1 ≤ t ≤ 15\n",
        "\n",
        "# 입출력 예\n",
        "# n\t          t\t          result\n",
        "# 2\t          10\t        2048\n",
        "# 7\t          15\t        229,376\n",
        "\n",
        "# 입출력 예 설명\n",
        "# 입출력 예 #1\n",
        "# 처음엔 2마리, 1시간 후엔 4마리, 2시간 후엔 8마리, ..., 10시간 후엔 2048마리가 됩니다.\n",
        "\n",
        "#  따라서 2048을 return합니다.\n",
        "# 입출력 예 #2\n",
        "# 처음엔 7마리, 1시간 후엔 14마리, 2시간 후엔 28마리, ..., 15시간 후엔 229376마리가 됩니다.\n",
        "# 따라서 229,376을 return합니다."
      ]
    },
    {
      "cell_type": "code",
      "source": [
        "def solution(n, t):\n",
        "    answer = n * (2 ** t)\n",
        "    return answer"
      ],
      "metadata": {
        "id": "2IMckRWaU9B5"
      },
      "execution_count": 8,
      "outputs": []
    },
    {
      "cell_type": "code",
      "source": [
        "n, t = 2, 10\n",
        "solution(n, t)"
      ],
      "metadata": {
        "colab": {
          "base_uri": "https://localhost:8080/"
        },
        "id": "s5-mzOuBU_VI",
        "outputId": "f01f4b6d-92ae-442a-d470-9d3c67166ea5"
      },
      "execution_count": 9,
      "outputs": [
        {
          "output_type": "execute_result",
          "data": {
            "text/plain": [
              "2048"
            ]
          },
          "metadata": {},
          "execution_count": 9
        }
      ]
    },
    {
      "cell_type": "code",
      "source": [
        "n, t = 7, 15\n",
        "solution(n, t)"
      ],
      "metadata": {
        "colab": {
          "base_uri": "https://localhost:8080/"
        },
        "id": "ja6eDOeVVFfq",
        "outputId": "5770233b-5803-4b4a-c504-c5273c875263"
      },
      "execution_count": 10,
      "outputs": [
        {
          "output_type": "execute_result",
          "data": {
            "text/plain": [
              "229376"
            ]
          },
          "metadata": {},
          "execution_count": 10
        }
      ]
    },
    {
      "cell_type": "code",
      "source": [
        "# 다른 사람 풀이"
      ],
      "metadata": {
        "id": "Cvg4cBFwVhwZ"
      },
      "execution_count": 11,
      "outputs": []
    },
    {
      "cell_type": "code",
      "source": [
        "# 생각지도 못한 비트 연산자\n",
        "# 알고는 있지만 쓰지는 못하는 ㅋㅋㅋㅋ\n",
        "def solution(n, t):\n",
        "    return n << t"
      ],
      "metadata": {
        "id": "JEFZWw4dWSUa"
      },
      "execution_count": 12,
      "outputs": []
    },
    {
      "cell_type": "code",
      "source": [
        "# 이렇게도 가능\n",
        "def solution(n, t):\n",
        "    for i in range(t) :\n",
        "        n *= 2\n",
        "    return n"
      ],
      "metadata": {
        "id": "KkbuG41nWbFv"
      },
      "execution_count": null,
      "outputs": []
    }
  ]
}