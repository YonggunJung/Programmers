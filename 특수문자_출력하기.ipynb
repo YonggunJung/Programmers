{
  "nbformat": 4,
  "nbformat_minor": 0,
  "metadata": {
    "colab": {
      "provenance": [],
      "authorship_tag": "ABX9TyM3LwBz9FqGdTBzeT9yLf5M",
      "include_colab_link": true
    },
    "kernelspec": {
      "name": "python3",
      "display_name": "Python 3"
    },
    "language_info": {
      "name": "python"
    }
  },
  "cells": [
    {
      "cell_type": "markdown",
      "metadata": {
        "id": "view-in-github",
        "colab_type": "text"
      },
      "source": [
        "<a href=\"https://colab.research.google.com/github/YonggunJung/Programmers/blob/main/%ED%8A%B9%EC%88%98%EB%AC%B8%EC%9E%90_%EC%B6%9C%EB%A0%A5%ED%95%98%EA%B8%B0.ipynb\" target=\"_parent\"><img src=\"https://colab.research.google.com/assets/colab-badge.svg\" alt=\"Open In Colab\"/></a>"
      ]
    },
    {
      "cell_type": "code",
      "execution_count": null,
      "metadata": {
        "id": "GikoCMzrXYPf"
      },
      "outputs": [],
      "source": [
        "# 문제 설명\n",
        "# 다음과 같이 출력하도록 코드를 작성해 주세요.\n",
        "\n",
        "# 출력 예시\n",
        "\n",
        "# !@#$%^&*(\\'\"<>?:;"
      ]
    },
    {
      "cell_type": "code",
      "source": [
        "# 문제\n",
        "# print('hello world!')"
      ],
      "metadata": {
        "id": "WkYWgDbRXbsT"
      },
      "execution_count": 1,
      "outputs": []
    },
    {
      "cell_type": "code",
      "source": [
        "# \\이걸 넣어 뭐야함 백슬래시 한참 헤맴\n",
        "print(\"!@#$%^&*(\\\\\\'\\\"<>?:;\")"
      ],
      "metadata": {
        "colab": {
          "base_uri": "https://localhost:8080/"
        },
        "id": "L_HmehucXfBz",
        "outputId": "ff1819ae-e532-41bf-a73d-102bdac0b54b"
      },
      "execution_count": 2,
      "outputs": [
        {
          "output_type": "stream",
          "name": "stdout",
          "text": [
            "!@#$%^&*(\\'\"<>?:;\n"
          ]
        }
      ]
    },
    {
      "cell_type": "code",
      "source": [
        "# 다른 사람 풀이"
      ],
      "metadata": {
        "id": "ihrQsATUadN-"
      },
      "execution_count": 3,
      "outputs": []
    },
    {
      "cell_type": "code",
      "source": [
        "# 이게 훨신 간단한듯 r사용\n",
        "print(r'!@#$%^&*(\\'\"<>?:;')"
      ],
      "metadata": {
        "colab": {
          "base_uri": "https://localhost:8080/"
        },
        "id": "pBevniGLa3ad",
        "outputId": "726725b9-8e31-4655-cc49-5af450a5b769"
      },
      "execution_count": 4,
      "outputs": [
        {
          "output_type": "stream",
          "name": "stdout",
          "text": [
            "!@#$%^&*(\\'\"<>?:;\n"
          ]
        }
      ]
    },
    {
      "cell_type": "code",
      "source": [
        "# 이건 뭐지 유니코드 인가? 광기 레전드\n",
        "print('\\u0021\\u0040\\u0023\\u0024\\u0025\\u005e\\u0026\\u002a\\u0028\\u005c\\u0027\\u0022\\u003c\\u003e\\u003f\\u003a\\u003b')"
      ],
      "metadata": {
        "colab": {
          "base_uri": "https://localhost:8080/"
        },
        "id": "V2mslnSXa--C",
        "outputId": "014f7c5c-409b-4f2e-b204-20083653804a"
      },
      "execution_count": 5,
      "outputs": [
        {
          "output_type": "stream",
          "name": "stdout",
          "text": [
            "!@#$%^&*(\\'\"<>?:;\n"
          ]
        }
      ]
    },
    {
      "cell_type": "code",
      "source": [
        "# 이거 백슬래시 하나만 해도 되는구나\n",
        "# 대신 따옴표 3개씩으로 묶어줌\n",
        "str1='''!@#$%^&*(\\\\'\"<>?:;'''\n",
        "print(str1)"
      ],
      "metadata": {
        "id": "p2ulJu_ubEMc"
      },
      "execution_count": null,
      "outputs": []
    }
  ]
}