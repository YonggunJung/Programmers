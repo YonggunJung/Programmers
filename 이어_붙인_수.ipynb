{
  "nbformat": 4,
  "nbformat_minor": 0,
  "metadata": {
    "colab": {
      "provenance": [],
      "authorship_tag": "ABX9TyPK5t6Z+QXmfDWEj9IcGvYa",
      "include_colab_link": true
    },
    "kernelspec": {
      "name": "python3",
      "display_name": "Python 3"
    },
    "language_info": {
      "name": "python"
    }
  },
  "cells": [
    {
      "cell_type": "markdown",
      "metadata": {
        "id": "view-in-github",
        "colab_type": "text"
      },
      "source": [
        "<a href=\"https://colab.research.google.com/github/YonggunJung/Programmers/blob/main/%EC%9D%B4%EC%96%B4_%EB%B6%99%EC%9D%B8_%EC%88%98.ipynb\" target=\"_parent\"><img src=\"https://colab.research.google.com/assets/colab-badge.svg\" alt=\"Open In Colab\"/></a>"
      ]
    },
    {
      "cell_type": "code",
      "execution_count": 1,
      "metadata": {
        "id": "mZuKmVoIoEc3"
      },
      "outputs": [],
      "source": [
        "# 문제 설명\n",
        "# 정수가 담긴 리스트 num_list가 주어집니다.\n",
        "# num_list의 홀수만 순서대로 이어 붙인 수와 짝수만 순서대로 이어 붙인 수의 합을\n",
        "# return하도록 solution 함수를 완성해주세요.\n",
        "\n",
        "# 제한사항\n",
        "# 2 ≤ num_list의 길이 ≤ 10\n",
        "# 1 ≤ num_list의 원소 ≤ 9\n",
        "# num_list에는 적어도 한 개씩의 짝수와 홀수가 있습니다.\n",
        "\n",
        "# 입출력 예\n",
        "# num_list\t                result\n",
        "# [3, 4, 5, 2, 1]\t          393\n",
        "# [5, 7, 8, 3]\t            581\n",
        "\n",
        "# 입출력 예 설명\n",
        "# 입출력 예 #1\n",
        "# 홀수만 이어 붙인 수는 351이고 짝수만 이어 붙인 수는 42입니다.\n",
        "# 두 수의 합은 393입니다.\n",
        "\n",
        "# 입출력 예 #2\n",
        "# 홀수만 이어 붙인 수는 573이고 짝수만 이어 붙인 수는 8입니다. 두 수의 합은 581입니다."
      ]
    },
    {
      "cell_type": "code",
      "source": [
        "def solution(num_list):\n",
        "    o = ''\n",
        "    e = ''\n",
        "    for i in num_list:\n",
        "      if i % 2 == 1:\n",
        "        o += str(i)\n",
        "      else:\n",
        "        e += str(i)\n",
        "    answer = int(e) + int(o)\n",
        "    return answer"
      ],
      "metadata": {
        "id": "HZAJnsi6oOv9"
      },
      "execution_count": 5,
      "outputs": []
    },
    {
      "cell_type": "code",
      "source": [
        "num_list = [3, 4, 5, 2, 1]\n",
        "solution(num_list)"
      ],
      "metadata": {
        "colab": {
          "base_uri": "https://localhost:8080/"
        },
        "id": "m8Fp7xuaoPus",
        "outputId": "0e4b2e80-1e4f-4058-d90f-73d949765ea1"
      },
      "execution_count": 6,
      "outputs": [
        {
          "output_type": "execute_result",
          "data": {
            "text/plain": [
              "393"
            ]
          },
          "metadata": {},
          "execution_count": 6
        }
      ]
    },
    {
      "cell_type": "code",
      "source": [
        "num_list = [5, 7, 8, 3]\n",
        "solution(num_list)"
      ],
      "metadata": {
        "colab": {
          "base_uri": "https://localhost:8080/"
        },
        "id": "3OPXzR44oSHK",
        "outputId": "dbe9ef7a-c011-43e8-e824-bb6b33da9555"
      },
      "execution_count": 7,
      "outputs": [
        {
          "output_type": "execute_result",
          "data": {
            "text/plain": [
              "581"
            ]
          },
          "metadata": {},
          "execution_count": 7
        }
      ]
    },
    {
      "cell_type": "code",
      "source": [
        "# 다른 사람 풀이"
      ],
      "metadata": {
        "id": "llilC9dUoSE8"
      },
      "execution_count": 8,
      "outputs": []
    },
    {
      "cell_type": "code",
      "source": [
        "def solution(num_list):\n",
        "    even=int(''.join([str(i) for i in num_list if i%2==0]))\n",
        "    odd=int(''.join([str(i) for i in num_list if not i%2==0]))\n",
        "    return even+odd"
      ],
      "metadata": {
        "id": "O47yt5sBumk1"
      },
      "execution_count": 9,
      "outputs": []
    },
    {
      "cell_type": "code",
      "source": [],
      "metadata": {
        "id": "9BPM1kviuqdV"
      },
      "execution_count": null,
      "outputs": []
    }
  ]
}