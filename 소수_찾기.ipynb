{
  "nbformat": 4,
  "nbformat_minor": 0,
  "metadata": {
    "colab": {
      "provenance": [],
      "authorship_tag": "ABX9TyOrG6QoVPEkbBVkpX1HDnu3",
      "include_colab_link": true
    },
    "kernelspec": {
      "name": "python3",
      "display_name": "Python 3"
    },
    "language_info": {
      "name": "python"
    }
  },
  "cells": [
    {
      "cell_type": "markdown",
      "metadata": {
        "id": "view-in-github",
        "colab_type": "text"
      },
      "source": [
        "<a href=\"https://colab.research.google.com/github/YonggunJung/Programmers/blob/main/%EC%86%8C%EC%88%98_%EC%B0%BE%EA%B8%B0.ipynb\" target=\"_parent\"><img src=\"https://colab.research.google.com/assets/colab-badge.svg\" alt=\"Open In Colab\"/></a>"
      ]
    },
    {
      "cell_type": "code",
      "execution_count": 1,
      "metadata": {
        "id": "d95o-fehJXak"
      },
      "outputs": [],
      "source": [
        "# 문제 설명\n",
        "# 1부터 입력받은 숫자 n 사이에 있는 소수의 개수를 반환하는 함수,\n",
        "# solution을 만들어 보세요.\n",
        "\n",
        "# 소수는 1과 자기 자신으로만 나누어지는 수를 의미합니다.\n",
        "# (1은 소수가 아닙니다.)\n",
        "\n",
        "# 제한 조건\n",
        "# n은 2이상 1000000이하의 자연수입니다.\n",
        "\n",
        "# 입출력 예\n",
        "# n\t    result\n",
        "# 10\t    4\n",
        "# 5\t      3\n",
        "\n",
        "# 입출력 예 설명\n",
        "# 입출력 예 #1\n",
        "# 1부터 10 사이의 소수는 [2,3,5,7] 4개가 존재하므로 4를 반환\n",
        "\n",
        "# 입출력 예 #2\n",
        "# 1부터 5 사이의 소수는 [2,3,5] 3개가 존재하므로 3를 반환"
      ]
    },
    {
      "cell_type": "code",
      "source": [
        "def solution(n):\n",
        "    # 소수의 개수를 셀 변수\n",
        "    answer = 0\n",
        "\n",
        "    # 2부터 n까지 모든 수에 대해 소수 여부를 확인\n",
        "    for i in range(2, n + 1):\n",
        "        # i가 소수인지 확인하는 방법: 2부터 i-1까지 나누어 떨어지지 않으면 소수\n",
        "        is_prime = True\n",
        "        for j in range(2, int(i ** 0.5) + 1):\n",
        "            if i % j == 0:  # i가 j로 나누어지면 소수가 아님\n",
        "                is_prime = False\n",
        "                break\n",
        "\n",
        "        if is_prime:\n",
        "            answer += 1  # i가 소수라면 answer를 1 증가\n",
        "\n",
        "    return answer"
      ],
      "metadata": {
        "id": "UEIcaqSYJdY7"
      },
      "execution_count": 2,
      "outputs": []
    },
    {
      "cell_type": "code",
      "source": [
        "# 난 이게 이해가 가지 않는다ㅠㅠ\n",
        "def solution(n):\n",
        "    num=set(range(2,n+1))\n",
        "\n",
        "    for i in range(2,n+1):\n",
        "        if i in num:\n",
        "            num-=set(range(2*i,n+1,i))\n",
        "    return len(num)"
      ],
      "metadata": {
        "id": "9SGuqiCdejhe"
      },
      "execution_count": 3,
      "outputs": []
    },
    {
      "cell_type": "code",
      "source": [],
      "metadata": {
        "id": "RXBOPkdmenpM"
      },
      "execution_count": null,
      "outputs": []
    }
  ]
}