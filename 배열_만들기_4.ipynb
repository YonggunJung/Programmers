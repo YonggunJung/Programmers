{
  "nbformat": 4,
  "nbformat_minor": 0,
  "metadata": {
    "colab": {
      "provenance": [],
      "authorship_tag": "ABX9TyP3wx+QV6IuBKGPBK8NIWG/",
      "include_colab_link": true
    },
    "kernelspec": {
      "name": "python3",
      "display_name": "Python 3"
    },
    "language_info": {
      "name": "python"
    }
  },
  "cells": [
    {
      "cell_type": "markdown",
      "metadata": {
        "id": "view-in-github",
        "colab_type": "text"
      },
      "source": [
        "<a href=\"https://colab.research.google.com/github/YonggunJung/Programmers/blob/main/%EB%B0%B0%EC%97%B4_%EB%A7%8C%EB%93%A4%EA%B8%B0_4.ipynb\" target=\"_parent\"><img src=\"https://colab.research.google.com/assets/colab-badge.svg\" alt=\"Open In Colab\"/></a>"
      ]
    },
    {
      "cell_type": "code",
      "execution_count": 1,
      "metadata": {
        "id": "jGESIUf0GnDd"
      },
      "outputs": [],
      "source": [
        "# 문제 설명\n",
        "# 정수 배열 arr가 주어집니다. arr를 이용해 새로운 배열 stk를 만드려고 합니다.\n",
        "\n",
        "# 변수 i를 만들어 초기값을 0으로 설정한 후\n",
        "# i가 arr의 길이보다 작으면 다음 작업을 반복합니다.\n",
        "\n",
        "# 만약 stk가 빈 배열이라면 arr[i]를 stk에 추가하고 i에 1을 더합니다.\n",
        "# stk에 원소가 있고,\n",
        "# stk의 마지막 원소가 arr[i]보다 작으면 arr[i]를 stk의 뒤에 추가하고 i에 1을 더합니다.\n",
        "# stk에 원소가 있는데 stk의 마지막 원소가 arr[i]보다 크거나 같으면\n",
        "# stk의 마지막 원소를 stk에서 제거합니다.\n",
        "# 위 작업을 마친 후 만들어진 stk를 return 하는 solution 함수를 완성해 주세요.\n",
        "\n",
        "# 제한사항\n",
        "# 1 ≤ arr의 길이 ≤ 100,000\n",
        "# 1 ≤ arr의 원소 ≤ 100,000\n",
        "\n",
        "# 입출력 예\n",
        "# arr\t                    result\n",
        "# [1, 4, 2, 5, 3]\t        [1, 2, 3]\n",
        "\n",
        "# 입출력 예 설명\n",
        "# 입출력 예 #1\n",
        "# 각 작업을 마친 후에 배열의 변화를 나타내면 다음 표와 같습니다.\n",
        "# i\tarr[i]\tstk\n",
        "# 0\t1\t[]\n",
        "# 1\t4\t[1]\n",
        "# 2\t2\t[1, 4]\n",
        "# 2\t2\t[1]\n",
        "# 3\t5\t[1, 2]\n",
        "# 4\t3\t[1, 2, 5]\n",
        "# 4\t3\t[1, 2]\n",
        "# -\t-\t[1, 2, 3]\n",
        "# 따라서 [1, 2, 3]을 return 합니다."
      ]
    },
    {
      "cell_type": "code",
      "source": [
        "def solution(arr):\n",
        "    stk = []\n",
        "    i = 0\n",
        "    while i < len(arr):\n",
        "      if len(stk) == 0:\n",
        "        stk.append(arr[i])\n",
        "        i += 1\n",
        "      elif len(stk) != 0:\n",
        "        if stk[-1] < arr[i]:\n",
        "          stk.append(arr[i])\n",
        "          i += 1\n",
        "        else:\n",
        "          stk.pop(-1)\n",
        "    return stk"
      ],
      "metadata": {
        "id": "ly-Wb8DzG4H2"
      },
      "execution_count": 14,
      "outputs": []
    },
    {
      "cell_type": "code",
      "source": [
        "arr = [1, 4, 2, 5, 3]\n",
        "solution(arr)"
      ],
      "metadata": {
        "colab": {
          "base_uri": "https://localhost:8080/"
        },
        "id": "0i35YKZiHCvj",
        "outputId": "0c483986-970f-460c-81af-e9e358ab5518"
      },
      "execution_count": 15,
      "outputs": [
        {
          "output_type": "execute_result",
          "data": {
            "text/plain": [
              "[1, 2, 3]"
            ]
          },
          "metadata": {},
          "execution_count": 15
        }
      ]
    },
    {
      "cell_type": "code",
      "source": [
        "# 다른 사람 풀이"
      ],
      "metadata": {
        "id": "lRoeRkGLJDpt"
      },
      "execution_count": 16,
      "outputs": []
    },
    {
      "cell_type": "code",
      "source": [
        "# 잘 줄였네\n",
        "def solution(arr):\n",
        "    stk = []\n",
        "    for i in range(len(arr)):\n",
        "        while stk and stk[-1] >= arr[i]:\n",
        "            stk.pop()\n",
        "        stk.append(arr[i])\n",
        "    return stk"
      ],
      "metadata": {
        "id": "YOLDOBBsJuj_"
      },
      "execution_count": 17,
      "outputs": []
    },
    {
      "cell_type": "code",
      "source": [],
      "metadata": {
        "id": "36VWGLi-Jz62"
      },
      "execution_count": null,
      "outputs": []
    }
  ]
}