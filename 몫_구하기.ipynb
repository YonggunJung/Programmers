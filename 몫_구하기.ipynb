{
  "nbformat": 4,
  "nbformat_minor": 0,
  "metadata": {
    "colab": {
      "provenance": [],
      "authorship_tag": "ABX9TyO0KHRs2qwoZ8fFyyyFKIN3",
      "include_colab_link": true
    },
    "kernelspec": {
      "name": "python3",
      "display_name": "Python 3"
    },
    "language_info": {
      "name": "python"
    }
  },
  "cells": [
    {
      "cell_type": "markdown",
      "metadata": {
        "id": "view-in-github",
        "colab_type": "text"
      },
      "source": [
        "<a href=\"https://colab.research.google.com/github/YonggunJung/Programmers/blob/main/%EB%AA%AB_%EA%B5%AC%ED%95%98%EA%B8%B0.ipynb\" target=\"_parent\"><img src=\"https://colab.research.google.com/assets/colab-badge.svg\" alt=\"Open In Colab\"/></a>"
      ]
    },
    {
      "cell_type": "code",
      "execution_count": null,
      "metadata": {
        "id": "3RU7NTN4Cjlr"
      },
      "outputs": [],
      "source": [
        "# 문제 설명\n",
        "# 정수 num1, num2가 매개변수로 주어질 때, num1을 num2로 나눈 몫을 return 하도록 solution 함수를 완성해주세요.\n",
        "\n",
        "# 제한사항\n",
        "# 0 < num1 ≤ 100\n",
        "# 0 < num2 ≤ 100\n",
        "\n",
        "# 입출력 예\n",
        "# num1\tnum2\tresult\n",
        "#  10\t    5\t     2\n",
        "#   7\t    2\t     3\n",
        "\n",
        "# 입출력 예 설명\n",
        "# 입출력 예 #1\n",
        "# num1이 10, num2가 5이므로 10을 5로 나눈 몫 2를 return 합니다.\n",
        "\n",
        "# 입출력 예 #2\n",
        "# num1이 7, num2가 2이므로 7을 2로 나눈 몫 3을 return 합니다."
      ]
    },
    {
      "cell_type": "code",
      "source": [
        "def solution(num1, num2):\n",
        "    answer = num1 // num2\n",
        "    return int(answer)"
      ],
      "metadata": {
        "id": "QYD5Hh1LC14A"
      },
      "execution_count": null,
      "outputs": []
    }
  ]
}