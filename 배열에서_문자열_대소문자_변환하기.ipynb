{
  "nbformat": 4,
  "nbformat_minor": 0,
  "metadata": {
    "colab": {
      "provenance": [],
      "authorship_tag": "ABX9TyPKv5gt5pM1JbKbEnojz/tO",
      "include_colab_link": true
    },
    "kernelspec": {
      "name": "python3",
      "display_name": "Python 3"
    },
    "language_info": {
      "name": "python"
    }
  },
  "cells": [
    {
      "cell_type": "markdown",
      "metadata": {
        "id": "view-in-github",
        "colab_type": "text"
      },
      "source": [
        "<a href=\"https://colab.research.google.com/github/YonggunJung/Programmers/blob/main/%EB%B0%B0%EC%97%B4%EC%97%90%EC%84%9C_%EB%AC%B8%EC%9E%90%EC%97%B4_%EB%8C%80%EC%86%8C%EB%AC%B8%EC%9E%90_%EB%B3%80%ED%99%98%ED%95%98%EA%B8%B0.ipynb\" target=\"_parent\"><img src=\"https://colab.research.google.com/assets/colab-badge.svg\" alt=\"Open In Colab\"/></a>"
      ]
    },
    {
      "cell_type": "code",
      "execution_count": 1,
      "metadata": {
        "id": "zWIhQx_sNBLg"
      },
      "outputs": [],
      "source": [
        "# 문제 설명\n",
        "# 문자열 배열 strArr가 주어집니다.\n",
        "# 모든 원소가 알파벳으로만 이루어져 있을 때,\n",
        "# 배열에서 홀수번째 인덱스의 문자열은 모든 문자를 대문자로,\n",
        "# 짝수번째 인덱스의 문자열은 모든 문자를 소문자로 바꿔서 반환하는\n",
        "# solution 함수를 완성해 주세요.\n",
        "\n",
        "# 제한사항\n",
        "# 1 ≤ strArr ≤ 20\n",
        "# 1 ≤ strArr의 원소의 길이 ≤ 20\n",
        "# strArr의 원소는 알파벳으로 이루어진 문자열 입니다.\n",
        "\n",
        "# 입출력 예\n",
        "# strArr                            result\n",
        "# [\"AAA\",\"BBB\",\"CCC\",\"DDD\"]\t        [\"aaa\",\"BBB\",\"ccc\",\"DDD\"]\n",
        "# [\"aBc\",\"AbC\"]                   \t[\"abc\",\"ABC\"]\n",
        "\n",
        "# 입출력 예 설명\n",
        "# 입출력 예 #1\n",
        "# strArr[0]과 strArr[2]는 짝수번째 인덱스의 문자열이므로\n",
        "# 모두 소문자로 바꿔서 \"aaa\"와 \"ccc\"가 됩니다.\n",
        "# strArr[1]과 strArr[3]는 홀수번째 인덱스의 문자열인데 원래 대문자이므로 그대로 둡니다.\n",
        "# 따라서 [\"aaa\",\"BBB\",\"ccc\",\"DDD\"]를 return 합니다.\n",
        "\n",
        "# 입출력 예 #2\n",
        "# strArr[0]은 짝수번째 인덱스의 문자열이므로 소문자로 바꿔서 \"abc\"가 됩니다.\n",
        "# strArr[1]은 홀수번째 인덱스의 문자열이므로 대문자로 바꿔서 \"ABC\"가 됩니다.\n",
        "# 따라서 [\"abc\",\"ABC\"]를 return 합니다."
      ]
    },
    {
      "cell_type": "code",
      "source": [
        "def solution(strArr):\n",
        "    answer = []\n",
        "    for idx, st in enumerate(strArr):\n",
        "      if idx % 2 == 0:\n",
        "        answer.append(st.lower())\n",
        "      else:\n",
        "        answer.append(st.upper())\n",
        "    return answer"
      ],
      "metadata": {
        "id": "zQUJ1NR9NOo6"
      },
      "execution_count": 3,
      "outputs": []
    },
    {
      "cell_type": "code",
      "source": [
        "strArr = [\"AAA\",\"BBB\",\"CCC\",\"DDD\"]\n",
        "solution(strArr)"
      ],
      "metadata": {
        "colab": {
          "base_uri": "https://localhost:8080/"
        },
        "id": "sJQp3X6aNQDS",
        "outputId": "3bd5e089-af42-4673-bbec-5067084d514e"
      },
      "execution_count": 4,
      "outputs": [
        {
          "output_type": "execute_result",
          "data": {
            "text/plain": [
              "['aaa', 'BBB', 'ccc', 'DDD']"
            ]
          },
          "metadata": {},
          "execution_count": 4
        }
      ]
    },
    {
      "cell_type": "code",
      "source": [
        "strArr = [\"aBc\",\"AbC\"]\n",
        "solution(strArr)"
      ],
      "metadata": {
        "colab": {
          "base_uri": "https://localhost:8080/"
        },
        "id": "ScJdkmvdNTA9",
        "outputId": "e2deeb14-0db8-4804-ab29-365dbc987bee"
      },
      "execution_count": 5,
      "outputs": [
        {
          "output_type": "execute_result",
          "data": {
            "text/plain": [
              "['abc', 'ABC']"
            ]
          },
          "metadata": {},
          "execution_count": 5
        }
      ]
    },
    {
      "cell_type": "code",
      "source": [
        "# 다른 사람 풀이"
      ],
      "metadata": {
        "id": "k-7iV65iNS-5"
      },
      "execution_count": 6,
      "outputs": []
    },
    {
      "cell_type": "code",
      "source": [
        "def solution(strArr):\n",
        "    return [s.lower() if i % 2 == 0 else s.upper() for i, s in enumerate(strArr)]"
      ],
      "metadata": {
        "id": "BsTYg_oAPdaV"
      },
      "execution_count": 7,
      "outputs": []
    },
    {
      "cell_type": "code",
      "source": [],
      "metadata": {
        "id": "2qR7s60wPja5"
      },
      "execution_count": null,
      "outputs": []
    }
  ]
}