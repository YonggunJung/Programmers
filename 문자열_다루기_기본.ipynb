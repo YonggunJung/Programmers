{
  "nbformat": 4,
  "nbformat_minor": 0,
  "metadata": {
    "colab": {
      "provenance": [],
      "authorship_tag": "ABX9TyNX5q0rjAGifQZDAFb+tJP7",
      "include_colab_link": true
    },
    "kernelspec": {
      "name": "python3",
      "display_name": "Python 3"
    },
    "language_info": {
      "name": "python"
    }
  },
  "cells": [
    {
      "cell_type": "markdown",
      "metadata": {
        "id": "view-in-github",
        "colab_type": "text"
      },
      "source": [
        "<a href=\"https://colab.research.google.com/github/YonggunJung/Programmers/blob/main/%EB%AC%B8%EC%9E%90%EC%97%B4_%EB%8B%A4%EB%A3%A8%EA%B8%B0_%EA%B8%B0%EB%B3%B8.ipynb\" target=\"_parent\"><img src=\"https://colab.research.google.com/assets/colab-badge.svg\" alt=\"Open In Colab\"/></a>"
      ]
    },
    {
      "cell_type": "code",
      "execution_count": 1,
      "metadata": {
        "id": "jcdxNi3oruXd"
      },
      "outputs": [],
      "source": [
        "# 문제 설명\n",
        "# 문자열 s의 길이가 4 혹은 6이고,\n",
        "# 숫자로만 구성돼있는지 확인해주는 함수,\n",
        "# solution을 완성하세요.\n",
        "# 예를 들어 s가 \"a234\"이면 False를 리턴하고\n",
        "# \"1234\"라면 True를 리턴하면 됩니다.\n",
        "\n",
        "# 제한 사항\n",
        "# s는 길이 1 이상, 길이 8 이하인 문자열입니다.\n",
        "# s는 영문 알파벳 대소문자 또는 0부터 9까지 숫자로 이루어져 있습니다.\n",
        "\n",
        "# 입출력 예\n",
        "# s         \treturn\n",
        "# \"a234\"\t    false\n",
        "# \"1234\"\t    true"
      ]
    },
    {
      "cell_type": "code",
      "source": [
        "def solution(s):\n",
        "    answer = False\n",
        "    if (len(s) == 4 or len(s) == 6) and s.isdigit():\n",
        "      answer = True\n",
        "    return answer"
      ],
      "metadata": {
        "id": "WDmXUFgPr2cS"
      },
      "execution_count": 2,
      "outputs": []
    },
    {
      "cell_type": "code",
      "source": [
        "# 다른사람 풀이\n",
        "# 이게 더 깔깜하군\n",
        "return s.isdigit() and len(s) in [4,6]"
      ],
      "metadata": {
        "id": "yyL7kOWitMeV"
      },
      "execution_count": 3,
      "outputs": []
    },
    {
      "cell_type": "code",
      "source": [],
      "metadata": {
        "id": "wDgV1VN-tN1i"
      },
      "execution_count": null,
      "outputs": []
    }
  ]
}