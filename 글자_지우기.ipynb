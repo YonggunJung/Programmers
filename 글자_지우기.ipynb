{
  "nbformat": 4,
  "nbformat_minor": 0,
  "metadata": {
    "colab": {
      "provenance": [],
      "authorship_tag": "ABX9TyOV5lBW0jb00Gic3RoCwaIO",
      "include_colab_link": true
    },
    "kernelspec": {
      "name": "python3",
      "display_name": "Python 3"
    },
    "language_info": {
      "name": "python"
    }
  },
  "cells": [
    {
      "cell_type": "markdown",
      "metadata": {
        "id": "view-in-github",
        "colab_type": "text"
      },
      "source": [
        "<a href=\"https://colab.research.google.com/github/YonggunJung/Programmers/blob/main/%EA%B8%80%EC%9E%90_%EC%A7%80%EC%9A%B0%EA%B8%B0.ipynb\" target=\"_parent\"><img src=\"https://colab.research.google.com/assets/colab-badge.svg\" alt=\"Open In Colab\"/></a>"
      ]
    },
    {
      "cell_type": "code",
      "execution_count": 1,
      "metadata": {
        "id": "oYE8Oby0-Wkv"
      },
      "outputs": [],
      "source": [
        "# 문제 설명\n",
        "# 문자열 my_string과 정수 배열 indices가 주어질 때,\n",
        "# my_string에서 indices의 원소에 해당하는 인덱스의 글자를 지우고\n",
        "# 이어 붙인 문자열을 return 하는 solution 함수를 작성해 주세요.\n",
        "\n",
        "# 제한사항\n",
        "# 1 ≤ indices의 길이 < my_string의 길이 ≤ 100\n",
        "# my_string은 영소문자로만 이루어져 있습니다\n",
        "# 0 ≤ indices의 원소 < my_string의 길이\n",
        "# indices의 원소는 모두 서로 다릅니다.\n",
        "\n",
        "# 입출력 예\n",
        "# my_string\t                indices\t                          result\n",
        "# \"apporoograpemmemprs\"\t    [1, 16, 6, 15, 0, 10, 11, 3]\t    \"programmers\"\n",
        "\n",
        "# 입출력 예 설명\n",
        "# 입출력 예 #1\n",
        "# 예제 1번의 my_string의 인덱스가 잘 보이도록 표를 만들면 다음과 같습니다.\n",
        "\n",
        "# index\t0\t1\t2\t3\t4\t5\t6\t7\t8\t9\t10\t11\t12\t13\t14\t15\t16\t17\t18\n",
        "# my_string\ta\tp\tp\to\tr\to\to\tg\tr\ta\tp\te\tm\tm\te\tm\tp\tr\ts\n",
        "# indices에 있는 인덱스의 글자들을 지우고 이어붙이면\n",
        "# \"programmers\"가 되므로 이를 return 합니다."
      ]
    },
    {
      "cell_type": "code",
      "source": [
        "def solution(my_string, indices):\n",
        "    answer = ''\n",
        "    li = list(range(len(my_string)))\n",
        "    for i in indices:\n",
        "      li.remove(i)\n",
        "    for j in li:\n",
        "      answer += my_string[j]\n",
        "    return answer"
      ],
      "metadata": {
        "id": "EU6nnQkO-shN"
      },
      "execution_count": 26,
      "outputs": []
    },
    {
      "cell_type": "code",
      "source": [
        "my_string = \"apporoograpemmemprs\"\n",
        "indices = [1, 16, 6, 15, 0, 10, 11, 3]\n",
        "solution(my_string, indices)\n"
      ],
      "metadata": {
        "colab": {
          "base_uri": "https://localhost:8080/",
          "height": 35
        },
        "id": "qOFL_NGq-txE",
        "outputId": "e0b58515-dbb9-4c49-ab61-39eb5d61a95b"
      },
      "execution_count": 28,
      "outputs": [
        {
          "output_type": "execute_result",
          "data": {
            "text/plain": [
              "'programmers'"
            ],
            "application/vnd.google.colaboratory.intrinsic+json": {
              "type": "string"
            }
          },
          "metadata": {},
          "execution_count": 28
        }
      ]
    },
    {
      "cell_type": "code",
      "source": [
        "# 다른 사람 풀이"
      ],
      "metadata": {
        "id": "_lt4Bxu_-ykm"
      },
      "execution_count": 29,
      "outputs": []
    },
    {
      "cell_type": "code",
      "source": [
        "# 이러면 쉬운걸 어렵게 했네\n",
        "def solution(my_string, indices):\n",
        "    answer = ''\n",
        "    for i in range(len(my_string)):\n",
        "        if i not in indices:answer+=my_string[i]\n",
        "    return answer"
      ],
      "metadata": {
        "id": "L9u7fsDTNAZE"
      },
      "execution_count": 30,
      "outputs": []
    },
    {
      "cell_type": "code",
      "source": [
        "def solution(my_string, indices):\n",
        "    return ''.join(my_string[i] for i in range(len(my_string)) if i not in set(indices))\n"
      ],
      "metadata": {
        "id": "R4OIlBi6ND57"
      },
      "execution_count": null,
      "outputs": []
    }
  ]
}