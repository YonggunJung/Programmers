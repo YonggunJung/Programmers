{
  "nbformat": 4,
  "nbformat_minor": 0,
  "metadata": {
    "colab": {
      "provenance": [],
      "authorship_tag": "ABX9TyMwlP+fpBrTE9bsmh3nc3nV",
      "include_colab_link": true
    },
    "kernelspec": {
      "name": "python3",
      "display_name": "Python 3"
    },
    "language_info": {
      "name": "python"
    }
  },
  "cells": [
    {
      "cell_type": "markdown",
      "metadata": {
        "id": "view-in-github",
        "colab_type": "text"
      },
      "source": [
        "<a href=\"https://colab.research.google.com/github/YonggunJung/Programmers/blob/main/%EB%82%A0%EC%A7%9C_%EB%B9%84%EA%B5%90%ED%95%98%EA%B8%B0.ipynb\" target=\"_parent\"><img src=\"https://colab.research.google.com/assets/colab-badge.svg\" alt=\"Open In Colab\"/></a>"
      ]
    },
    {
      "cell_type": "code",
      "execution_count": 2,
      "metadata": {
        "id": "OjNn5S-Li6t0"
      },
      "outputs": [],
      "source": [
        "# 문제 설명\n",
        "# 정수 배열 date1과 date2가 주어집니다.\n",
        "# 두 배열은 각각 날짜를 나타내며 [year, month, day] 꼴로 주어집니다.\n",
        "# 각 배열에서 year는 연도를, month는 월을, day는 날짜를 나타냅니다.\n",
        "\n",
        "# 만약 date1이 date2보다 앞서는 날짜라면 1을,\n",
        "# 아니면 0을 return 하는 solution 함수를 완성해 주세요.\n",
        "\n",
        "# 제한사항\n",
        "# date1의 길이 = date2의 길이 = 3\n",
        "# 0 ≤ year ≤ 10,000\n",
        "# 1 ≤ month ≤ 12\n",
        "# day는 month에 따라 가능한 날짜로 주어집니다.\n",
        "\n",
        "# 입출력 예\n",
        "# date1\t              date2\t                  result\n",
        "# [2021, 12, 28]\t    [2021, 12, 29]\t          1\n",
        "# [1024, 10, 24]\t    [1024, 10, 24]\t          0\n",
        "\n",
        "# 입출력 예 설명\n",
        "# 입출력 예 #1\n",
        "# date1이 date2보다 하루 앞서기 때문에 1을 return 합니다.\n",
        "\n",
        "# 입출력 예 #2\n",
        "# date1과 date2는 날짜가 서로 같으므로 date1이 더 앞서는 날짜가 아닙니다.\n",
        "# 따라서 0을 return 합니다."
      ]
    },
    {
      "cell_type": "code",
      "source": [
        "# datetime 쓰면 쉬워 보이는데 까먹어서 노가다 ㄱㄱ\n",
        "def solution(date1, date2):\n",
        "    answer = 0\n",
        "    d1 = ''\n",
        "    d2 = ''\n",
        "    for i in range(len(date1)):\n",
        "      d1 += str(date1[i])\n",
        "      d2 += str(date2[i])\n",
        "    if int(d1) < int(d2):\n",
        "      answer = 1\n",
        "    return answer"
      ],
      "metadata": {
        "id": "Q8HRtQgUi8me"
      },
      "execution_count": 5,
      "outputs": []
    },
    {
      "cell_type": "code",
      "source": [
        "date1 = [2021, 12, 28]\n",
        "date2 = [2021, 12, 29]\n",
        "solution(date1, date2)"
      ],
      "metadata": {
        "colab": {
          "base_uri": "https://localhost:8080/"
        },
        "id": "gPIgu4-ljJ19",
        "outputId": "9dac8f9f-2b2e-467c-a763-da9f760c364b"
      },
      "execution_count": 6,
      "outputs": [
        {
          "output_type": "execute_result",
          "data": {
            "text/plain": [
              "1"
            ]
          },
          "metadata": {},
          "execution_count": 6
        }
      ]
    },
    {
      "cell_type": "code",
      "source": [
        "date1 = [1024, 10, 24]\n",
        "date2 = [1024, 10, 24]\n",
        "solution(date1, date2)"
      ],
      "metadata": {
        "colab": {
          "base_uri": "https://localhost:8080/"
        },
        "id": "d59jS6yzjNBA",
        "outputId": "16325bfc-7697-43f0-d804-b7dfbf740b11"
      },
      "execution_count": 7,
      "outputs": [
        {
          "output_type": "execute_result",
          "data": {
            "text/plain": [
              "0"
            ]
          },
          "metadata": {},
          "execution_count": 7
        }
      ]
    },
    {
      "cell_type": "code",
      "source": [
        "# 다른 사람 풀이"
      ],
      "metadata": {
        "id": "GSf25kF8lPv8"
      },
      "execution_count": 8,
      "outputs": []
    },
    {
      "cell_type": "code",
      "source": [
        "# 이게 되네?? 해볼껄 ㅋㅋㅋ\n",
        "def solution(date1, date2):\n",
        "    return int(date1 < date2)"
      ],
      "metadata": {
        "id": "6DGbHn_FjM-u"
      },
      "execution_count": 9,
      "outputs": []
    },
    {
      "cell_type": "code",
      "source": [
        "def solution(date1, date2):\n",
        "    for i in range(3):\n",
        "        if date1[i]<date2[i]:return 1\n",
        "        elif date2[i]<date1[i]: return 0\n",
        "    return 0"
      ],
      "metadata": {
        "id": "fG1juTHilTHu"
      },
      "execution_count": 10,
      "outputs": []
    },
    {
      "cell_type": "code",
      "source": [
        "# 그냥 이렇게 하면 되는구나, 괜히 어렵게 생각 했네\n",
        "import datetime\n",
        "def solution(date1, date2):\n",
        "    return 1 if datetime.date(date1[0], date1[1], date1[2])  < datetime.date(date2[0], date2[1], date2[2]) else 0"
      ],
      "metadata": {
        "id": "LxP2dHs0lXrc"
      },
      "execution_count": 11,
      "outputs": []
    },
    {
      "cell_type": "code",
      "source": [
        "from datetime import date\n",
        "\n",
        "def solution(date1, date2):\n",
        "    date1 = date(date1[0], date1[1], date1[2])\n",
        "    date2 = date(date2[0], date2[1], date2[2])\n",
        "    return 1 if date1 < date2 else 0"
      ],
      "metadata": {
        "id": "CxCcxLi4lkWs"
      },
      "execution_count": 12,
      "outputs": []
    },
    {
      "cell_type": "code",
      "source": [],
      "metadata": {
        "id": "S_8Yn53Ulrel"
      },
      "execution_count": null,
      "outputs": []
    }
  ]
}