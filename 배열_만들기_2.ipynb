{
  "nbformat": 4,
  "nbformat_minor": 0,
  "metadata": {
    "colab": {
      "provenance": [],
      "authorship_tag": "ABX9TyNEMF++QBa6B3MinuyX+qzs",
      "include_colab_link": true
    },
    "kernelspec": {
      "name": "python3",
      "display_name": "Python 3"
    },
    "language_info": {
      "name": "python"
    }
  },
  "cells": [
    {
      "cell_type": "markdown",
      "metadata": {
        "id": "view-in-github",
        "colab_type": "text"
      },
      "source": [
        "<a href=\"https://colab.research.google.com/github/YonggunJung/Programmers/blob/main/%EB%B0%B0%EC%97%B4_%EB%A7%8C%EB%93%A4%EA%B8%B0_2.ipynb\" target=\"_parent\"><img src=\"https://colab.research.google.com/assets/colab-badge.svg\" alt=\"Open In Colab\"/></a>"
      ]
    },
    {
      "cell_type": "code",
      "execution_count": 1,
      "metadata": {
        "id": "1cT5uQq3tvup"
      },
      "outputs": [],
      "source": [
        "# 문제 설명\n",
        "# 정수 l과 r이 주어졌을 때,\n",
        "# l 이상 r이하의 정수 중에서 숫자 \"0\"과 \"5\"로만 이루어진 모든 정수를\n",
        "# 오름차순으로 저장한 배열을 return 하는 solution 함수를 완성해 주세요.\n",
        "\n",
        "# 만약 그러한 정수가 없다면, -1이 담긴 배열을 return 합니다.\n",
        "\n",
        "# 제한사항\n",
        "# 1 ≤ l ≤ r ≤ 1,000,000\n",
        "\n",
        "# 입출력 예\n",
        "# l\t      r\t        result\n",
        "# 5\t      555\t      [5, 50, 55, 500, 505, 550, 555]\n",
        "# 10\t    20\t      [-1]\n",
        "\n",
        "# 입출력 예 설명\n",
        "# 입출력 예 #1\n",
        "# 5 이상 555 이하의 0과 5로만 이루어진 정수는 작은 수부터\n",
        "# 5, 50, 55, 500, 505, 550, 555가 있습니다.\n",
        "# 따라서 [5, 50, 55, 500, 505, 550, 555]를 return 합니다.\n",
        "\n",
        "# 입출력 예 #2\n",
        "# 10 이상 20 이하이면서 0과 5로만 이루어진 정수는 없습니다.\n",
        "# 따라서 [-1]을 return 합니다."
      ]
    },
    {
      "cell_type": "code",
      "source": [
        "# 풀이봄 세트 생각도 못함 약간 헷갈리기도 함\n",
        "def solution(l, r):\n",
        "\n",
        "    result = []\n",
        "    exception = set(['1','2','3','4','6','7','8','9'])\n",
        "\n",
        "    for i  in range(l,r+1):\n",
        "        num = set(str(i))\n",
        "\n",
        "        if num & exception:\n",
        "            pass\n",
        "        else:\n",
        "            result.append(i)\n",
        "\n",
        "    if len(result) == 0 :\n",
        "        result.append(-1)\n",
        "    answer = sorted(result)\n",
        "    return answer"
      ],
      "metadata": {
        "id": "uPyDr02Tt8xT"
      },
      "execution_count": 14,
      "outputs": []
    },
    {
      "cell_type": "code",
      "source": [
        "l = 5\n",
        "r = 555\n",
        "solution(l, r)"
      ],
      "metadata": {
        "colab": {
          "base_uri": "https://localhost:8080/"
        },
        "id": "5SpXQEpct_Ce",
        "outputId": "8c075974-329f-493d-a767-fdc8b83fc65f"
      },
      "execution_count": 15,
      "outputs": [
        {
          "output_type": "execute_result",
          "data": {
            "text/plain": [
              "[5, 50, 55, 500, 505, 550, 555]"
            ]
          },
          "metadata": {},
          "execution_count": 15
        }
      ]
    },
    {
      "cell_type": "code",
      "source": [
        "l = 10\n",
        "r = 20\n",
        "solution(l, r)"
      ],
      "metadata": {
        "colab": {
          "base_uri": "https://localhost:8080/"
        },
        "id": "ej7r8TMuuF7B",
        "outputId": "99808d67-1e3b-403c-d34e-831893a9b4c3"
      },
      "execution_count": 16,
      "outputs": [
        {
          "output_type": "execute_result",
          "data": {
            "text/plain": [
              "[-1]"
            ]
          },
          "metadata": {},
          "execution_count": 16
        }
      ]
    },
    {
      "cell_type": "code",
      "source": [
        "# 다른 사람 풀이"
      ],
      "metadata": {
        "id": "btJI1abluF5Z"
      },
      "execution_count": 17,
      "outputs": []
    },
    {
      "cell_type": "code",
      "source": [
        "# 세트가 필수인가봄\n",
        "def solution(l, r):\n",
        "    answer = []\n",
        "    for num in range(l, r + 1):\n",
        "        if not set(str(num)) - set(['0', '5']):\n",
        "            answer.append(num)\n",
        "    return answer if answer else [-1]"
      ],
      "metadata": {
        "id": "YXXy6PIdzPKd"
      },
      "execution_count": 18,
      "outputs": []
    },
    {
      "cell_type": "code",
      "source": [
        "# 노가다 해 놓으면 편하게 푸는 문제긴함\n",
        "def solution(l, r):\n",
        "    answer = []\n",
        "    n = [5,50,55,500,505,550,555,5000,5005,5050,5055,5500,5505,5550,5555,50000,50005,50050,50055,50500,50505,50550,50555,55000,55005,55050,55055,55500,55505,55550,55555,500000,500005,500050,500055,500500,500505,500550,500555,505000,505005,505050,505055,505500,505505,505550,505555,550000,550005,550050,550055,550500,550505,550550,550555,555000,555005,555050,555055,555500,555505,555550,555555]\n",
        "    for i in n:\n",
        "        if i >= l and i <= r:\n",
        "            answer.append(i)\n",
        "    if answer == []:\n",
        "        answer.append(-1)\n",
        "    return answer"
      ],
      "metadata": {
        "id": "kF0fSPybzVFD"
      },
      "execution_count": 19,
      "outputs": []
    },
    {
      "cell_type": "code",
      "source": [
        "# 신가하게 풀었네\n",
        "def solution(l, r):\n",
        "    answer = []\n",
        "    i = 1\n",
        "    n = 5\n",
        "\n",
        "    while True:\n",
        "        if n > r: break\n",
        "        n = 5 * int(bin(i)[2:])\n",
        "        if l <= n <= r:\n",
        "            answer.append(n)\n",
        "        i += 1\n",
        "\n",
        "    return [-1] if len(answer) == 0 else answer"
      ],
      "metadata": {
        "id": "HVvMyVh8zkVL"
      },
      "execution_count": 20,
      "outputs": []
    },
    {
      "cell_type": "code",
      "source": [
        "# 신가한 코드들이 많지만 내가 원하던 쉬운 코드는 없음\n",
        "from collections import deque\n",
        "\n",
        "def solution(l, r):\n",
        "    answer=[]\n",
        "    q=deque()\n",
        "    q.append('5')\n",
        "    while q:\n",
        "        now=q.popleft()\n",
        "        temp=int(now)\n",
        "        if l<=temp<=r: answer.append(temp)\n",
        "        elif temp>r: break\n",
        "        q.append(now+'0')\n",
        "        q.append(now+'5')\n",
        "    if not answer:answer.append(-1)\n",
        "    return answer"
      ],
      "metadata": {
        "id": "qf2xFJWE0B57"
      },
      "execution_count": null,
      "outputs": []
    }
  ]
}