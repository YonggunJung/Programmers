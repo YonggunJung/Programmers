{
  "nbformat": 4,
  "nbformat_minor": 0,
  "metadata": {
    "colab": {
      "provenance": [],
      "authorship_tag": "ABX9TyNL/uz0SdAaGmAAC73LBMyQ",
      "include_colab_link": true
    },
    "kernelspec": {
      "name": "python3",
      "display_name": "Python 3"
    },
    "language_info": {
      "name": "python"
    }
  },
  "cells": [
    {
      "cell_type": "markdown",
      "metadata": {
        "id": "view-in-github",
        "colab_type": "text"
      },
      "source": [
        "<a href=\"https://colab.research.google.com/github/YonggunJung/Programmers/blob/main/%EC%9B%90%ED%95%98%EB%8A%94_%EB%AC%B8%EC%9E%90%EC%97%B4_%EC%B0%BE%EA%B8%B0.ipynb\" target=\"_parent\"><img src=\"https://colab.research.google.com/assets/colab-badge.svg\" alt=\"Open In Colab\"/></a>"
      ]
    },
    {
      "cell_type": "code",
      "execution_count": 1,
      "metadata": {
        "id": "rZe30CbTQzdB"
      },
      "outputs": [],
      "source": [
        "# 문제 설명\n",
        "# 알파벳으로 이루어진 문자열 myString과 pat이 주어집니다.\n",
        "# myString의 연속된 부분 문자열 중 pat이 존재하면 1을\n",
        "# 그렇지 않으면 0을 return 하는 solution 함수를 완성해 주세요.\n",
        "\n",
        "# 단, 알파벳 대문자와 소문자는 구분하지 않습니다.\n",
        "\n",
        "# 제한사항\n",
        "# 1 ≤ myString의 길이 ≤ 100,000\n",
        "# 1 ≤ pat의 길이 ≤ 300\n",
        "# myString과 pat은 모두 알파벳으로 이루어진 문자열입니다.\n",
        "\n",
        "# 입출력 예\n",
        "# myString\t      pat\t          return\n",
        "# \"AbCdEfG\"\t      \"aBc\"\t          1\n",
        "# \"aaAA\"\t        \"aaaaa\"\t        0\n",
        "\n",
        "# 입출력 예 설명\n",
        "# 입출력 예 #1\n",
        "# \"AbCdEfG\"의 0~2번 인덱스의 문자열은 \"AbC\"이며, 이는 pat인 \"aBc\"와 같습니다.\n",
        "# 따라서 1을 return 합니다.\n",
        "\n",
        "# 입출력 예 #2\n",
        "# myString의 길이가 pat보다 더 짧기 때문에\n",
        "#  myString의 부분 문자열 중 pat와 같은 문자열이 있을 수 없습니다.\n",
        "# 따라서 0을 return 합니다."
      ]
    },
    {
      "cell_type": "code",
      "source": [
        "def solution(myString, pat):\n",
        "    answer = 0\n",
        "    ms = myString.lower()\n",
        "    p = pat.lower()\n",
        "    for i in range(len(myString)):\n",
        "      if ms[i : i+len(pat)] == p:\n",
        "        answer = 1\n",
        "    return answer"
      ],
      "metadata": {
        "id": "zOPsD6D8Q_K-"
      },
      "execution_count": 3,
      "outputs": []
    },
    {
      "cell_type": "code",
      "source": [
        "myString = \"AbCdEfG\"\n",
        "pat = \"aBc\"\n",
        "solution(myString, pat)"
      ],
      "metadata": {
        "colab": {
          "base_uri": "https://localhost:8080/"
        },
        "id": "cNjo8W7mRAX0",
        "outputId": "06b3209d-9fb2-42ed-8e36-2864082839f7"
      },
      "execution_count": 4,
      "outputs": [
        {
          "output_type": "execute_result",
          "data": {
            "text/plain": [
              "1"
            ]
          },
          "metadata": {},
          "execution_count": 4
        }
      ]
    },
    {
      "cell_type": "code",
      "source": [
        "myString = \"aaAA\"\n",
        "pat = \"aaaaa\"\n",
        "solution(myString, pat)"
      ],
      "metadata": {
        "colab": {
          "base_uri": "https://localhost:8080/"
        },
        "id": "fXaCPoR-RE-Z",
        "outputId": "dcbbecd8-6192-47c7-de65-38b39416cbff"
      },
      "execution_count": 5,
      "outputs": [
        {
          "output_type": "execute_result",
          "data": {
            "text/plain": [
              "0"
            ]
          },
          "metadata": {},
          "execution_count": 5
        }
      ]
    },
    {
      "cell_type": "code",
      "source": [
        "# 다른 사람 풀이"
      ],
      "metadata": {
        "id": "V2PM53aDRE8U"
      },
      "execution_count": 6,
      "outputs": []
    },
    {
      "cell_type": "code",
      "source": [
        "# in을 통해 True/False로 나타내서 숫자로 바꾸면 0/1로 나온다\n",
        "# 와우 좋은 생각\n",
        "def solution(myString, pat):\n",
        "    return int(pat.lower() in myString.lower())"
      ],
      "metadata": {
        "id": "7knJ3SDnSVFn"
      },
      "execution_count": 7,
      "outputs": []
    },
    {
      "cell_type": "code",
      "source": [
        "# 포함하는지 여부는 in을 쓰면 되는군 좋았어\n",
        "def solution(myString, pat):\n",
        "    return 1 if pat.lower() in myString.lower() else 0"
      ],
      "metadata": {
        "id": "rPlCzkviSond"
      },
      "execution_count": null,
      "outputs": []
    }
  ]
}