{
  "nbformat": 4,
  "nbformat_minor": 0,
  "metadata": {
    "colab": {
      "provenance": [],
      "authorship_tag": "ABX9TyNS1WQRs9L2s23/s+FAomXK",
      "include_colab_link": true
    },
    "kernelspec": {
      "name": "python3",
      "display_name": "Python 3"
    },
    "language_info": {
      "name": "python"
    }
  },
  "cells": [
    {
      "cell_type": "markdown",
      "metadata": {
        "id": "view-in-github",
        "colab_type": "text"
      },
      "source": [
        "<a href=\"https://colab.research.google.com/github/YonggunJung/Programmers/blob/main/%EC%A0%91%EB%91%90%EC%82%AC%EC%9D%B8%EC%A7%80_%ED%99%95%EC%9D%B8%ED%95%98%EA%B8%B0.ipynb\" target=\"_parent\"><img src=\"https://colab.research.google.com/assets/colab-badge.svg\" alt=\"Open In Colab\"/></a>"
      ]
    },
    {
      "cell_type": "code",
      "execution_count": 1,
      "metadata": {
        "id": "Sd8GZsk5nGhC"
      },
      "outputs": [],
      "source": [
        "# 문제 설명\n",
        "# 어떤 문자열에 대해서 접두사는 특정 인덱스까지의 문자열을 의미합니다.\n",
        "# 예를 들어, \"banana\"의 모든 접두사는 \"b\", \"ba\", \"ban\", \"bana\", \"banan\", \"banana\"입니다.\n",
        "# 문자열 my_string과 is_prefix가 주어질 때,\n",
        "# is_prefix가 my_string의 접두사라면 1을,\n",
        "# 아니면 0을 return 하는 solution 함수를 작성해 주세요.\n",
        "\n",
        "# 제한사항\n",
        "# 1 ≤ my_string의 길이 ≤ 100\n",
        "# 1 ≤ is_prefix의 길이 ≤ 100\n",
        "# my_string과 is_prefix는 영소문자로만 이루어져 있습니다.\n",
        "\n",
        "# 입출력 예\n",
        "# my_string\t      is_prefix\t          result\n",
        "# \"banana\"\t      \"ban\"\t                1\n",
        "# \"banana\"\t      \"nan\"\t                0\n",
        "# \"banana\"\t      \"abcd\"\t              0\n",
        "# \"banana\"\t      \"bananan\"\t            0\n",
        "\n",
        "# 입출력 예 설명\n",
        "# 입출력 예 #1\n",
        "# 예제 1번에서 is_prefix가 my_string의 접두사이기 때문에 1을 return 합니다.\n",
        "\n",
        "# 입출력 예 #2\n",
        "# 예제 2번에서 is_prefix가 my_string의 접두사가 아니기 때문에 0을 return 합니다.\n",
        "\n",
        "# 입출력 예 #3\n",
        "# 예제 3번에서 is_prefix가 my_string의 접두사가 아니기 때문에 0을 return 합니다.\n",
        "\n",
        "# 입출력 예 #4\n",
        "# 예제 4번에서 is_prefix가 my_string의 접두사가 아니기 때문에 0을 return 합니다."
      ]
    },
    {
      "cell_type": "code",
      "source": [
        "def solution(my_string, is_prefix):\n",
        "    answer = 0\n",
        "    for i in range(len(my_string)):\n",
        "      if my_string[:i] == is_prefix:\n",
        "        answer = 1\n",
        "    return answer"
      ],
      "metadata": {
        "id": "CTZlMZG_nTaJ"
      },
      "execution_count": 3,
      "outputs": []
    },
    {
      "cell_type": "code",
      "source": [
        "my_string = \"banana\"\n",
        "is_prefix = \"ban\"\n",
        "solution(my_string, is_prefix)"
      ],
      "metadata": {
        "colab": {
          "base_uri": "https://localhost:8080/"
        },
        "id": "YsrS6yI6nUh_",
        "outputId": "c79e8f93-c891-49b2-d6a0-aaf3dc1044bc"
      },
      "execution_count": 4,
      "outputs": [
        {
          "output_type": "execute_result",
          "data": {
            "text/plain": [
              "1"
            ]
          },
          "metadata": {},
          "execution_count": 4
        }
      ]
    },
    {
      "cell_type": "code",
      "source": [
        "my_string = \"banana\"\n",
        "is_prefix = \"nan\"\n",
        "solution(my_string, is_prefix)"
      ],
      "metadata": {
        "colab": {
          "base_uri": "https://localhost:8080/"
        },
        "id": "YUJNaSR5nZEu",
        "outputId": "d3a72907-02d0-4316-fb19-f174622f29e7"
      },
      "execution_count": 5,
      "outputs": [
        {
          "output_type": "execute_result",
          "data": {
            "text/plain": [
              "0"
            ]
          },
          "metadata": {},
          "execution_count": 5
        }
      ]
    },
    {
      "cell_type": "code",
      "source": [
        "my_string = \"banana\"\n",
        "is_prefix = \"abcd\"\n",
        "solution(my_string, is_prefix)"
      ],
      "metadata": {
        "colab": {
          "base_uri": "https://localhost:8080/"
        },
        "id": "kzeNoYoAnZBz",
        "outputId": "afd089da-1ecf-48f5-c4a6-999a33e93b73"
      },
      "execution_count": 6,
      "outputs": [
        {
          "output_type": "execute_result",
          "data": {
            "text/plain": [
              "0"
            ]
          },
          "metadata": {},
          "execution_count": 6
        }
      ]
    },
    {
      "cell_type": "code",
      "source": [
        "my_string = \"banana\"\n",
        "is_prefix = \"bananan\"\n",
        "solution(my_string, is_prefix)"
      ],
      "metadata": {
        "colab": {
          "base_uri": "https://localhost:8080/"
        },
        "id": "KcxJ0mrinY-6",
        "outputId": "a1af316f-ca87-49bd-b857-aac678aba925"
      },
      "execution_count": 7,
      "outputs": [
        {
          "output_type": "execute_result",
          "data": {
            "text/plain": [
              "0"
            ]
          },
          "metadata": {},
          "execution_count": 7
        }
      ]
    },
    {
      "cell_type": "code",
      "source": [
        "# 다른 사람 풀이"
      ],
      "metadata": {
        "id": "TasTnudonY8I"
      },
      "execution_count": 8,
      "outputs": []
    },
    {
      "cell_type": "code",
      "source": [
        "# startswith() ??? ㅋㅋㅋ 신기한거네\n",
        "def solution(my_string, is_prefix):\n",
        "    return int(my_string.startswith(is_prefix))"
      ],
      "metadata": {
        "id": "W5ss-gRsoBT6"
      },
      "execution_count": 9,
      "outputs": []
    },
    {
      "cell_type": "code",
      "source": [],
      "metadata": {
        "id": "rFaDfOxRoGn5"
      },
      "execution_count": null,
      "outputs": []
    }
  ]
}