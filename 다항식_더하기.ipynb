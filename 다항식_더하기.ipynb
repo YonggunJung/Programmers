{
  "nbformat": 4,
  "nbformat_minor": 0,
  "metadata": {
    "colab": {
      "provenance": [],
      "authorship_tag": "ABX9TyO8hjPhuq3XBMm7l8XVrMs5",
      "include_colab_link": true
    },
    "kernelspec": {
      "name": "python3",
      "display_name": "Python 3"
    },
    "language_info": {
      "name": "python"
    }
  },
  "cells": [
    {
      "cell_type": "markdown",
      "metadata": {
        "id": "view-in-github",
        "colab_type": "text"
      },
      "source": [
        "<a href=\"https://colab.research.google.com/github/YonggunJung/Programmers/blob/main/%EB%8B%A4%ED%95%AD%EC%8B%9D_%EB%8D%94%ED%95%98%EA%B8%B0.ipynb\" target=\"_parent\"><img src=\"https://colab.research.google.com/assets/colab-badge.svg\" alt=\"Open In Colab\"/></a>"
      ]
    },
    {
      "cell_type": "code",
      "execution_count": null,
      "metadata": {
        "id": "54SKeLszsCSu"
      },
      "outputs": [],
      "source": [
        "# 문제 설명\n",
        "# 한 개 이상의 항의 합으로 이루어진 식을 다항식이라고 합니다.\n",
        "# 다항식을 계산할 때는 동류항끼리 계산해 정리합니다.\n",
        "# 덧셈으로 이루어진 다항식 polynomial이 매개변수로 주어질 때,\n",
        "# 동류항끼리 더한 결괏값을 문자열로 return 하도록 solution 함수를 완성해보세요.\n",
        "# 같은 식이라면 가장 짧은 수식을 return 합니다.\n",
        "\n",
        "# 제한사항\n",
        "# 0 < polynomial에 있는 수 < 100\n",
        "# polynomial에 변수는 'x'만 존재합니다.\n",
        "# polynomial은 양의 정수, 공백, ‘x’, ‘+'로 이루어져 있습니다.\n",
        "# 항과 연산기호 사이에는 항상 공백이 존재합니다.\n",
        "# 공백은 연속되지 않으며 시작이나 끝에는 공백이 없습니다.\n",
        "# 하나의 항에서 변수가 숫자 앞에 오는 경우는 없습니다.\n",
        "# \" + 3xx + + x7 + \"와 같은 잘못된 입력은 주어지지 않습니다.\n",
        "# 0으로 시작하는 수는 없습니다.\n",
        "# 문자와 숫자 사이의 곱하기는 생략합니다.\n",
        "# polynomial에는 일차 항과 상수항만 존재합니다.\n",
        "# 계수 1은 생략합니다.\n",
        "# 결괏값에 상수항은 마지막에 둡니다.\n",
        "# 0 < polynomial의 길이 < 50\n",
        "\n",
        "# 입출력 예\n",
        "# polynomial\t            result\n",
        "# \"3x + 7 + x\"\t          \"4x + 7\"\n",
        "# \"x + x + x\"\t            \"3x\"\n",
        "\n",
        "# 입출력 예 설명\n",
        "# 입출력 예 #1\n",
        "# \"3x + 7 + x\"에서 동류항끼리 더하면 \"4x + 7\"입니다.\n",
        "\n",
        "# 입출력 예 #2\n",
        "# \"x + x + x\"에서 동류항끼리 더하면 \"3x\"입니다."
      ]
    },
    {
      "cell_type": "code",
      "source": [
        "# 전혀 모르겠어서 풀이 봤는데\n",
        "# 풀이도 노답인 ㅠㅠ\n",
        "# 하나 하나 다 풀어 쓰는거임. 이때까지 나왔던거 총 집합 느낌\n",
        "def solution(polynomial):\n",
        "    answer = ''\n",
        "    n = 0\n",
        "    num  = 0\n",
        "    poly = polynomial.split(' + ')\n",
        "    for p in poly:\n",
        "        if p.isnumeric():\n",
        "            # 상수항\n",
        "            num += int(p)\n",
        "        else:\n",
        "            # 계수\n",
        "            if 'x' in p:\n",
        "                # x인경우\n",
        "                if len(p) == 1:\n",
        "                    n += 1\n",
        "                # nx인 경우\n",
        "                else:\n",
        "                    n += int(p[:-1])\n",
        "    # 계수가 0이 아닌경우\n",
        "    if num != 0:\n",
        "        if n == 1:\n",
        "            answer = 'x + '+str(num)\n",
        "        elif n > 1:\n",
        "            answer = str(n)+'x + '+str(num)\n",
        "        else:\n",
        "            answer = str(num)\n",
        "    else:\n",
        "        if n == 1:\n",
        "            answer = 'x'\n",
        "        else:\n",
        "            answer = str(n)+'x'\n",
        "    return answer"
      ],
      "metadata": {
        "id": "JksWG38rsSYU"
      },
      "execution_count": 1,
      "outputs": []
    },
    {
      "cell_type": "code",
      "source": [
        "polynomial = \"3x + 7 + x\"\n",
        "solution(polynomial)"
      ],
      "metadata": {
        "id": "R4d5ivWrsTGl"
      },
      "execution_count": null,
      "outputs": []
    },
    {
      "cell_type": "code",
      "source": [
        "polynomial = \"x + x + x\"\n",
        "solution(polynomial)"
      ],
      "metadata": {
        "id": "oL_kw2PusWkr"
      },
      "execution_count": null,
      "outputs": []
    },
    {
      "cell_type": "code",
      "source": [
        "# 다른 사람 풀이"
      ],
      "metadata": {
        "id": "Kn9yDoYqsWig"
      },
      "execution_count": 3,
      "outputs": []
    },
    {
      "cell_type": "code",
      "source": [
        "# 이거 깔끔하고 쉬움\n",
        "def solution(polynomial):\n",
        "    xnum = 0\n",
        "    const = 0\n",
        "    for c in polynomial.split(' + '):\n",
        "        if c.isdigit():\n",
        "            const+=int(c)\n",
        "        else:\n",
        "            xnum = xnum+1 if c=='x' else xnum+int(c[:-1])\n",
        "    if xnum == 0:\n",
        "        return str(const)\n",
        "    elif xnum==1:\n",
        "        return 'x + '+str(const) if const!=0 else 'x'\n",
        "    else:\n",
        "        return f'{xnum}x + {const}' if const!=0 else f'{xnum}x'"
      ],
      "metadata": {
        "id": "NuFdXOSI0D3S"
      },
      "execution_count": 5,
      "outputs": []
    },
    {
      "cell_type": "code",
      "source": [
        "# 또 새로운 방법\n",
        "# 약간 헷갈림\n",
        "T = \"00000\"\n",
        "def solution(polynomial):\n",
        "    polynomial = (\" \" + polynomial).replace(\" x\", \" 1x\")\n",
        "    eval_polynomial = eval(polynomial.lstrip().replace(\"x\", T))\n",
        "    result = \" + \".join(filter(lambda x : not 0 == int(x.replace(\"x\", \"\")), map(lambda x : \"\".join(x), zip(map(str, [eval_polynomial // 10 ** len(T), eval_polynomial % 10 ** len(T)]), [\"x\", \"\"]))))\n",
        "    return result[:2].replace(\"1x\", \"x\") + result[2:]"
      ],
      "metadata": {
        "id": "f3Gk9o0Y0kQo"
      },
      "execution_count": 6,
      "outputs": []
    },
    {
      "cell_type": "code",
      "source": [],
      "metadata": {
        "id": "ddxa9OER00eb"
      },
      "execution_count": null,
      "outputs": []
    }
  ]
}