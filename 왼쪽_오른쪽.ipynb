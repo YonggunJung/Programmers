{
  "nbformat": 4,
  "nbformat_minor": 0,
  "metadata": {
    "colab": {
      "provenance": [],
      "authorship_tag": "ABX9TyNoMteh3Q7grTX+/J22YKVo",
      "include_colab_link": true
    },
    "kernelspec": {
      "name": "python3",
      "display_name": "Python 3"
    },
    "language_info": {
      "name": "python"
    }
  },
  "cells": [
    {
      "cell_type": "markdown",
      "metadata": {
        "id": "view-in-github",
        "colab_type": "text"
      },
      "source": [
        "<a href=\"https://colab.research.google.com/github/YonggunJung/Programmers/blob/main/%EC%99%BC%EC%AA%BD_%EC%98%A4%EB%A5%B8%EC%AA%BD.ipynb\" target=\"_parent\"><img src=\"https://colab.research.google.com/assets/colab-badge.svg\" alt=\"Open In Colab\"/></a>"
      ]
    },
    {
      "cell_type": "code",
      "execution_count": 1,
      "metadata": {
        "id": "uYsUCSunf_7H"
      },
      "outputs": [],
      "source": [
        "# 문제 설명\n",
        "# 문자열 리스트 str_list에는 \"u\", \"d\", \"l\", \"r\" 네 개의 문자열이 여러 개 저장되어 있습니다.\n",
        "# str_list에서 \"l\"과 \"r\" 중 먼저 나오는 문자열이 \"l\"이라면 해당 문자열을 기준으로 왼쪽에 있는 문자열들을 순서대로 담은 리스트를, 먼저 나오는 문자열이 \"r\"이라면 해당 문자열을 기준으로 오른쪽에 있는 문자열들을 순서대로 담은 리스트를 return하도록 solution 함수를 완성해주세요. \"l\"이나 \"r\"이 없다면 빈 리스트를 return합니다.\n",
        "\n",
        "# 제한사항\n",
        "# 1 ≤ str_list의 길이 ≤ 20\n",
        "# str_list는 \"u\", \"d\", \"l\", \"r\" 네 개의 문자열로 이루어져 있습니다.\n",
        "\n",
        "# 입출력 예\n",
        "# str_list\t                  result\n",
        "# [\"u\", \"u\", \"l\", \"r\"]\t      [\"u\", \"u\"]\n",
        "# [\"l\"]\t                        []\n",
        "\n",
        "# 입출력 예 설명\n",
        "# 입출력 예 #1\n",
        "# \"r\"보다 \"l\"이 먼저 나왔기 때문에\n",
        "# \"l\"의 왼쪽에 있는 문자열들을 담은 리스트인 [\"u\", \"u\"]를 return합니다.\n",
        "\n",
        "# 입출력 예 #2\n",
        "# \"l\"의 왼쪽에 문자열이 없기 때문에 빈 리스트를 return합니다."
      ]
    },
    {
      "cell_type": "code",
      "source": [
        "# break 위치 설정 잘해야함\n",
        "def solution(str_list):\n",
        "    answer = []\n",
        "    for i in range(len(str_list)):\n",
        "      if str_list[i] == 'l':\n",
        "        answer = str_list[:i]\n",
        "        break\n",
        "      elif str_list[i] == 'r':\n",
        "        answer = str_list[i+1:]\n",
        "        break\n",
        "\n",
        "    return answer"
      ],
      "metadata": {
        "id": "vxb-d6cOgSZC"
      },
      "execution_count": 36,
      "outputs": []
    },
    {
      "cell_type": "code",
      "source": [
        "str_list = [\"u\", \"u\", \"l\", \"r\"]\n",
        "solution(str_list)"
      ],
      "metadata": {
        "colab": {
          "base_uri": "https://localhost:8080/"
        },
        "id": "tUolmIN8gUvf",
        "outputId": "6aa236c3-8afa-4baf-a02d-911ee59ce806"
      },
      "execution_count": 37,
      "outputs": [
        {
          "output_type": "execute_result",
          "data": {
            "text/plain": [
              "['u', 'u']"
            ]
          },
          "metadata": {},
          "execution_count": 37
        }
      ]
    },
    {
      "cell_type": "code",
      "source": [
        "str_list = [\"l\"]\n",
        "solution(str_list)"
      ],
      "metadata": {
        "colab": {
          "base_uri": "https://localhost:8080/"
        },
        "id": "ZEmlQAL7gWkM",
        "outputId": "aec94912-8b12-48cc-81aa-8dc7beaf1a8f"
      },
      "execution_count": 38,
      "outputs": [
        {
          "output_type": "execute_result",
          "data": {
            "text/plain": [
              "[]"
            ]
          },
          "metadata": {},
          "execution_count": 38
        }
      ]
    },
    {
      "cell_type": "code",
      "source": [
        "# 다른 사람 풀이"
      ],
      "metadata": {
        "id": "Bf0Wf4EtibcB"
      },
      "execution_count": 39,
      "outputs": []
    },
    {
      "cell_type": "code",
      "source": [
        "def solution(str_list):\n",
        "    for i, s in enumerate(str_list):\n",
        "        if s == 'l':\n",
        "            return str_list[:i]\n",
        "        elif s == 'r':\n",
        "            return str_list[i+1:]\n",
        "    return []"
      ],
      "metadata": {
        "id": "6rrIQ37ckl9K"
      },
      "execution_count": null,
      "outputs": []
    }
  ]
}