{
  "nbformat": 4,
  "nbformat_minor": 0,
  "metadata": {
    "colab": {
      "provenance": [],
      "authorship_tag": "ABX9TyPTm57BJLcIGv05udY4YxyD",
      "include_colab_link": true
    },
    "kernelspec": {
      "name": "python3",
      "display_name": "Python 3"
    },
    "language_info": {
      "name": "python"
    }
  },
  "cells": [
    {
      "cell_type": "markdown",
      "metadata": {
        "id": "view-in-github",
        "colab_type": "text"
      },
      "source": [
        "<a href=\"https://colab.research.google.com/github/YonggunJung/Programmers/blob/main/%EC%88%AB%EC%9E%90_%EB%B9%84%EA%B5%90%ED%95%98%EA%B8%B0.ipynb\" target=\"_parent\"><img src=\"https://colab.research.google.com/assets/colab-badge.svg\" alt=\"Open In Colab\"/></a>"
      ]
    },
    {
      "cell_type": "code",
      "execution_count": 1,
      "metadata": {
        "id": "Ey_-6Y9nEgQU"
      },
      "outputs": [],
      "source": [
        "# 문제 설명\n",
        "# 정수 num1과 num2가 매개변수로 주어집니다. 두 수가 같으면 1 다르면 -1을 retrun하도록 solution 함수를 완성해주세요.\n",
        "\n",
        "# 제한사항\n",
        "# 0 ≤ num1 ≤ 10,000\n",
        "# 0 ≤ num2 ≤ 10,000\n",
        "\n",
        "# 입출력 예\n",
        "# num1\tnum2\tresult\n",
        "#   2\t    3\t     -1\n",
        "#  11\t   11\t      1\n",
        "#   7\t   99\t     -1\n",
        "\n",
        "\n",
        "# 입출력 예 설명\n",
        "# 입출력 예 설명 #1\n",
        "# num1이 2이고 num2가 3이므로 다릅니다. 따라서 -1을 return합니다.\n",
        "\n",
        "# 입출력 예 설명 #2\n",
        "# num1이 11이고 num2가 11이므로 같습니다. 따라서 1을 return합니다.\n",
        "\n",
        "# 입출력 예 설명 #3\n",
        "# num1이 7이고 num2가 99이므로 다릅니다. 따라서 -1을 return합니다."
      ]
    },
    {
      "cell_type": "code",
      "source": [
        "def solution(num1, num2):\n",
        "    if num1 == num2:\n",
        "        return  1\n",
        "    else:\n",
        "        return  -1\n",
        "    return answer"
      ],
      "metadata": {
        "id": "aa1w_OgZEud5"
      },
      "execution_count": 2,
      "outputs": []
    },
    {
      "cell_type": "code",
      "source": [
        "solution(12454325, 1324532562)"
      ],
      "metadata": {
        "colab": {
          "base_uri": "https://localhost:8080/"
        },
        "id": "WpK6Ryn9Ezea",
        "outputId": "4f9a6e25-d51a-4ddf-aa68-d144219d5227"
      },
      "execution_count": 3,
      "outputs": [
        {
          "output_type": "execute_result",
          "data": {
            "text/plain": [
              "-1"
            ]
          },
          "metadata": {},
          "execution_count": 3
        }
      ]
    },
    {
      "cell_type": "code",
      "source": [
        "solution(5, 5)"
      ],
      "metadata": {
        "colab": {
          "base_uri": "https://localhost:8080/"
        },
        "id": "yYvASRhTE8Up",
        "outputId": "e9544834-d7ae-415d-881d-3cd563a2e74f"
      },
      "execution_count": 4,
      "outputs": [
        {
          "output_type": "execute_result",
          "data": {
            "text/plain": [
              "1"
            ]
          },
          "metadata": {},
          "execution_count": 4
        }
      ]
    },
    {
      "cell_type": "code",
      "source": [],
      "metadata": {
        "id": "C9x9LWetE_oi"
      },
      "execution_count": null,
      "outputs": []
    }
  ]
}