{
  "nbformat": 4,
  "nbformat_minor": 0,
  "metadata": {
    "colab": {
      "provenance": [],
      "authorship_tag": "ABX9TyMP7RnkXOOj/bJ95gop0YAC",
      "include_colab_link": true
    },
    "kernelspec": {
      "name": "python3",
      "display_name": "Python 3"
    },
    "language_info": {
      "name": "python"
    }
  },
  "cells": [
    {
      "cell_type": "markdown",
      "metadata": {
        "id": "view-in-github",
        "colab_type": "text"
      },
      "source": [
        "<a href=\"https://colab.research.google.com/github/YonggunJung/Programmers/blob/main/%EC%A0%95%EC%82%AC%EA%B0%81%ED%98%95%EC%9C%BC%EB%A1%9C_%EB%A7%8C%EB%93%A4%EA%B8%B0.ipynb\" target=\"_parent\"><img src=\"https://colab.research.google.com/assets/colab-badge.svg\" alt=\"Open In Colab\"/></a>"
      ]
    },
    {
      "cell_type": "code",
      "execution_count": null,
      "metadata": {
        "id": "Qsvuk5baAOly"
      },
      "outputs": [],
      "source": [
        "# 문제 설명\n",
        "# 이차원 정수 배열 arr이 매개변수로 주어집니다.\n",
        "# arr의 행의 수가 더 많다면 열의 수가 행의 수와 같아지도록 각 행의 끝에 0을 추가하고,\n",
        "# 열의 수가 더 많다면 행의 수가 열의 수와 같아지도록 각 열의 끝에 0을 추가한 이차원 배열을\n",
        "# return 하는 solution 함수를 작성해 주세요.\n",
        "\n",
        "# 제한사항\n",
        "# 1 ≤ arr의 길이 ≤ 100\n",
        "# 1 ≤ arr의 원소의 길이 ≤ 100\n",
        "# arr의 모든 원소의 길이는 같습니다.\n",
        "# 1 ≤ arr의 원소의 원소 ≤ 1,000\n",
        "\n",
        "# 입출력 예\n",
        "# arr\t                                                                      result\n",
        "# [[572, 22, 37], [287, 726, 384], [85, 137, 292], [487, 13, 876]]\t        [[572, 22, 37, 0], [287, 726, 384, 0], [85, 137, 292, 0], [487, 13, 876, 0]]\n",
        "# [[57, 192, 534, 2], [9, 345, 192, 999]]\t                                  [[57, 192, 534, 2], [9, 345, 192, 999], [0, 0, 0, 0], [0, 0, 0, 0]]\n",
        "# [[1, 2], [3, 4]]\t                                                        [[1, 2], [3, 4]]\n",
        "\n",
        "# 입출력 예 설명\n",
        "# 입출력 예 #1\n",
        "# 예제 1번의 arr은 행의 수가 4, 열의 수가 3입니다.\n",
        "# 행의 수가 더 많으므로 열의 수를 4로 만들기 위해 arr의 각 행의 끝에 0을 추가한\n",
        "# 이차원 배열 [[572, 22, 37, 0], [287, 726, 384, 0], [85, 137, 292, 0], [487, 13, 876, 0]]를\n",
        "# return 합니다.\n",
        "\n",
        "# 입출력 예 #2\n",
        "# 예제 2번의 arr은 행의 수가 2, 열의 수가 4입니다.\n",
        "# 열의 수가 더 많으므로 행의 수를 4로 만들기 위해 arr의 각 열의 끝에 0을 추가한\n",
        "# 이차원 배열 [[57, 192, 534, 2], [9, 345, 192, 999], [0, 0, 0, 0], [0, 0, 0, 0]]을\n",
        "# return 합니다.\n",
        "\n",
        "# 입출력 예 #3\n",
        "# 예제 3번의 arr은 행의 수와 열의 수가 2로 같습니다.\n",
        "# 따라서 0을 추가하지 않고 [[1, 2], [3, 4]]을 return 합니다."
      ]
    },
    {
      "cell_type": "code",
      "source": [
        "# 풀이\n",
        "# 풀이 보고도 내 반례 생각 못한거 매우 아쉬움\n",
        "def solution(arr):\n",
        "\n",
        "    row = len(arr)\n",
        "    column = len(arr[0])\n",
        "\n",
        "    if row > column:\n",
        "        for i in range(row):\n",
        "            for j in range(row - column):\n",
        "                arr[i].append(0)\n",
        "    elif row < column:\n",
        "        for i in range(column - row):\n",
        "            arr.append([0] * column)\n",
        "\n",
        "    return arr"
      ],
      "metadata": {
        "id": "gmK-KR3BfS2d"
      },
      "execution_count": null,
      "outputs": []
    },
    {
      "cell_type": "code",
      "source": [
        "# 이게 왜 안될까 ㅠㅠ\n",
        "# 질문하고 반례 보자마자 바로 해결 ㅋㅋㅋㅋ\n",
        "def solution(arr):\n",
        "    for i in range(len(arr)):\n",
        "      if len(arr) > len(arr[i]):\n",
        "        arr[i] = arr[i] + ([0] * (len(arr) - len(arr[i])))     # (len(arr) - len(arr[i]) 이건 생각 해놓고 밑에껀 생각 못한게 아쉽네 ㅠㅠ\n",
        "      elif len(arr) < len(arr[i]):\n",
        "        arr = arr + ([[0] * len(arr[i])] * (len(arr[i]) - len(arr)))  # (len(arr[i]) - len(arr))) 여기 이부분이 문제였음\n",
        "    answer = arr\n",
        "    return answer"
      ],
      "metadata": {
        "id": "MXYTExZ7ArxT"
      },
      "execution_count": 6,
      "outputs": []
    },
    {
      "cell_type": "code",
      "source": [
        "# 이게 내가 받은 반례\n",
        "arr =  [[1,2,3]]\n",
        "solution(arr)"
      ],
      "metadata": {
        "colab": {
          "base_uri": "https://localhost:8080/"
        },
        "id": "IxQHM7rxzLiW",
        "outputId": "e185be35-4c06-4af8-9393-fcf8265bc859"
      },
      "execution_count": 7,
      "outputs": [
        {
          "output_type": "execute_result",
          "data": {
            "text/plain": [
              "[[1, 2, 3], [0, 0, 0], [0, 0, 0]]"
            ]
          },
          "metadata": {},
          "execution_count": 7
        }
      ]
    },
    {
      "cell_type": "code",
      "source": [
        "# 다른 사람 반례(바로 통과)\n",
        "arr = [[1, 1], [1, 1], [1, 1], [1, 1]]\n",
        "solution(arr)"
      ],
      "metadata": {
        "colab": {
          "base_uri": "https://localhost:8080/"
        },
        "id": "t0Se0_n0L-py",
        "outputId": "f7d0d937-8c9c-4725-dd67-13e27be82422"
      },
      "execution_count": 8,
      "outputs": [
        {
          "output_type": "execute_result",
          "data": {
            "text/plain": [
              "[[1, 1, 0, 0], [1, 1, 0, 0], [1, 1, 0, 0], [1, 1, 0, 0]]"
            ]
          },
          "metadata": {},
          "execution_count": 8
        }
      ]
    },
    {
      "cell_type": "code",
      "source": [
        "# 다른 사람 반례(바로 통과)\n",
        "arr = [[1, 1, 1], [1, 1, 1]]\n",
        "solution(arr)"
      ],
      "metadata": {
        "colab": {
          "base_uri": "https://localhost:8080/"
        },
        "id": "GL1LzMHrMHmb",
        "outputId": "b76973cc-bcea-4770-d76a-5e006249118b"
      },
      "execution_count": 9,
      "outputs": [
        {
          "output_type": "execute_result",
          "data": {
            "text/plain": [
              "[[1, 1, 1], [1, 1, 1], [0, 0, 0]]"
            ]
          },
          "metadata": {},
          "execution_count": 9
        }
      ]
    },
    {
      "cell_type": "code",
      "source": [
        "arr = [[572, 22, 37], [287, 726, 384], [85, 137, 292], [487, 13, 876]]\n",
        "solution(arr)\n",
        "# arr[1] = arr[1] + [0]\n",
        "# arr\n",
        "# len(arr)\n",
        "# len(arr[1])"
      ],
      "metadata": {
        "colab": {
          "base_uri": "https://localhost:8080/"
        },
        "id": "LrAZ6NUxAuH5",
        "outputId": "973c488e-9f90-48f4-fbef-3b6a40a74c23"
      },
      "execution_count": null,
      "outputs": [
        {
          "output_type": "execute_result",
          "data": {
            "text/plain": [
              "[[572, 22, 37, 0], [287, 726, 384, 0], [85, 137, 292, 0], [487, 13, 876, 0]]"
            ]
          },
          "metadata": {},
          "execution_count": 83
        }
      ]
    },
    {
      "cell_type": "code",
      "source": [
        "arr = [[57, 192, 534, 2], [9, 345, 192, 999]]\n",
        "solution(arr)\n",
        "# arr + [[0]*len(arr[1])]"
      ],
      "metadata": {
        "colab": {
          "base_uri": "https://localhost:8080/"
        },
        "id": "3FN_rTx9Av_m",
        "outputId": "13515bc9-3ae5-4dcb-cbae-31b6dcd282f7"
      },
      "execution_count": null,
      "outputs": [
        {
          "output_type": "execute_result",
          "data": {
            "text/plain": [
              "[[57, 192, 534, 2], [9, 345, 192, 999], [0, 0, 0, 0], [0, 0, 0, 0]]"
            ]
          },
          "metadata": {},
          "execution_count": 84
        }
      ]
    },
    {
      "cell_type": "code",
      "source": [
        "arr = [[1, 2], [3, 4]]\n",
        "solution(arr)"
      ],
      "metadata": {
        "colab": {
          "base_uri": "https://localhost:8080/"
        },
        "id": "7V7OpGwPAv8L",
        "outputId": "081aa07f-ae6f-48e8-dec0-2b70f451ec0e"
      },
      "execution_count": null,
      "outputs": [
        {
          "output_type": "execute_result",
          "data": {
            "text/plain": [
              "[[1, 2], [3, 4]]"
            ]
          },
          "metadata": {},
          "execution_count": 72
        }
      ]
    },
    {
      "cell_type": "code",
      "source": [
        "# 다른 사람 풀이"
      ],
      "metadata": {
        "id": "cBncKs-xAv5c"
      },
      "execution_count": null,
      "outputs": []
    },
    {
      "cell_type": "code",
      "source": [],
      "metadata": {
        "id": "8bdUbca7A0-U"
      },
      "execution_count": null,
      "outputs": []
    }
  ]
}