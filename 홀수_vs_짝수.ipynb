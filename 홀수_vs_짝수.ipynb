{
  "nbformat": 4,
  "nbformat_minor": 0,
  "metadata": {
    "colab": {
      "provenance": [],
      "authorship_tag": "ABX9TyO5DybRsIN1asOyiwJ21sCH",
      "include_colab_link": true
    },
    "kernelspec": {
      "name": "python3",
      "display_name": "Python 3"
    },
    "language_info": {
      "name": "python"
    }
  },
  "cells": [
    {
      "cell_type": "markdown",
      "metadata": {
        "id": "view-in-github",
        "colab_type": "text"
      },
      "source": [
        "<a href=\"https://colab.research.google.com/github/YonggunJung/Programmers/blob/main/%ED%99%80%EC%88%98_vs_%EC%A7%9D%EC%88%98.ipynb\" target=\"_parent\"><img src=\"https://colab.research.google.com/assets/colab-badge.svg\" alt=\"Open In Colab\"/></a>"
      ]
    },
    {
      "cell_type": "code",
      "execution_count": 1,
      "metadata": {
        "id": "FDSlN4I7hW_6"
      },
      "outputs": [],
      "source": [
        "# 문제 설명\n",
        "# 정수 리스트 num_list가 주어집니다.\n",
        "# 가장 첫 번째 원소를 1번 원소라고 할 때,\n",
        "# 홀수 번째 원소들의 합과 짝수 번째 원소들의 합 중 큰 값을 return 하도록\n",
        "# solution 함수를 완성해주세요. 두 값이 같을 경우 그 값을 return합니다.\n",
        "\n",
        "# 제한사항\n",
        "# 5 ≤ num_list의 길이 ≤ 50\n",
        "# -9 ≤ num_list의 원소 ≤ 9\n",
        "\n",
        "# 입출력 예\n",
        "# num_list\t                result\n",
        "# [4, 2, 6, 1, 7, 6]\t        17\n",
        "# [-1, 2, 5, 6, 3]\t          8\n",
        "\n",
        "# 입출력 예 설명\n",
        "# 입출력 예 #1\n",
        "# 홀수 번째 원소들의 합은 4 + 6 + 7 = 17,\n",
        "# 짝수 번째 원소들의 합은 2 + 1 + 6 = 9 이므로 17을 return합니다.\n",
        "\n",
        "# 입출력 예 #2\n",
        "# 홀수 번째 원소들의 합은 -1 + 5 + 3 = 7,\n",
        "# 짝수 번째 원소들의 합은 2 + 6 = 8 이므로 8을 return합니다."
      ]
    },
    {
      "cell_type": "code",
      "source": [
        "def solution(num_list):\n",
        "    e = 0\n",
        "    o = 0\n",
        "    for idx, i in enumerate(num_list):\n",
        "      if idx % 2 == 0:\n",
        "        e += i\n",
        "      else:\n",
        "        o += i\n",
        "    answer = max(e, o)\n",
        "\n",
        "    return answer"
      ],
      "metadata": {
        "id": "lech6kVzhfTB"
      },
      "execution_count": 8,
      "outputs": []
    },
    {
      "cell_type": "code",
      "source": [
        "num_list = [4, 2, 6, 1, 7, 6]\n",
        "solution(num_list)"
      ],
      "metadata": {
        "colab": {
          "base_uri": "https://localhost:8080/"
        },
        "id": "fBClj4s2hgMC",
        "outputId": "fae4575a-0d72-4997-d4a7-417cb97e84ac"
      },
      "execution_count": 9,
      "outputs": [
        {
          "output_type": "execute_result",
          "data": {
            "text/plain": [
              "17"
            ]
          },
          "metadata": {},
          "execution_count": 9
        }
      ]
    },
    {
      "cell_type": "code",
      "source": [
        "num_list = [-1, 2, 5, 6, 3]\n",
        "solution(num_list)"
      ],
      "metadata": {
        "colab": {
          "base_uri": "https://localhost:8080/"
        },
        "id": "8ejeAaFLhi-E",
        "outputId": "f580377e-9748-4236-e3f3-aaa4dff6768c"
      },
      "execution_count": 10,
      "outputs": [
        {
          "output_type": "execute_result",
          "data": {
            "text/plain": [
              "8"
            ]
          },
          "metadata": {},
          "execution_count": 10
        }
      ]
    },
    {
      "cell_type": "code",
      "source": [
        "# 다른 사람 풀이"
      ],
      "metadata": {
        "id": "MvlE0GWXioyI"
      },
      "execution_count": 11,
      "outputs": []
    },
    {
      "cell_type": "code",
      "source": [
        "# 멋지고만\n",
        "def solution(num_list):\n",
        "    return max(sum(num_list[::2]), sum(num_list[1::2]))"
      ],
      "metadata": {
        "id": "nM0zzjFrivap"
      },
      "execution_count": 12,
      "outputs": []
    },
    {
      "cell_type": "code",
      "source": [],
      "metadata": {
        "id": "piHGiGIYizBJ"
      },
      "execution_count": null,
      "outputs": []
    }
  ]
}