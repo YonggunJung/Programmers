{
  "nbformat": 4,
  "nbformat_minor": 0,
  "metadata": {
    "colab": {
      "provenance": [],
      "authorship_tag": "ABX9TyMKJOfy1tCkCoGISoh3Awl3",
      "include_colab_link": true
    },
    "kernelspec": {
      "name": "python3",
      "display_name": "Python 3"
    },
    "language_info": {
      "name": "python"
    }
  },
  "cells": [
    {
      "cell_type": "markdown",
      "metadata": {
        "id": "view-in-github",
        "colab_type": "text"
      },
      "source": [
        "<a href=\"https://colab.research.google.com/github/YonggunJung/Programmers/blob/main/%EB%91%90_%EC%88%98%EC%9D%98_%ED%95%A9.ipynb\" target=\"_parent\"><img src=\"https://colab.research.google.com/assets/colab-badge.svg\" alt=\"Open In Colab\"/></a>"
      ]
    },
    {
      "cell_type": "code",
      "execution_count": 1,
      "metadata": {
        "id": "DMPbJL8q5IVB"
      },
      "outputs": [],
      "source": [
        "# 문제 설명\n",
        "# 0 이상의 두 정수가 문자열 a, b로 주어질 때,\n",
        "# a + b의 값을 문자열로 return 하는 solution 함수를 작성해 주세요.\n",
        "\n",
        "# 제한사항\n",
        "# 1 ≤ a의 길이 ≤ 100,000\n",
        "# 1 ≤ b의 길이 ≤ 100,000\n",
        "# a와 b는 숫자로만 이루어져 있습니다.\n",
        "# a와 b는 정수 0이 아니라면 0으로 시작하지 않습니다.\n",
        "\n",
        "# 입출력 예\n",
        "# a                         \tb\t                          result\n",
        "# \"582\"\t                      \"734\"\t                      \"1316\"\n",
        "# \"18446744073709551615\"\t    \"287346502836570928366\"\t    \"305793246910280479981\"\n",
        "# \"0\"\t                        \"0\"\t                        \"0\"\n",
        "\n",
        "# 입출력 예 설명\n",
        "# 입출력 예 #1\n",
        "# 예제 1번의 a, b는 각각 582, 734이고 582 + 734 = 1316입니다.\n",
        "# 따라서 \"1316\"을 return 합니다.\n",
        "\n",
        "# 입출력 예 #2\n",
        "# 예제 2번의 a, b는 각각 18446744073709551615, 287346502836570928366이고\n",
        "# 18446744073709551615 + 287346502836570928366 = 305793246910280479981입니다.\n",
        "# 따라서 \"305793246910280479981\"을 return 합니다.\n",
        "\n",
        "# 입출력 예 #3\n",
        "# 예제 3번의 a, b는 각각 0, 0이고 0 + 0 = 0입니다. 따라서 \"0\"을 return 합니다."
      ]
    },
    {
      "cell_type": "code",
      "source": [
        "def solution(a, b):\n",
        "    answer = str(int(a) + int(b))\n",
        "\n",
        "    return answer"
      ],
      "metadata": {
        "id": "piW5MKf35WEx"
      },
      "execution_count": 3,
      "outputs": []
    },
    {
      "cell_type": "code",
      "source": [
        "a = \"582\"\n",
        "b = \"734\"\n",
        "solution(a, b)"
      ],
      "metadata": {
        "colab": {
          "base_uri": "https://localhost:8080/",
          "height": 35
        },
        "id": "YHb4JUXE5X63",
        "outputId": "6096694e-05d5-4346-9868-3a197a77a400"
      },
      "execution_count": 4,
      "outputs": [
        {
          "output_type": "execute_result",
          "data": {
            "text/plain": [
              "'1316'"
            ],
            "application/vnd.google.colaboratory.intrinsic+json": {
              "type": "string"
            }
          },
          "metadata": {},
          "execution_count": 4
        }
      ]
    },
    {
      "cell_type": "code",
      "source": [
        "a = \"18446744073709551615\"\n",
        "b = \"287346502836570928366\"\n",
        "solution(a, b)"
      ],
      "metadata": {
        "colab": {
          "base_uri": "https://localhost:8080/",
          "height": 35
        },
        "id": "Igtj3aok5bAi",
        "outputId": "09701f8e-7b0e-4d0f-b478-8ff386f5691c"
      },
      "execution_count": 5,
      "outputs": [
        {
          "output_type": "execute_result",
          "data": {
            "text/plain": [
              "'305793246910280479981'"
            ],
            "application/vnd.google.colaboratory.intrinsic+json": {
              "type": "string"
            }
          },
          "metadata": {},
          "execution_count": 5
        }
      ]
    },
    {
      "cell_type": "code",
      "source": [
        "a = \"0\"\n",
        "b = \"0\"\n",
        "solution(a, b)"
      ],
      "metadata": {
        "colab": {
          "base_uri": "https://localhost:8080/",
          "height": 35
        },
        "id": "QouUx3k75a4M",
        "outputId": "e624f54e-5987-4310-a8af-bb0123627eda"
      },
      "execution_count": 6,
      "outputs": [
        {
          "output_type": "execute_result",
          "data": {
            "text/plain": [
              "'0'"
            ],
            "application/vnd.google.colaboratory.intrinsic+json": {
              "type": "string"
            }
          },
          "metadata": {},
          "execution_count": 6
        }
      ]
    },
    {
      "cell_type": "code",
      "source": [
        "# 다른 사람 풀이"
      ],
      "metadata": {
        "id": "eqWmsNYQ5a12"
      },
      "execution_count": 7,
      "outputs": []
    },
    {
      "cell_type": "code",
      "source": [
        "def solution(a, b):\n",
        "    return str(sum([int(a),int(b)]))"
      ],
      "metadata": {
        "id": "EFQKYKff50nS"
      },
      "execution_count": 8,
      "outputs": []
    },
    {
      "cell_type": "code",
      "source": [],
      "metadata": {
        "id": "pwoOAGj_54jv"
      },
      "execution_count": null,
      "outputs": []
    }
  ]
}