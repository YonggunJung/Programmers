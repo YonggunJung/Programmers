{
  "nbformat": 4,
  "nbformat_minor": 0,
  "metadata": {
    "colab": {
      "provenance": [],
      "authorship_tag": "ABX9TyMTeb6imss5tJO1bwYtbiYu",
      "include_colab_link": true
    },
    "kernelspec": {
      "name": "python3",
      "display_name": "Python 3"
    },
    "language_info": {
      "name": "python"
    }
  },
  "cells": [
    {
      "cell_type": "markdown",
      "metadata": {
        "id": "view-in-github",
        "colab_type": "text"
      },
      "source": [
        "<a href=\"https://colab.research.google.com/github/YonggunJung/Programmers/blob/main/%EB%91%90_%EC%88%98%EC%9D%98_%ED%95%A9.ipynb\" target=\"_parent\"><img src=\"https://colab.research.google.com/assets/colab-badge.svg\" alt=\"Open In Colab\"/></a>"
      ]
    },
    {
      "cell_type": "code",
      "execution_count": null,
      "metadata": {
        "id": "8-Pav99iLGvO"
      },
      "outputs": [],
      "source": [
        "# 문제 설명\n",
        "# 정수 num1과 num2가 주어질 때, num1과 num2의 합을 return하도록 soltuion 함수를 완성해주세요.\n",
        "\n",
        "# 제한사항\n",
        "# -50,000 ≤ num1 ≤ 50,000\n",
        "# -50,000 ≤ num2 ≤ 50,000\n",
        "\n",
        "# 입출력 예\n",
        "# num1\tnum2\tresult\n",
        "#   2\t    3\t      5\n",
        "# 100\t    2\t    102\n",
        "\n",
        "# 입출력 예 설명\n",
        "# 입출력 예 #1\n",
        "# num1이 2이고 num2가 3이므로 2 + 3 = 5를 return합니다.\n",
        "\n",
        "# 입출력 예 #2\n",
        "# num1이 100이고 num2가 2이므로 100 + 2 = 102를 return합니다."
      ]
    },
    {
      "cell_type": "code",
      "source": [
        "def solution(num1, num2):\n",
        "    answer = num1 + num2\n",
        "    return answer\n",
        ""
      ],
      "metadata": {
        "id": "waRzYb_rLV_r"
      },
      "execution_count": 1,
      "outputs": []
    },
    {
      "cell_type": "code",
      "source": [
        "solution(2, 3)"
      ],
      "metadata": {
        "colab": {
          "base_uri": "https://localhost:8080/"
        },
        "id": "GYX-vhhtLZjS",
        "outputId": "d36447c0-8955-4a81-81d5-ff43354ca0a1"
      },
      "execution_count": 3,
      "outputs": [
        {
          "output_type": "execute_result",
          "data": {
            "text/plain": [
              "5"
            ]
          },
          "metadata": {},
          "execution_count": 3
        }
      ]
    },
    {
      "cell_type": "code",
      "source": [
        "solution(100, 2)"
      ],
      "metadata": {
        "colab": {
          "base_uri": "https://localhost:8080/"
        },
        "id": "0YV7RVqvLfs6",
        "outputId": "d3f9ed42-4d95-40ec-c836-2f189d4a49c7"
      },
      "execution_count": 4,
      "outputs": [
        {
          "output_type": "execute_result",
          "data": {
            "text/plain": [
              "102"
            ]
          },
          "metadata": {},
          "execution_count": 4
        }
      ]
    },
    {
      "cell_type": "code",
      "source": [],
      "metadata": {
        "id": "X5tEqud6Liei"
      },
      "execution_count": null,
      "outputs": []
    }
  ]
}