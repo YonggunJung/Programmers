{
  "nbformat": 4,
  "nbformat_minor": 0,
  "metadata": {
    "colab": {
      "provenance": [],
      "authorship_tag": "ABX9TyOWhR4f5xlLyg1gCvPr9Fde",
      "include_colab_link": true
    },
    "kernelspec": {
      "name": "python3",
      "display_name": "Python 3"
    },
    "language_info": {
      "name": "python"
    }
  },
  "cells": [
    {
      "cell_type": "markdown",
      "metadata": {
        "id": "view-in-github",
        "colab_type": "text"
      },
      "source": [
        "<a href=\"https://colab.research.google.com/github/YonggunJung/Programmers/blob/main/%EC%96%91%EA%BC%AC%EC%B9%98.ipynb\" target=\"_parent\"><img src=\"https://colab.research.google.com/assets/colab-badge.svg\" alt=\"Open In Colab\"/></a>"
      ]
    },
    {
      "cell_type": "code",
      "execution_count": null,
      "metadata": {
        "id": "41z_hTtmQB-2"
      },
      "outputs": [],
      "source": [
        "# 문제 설명\n",
        "# 머쓱이네 양꼬치 가게는 10인분을 먹으면 음료수 하나를 서비스로 줍니다.\n",
        "# 양꼬치는 1인분에 12,000원, 음료수는 2,000원입니다.\n",
        "# 정수 n과 k가 매개변수로 주어졌을 때,\n",
        "# 양꼬치 n인분과 음료수 k개를 먹었다면 총얼마를 지불해야 하는지 return 하도록 solution 함수를 완성해보세요.\n",
        "\n",
        "# 제한사항\n",
        "# 0 < n < 1,000\n",
        "# n / 10 ≤ k < 1,000\n",
        "# 서비스로 받은 음료수는 모두 마십니다.\n",
        "\n",
        "\n",
        "# 입출력 예\n",
        "# n\t        k\t      result\n",
        "# 10\t      3\t      124,000\n",
        "# 64\t      6\t      768,000\n",
        "\n",
        "# 입출력 예 설명\n",
        "# 입출력 예 #1\n",
        "# 10인분을 시켜 서비스로 음료수를 하나 받아 총 10 * 12000 + 3 * 2000 - 1 * 2000 = 124,000원입니다.\n",
        "\n",
        "# 입출력 예 #2\n",
        "# 64인분을 시켜 서비스로 음료수를 6개 받아 총 64 * 12000 + 6 * 2000 - 6 * 2000 =768,000원입니다.\n"
      ]
    },
    {
      "cell_type": "code",
      "source": [
        "def solution(n, k):\n",
        "    k = k * 2000 - (n//10 * 2000)\n",
        "    n = n * 12000\n",
        "    answer = n + k\n",
        "    return answer"
      ],
      "metadata": {
        "id": "5g5vHs9DQqvc"
      },
      "execution_count": 1,
      "outputs": []
    },
    {
      "cell_type": "code",
      "source": [
        "n = 10\n",
        "k = 3\n",
        "solution(n, k)"
      ],
      "metadata": {
        "colab": {
          "base_uri": "https://localhost:8080/"
        },
        "id": "c0hRkS31RvNT",
        "outputId": "6af32b26-91cd-46ce-8f6e-2b62d6f3a011"
      },
      "execution_count": 2,
      "outputs": [
        {
          "output_type": "execute_result",
          "data": {
            "text/plain": [
              "124000"
            ]
          },
          "metadata": {},
          "execution_count": 2
        }
      ]
    },
    {
      "cell_type": "code",
      "source": [
        "n = 64\n",
        "k = 6\n",
        "solution(n, k)"
      ],
      "metadata": {
        "colab": {
          "base_uri": "https://localhost:8080/"
        },
        "id": "nCG_meA4R7H3",
        "outputId": "90667076-da0e-4466-d3f9-c6e05d8ec665"
      },
      "execution_count": 3,
      "outputs": [
        {
          "output_type": "execute_result",
          "data": {
            "text/plain": [
              "768000"
            ]
          },
          "metadata": {},
          "execution_count": 3
        }
      ]
    },
    {
      "cell_type": "code",
      "source": [
        "# 다른사람 풀이"
      ],
      "metadata": {
        "id": "vfnRYRWdSEIP"
      },
      "execution_count": 4,
      "outputs": []
    },
    {
      "cell_type": "code",
      "source": [
        "# 문제 먼저 풀고 계산한 타입\n",
        "def solution(n, k):\n",
        "    service = n//10\n",
        "    drink = max(0, k-service)\n",
        "    return (12000*n)+(2000*drink)"
      ],
      "metadata": {
        "id": "3C77cKZpSWB7"
      },
      "execution_count": 5,
      "outputs": []
    },
    {
      "cell_type": "code",
      "source": [
        "# 이거 깔끔하고 좋음\n",
        "def solution(n, k):\n",
        "    return 12000 * n + 2000 * (k - n // 10)"
      ],
      "metadata": {
        "id": "vHjuBZueSut_"
      },
      "execution_count": null,
      "outputs": []
    }
  ]
}