{
  "nbformat": 4,
  "nbformat_minor": 0,
  "metadata": {
    "colab": {
      "provenance": [],
      "authorship_tag": "ABX9TyM0XXE5j6z5C7QhPWUsClE3",
      "include_colab_link": true
    },
    "kernelspec": {
      "name": "python3",
      "display_name": "Python 3"
    },
    "language_info": {
      "name": "python"
    }
  },
  "cells": [
    {
      "cell_type": "markdown",
      "metadata": {
        "id": "view-in-github",
        "colab_type": "text"
      },
      "source": [
        "<a href=\"https://colab.research.google.com/github/YonggunJung/Programmers/blob/main/%EB%93%B1%EC%88%98_%EB%A7%A4%EA%B8%B0%EA%B8%B0.ipynb\" target=\"_parent\"><img src=\"https://colab.research.google.com/assets/colab-badge.svg\" alt=\"Open In Colab\"/></a>"
      ]
    },
    {
      "cell_type": "code",
      "execution_count": 1,
      "metadata": {
        "id": "RtV3tLhoLAda"
      },
      "outputs": [],
      "source": [
        "# 문제 설명\n",
        "# 영어 점수와 수학 점수의 평균 점수를 기준으로 학생들의 등수를 매기려고 합니다.\n",
        "# 영어 점수와 수학 점수를 담은 2차원 정수 배열 score가 주어질 때,\n",
        "# 영어 점수와 수학 점수의 평균을 기준으로 매긴 등수를 담은 배열을\n",
        "# return하도록 solution 함수를 완성해주세요.\n",
        "\n",
        "# 제한사항\n",
        "# 0 ≤ score[0], score[1] ≤ 100\n",
        "# 1 ≤ score의 길이 ≤ 10\n",
        "# score의 원소 길이는 2입니다.\n",
        "# score는 중복된 원소를 갖지 않습니다.\n",
        "\n",
        "# 입출력 예\n",
        "# score\t                                                                        result\n",
        "# [[80, 70], [90, 50], [40, 70], [50, 80]]\t                                    [1, 2, 4, 3]\n",
        "# [[80, 70], [70, 80], [30, 50], [90, 100], [100, 90], [100, 100], [10, 30]]\t  [4, 4, 6, 2, 2, 1, 7]\n",
        "\n",
        "# 입출력 예 설명\n",
        "# 입출력 예 #1\n",
        "# 평균은 각각 75, 70, 55, 65 이므로 등수를 매겨 [1, 2, 4, 3]을 return합니다.\n",
        "\n",
        "# 입출력 예 #2\n",
        "# 평균은 각각 75, 75, 40, 95, 95, 100, 20 이므로 [4, 4, 6, 2, 2, 1, 7] 을 return합니다.\n",
        "# 공동 2등이 두 명, 공동 4등이 2명 이므로 3등과 5등은 없습니다."
      ]
    },
    {
      "cell_type": "code",
      "source": [
        "# 안될거 같았는데 결구 안됨 ㅠㅠ풀이봄\n",
        "def solution(score):\n",
        "    answer = []\n",
        "    ms = [(s[0]+s[1])/2 for s in score] # 다 2개씩이라서 합으로 해줘도 상관은 없음 일단 평균이라 해서\n",
        "    sorts = sorted(ms, reverse = True) # 내림 차순으로 정렬\n",
        "\n",
        "    for i in ms:\n",
        "      answer.append(sorts.index(i) +1) # i를 ms에 넣어서 그 i 와 같은 수를 sorts를 찾아 인덱스에 1을 더해서 append해줌\n",
        "                                        #  이렇게 하면 동수를 굳이 신경 안써도 됨\n",
        "\n",
        "\n",
        "    return answer"
      ],
      "metadata": {
        "id": "qgd7NUZZLS_e"
      },
      "execution_count": 15,
      "outputs": []
    },
    {
      "cell_type": "code",
      "source": [
        "score = [[80, 70], [90, 50], [40, 70], [50, 80]]\n",
        "solution(score)"
      ],
      "metadata": {
        "colab": {
          "base_uri": "https://localhost:8080/"
        },
        "id": "7PU07XoVLsHU",
        "outputId": "758ff911-57a2-40f3-e1b8-fe3d08c42944"
      },
      "execution_count": 16,
      "outputs": [
        {
          "output_type": "execute_result",
          "data": {
            "text/plain": [
              "[1, 2, 4, 3]"
            ]
          },
          "metadata": {},
          "execution_count": 16
        }
      ]
    },
    {
      "cell_type": "code",
      "source": [
        "score = [[80, 70], [70, 80], [30, 50], [90, 100], [100, 90], [100, 100], [10, 30]]\n",
        "solution(score)"
      ],
      "metadata": {
        "colab": {
          "base_uri": "https://localhost:8080/"
        },
        "id": "IE9g9C6lLus7",
        "outputId": "2e1e77b2-5aac-4b8a-8972-4aa45befc630"
      },
      "execution_count": 17,
      "outputs": [
        {
          "output_type": "execute_result",
          "data": {
            "text/plain": [
              "[4, 4, 6, 2, 2, 1, 7]"
            ]
          },
          "metadata": {},
          "execution_count": 17
        }
      ]
    },
    {
      "cell_type": "code",
      "source": [
        "# 다른 사람 풀이"
      ],
      "metadata": {
        "id": "BFZNTeGnLuqv"
      },
      "execution_count": 18,
      "outputs": []
    },
    {
      "cell_type": "code",
      "source": [
        "# 내가 원했지만 실패한 코드\n",
        "def solution(score):\n",
        "    a = sorted([sum(i) for i in score], reverse = True)\n",
        "    return [a.index(sum(i))+1 for i in score]"
      ],
      "metadata": {
        "id": "2rccHC-EXMd4"
      },
      "execution_count": null,
      "outputs": []
    }
  ]
}