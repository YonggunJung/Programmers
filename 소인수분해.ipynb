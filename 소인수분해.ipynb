{
  "nbformat": 4,
  "nbformat_minor": 0,
  "metadata": {
    "colab": {
      "provenance": [],
      "authorship_tag": "ABX9TyPFH9/w6sRrMU9Hlgpgbaa+",
      "include_colab_link": true
    },
    "kernelspec": {
      "name": "python3",
      "display_name": "Python 3"
    },
    "language_info": {
      "name": "python"
    }
  },
  "cells": [
    {
      "cell_type": "markdown",
      "metadata": {
        "id": "view-in-github",
        "colab_type": "text"
      },
      "source": [
        "<a href=\"https://colab.research.google.com/github/YonggunJung/Programmers/blob/main/%EC%86%8C%EC%9D%B8%EC%88%98%EB%B6%84%ED%95%B4.ipynb\" target=\"_parent\"><img src=\"https://colab.research.google.com/assets/colab-badge.svg\" alt=\"Open In Colab\"/></a>"
      ]
    },
    {
      "cell_type": "code",
      "execution_count": 1,
      "metadata": {
        "id": "Oks7Jo6doiq7"
      },
      "outputs": [],
      "source": [
        "# 문제 설명\n",
        "# 소인수분해란 어떤 수를 소수들의 곱으로 표현하는 것입니다.\n",
        "# 예를 들어 12를 소인수 분해하면 2 * 2 * 3 으로 나타낼 수 있습니다.\n",
        "# 따라서 12의 소인수는 2와 3입니다.\n",
        "# 자연수 n이 매개변수로 주어질 때 n의 소인수를 오름차순으로 담은 배열을\n",
        "# return하도록 solution 함수를 완성해주세요.\n",
        "\n",
        "# 제한사항\n",
        "# 2 ≤ n ≤ 10,000\n",
        "\n",
        "# 입출력 예\n",
        "# n\t          result\n",
        "# 12\t        [2, 3]\n",
        "# 17\t        [17]\n",
        "# 420\t        [2, 3, 5, 7]\n",
        "\n",
        "# 입출력 예 설명\n",
        "# 입출력 예 #1\n",
        "# 12를 소인수분해하면 2 * 2 * 3 입니다. 따라서 [2, 3]을 return합니다.\n",
        "\n",
        "# 입출력 예 #2\n",
        "# 17은 소수입니다. 따라서 [17]을 return 해야 합니다.\n",
        "\n",
        "# 입출력 예 #3\n",
        "# 420을 소인수분해하면 2 * 2 * 3 * 5 * 7 입니다. 따라서 [2, 3, 5, 7]을 return합니다."
      ]
    },
    {
      "cell_type": "code",
      "source": [
        "# 소수를 못 나타내서 풀이봄\n",
        "# 풀이도 더러움, 풀이 하는 사람도 우왕좌왕함, 코드도 맘에 안듦\n",
        "# 내 실력이 더 더러움\n",
        "def solution(n):\n",
        "    answer = []\n",
        "    div = 2\n",
        "    while not n == 1:\n",
        "      if n % div == 0:\n",
        "        answer.append(div)\n",
        "      while n % div == 0:\n",
        "        n //= div\n",
        "      div += 1\n",
        "    return answer"
      ],
      "metadata": {
        "id": "Q5KxGZFLosUr"
      },
      "execution_count": 17,
      "outputs": []
    },
    {
      "cell_type": "code",
      "source": [
        "n = 12\n",
        "solution(n)"
      ],
      "metadata": {
        "colab": {
          "base_uri": "https://localhost:8080/"
        },
        "id": "eLQKs8XAot4_",
        "outputId": "bd4dcba5-ff66-4f1f-da56-ca9fa286da40"
      },
      "execution_count": 18,
      "outputs": [
        {
          "output_type": "execute_result",
          "data": {
            "text/plain": [
              "[2, 3]"
            ]
          },
          "metadata": {},
          "execution_count": 18
        }
      ]
    },
    {
      "cell_type": "code",
      "source": [
        "n = 17\n",
        "solution(n)"
      ],
      "metadata": {
        "colab": {
          "base_uri": "https://localhost:8080/"
        },
        "id": "DVi-IShDot12",
        "outputId": "2fb2fb96-58c4-4201-c2bb-fc2c218ebc52"
      },
      "execution_count": 19,
      "outputs": [
        {
          "output_type": "execute_result",
          "data": {
            "text/plain": [
              "[17]"
            ]
          },
          "metadata": {},
          "execution_count": 19
        }
      ]
    },
    {
      "cell_type": "code",
      "source": [
        "n = 420\n",
        "solution(n)"
      ],
      "metadata": {
        "colab": {
          "base_uri": "https://localhost:8080/"
        },
        "id": "0215o-zyotwj",
        "outputId": "7162682b-8c44-404c-e2f6-6a066a30a5aa"
      },
      "execution_count": 20,
      "outputs": [
        {
          "output_type": "execute_result",
          "data": {
            "text/plain": [
              "[2, 3, 5, 7]"
            ]
          },
          "metadata": {},
          "execution_count": 20
        }
      ]
    },
    {
      "cell_type": "code",
      "source": [
        "# 다른 사람 풀이"
      ],
      "metadata": {
        "id": "Djl3uJcbotuE"
      },
      "execution_count": 21,
      "outputs": []
    },
    {
      "cell_type": "code",
      "source": [
        "# 비슷한 풀이\n",
        "def solution(n):\n",
        "    answer = []\n",
        "    d = 2\n",
        "    while d <= n:\n",
        "        if n % d == 0:\n",
        "            n /= d\n",
        "            if d not in answer:\n",
        "                answer.append(d)\n",
        "        else:\n",
        "            d += 1\n",
        "    return answer"
      ],
      "metadata": {
        "id": "qbmt-3f0sNt0"
      },
      "execution_count": null,
      "outputs": []
    },
    {
      "cell_type": "code",
      "source": [
        "# 다들 비슷하게 나오는거 같음\n",
        "# 내가 생각한 깔끔하고 보기 좋은 코드는 없음\n",
        "# 이게 최선인듯\n",
        "def solution(n):\n",
        "    k = 2\n",
        "    answer = []\n",
        "    while n>1:\n",
        "        if n%k==0:\n",
        "            answer.append(k)\n",
        "            while n%k==0:\n",
        "                n//=k\n",
        "        k+=1\n",
        "\n",
        "    return answer"
      ],
      "metadata": {
        "id": "j6oekgzjsSHn"
      },
      "execution_count": null,
      "outputs": []
    }
  ]
}