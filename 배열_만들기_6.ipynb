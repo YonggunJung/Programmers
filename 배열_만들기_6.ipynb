{
  "nbformat": 4,
  "nbformat_minor": 0,
  "metadata": {
    "colab": {
      "provenance": [],
      "authorship_tag": "ABX9TyNo/FDULV5zFcCLkXXZOlPQ",
      "include_colab_link": true
    },
    "kernelspec": {
      "name": "python3",
      "display_name": "Python 3"
    },
    "language_info": {
      "name": "python"
    }
  },
  "cells": [
    {
      "cell_type": "markdown",
      "metadata": {
        "id": "view-in-github",
        "colab_type": "text"
      },
      "source": [
        "<a href=\"https://colab.research.google.com/github/YonggunJung/Programmers/blob/main/%EB%B0%B0%EC%97%B4_%EB%A7%8C%EB%93%A4%EA%B8%B0_6.ipynb\" target=\"_parent\"><img src=\"https://colab.research.google.com/assets/colab-badge.svg\" alt=\"Open In Colab\"/></a>"
      ]
    },
    {
      "cell_type": "code",
      "execution_count": 1,
      "metadata": {
        "id": "ozw2Oqzxz1Pq"
      },
      "outputs": [],
      "source": [
        "# 문제 설명\n",
        "# 0과 1로만 이루어진 정수 배열 arr가 주어집니다.\n",
        "# arr를 이용해 새로운 배열 stk을 만드려고 합니다.\n",
        "\n",
        "# i의 초기값을 0으로 설정하고 i가 arr의 길이보다 작으면 다음을 반복합니다.\n",
        "\n",
        "# 만약 stk이 빈 배열이라면 arr[i]를 stk에 추가하고 i에 1을 더합니다.\n",
        "# stk에 원소가 있고,\n",
        "# stk의 마지막 원소가 arr[i]와 같으면 stk의 마지막 원소를 stk에서 제거하고\n",
        "# i에 1을 더합니다.\n",
        "# stk에 원소가 있는데 stk의 마지막 원소가 arr[i]와 다르면\n",
        "# stk의 맨 마지막에 arr[i]를 추가하고 i에 1을 더합니다.\n",
        "# 위 작업을 마친 후 만들어진 stk을 return 하는 solution 함수를 완성해 주세요.\n",
        "\n",
        "# 단, 만약 빈 배열을 return 해야한다면 [-1]을 return 합니다.\n",
        "\n",
        "# 제한사항\n",
        "# 1 ≤ arr의 길이 ≤ 1,000,000\n",
        "# arr의 원소는 0 또는 1 입니다.\n",
        "\n",
        "# 입출력 예\n",
        "# arr\t                      result\n",
        "# [0, 1, 1, 1, 0]         \t[0, 1, 0]\n",
        "# [0, 1, 0, 1, 0]\t          [0, 1, 0, 1, 0]\n",
        "# [0, 1, 1, 0]\t            [-1]\n",
        "\n",
        "# 입출력 예 설명\n",
        "# 입출력 예 #1\n",
        "# 각 작업을 마친 후에 배열의 변화를 나타내면 다음 표와 같습니다.\n",
        "# idx\t    arr[idx]\t    stk\n",
        "# 0\t        0\t          []\n",
        "# 1\t        1\t          [0]\n",
        "# 2\t        1         \t[0, 1]\n",
        "# 3\t        1         \t[0]\n",
        "# 4\t        0\t          [0, 1]\n",
        "# 5\t        -\t          [0, 1, 0]\n",
        "\n",
        "# 따라서 [0, 1, 0]을 return 합니다.\n",
        "# 입출력 예 #2\n",
        "# 각 작업을 마친 후에 배열의 변화를 나타내면 다음 표와 같습니다.\n",
        "# idx\tarr[idx]\tstk\n",
        "# 0\t0\t[]\n",
        "# 1\t1\t[0]\n",
        "# 2\t0\t[0, 1]\n",
        "# 3\t1\t[0, 1, 0]\n",
        "# 4\t0\t[0, 1, 0, 1]\n",
        "# 5\t-\t[0, 1, 0, 1, 0]\n",
        "# 따라서 [0, 1, 0, 1, 0]을 return 합니다.\n",
        "\n",
        "# 입출력 예 #3\n",
        "# 각 작업을 마친 후에 배열의 변화를 나타내면 다음 표와 같습니다.\n",
        "# idx\tarr[idx]\tstk\n",
        "# 0\t0\t[]\n",
        "# 1\t1\t[0]\n",
        "# 2\t1\t[0, 1]\n",
        "# 3\t0\t[0]\n",
        "# 4\t-\t[]\n",
        "# 마지막에 빈 배열이 되었으므로 [-1]을 return 합니다."
      ]
    },
    {
      "cell_type": "code",
      "source": [
        "def solution(arr):\n",
        "    answer = []\n",
        "    for idx, num in enumerate(arr):\n",
        "      if len(answer) == 0:\n",
        "        answer.append(num)\n",
        "      elif answer[-1] == num:\n",
        "        del answer[-1]\n",
        "      else:\n",
        "        answer.append(num)\n",
        "    if len(answer) == 0:\n",
        "      answer.append(-1)\n",
        "    return answer"
      ],
      "metadata": {
        "id": "4Qg2AOHn0Qq1"
      },
      "execution_count": 7,
      "outputs": []
    },
    {
      "cell_type": "code",
      "source": [
        "arr = [0, 1, 1, 1, 0]\n",
        "solution(arr)"
      ],
      "metadata": {
        "colab": {
          "base_uri": "https://localhost:8080/"
        },
        "id": "1nGjZbOV0SuL",
        "outputId": "e6a54472-3d1b-47b2-b792-0e7dec48ecf3"
      },
      "execution_count": 8,
      "outputs": [
        {
          "output_type": "execute_result",
          "data": {
            "text/plain": [
              "[0, 1, 0]"
            ]
          },
          "metadata": {},
          "execution_count": 8
        }
      ]
    },
    {
      "cell_type": "code",
      "source": [
        "arr = [0, 1, 0, 1, 0]\n",
        "solution(arr)"
      ],
      "metadata": {
        "colab": {
          "base_uri": "https://localhost:8080/"
        },
        "id": "hBtpqV0z0Uir",
        "outputId": "a89239f3-82fe-407e-ceed-38d3779213cb"
      },
      "execution_count": 9,
      "outputs": [
        {
          "output_type": "execute_result",
          "data": {
            "text/plain": [
              "[0, 1, 0, 1, 0]"
            ]
          },
          "metadata": {},
          "execution_count": 9
        }
      ]
    },
    {
      "cell_type": "code",
      "source": [
        "arr = [0, 1, 1, 0]\n",
        "solution(arr)"
      ],
      "metadata": {
        "colab": {
          "base_uri": "https://localhost:8080/"
        },
        "id": "iff3YEr70Uch",
        "outputId": "37fd9526-18c8-48ee-a928-9eb401cf1b44"
      },
      "execution_count": 10,
      "outputs": [
        {
          "output_type": "execute_result",
          "data": {
            "text/plain": [
              "[-1]"
            ]
          },
          "metadata": {},
          "execution_count": 10
        }
      ]
    },
    {
      "cell_type": "code",
      "source": [
        "# 다른 사람 풀이\n"
      ],
      "metadata": {
        "id": "ke7AUCSU0UaM"
      },
      "execution_count": 11,
      "outputs": []
    },
    {
      "cell_type": "code",
      "source": [
        "# 나보다 간단한 풀이\n",
        "def solution(arr):\n",
        "    stk = []\n",
        "    for i in range(len(arr)):\n",
        "        if stk and stk[-1] == arr[i]:\n",
        "            stk.pop()\n",
        "        else:\n",
        "            stk.append(arr[i])\n",
        "\n",
        "    return stk or [-1]"
      ],
      "metadata": {
        "id": "SWRwEx1l2Kw1"
      },
      "execution_count": 12,
      "outputs": []
    },
    {
      "cell_type": "code",
      "source": [
        "# while문 사용\n",
        "def solution(arr):\n",
        "    stk = []\n",
        "    i = 0\n",
        "    while i < len(arr):\n",
        "        if len(stk) == 0:\n",
        "            stk.append(arr[i])\n",
        "            i += 1\n",
        "        elif stk[-1] == arr[i]:\n",
        "            stk.pop()\n",
        "            i += 1\n",
        "        else:\n",
        "            stk.append(arr[i])\n",
        "            i += 1\n",
        "    return stk if len(stk) > 0 else [-1]"
      ],
      "metadata": {
        "id": "I7kwDvM12cLL"
      },
      "execution_count": null,
      "outputs": []
    }
  ]
}