{
  "nbformat": 4,
  "nbformat_minor": 0,
  "metadata": {
    "colab": {
      "provenance": [],
      "authorship_tag": "ABX9TyNRq+nhngwBrBAVZr03f9+O",
      "include_colab_link": true
    },
    "kernelspec": {
      "name": "python3",
      "display_name": "Python 3"
    },
    "language_info": {
      "name": "python"
    }
  },
  "cells": [
    {
      "cell_type": "markdown",
      "metadata": {
        "id": "view-in-github",
        "colab_type": "text"
      },
      "source": [
        "<a href=\"https://colab.research.google.com/github/YonggunJung/Programmers/blob/main/%EB%AC%B8%EC%9E%90%EC%97%B4%EB%A1%9C_%EB%B3%80%ED%99%98.ipynb\" target=\"_parent\"><img src=\"https://colab.research.google.com/assets/colab-badge.svg\" alt=\"Open In Colab\"/></a>"
      ]
    },
    {
      "cell_type": "code",
      "execution_count": 1,
      "metadata": {
        "id": "Y6FVuj_H6ohP"
      },
      "outputs": [],
      "source": [
        "# 문제 설명\n",
        "# 정수 n이 주어질 때,\n",
        "# n을 문자열로 변환하여 return하도록 solution 함수를 완성해주세요.\n",
        "\n",
        "# 제한사항\n",
        "# 1 ≤ n ≤ 10000\n",
        "\n",
        "# 입출력 예\n",
        "# n\t      result\n",
        "# 123\t    \"123\"\n",
        "# 2573\t  \"2573\"\n",
        "\n",
        "# 입출력 예 설명\n",
        "# 입출력 예 #1\n",
        "# 123을 문자열로 변환한 \"123\"을 return합니다.\n",
        "\n",
        "# 입출력 예 #2\n",
        "# 2573을 문자열로 변환한 \"2573\"을 return합니다."
      ]
    },
    {
      "cell_type": "code",
      "source": [
        "def solution(n):\n",
        "    answer = str(n)\n",
        "    return answer"
      ],
      "metadata": {
        "id": "PnRwU2NP7ZJF"
      },
      "execution_count": 3,
      "outputs": []
    },
    {
      "cell_type": "code",
      "source": [
        "n = 123\n",
        "solution(n)"
      ],
      "metadata": {
        "colab": {
          "base_uri": "https://localhost:8080/",
          "height": 35
        },
        "id": "wTKC-khi7a39",
        "outputId": "c99bc47f-5f2f-4b41-f57f-e3c9767f7fee"
      },
      "execution_count": 4,
      "outputs": [
        {
          "output_type": "execute_result",
          "data": {
            "text/plain": [
              "'123'"
            ],
            "application/vnd.google.colaboratory.intrinsic+json": {
              "type": "string"
            }
          },
          "metadata": {},
          "execution_count": 4
        }
      ]
    },
    {
      "cell_type": "code",
      "source": [
        "n = 2573\n",
        "solution(n)"
      ],
      "metadata": {
        "colab": {
          "base_uri": "https://localhost:8080/",
          "height": 35
        },
        "id": "i-1iaeKd7dYk",
        "outputId": "f81c92ac-3091-41a0-da76-c90e5abdfbb8"
      },
      "execution_count": 5,
      "outputs": [
        {
          "output_type": "execute_result",
          "data": {
            "text/plain": [
              "'2573'"
            ],
            "application/vnd.google.colaboratory.intrinsic+json": {
              "type": "string"
            }
          },
          "metadata": {},
          "execution_count": 5
        }
      ]
    },
    {
      "cell_type": "code",
      "source": [
        "# 다른 사람 풀이"
      ],
      "metadata": {
        "id": "Ep0ihr4_7ccM"
      },
      "execution_count": 6,
      "outputs": []
    },
    {
      "cell_type": "code",
      "source": [
        "def solution(n):\n",
        "    answer = f'{n}'\n",
        "    return answer"
      ],
      "metadata": {
        "id": "AQihzu0h7kHl"
      },
      "execution_count": 7,
      "outputs": []
    },
    {
      "cell_type": "code",
      "source": [
        "def solution(n):\n",
        "    answer = ''\n",
        "    for i in str(n) :\n",
        "        answer += i\n",
        "    return answer"
      ],
      "metadata": {
        "id": "uXnUk1tz7ohT"
      },
      "execution_count": 8,
      "outputs": []
    },
    {
      "cell_type": "code",
      "source": [],
      "metadata": {
        "id": "J-AxKQG57rlL"
      },
      "execution_count": null,
      "outputs": []
    }
  ]
}