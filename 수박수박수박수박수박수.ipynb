{
  "nbformat": 4,
  "nbformat_minor": 0,
  "metadata": {
    "colab": {
      "provenance": [],
      "authorship_tag": "ABX9TyOgS89sj7Bt2ax0isG6LwKi",
      "include_colab_link": true
    },
    "kernelspec": {
      "name": "python3",
      "display_name": "Python 3"
    },
    "language_info": {
      "name": "python"
    }
  },
  "cells": [
    {
      "cell_type": "markdown",
      "metadata": {
        "id": "view-in-github",
        "colab_type": "text"
      },
      "source": [
        "<a href=\"https://colab.research.google.com/github/YonggunJung/Programmers/blob/main/%EC%88%98%EB%B0%95%EC%88%98%EB%B0%95%EC%88%98%EB%B0%95%EC%88%98%EB%B0%95%EC%88%98%EB%B0%95%EC%88%98.ipynb\" target=\"_parent\"><img src=\"https://colab.research.google.com/assets/colab-badge.svg\" alt=\"Open In Colab\"/></a>"
      ]
    },
    {
      "cell_type": "code",
      "execution_count": 1,
      "metadata": {
        "id": "aw0D5K3l2wXa"
      },
      "outputs": [],
      "source": [
        "# 문제 설명\n",
        "# 길이가 n이고, \"수박수박수박수....\"와 같은\n",
        "# 패턴을 유지하는 문자열을 리턴하는 함수, solution을 완성하세요.\n",
        "# 예를들어 n이 4이면 \"수박수박\"을 리턴하고 3이라면 \"수박수\"를 리턴하면 됩니다.\n",
        "\n",
        "# 제한 조건\n",
        "# n은 길이 10,000이하인 자연수입니다.\n",
        "\n",
        "# 입출력 예\n",
        "# n\t      return\n",
        "# 3\t      \"수박수\"\n",
        "# 4\t      \"수박수박\""
      ]
    },
    {
      "cell_type": "code",
      "source": [
        "def solution(n):\n",
        "    answer = ''\n",
        "    for i in range(n):\n",
        "      if i% 2 == 0:\n",
        "        answer += '수'\n",
        "      else:\n",
        "        answer +='박'\n",
        "    return answer"
      ],
      "metadata": {
        "id": "atGnsXOR23Jp"
      },
      "execution_count": 2,
      "outputs": []
    },
    {
      "cell_type": "code",
      "source": [
        "# 다른사람 풀이\n",
        "# 깔끔하네\n",
        "def water_melon(n):\n",
        "    str = \"수박\"*n\n",
        "    return str[:n]"
      ],
      "metadata": {
        "id": "YGbYk9j93XKD"
      },
      "execution_count": null,
      "outputs": []
    }
  ]
}