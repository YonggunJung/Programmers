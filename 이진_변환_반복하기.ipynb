{
  "nbformat": 4,
  "nbformat_minor": 0,
  "metadata": {
    "colab": {
      "provenance": [],
      "authorship_tag": "ABX9TyO54xZq8/Qt4eiLCpnoBIoc",
      "include_colab_link": true
    },
    "kernelspec": {
      "name": "python3",
      "display_name": "Python 3"
    },
    "language_info": {
      "name": "python"
    }
  },
  "cells": [
    {
      "cell_type": "markdown",
      "metadata": {
        "id": "view-in-github",
        "colab_type": "text"
      },
      "source": [
        "<a href=\"https://colab.research.google.com/github/YonggunJung/Programmers/blob/main/%EC%9D%B4%EC%A7%84_%EB%B3%80%ED%99%98_%EB%B0%98%EB%B3%B5%ED%95%98%EA%B8%B0.ipynb\" target=\"_parent\"><img src=\"https://colab.research.google.com/assets/colab-badge.svg\" alt=\"Open In Colab\"/></a>"
      ]
    },
    {
      "cell_type": "code",
      "execution_count": 1,
      "metadata": {
        "id": "2toFHGIKSGqK"
      },
      "outputs": [],
      "source": [
        "# 문제 설명\n",
        "# 0과 1로 이루어진 어떤 문자열 x에 대한 이진 변환을 다음과 같이 정의합니다.\n",
        "\n",
        "# x의 모든 0을 제거합니다.\n",
        "# x의 길이를 c라고 하면, x를 \"c를 2진법으로 표현한 문자열\"로 바꿉니다.\n",
        "# 예를 들어, x = \"0111010\"이라면,\n",
        "# x에 이진 변환을 가하면 x = \"0111010\" -> \"1111\" -> \"100\" 이 됩니다.\n",
        "\n",
        "# 0과 1로 이루어진 문자열 s가 매개변수로 주어집니다.\n",
        "# s가 \"1\"이 될 때까지 계속해서 s에 이진 변환을 가했을 때,\n",
        "# 이진 변환의 횟수와 변환 과정에서 제거된 모든 0의 개수를 각각 배열에 담아\n",
        "# return 하도록 solution 함수를 완성해주세요.\n",
        "\n",
        "# 제한사항\n",
        "# s의 길이는 1 이상 150,000 이하입니다.\n",
        "# s에는 '1'이 최소 하나 이상 포함되어 있습니다.\n",
        "\n",
        "# 입출력 예\n",
        "# s\t                  result\n",
        "# \"110010101001\"\t    [3,8]\n",
        "# \"01110\"\t            [3,3]\n",
        "# \"1111111\"\t          [4,1]\n",
        "\n",
        "# 입출력 예 설명\n",
        "# 입출력 예 #1\n",
        "# \"110010101001\"이 \"1\"이 될 때까지 이진 변환을 가하는 과정은 다음과 같습니다.\n",
        "# 회차\t이진 변환 이전\t제거할 0의 개수\t0 제거 후 길이\t이진 변환 결과\n",
        "# 1\t\"110010101001\"\t6\t6\t\"110\"\n",
        "# 2\t\"110\"\t1\t2\t\"10\"\n",
        "# 3\t\"10\"\t1\t1\t\"1\"\n",
        "# 3번의 이진 변환을 하는 동안 8개의 0을 제거했으므로,\n",
        "#  [3,8]을 return 해야 합니다.\n",
        "\n",
        "# 입출력 예 #2\n",
        "# \"01110\"이 \"1\"이 될 때까지 이진 변환을 가하는 과정은 다음과 같습니다.\n",
        "# 회차\t이진 변환 이전\t제거할 0의 개수\t0 제거 후 길이\t이진 변환 결과\n",
        "# 1\t\"01110\"\t2\t3\t\"11\"\n",
        "# 2\t\"11\"\t0\t2\t\"10\"\n",
        "# 3\t\"10\"\t1\t1\t\"1\"\n",
        "# 3번의 이진 변환을 하는 동안 3개의 0을 제거했으므로,\n",
        "#  [3,3]을 return 해야 합니다.\n",
        "\n",
        "# 입출력 예 #3\n",
        "# \"1111111\"이 \"1\"이 될 때까지 이진 변환을 가하는 과정은 다음과 같습니다.\n",
        "# 회차\t이진 변환 이전\t제거할 0의 개수\t0 제거 후 길이\t이진 변환 결과\n",
        "# 1\t\"1111111\"\t0\t7\t\"111\"\n",
        "# 2\t\"111\"\t0\t3\t\"11\"\n",
        "# 3\t\"11\"\t0\t2\t\"10\"\n",
        "# 4\t\"10\"\t1\t1\t\"1\"\n",
        "# 4번의 이진 변환을 하는 동안 1개의 0을 제거했으므로,\n",
        "#  [4,1]을 return 해야 합니다."
      ]
    },
    {
      "cell_type": "code",
      "source": [
        "def solution(s):\n",
        "    answer = []\n",
        "    cz = 0\n",
        "    r = 0\n",
        "    while s != '1':\n",
        "      r += 1\n",
        "      cz += s.count('0')\n",
        "      s = s.replace('0', '')\n",
        "      s = bin(len(s))[2:]\n",
        "    answer.append(r)\n",
        "    answer.append(cz)\n",
        "    return answer"
      ],
      "metadata": {
        "id": "4PMg1arASYHW"
      },
      "execution_count": 11,
      "outputs": []
    },
    {
      "cell_type": "code",
      "source": [
        "s =\t\"110010101001\"\n",
        "s.count('0')\n",
        "s = s.replace('0', '')\n",
        "s = bin(len(s))[2:]\n",
        "s"
      ],
      "metadata": {
        "colab": {
          "base_uri": "https://localhost:8080/",
          "height": 35
        },
        "id": "DqpqtO2hTffu",
        "outputId": "69890f93-7804-401c-c7ce-1133fc949bfc"
      },
      "execution_count": 13,
      "outputs": [
        {
          "output_type": "execute_result",
          "data": {
            "text/plain": [
              "'110'"
            ],
            "application/vnd.google.colaboratory.intrinsic+json": {
              "type": "string"
            }
          },
          "metadata": {},
          "execution_count": 13
        }
      ]
    },
    {
      "cell_type": "code",
      "source": [],
      "metadata": {
        "id": "vCDi-2jbTnds"
      },
      "execution_count": null,
      "outputs": []
    }
  ]
}