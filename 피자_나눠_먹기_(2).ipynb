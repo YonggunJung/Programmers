{
  "nbformat": 4,
  "nbformat_minor": 0,
  "metadata": {
    "colab": {
      "provenance": [],
      "authorship_tag": "ABX9TyNF5TK3nnLnzXTGUYWiFHgv",
      "include_colab_link": true
    },
    "kernelspec": {
      "name": "python3",
      "display_name": "Python 3"
    },
    "language_info": {
      "name": "python"
    }
  },
  "cells": [
    {
      "cell_type": "markdown",
      "metadata": {
        "id": "view-in-github",
        "colab_type": "text"
      },
      "source": [
        "<a href=\"https://colab.research.google.com/github/YonggunJung/Programmers/blob/main/%ED%94%BC%EC%9E%90_%EB%82%98%EB%88%A0_%EB%A8%B9%EA%B8%B0_(2).ipynb\" target=\"_parent\"><img src=\"https://colab.research.google.com/assets/colab-badge.svg\" alt=\"Open In Colab\"/></a>"
      ]
    },
    {
      "cell_type": "code",
      "execution_count": 1,
      "metadata": {
        "id": "7ChrUhbnYBsB"
      },
      "outputs": [],
      "source": [
        "# 문제 설명\n",
        "# 머쓱이네 피자가게는 피자를 여섯 조각으로 잘라 줍니다.\n",
        "# 피자를 나눠먹을 사람의 수 n이 매개변수로 주어질 때,\n",
        "# n명이 주문한 피자를 남기지 않고 모두 같은 수의 피자 조각을 먹어야 한다면\n",
        "# 최소 몇 판을 시켜야 하는지를 return 하도록 solution 함수를 완성해보세요.\n",
        "\n",
        "# 제한사항\n",
        "# 1 ≤ n ≤ 100\n",
        "\n",
        "# 입출력 예\n",
        "# n       \tresult\n",
        "# 6\t          1\n",
        "# 10\t        5\n",
        "# 4\t          2\n",
        "\n",
        "# 입출력 예 설명\n",
        "# 입출력 예 #1\n",
        "# 6명이 모두 같은 양을 먹기 위해 한 판을 시켜야 피자가 6조각으로 모두 한 조각씩 먹을 수 있습니다.\n",
        "\n",
        "# 입출력 예 #2\n",
        "# 10명이 모두 같은 양을 먹기 위해 최소 5판을 시켜야 피자가 30조각으로 모두 세 조각씩 먹을 수 있습니다.\n",
        "\n",
        "# 입출력 예 #3\n",
        "# 4명이 모두 같은 양을 먹기 위해 최소 2판을 시키면 피자가 12조각으로 모두 세 조각씩 먹을 수 있습니다."
      ]
    },
    {
      "cell_type": "code",
      "source": [
        "# while문 생각은 했는데 정확하지 못해 시간걸림\n",
        "def solution(n):\n",
        "    answer = 1\n",
        "    while answer * 6 % n:\n",
        "      answer += 1\n",
        "    return answer"
      ],
      "metadata": {
        "id": "iwDDdvSRYhod"
      },
      "execution_count": 18,
      "outputs": []
    },
    {
      "cell_type": "code",
      "source": [
        "n = 6\n",
        "solution(n)"
      ],
      "metadata": {
        "colab": {
          "base_uri": "https://localhost:8080/"
        },
        "id": "V6ISHi3aYiMr",
        "outputId": "75a2ec2e-cbca-4c34-8f2b-25f0da00cb6c"
      },
      "execution_count": 19,
      "outputs": [
        {
          "output_type": "execute_result",
          "data": {
            "text/plain": [
              "1"
            ]
          },
          "metadata": {},
          "execution_count": 19
        }
      ]
    },
    {
      "cell_type": "code",
      "source": [
        "n = 10\n",
        "solution(n)"
      ],
      "metadata": {
        "colab": {
          "base_uri": "https://localhost:8080/"
        },
        "id": "ydWHVdPHYmJB",
        "outputId": "5eec53c9-499d-43c5-ef7c-fd64a8bb6595"
      },
      "execution_count": 20,
      "outputs": [
        {
          "output_type": "execute_result",
          "data": {
            "text/plain": [
              "5"
            ]
          },
          "metadata": {},
          "execution_count": 20
        }
      ]
    },
    {
      "cell_type": "code",
      "source": [
        "n = 4\n",
        "solution(n)"
      ],
      "metadata": {
        "colab": {
          "base_uri": "https://localhost:8080/"
        },
        "id": "0OPcED4eYmAr",
        "outputId": "b5a56ade-27b5-48f8-9ec9-a2ac5356c863"
      },
      "execution_count": 21,
      "outputs": [
        {
          "output_type": "execute_result",
          "data": {
            "text/plain": [
              "2"
            ]
          },
          "metadata": {},
          "execution_count": 21
        }
      ]
    },
    {
      "cell_type": "code",
      "source": [
        "# 다른 사람 풀이"
      ],
      "metadata": {
        "id": "aV-yhD_CbuVU"
      },
      "execution_count": 22,
      "outputs": []
    },
    {
      "cell_type": "code",
      "source": [
        "# 조금 더 길게\n",
        "def solution(n):\n",
        "    i=1\n",
        "    while(1):\n",
        "        if (6*i)%n==0:\n",
        "            return i\n",
        "        i+=1"
      ],
      "metadata": {
        "id": "lF6jcCVOeLjq"
      },
      "execution_count": 23,
      "outputs": []
    },
    {
      "cell_type": "code",
      "source": [
        "# math 사용\n",
        "import math\n",
        "\n",
        "def solution(n):\n",
        "    return (n * 6) // math.gcd(n, 6) // 6"
      ],
      "metadata": {
        "id": "QWZ1dir4eZIq"
      },
      "execution_count": null,
      "outputs": []
    },
    {
      "cell_type": "code",
      "source": [
        "# 내거랑 비슷\n",
        "def solution(n):\n",
        "    answer = 1\n",
        "    while (6 * answer) % n != 0:\n",
        "        answer += 1\n",
        "    return answer"
      ],
      "metadata": {
        "id": "XGjuUpatejIh"
      },
      "execution_count": null,
      "outputs": []
    }
  ]
}