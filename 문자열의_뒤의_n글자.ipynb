{
  "nbformat": 4,
  "nbformat_minor": 0,
  "metadata": {
    "colab": {
      "provenance": [],
      "authorship_tag": "ABX9TyP+A1FxFWA4rZAvKGLrCrOU",
      "include_colab_link": true
    },
    "kernelspec": {
      "name": "python3",
      "display_name": "Python 3"
    },
    "language_info": {
      "name": "python"
    }
  },
  "cells": [
    {
      "cell_type": "markdown",
      "metadata": {
        "id": "view-in-github",
        "colab_type": "text"
      },
      "source": [
        "<a href=\"https://colab.research.google.com/github/YonggunJung/Programmers/blob/main/%EB%AC%B8%EC%9E%90%EC%97%B4%EC%9D%98_%EB%92%A4%EC%9D%98_n%EA%B8%80%EC%9E%90.ipynb\" target=\"_parent\"><img src=\"https://colab.research.google.com/assets/colab-badge.svg\" alt=\"Open In Colab\"/></a>"
      ]
    },
    {
      "cell_type": "code",
      "execution_count": 1,
      "metadata": {
        "id": "A002GlX-vH90"
      },
      "outputs": [],
      "source": [
        "# 문제 설명\n",
        "# 문자열 my_string과 정수 n이 매개변수로 주어질 때,\n",
        "# my_string의 뒤의 n글자로 이루어진 문자열을 return 하는 solution 함수를 작성해 주세요.\n",
        "\n",
        "# 제한사항\n",
        "# my_string은 숫자와 알파벳으로 이루어져 있습니다.\n",
        "# 1 ≤ my_string의 길이 ≤ 1,000\n",
        "# 1 ≤ n ≤ my_string의 길이\n",
        "\n",
        "# 입출력 예\n",
        "# my_string\t                n\t            result\n",
        "# \"ProgrammerS123\"\t        11\t          \"grammerS123\"\n",
        "# \"He110W0r1d\"\t            5\t            \"W0r1d\"\n",
        "\n",
        "# 입출력 예\n",
        "# 입출력 예 #1\n",
        "# 예제 1번의 my_string에서 뒤의 11글자는 \"grammerS123\"이므로 이 문자열을 return 합니다.\n",
        "\n",
        "# 입출력 예 #2\n",
        "# 예제 2번의 my_string에서 뒤의 5글자는 \"W0r1d\"이므로 이 문자열을 return 합니다."
      ]
    },
    {
      "cell_type": "code",
      "source": [
        "def solution(my_string, n):\n",
        "    answer = my_string[-n:]\n",
        "\n",
        "    return answer"
      ],
      "metadata": {
        "id": "qSTWcDyCvSct"
      },
      "execution_count": 3,
      "outputs": []
    },
    {
      "cell_type": "code",
      "source": [
        "my_string = \"ProgrammerS123\"\n",
        "n = 11\n",
        "solution(my_string, n)"
      ],
      "metadata": {
        "colab": {
          "base_uri": "https://localhost:8080/",
          "height": 35
        },
        "id": "h2gSY9bvvVzc",
        "outputId": "39bcf6b9-6658-4b4f-e3b9-ea70b36c1b93"
      },
      "execution_count": 4,
      "outputs": [
        {
          "output_type": "execute_result",
          "data": {
            "text/plain": [
              "'grammerS123'"
            ],
            "application/vnd.google.colaboratory.intrinsic+json": {
              "type": "string"
            }
          },
          "metadata": {},
          "execution_count": 4
        }
      ]
    },
    {
      "cell_type": "code",
      "source": [
        "my_string = \"He110W0r1d\"\n",
        "n = 5\n",
        "solution(my_string, n)"
      ],
      "metadata": {
        "colab": {
          "base_uri": "https://localhost:8080/",
          "height": 35
        },
        "id": "OKIy4Z37vaHk",
        "outputId": "af9d5b0e-9135-4a76-e4c2-8835b4baad77"
      },
      "execution_count": 5,
      "outputs": [
        {
          "output_type": "execute_result",
          "data": {
            "text/plain": [
              "'W0r1d'"
            ],
            "application/vnd.google.colaboratory.intrinsic+json": {
              "type": "string"
            }
          },
          "metadata": {},
          "execution_count": 5
        }
      ]
    },
    {
      "cell_type": "code",
      "source": [
        "# 다른 사람 쉐도우 복싱"
      ],
      "metadata": {
        "id": "PcNLPD0hvaFZ"
      },
      "execution_count": 6,
      "outputs": []
    },
    {
      "cell_type": "code",
      "source": [
        "#\n",
        "def solution(my_string, n):\n",
        "    answer = ''\n",
        "    my_list = list()\n",
        "    for i in my_string:\n",
        "        my_list.append(i)\n",
        "\n",
        "\n",
        "    for j in range(len(my_string)-n, len(my_string)):\n",
        "        answer += my_list[j]\n",
        "\n",
        "\n",
        "    return answer"
      ],
      "metadata": {
        "id": "ks8qJoxiv_l2"
      },
      "execution_count": null,
      "outputs": []
    }
  ]
}