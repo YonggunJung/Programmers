{
  "nbformat": 4,
  "nbformat_minor": 0,
  "metadata": {
    "colab": {
      "provenance": [],
      "authorship_tag": "ABX9TyOGOpCzrePfHg0MdOAlq8Vz",
      "include_colab_link": true
    },
    "kernelspec": {
      "name": "python3",
      "display_name": "Python 3"
    },
    "language_info": {
      "name": "python"
    }
  },
  "cells": [
    {
      "cell_type": "markdown",
      "metadata": {
        "id": "view-in-github",
        "colab_type": "text"
      },
      "source": [
        "<a href=\"https://colab.research.google.com/github/YonggunJung/Programmers/blob/main/%EC%A1%B0%EA%B1%B4_%EB%AC%B8%EC%9E%90%EC%97%B4.ipynb\" target=\"_parent\"><img src=\"https://colab.research.google.com/assets/colab-badge.svg\" alt=\"Open In Colab\"/></a>"
      ]
    },
    {
      "cell_type": "code",
      "execution_count": 1,
      "metadata": {
        "id": "JGdNZ_6s95Y5"
      },
      "outputs": [],
      "source": [
        "# 문제 설명\n",
        "# 문자열에 따라 다음과 같이 두 수의 크기를 비교하려고 합니다.\n",
        "\n",
        "# 두 수가 n과 m이라면\n",
        "# \">\", \"=\" : n >= m\n",
        "# \"<\", \"=\" : n <= m\n",
        "# \">\", \"!\" : n > m\n",
        "# \"<\", \"!\" : n < m\n",
        "# 두 문자열 ineq와 eq가 주어집니다.\n",
        "# ineq는 \"<\"와 \">\"중 하나고, eq는 \"=\"와 \"!\"중 하나입니다.\n",
        "# 그리고 두 정수 n과 m이 주어질 때,\n",
        "# n과 m이 ineq와 eq의 조건에 맞으면 1을\n",
        "# 아니면 0을 return하도록 solution 함수를 완성해주세요.\n",
        "\n",
        "# 제한 사항\n",
        "# 1 ≤ n, m ≤ 100\n",
        "\n",
        "# 입출력 예\n",
        "# ineq\t    eq\t    n\t      m\t      result\n",
        "# \"<\"\t      \"=\"\t    20\t    50\t      1\n",
        "# \">\"\t      \"!\"\t    41\t    78\t      0\n",
        "\n",
        "# 입출력 예 설명\n",
        "# 입출력 예 #1\n",
        "# 20 <= 50은 참이기 때문에 1을 return합니다.\n",
        "\n",
        "# 입출력 예 #2\n",
        "# 41 > 78은 거짓이기 때문에 0을 return합니다.\n"
      ]
    },
    {
      "cell_type": "code",
      "source": [
        "# 이런 노가다 문제 별로긴해\n",
        "def solution(ineq, eq, n, m):\n",
        "    answer = 0\n",
        "    if n > m:\n",
        "      if ineq == \">\" and (eq == \"=\" or eq =='!'):\n",
        "        answer = 1\n",
        "      else:\n",
        "        answer = 0\n",
        "    elif n < m:\n",
        "      if ineq == \"<\" and (eq == \"=\" or eq =='!'):\n",
        "        answer = 1\n",
        "      else:\n",
        "        answer = 0\n",
        "    elif n == m:\n",
        "      if (ineq == \">\" or ineq =='<') and eq == \"=\":\n",
        "        answer = 1\n",
        "      else:\n",
        "        answer = 0\n",
        "    else:\n",
        "      answer = 0\n",
        "\n",
        "    return answer"
      ],
      "metadata": {
        "id": "2VyjCndV-HL_"
      },
      "execution_count": 15,
      "outputs": []
    },
    {
      "cell_type": "code",
      "source": [
        "ineq = \"<\"\n",
        "eq = \"=\"\n",
        "n = 20\n",
        "m = 50\n",
        "solution(ineq, eq, n, m)"
      ],
      "metadata": {
        "colab": {
          "base_uri": "https://localhost:8080/"
        },
        "id": "PLbyxP7G-IOe",
        "outputId": "ba0d3bf0-5d32-42f8-a031-0493e62a1115"
      },
      "execution_count": 16,
      "outputs": [
        {
          "output_type": "execute_result",
          "data": {
            "text/plain": [
              "1"
            ]
          },
          "metadata": {},
          "execution_count": 16
        }
      ]
    },
    {
      "cell_type": "code",
      "source": [
        "ineq = \">\"\n",
        "eq = \"!\"\n",
        "n = 41\n",
        "m = 78\n",
        "solution(ineq, eq, n, m)"
      ],
      "metadata": {
        "colab": {
          "base_uri": "https://localhost:8080/"
        },
        "id": "OeO9NlsM-OZG",
        "outputId": "de9e3c7c-146d-4839-afcc-7c9771797907"
      },
      "execution_count": 17,
      "outputs": [
        {
          "output_type": "execute_result",
          "data": {
            "text/plain": [
              "0"
            ]
          },
          "metadata": {},
          "execution_count": 17
        }
      ]
    },
    {
      "cell_type": "code",
      "source": [
        "# 다른 사람 풀이"
      ],
      "metadata": {
        "id": "Apo7R7ZF-OXI"
      },
      "execution_count": 18,
      "outputs": []
    },
    {
      "cell_type": "code",
      "source": [
        "# 이 풀이 보니까 노가다가 아니네...\n",
        "# 더 성장하자\n",
        "def solution(ineq, eq, n, m):\n",
        "    return int(eval(str(n)+ineq+eq.replace('!', '')+str(m)))"
      ],
      "metadata": {
        "id": "Vwei28kAH6kx"
      },
      "execution_count": 19,
      "outputs": []
    },
    {
      "cell_type": "code",
      "source": [
        "# 까비\n",
        "def solution(ineq, eq, n, m):\n",
        "    if eq == '!':\n",
        "        eq = ''\n",
        "    return int(eval(f'{n} {ineq}{eq} {m}'))"
      ],
      "metadata": {
        "id": "uSIgIwgfIHFn"
      },
      "execution_count": null,
      "outputs": []
    }
  ]
}