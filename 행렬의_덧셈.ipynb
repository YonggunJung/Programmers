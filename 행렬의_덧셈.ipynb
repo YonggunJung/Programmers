{
  "nbformat": 4,
  "nbformat_minor": 0,
  "metadata": {
    "colab": {
      "provenance": [],
      "authorship_tag": "ABX9TyMfrvyqZ91c6JfQ1o5wcGLj",
      "include_colab_link": true
    },
    "kernelspec": {
      "name": "python3",
      "display_name": "Python 3"
    },
    "language_info": {
      "name": "python"
    }
  },
  "cells": [
    {
      "cell_type": "markdown",
      "metadata": {
        "id": "view-in-github",
        "colab_type": "text"
      },
      "source": [
        "<a href=\"https://colab.research.google.com/github/YonggunJung/Programmers/blob/main/%ED%96%89%EB%A0%AC%EC%9D%98_%EB%8D%A7%EC%85%88.ipynb\" target=\"_parent\"><img src=\"https://colab.research.google.com/assets/colab-badge.svg\" alt=\"Open In Colab\"/></a>"
      ]
    },
    {
      "cell_type": "code",
      "execution_count": null,
      "metadata": {
        "id": "BgAzqABenUbS"
      },
      "outputs": [],
      "source": [
        "# 문제 설명\n",
        "# 행렬의 덧셈은 행과 열의 크기가 같은 두 행렬의 같은 행,\n",
        "# 같은 열의 값을 서로 더한 결과가 됩니다.\n",
        "# 2개의 행렬 arr1과 arr2를 입력받아,\n",
        "# 행렬 덧셈의 결과를 반환하는 함수,\n",
        "# solution을 완성해주세요.\n",
        "\n",
        "# 제한 조건\n",
        "# 행렬 arr1, arr2의 행과 열의 길이는 500을 넘지 않습니다.\n",
        "\n",
        "# 입출력 예\n",
        "# arr1\t              arr2\t            return\n",
        "# [[1,2],[2,3]]\t      [[3,4],[5,6]]\t    [[4,6],[7,9]]\n",
        "# [[1],[2]]\t          [[3],[4]]\t        [[4],[6]]"
      ]
    },
    {
      "cell_type": "code",
      "source": [
        "def solution(arr1, arr2):\n",
        "    answer = [[0]*len(arr1[0]) for _ in range(len(arr1))]\n",
        "    for i in range(len(arr1)):\n",
        "        for j in range(len(arr1[0])):\n",
        "            answer[i][j] = arr1[i][j] + arr2[i][j]\n",
        "    return answer"
      ],
      "metadata": {
        "id": "C1XmkADBnWwg"
      },
      "execution_count": 1,
      "outputs": []
    },
    {
      "cell_type": "code",
      "source": [
        "# 다른 사람 풀이\n",
        "def sumMatrix(A,B):\n",
        "    answer = [[c + d for c, d in zip(a,b)] for a, b in zip(A,B)]\n",
        "    return answer"
      ],
      "metadata": {
        "id": "_5HvZs4bpDQK"
      },
      "execution_count": 2,
      "outputs": []
    },
    {
      "cell_type": "code",
      "source": [
        "# 그냥 더해도 되는군\n",
        "def sumMatrix(A,B):\n",
        "    for i in range(len(A)):\n",
        "        for j in range(len(A[0])):\n",
        "            A[i][j] += B[i][j]\n",
        "\n",
        "    return A"
      ],
      "metadata": {
        "id": "bVaoTeImpIhP"
      },
      "execution_count": 3,
      "outputs": []
    },
    {
      "cell_type": "code",
      "source": [
        "# 이거 tolist() 이거를 빼먹었구나\n",
        "import numpy as np\n",
        "\n",
        "def sumMatrix(A,B):\n",
        "    A_np = np.array(A)\n",
        "    B_np = np.array(B)\n",
        "    result = A_np + B_np\n",
        "    return result.tolist()"
      ],
      "metadata": {
        "id": "wdzvJhiZpUHX"
      },
      "execution_count": null,
      "outputs": []
    }
  ]
}