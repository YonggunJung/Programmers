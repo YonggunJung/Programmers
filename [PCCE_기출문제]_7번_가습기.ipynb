{
  "nbformat": 4,
  "nbformat_minor": 0,
  "metadata": {
    "colab": {
      "provenance": [],
      "authorship_tag": "ABX9TyMOrLe4WSEQFWiDpv+ioL9v",
      "include_colab_link": true
    },
    "kernelspec": {
      "name": "python3",
      "display_name": "Python 3"
    },
    "language_info": {
      "name": "python"
    }
  },
  "cells": [
    {
      "cell_type": "markdown",
      "metadata": {
        "id": "view-in-github",
        "colab_type": "text"
      },
      "source": [
        "<a href=\"https://colab.research.google.com/github/YonggunJung/Programmers/blob/main/%5BPCCE_%EA%B8%B0%EC%B6%9C%EB%AC%B8%EC%A0%9C%5D_7%EB%B2%88_%EA%B0%80%EC%8A%B5%EA%B8%B0.ipynb\" target=\"_parent\"><img src=\"https://colab.research.google.com/assets/colab-badge.svg\" alt=\"Open In Colab\"/></a>"
      ]
    },
    {
      "cell_type": "code",
      "execution_count": 1,
      "metadata": {
        "id": "_TznrCv8MgRZ"
      },
      "outputs": [],
      "source": [
        "# 문제 설명\n",
        "# 상우가 사용하는 가습기에는 \"auto\", \"target\", \"minimum\"의 세 가지 모드가 있습니다.\n",
        "# 가습기의 가습량은 0~5단계로 구분되며 각 모드 별 동작 방식은 다음과 같습니다.\n",
        "\n",
        "# \"auto\" 모드\n",
        "#   습도가 0 이상 10 미만인 경우 : 5단계\n",
        "#   습도가 10 이상 20 미만인 경우 : 4단계\n",
        "#   습도가 20 이상 30 미만인 경우 : 3단계\n",
        "#   습도가 30 이상 40 미만인 경우 : 2단계\n",
        "#   습도가 40 이상 50 미만인 경우 : 1단계\n",
        "#   습도가 50 이상인 경우 : 0단계\n",
        "\n",
        "# \"target\" 모드\n",
        "#   습도가 설정값 미만일 경우 : 3단계\n",
        "#   습도가 설정값 이상일 경우 : 1단계\n",
        "\n",
        "# \"minimum\"모드\n",
        "#   습도가 설정값 미만일 경우 : 1단계\n",
        "#   습도가 설정값 이상일 경우 : 0단계\n",
        "\n",
        "# 상우가 설정한 가습기의 모드를 나타낸 문자열 mode_type, 현재 공기 중 습도를 나타낸 정수 humidity, 설정값을 나타낸 정수 val_set이 주어질 때 현재 가습기가 몇 단계로 작동 중인지 return하도록 빈칸을 채워 solution 함수를 완성해 주세요.\n",
        "\n",
        "# 제한사항\n",
        "# mode_type은 \"auto\", \"target\", \"minimum\" 세 가지 중 하나의 값을 갖습니다.\n",
        "# 0 ≤ humidity, val_set ≤ 100\n",
        "\n",
        "# 입출력 예\n",
        "# mode_type\t    humidity\t    val_set\t    result\n",
        "# \"auto\"\t        23\t          45\t        3\n",
        "# \"target\"\t      41\t          40\t        1\n",
        "# \"minimum\"\t      10\t          34\t        1\n",
        "\n",
        "# 입출력 예 설명\n",
        "# 입출력 예 #1\n",
        "# \"auto\"모드이므로 습도에 따라 가습량이 조절됩니다.\n",
        "# 현재 습도가 20 이상 30 미만이므로 3을 return합니다.\n",
        "\n",
        "# 입출력 예 #2\n",
        "# \"target\"모드이고, 설정값보다 습도가 높으므로 1을 return합니다.\n",
        "\n",
        "# 입출력 예 #3\n",
        "# \"minimum\"모드이고, 설정값보다 습도가 낮으므로 1을 return합니다.\n",
        "\n",
        "# 빈칸 채우기 문제 안내\n",
        "# 빈칸 채우기는 이미 완성된 코드 중 빈칸에 알맞은 코드를 입력하는 문제 타입입니다.\n",
        "# 빈칸을 제외한 기본 코드는 수정할 수 없습니다.\n",
        "# 빈칸을 채우지 않을 경우, 실행 결과에 에러 메시지가 표시됩니다."
      ]
    },
    {
      "cell_type": "code",
      "source": [
        "# 문제\n",
        "# def func1(humidity, val_set):\n",
        "#     if humidity < val_set:\n",
        "#         return 빈칸1\n",
        "\n",
        "#     return 1\n",
        "\n",
        "# def func2(humidity):\n",
        "#     if humidity >= 50:\n",
        "#         return 0\n",
        "#     elif humidity >= 40:\n",
        "#         return 1\n",
        "#     elif humidity >= 30:\n",
        "#         return 2\n",
        "#     elif humidity >= 20:\n",
        "#         return 3\n",
        "#     elif humidity >= 10:\n",
        "#         return 4\n",
        "#     빈칸2\n",
        "#         빈칸3\n",
        "\n",
        "\n",
        "\n",
        "\n",
        "\n",
        "# def func3(humidity, val_set):\n",
        "#     if humidity < val_set:\n",
        "#         return 1\n",
        "#     return 빈칸4\n",
        "\n",
        "\n",
        "# def solution(mode_type, humidity, val_set):\n",
        "#     answer = 0\n",
        "#     if mode_type == \"auto\":\n",
        "#         answer = func빈칸5\n",
        "\n",
        "#     elif mode_type == \"target\":\n",
        "#         answer = func빈칸6\n",
        "\n",
        "#     elif mode_type == \"minimum\":\n",
        "#         answer = func빈칸7\n",
        "\n",
        "#     return answer"
      ],
      "metadata": {
        "id": "fvw4WlMkM3B3"
      },
      "execution_count": null,
      "outputs": []
    },
    {
      "cell_type": "code",
      "source": [
        "def func1(humidity, val_set):\n",
        "    if humidity < val_set:\n",
        "        return 3\n",
        "\n",
        "    return 1\n",
        "\n",
        "def func2(humidity):\n",
        "    if humidity >= 50:\n",
        "        return 0\n",
        "    elif humidity >= 40:\n",
        "        return 1\n",
        "    elif humidity >= 30:\n",
        "        return 2\n",
        "    elif humidity >= 20:\n",
        "        return 3\n",
        "    elif humidity >= 10:\n",
        "        return 4\n",
        "    else:\n",
        "        return 5\n",
        "\n",
        "\n",
        "\n",
        "\n",
        "def func3(humidity, val_set):\n",
        "    if humidity < val_set:\n",
        "        return 1\n",
        "    return 0\n",
        "\n",
        "\n",
        "def solution(mode_type, humidity, val_set):\n",
        "    answer = 0\n",
        "    if mode_type == \"auto\":\n",
        "        answer = func2(humidity)\n",
        "\n",
        "    elif mode_type == \"target\":\n",
        "        answer = func1(humidity, val_set)\n",
        "\n",
        "    elif mode_type == \"minimum\":\n",
        "        answer = func3(humidity, val_set)\n",
        "\n",
        "    return answer"
      ],
      "metadata": {
        "id": "DwSSjrT2M-oC"
      },
      "execution_count": 12,
      "outputs": []
    },
    {
      "cell_type": "code",
      "source": [
        "mode_type = \"auto\"\n",
        "humidity = 23\n",
        "val_set = 45\n",
        "solution(mode_type, humidity, val_set)"
      ],
      "metadata": {
        "colab": {
          "base_uri": "https://localhost:8080/"
        },
        "id": "ubvbMzMSOyHE",
        "outputId": "fc346e00-2e63-45f1-e733-a9cb3c918e23"
      },
      "execution_count": 13,
      "outputs": [
        {
          "output_type": "execute_result",
          "data": {
            "text/plain": [
              "3"
            ]
          },
          "metadata": {},
          "execution_count": 13
        }
      ]
    },
    {
      "cell_type": "code",
      "source": [
        "mode_type = \"target\"\n",
        "humidity = 41\n",
        "val_set = 40\n",
        "solution(mode_type, humidity, val_set)"
      ],
      "metadata": {
        "colab": {
          "base_uri": "https://localhost:8080/"
        },
        "id": "-CyEbb1VOxjM",
        "outputId": "71e23dd6-046a-4092-d723-c511691edb3a"
      },
      "execution_count": 14,
      "outputs": [
        {
          "output_type": "execute_result",
          "data": {
            "text/plain": [
              "1"
            ]
          },
          "metadata": {},
          "execution_count": 14
        }
      ]
    },
    {
      "cell_type": "code",
      "source": [
        "mode_type = \"minimum\"\n",
        "humidity = 10\n",
        "val_set = 34\n",
        "solution(mode_type, humidity, val_set)"
      ],
      "metadata": {
        "colab": {
          "base_uri": "https://localhost:8080/"
        },
        "id": "TY981d_JOxco",
        "outputId": "92cd316e-e6f9-43ff-8c94-1c671744cf1b"
      },
      "execution_count": 15,
      "outputs": [
        {
          "output_type": "execute_result",
          "data": {
            "text/plain": [
              "1"
            ]
          },
          "metadata": {},
          "execution_count": 15
        }
      ]
    },
    {
      "cell_type": "code",
      "source": [],
      "metadata": {
        "id": "rCy7N-mbOxaT"
      },
      "execution_count": null,
      "outputs": []
    }
  ]
}