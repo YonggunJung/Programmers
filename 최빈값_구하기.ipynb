{
  "nbformat": 4,
  "nbformat_minor": 0,
  "metadata": {
    "colab": {
      "provenance": [],
      "authorship_tag": "ABX9TyPzKJrk72IeLoHZmdfOKY/e",
      "include_colab_link": true
    },
    "kernelspec": {
      "name": "python3",
      "display_name": "Python 3"
    },
    "language_info": {
      "name": "python"
    }
  },
  "cells": [
    {
      "cell_type": "markdown",
      "metadata": {
        "id": "view-in-github",
        "colab_type": "text"
      },
      "source": [
        "<a href=\"https://colab.research.google.com/github/YonggunJung/Programmers/blob/main/%EC%B5%9C%EB%B9%88%EA%B0%92_%EA%B5%AC%ED%95%98%EA%B8%B0.ipynb\" target=\"_parent\"><img src=\"https://colab.research.google.com/assets/colab-badge.svg\" alt=\"Open In Colab\"/></a>"
      ]
    },
    {
      "cell_type": "code",
      "execution_count": 1,
      "metadata": {
        "id": "GXMf93KtTFcO"
      },
      "outputs": [],
      "source": [
        "# 문제 설명\n",
        "# 최빈값은 주어진 값 중에서 가장 자주 나오는 값을 의미합니다.\n",
        "# 정수 배열 array가 매개변수로 주어질 때,\n",
        "# 최빈값을 return 하도록 solution 함수를 완성해보세요.\n",
        "# 최빈값이 여러 개면 -1을 return 합니다.\n",
        "\n",
        "# 제한사항\n",
        "# 0 < array의 길이 < 100\n",
        "# 0 ≤ array의 원소 < 1000\n",
        "\n",
        "# 입출력 예\n",
        "# array\t                  result\n",
        "# [1, 2, 3, 3, 3, 4]\t      3\n",
        "# [1, 1, 2, 2]\t           -1\n",
        "# [1]\t                      1\n",
        "\n",
        "# 입출력 예 설명\n",
        "# 입출력 예 #1\n",
        "# [1, 2, 3, 3, 3, 4]에서 1은 1개 2는 1개 3은 3개 4는 1개로 최빈값은 3입니다.\n",
        "\n",
        "# 입출력 예 #2\n",
        "# [1, 1, 2, 2]에서 1은 2개 2는 2개로 최빈값이 1, 2입니다.\n",
        "# 최빈값이 여러 개이므로 -1을 return 합니다.\n",
        "\n",
        "# 입출력 예 #3\n",
        "# [1]에는 1만 있으므로 최빈값은 1입니다."
      ]
    },
    {
      "cell_type": "code",
      "source": [
        "# 조금 걸렸지만 생각하니 나옴\n",
        "from collections import Counter\n",
        "\n",
        "def solution(array):\n",
        "    ca = Counter(array)\n",
        "    mca = ca.most_common()\n",
        "    answer = mca[0][0]\n",
        "    if len(mca) >= 2:\n",
        "      if mca[0][1] == mca[1][1]:\n",
        "        answer = -1\n",
        "    return answer"
      ],
      "metadata": {
        "id": "q1YmQVUpTVKb"
      },
      "execution_count": 42,
      "outputs": []
    },
    {
      "cell_type": "code",
      "source": [
        "array = [1, 2, 3, 3, 3, 4]\n",
        "solution(array)"
      ],
      "metadata": {
        "colab": {
          "base_uri": "https://localhost:8080/"
        },
        "id": "LfEOTGb7TywC",
        "outputId": "d1e12810-50d8-4cdc-f101-26c3261b4b48"
      },
      "execution_count": 43,
      "outputs": [
        {
          "output_type": "execute_result",
          "data": {
            "text/plain": [
              "3"
            ]
          },
          "metadata": {},
          "execution_count": 43
        }
      ]
    },
    {
      "cell_type": "code",
      "source": [
        "array = [1, 1, 2, 2]\n",
        "\n",
        "solution(array)"
      ],
      "metadata": {
        "colab": {
          "base_uri": "https://localhost:8080/"
        },
        "id": "tHysVyylT3s6",
        "outputId": "3757cd59-ab8e-4491-c60c-0b57230e5790"
      },
      "execution_count": 44,
      "outputs": [
        {
          "output_type": "execute_result",
          "data": {
            "text/plain": [
              "-1"
            ]
          },
          "metadata": {},
          "execution_count": 44
        }
      ]
    },
    {
      "cell_type": "code",
      "source": [
        "array = [1]\n",
        "solution(array)"
      ],
      "metadata": {
        "colab": {
          "base_uri": "https://localhost:8080/"
        },
        "id": "t5AKObjOT3pY",
        "outputId": "88015e10-2a59-4eb5-c741-f8624dd9c195"
      },
      "execution_count": 45,
      "outputs": [
        {
          "output_type": "execute_result",
          "data": {
            "text/plain": [
              "1"
            ]
          },
          "metadata": {},
          "execution_count": 45
        }
      ]
    },
    {
      "cell_type": "code",
      "source": [
        "# 다른 사람 풀이"
      ],
      "metadata": {
        "id": "2IXCVqhmT3mh"
      },
      "execution_count": 46,
      "outputs": []
    },
    {
      "cell_type": "code",
      "source": [
        "# 간단한거 같은데 이해가 좀 어렵네 ㅠㅠ\n",
        "def solution(array):\n",
        "    while len(array) != 0:\n",
        "        for i, a in enumerate(set(array)):\n",
        "            array.remove(a)\n",
        "        if i == 0: return a\n",
        "    return -1"
      ],
      "metadata": {
        "id": "RsFFRH-5jokV"
      },
      "execution_count": 47,
      "outputs": []
    },
    {
      "cell_type": "code",
      "source": [],
      "metadata": {
        "id": "jiv2GXskkQnD"
      },
      "execution_count": null,
      "outputs": []
    }
  ]
}