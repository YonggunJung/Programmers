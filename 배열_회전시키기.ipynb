{
  "nbformat": 4,
  "nbformat_minor": 0,
  "metadata": {
    "colab": {
      "provenance": [],
      "authorship_tag": "ABX9TyOjeDqieXvKDUVp9sTY9zIM",
      "include_colab_link": true
    },
    "kernelspec": {
      "name": "python3",
      "display_name": "Python 3"
    },
    "language_info": {
      "name": "python"
    }
  },
  "cells": [
    {
      "cell_type": "markdown",
      "metadata": {
        "id": "view-in-github",
        "colab_type": "text"
      },
      "source": [
        "<a href=\"https://colab.research.google.com/github/YonggunJung/Programmers/blob/main/%EB%B0%B0%EC%97%B4_%ED%9A%8C%EC%A0%84%EC%8B%9C%ED%82%A4%EA%B8%B0.ipynb\" target=\"_parent\"><img src=\"https://colab.research.google.com/assets/colab-badge.svg\" alt=\"Open In Colab\"/></a>"
      ]
    },
    {
      "cell_type": "code",
      "execution_count": 1,
      "metadata": {
        "id": "CMQFnrecyqr_"
      },
      "outputs": [],
      "source": [
        "# 문제 설명\n",
        "# 정수가 담긴 배열 numbers와 문자열 direction가 매개변수로 주어집니다.\n",
        "# 배열 numbers의 원소를 direction방향으로 한 칸씩 회전시킨 배열을\n",
        "# return하도록 solution 함수를 완성해주세요.\n",
        "\n",
        "# 제한사항\n",
        "# 3 ≤ numbers의 길이 ≤ 20\n",
        "# direction은 \"left\" 와 \"right\" 둘 중 하나입니다.\n",
        "\n",
        "# 입출력 예\n",
        "# numbers\t                    direction\t            result\n",
        "# [1, 2, 3]\t                  \"right\"\t              [3, 1, 2]\n",
        "# [4, 455, 6, 4, -1, 45, 6]\t  \"left\"\t              [455, 6, 4, -1, 45, 6, 4]\n",
        "\n",
        "# 입출력 예 설명\n",
        "# 입출력 예 #1\n",
        "# numbers 가 [1, 2, 3]이고 direction이 \"right\" 이므로\n",
        "# 오른쪽으로 한 칸씩 회전시킨 [3, 1, 2]를 return합니다.\n",
        "\n",
        "# 입출력 예 #2\n",
        "# numbers 가 [4, 455, 6, 4, -1, 45, 6]이고 direction이 \"left\" 이므로\n",
        "# 왼쪽으로 한 칸씩 회전시킨 [455, 6, 4, -1, 45, 6, 4]를 return합니다."
      ]
    },
    {
      "cell_type": "code",
      "source": [
        "def solution(numbers, direction):\n",
        "    answer = []\n",
        "    if direction == \"right\":\n",
        "      answer = numbers[-1:] + numbers[:-1]\n",
        "    elif direction == \"left\":\n",
        "      answer = numbers[1:] + numbers[:1]\n",
        "    return answer"
      ],
      "metadata": {
        "id": "DgFvH50Ly6Rg"
      },
      "execution_count": 14,
      "outputs": []
    },
    {
      "cell_type": "code",
      "source": [
        "numbers = [1, 2, 3]\n",
        "direction = \"right\"\n",
        "solution(numbers, direction)"
      ],
      "metadata": {
        "colab": {
          "base_uri": "https://localhost:8080/"
        },
        "id": "0Gtera2gy6rO",
        "outputId": "f87d8652-c307-4bbf-da10-2f7dc432fd5b"
      },
      "execution_count": 15,
      "outputs": [
        {
          "output_type": "execute_result",
          "data": {
            "text/plain": [
              "[3, 1, 2]"
            ]
          },
          "metadata": {},
          "execution_count": 15
        }
      ]
    },
    {
      "cell_type": "code",
      "source": [
        "numbers = [4, 455, 6, 4, -1, 45, 6]\n",
        "direction = \"left\"\n",
        "solution(numbers, direction)"
      ],
      "metadata": {
        "colab": {
          "base_uri": "https://localhost:8080/"
        },
        "id": "Q8Hg4FoFy6o5",
        "outputId": "7e2cb8b0-05cc-4898-e518-0823c7f52880"
      },
      "execution_count": 16,
      "outputs": [
        {
          "output_type": "execute_result",
          "data": {
            "text/plain": [
              "[455, 6, 4, -1, 45, 6, 4]"
            ]
          },
          "metadata": {},
          "execution_count": 16
        }
      ]
    },
    {
      "cell_type": "code",
      "source": [
        "# 다른 사람 풀이"
      ],
      "metadata": {
        "id": "EVck0B6Gy6mk"
      },
      "execution_count": 2,
      "outputs": []
    },
    {
      "cell_type": "code",
      "source": [
        "# 참 보면 알겠는데 떠오르지는 않는 한줄 코드\n",
        "def solution(numbers, direction):\n",
        "    return [numbers[-1]] + numbers[:-1] if direction == 'right' else numbers[1:] + [numbers[0]]"
      ],
      "metadata": {
        "id": "KLuVxALDzEh6"
      },
      "execution_count": 17,
      "outputs": []
    },
    {
      "cell_type": "code",
      "source": [
        "# deque() 처음 보는 함수\n",
        "from collections import deque\n",
        "\n",
        "def solution(numbers, direction):\n",
        "    numbers = deque(numbers)\n",
        "    if direction == 'right':\n",
        "        numbers.rotate(1)\n",
        "    else:\n",
        "        numbers.rotate(-1)\n",
        "    return list(numbers)"
      ],
      "metadata": {
        "id": "nV2YNJkE3BrA"
      },
      "execution_count": 18,
      "outputs": []
    },
    {
      "cell_type": "code",
      "source": [
        "# 숫자랑 리스트 못 합쳐서 위에 처럼 했는데 이렇게 하면 되네\n",
        "def solution(numbers, direction):\n",
        "    if direction == \"right\":\n",
        "        answer = [numbers[-1]] + numbers[:len(numbers)-1]\n",
        "    else:\n",
        "        answer = numbers[1:] + [numbers[0]]\n",
        "    return answer"
      ],
      "metadata": {
        "id": "RhuHrDRi3QDe"
      },
      "execution_count": null,
      "outputs": []
    }
  ]
}