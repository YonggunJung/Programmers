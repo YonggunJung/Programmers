{
  "nbformat": 4,
  "nbformat_minor": 0,
  "metadata": {
    "colab": {
      "provenance": [],
      "authorship_tag": "ABX9TyMn1TrCL+EbL1lIv7Rx1qGO",
      "include_colab_link": true
    },
    "kernelspec": {
      "name": "python3",
      "display_name": "Python 3"
    },
    "language_info": {
      "name": "python"
    }
  },
  "cells": [
    {
      "cell_type": "markdown",
      "metadata": {
        "id": "view-in-github",
        "colab_type": "text"
      },
      "source": [
        "<a href=\"https://colab.research.google.com/github/YonggunJung/Programmers/blob/main/%EC%BA%90%EB%A6%AD%ED%84%B0%EC%9D%98_%EC%A2%8C%ED%91%9C.ipynb\" target=\"_parent\"><img src=\"https://colab.research.google.com/assets/colab-badge.svg\" alt=\"Open In Colab\"/></a>"
      ]
    },
    {
      "cell_type": "code",
      "execution_count": 1,
      "metadata": {
        "id": "W2_1yGO3mbzI"
      },
      "outputs": [],
      "source": [
        "# 문제 설명\n",
        "# 머쓱이는 RPG게임을 하고 있습니다.\n",
        "# 게임에는 up, down, left, right 방향키가 있으며\n",
        "# 각 키를 누르면 위, 아래, 왼쪽, 오른쪽으로 한 칸씩 이동합니다.\n",
        "# 예를 들어 [0,0]에서 up을 누른다면 캐릭터의 좌표는 [0, 1],\n",
        "# down을 누른다면 [0, -1], left를 누른다면 [-1, 0], right를 누른다면 [1, 0]입니다.\n",
        "# 머쓱이가 입력한 방향키의 배열 keyinput와 맵의 크기 board이 매개변수로 주어집니다.\n",
        "# 캐릭터는 항상 [0,0]에서 시작할 때\n",
        "# 키 입력이 모두 끝난 뒤에 캐릭터의 좌표 [x, y]를 return하도록 solution 함수를 완성해주세요.\n",
        "\n",
        "# [0, 0]은 board의 정 중앙에 위치합니다.\n",
        "# 예를 들어 board의 가로 크기가 9라면\n",
        "# 캐릭터는 왼쪽으로 최대 [-4, 0]까지 오른쪽으로 최대 [4, 0]까지 이동할 수 있습니다.\n",
        "\n",
        "# 제한사항\n",
        "# board은 [가로 크기, 세로 크기] 형태로 주어집니다.\n",
        "# board의 가로 크기와 세로 크기는 홀수입니다.\n",
        "# board의 크기를 벗어난 방향키 입력은 무시합니다.\n",
        "# 0 ≤ keyinput의 길이 ≤ 50\n",
        "# 1 ≤ board[0] ≤ 99\n",
        "# 1 ≤ board[1] ≤ 99\n",
        "# keyinput은 항상 up, down, left, right만 주어집니다.\n",
        "\n",
        "# 입출력 예\n",
        "# keyinput\t                                      board\t            result\n",
        "# [\"left\", \"right\", \"up\", \"right\", \"right\"]\t      [11, 11]\t        [2, 1]\n",
        "# [\"down\", \"down\", \"down\", \"down\", \"down\"]\t      [7, 9]\t          [0, -4]\n",
        "# 입출력 예 설명\n",
        "# 입출력 예 설명 #1\n",
        "# [0, 0]에서 왼쪽으로 한 칸 오른쪽으로 한 칸 위로 한 칸 오른쪽으로 두 칸 이동한 좌표는 [2, 1]입니다.\n",
        "\n",
        "# 입출력 예 설명 #2\n",
        "# [0, 0]에서 아래로 다섯 칸 이동한 좌표는 [0, -5]이지만\n",
        "# 맵의 세로 크기가 9이므로 아래로는 네 칸을 넘어서 이동할 수 없습니다.\n",
        "# 따라서 [0, -4]를 return합니다."
      ]
    },
    {
      "cell_type": "code",
      "source": [
        "# 이 코드가 왜 안되는지 모르겠음\n",
        "# 프로그래머스 프로그램에서도 이유 설명이 없음 ㅠㅠ 90점 나옴 하나가 안됨\n",
        "# def solution(keyinput, board):\n",
        "#     answer = [0, 0]\n",
        "#     # abs(answer[0]) = abs((board[0]-1) //2)\n",
        "#     for d in keyinput:\n",
        "#       if d == \"left\":\n",
        "#         if abs(answer[0]) == (board[0]-1) //2:\n",
        "#           pass\n",
        "#         else:\n",
        "#           answer[0] -= 1\n",
        "#       elif d == \"right\":\n",
        "#         if abs(answer[0]) == (board[0]-1) //2:\n",
        "#           pass\n",
        "#         else:\n",
        "#           answer[0] += 1\n",
        "#       elif d == \"up\":\n",
        "#         if abs(answer[1]) == (board[1]-1) //2:\n",
        "#           pass\n",
        "#         else:\n",
        "#           answer[1] += 1\n",
        "#       elif d == \"down\":\n",
        "#         if abs(answer[1]) == (board[1]-1) //2:\n",
        "#           pass\n",
        "#         else:\n",
        "#           answer[1] -= 1\n",
        "\n",
        "#     return answer"
      ],
      "metadata": {
        "id": "pSLHsvl9m8ot"
      },
      "execution_count": 33,
      "outputs": []
    },
    {
      "cell_type": "code",
      "source": [
        "keyinput = [\"left\", \"right\", \"up\", \"right\", \"right\"]\n",
        "board = [11, 11]\n",
        "solution(keyinput, board)"
      ],
      "metadata": {
        "colab": {
          "base_uri": "https://localhost:8080/"
        },
        "id": "Br5fsGWZm9R3",
        "outputId": "5fecfca6-ce5e-4680-92e1-8e503984432f"
      },
      "execution_count": 34,
      "outputs": [
        {
          "output_type": "execute_result",
          "data": {
            "text/plain": [
              "[2, 1]"
            ]
          },
          "metadata": {},
          "execution_count": 34
        }
      ]
    },
    {
      "cell_type": "code",
      "source": [
        "keyinput = [\"down\", \"down\", \"down\", \"down\", \"down\"]\n",
        "board = [7, 9]\n",
        "solution(keyinput, board)"
      ],
      "metadata": {
        "colab": {
          "base_uri": "https://localhost:8080/"
        },
        "id": "ZbXkHSB8nBuB",
        "outputId": "280760c3-c35b-4caa-ecaa-c6d06e48b5fc"
      },
      "execution_count": 35,
      "outputs": [
        {
          "output_type": "execute_result",
          "data": {
            "text/plain": [
              "[0, -4]"
            ]
          },
          "metadata": {},
          "execution_count": 35
        }
      ]
    },
    {
      "cell_type": "code",
      "source": [
        "# 풀이\n",
        "def solution(keyinput, board):\n",
        "  dirs = {\"up\":(0, 1), \"down\":(0, -1), \"left\":(-1, 0), \"right\":(1, 0)}\n",
        "  H, V = (board[0]+1)//2, (board[1]+1)//2\n",
        "  H_cur, V_cur = 0, 0\n",
        "  for d in keyinput:\n",
        "    H_mov, V_mov = dirs[d]\n",
        "    H_new, V_new = H_cur + H_mov, V_cur + V_mov\n",
        "    if abs(H_new) < H and abs(V_new) < V:\n",
        "      H_cur, V_cur = H_new, V_new\n",
        "  return [H_cur, V_cur]\n"
      ],
      "metadata": {
        "id": "nr_ZLTtCtZcS"
      },
      "execution_count": 36,
      "outputs": []
    },
    {
      "cell_type": "code",
      "source": [
        "keyinput = [\"left\", \"right\", \"up\", \"right\", \"right\"]\n",
        "board = [11, 11]\n",
        "solution(keyinput, board)"
      ],
      "metadata": {
        "colab": {
          "base_uri": "https://localhost:8080/"
        },
        "id": "iCsT2zxRnBrv",
        "outputId": "530de840-26b1-4f00-8d22-0c79950889a3"
      },
      "execution_count": 37,
      "outputs": [
        {
          "output_type": "execute_result",
          "data": {
            "text/plain": [
              "[2, 1]"
            ]
          },
          "metadata": {},
          "execution_count": 37
        }
      ]
    },
    {
      "cell_type": "code",
      "source": [
        "keyinput = [\"down\", \"down\", \"down\", \"down\", \"down\"]\n",
        "board = [7, 9]\n",
        "solution(keyinput, board)"
      ],
      "metadata": {
        "colab": {
          "base_uri": "https://localhost:8080/"
        },
        "id": "N1NeTBiNwkRn",
        "outputId": "44f01175-fd21-41fd-80fd-bd7a6a988b3d"
      },
      "execution_count": 38,
      "outputs": [
        {
          "output_type": "execute_result",
          "data": {
            "text/plain": [
              "[0, -4]"
            ]
          },
          "metadata": {},
          "execution_count": 38
        }
      ]
    },
    {
      "cell_type": "code",
      "source": [
        "# 다른 사람 풀이"
      ],
      "metadata": {
        "id": "qA4OoRhgwlS2"
      },
      "execution_count": 39,
      "outputs": []
    },
    {
      "cell_type": "code",
      "source": [],
      "metadata": {
        "id": "NC1MoR_zwnqn"
      },
      "execution_count": null,
      "outputs": []
    }
  ]
}