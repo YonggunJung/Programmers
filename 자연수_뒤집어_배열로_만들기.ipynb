{
  "nbformat": 4,
  "nbformat_minor": 0,
  "metadata": {
    "colab": {
      "provenance": [],
      "authorship_tag": "ABX9TyO4rqaDLItNw00arYvBiWXQ",
      "include_colab_link": true
    },
    "kernelspec": {
      "name": "python3",
      "display_name": "Python 3"
    },
    "language_info": {
      "name": "python"
    }
  },
  "cells": [
    {
      "cell_type": "markdown",
      "metadata": {
        "id": "view-in-github",
        "colab_type": "text"
      },
      "source": [
        "<a href=\"https://colab.research.google.com/github/YonggunJung/Programmers/blob/main/%EC%9E%90%EC%97%B0%EC%88%98_%EB%92%A4%EC%A7%91%EC%96%B4_%EB%B0%B0%EC%97%B4%EB%A1%9C_%EB%A7%8C%EB%93%A4%EA%B8%B0.ipynb\" target=\"_parent\"><img src=\"https://colab.research.google.com/assets/colab-badge.svg\" alt=\"Open In Colab\"/></a>"
      ]
    },
    {
      "cell_type": "code",
      "execution_count": 1,
      "metadata": {
        "id": "XokYD3zn9tCl"
      },
      "outputs": [],
      "source": [
        "# 문제 설명\n",
        "# 자연수 n을 뒤집어 각 자리 숫자를 원소로 가지는 배열 형태로 리턴해주세요.\n",
        "# 예를들어 n이 12345이면 [5,4,3,2,1]을 리턴합니다.\n",
        "\n",
        "# 제한 조건\n",
        "# n은 10,000,000,000이하인 자연수입니다.\n",
        "\n",
        "# 입출력 예\n",
        "# n\t        return\n",
        "# 12345\t    [5,4,3,2,1]"
      ]
    },
    {
      "cell_type": "code",
      "source": [
        "def solution(n):\n",
        "    answer = []\n",
        "    for i in str(n)[::-1]:\n",
        "        answer.append(int(i))\n",
        "    return answer"
      ],
      "metadata": {
        "id": "6V9viV_49xlB"
      },
      "execution_count": 2,
      "outputs": []
    },
    {
      "cell_type": "code",
      "source": [],
      "metadata": {
        "id": "ykh6AmbY9-27"
      },
      "execution_count": null,
      "outputs": []
    }
  ]
}