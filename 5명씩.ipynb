{
  "nbformat": 4,
  "nbformat_minor": 0,
  "metadata": {
    "colab": {
      "provenance": [],
      "authorship_tag": "ABX9TyMKxfj3is7s0kPfoZo5TPZD",
      "include_colab_link": true
    },
    "kernelspec": {
      "name": "python3",
      "display_name": "Python 3"
    },
    "language_info": {
      "name": "python"
    }
  },
  "cells": [
    {
      "cell_type": "markdown",
      "metadata": {
        "id": "view-in-github",
        "colab_type": "text"
      },
      "source": [
        "<a href=\"https://colab.research.google.com/github/YonggunJung/Programmers/blob/main/5%EB%AA%85%EC%94%A9.ipynb\" target=\"_parent\"><img src=\"https://colab.research.google.com/assets/colab-badge.svg\" alt=\"Open In Colab\"/></a>"
      ]
    },
    {
      "cell_type": "code",
      "execution_count": 1,
      "metadata": {
        "id": "yL7S0bcyW2th"
      },
      "outputs": [],
      "source": [
        "# 문제 설명\n",
        "# 최대 5명씩 탑승가능한 놀이기구를 타기 위해 줄을 서있는 사람들의\n",
        "# 이름이 담긴 문자열 리스트 names가 주어질 때,\n",
        "# 앞에서 부터 5명씩 묶은 그룹의 가장 앞에 서있는 사람들의 이름을 담은 리스트를\n",
        "# return하도록 solution 함수를 완성해주세요.\n",
        "# 마지막 그룹이 5명이 되지 않더라도 가장 앞에 있는 사람의 이름을 포함합니다.\n",
        "\n",
        "# 제한사항\n",
        "# 5 ≤ names의 길이 ≤ 30\n",
        "# 1 ≤ names의 원소의 길이 ≤ 10\n",
        "# names의 원소는 영어 알파벳 소문자로만 이루어져 있습니다.\n",
        "\n",
        "# 입출력 예\n",
        "# names\t                                                              result\n",
        "# [\"nami\", \"ahri\", \"jayce\", \"garen\", \"ivern\", \"vex\", \"jinx\"]\t        [\"nami\", \"vex\"]\n",
        "\n",
        "# 입출력 예 설명\n",
        "# 입출력 예 #1\n",
        "# 앞에서부터 5명씩 두 그룹으로 묶을 수 있습니다.\n",
        "#  [\"nami\", \"ahri\", \"jayce\", \"garen\", \"ivern\"],\n",
        "#   [\"vex\", \"jinx\"] 이 두 그룹에서 가장 앞에 서있는 사람들의\n",
        "#   이름을 담은 리스트인 [\"nami\", \"vex\"]를 return합니다."
      ]
    },
    {
      "cell_type": "code",
      "source": [
        "def solution(names):\n",
        "    answer = names[::5]\n",
        "    return answer"
      ],
      "metadata": {
        "id": "Ga3uNR1sXSlh"
      },
      "execution_count": 4,
      "outputs": []
    },
    {
      "cell_type": "code",
      "source": [
        "names = [\"nami\", \"ahri\", \"jayce\", \"garen\", \"ivern\", \"vex\", \"jinx\"]\n",
        "solution(names)"
      ],
      "metadata": {
        "colab": {
          "base_uri": "https://localhost:8080/"
        },
        "id": "pybsMQUNXZEP",
        "outputId": "afa7cdfe-1612-42f7-e428-85aef88fcaff"
      },
      "execution_count": 5,
      "outputs": [
        {
          "output_type": "execute_result",
          "data": {
            "text/plain": [
              "['nami', 'vex']"
            ]
          },
          "metadata": {},
          "execution_count": 5
        }
      ]
    },
    {
      "cell_type": "code",
      "source": [
        "# 다른 사람 풀이"
      ],
      "metadata": {
        "id": "qJX2Wti1Xdvg"
      },
      "execution_count": 6,
      "outputs": []
    },
    {
      "cell_type": "code",
      "source": [
        "# 노가다 ㅋㅋㅋ\n",
        "def solution(names):\n",
        "    answer1 = names[:1]\n",
        "    answer2 = names[5:6]\n",
        "    answer3 = names[10:11]\n",
        "    answer4 = names[15:16]\n",
        "    answer5 = names[20:21]\n",
        "    answer6 = names[25:26]\n",
        "    answer7 = names[30:31]\n",
        "    answer = answer1 +answer2+answer3+answer4+answer5+answer6+answer7\n",
        "    return answer"
      ],
      "metadata": {
        "id": "2i0ENycgXlHZ"
      },
      "execution_count": 7,
      "outputs": []
    },
    {
      "cell_type": "code",
      "source": [
        "def solution(names):\n",
        "    answer = []\n",
        "    for i in range(len(names)):\n",
        "        if i % 5 == 0:\n",
        "            answer.append(names[i])\n",
        "    return answer\n"
      ],
      "metadata": {
        "id": "7INLUjh8Xo8v"
      },
      "execution_count": 8,
      "outputs": []
    },
    {
      "cell_type": "code",
      "source": [],
      "metadata": {
        "id": "M3K0UAALXq63"
      },
      "execution_count": null,
      "outputs": []
    }
  ]
}