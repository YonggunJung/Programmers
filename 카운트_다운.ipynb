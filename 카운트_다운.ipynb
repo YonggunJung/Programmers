{
  "nbformat": 4,
  "nbformat_minor": 0,
  "metadata": {
    "colab": {
      "provenance": [],
      "authorship_tag": "ABX9TyPlfM6LCHAcgmkQEiEZv9gB",
      "include_colab_link": true
    },
    "kernelspec": {
      "name": "python3",
      "display_name": "Python 3"
    },
    "language_info": {
      "name": "python"
    }
  },
  "cells": [
    {
      "cell_type": "markdown",
      "metadata": {
        "id": "view-in-github",
        "colab_type": "text"
      },
      "source": [
        "<a href=\"https://colab.research.google.com/github/YonggunJung/Programmers/blob/main/%EC%B9%B4%EC%9A%B4%ED%8A%B8_%EB%8B%A4%EC%9A%B4.ipynb\" target=\"_parent\"><img src=\"https://colab.research.google.com/assets/colab-badge.svg\" alt=\"Open In Colab\"/></a>"
      ]
    },
    {
      "cell_type": "code",
      "execution_count": 1,
      "metadata": {
        "id": "RN_H-bWnNU6-"
      },
      "outputs": [],
      "source": [
        "# 문제 설명\n",
        "# 정수 start_num와 end_num가 주어질 때,\n",
        "# start_num에서 end_num까지 1씩 감소하는 수들을 차례로 담은 리스트를\n",
        "# return하도록 solution 함수를 완성해주세요.\n",
        "\n",
        "# 제한사항\n",
        "# 0 ≤ end_num ≤ start_num ≤ 50\n",
        "\n",
        "# 입출력 예\n",
        "# start_num\t      end_num\t          result\n",
        "# 10\t              3\t              [10, 9, 8, 7, 6, 5, 4, 3]\n",
        "\n",
        "# 입출력 예 설명\n",
        "# 입출력 예 #1\n",
        "# 10부터 3까지 1씩 감소하는 수를 담은 리스트는 [10, 9, 8, 7, 6, 5, 4, 3]입니다."
      ]
    },
    {
      "cell_type": "code",
      "source": [
        "def solution(start, end_num):\n",
        "    answer = list(range(start, end_num-1, -1))\n",
        "\n",
        "    return answer"
      ],
      "metadata": {
        "id": "sW237v-JNbKi"
      },
      "execution_count": 12,
      "outputs": []
    },
    {
      "cell_type": "code",
      "source": [
        "start = 10\n",
        "end_num = 3\n",
        "solution(start, end_num)"
      ],
      "metadata": {
        "colab": {
          "base_uri": "https://localhost:8080/"
        },
        "id": "6ARqWp89NdE6",
        "outputId": "d5831fcc-8083-435d-9527-7a17ecdb81ad"
      },
      "execution_count": 13,
      "outputs": [
        {
          "output_type": "execute_result",
          "data": {
            "text/plain": [
              "[10, 9, 8, 7, 6, 5, 4, 3]"
            ]
          },
          "metadata": {},
          "execution_count": 13
        }
      ]
    },
    {
      "cell_type": "code",
      "source": [
        "# 다른 사람 풀이"
      ],
      "metadata": {
        "id": "-hWL5rIoNgGO"
      },
      "execution_count": 14,
      "outputs": []
    },
    {
      "cell_type": "code",
      "source": [
        "def solution(start, end):\n",
        "    return [i for i in range(start,end-1,-1)]"
      ],
      "metadata": {
        "id": "C-DtFoAwOJFj"
      },
      "execution_count": 15,
      "outputs": []
    },
    {
      "cell_type": "code",
      "source": [
        "def solution(start, end):\n",
        "    answer = [i for i in range(end, start  + 1)][::-1]\n",
        "    return answer"
      ],
      "metadata": {
        "id": "5BN1A3iLOPoS"
      },
      "execution_count": 16,
      "outputs": []
    },
    {
      "cell_type": "code",
      "source": [],
      "metadata": {
        "id": "owHH9nj7OQli"
      },
      "execution_count": null,
      "outputs": []
    }
  ]
}