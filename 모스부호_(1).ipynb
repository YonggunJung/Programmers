{
  "nbformat": 4,
  "nbformat_minor": 0,
  "metadata": {
    "colab": {
      "provenance": [],
      "authorship_tag": "ABX9TyOhKRbFRB8hib0SbY6xndnU",
      "include_colab_link": true
    },
    "kernelspec": {
      "name": "python3",
      "display_name": "Python 3"
    },
    "language_info": {
      "name": "python"
    }
  },
  "cells": [
    {
      "cell_type": "markdown",
      "metadata": {
        "id": "view-in-github",
        "colab_type": "text"
      },
      "source": [
        "<a href=\"https://colab.research.google.com/github/YonggunJung/Programmers/blob/main/%EB%AA%A8%EC%8A%A4%EB%B6%80%ED%98%B8_(1).ipynb\" target=\"_parent\"><img src=\"https://colab.research.google.com/assets/colab-badge.svg\" alt=\"Open In Colab\"/></a>"
      ]
    },
    {
      "cell_type": "code",
      "execution_count": null,
      "metadata": {
        "id": "-RAhYSI-i3qW"
      },
      "outputs": [],
      "source": [
        "# 문제 설명\n",
        "# 머쓱이는 친구에게 모스부호를 이용한 편지를 받았습니다.\n",
        "# 그냥은 읽을 수 없어 이를 해독하는 프로그램을 만들려고 합니다.\n",
        "# 문자열 letter가 매개변수로 주어질 때, letter를 영어 소문자로 바꾼 문자열을\n",
        "# return 하도록 solution 함수를 완성해보세요.\n",
        "\n",
        "# 모스부호는 다음과 같습니다.\n",
        "# morse = {\n",
        "#     '.-':'a','-...':'b','-.-.':'c','-..':'d','.':'e','..-.':'f',\n",
        "#     '--.':'g','....':'h','..':'i','.---':'j','-.-':'k','.-..':'l',\n",
        "#     '--':'m','-.':'n','---':'o','.--.':'p','--.-':'q','.-.':'r',\n",
        "#     '...':'s','-':'t','..-':'u','...-':'v','.--':'w','-..-':'x',\n",
        "#     '-.--':'y','--..':'z'\n",
        "# }\n",
        "\n",
        "# 제한사항\n",
        "# 1 ≤ letter의 길이 ≤ 1,000\n",
        "# return값은 소문자입니다.\n",
        "# letter의 모스부호는 공백으로 나누어져 있습니다.\n",
        "# letter에 공백은 연속으로 두 개 이상 존재하지 않습니다.\n",
        "# 해독할 수 없는 편지는 주어지지 않습니다.\n",
        "# 편지의 시작과 끝에는 공백이 없습니다.\n",
        "\n",
        "# 입출력 예\n",
        "# letter\t                          result\n",
        "# \".... . .-.. .-.. ---\"\t          \"hello\"\n",
        "# \".--. -.-- - .... --- -.\"\t        \"python\"\n",
        "\n",
        "# 입출력 예 설명\n",
        "# 입출력 예 #1\n",
        "# .... = h\n",
        "# . = e\n",
        "# .-.. = l\n",
        "# .-.. = l\n",
        "# --- = o\n",
        "# 따라서 \"hello\"를 return 합니다.\n",
        "\n",
        "# 입출력 예 #2\n",
        "# .--. = p\n",
        "# -.-- = y\n",
        "# - = t\n",
        "# .... = h\n",
        "# --- = o\n",
        "# -. = n\n",
        "# 따라서 \"python\"을 return 합니다.\n",
        "\n",
        "# a ~ z에 해당하는 모스부호가 순서대로 담긴 배열입니다.\n",
        "# {\".-\",\n",
        "#  \"-...\",\n",
        "#  \"-.-.\",\n",
        "#  \"-..\",\n",
        "#  \".\",\n",
        "#  \"..-.\",\n",
        "#  \"--.\",\n",
        "#  \"....\",\n",
        "#  \"..\",\n",
        "#  \".---\",\n",
        "#  \"-.-\",\n",
        "#  \".-..\",\n",
        "#  \"--\",\n",
        "#  \"-.\",\n",
        "#  \"---\",\n",
        "#  \".--.\",\n",
        "#  \"--.-\",\n",
        "#  \".-.\",\n",
        "#  \"...\",\n",
        "#  \"-\",\n",
        "#  \"..-\",\n",
        "#  \"...-\",\n",
        "#  \".--\",\n",
        "#  \"-..-\",\n",
        "#  \"-.--\",\n",
        "#  \"--..\"}"
      ]
    },
    {
      "cell_type": "code",
      "source": [
        "# 뭔가 이상함, 찜찜함, 스필릿 꼭 해줘야 하나 이런 생각\n",
        "# 모스에 밸류값 이라는걸 안넣어 줘도 되는 건지\n",
        "def solution(letter):\n",
        "    answer = ''\n",
        "    morse = {\n",
        "      '.-':'a','-...':'b','-.-.':'c','-..':'d','.':'e','..-.':'f',\n",
        "      '--.':'g','....':'h','..':'i','.---':'j','-.-':'k','.-..':'l',\n",
        "      '--':'m','-.':'n','---':'o','.--.':'p','--.-':'q','.-.':'r',\n",
        "      '...':'s','-':'t','..-':'u','...-':'v','.--':'w','-..-':'x',\n",
        "      '-.--':'y','--..':'z'\n",
        "    }\n",
        "    for char in letter.split():\n",
        "      answer += morse[char]\n",
        "    return answer"
      ],
      "metadata": {
        "id": "TOhbr0cDjWq0"
      },
      "execution_count": 12,
      "outputs": []
    },
    {
      "cell_type": "code",
      "source": [
        "letter = \".... . .-.. .-.. ---\"\n",
        "solution(letter)"
      ],
      "metadata": {
        "colab": {
          "base_uri": "https://localhost:8080/",
          "height": 35
        },
        "id": "YNySrz-5jWol",
        "outputId": "35b3e64c-1307-4dd1-c9d8-d58477674fcd"
      },
      "execution_count": 13,
      "outputs": [
        {
          "output_type": "execute_result",
          "data": {
            "text/plain": [
              "'hello'"
            ],
            "application/vnd.google.colaboratory.intrinsic+json": {
              "type": "string"
            }
          },
          "metadata": {},
          "execution_count": 13
        }
      ]
    },
    {
      "cell_type": "code",
      "source": [
        "letter = \".--. -.-- - .... --- -.\"\n",
        "solution(letter)"
      ],
      "metadata": {
        "colab": {
          "base_uri": "https://localhost:8080/",
          "height": 35
        },
        "id": "TfXjyU7DjUrz",
        "outputId": "d40637ad-b3bb-4705-de7e-c662ded6a6ac"
      },
      "execution_count": 14,
      "outputs": [
        {
          "output_type": "execute_result",
          "data": {
            "text/plain": [
              "'python'"
            ],
            "application/vnd.google.colaboratory.intrinsic+json": {
              "type": "string"
            }
          },
          "metadata": {},
          "execution_count": 14
        }
      ]
    },
    {
      "cell_type": "code",
      "source": [
        "# 다른 사람 풀이"
      ],
      "metadata": {
        "id": "bAmr6DQvjeEv"
      },
      "execution_count": 15,
      "outputs": []
    },
    {
      "cell_type": "code",
      "source": [
        "# 이걸 보고 스플릿을 안해도 될거라는건 착각 이었다는걸 알았음\n",
        "def solution(letter):\n",
        "    answer = ''\n",
        "    letter = letter.split()\n",
        "    morse = {\n",
        "    '.-':'a','-...':'b','-.-.':'c','-..':'d','.':'e','..-.':'f',\n",
        "    '--.':'g','....':'h','..':'i','.---':'j','-.-':'k','.-..':'l',\n",
        "    '--':'m','-.':'n','---':'o','.--.':'p','--.-':'q','.-.':'r',\n",
        "    '...':'s','-':'t','..-':'u','...-':'v','.--':'w','-..-':'x',\n",
        "    '-.--':'y','--..':'z'\n",
        "    }\n",
        "    for c in letter:\n",
        "        answer += morse[c]\n",
        "\n",
        "    return answer"
      ],
      "metadata": {
        "id": "oLWVgq76l-RZ"
      },
      "execution_count": 16,
      "outputs": []
    },
    {
      "cell_type": "code",
      "source": [
        "# 나도 이렇게 생각을 했었는데 딕셔너리에서 키를 넣으면 값이 나오는게 당연하니까 라고 넘어갔음\n",
        "def solution(letter):\n",
        "    answer = ''\n",
        "    morse = {\n",
        "    '.-':'a','-...':'b','-.-.':'c','-..':'d','.':'e','..-.':'f',\n",
        "    '--.':'g','....':'h','..':'i','.---':'j','-.-':'k','.-..':'l',\n",
        "    '--':'m','-.':'n','---':'o','.--.':'p','--.-':'q','.-.':'r',\n",
        "    '...':'s','-':'t','..-':'u','...-':'v','.--':'w','-..-':'x',\n",
        "    '-.--':'y','--..':'z'\n",
        "}\n",
        "    split_letter = letter.split()\n",
        "    for key, value in morse.items():\n",
        "        for i in range(len(split_letter)):\n",
        "            if split_letter[i] == key:\n",
        "                split_letter[i] = value\n",
        "\n",
        "    for i in split_letter:\n",
        "        answer += i\n",
        "\n",
        "\n",
        "\n",
        "    return answer"
      ],
      "metadata": {
        "id": "3cnR49iwmZSS"
      },
      "execution_count": null,
      "outputs": []
    }
  ]
}