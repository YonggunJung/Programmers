{
  "nbformat": 4,
  "nbformat_minor": 0,
  "metadata": {
    "colab": {
      "provenance": [],
      "authorship_tag": "ABX9TyOZG25HEuhHXREMXCRw1ozY",
      "include_colab_link": true
    },
    "kernelspec": {
      "name": "python3",
      "display_name": "Python 3"
    },
    "language_info": {
      "name": "python"
    }
  },
  "cells": [
    {
      "cell_type": "markdown",
      "metadata": {
        "id": "view-in-github",
        "colab_type": "text"
      },
      "source": [
        "<a href=\"https://colab.research.google.com/github/YonggunJung/Programmers/blob/main/%EA%B8%B0%EC%82%AC%EB%8B%A8%EC%9B%90%EC%9D%98_%EB%AC%B4%EA%B8%B0.ipynb\" target=\"_parent\"><img src=\"https://colab.research.google.com/assets/colab-badge.svg\" alt=\"Open In Colab\"/></a>"
      ]
    },
    {
      "cell_type": "code",
      "execution_count": 1,
      "metadata": {
        "id": "TdA7pELjiwed"
      },
      "outputs": [],
      "source": [
        "# 문제 설명\n",
        "# 숫자나라 기사단의 각 기사에게는 1번부터 number까지 번호가 지정되어 있습니다.\n",
        "# 기사들은 무기점에서 무기를 구매하려고 합니다.\n",
        "\n",
        "# 각 기사는 자신의 기사 번호의 약수 개수에 해당하는 공격력을 가진 무기를 구매하려 합니다.\n",
        "# 단, 이웃나라와의 협약에 의해 공격력의 제한수치를 정하고,\n",
        "# 제한수치보다 큰 공격력을 가진 무기를 구매해야 하는 기사는\n",
        "# 협약기관에서 정한 공격력을 가지는 무기를 구매해야 합니다.\n",
        "\n",
        "# 예를 들어, 15번으로 지정된 기사단원은 15의 약수가 1, 3, 5, 15로 4개 이므로,\n",
        "# 공격력이 4인 무기를 구매합니다.\n",
        "# 만약, 이웃나라와의 협약으로 정해진 공격력의 제한수치가 3이고\n",
        "# 제한수치를 초과한 기사가 사용할 무기의 공격력이 2라면,\n",
        "# 15번으로 지정된 기사단원은 무기점에서 공격력이 2인 무기를 구매합니다.\n",
        "# 무기를 만들 때, 무기의 공격력 1당 1kg의 철이 필요합니다.\n",
        "# 그래서 무기점에서 무기를 모두 만들기 위해 필요한 철의 무게를 미리 계산하려 합니다.\n",
        "\n",
        "# 기사단원의 수를 나타내는 정수 number와\n",
        "# 이웃나라와 협약으로 정해진 공격력의 제한수치를 나타내는 정수 limit와\n",
        "# 제한수치를 초과한 기사가 사용할 무기의 공격력을 나타내는 정수 power가 주어졌을 때,\n",
        "# 무기점의 주인이 무기를 모두 만들기 위해 필요한 철의 무게를 return 하는 solution 함수를 완성하시오.\n",
        "\n",
        "# 제한사항\n",
        "# 1 ≤ number ≤ 100,000\n",
        "# 2 ≤ limit ≤ 100\n",
        "# 1 ≤ power ≤ limit\n",
        "\n",
        "# 입출력 예\n",
        "# number\tlimit   \tpower\t    result\n",
        "# 5\t        3\t        2\t        10\n",
        "# 10\t      3\t        2       \t21\n",
        "\n",
        "# 입출력 예 설명\n",
        "# 입출력 예 #1\n",
        "# 1부터 5까지의 약수의 개수는 순서대로 [1, 2, 2, 3, 2]개입니다.\n",
        "# 모두 공격력 제한 수치인 3을 넘지 않기 때문에 필요한 철의 무게는 해당 수들의 합인 10이 됩니다.\n",
        "# 따라서 10을 return 합니다.\n",
        "\n",
        "# 입출력 예 #2\n",
        "# 1부터 10까지의 약수의 개수는 순서대로 [1, 2, 2, 3, 2, 4, 2, 4, 3, 4]개입니다.\n",
        "# 공격력의 제한수치가 3이기 때문에, 6, 8, 10번 기사는 공격력이 2인 무기를 구매합니다.\n",
        "# 따라서 해당 수들의 합인 21을 return 합니다."
      ]
    },
    {
      "cell_type": "code",
      "source": [
        "\n",
        "#  시간 복잡도 나오니까 어려워 지네\n",
        "# 이제 공부가 필요한 시점인듯\n",
        "def solution(number, limit, power):\n",
        "    answer = 0\n",
        "    for i in range(1, number+1):\n",
        "        cnt = 0\n",
        "        for j in range(1, int(i**0.5) + 1):\n",
        "            if i % j ==0:\n",
        "                cnt += 1\n",
        "                if j != i/j:\n",
        "                  cnt += 1\n",
        "\n",
        "        if cnt > limit:\n",
        "            answer += power\n",
        "        else:\n",
        "            answer += cnt\n",
        "\n",
        "    return answer"
      ],
      "metadata": {
        "id": "f_Hxwn0ZjDCU"
      },
      "execution_count": null,
      "outputs": []
    }
  ]
}