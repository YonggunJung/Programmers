{
  "nbformat": 4,
  "nbformat_minor": 0,
  "metadata": {
    "colab": {
      "provenance": [],
      "authorship_tag": "ABX9TyOApFks8NdcvQcrGj3kz1PK",
      "include_colab_link": true
    },
    "kernelspec": {
      "name": "python3",
      "display_name": "Python 3"
    },
    "language_info": {
      "name": "python"
    }
  },
  "cells": [
    {
      "cell_type": "markdown",
      "metadata": {
        "id": "view-in-github",
        "colab_type": "text"
      },
      "source": [
        "<a href=\"https://colab.research.google.com/github/YonggunJung/Programmers/blob/main/%EB%B0%B0%EC%97%B4_%EB%A7%8C%EB%93%A4%EA%B8%B0_3.ipynb\" target=\"_parent\"><img src=\"https://colab.research.google.com/assets/colab-badge.svg\" alt=\"Open In Colab\"/></a>"
      ]
    },
    {
      "cell_type": "code",
      "execution_count": 1,
      "metadata": {
        "id": "IMG3ORjhijW8"
      },
      "outputs": [],
      "source": [
        "# 문제 설명\n",
        "# 정수 배열 arr와 2개의 구간이 담긴 배열 intervals가 주어집니다.\n",
        "\n",
        "# intervals는 항상 [[a1, b1], [a2, b2]]의 꼴로 주어지며 각 구간은 닫힌 구간입니다.\n",
        "# 닫힌 구간은 양 끝값과 그 사이의 값을 모두 포함하는 구간을 의미합니다.\n",
        "\n",
        "# 이때 배열 arr의 첫 번째 구간에 해당하는 배열과\n",
        "# 두 번째 구간에 해당하는 배열을 앞뒤로 붙여\n",
        "# 새로운 배열을 만들어 return 하는 solution 함수를 완성해 주세요.\n",
        "\n",
        "# 제한사항\n",
        "# 1 ≤ arr의 길이 ≤ 100,000\n",
        "# 1 ≤ arr의 원소 < 100\n",
        "# 1 ≤ a1 ≤ b1 < arr의 길이\n",
        "# 1 ≤ a2 ≤ b2 < arr의 길이\n",
        "\n",
        "# 입출력 예\n",
        "# arr\t                  intervals\t                  result\n",
        "# [1, 2, 3, 4, 5]\t      [[1, 3], [0, 4]]\t          [2, 3, 4, 1, 2, 3, 4, 5]\n",
        "\n",
        "# 입출력 예 설명\n",
        "# 입출력 예 #1\n",
        "# 첫 번째 구간에 해당하는 배열은 [2, 3, 4] 입니다.\n",
        "# 두 번째 구간에 해당하는 배열은 [1, 2, 3, 4, 5] 입니다.\n",
        "# 따라서 이 두 배열을 앞뒤로 붙인 배열인 [2, 3, 4, 1, 2, 3, 4, 5]를 return 합니다."
      ]
    },
    {
      "cell_type": "code",
      "source": [
        "def solution(arr, intervals):\n",
        "    answer = []\n",
        "    for i, j in intervals:\n",
        "      answer += arr[i:j+1]\n",
        "    return answer"
      ],
      "metadata": {
        "id": "3_rKTZTDiwzP"
      },
      "execution_count": 5,
      "outputs": []
    },
    {
      "cell_type": "code",
      "source": [
        "arr = [1, 2, 3, 4, 5]\n",
        "intervals = [[1, 3], [0, 4]]\n",
        "solution(arr, intervals)\n"
      ],
      "metadata": {
        "colab": {
          "base_uri": "https://localhost:8080/"
        },
        "id": "C7fdNckeiyiO",
        "outputId": "fa47da34-f1d6-4f20-d42c-74cba155f6ad"
      },
      "execution_count": 7,
      "outputs": [
        {
          "output_type": "execute_result",
          "data": {
            "text/plain": [
              "[2, 3, 4, 1, 2, 3, 4, 5]"
            ]
          },
          "metadata": {},
          "execution_count": 7
        }
      ]
    },
    {
      "cell_type": "code",
      "source": [
        "# 다른 사람 풀이"
      ],
      "metadata": {
        "id": "tcx6cKMQjMaP"
      },
      "execution_count": 8,
      "outputs": []
    },
    {
      "cell_type": "code",
      "source": [
        "def solution(arr, intervals):\n",
        "    s1, e1 = intervals[0]\n",
        "    s2, e2 = intervals[1]\n",
        "    return arr[s1:e1+1] + arr[s2:e2+1]"
      ],
      "metadata": {
        "id": "w-79d1u_kO94"
      },
      "execution_count": 9,
      "outputs": []
    },
    {
      "cell_type": "code",
      "source": [
        "def solution(arr, intervals):\n",
        "    answer = []\n",
        "    for i in intervals:\n",
        "        _start, _end = i\n",
        "        answer += arr[_start:_end + 1]\n",
        "    return answer"
      ],
      "metadata": {
        "id": "Fvzh2LWXkc6-"
      },
      "execution_count": 10,
      "outputs": []
    },
    {
      "cell_type": "code",
      "source": [],
      "metadata": {
        "id": "_Drfu_k5kgpP"
      },
      "execution_count": null,
      "outputs": []
    }
  ]
}