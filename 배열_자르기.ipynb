{
  "nbformat": 4,
  "nbformat_minor": 0,
  "metadata": {
    "colab": {
      "provenance": [],
      "authorship_tag": "ABX9TyNR4tPt8qSPuCKdyVPubU4D",
      "include_colab_link": true
    },
    "kernelspec": {
      "name": "python3",
      "display_name": "Python 3"
    },
    "language_info": {
      "name": "python"
    }
  },
  "cells": [
    {
      "cell_type": "markdown",
      "metadata": {
        "id": "view-in-github",
        "colab_type": "text"
      },
      "source": [
        "<a href=\"https://colab.research.google.com/github/YonggunJung/Programmers/blob/main/%EB%B0%B0%EC%97%B4_%EC%9E%90%EB%A5%B4%EA%B8%B0.ipynb\" target=\"_parent\"><img src=\"https://colab.research.google.com/assets/colab-badge.svg\" alt=\"Open In Colab\"/></a>"
      ]
    },
    {
      "cell_type": "code",
      "execution_count": null,
      "metadata": {
        "id": "aWKBSVkbuyPX"
      },
      "outputs": [],
      "source": [
        "# 문제 설명\n",
        "# 정수 배열 numbers와 정수 num1, num2가 매개변수로 주어질 때,\n",
        "# numbers의 num1번 째 인덱스부터 num2번째 인덱스까지 자른 정수 배열을\n",
        "# return 하도록 solution 함수를 완성해보세요.\n",
        "\n",
        "# 제한사항\n",
        "# 2 ≤ numbers의 길이 ≤ 30\n",
        "# 0 ≤ numbers의 원소 ≤ 1,000\n",
        "# 0 ≤num1 < num2 < numbers의 길이\n",
        "\n",
        "# 입출력 예\n",
        "# numbers\t              num1\t   num2\t      result\n",
        "# [1, 2, 3, 4, 5]\t        1     \t3\t        [2, 3, 4]\n",
        "# [1, 3, 5]             \t1\t      2\t        [3, 5]\n",
        "\n",
        "# 입출력 예 설명\n",
        "# 입출력 예 #1\n",
        "# [1, 2, 3, 4, 5]의 1번째 인덱스 2부터 3번째 인덱스 4 까지 자른 [2, 3, 4]를 return 합니다.\n",
        "\n",
        "# 입출력 예 #2\n",
        "# [1, 3, 5]의 1번째 인덱스 3부터 2번째 인덱스 5까지 자른 [3, 5]를 return 합니다."
      ]
    },
    {
      "cell_type": "code",
      "source": [
        "# 문제 제대로 안 읽어서 시간 낭비함\n",
        "def solution(numbers, num1, num2):\n",
        "    answer = numbers[num1 : num2 + 1]\n",
        "    return answer"
      ],
      "metadata": {
        "id": "Sp3eo_DIvGro"
      },
      "execution_count": 12,
      "outputs": []
    },
    {
      "cell_type": "code",
      "source": [
        "numbers = [1, 2, 3, 4, 5]\n",
        "num1 = 1\n",
        "num2 = 3\n",
        "solution(numbers, num1, num2)"
      ],
      "metadata": {
        "colab": {
          "base_uri": "https://localhost:8080/"
        },
        "id": "yV8Bu0uRvqAB",
        "outputId": "4657a1bd-ed30-4b7a-f642-d49d50df4069"
      },
      "execution_count": 13,
      "outputs": [
        {
          "output_type": "execute_result",
          "data": {
            "text/plain": [
              "[2, 3, 4]"
            ]
          },
          "metadata": {},
          "execution_count": 13
        }
      ]
    },
    {
      "cell_type": "code",
      "source": [
        "numbers = [1, 3, 5]\n",
        "num1 = 1\n",
        "num2 = 2\n",
        "solution(numbers, num1, num2)"
      ],
      "metadata": {
        "colab": {
          "base_uri": "https://localhost:8080/"
        },
        "id": "8uXr4QEAwCbn",
        "outputId": "87525852-cc09-42ac-fbb1-a5a188bda00c"
      },
      "execution_count": 14,
      "outputs": [
        {
          "output_type": "execute_result",
          "data": {
            "text/plain": [
              "[3, 5]"
            ]
          },
          "metadata": {},
          "execution_count": 14
        }
      ]
    },
    {
      "cell_type": "code",
      "source": [
        "# 다른 사람 풀이"
      ],
      "metadata": {
        "id": "gDLkO3qcxGR9"
      },
      "execution_count": 15,
      "outputs": []
    },
    {
      "cell_type": "code",
      "source": [
        "# append() 사용\n",
        "def solution(numbers, num1, num2):\n",
        "    answer = []\n",
        "    for i in range(num1, (num2+1), 1):\n",
        "        answer.append(numbers[i])\n",
        "\n",
        "    return answer"
      ],
      "metadata": {
        "id": "Rm_ujjfnxX7p"
      },
      "execution_count": 16,
      "outputs": []
    },
    {
      "cell_type": "code",
      "source": [
        "# for문 사용\n",
        "def solution(numbers, num1, num2):\n",
        "    return [numbers[i] for i in range(num1, num2+1)]"
      ],
      "metadata": {
        "id": "nfyWFtI6xh9N"
      },
      "execution_count": null,
      "outputs": []
    }
  ]
}