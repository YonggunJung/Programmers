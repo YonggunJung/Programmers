{
  "nbformat": 4,
  "nbformat_minor": 0,
  "metadata": {
    "colab": {
      "provenance": [],
      "authorship_tag": "ABX9TyNE3Avv0Tv4bHBd3yHmRxua",
      "include_colab_link": true
    },
    "kernelspec": {
      "name": "python3",
      "display_name": "Python 3"
    },
    "language_info": {
      "name": "python"
    }
  },
  "cells": [
    {
      "cell_type": "markdown",
      "metadata": {
        "id": "view-in-github",
        "colab_type": "text"
      },
      "source": [
        "<a href=\"https://colab.research.google.com/github/YonggunJung/Programmers/blob/main/%EC%88%AB%EC%9E%90_%EC%B0%BE%EA%B8%B0.ipynb\" target=\"_parent\"><img src=\"https://colab.research.google.com/assets/colab-badge.svg\" alt=\"Open In Colab\"/></a>"
      ]
    },
    {
      "cell_type": "code",
      "execution_count": 1,
      "metadata": {
        "id": "dOwg0CXF9K0e"
      },
      "outputs": [],
      "source": [
        "# 문제 설명\n",
        "# 정수 num과 k가 매개변수로 주어질 때,\n",
        "# num을 이루는 숫자 중에 k가 있으면 num의 그 숫자가 있는 자리 수를 return하고\n",
        "# 없으면 -1을 return 하도록 solution 함수를 완성해보세요.\n",
        "\n",
        "# 제한사항\n",
        "# 0 < num < 1,000,000\n",
        "# 0 ≤ k < 10\n",
        "# num에 k가 여러 개 있으면 가장 처음 나타나는 자리를 return 합니다.\n",
        "\n",
        "# 입출력 예\n",
        "# num\t        k\t      result\n",
        "# 29183\t      1\t        3\n",
        "# 232443\t    4\t        4\n",
        "# 123456\t    7\t        -1\n",
        "\n",
        "# 입출력 예 설명\n",
        "# 입출력 예 #1\n",
        "# 29183에서 1은 3번째에 있습니다.\n",
        "\n",
        "# 입출력 예 #2\n",
        "# 232443에서 4는 4번째에 처음 등장합니다.\n",
        "\n",
        "# 입출력 예 #3\n",
        "# 123456에 7은 없으므로 -1을 return 합니다."
      ]
    },
    {
      "cell_type": "code",
      "source": [
        "# 매우 쉬워 보이는데 생각 해야 할것 들이 있음\n",
        "def solution(num, k):\n",
        "    answer = 0\n",
        "    if str(k) in str(num):\n",
        "      answer = str(num).index(str(k))+1\n",
        "    else:\n",
        "      answer = -1\n",
        "    return answer"
      ],
      "metadata": {
        "id": "NI1UrGcJ9XXm"
      },
      "execution_count": 13,
      "outputs": []
    },
    {
      "cell_type": "code",
      "source": [
        "num = 29183\n",
        "k = 1\n",
        "solution(num, k)"
      ],
      "metadata": {
        "colab": {
          "base_uri": "https://localhost:8080/"
        },
        "id": "2HgGhEJR9Y3c",
        "outputId": "9b0314fa-9ba7-4c8b-b934-1ff410fa094e"
      },
      "execution_count": 14,
      "outputs": [
        {
          "output_type": "execute_result",
          "data": {
            "text/plain": [
              "3"
            ]
          },
          "metadata": {},
          "execution_count": 14
        }
      ]
    },
    {
      "cell_type": "code",
      "source": [
        "num = 232443\n",
        "k = 4\n",
        "solution(num, k)"
      ],
      "metadata": {
        "colab": {
          "base_uri": "https://localhost:8080/"
        },
        "id": "wLs4TfIh9eY_",
        "outputId": "9fb5bca8-ec01-4322-bea5-5b01f63dac99"
      },
      "execution_count": 15,
      "outputs": [
        {
          "output_type": "execute_result",
          "data": {
            "text/plain": [
              "4"
            ]
          },
          "metadata": {},
          "execution_count": 15
        }
      ]
    },
    {
      "cell_type": "code",
      "source": [
        "num = 123456\n",
        "k = 7\n",
        "solution(num, k)"
      ],
      "metadata": {
        "colab": {
          "base_uri": "https://localhost:8080/"
        },
        "id": "HhVOpJ2L9eWr",
        "outputId": "bb032136-8d0b-469d-eb88-63def9eec8a0"
      },
      "execution_count": 16,
      "outputs": [
        {
          "output_type": "execute_result",
          "data": {
            "text/plain": [
              "-1"
            ]
          },
          "metadata": {},
          "execution_count": 16
        }
      ]
    },
    {
      "cell_type": "code",
      "source": [
        "# 다른사람 풀이"
      ],
      "metadata": {
        "id": "Fo95KlRc9eUb"
      },
      "execution_count": 17,
      "outputs": []
    },
    {
      "cell_type": "code",
      "source": [
        "# find()사용 쉽게 한줄로 했음\n",
        "def solution(num, k):\n",
        "    return -1 if str(k) not in str(num) else str(num).find(str(k)) + 1"
      ],
      "metadata": {
        "id": "h3_GHX6cADAs"
      },
      "execution_count": 18,
      "outputs": []
    },
    {
      "cell_type": "code",
      "source": [
        "# 왜 for문에 i 와 n 이 같으 쓰였는지 모르겠음. 대충 이해는 감\n",
        "def solution(num, k):\n",
        "    for i, n in enumerate(str(num)):\n",
        "        if str(k) == n:\n",
        "            return i + 1\n",
        "    return -1"
      ],
      "metadata": {
        "id": "lFn2HEmtALze"
      },
      "execution_count": null,
      "outputs": []
    }
  ]
}