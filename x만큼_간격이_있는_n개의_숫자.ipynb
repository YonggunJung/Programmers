{
  "nbformat": 4,
  "nbformat_minor": 0,
  "metadata": {
    "colab": {
      "provenance": [],
      "authorship_tag": "ABX9TyObjuQ7vbkwX2OGPxi1ohLs",
      "include_colab_link": true
    },
    "kernelspec": {
      "name": "python3",
      "display_name": "Python 3"
    },
    "language_info": {
      "name": "python"
    }
  },
  "cells": [
    {
      "cell_type": "markdown",
      "metadata": {
        "id": "view-in-github",
        "colab_type": "text"
      },
      "source": [
        "<a href=\"https://colab.research.google.com/github/YonggunJung/Programmers/blob/main/x%EB%A7%8C%ED%81%BC_%EA%B0%84%EA%B2%A9%EC%9D%B4_%EC%9E%88%EB%8A%94_n%EA%B0%9C%EC%9D%98_%EC%88%AB%EC%9E%90.ipynb\" target=\"_parent\"><img src=\"https://colab.research.google.com/assets/colab-badge.svg\" alt=\"Open In Colab\"/></a>"
      ]
    },
    {
      "cell_type": "code",
      "execution_count": 1,
      "metadata": {
        "id": "9yJSVYN9Cl3R"
      },
      "outputs": [],
      "source": [
        "# 문제 설명\n",
        "# 함수 solution은 정수 x와 자연수 n을 입력 받아,\n",
        "# x부터 시작해 x씩 증가하는 숫자를 n개 지니는 리스트를 리턴해야 합니다.\n",
        "# 다음 제한 조건을 보고, 조건을 만족하는 함수, solution을 완성해주세요.\n",
        "\n",
        "# 제한 조건\n",
        "# x는 -10000000 이상, 10000000 이하인 정수입니다.\n",
        "# n은 1000 이하인 자연수입니다.\n",
        "\n",
        "# 입출력 예\n",
        "# x\t    n\t    answer\n",
        "# 2\t    5\t    [2,4,6,8,10]\n",
        "# 4\t    3\t    [4,8,12]\n",
        "# -4\t  2\t    [-4, -8]"
      ]
    },
    {
      "cell_type": "code",
      "source": [
        "def solution(x, n):\n",
        "    answer = []\n",
        "    for i in range(1, n+1):\n",
        "      answer.append(x*i)\n",
        "    return answer"
      ],
      "metadata": {
        "id": "myC1PSP2CsZf"
      },
      "execution_count": 2,
      "outputs": []
    },
    {
      "cell_type": "code",
      "source": [],
      "metadata": {
        "id": "36OJeqe7Dn7z"
      },
      "execution_count": null,
      "outputs": []
    }
  ]
}