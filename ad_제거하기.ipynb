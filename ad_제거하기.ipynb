{
  "nbformat": 4,
  "nbformat_minor": 0,
  "metadata": {
    "colab": {
      "provenance": [],
      "authorship_tag": "ABX9TyP55B3469lgUjCztgWqbS3m",
      "include_colab_link": true
    },
    "kernelspec": {
      "name": "python3",
      "display_name": "Python 3"
    },
    "language_info": {
      "name": "python"
    }
  },
  "cells": [
    {
      "cell_type": "markdown",
      "metadata": {
        "id": "view-in-github",
        "colab_type": "text"
      },
      "source": [
        "<a href=\"https://colab.research.google.com/github/YonggunJung/Programmers/blob/main/ad_%EC%A0%9C%EA%B1%B0%ED%95%98%EA%B8%B0.ipynb\" target=\"_parent\"><img src=\"https://colab.research.google.com/assets/colab-badge.svg\" alt=\"Open In Colab\"/></a>"
      ]
    },
    {
      "cell_type": "code",
      "execution_count": 1,
      "metadata": {
        "id": "y3lwk1OjqCVT"
      },
      "outputs": [],
      "source": [
        "# 문제 설명\n",
        "# 문자열 배열 strArr가 주어집니다.\n",
        "# 배열 내의 문자열 중 \"ad\"라는 부분 문자열을 포함하고 있는 모든 문자열을 제거하고\n",
        "# 남은 문자열을 순서를 유지하여 배열로 return 하는 solution 함수를 완성해 주세요.\n",
        "\n",
        "# 제한사항\n",
        "# 1 ≤ strArr의 길이 ≤ 1,000\n",
        "# 1 ≤ strArr의 원소의 길이 ≤ 20\n",
        "# strArr의 원소는 알파벳 소문자로 이루어진 문자열입니다.\n",
        "\n",
        "# 입출력 예\n",
        "# strArr\t                           result\n",
        "# [\"and\",\"notad\",\"abcd\"]\t           [\"and\",\"abcd\"]\n",
        "# [\"there\",\"are\",\"no\",\"a\",\"ds\"]\t     [\"there\",\"are\",\"no\",\"a\",\"ds\"]\n",
        "\n",
        "# 입출력 예 설명\n",
        "# 입출력 예 #1\n",
        "# 1번 인덱스의 문자열인 \"notad\"는 부분 문자열로 \"ad\"를 가집니다.\n",
        "# 따라서 해당 문자열을 제거하고 나머지는 순서를 유지하여 [\"and\",\"abcd\"]를 return 합니다.\n",
        "\n",
        "# 입출력 예 #2\n",
        "# \"ad\"가 부분 문자열로 들어간 문자열이 존재하지 않습니다.\n",
        "# 따라서 원래 배열을 그대로 return 합니다."
      ]
    },
    {
      "cell_type": "code",
      "source": [
        "def solution(strArr):\n",
        "    answer = []\n",
        "    for word in strArr:\n",
        "      if not \"ad\" in word:\n",
        "        answer.append(word)\n",
        "\n",
        "    return answer"
      ],
      "metadata": {
        "id": "abroyKBaqNZK"
      },
      "execution_count": 6,
      "outputs": []
    },
    {
      "cell_type": "code",
      "source": [
        "strArr = [\"and\",\"notad\",\"abcd\"]\n",
        "solution(strArr)"
      ],
      "metadata": {
        "colab": {
          "base_uri": "https://localhost:8080/"
        },
        "id": "0SC5D7G5qQbH",
        "outputId": "1ba860d4-1fc3-4cd3-c437-6f1c228aad94"
      },
      "execution_count": 7,
      "outputs": [
        {
          "output_type": "execute_result",
          "data": {
            "text/plain": [
              "['and', 'abcd']"
            ]
          },
          "metadata": {},
          "execution_count": 7
        }
      ]
    },
    {
      "cell_type": "code",
      "source": [
        "strArr = [\"there\",\"are\",\"no\",\"a\",\"ds\"]\n",
        "solution(strArr)"
      ],
      "metadata": {
        "colab": {
          "base_uri": "https://localhost:8080/"
        },
        "id": "TeDDITtGqSVf",
        "outputId": "c5303d09-595a-4cb2-8283-cf9446662ca1"
      },
      "execution_count": 10,
      "outputs": [
        {
          "output_type": "execute_result",
          "data": {
            "text/plain": [
              "['there', 'are', 'no', 'a', 'ds']"
            ]
          },
          "metadata": {},
          "execution_count": 10
        }
      ]
    },
    {
      "cell_type": "code",
      "source": [
        "# 다른 사람 풀이"
      ],
      "metadata": {
        "id": "79oEBwFjqSTR"
      },
      "execution_count": 11,
      "outputs": []
    },
    {
      "cell_type": "code",
      "source": [
        "def solution(strArr):\n",
        "    return [word for word in strArr if 'ad' not in word]"
      ],
      "metadata": {
        "id": "m_zpxxS7tpyK"
      },
      "execution_count": 12,
      "outputs": []
    },
    {
      "cell_type": "code",
      "source": [],
      "metadata": {
        "id": "QqR7Tv7ettVw"
      },
      "execution_count": null,
      "outputs": []
    }
  ]
}