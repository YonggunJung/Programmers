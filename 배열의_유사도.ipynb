{
  "nbformat": 4,
  "nbformat_minor": 0,
  "metadata": {
    "colab": {
      "provenance": [],
      "authorship_tag": "ABX9TyN1OXSCzjcNOOR7bBth+in2",
      "include_colab_link": true
    },
    "kernelspec": {
      "name": "python3",
      "display_name": "Python 3"
    },
    "language_info": {
      "name": "python"
    }
  },
  "cells": [
    {
      "cell_type": "markdown",
      "metadata": {
        "id": "view-in-github",
        "colab_type": "text"
      },
      "source": [
        "<a href=\"https://colab.research.google.com/github/YonggunJung/Programmers/blob/main/%EB%B0%B0%EC%97%B4%EC%9D%98_%EC%9C%A0%EC%82%AC%EB%8F%84.ipynb\" target=\"_parent\"><img src=\"https://colab.research.google.com/assets/colab-badge.svg\" alt=\"Open In Colab\"/></a>"
      ]
    },
    {
      "cell_type": "code",
      "execution_count": 1,
      "metadata": {
        "id": "5dwg2tFD--MV"
      },
      "outputs": [],
      "source": [
        "# 문제 설명\n",
        "# 두 배열이 얼마나 유사한지 확인해보려고 합니다.\n",
        "# 문자열 배열 s1과 s2가 주어질 때 같은 원소의 개수를 return하도록 solution 함수를 완성해주세요.\n",
        "\n",
        "# 제한사항\n",
        "# 1 ≤ s1, s2의 길이 ≤ 100\n",
        "# 1 ≤ s1, s2의 원소의 길이 ≤ 10\n",
        "# s1과 s2의 원소는 알파벳 소문자로만 이루어져 있습니다\n",
        "# s1과 s2는 각각 중복된 원소를 갖지 않습니다.\n",
        "\n",
        "# 입출력 예\n",
        "# s1\t                s2\t                                      result\n",
        "# [\"a\", \"b\", \"c\"]\t    [\"com\", \"b\", \"d\", \"p\", \"c\"]\t                2\n",
        "# [\"n\", \"omg\"]\t      [\"m\", \"dot\"]\t                              0\n",
        "\n",
        "# 입출력 예 설명\n",
        "# 입출력 예 #1\n",
        "# \"b\"와 \"c\"가 같으므로 2를 return합니다.\n",
        "\n",
        "# 입출력 예 #2\n",
        "# 같은 원소가 없으므로 0을 return합니다."
      ]
    },
    {
      "cell_type": "code",
      "source": [
        "def solution(s1, s2):\n",
        "    answer = 0\n",
        "    for i in s1:\n",
        "      for j in s2:\n",
        "        if i == j:\n",
        "          answer += 1\n",
        "    return answer"
      ],
      "metadata": {
        "id": "Hxe02Cnt_KaO"
      },
      "execution_count": 2,
      "outputs": []
    },
    {
      "cell_type": "code",
      "source": [
        "s1 = [\"n\", \"omg\"]\n",
        "s2 = [\"m\", \"dot\"]\n",
        "solution(s1, s2)"
      ],
      "metadata": {
        "colab": {
          "base_uri": "https://localhost:8080/"
        },
        "id": "9eUbNFiL_sU9",
        "outputId": "84073e2a-d459-4554-d138-ca31c095b621"
      },
      "execution_count": 3,
      "outputs": [
        {
          "output_type": "execute_result",
          "data": {
            "text/plain": [
              "0"
            ]
          },
          "metadata": {},
          "execution_count": 3
        }
      ]
    },
    {
      "cell_type": "code",
      "source": [
        "s1 = [\"a\", \"b\", \"c\"]\n",
        "s2 = [\"com\", \"b\", \"d\", \"p\", \"c\"]\n",
        "solution(s1, s2)"
      ],
      "metadata": {
        "colab": {
          "base_uri": "https://localhost:8080/"
        },
        "id": "WV4EToo9_wMt",
        "outputId": "93603fc6-2f55-4de5-fedb-2e05134b0d0c"
      },
      "execution_count": 4,
      "outputs": [
        {
          "output_type": "execute_result",
          "data": {
            "text/plain": [
              "2"
            ]
          },
          "metadata": {},
          "execution_count": 4
        }
      ]
    },
    {
      "cell_type": "code",
      "source": [
        "# 다른 사람 풀이"
      ],
      "metadata": {
        "id": "W9b7K7ti_3QF"
      },
      "execution_count": 5,
      "outputs": []
    },
    {
      "cell_type": "code",
      "source": [
        "# set() 함수 처음 봄\n",
        "# 역시 많이 알아서 쉽고 간단하게 푼다\n",
        "def solution(s1, s2):\n",
        "    return len(set(s1)&set(s2))"
      ],
      "metadata": {
        "id": "3sKsXKWTAC7O"
      },
      "execution_count": 6,
      "outputs": []
    },
    {
      "cell_type": "code",
      "source": [
        "# 나보다 조금더 간단한 코드\n",
        "def solution(s1, s2):\n",
        "    answer = 0\n",
        "\n",
        "    for word in s1:\n",
        "        if word in s2:\n",
        "            answer += 1\n",
        "        else:\n",
        "            continue\n",
        "\n",
        "    return answer"
      ],
      "metadata": {
        "id": "WsxA3mBJAR8O"
      },
      "execution_count": 7,
      "outputs": []
    },
    {
      "cell_type": "code",
      "source": [
        "# 신기한 코드\n",
        "# 완벽 이해는 안가는데 대충 이해감\n",
        "def solution(s1, s2):\n",
        "    dic = {i:1 for i in s1}\n",
        "    answer = sum(dic.get(j,0)for j in s2)\n",
        "    return answer"
      ],
      "metadata": {
        "id": "WeZZmjfnAfe1"
      },
      "execution_count": null,
      "outputs": []
    }
  ]
}