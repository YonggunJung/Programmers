{
  "nbformat": 4,
  "nbformat_minor": 0,
  "metadata": {
    "colab": {
      "provenance": [],
      "authorship_tag": "ABX9TyNiIdo72zq8szXMTEnmUcyc",
      "include_colab_link": true
    },
    "kernelspec": {
      "name": "python3",
      "display_name": "Python 3"
    },
    "language_info": {
      "name": "python"
    }
  },
  "cells": [
    {
      "cell_type": "markdown",
      "metadata": {
        "id": "view-in-github",
        "colab_type": "text"
      },
      "source": [
        "<a href=\"https://colab.research.google.com/github/YonggunJung/Programmers/blob/main/%EB%B0%B0%EC%97%B4_%EB%B9%84%EA%B5%90%ED%95%98%EA%B8%B0.ipynb\" target=\"_parent\"><img src=\"https://colab.research.google.com/assets/colab-badge.svg\" alt=\"Open In Colab\"/></a>"
      ]
    },
    {
      "cell_type": "code",
      "execution_count": 1,
      "metadata": {
        "id": "_qv0hHw9-4Q6"
      },
      "outputs": [],
      "source": [
        "# 문제 설명\n",
        "# 이 문제에서 두 정수 배열의 대소관계를 다음과 같이 정의합니다.\n",
        "\n",
        "# 두 배열의 길이가 다르다면, 배열의 길이가 긴 쪽이 더 큽니다.\n",
        "# 배열의 길이가 같다면 각 배열에 있는 모든 원소의 합을 비교하여\n",
        "# 다르다면 더 큰 쪽이 크고, 같다면 같습니다.\n",
        "# 두 정수 배열 arr1과 arr2가 주어질 때,\n",
        "# 위에서 정의한 배열의 대소관계에 대하여 arr2가 크다면 -1,\n",
        "# arr1이 크다면 1, 두 배열이 같다면 0을 return 하는 solution 함수를 작성해 주세요.\n",
        "\n",
        "# 제한사항\n",
        "# 1 ≤ arr1의 길이 ≤ 100\n",
        "# 1 ≤ arr2의 길이 ≤ 100\n",
        "# 1 ≤ arr1의 원소 ≤ 100\n",
        "# 1 ≤ arr2의 원소 ≤ 100\n",
        "# 문제에서 정의한 배열의 대소관계가 일반적인 프로그래밍 언어에서\n",
        "# 정의된 배열의 대소관계와 다를 수 있는 점에 유의해주세요.\n",
        "\n",
        "# 입출력 예\n",
        "# arr1\t                     arr2\t               result\n",
        "# [49, 13]\t              [70, 11, 2]\t            -1\n",
        "# [100, 17, 84, 1]\t      [55, 12, 65, 36]\t       1\n",
        "# [1, 2, 3, 4, 5]       \t[3, 3, 3, 3, 3]\t          0\n",
        "\n",
        "# 입출력 예 설명\n",
        "# 입출력 예 #1\n",
        "# 예제 1번에서는 arr1의 길이는 2이고 arr2의 길이는 3으로 arr2의 길이가 더 깁니다.\n",
        "# 따라서 arr2가 arr1보다 크므로 -1을 return 합니다.\n",
        "\n",
        "# 입출력 예 #2\n",
        "# 예제 2번에서는 arr1의 길이과 arr2의 길이가 4로 같습니다.\n",
        "# arr1의 모든 원소의 합은 100 + 17 + 84 + 1 = 202이고\n",
        "# arr2의 모든 원소의 합은 55 + 12 + 65 + 36 = 168으로 arr1의 모든 원소의 합이 더 큽니다.\n",
        "# 따라서 arr1이 arr2보다 크므로 1을 return 합니다.\n",
        "\n",
        "# 입출력 예 #3\n",
        "\n",
        "# 예제 3번에서는 arr1의 길이와 arr2의 길이가 5로 같고\n",
        "# 각 배열의 모든 원소의 합 또한 15로 같습니다.\n",
        "# 따라서 arr1과 arr2가 같으므로 0을 return 합니다."
      ]
    },
    {
      "cell_type": "code",
      "source": [
        "def solution(arr1, arr2):\n",
        "    answer = 0\n",
        "    if len(arr1) > len(arr2):\n",
        "      answer = 1\n",
        "    elif len(arr1) < len(arr2):\n",
        "      answer = -1\n",
        "    else:\n",
        "      if sum(arr1) > sum(arr2):\n",
        "        answer = 1\n",
        "      elif sum(arr1) < sum(arr2):\n",
        "        answer = -1\n",
        "      else:\n",
        "        answer = 0\n",
        "\n",
        "    return answer"
      ],
      "metadata": {
        "id": "i8A7_qbc_N0p"
      },
      "execution_count": 2,
      "outputs": []
    },
    {
      "cell_type": "code",
      "source": [
        "arr1 = [49, 13]\n",
        "arr2 = [70, 11, 2]\n",
        "solution(arr1, arr2)"
      ],
      "metadata": {
        "colab": {
          "base_uri": "https://localhost:8080/"
        },
        "id": "1QtH_tX__Qgm",
        "outputId": "a7c35332-4e29-4c5c-97f5-b218838e22ac"
      },
      "execution_count": 3,
      "outputs": [
        {
          "output_type": "execute_result",
          "data": {
            "text/plain": [
              "-1"
            ]
          },
          "metadata": {},
          "execution_count": 3
        }
      ]
    },
    {
      "cell_type": "code",
      "source": [
        "arr1 = [100, 17, 84, 1]\n",
        "arr2 = [55, 12, 65, 36]\n",
        "solution(arr1, arr2)"
      ],
      "metadata": {
        "colab": {
          "base_uri": "https://localhost:8080/"
        },
        "id": "iG-6Z-sh_TKG",
        "outputId": "41af8288-9a97-499e-8a80-d8234f25734b"
      },
      "execution_count": 4,
      "outputs": [
        {
          "output_type": "execute_result",
          "data": {
            "text/plain": [
              "1"
            ]
          },
          "metadata": {},
          "execution_count": 4
        }
      ]
    },
    {
      "cell_type": "code",
      "source": [
        "arr1 = [1, 2, 3, 4, 5]\n",
        "arr2 = [3, 3, 3, 3, 3]\n",
        "solution(arr1, arr2)"
      ],
      "metadata": {
        "colab": {
          "base_uri": "https://localhost:8080/"
        },
        "id": "TsBGevxr_TH4",
        "outputId": "d3914114-94ad-422d-d2c5-6a99a8a2b4e4"
      },
      "execution_count": 5,
      "outputs": [
        {
          "output_type": "execute_result",
          "data": {
            "text/plain": [
              "0"
            ]
          },
          "metadata": {},
          "execution_count": 5
        }
      ]
    },
    {
      "cell_type": "code",
      "source": [
        "# 다른 사람 풀이"
      ],
      "metadata": {
        "id": "sTPm7tHd_Qd2"
      },
      "execution_count": 6,
      "outputs": []
    },
    {
      "cell_type": "code",
      "source": [
        "# 와우 ㅋㅋㅋㅋ보고있지만 신기하네\n",
        "# 완벽 이해는 안가긴 하지만 대충 이해감\n",
        "def solution(arr1, arr2):\n",
        "    return (len(arr1) > len(arr2)) - (len(arr2) > len(arr1)) or (sum(arr1) > sum(arr2)) - (sum(arr2) > sum(arr1))"
      ],
      "metadata": {
        "id": "KeMS0Xv5AwuS"
      },
      "execution_count": 7,
      "outputs": []
    },
    {
      "cell_type": "code",
      "source": [
        "# 이게 위에껄 풀어서 적은 느낌\n",
        "def solution(arr1, arr2):\n",
        "    return int(bool((len(arr1)-len(arr2))/abs(len(arr1)-len(arr2))+1))*2-1 if len(arr1) != len(arr2) else int(bool((sum(arr1)-sum(arr2))/abs(sum(arr1)-sum(arr2))+1))*2-1 if sum(arr1) != sum(arr2) else 0"
      ],
      "metadata": {
        "id": "jpf4gBqXBRHy"
      },
      "execution_count": 8,
      "outputs": []
    },
    {
      "cell_type": "code",
      "source": [
        "# 신기한 코드가 많구나\n",
        "def solution(arr1, arr2):\n",
        "    arr1, arr2 = [[sum(arr1), sum(arr2)], [len(arr1), len(arr2)]][len(arr1) != len(arr2)]\n",
        "    return (arr1 != arr2)*(-1 if arr2 > arr1 else 1)"
      ],
      "metadata": {
        "id": "8F2kvdVaBdZP"
      },
      "execution_count": null,
      "outputs": []
    }
  ]
}