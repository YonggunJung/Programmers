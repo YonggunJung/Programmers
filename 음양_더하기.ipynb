{
  "nbformat": 4,
  "nbformat_minor": 0,
  "metadata": {
    "colab": {
      "provenance": [],
      "authorship_tag": "ABX9TyMBSdSkgGHNFo00ZG/b/Mr1",
      "include_colab_link": true
    },
    "kernelspec": {
      "name": "python3",
      "display_name": "Python 3"
    },
    "language_info": {
      "name": "python"
    }
  },
  "cells": [
    {
      "cell_type": "markdown",
      "metadata": {
        "id": "view-in-github",
        "colab_type": "text"
      },
      "source": [
        "<a href=\"https://colab.research.google.com/github/YonggunJung/Programmers/blob/main/%EC%9D%8C%EC%96%91_%EB%8D%94%ED%95%98%EA%B8%B0.ipynb\" target=\"_parent\"><img src=\"https://colab.research.google.com/assets/colab-badge.svg\" alt=\"Open In Colab\"/></a>"
      ]
    },
    {
      "cell_type": "code",
      "execution_count": null,
      "metadata": {
        "id": "AT4EsDiHRogN"
      },
      "outputs": [],
      "source": [
        "# 문제 설명\n",
        "# 어떤 정수들이 있습니다.\n",
        "# 이 정수들의 절댓값을 차례대로 담은 정수 배열 absolutes와\n",
        "# 이 정수들의 부호를 차례대로 담은 불리언 배열 signs가 매개변수로 주어집니다.\n",
        "# 실제 정수들의 합을 구하여 return 하도록 solution 함수를 완성해주세요.\n",
        "\n",
        "# 제한사항\n",
        "# absolutes의 길이는 1 이상 1,000 이하입니다.\n",
        "# absolutes의 모든 수는 각각 1 이상 1,000 이하입니다.\n",
        "# signs의 길이는 absolutes의 길이와 같습니다.\n",
        "# signs[i] 가 참이면 absolutes[i] 의 실제 정수가 양수임을,\n",
        "# 그렇지 않으면 음수임을 의미합니다.\n",
        "\n",
        "# 입출력 예\n",
        "# absolutes\t    signs\t                result\n",
        "# [4,7,12]\t    [true,false,true]\t      9\n",
        "# [1,2,3]\t      [false,false,true]\t    0\n",
        "\n",
        "# 입출력 예 설명\n",
        "# 입출력 예 #1\n",
        "# signs가 [true,false,true] 이므로, 실제 수들의 값은 각각 4, -7, 12입니다.\n",
        "# 따라서 세 수의 합인 9를 return 해야 합니다.\n",
        "\n",
        "# 입출력 예 #2\n",
        "# signs가 [false,false,true] 이므로, 실제 수들의 값은 각각 -1, -2, 3입니다.\n",
        "# 따라서 세 수의 합인 0을 return 해야 합니다."
      ]
    },
    {
      "cell_type": "code",
      "source": [
        "def solution(absolutes, signs):\n",
        "    answer = 0\n",
        "    for idx, b in enumerate(signs):\n",
        "      if b:\n",
        "        answer += absolutes[idx]\n",
        "      else:\n",
        "        answer -= absolutes[idx]\n",
        "    return answer"
      ],
      "metadata": {
        "id": "x_Tr2Gd7Rx2S"
      },
      "execution_count": 1,
      "outputs": []
    },
    {
      "cell_type": "code",
      "source": [],
      "metadata": {
        "id": "6gTssiPkTVk1"
      },
      "execution_count": null,
      "outputs": []
    }
  ]
}