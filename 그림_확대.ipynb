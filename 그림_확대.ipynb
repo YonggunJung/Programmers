{
  "nbformat": 4,
  "nbformat_minor": 0,
  "metadata": {
    "colab": {
      "provenance": [],
      "authorship_tag": "ABX9TyNNhbtuvhtQRzSrQSZuw1Qz",
      "include_colab_link": true
    },
    "kernelspec": {
      "name": "python3",
      "display_name": "Python 3"
    },
    "language_info": {
      "name": "python"
    }
  },
  "cells": [
    {
      "cell_type": "markdown",
      "metadata": {
        "id": "view-in-github",
        "colab_type": "text"
      },
      "source": [
        "<a href=\"https://colab.research.google.com/github/YonggunJung/Programmers/blob/main/%EA%B7%B8%EB%A6%BC_%ED%99%95%EB%8C%80.ipynb\" target=\"_parent\"><img src=\"https://colab.research.google.com/assets/colab-badge.svg\" alt=\"Open In Colab\"/></a>"
      ]
    },
    {
      "cell_type": "code",
      "execution_count": 1,
      "metadata": {
        "id": "Lsr_NBpUpugA"
      },
      "outputs": [],
      "source": [
        "# 문제 설명\n",
        "# 직사각형 형태의 그림 파일이 있고,\n",
        "# 이 그림 파일은 1 × 1 크기의 정사각형 크기의 픽셀로 이루어져 있습니다.\n",
        "# 이 그림 파일을 나타낸 문자열 배열 picture과 정수 k가 매개변수로 주어질 때,\n",
        "# 이 그림 파일을 가로 세로로 k배 늘린 그림 파일을 나타내도록 문자열 배열을\n",
        "# return 하는 solution 함수를 작성해 주세요.\n",
        "\n",
        "# 제한사항\n",
        "# 1 ≤ picture의 길이 ≤ 20\n",
        "# 1 ≤ picture의 원소의 길이 ≤ 20\n",
        "# 모든 picture의 원소의 길이는 같습니다.\n",
        "# picture의 원소는 '.'과 'x'로 이루어져 있습니다.\n",
        "# 1 ≤ k ≤ 10\n",
        "\n",
        "# 입출력 예\n",
        "# picture\n",
        "# [\".xx...xx.\",\n",
        "#  \"x..x.x..x\",\n",
        "#  \"x...x...x\",\n",
        "#  \".x.....x.\",\n",
        "#  \"..x...x..\",\n",
        "#  \"...x.x...\",        k\t       result\n",
        "#  \"....x....\"]\t       2\t      [\"..xxxx......xxxx..\",\n",
        "#                                \"..xxxx......xxxx..\",\n",
        "#                                \"xx....xx..xx....xx\",\n",
        "#                                \"xx....xx..xx....xx\",\n",
        "#                                \"xx......xx......xx\",\n",
        "#                                \"xx......xx......xx\",\n",
        "#                                \"..xx..........xx..\",\n",
        "#                                \"..xx..........xx..\",\n",
        "#                                \"....xx......xx....\",\n",
        "#                                \"....xx......xx....\",\n",
        "#                                \"......xx..xx......\",\n",
        "#                                \"......xx..xx......\",\n",
        "#                                \"........xx........\",\n",
        "#                                \"........xx........\"]\n",
        "\n",
        "# [\"x.x\",\n",
        "#  \".x.\",\n",
        "#  \"x.x\"]\t             3\t      [\"xxx...xxx\",\n",
        "#                                \"xxx...xxx\",\n",
        "#                                \"xxx...xxx\",\n",
        "#                                \"...xxx...\",\n",
        "#                                \"...xxx...\",\n",
        "#                                \"...xxx...\",\n",
        "#                                \"xxx...xxx\",\n",
        "#                                \"xxx...xxx\",\n",
        "#                                \"xxx...xxx\"]\n",
        "\n",
        "# 입출력 예 설명\n",
        "# 입출력 예 #1\n",
        "# 예제 1번의 picture는 다음과 같습니다.\n",
        "# .xx...xx.\n",
        "# x..x.x..x\n",
        "# x...x...x\n",
        "# .x.....x.\n",
        "# ..x...x..\n",
        "# ...x.x...\n",
        "# ....x....\n",
        "# 이를 가로 세로로 k배, 즉 2배 확대하면 그림 파일은 다음과 같습니다.\n",
        "\n",
        "# ..xxxx......xxxx..\n",
        "# ..xxxx......xxxx..\n",
        "# xx....xx..xx....xx\n",
        "# xx....xx..xx....xx\n",
        "# xx......xx......xx\n",
        "# xx......xx......xx\n",
        "# ..xx..........xx..\n",
        "# ..xx..........xx..\n",
        "# ....xx......xx....\n",
        "# ....xx......xx....\n",
        "# ......xx..xx......\n",
        "# ......xx..xx......\n",
        "# ........xx........\n",
        "# ........xx........\n",
        "# 따라서 [\"..xxxx......xxxx..\",\n",
        "#         \"..xxxx......xxxx..\",\n",
        "#         \"xx....xx..xx....xx\",\n",
        "#         \"xx....xx..xx....xx\",\n",
        "#         \"xx......xx......xx\",\n",
        "#         \"xx......xx......xx\",\n",
        "#         \"..xx..........xx..\",\n",
        "#         \"..xx..........xx..\",\n",
        "#         \"....xx......xx....\",\n",
        "#         \"....xx......xx....\",\n",
        "#         \"......xx..xx......\",\n",
        "#         \"......xx..xx......\",\n",
        "#         \"........xx........\",\n",
        "#         \"........xx........\"]를 return 합니다.\n",
        "\n",
        "# 입출력 예 #2\n",
        "\n",
        "# 예제 2번의 picture는 다음과 같습니다.\n",
        "\n",
        "# x.x\n",
        "# .x.\n",
        "# x.x\n",
        "# 이를 가로 세로로 k배, 즉 3배 확대하면 그림 파일은 다음과 같습니다.\n",
        "\n",
        "# xxx...xxx\n",
        "# xxx...xxx\n",
        "# xxx...xxx\n",
        "# ...xxx...\n",
        "# ...xxx...\n",
        "# ...xxx...\n",
        "# xxx...xxx\n",
        "# xxx...xxx\n",
        "# xxx...xxx\n",
        "# 따라서 [\"xxx...xxx\",\n",
        "#         \"xxx...xxx\",\n",
        "#         \"xxx...xxx\",\n",
        "#         \"...xxx...\",\n",
        "#         \"...xxx...\",\n",
        "#         \"...xxx...\",\n",
        "#         \"xxx...xxx\",\n",
        "#         \"xxx...xxx\",\n",
        "#         \"xxx...xxx\"]를 return 합니다."
      ]
    },
    {
      "cell_type": "code",
      "source": [
        "# 간만에 생각좀 했음\n",
        "def solution(picture, k):\n",
        "    answer = []\n",
        "    b = \"\"\n",
        "    for s in picture:\n",
        "      for c in s:\n",
        "        cc = c * k\n",
        "        b += cc\n",
        "      answer = answer + [b] * k\n",
        "      b = \"\"\n",
        "    return answer"
      ],
      "metadata": {
        "id": "Bstd5uZjro3k"
      },
      "execution_count": 32,
      "outputs": []
    },
    {
      "cell_type": "code",
      "source": [
        "picture = [\".xx...xx.\", \"x..x.x..x\", \"x...x...x\", \".x.....x.\", \"..x...x..\", \"...x.x...\", \"....x....\"]\n",
        "k = 2\n",
        "solution(picture, k)"
      ],
      "metadata": {
        "colab": {
          "base_uri": "https://localhost:8080/"
        },
        "id": "5tPIUkd9sI04",
        "outputId": "0889d5a3-caa3-4440-8043-8d113a5959ec"
      },
      "execution_count": 33,
      "outputs": [
        {
          "output_type": "execute_result",
          "data": {
            "text/plain": [
              "['..xxxx......xxxx..',\n",
              " '..xxxx......xxxx..',\n",
              " 'xx....xx..xx....xx',\n",
              " 'xx....xx..xx....xx',\n",
              " 'xx......xx......xx',\n",
              " 'xx......xx......xx',\n",
              " '..xx..........xx..',\n",
              " '..xx..........xx..',\n",
              " '....xx......xx....',\n",
              " '....xx......xx....',\n",
              " '......xx..xx......',\n",
              " '......xx..xx......',\n",
              " '........xx........',\n",
              " '........xx........']"
            ]
          },
          "metadata": {},
          "execution_count": 33
        }
      ]
    },
    {
      "cell_type": "code",
      "source": [
        "picture = [\"x.x\", \".x.\", \"x.x\"]\n",
        "k = 3\n",
        "solution(picture, k)"
      ],
      "metadata": {
        "colab": {
          "base_uri": "https://localhost:8080/"
        },
        "id": "f9akE8aRsKmh",
        "outputId": "706afa34-be5d-4525-dc9e-b77f62907da8"
      },
      "execution_count": 34,
      "outputs": [
        {
          "output_type": "execute_result",
          "data": {
            "text/plain": [
              "['xxx...xxx',\n",
              " 'xxx...xxx',\n",
              " 'xxx...xxx',\n",
              " '...xxx...',\n",
              " '...xxx...',\n",
              " '...xxx...',\n",
              " 'xxx...xxx',\n",
              " 'xxx...xxx',\n",
              " 'xxx...xxx']"
            ]
          },
          "metadata": {},
          "execution_count": 34
        }
      ]
    },
    {
      "cell_type": "code",
      "source": [
        "# 다른 사람 풀이"
      ],
      "metadata": {
        "id": "WNBmXrHLyK0U"
      },
      "execution_count": 35,
      "outputs": []
    },
    {
      "cell_type": "code",
      "source": [
        "# 오 신기하네 간단하게 잘했네\n",
        "def solution(picture, k):\n",
        "    answer = []\n",
        "    for i in range(len(picture)):\n",
        "        for _ in range(k):\n",
        "            answer.append(picture[i].replace('.', '.' * k).replace('x', 'x' * k))\n",
        "    return answer"
      ],
      "metadata": {
        "id": "vlONmAAHsKkW"
      },
      "execution_count": 36,
      "outputs": []
    },
    {
      "cell_type": "code",
      "source": [
        "# 이게 좀더 보기 좋은듯\n",
        "def solution(picture, k):\n",
        "\n",
        "    answer = []\n",
        "\n",
        "    for i in range(len(picture)):\n",
        "        answer += [picture[i].replace('.', '.'*k).replace('x', 'x'*k)] * k\n",
        "\n",
        "    return answer"
      ],
      "metadata": {
        "id": "wfndAsHTyc8w"
      },
      "execution_count": 37,
      "outputs": []
    },
    {
      "cell_type": "code",
      "source": [
        "# 뭐가 한줄 될거 같긴 했음 ㅋㅋ\n",
        "solution = lambda picture, k:[''.join([y*k for y in picture[x//k]]) for x in range(len(picture)*k)]"
      ],
      "metadata": {
        "id": "VmrW9hLbygzf"
      },
      "execution_count": 38,
      "outputs": []
    },
    {
      "cell_type": "code",
      "source": [],
      "metadata": {
        "id": "_A0yJuaKykxN"
      },
      "execution_count": null,
      "outputs": []
    }
  ]
}