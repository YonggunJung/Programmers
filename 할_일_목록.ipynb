{
  "nbformat": 4,
  "nbformat_minor": 0,
  "metadata": {
    "colab": {
      "provenance": [],
      "authorship_tag": "ABX9TyMcDTY7llyQMJ6PGEPDQg1M",
      "include_colab_link": true
    },
    "kernelspec": {
      "name": "python3",
      "display_name": "Python 3"
    },
    "language_info": {
      "name": "python"
    }
  },
  "cells": [
    {
      "cell_type": "markdown",
      "metadata": {
        "id": "view-in-github",
        "colab_type": "text"
      },
      "source": [
        "<a href=\"https://colab.research.google.com/github/YonggunJung/Programmers/blob/main/%ED%95%A0_%EC%9D%BC_%EB%AA%A9%EB%A1%9D.ipynb\" target=\"_parent\"><img src=\"https://colab.research.google.com/assets/colab-badge.svg\" alt=\"Open In Colab\"/></a>"
      ]
    },
    {
      "cell_type": "code",
      "execution_count": 1,
      "metadata": {
        "id": "_u8n-d1AX0U_"
      },
      "outputs": [],
      "source": [
        "# 문제 설명\n",
        "# 오늘 해야 할 일이 담긴 문자열 배열 todo_list와\n",
        "# 각각의 일을 지금 마쳤는지를 나타내는 boolean 배열 finished가 매개변수로 주어질 때,\n",
        "# todo_list에서 아직 마치지 못한 일들을 순서대로 담은 문자열 배열을\n",
        "# return 하는 solution 함수를 작성해 주세요.\n",
        "\n",
        "# 제한사항\n",
        "# 1 ≤ todo_list의 길이 1 ≤ 100\n",
        "# 2 ≤ todo_list의 원소의 길이 ≤ 20\n",
        "# todo_list의 원소는 영소문자로만 이루어져 있습니다.\n",
        "# todo_list의 원소는 모두 서로 다릅니다.\n",
        "# finished[i]는 true 또는 false이고 true는 todo_list[i]를 마쳤음을,\n",
        "# false는 아직 마치지 못했음을 나타냅니다.\n",
        "# 아직 마치지 못한 일이 적어도 하나 있습니다.\n",
        "\n",
        "# 입출력 예\n",
        "# todo_list\t                                                    finished\n",
        "# [\"problemsolving\", \"practiceguitar\", \"swim\", \"studygraph\"]\t  [true, false, true, false]\n",
        "\n",
        "# result\n",
        "# [\"practiceguitar\", \"studygraph\"]\n",
        "\n",
        "# 입출력 예 설명\n",
        "# 입출력 예 #1\n",
        "# 예제 1번의 todo_list 중에서 \"problemsolving\"과 \"swim\"은 마쳤고,\n",
        "# \"practiceguitar\"와 \"studygraph\"는 아직 마치지 못했으므로\n",
        "# todo_list에서 나온 순서대로 담은 문자열 배열 [\"practiceguitar\", \"studygraph\"]를\n",
        "# return 합니다."
      ]
    },
    {
      "cell_type": "code",
      "source": [
        "def solution(todo_list, finished):\n",
        "    answer = []\n",
        "    for i in range(len(todo_list)):\n",
        "      if finished[i] == 0:\n",
        "        answer.append(todo_list[i])\n",
        "    return answer"
      ],
      "metadata": {
        "id": "oLPq-BJHYJXs"
      },
      "execution_count": 5,
      "outputs": []
    },
    {
      "cell_type": "code",
      "source": [
        "todo_list = [\"problemsolving\", \"practiceguitar\", \"swim\", \"studygraph\"]\n",
        "finished = [True, False, True, False]\n",
        "solution(todo_list, finished)"
      ],
      "metadata": {
        "colab": {
          "base_uri": "https://localhost:8080/"
        },
        "id": "9HcjgoE3YKtg",
        "outputId": "2fc7c164-815d-427e-eea2-d5985a7fb810"
      },
      "execution_count": 6,
      "outputs": [
        {
          "output_type": "execute_result",
          "data": {
            "text/plain": [
              "['practiceguitar', 'studygraph']"
            ]
          },
          "metadata": {},
          "execution_count": 6
        }
      ]
    },
    {
      "cell_type": "code",
      "source": [
        "# 다른 사람 풀이"
      ],
      "metadata": {
        "id": "5LdoVXk1Ymma"
      },
      "execution_count": 7,
      "outputs": []
    },
    {
      "cell_type": "code",
      "source": [
        "def solution(todo_list, finished):\n",
        "    return [work for idx, work in enumerate(todo_list) if not finished[idx]]"
      ],
      "metadata": {
        "id": "vvOn5RRYZVci"
      },
      "execution_count": 8,
      "outputs": []
    },
    {
      "cell_type": "code",
      "source": [],
      "metadata": {
        "id": "Hb2j1TJ0ZZdI"
      },
      "execution_count": null,
      "outputs": []
    }
  ]
}