{
  "nbformat": 4,
  "nbformat_minor": 0,
  "metadata": {
    "colab": {
      "provenance": [],
      "authorship_tag": "ABX9TyMSTKI8zHBwdOBXfGT8jpIo",
      "include_colab_link": true
    },
    "kernelspec": {
      "name": "python3",
      "display_name": "Python 3"
    },
    "language_info": {
      "name": "python"
    }
  },
  "cells": [
    {
      "cell_type": "markdown",
      "metadata": {
        "id": "view-in-github",
        "colab_type": "text"
      },
      "source": [
        "<a href=\"https://colab.research.google.com/github/YonggunJung/Programmers/blob/main/flag%EC%97%90_%EB%94%B0%EB%9D%BC_%EB%8B%A4%EB%A5%B8_%EA%B0%92_%EB%B0%98%ED%99%98%ED%95%98%EA%B8%B0.ipynb\" target=\"_parent\"><img src=\"https://colab.research.google.com/assets/colab-badge.svg\" alt=\"Open In Colab\"/></a>"
      ]
    },
    {
      "cell_type": "code",
      "execution_count": 1,
      "metadata": {
        "id": "VlZxGRyJZjci"
      },
      "outputs": [],
      "source": [
        "# 문제 설명\n",
        "# 두 정수 a, b와 boolean 변수 flag가 매개변수로 주어질 때,\n",
        "# flag가 true면 a + b를 false면 a - b를 return 하는 solution 함수를 작성해 주세요.\n",
        "\n",
        "# 제한사항\n",
        "# -1,000 ≤ a, b ≤ 1,000\n",
        "\n",
        "# 입출력 예\n",
        "# a\t    b\t      flag\t      result\n",
        "# -4\t  7\t      true\t        3\n",
        "# -4\t  7\t      false\t        -11\n",
        "\n",
        "# 입출력 예\n",
        "# 입출력 예 #1\n",
        "# 예제 1번에서 flag가 true이므로 a + b = (-4) + 7 = 3을 return 합니다.\n",
        "\n",
        "# 입출력 예 #2\n",
        "# 예제 2번에서 flag가 false이므로 a - b = (-4) - 7 = -11을 return 합니다."
      ]
    },
    {
      "cell_type": "code",
      "source": [
        "# 설마 하면서 true를 True로 고쳐 봤는데 이게 맞네\n",
        "# 문제 맘에 안드네 확실하게 해줬어야지 대문자 소문자는 구분 되는데\n",
        "def solution(a, b, flag):\n",
        "    answer = 0\n",
        "    if flag == True:\n",
        "      answer = a + b\n",
        "    elif flag == False:\n",
        "      answer = a - b\n",
        "    return answer"
      ],
      "metadata": {
        "id": "Tjr-_9DAZscK"
      },
      "execution_count": 12,
      "outputs": []
    },
    {
      "cell_type": "code",
      "source": [
        "a = -4\n",
        "b = 7\n",
        "flag = True\n",
        "solution(a, b, flag)"
      ],
      "metadata": {
        "colab": {
          "base_uri": "https://localhost:8080/"
        },
        "id": "RNr4i-uMZthh",
        "outputId": "bd552225-ef08-420b-f584-14d07948c17f"
      },
      "execution_count": 13,
      "outputs": [
        {
          "output_type": "execute_result",
          "data": {
            "text/plain": [
              "3"
            ]
          },
          "metadata": {},
          "execution_count": 13
        }
      ]
    },
    {
      "cell_type": "code",
      "source": [
        "a = -4\n",
        "b = 7\n",
        "flag = False\n",
        "solution(a, b, flag)"
      ],
      "metadata": {
        "colab": {
          "base_uri": "https://localhost:8080/"
        },
        "id": "slD7Q10oZyIT",
        "outputId": "5b113bb6-aa4a-4522-a6ab-4e85e18d9b2e"
      },
      "execution_count": 14,
      "outputs": [
        {
          "output_type": "execute_result",
          "data": {
            "text/plain": [
              "-11"
            ]
          },
          "metadata": {},
          "execution_count": 14
        }
      ]
    },
    {
      "cell_type": "code",
      "source": [
        "# 다른 사람 풀이"
      ],
      "metadata": {
        "id": "qCUjtv7WZwvR"
      },
      "execution_count": 15,
      "outputs": []
    },
    {
      "cell_type": "code",
      "source": [
        "# flag가 참이면 a+b를 리턴\n",
        "def solution(a, b, flag):\n",
        "    if flag: return a+b\n",
        "    return a-b"
      ],
      "metadata": {
        "id": "Hs6q3didcJJU"
      },
      "execution_count": null,
      "outputs": []
    }
  ]
}