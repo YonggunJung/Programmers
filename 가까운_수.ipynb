{
  "nbformat": 4,
  "nbformat_minor": 0,
  "metadata": {
    "colab": {
      "provenance": [],
      "authorship_tag": "ABX9TyOSjS7EbCFWI/4hfJHJhDPD",
      "include_colab_link": true
    },
    "kernelspec": {
      "name": "python3",
      "display_name": "Python 3"
    },
    "language_info": {
      "name": "python"
    }
  },
  "cells": [
    {
      "cell_type": "markdown",
      "metadata": {
        "id": "view-in-github",
        "colab_type": "text"
      },
      "source": [
        "<a href=\"https://colab.research.google.com/github/YonggunJung/Programmers/blob/main/%EA%B0%80%EA%B9%8C%EC%9A%B4_%EC%88%98.ipynb\" target=\"_parent\"><img src=\"https://colab.research.google.com/assets/colab-badge.svg\" alt=\"Open In Colab\"/></a>"
      ]
    },
    {
      "cell_type": "code",
      "execution_count": null,
      "metadata": {
        "id": "rHdtvK-9x7PC"
      },
      "outputs": [],
      "source": [
        "# 문제 설명\n",
        "# 정수 배열 array와 정수 n이 매개변수로 주어질 때,\n",
        "# array에 들어있는 정수 중 n과 가장 가까운 수를 return 하도록 solution 함수를 완성해주세요.\n",
        "\n",
        "# 제한사항\n",
        "# 1 ≤ array의 길이 ≤ 100\n",
        "# 1 ≤ array의 원소 ≤ 100\n",
        "# 1 ≤ n ≤ 100\n",
        "# 가장 가까운 수가 여러 개일 경우 더 작은 수를 return 합니다.\n",
        "\n",
        "# 입출력 예\n",
        "# array\t          n\t      result\n",
        "# [3, 10, 28]\t    20\t      28\n",
        "# [10, 11, 12]\t  13\t      12\n",
        "\n",
        "# 입출력 예 설명\n",
        "# 입출력 예 #1\n",
        "# 3, 10, 28 중 20과 가장 가까운 수는 28입니다.\n",
        "\n",
        "# 입출력 예 #2\n",
        "# 10, 11, 12 중 13과 가장 가까운 수는 12입니다."
      ]
    },
    {
      "cell_type": "code",
      "source": [
        "# max_=float('inf')\n",
        "# min_=float('-inf')\n",
        "# sys.maxsize와 float('inf'):최대값과 최솟값의 초기값 지정\n",
        "# 와 이런걸 처음 봄\n",
        "\n",
        "# 풀이는 봤지만 완벽 이해는 안됨\n",
        "def solution(array, n):\n",
        "    diff = float(\"inf\")   # 그래서 이걸 지정해줌\n",
        "    for i in array:\n",
        "      if abs(i - n) < abs(diff):\n",
        "        diff = i - n\n",
        "      if abs(i - n) == abs(diff):\n",
        "        diff = min(i, diff + n) - n\n",
        "    return diff + n"
      ],
      "metadata": {
        "id": "tKyqddT0yIK7"
      },
      "execution_count": 10,
      "outputs": []
    },
    {
      "cell_type": "code",
      "source": [
        "array = [3, 10, 28]\n",
        "n = 20\n",
        "solution(array, n)"
      ],
      "metadata": {
        "colab": {
          "base_uri": "https://localhost:8080/"
        },
        "id": "5SRSoyA8x-Ht",
        "outputId": "9f72abef-5be1-4365-eee7-8813843a27a9"
      },
      "execution_count": 11,
      "outputs": [
        {
          "output_type": "execute_result",
          "data": {
            "text/plain": [
              "28"
            ]
          },
          "metadata": {},
          "execution_count": 11
        }
      ]
    },
    {
      "cell_type": "code",
      "source": [
        "array = [10, 11, 12]\n",
        "n = 13\n",
        "solution(array, n)"
      ],
      "metadata": {
        "colab": {
          "base_uri": "https://localhost:8080/"
        },
        "id": "zzD9CNUBx99y",
        "outputId": "971d1640-2213-4b3f-87f6-f5a1edfd93f6"
      },
      "execution_count": 12,
      "outputs": [
        {
          "output_type": "execute_result",
          "data": {
            "text/plain": [
              "12"
            ]
          },
          "metadata": {},
          "execution_count": 12
        }
      ]
    },
    {
      "cell_type": "code",
      "source": [
        "# 다른 사람 풀이"
      ],
      "metadata": {
        "id": "p8KRjw_Qx97O"
      },
      "execution_count": null,
      "outputs": []
    },
    {
      "cell_type": "code",
      "source": [
        "# 이건 뭐야?? ㅋㅋㅋㅋㅋ\n",
        "# 이런거도 있지만 이해는 안감 ㅋㅋㅋ\n",
        "solution=lambda a,n:sorted(a,key=lambda x:(abs(x-n),x))[0]"
      ],
      "metadata": {
        "id": "7a1SKuvOx95A"
      },
      "execution_count": 13,
      "outputs": []
    },
    {
      "cell_type": "code",
      "source": [
        "# 여러 방법이 있음. 이거도 완벽 이해는 조금 어려움\n",
        "def solution(array, n):\n",
        "    array.sort(key = lambda x : (abs(x-n), x-n))\n",
        "    answer = array[0]\n",
        "    return answer"
      ],
      "metadata": {
        "id": "4GWQDevu32IA"
      },
      "execution_count": null,
      "outputs": []
    },
    {
      "cell_type": "code",
      "source": [
        "#  이게 가장 이해는 잘됨\n",
        "def solution(array, n):\n",
        "    array.sort()\n",
        "    temp = []\n",
        "\n",
        "    for i in array :\n",
        "        temp.append( abs(n-i) )\n",
        "\n",
        "    return array[temp.index(min(temp))]"
      ],
      "metadata": {
        "id": "HTrj4oAf32xa"
      },
      "execution_count": null,
      "outputs": []
    },
    {
      "cell_type": "code",
      "source": [
        "# 이거도 이해됨\n",
        "def solution(array, n):\n",
        "    answer = []\n",
        "    m = 99999999\n",
        "    array.sort()\n",
        "    for a in array:\n",
        "        # print(abs(a-n), m)\n",
        "        if abs(a - n) < m:\n",
        "            m = abs(a-n)\n",
        "            answer = a\n",
        "    return answer"
      ],
      "metadata": {
        "id": "17Jwc23A4H-0"
      },
      "execution_count": null,
      "outputs": []
    }
  ]
}