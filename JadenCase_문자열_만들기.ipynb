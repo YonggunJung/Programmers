{
  "nbformat": 4,
  "nbformat_minor": 0,
  "metadata": {
    "colab": {
      "provenance": [],
      "authorship_tag": "ABX9TyN+zLIJuDxFIvn1zqtGG00J",
      "include_colab_link": true
    },
    "kernelspec": {
      "name": "python3",
      "display_name": "Python 3"
    },
    "language_info": {
      "name": "python"
    }
  },
  "cells": [
    {
      "cell_type": "markdown",
      "metadata": {
        "id": "view-in-github",
        "colab_type": "text"
      },
      "source": [
        "<a href=\"https://colab.research.google.com/github/YonggunJung/Programmers/blob/main/JadenCase_%EB%AC%B8%EC%9E%90%EC%97%B4_%EB%A7%8C%EB%93%A4%EA%B8%B0.ipynb\" target=\"_parent\"><img src=\"https://colab.research.google.com/assets/colab-badge.svg\" alt=\"Open In Colab\"/></a>"
      ]
    },
    {
      "cell_type": "code",
      "execution_count": 1,
      "metadata": {
        "id": "g_nUZSROwjzo"
      },
      "outputs": [],
      "source": [
        "# 문제 설명\n",
        "# JadenCase란 모든 단어의 첫 문자가 대문자이고,\n",
        "# 그 외의 알파벳은 소문자인 문자열입니다.\n",
        "# 단, 첫 문자가 알파벳이 아닐 때에는\n",
        "# 이어지는 알파벳은 소문자로 쓰면 됩니다. (첫 번째 입출력 예 참고)\n",
        "# 문자열 s가 주어졌을 때, s를 JadenCase로 바꾼 문자열을 리턴하는 함수,\n",
        "# solution을 완성해주세요.\n",
        "\n",
        "# 제한 조건\n",
        "# s는 길이 1 이상 200 이하인 문자열입니다.\n",
        "# s는 알파벳과 숫자, 공백문자(\" \")로 이루어져 있습니다.\n",
        "# 숫자는 단어의 첫 문자로만 나옵니다.\n",
        "# 숫자로만 이루어진 단어는 없습니다.\n",
        "# 공백문자가 연속해서 나올 수 있습니다.\n",
        "\n",
        "# 입출력 예\n",
        "# s\t                          return\n",
        "# \"3people unFollowed me\"\t    \"3people Unfollowed Me\"\n",
        "# \"for the last week\"\t        \"For The Last Week\"\n"
      ]
    },
    {
      "cell_type": "code",
      "source": [
        "def solution(s):\n",
        "    answer = ''\n",
        "    n = 0\n",
        "    for i in  range(len(s)):\n",
        "      if s[i] == ' ':\n",
        "        n = 0\n",
        "        answer += s[i]\n",
        "      elif n == 0:\n",
        "        answer += s[i].upper()\n",
        "        n +=1\n",
        "      else:\n",
        "        answer += s[i].lower()\n",
        "        n +=1\n",
        "\n",
        "    return answer"
      ],
      "metadata": {
        "id": "YKjqPx6_wrLD"
      },
      "execution_count": 2,
      "outputs": []
    },
    {
      "cell_type": "code",
      "source": [
        "s = \"3people unFollowed me\"\n",
        "s[1].upper()\n",
        "s"
      ],
      "metadata": {
        "colab": {
          "base_uri": "https://localhost:8080/",
          "height": 35
        },
        "id": "FbuNHRSTxUna",
        "outputId": "2c13ca41-a65d-45ec-d12d-57bc87743316"
      },
      "execution_count": 6,
      "outputs": [
        {
          "output_type": "execute_result",
          "data": {
            "text/plain": [
              "'3people unFollowed me'"
            ],
            "application/vnd.google.colaboratory.intrinsic+json": {
              "type": "string"
            }
          },
          "metadata": {},
          "execution_count": 6
        }
      ]
    },
    {
      "cell_type": "code",
      "source": [
        "# 다른 사람 풀이\n",
        "#  와우 어메이징~ 역시 파이썬\n",
        "return s.title()"
      ],
      "metadata": {
        "id": "m5yoU_M0xa_5"
      },
      "execution_count": null,
      "outputs": []
    }
  ]
}