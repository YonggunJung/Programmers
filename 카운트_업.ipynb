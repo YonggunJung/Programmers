{
  "nbformat": 4,
  "nbformat_minor": 0,
  "metadata": {
    "colab": {
      "provenance": [],
      "authorship_tag": "ABX9TyOCGjNlf7f1UTl4tTAZ8z5A",
      "include_colab_link": true
    },
    "kernelspec": {
      "name": "python3",
      "display_name": "Python 3"
    },
    "language_info": {
      "name": "python"
    }
  },
  "cells": [
    {
      "cell_type": "markdown",
      "metadata": {
        "id": "view-in-github",
        "colab_type": "text"
      },
      "source": [
        "<a href=\"https://colab.research.google.com/github/YonggunJung/Programmers/blob/main/%EC%B9%B4%EC%9A%B4%ED%8A%B8_%EC%97%85.ipynb\" target=\"_parent\"><img src=\"https://colab.research.google.com/assets/colab-badge.svg\" alt=\"Open In Colab\"/></a>"
      ]
    },
    {
      "cell_type": "code",
      "execution_count": 1,
      "metadata": {
        "id": "BlJd-aTnC7rU"
      },
      "outputs": [],
      "source": [
        "# 문제 설명\n",
        "# 정수 start_num와 end_num가 주어질 때,\n",
        "# start_num부터 end_num까지의 숫자를 차례로 담은 리스트를\n",
        "# return하도록 solution 함수를 완성해주세요.\n",
        "\n",
        "# 제한사항\n",
        "# 0 ≤ start_num ≤ end_num ≤ 50\n",
        "\n",
        "# 입출력 예\n",
        "# start_num\t    end_num       \tresult\n",
        "# 3\t              10\t          [3, 4, 5, 6, 7, 8, 9, 10]\n",
        "\n",
        "# 입출력 예 설명\n",
        "# 입출력 예 #1\n",
        "# 3부터 10까지의 숫자들을 담은 리스트 [3, 4, 5, 6, 7, 8, 9, 10]를 return합니다."
      ]
    },
    {
      "cell_type": "code",
      "source": [
        "def solution(start_num, end_num):\n",
        "    answer = list(range(start_num, end_num +1))\n",
        "    return answer"
      ],
      "metadata": {
        "id": "oOnxKw5oDFX2"
      },
      "execution_count": 2,
      "outputs": []
    },
    {
      "cell_type": "code",
      "source": [
        "start_num = 3\n",
        "end_num = 10\n",
        "solution(start_num, end_num)"
      ],
      "metadata": {
        "colab": {
          "base_uri": "https://localhost:8080/"
        },
        "id": "KBcldrspDGhX",
        "outputId": "f5fba2d4-4b33-450b-fa83-aa8d4f513aed"
      },
      "execution_count": 3,
      "outputs": [
        {
          "output_type": "execute_result",
          "data": {
            "text/plain": [
              "[3, 4, 5, 6, 7, 8, 9, 10]"
            ]
          },
          "metadata": {},
          "execution_count": 3
        }
      ]
    },
    {
      "cell_type": "code",
      "source": [
        "# 다른 사람 풀이"
      ],
      "metadata": {
        "id": "bguWkqekDL4t"
      },
      "execution_count": 4,
      "outputs": []
    },
    {
      "cell_type": "code",
      "source": [
        "def solution(start, end):\n",
        "    return [i for i in range(start,end+1)]"
      ],
      "metadata": {
        "id": "xrF_KXy_Dd9H"
      },
      "execution_count": 5,
      "outputs": []
    },
    {
      "cell_type": "code",
      "source": [],
      "metadata": {
        "id": "eIz4EFP_Dih1"
      },
      "execution_count": null,
      "outputs": []
    }
  ]
}