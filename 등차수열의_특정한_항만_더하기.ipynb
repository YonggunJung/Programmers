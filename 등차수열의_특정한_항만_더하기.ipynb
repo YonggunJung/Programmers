{
  "nbformat": 4,
  "nbformat_minor": 0,
  "metadata": {
    "colab": {
      "provenance": [],
      "authorship_tag": "ABX9TyP7ijupOQ2vN/UqFn+aihJ/",
      "include_colab_link": true
    },
    "kernelspec": {
      "name": "python3",
      "display_name": "Python 3"
    },
    "language_info": {
      "name": "python"
    }
  },
  "cells": [
    {
      "cell_type": "markdown",
      "metadata": {
        "id": "view-in-github",
        "colab_type": "text"
      },
      "source": [
        "<a href=\"https://colab.research.google.com/github/YonggunJung/Programmers/blob/main/%EB%93%B1%EC%B0%A8%EC%88%98%EC%97%B4%EC%9D%98_%ED%8A%B9%EC%A0%95%ED%95%9C_%ED%95%AD%EB%A7%8C_%EB%8D%94%ED%95%98%EA%B8%B0.ipynb\" target=\"_parent\"><img src=\"https://colab.research.google.com/assets/colab-badge.svg\" alt=\"Open In Colab\"/></a>"
      ]
    },
    {
      "cell_type": "code",
      "execution_count": null,
      "metadata": {
        "id": "rZF4WHlSpNIy"
      },
      "outputs": [],
      "source": [
        "# 문제 설명\n",
        "# 두 정수 a, d와 길이가 n인 boolean 배열 included가 주어집니다.\n",
        "# 첫째항이 a, 공차가 d인 등차수열에서 included[i]가 i + 1항을 의미할 때,\n",
        "# 이 등차수열의 1항부터 n항까지 included가 true인 항들만 더한 값을\n",
        "# return 하는 solution 함수를 작성해 주세요.\n",
        "\n",
        "# 제한사항\n",
        "# 1 ≤ a ≤ 100\n",
        "# 1 ≤ d ≤ 100\n",
        "# 1 ≤ included의 길이 ≤ 100\n",
        "# included에는 true가 적어도 하나 존재합니다.\n",
        "\n",
        "# 입출력 예\n",
        "# a\t    d\t      included\t                                                result\n",
        "# 3\t    4\t      [true, false, false, true, true]\t                          37\n",
        "# 7\t    1\t      [false, false, false, true, false, false, false]\t          10\n",
        "\n",
        "# 입출력 예 설명\n",
        "# 입출력 예 #1\n",
        "# 예제 1번은 a와 d가 각각 3, 4이고 included의 길이가 5입니다.\n",
        "# 이를 표로 나타내면 다음과 같습니다.\n",
        "\n",
        "# 1항\t2항\t3항\t4항\t5항\n",
        "# 등차수열\t3\t7\t11\t15\t19\n",
        "# included\ttrue\tfalse\tfalse\ttrue\ttrue\n",
        "# 따라서 true에 해당하는 1항, 4항, 5항을 더한 3 + 15 + 19 = 37을 return 합니다.\n",
        "\n",
        "# 입출력 예 #2\n",
        "# 예제 2번은 a와 d가 각각 7, 1이고 included의 길이가 7입니다.\n",
        "# 이를 표로 나타내면 다음과 같습니다.\n",
        "\n",
        "# 1항\t2항\t3항\t4항\t5항\t6항\t7항\n",
        "# 등차수열\t7\t8\t9\t10\t11\t12\t13\n",
        "# included\tfalse\tfalse\tfalse\ttrue\tfalse\tfalse\tfalse\n",
        "# 따라서 4항만 true이므로 10을 return 합니다."
      ]
    },
    {
      "cell_type": "code",
      "source": [
        "def solution(a, d, included):\n",
        "    answer = 0\n",
        "    la = list(range(a, d*len(included)))\n",
        "    for idx, i in enumerate(included):\n",
        "      if i == 1:\n",
        "        answer += (a + d * idx)\n",
        "    return answer"
      ],
      "metadata": {
        "id": "faumzJ8Quk-W"
      },
      "execution_count": null,
      "outputs": []
    },
    {
      "cell_type": "code",
      "source": [
        "a = 3\n",
        "d = 4\n",
        "included = [True, False, False, True, True]\n",
        "solution(a, d, included)"
      ],
      "metadata": {
        "colab": {
          "base_uri": "https://localhost:8080/"
        },
        "id": "MdtDQpbyumKq",
        "outputId": "f0d61f9f-f31b-4597-83a1-bfd28dbcc2c1"
      },
      "execution_count": null,
      "outputs": [
        {
          "output_type": "execute_result",
          "data": {
            "text/plain": [
              "37"
            ]
          },
          "metadata": {},
          "execution_count": 6
        }
      ]
    },
    {
      "cell_type": "code",
      "source": [
        "a = 7\n",
        "d = 1\n",
        "included = [False, False, False, True, False, False, False]\n",
        "solution(a, d, included)"
      ],
      "metadata": {
        "colab": {
          "base_uri": "https://localhost:8080/"
        },
        "id": "SYewWM-Duruj",
        "outputId": "b4ef9f75-94c9-4cbb-ed6a-e791855f4760"
      },
      "execution_count": null,
      "outputs": [
        {
          "output_type": "execute_result",
          "data": {
            "text/plain": [
              "10"
            ]
          },
          "metadata": {},
          "execution_count": 7
        }
      ]
    },
    {
      "cell_type": "code",
      "source": [
        "# 다른 사람 풀이"
      ],
      "metadata": {
        "id": "gChegTkuursz"
      },
      "execution_count": null,
      "outputs": []
    },
    {
      "cell_type": "code",
      "source": [
        "def solution(a, d, included):\n",
        "    answer = 0\n",
        "    for i in range(len(included)):\n",
        "        answer += (a + d * i) * int(included[i])\n",
        "    return answer"
      ],
      "metadata": {
        "id": "gjQ6ivMex1Oo"
      },
      "execution_count": null,
      "outputs": []
    },
    {
      "cell_type": "code",
      "source": [
        "def solution(a, d, included):\n",
        "    return sum(a + i * d for i, f in enumerate(included) if f)"
      ],
      "metadata": {
        "id": "P2w5I2WOx7Mh"
      },
      "execution_count": null,
      "outputs": []
    },
    {
      "cell_type": "code",
      "source": [
        "# 이거 조금 ㅋㅋㅋ\n",
        "def solution(a, d, included):\n",
        "    ai = a\n",
        "    answer = 0\n",
        "    for i in included:\n",
        "        if i == True:\n",
        "            answer += ai\n",
        "        ai = ai + d\n",
        "    return answer"
      ],
      "metadata": {
        "id": "KLuCIObqx-VI"
      },
      "execution_count": null,
      "outputs": []
    }
  ]
}