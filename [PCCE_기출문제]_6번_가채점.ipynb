{
  "nbformat": 4,
  "nbformat_minor": 0,
  "metadata": {
    "colab": {
      "provenance": [],
      "authorship_tag": "ABX9TyPhowWrY5ps6zEM6/eweTl7",
      "include_colab_link": true
    },
    "kernelspec": {
      "name": "python3",
      "display_name": "Python 3"
    },
    "language_info": {
      "name": "python"
    }
  },
  "cells": [
    {
      "cell_type": "markdown",
      "metadata": {
        "id": "view-in-github",
        "colab_type": "text"
      },
      "source": [
        "<a href=\"https://colab.research.google.com/github/YonggunJung/Programmers/blob/main/%5BPCCE_%EA%B8%B0%EC%B6%9C%EB%AC%B8%EC%A0%9C%5D_6%EB%B2%88_%EA%B0%80%EC%B1%84%EC%A0%90.ipynb\" target=\"_parent\"><img src=\"https://colab.research.google.com/assets/colab-badge.svg\" alt=\"Open In Colab\"/></a>"
      ]
    },
    {
      "cell_type": "code",
      "execution_count": 1,
      "metadata": {
        "id": "pkBFCMSzBA6I"
      },
      "outputs": [],
      "source": [
        "# 문제 설명\n",
        "# A반 학생들은 시험이 끝난 뒤 성적이 나오기 전 자기 시험지를 가채점해 보았습니다.\n",
        "# 이후에 선생님이 실제 성적을 불러 줄 때\n",
        "# 가채점한 점수와 실제 성적이 다른 학생들이 있어 선생님께 문의를 하려고 합니다.\n",
        "\n",
        "# 성적을 문의하려는 학생들의 번호가 담긴 정수 리스트 numbers와\n",
        "# 가채점한 점수가 성적을 문의하려는 학생 순서대로 담긴 정수 리스트 our_score,\n",
        "# 실제 성적이 번호 순서대로 담긴 정수 리스트 score_list가 주어집니다.\n",
        "# 주어진 solution 함수는 가채점한 점수가 실제 성적과 동일하다면 \"Same\"을,\n",
        "# 다르다면 \"Different\"를 순서대로 리스트에 담아 return하는 함수입니다.\n",
        "# solution 함수가 올\n",
        "# 바르게 작동하도록 한 줄을 수정해 주세요.\n",
        "\n",
        "# 제한사항\n",
        "# 1 ≤ numbers의 길이 = our_score의 길이 ≤ 10\n",
        "# 1 ≤ numbers의 원소 ≤ 31\n",
        "# 0 ≤ our_score의 원소 ≤ 100\n",
        "# our_score[i]는 numbers[i]번 학생이 가채점한 점수입니다.\n",
        "# numbers는 중복된 원소를 가지지 않습니다.\n",
        "# 2 ≤ score_list의 길이 ≤ 31\n",
        "# 0 ≤ score_list의 원소 ≤ 100\n",
        "# score_list에는 실제 성적이 [1번 학생 성적, 2번 학생 성적, 3번 학생 성적 …]\n",
        "# 순서로 들어있습니다.\n",
        "\n",
        "# 입출력 예\n",
        "# numbers\t      our_score\t      score_list\t                         result\n",
        "# [1]\t          [100]\t          [100, 80, 90, 84, 20]\t              [\"Same\"]\n",
        "# [3, 4]\t      [85, 93]\t      [85, 92, 38, 93, 48, 85, 92, 56]\t  [\"Different\", \"Same\"]\n",
        "\n",
        "# 입출력 예 설명\n",
        "# 입출력 예 #1\n",
        "# 1번 학생이 가채점한 성적은 100점으로 실제 성적과 같기 때문에 \"Same\"을 담아 return합니다.\n",
        "\n",
        "# 입출력 예 #2\n",
        "# 3번 학생이 가채점한 성적은 85점으로 실제 성적 38점과 다르기 때문에 \"Different\"를,\n",
        "# 4번 학생이 채점한 성적은 93점으로 실제 성적과 같기 때문에 \"Same\"을 담아 return합니다.\n",
        "\n",
        "# 디버깅(Debugging) 문제 안내\n",
        "# 디버깅(Debugging)은 이미 완성된 코드에서 버그를 찾아 수정하는 문제 타입입니다.\n",
        "# 1줄만 수정하여 버그를 고치세요.\n",
        "# 2줄 이상 수정할 경우, 실행 결과에 에러 메시지가 표시됩니다."
      ]
    },
    {
      "cell_type": "code",
      "source": [
        "# 문제\n",
        "# def solution(numbers, our_score, score_list):\n",
        "#     answer = []\n",
        "#     for i in range(len(numbers)):\n",
        "#         if numbers[our_score[i]] == score_list[i]:\n",
        "#             answer.append(\"Same\")\n",
        "#         else:\n",
        "#             answer.append(\"Different\")\n",
        "\n",
        "#     return answer"
      ],
      "metadata": {
        "id": "YBSnMLimKG2v"
      },
      "execution_count": 2,
      "outputs": []
    },
    {
      "cell_type": "code",
      "source": [
        "def solution(numbers, our_score, score_list):\n",
        "    answer = []\n",
        "    for i in range(len(numbers)):\n",
        "        if our_score[i] == score_list[numbers[i]-1]:\n",
        "            answer.append(\"Same\")\n",
        "        else:\n",
        "            answer.append(\"Different\")\n",
        "\n",
        "    return answer"
      ],
      "metadata": {
        "id": "0dl9QtFpKLP0"
      },
      "execution_count": 4,
      "outputs": []
    },
    {
      "cell_type": "code",
      "source": [
        "numbers = [1]\n",
        "our_score = [100]\n",
        "score_list = [100, 80, 90, 84, 20]\n",
        "solution(numbers, our_score, score_list)"
      ],
      "metadata": {
        "colab": {
          "base_uri": "https://localhost:8080/"
        },
        "id": "xkI3EJ3yL4ks",
        "outputId": "06242636-6882-45a6-8f2f-2ba11474ffd6"
      },
      "execution_count": 5,
      "outputs": [
        {
          "output_type": "execute_result",
          "data": {
            "text/plain": [
              "['Same']"
            ]
          },
          "metadata": {},
          "execution_count": 5
        }
      ]
    },
    {
      "cell_type": "code",
      "source": [
        "numbers = [3, 4]\n",
        "our_score = [85, 93]\n",
        "score_list = [85, 92, 38, 93, 48, 85, 92, 56]\n",
        "solution(numbers, our_score, score_list)"
      ],
      "metadata": {
        "colab": {
          "base_uri": "https://localhost:8080/"
        },
        "id": "WzCS8KEYMA-c",
        "outputId": "354f8d56-901c-4a79-a05a-ed4511d4231a"
      },
      "execution_count": 6,
      "outputs": [
        {
          "output_type": "execute_result",
          "data": {
            "text/plain": [
              "['Different', 'Same']"
            ]
          },
          "metadata": {},
          "execution_count": 6
        }
      ]
    },
    {
      "cell_type": "code",
      "source": [
        "# 다른사람 풀이"
      ],
      "metadata": {
        "id": "sxz_GONXMA8a"
      },
      "execution_count": 7,
      "outputs": []
    },
    {
      "cell_type": "code",
      "source": [],
      "metadata": {
        "id": "rzJXA5bPMUDN"
      },
      "execution_count": null,
      "outputs": []
    }
  ]
}