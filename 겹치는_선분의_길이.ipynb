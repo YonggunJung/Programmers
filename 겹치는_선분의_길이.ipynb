{
  "nbformat": 4,
  "nbformat_minor": 0,
  "metadata": {
    "colab": {
      "provenance": [],
      "authorship_tag": "ABX9TyOrXmouuSkkJM76k8W/aUdy",
      "include_colab_link": true
    },
    "kernelspec": {
      "name": "python3",
      "display_name": "Python 3"
    },
    "language_info": {
      "name": "python"
    }
  },
  "cells": [
    {
      "cell_type": "markdown",
      "metadata": {
        "id": "view-in-github",
        "colab_type": "text"
      },
      "source": [
        "<a href=\"https://colab.research.google.com/github/YonggunJung/Programmers/blob/main/%EA%B2%B9%EC%B9%98%EB%8A%94_%EC%84%A0%EB%B6%84%EC%9D%98_%EA%B8%B8%EC%9D%B4.ipynb\" target=\"_parent\"><img src=\"https://colab.research.google.com/assets/colab-badge.svg\" alt=\"Open In Colab\"/></a>"
      ]
    },
    {
      "cell_type": "code",
      "execution_count": 6,
      "metadata": {
        "colab": {
          "base_uri": "https://localhost:8080/",
          "height": 202
        },
        "id": "xZbQNYvMnotj",
        "outputId": "7a9a2f62-6794-48bc-b055-e72bb798395f"
      },
      "outputs": [
        {
          "output_type": "execute_result",
          "data": {
            "text/plain": [
              "<function matplotlib.pyplot.show(close=None, block=None)>"
            ]
          },
          "metadata": {},
          "execution_count": 6
        },
        {
          "output_type": "display_data",
          "data": {
            "text/plain": [
              "<Figure size 640x480 with 1 Axes>"
            ],
            "image/png": "[encoded data removed]"
          },
          "metadata": {}
        }
      ],
      "source": [
        "# 문제 설명\n",
        "# 선분 3개가 평행하게 놓여 있습니다.\n",
        "# 세 선분의 시작과 끝 좌표가 [[start, end], [start, end], [start, end]]\n",
        "# 형태로 들어있는 2차원 배열 lines가 매개변수로 주어질 때,\n",
        "# 두 개 이상의 선분이 겹치는 부분의 길이를 return 하도록 solution 함수를 완성해보세요.\n",
        "\n",
        "# lines가 [[0, 2], [-3, -1], [-2, 1]]일 때 그림으로 나타내면 다음과 같습니다.\n",
        "# [그림]\n",
        "# 선분이 두 개 이상 겹친 곳은 [-2, -1], [0, 1]로 길이 2만큼 겹쳐있습니다.\n",
        "\n",
        "# 제한사항\n",
        "# lines의 길이 = 3\n",
        "# lines의 원소의 길이 = 2\n",
        "# 모든 선분은 길이가 1 이상입니다.\n",
        "# lines의 원소는 [a, b] 형태이며, a, b는 각각 선분의 양 끝점 입니다.\n",
        "# -100 ≤ a < b ≤ 100\n",
        "\n",
        "# 입출력 예\n",
        "# lines\t                          result\n",
        "# [[0, 1], [2, 5], [3, 9]]\t        2\n",
        "# [[-1, 1], [1, 3], [3, 9]]\t        0\n",
        "# [[0, 5], [3, 9], [1, 10]]\t        8\n",
        "\n",
        "# 입출력 예 설명\n",
        "# 입출력 예 #1\n",
        "# 두 번째, 세 번째 선분 [2, 5], [3, 9]가 [3, 5] 구간에 겹쳐있으므로 2를 return 합니다.\n",
        "\n",
        "# 입출력 예 #2\n",
        "# 겹친 선분이 없으므로 0을 return 합니다.\n",
        "\n",
        "# 입출력 예 #3\n",
        "# 첫 번째와 두 번째 선분이 [3, 5] 구간에서 겹칩니다.\n",
        "# 첫 번째와 세 번째 선분 [1, 5] 구간에서 겹칩니다.\n",
        "# 두 번째와 세 번째 선분 [3, 9] 구간에서 겹칩니다.\n",
        "# 따라서 [1, 9] 구간에 두 개 이상의 선분이 겹쳐있으므로, 8을 return 합니다.\n",
        "\n",
        "import matplotlib.pyplot as plt\n",
        "import cv2\n",
        "\n",
        "img_bgr = cv2.imread('/content/겹치는 선분의 길이.png')\n",
        "\n",
        "img = cv2.cvtColor(img_bgr, cv2.COLOR_BGR2RGB)\n",
        "plt.imshow(img)\n",
        "plt.show"
      ]
    },
    {
      "cell_type": "code",
      "source": [
        "# 길이 개념을 못잡아서 실패 ㅠㅠ\n",
        "def solution(lines):\n",
        "    answer = set()\n",
        "    for i, a in enumerate(lines):\n",
        "        for b in lines[i + 1:]:\n",
        "                answer |= set(range(a[0], a[1])) & set(range(b[0], b[1]))\n",
        "    return len(answer)\n",
        "# 두 개 이상의 선분이 겹치는 부분의 길이 = 두 개 이상의 선분이 겹치는 부분의 시작 점\n",
        "# 모든 시작 점의 중복은 배제하고 새로운 것은 더하기"
      ],
      "metadata": {
        "id": "j8adrVEHoBuK"
      },
      "execution_count": 19,
      "outputs": []
    },
    {
      "cell_type": "code",
      "source": [
        "lines = [[0, 1], [2, 5], [3, 9]]\n",
        "\n",
        "solution(lines)"
      ],
      "metadata": {
        "colab": {
          "base_uri": "https://localhost:8080/"
        },
        "id": "VaEETbCzoDm4",
        "outputId": "4402f659-9603-40af-a322-6265cf28006e"
      },
      "execution_count": 23,
      "outputs": [
        {
          "output_type": "execute_result",
          "data": {
            "text/plain": [
              "[0, 1]"
            ]
          },
          "metadata": {},
          "execution_count": 23
        }
      ]
    },
    {
      "cell_type": "code",
      "source": [
        "lines = [[-1, 1], [1, 3], [3, 9]]\n",
        "solution(lines)"
      ],
      "metadata": {
        "colab": {
          "base_uri": "https://localhost:8080/"
        },
        "id": "cOHITiqAoFXQ",
        "outputId": "1e601e57-d21b-4d92-ca09-1994da662795"
      },
      "execution_count": 26,
      "outputs": [
        {
          "output_type": "execute_result",
          "data": {
            "text/plain": [
              "([-1, 0, 1], [1, 2, 3], [3, 4, 5, 6, 7, 8, 9])"
            ]
          },
          "metadata": {},
          "execution_count": 26
        }
      ]
    },
    {
      "cell_type": "code",
      "source": [
        "lines = [[0, 5], [3, 9], [1, 10]]\n",
        "a = list(range(lines[0][0], lines[0][1]+1))\n",
        "b = list(range(lines[1][0], lines[1][1]+1))\n",
        "c = list(range(lines[2][0], lines[2][1]+1))\n",
        "a, b, c\n",
        "# solution(lines)"
      ],
      "metadata": {
        "colab": {
          "base_uri": "https://localhost:8080/"
        },
        "id": "Aw1S-vKEoFUk",
        "outputId": "f6dca003-1e38-461a-af7b-999c86e99b69"
      },
      "execution_count": 27,
      "outputs": [
        {
          "output_type": "execute_result",
          "data": {
            "text/plain": [
              "([0, 1, 2, 3, 4, 5], [3, 4, 5, 6, 7, 8, 9], [1, 2, 3, 4, 5, 6, 7, 8, 9, 10])"
            ]
          },
          "metadata": {},
          "execution_count": 27
        }
      ]
    },
    {
      "cell_type": "code",
      "source": [
        "# 이게 제일 간단한 코드 같은데 너무 나열 되어 있음\n",
        "def solution(lines):\n",
        "    sets = [set(range(min(l), max(l))) for l in lines]\n",
        "    return len(sets[0] & sets[1] | sets[0] & sets[2] | sets[1] & sets[2])"
      ],
      "metadata": {
        "id": "YdJShg6ZoFSY"
      },
      "execution_count": 28,
      "outputs": []
    },
    {
      "cell_type": "code",
      "source": [
        "# 이게 제일 이해 가 쉬운 코드임\n",
        "# 세트 활용 지렸음\n",
        "def solution(lines):\n",
        "    s1 = set(i for i in range(lines[0][0], lines[0][1]))\n",
        "    s2 = set(i for i in range(lines[1][0], lines[1][1]))\n",
        "    s3 = set(i for i in range(lines[2][0], lines[2][1]))\n",
        "    return len((s1 & s2) | (s2 & s3) | (s1 & s3))"
      ],
      "metadata": {
        "id": "szQSH4Gw3FuS"
      },
      "execution_count": 29,
      "outputs": []
    },
    {
      "cell_type": "code",
      "source": [
        "# 이거도 나름 쉽게 되어 있음\n",
        "def solution(lines):\n",
        "    starts = [min(a) for a in lines]\n",
        "    ends = [max(a) for a in lines]\n",
        "    starts.sort()\n",
        "    ends.sort()\n",
        "    answer = 0\n",
        "    answer += max(0,ends[0] - starts[1])\n",
        "    answer += max(0, ends[1] - starts[2])\n",
        "    answer -= max(0, ends[0] - starts[2])\n",
        "    return answer"
      ],
      "metadata": {
        "id": "HtzZBLHH3T56"
      },
      "execution_count": 30,
      "outputs": []
    },
    {
      "cell_type": "code",
      "source": [
        "# 이런 한줄 코드도 있지만 쉬워 보이진 않음\n",
        "def solution(lines):\n",
        "    import collections\n",
        "    return sum(1 for k, v in collections.Counter((i, i + 1) for x, y in lines for i in range(min(x, y), max(x, y))).items() if v > 1)\n"
      ],
      "metadata": {
        "id": "nPdsA7uK3a4a"
      },
      "execution_count": null,
      "outputs": []
    }
  ]
}