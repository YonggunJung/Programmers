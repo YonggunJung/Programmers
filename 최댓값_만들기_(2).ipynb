{
  "nbformat": 4,
  "nbformat_minor": 0,
  "metadata": {
    "colab": {
      "provenance": [],
      "authorship_tag": "ABX9TyPbxBHB08y9gneuQrhqETjv",
      "include_colab_link": true
    },
    "kernelspec": {
      "name": "python3",
      "display_name": "Python 3"
    },
    "language_info": {
      "name": "python"
    }
  },
  "cells": [
    {
      "cell_type": "markdown",
      "metadata": {
        "id": "view-in-github",
        "colab_type": "text"
      },
      "source": [
        "<a href=\"https://colab.research.google.com/github/YonggunJung/Programmers/blob/main/%EC%B5%9C%EB%8C%93%EA%B0%92_%EB%A7%8C%EB%93%A4%EA%B8%B0_(2).ipynb\" target=\"_parent\"><img src=\"https://colab.research.google.com/assets/colab-badge.svg\" alt=\"Open In Colab\"/></a>"
      ]
    },
    {
      "cell_type": "code",
      "execution_count": null,
      "metadata": {
        "id": "XezWGlHPAit5"
      },
      "outputs": [],
      "source": [
        "# 문제 설명\n",
        "# 정수 배열 numbers가 매개변수로 주어집니다.\n",
        "# numbers의 원소 중 두 개를 곱해 만들 수 있는 최댓값을 return하도록 solution 함수를 완성해주세요.\n",
        "\n",
        "# 제한사항\n",
        "# -10,000 ≤ numbers의 원소 ≤ 10,000\n",
        "# 2 ≤ numbers 의 길이 ≤ 100\n",
        "\n",
        "# 입출력 예\n",
        "# numbers\t                      result\n",
        "# [1, 2, -3, 4, -5]\t              15\n",
        "# [0, -31, 24, 10, 1, 9]\t        240\n",
        "# [10, 20, 30, 5, 5, 20, 5]\t      600\n",
        "\n",
        "# 입출력 예 설명\n",
        "# 입출력 예 #1\n",
        "# 두 수의 곱중 최댓값은 -3 * -5 = 15 입니다.\n",
        "\n",
        "# 입출력 예 #2\n",
        "# 두 수의 곱중 최댓값은 10 * 24 = 240 입니다.\n",
        "\n",
        "# 입출력 예 #3\n",
        "# 두 수의 곱중 최댓값은 20 * 30 = 600 입니다."
      ]
    },
    {
      "cell_type": "code",
      "source": [
        "# 너무 어렵게 생각하지 말자, 조금만 차분히 생각하자\n",
        "def solution(numbers):\n",
        "    snumbers = sorted(numbers)\n",
        "    answer = max(snumbers[0] * snumbers[1], snumbers[-1] * snumbers[-2])\n",
        "    return answer"
      ],
      "metadata": {
        "id": "io9I9F2sA8qp"
      },
      "execution_count": 2,
      "outputs": []
    },
    {
      "cell_type": "code",
      "source": [
        "number = [1, 2, -3, 4, -5]\n",
        "solution(number)"
      ],
      "metadata": {
        "colab": {
          "base_uri": "https://localhost:8080/"
        },
        "id": "VFObr3qTBCmx",
        "outputId": "840ed555-f781-4bb7-cade-d8a8988d81c8"
      },
      "execution_count": 3,
      "outputs": [
        {
          "output_type": "execute_result",
          "data": {
            "text/plain": [
              "15"
            ]
          },
          "metadata": {},
          "execution_count": 3
        }
      ]
    },
    {
      "cell_type": "code",
      "source": [
        "number = [0, -31, 24, 10, 1, 9]\n",
        "solution(number)"
      ],
      "metadata": {
        "colab": {
          "base_uri": "https://localhost:8080/"
        },
        "id": "l8E26eyoBDP8",
        "outputId": "720b0607-504b-47d4-be80-33e9c31dad4e"
      },
      "execution_count": 4,
      "outputs": [
        {
          "output_type": "execute_result",
          "data": {
            "text/plain": [
              "240"
            ]
          },
          "metadata": {},
          "execution_count": 4
        }
      ]
    },
    {
      "cell_type": "code",
      "source": [
        "number = [10, 20, 30, 5, 5, 20, 5]\n",
        "solution(number)"
      ],
      "metadata": {
        "colab": {
          "base_uri": "https://localhost:8080/"
        },
        "id": "vdZONT0GBDBA",
        "outputId": "ebb8ff73-3071-4540-899d-ca7763cf2705"
      },
      "execution_count": 5,
      "outputs": [
        {
          "output_type": "execute_result",
          "data": {
            "text/plain": [
              "600"
            ]
          },
          "metadata": {},
          "execution_count": 5
        }
      ]
    },
    {
      "cell_type": "code",
      "source": [
        "# 다른 사람 풀이"
      ],
      "metadata": {
        "id": "Feiv2rQlBC-q"
      },
      "execution_count": 6,
      "outputs": []
    },
    {
      "cell_type": "code",
      "source": [
        "# comb()함수 어딘선가 본적은 있는거 같음\n",
        "# 하지만 모름 ㅋㅋㅋㅋ\n",
        "from itertools  import combinations as comb\n",
        "\n",
        "def solution(numbers):\n",
        "    an_list=[]\n",
        "    for i,j in comb(numbers,2):\n",
        "        an_list.append(i*j)\n",
        "    return max(an_list)"
      ],
      "metadata": {
        "id": "Gxm9sH09Czh3"
      },
      "execution_count": null,
      "outputs": []
    }
  ]
}