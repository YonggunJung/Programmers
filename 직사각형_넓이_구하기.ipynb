{
  "nbformat": 4,
  "nbformat_minor": 0,
  "metadata": {
    "colab": {
      "provenance": [],
      "authorship_tag": "ABX9TyPLV5xYMlUXGtaSNadesaCt",
      "include_colab_link": true
    },
    "kernelspec": {
      "name": "python3",
      "display_name": "Python 3"
    },
    "language_info": {
      "name": "python"
    }
  },
  "cells": [
    {
      "cell_type": "markdown",
      "metadata": {
        "id": "view-in-github",
        "colab_type": "text"
      },
      "source": [
        "<a href=\"https://colab.research.google.com/github/YonggunJung/Programmers/blob/main/%EC%A7%81%EC%82%AC%EA%B0%81%ED%98%95_%EB%84%93%EC%9D%B4_%EA%B5%AC%ED%95%98%EA%B8%B0.ipynb\" target=\"_parent\"><img src=\"https://colab.research.google.com/assets/colab-badge.svg\" alt=\"Open In Colab\"/></a>"
      ]
    },
    {
      "cell_type": "code",
      "execution_count": 1,
      "metadata": {
        "id": "tnFhMqrI95BF"
      },
      "outputs": [],
      "source": [
        "# 문제 설명\n",
        "# 2차원 좌표 평면에 변이 축과 평행한 직사각형이 있습니다.\n",
        "# 직사각형 네 꼭짓점의 좌표 [[x1, y1], [x2, y2], [x3, y3], [x4, y4]]가 담겨있는\n",
        "# 배열 dots가 매개변수로 주어질 때,\n",
        "# 직사각형의 넓이를 return 하도록 solution 함수를 완성해보세요.\n",
        "\n",
        "# 제한사항\n",
        "# dots의 길이 = 4\n",
        "# dots의 원소의 길이 = 2\n",
        "# -256 < dots[i]의 원소 < 256\n",
        "# 잘못된 입력은 주어지지 않습니다.\n",
        "\n",
        "# 입출력 예\n",
        "# dots\t                                                result\n",
        "# [[1, 1], [2, 1], [2, 2], [1, 2]]\t                      1\n",
        "# [[-1, -1], [1, 1], [1, -1], [-1, 1]]\t                  4\n",
        "\n",
        "# 입출력 예 설명\n",
        "# 입출력 예 #1\n",
        "# 좌표 [[1, 1], [2, 1], [2, 2], [1, 2]] 를 꼭짓점으로 갖는 직사각형의 가로, 세로 길이는\n",
        "# 각각 1, 1이므로 직사각형의 넓이는 1 x 1 = 1입니다.\n",
        "\n",
        "# 입출력 예 #2\n",
        "# 좌표 [[-1, -1], [1, 1], [1, -1], [-1, 1]]를 꼭짓점으로 갖는 직사각형의 가로, 세로 길이는\n",
        "# 각각 2, 2이므로 직사각형의 넓이는 2 x 2 = 4입니다."
      ]
    },
    {
      "cell_type": "code",
      "source": [
        "# 내가 아는 수학을 동원해서 천천히 푼다\n",
        "def solution(dots):\n",
        "    x = []\n",
        "    y = []\n",
        "    for i in dots:\n",
        "      x.append(i[0])\n",
        "      y.append(i[1])\n",
        "    answer = (max(x) - min(x)) * (max(y) - min(y))\n",
        "\n",
        "\n",
        "    return answer"
      ],
      "metadata": {
        "id": "kD_aD78E-7Qg"
      },
      "execution_count": 9,
      "outputs": []
    },
    {
      "cell_type": "code",
      "source": [
        "dots = [[1, 1], [2, 1], [2, 2], [1, 2]]\n",
        "\n",
        "solution(dots)"
      ],
      "metadata": {
        "colab": {
          "base_uri": "https://localhost:8080/"
        },
        "id": "SXw_ziM1_Bfr",
        "outputId": "d34e885f-64ff-4780-9517-1b3cd25cf59d"
      },
      "execution_count": 10,
      "outputs": [
        {
          "output_type": "execute_result",
          "data": {
            "text/plain": [
              "1"
            ]
          },
          "metadata": {},
          "execution_count": 10
        }
      ]
    },
    {
      "cell_type": "code",
      "source": [
        "dots = [[-1, -1], [1, 1], [1, -1], [-1, 1]]\n",
        "solution(dots)"
      ],
      "metadata": {
        "colab": {
          "base_uri": "https://localhost:8080/"
        },
        "id": "2F79eFdZ_EmF",
        "outputId": "e974b0e6-03ac-43f4-fb1d-9f9a5cf80fa2"
      },
      "execution_count": 11,
      "outputs": [
        {
          "output_type": "execute_result",
          "data": {
            "text/plain": [
              "4"
            ]
          },
          "metadata": {},
          "execution_count": 11
        }
      ]
    },
    {
      "cell_type": "code",
      "source": [
        "# 다른 사람 풀이"
      ],
      "metadata": {
        "id": "GMmUp9Hu_Ejv"
      },
      "execution_count": 12,
      "outputs": []
    },
    {
      "cell_type": "code",
      "source": [
        "# 나랑 같은 방법인데 깔끔하네\n",
        "def solution(dots):\n",
        "    return (max(dots)[0] - min(dots)[0])*(max(dots)[1] - min(dots)[1])"
      ],
      "metadata": {
        "id": "GO3svfznCJg-"
      },
      "execution_count": 13,
      "outputs": []
    },
    {
      "cell_type": "code",
      "source": [],
      "metadata": {
        "id": "pZph_m_qCNht"
      },
      "execution_count": null,
      "outputs": []
    }
  ]
}