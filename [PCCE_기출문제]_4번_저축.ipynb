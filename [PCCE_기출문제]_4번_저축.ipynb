{
  "nbformat": 4,
  "nbformat_minor": 0,
  "metadata": {
    "colab": {
      "provenance": [],
      "authorship_tag": "ABX9TyM5GnqP7q8fGHG/VlD/nRGx",
      "include_colab_link": true
    },
    "kernelspec": {
      "name": "python3",
      "display_name": "Python 3"
    },
    "language_info": {
      "name": "python"
    }
  },
  "cells": [
    {
      "cell_type": "markdown",
      "metadata": {
        "id": "view-in-github",
        "colab_type": "text"
      },
      "source": [
        "<a href=\"https://colab.research.google.com/github/YonggunJung/Programmers/blob/main/%5BPCCE_%EA%B8%B0%EC%B6%9C%EB%AC%B8%EC%A0%9C%5D_4%EB%B2%88_%EC%A0%80%EC%B6%95.ipynb\" target=\"_parent\"><img src=\"https://colab.research.google.com/assets/colab-badge.svg\" alt=\"Open In Colab\"/></a>"
      ]
    },
    {
      "cell_type": "code",
      "execution_count": 1,
      "metadata": {
        "id": "JDP1whfbMiMj"
      },
      "outputs": [],
      "source": [
        "# 문제 설명\n",
        "# 진우는 돈을 모으기 위해 저축을 하려고 합니다.\n",
        "# 목표로 하는 금액은 100만 원이며,\n",
        "# 첫 달에 일정 금액을 넣은 뒤 70만 원까지는 매월 조금씩 저축하다가\n",
        "# 70만 원 이후부터는 월 저축량을 늘려 빠르게 목표 금액을 달성하고자 합니다.\n",
        "\n",
        "# 첫 달에 저축하는 금액을 나타내는 정수 start,\n",
        "# 두 번째 달 부터 70만 원 이상 모일 때까지 매월 저축하는 금액을 나타내는 정수 before,\n",
        "# 100만 원 이상 모일 때 까지 매월 저축하는 금액을 나타내는 정수 after가 주어질 때,\n",
        "# 100만 원 이상을 모을 때까지 걸리는 개월 수를 출력하도록\n",
        "# 빈칸을 채워 코드를 완성해 주세요.\n",
        "\n",
        "# 제한사항\n",
        "# 0 ≤ start ≤ 99\n",
        "# 1 ≤ before ≤ after ≤ 25\n",
        "\n",
        "# 입출력 예\n",
        "# 입력 #1                   출력 #1\n",
        "# 28                          12\n",
        "# 6\n",
        "# 8\n",
        "\n",
        "# 입력 #2                   출력 #2\n",
        "# 75                          2\n",
        "# 8\n",
        "# 25\n",
        "\n",
        "# 입출력 예 설명\n",
        "# 입출력 예 #1\n",
        "# 매월 저축된 금액은 아래 표와 같습니다. 따라서 12를 출력합니다.\n",
        "# 1\t2\t3\t4\t5\t6\t7\t8\t9\t10\t11\t12\n",
        "# 28\t34\t40\t46\t52\t58\t64\t70\t78\t86\t94\t102\n",
        "\n",
        "# 입출력 예 #2\n",
        "# 첫 달 저축된 금액이 70이 넘으므로 두 번째 달부터 바로 after= 25 만큼 저축합니다.\n",
        "#  따라서 2를 출력합니다.\n",
        "# 1\t2\n",
        "# 75\t100\n",
        "\n",
        "# 빈칸 채우기 문제 안내\n",
        "# 빈칸 채우기는 이미 완성된 코드 중 빈칸에 알맞은 코드를 입력하는 문제 타입입니다.\n",
        "# 빈칸을 제외한 기본 코드는 수정할 수 없습니다.\n",
        "# 빈칸을 채우지 않을 경우, 실행 결과에 에러 메시지가 표시됩니다."
      ]
    },
    {
      "cell_type": "code",
      "source": [
        "# 문제\n",
        "# start = int(input())\n",
        "# before = int(input())\n",
        "# after = int(input())\n",
        "\n",
        "# money = start\n",
        "# month = 1\n",
        "# while money < 70:\n",
        "#     money += 빈칸1\n",
        "#     month += 1\n",
        "\n",
        "# while 빈칸2 < 100:\n",
        "#     빈칸3\n",
        "#     month += 1\n",
        "\n",
        "# print(month)"
      ],
      "metadata": {
        "id": "oqLo4ObmNBw8"
      },
      "execution_count": 2,
      "outputs": []
    },
    {
      "cell_type": "code",
      "source": [
        "start = int(input())\n",
        "before = int(input())\n",
        "after = int(input())\n",
        "\n",
        "money = start\n",
        "month = 1\n",
        "while money < 70:\n",
        "    money += before\n",
        "    month += 1\n",
        "\n",
        "while money < 100:\n",
        "    money += after\n",
        "    month += 1\n",
        "\n",
        "print(month)"
      ],
      "metadata": {
        "colab": {
          "base_uri": "https://localhost:8080/"
        },
        "id": "StoWmC8fNU2s",
        "outputId": "915d7b2d-75a6-41ac-e24d-12f59ffe6bf9"
      },
      "execution_count": 4,
      "outputs": [
        {
          "output_type": "stream",
          "name": "stdout",
          "text": [
            "28\n",
            "6\n",
            "8\n",
            "12\n"
          ]
        }
      ]
    },
    {
      "cell_type": "code",
      "source": [
        "start = int(input())\n",
        "before = int(input())\n",
        "after = int(input())\n",
        "\n",
        "money = start\n",
        "month = 1\n",
        "while money < 70:\n",
        "    money += before\n",
        "    month += 1\n",
        "\n",
        "while money < 100:\n",
        "    money += after\n",
        "    month += 1\n",
        "\n",
        "print(month)"
      ],
      "metadata": {
        "colab": {
          "base_uri": "https://localhost:8080/"
        },
        "id": "rjNFFeI0N1GE",
        "outputId": "9de97e1d-82a3-4634-f57f-c9056e4ebc73"
      },
      "execution_count": 5,
      "outputs": [
        {
          "output_type": "stream",
          "name": "stdout",
          "text": [
            "75\n",
            "8\n",
            "25\n",
            "2\n"
          ]
        }
      ]
    },
    {
      "cell_type": "code",
      "source": [
        "# 다른 사람 풀이"
      ],
      "metadata": {
        "id": "MSVTBzVhOKBL"
      },
      "execution_count": 6,
      "outputs": []
    },
    {
      "cell_type": "code",
      "source": [
        "# 요정도 별다른건 없음\n",
        "start = int(input())\n",
        "before = int(input())\n",
        "after = int(input())\n",
        "\n",
        "money = start\n",
        "month = 1\n",
        "while money < 70:\n",
        "    money += before\n",
        "    month += 1\n",
        "while 70 <= money < 100:\n",
        "    money += after\n",
        "    month += 1\n",
        "\n",
        "print(month)"
      ],
      "metadata": {
        "id": "3PV7YcnLOjPH"
      },
      "execution_count": null,
      "outputs": []
    }
  ]
}