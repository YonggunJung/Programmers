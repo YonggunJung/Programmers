{
  "nbformat": 4,
  "nbformat_minor": 0,
  "metadata": {
    "colab": {
      "provenance": [],
      "authorship_tag": "ABX9TyOzcgG+38ppq5+G3+/FwsMC",
      "include_colab_link": true
    },
    "kernelspec": {
      "name": "python3",
      "display_name": "Python 3"
    },
    "language_info": {
      "name": "python"
    }
  },
  "cells": [
    {
      "cell_type": "markdown",
      "metadata": {
        "id": "view-in-github",
        "colab_type": "text"
      },
      "source": [
        "<a href=\"https://colab.research.google.com/github/YonggunJung/Programmers/blob/main/%ED%99%80%EC%A7%9D%EC%97%90_%EB%94%B0%EB%9D%BC_%EB%8B%A4%EB%A5%B8_%EA%B0%92_%EB%B0%98%ED%99%98%ED%95%98%EA%B8%B0.ipynb\" target=\"_parent\"><img src=\"https://colab.research.google.com/assets/colab-badge.svg\" alt=\"Open In Colab\"/></a>"
      ]
    },
    {
      "cell_type": "code",
      "execution_count": 1,
      "metadata": {
        "id": "kLIOR4rUjsye"
      },
      "outputs": [],
      "source": [
        "# 문제 설명\n",
        "# 양의 정수 n이 매개변수로 주어질 때,\n",
        "# n이 홀수라면 n 이하의 홀수인 모든 양의 정수의 합을 return 하고\n",
        "# n이 짝수라면 n 이하의 짝수인 모든 양의 정수의 제곱의 합을 return 하는\n",
        "# solution 함수를 작성해 주세요.\n",
        "\n",
        "# 제한사항\n",
        "# 1 ≤ n ≤ 100\n",
        "\n",
        "# 입출력 예\n",
        "# n\t    result\n",
        "# 7\t      16\n",
        "# 10\t    220\n",
        "\n",
        "# 입출력 예 설명\n",
        "# 입출력 예 #1\n",
        "# 예제 1번의 n은 7로 홀수입니다.\n",
        "# 7 이하의 모든 양의 홀수는 1, 3, 5, 7이고\n",
        "# 이들의 합인 1 + 3 + 5 + 7 = 16을 return 합니다.\n",
        "\n",
        "# 입출력 예 #2\n",
        "# 예제 2번의 n은 10으로 짝수입니다.\n",
        "# 10 이하의 모든 양의 짝수는 2, 4, 6, 8, 10이고\n",
        "# 이들의 제곱의 합인 22 + 42 + 62 + 82 + 102 = 4 + 16 + 36 + 64 + 100 = 220을\n",
        "# return 합니다."
      ]
    },
    {
      "cell_type": "code",
      "source": [
        "# range(start, end, step) 이 step 때문에 시간 걸림\n",
        "def solution(n):\n",
        "    answer = 0\n",
        "    for i in range(n, 0, -2):\n",
        "      if n % 2 !=0:\n",
        "        answer += i\n",
        "      else:\n",
        "        answer += i**2\n",
        "    return answer"
      ],
      "metadata": {
        "id": "AqIVGYgVj53E"
      },
      "execution_count": 31,
      "outputs": []
    },
    {
      "cell_type": "code",
      "source": [
        "n = 7\n",
        "solution(n)"
      ],
      "metadata": {
        "colab": {
          "base_uri": "https://localhost:8080/"
        },
        "id": "9uNrpl0aj8QF",
        "outputId": "dd83bb41-b1e4-4fd1-c20c-83acf2905e7f"
      },
      "execution_count": 32,
      "outputs": [
        {
          "output_type": "execute_result",
          "data": {
            "text/plain": [
              "16"
            ]
          },
          "metadata": {},
          "execution_count": 32
        }
      ]
    },
    {
      "cell_type": "code",
      "source": [
        "n = 10\n",
        "solution(n)"
      ],
      "metadata": {
        "colab": {
          "base_uri": "https://localhost:8080/"
        },
        "id": "-_P_-pa-j789",
        "outputId": "96f0138d-b11c-4783-d06c-a25fe8a771fe"
      },
      "execution_count": 33,
      "outputs": [
        {
          "output_type": "execute_result",
          "data": {
            "text/plain": [
              "220"
            ]
          },
          "metadata": {},
          "execution_count": 33
        }
      ]
    },
    {
      "cell_type": "code",
      "source": [
        "# 다른 사람 풀이"
      ],
      "metadata": {
        "id": "BOSqYGaVj-xr"
      },
      "execution_count": 34,
      "outputs": []
    },
    {
      "cell_type": "code",
      "source": [
        "# 이렇게 한줄로 나오는거도 신기함, 알면 보이는데 모르면 안보일듯\n",
        "def solution(n):\n",
        "    return sum(x ** (2 - x % 2) for x in range(n + 1) if n % 2 == x % 2)"
      ],
      "metadata": {
        "id": "I6yuSoVft-yI"
      },
      "execution_count": null,
      "outputs": []
    }
  ]
}