{
  "nbformat": 4,
  "nbformat_minor": 0,
  "metadata": {
    "colab": {
      "provenance": [],
      "authorship_tag": "ABX9TyNVBiPXRjb+zYRjrmBHVGrN",
      "include_colab_link": true
    },
    "kernelspec": {
      "name": "python3",
      "display_name": "Python 3"
    },
    "language_info": {
      "name": "python"
    }
  },
  "cells": [
    {
      "cell_type": "markdown",
      "metadata": {
        "id": "view-in-github",
        "colab_type": "text"
      },
      "source": [
        "<a href=\"https://colab.research.google.com/github/YonggunJung/Programmers/blob/main/%EB%82%98%EB%88%84%EC%96%B4_%EB%96%A8%EC%96%B4%EC%A7%80%EB%8A%94_%EC%88%AB%EC%9E%90_%EB%B0%B0%EC%97%B4.ipynb\" target=\"_parent\"><img src=\"https://colab.research.google.com/assets/colab-badge.svg\" alt=\"Open In Colab\"/></a>"
      ]
    },
    {
      "cell_type": "code",
      "execution_count": null,
      "metadata": {
        "id": "RvgqvDAxeU38"
      },
      "outputs": [],
      "source": [
        "# 문제 설명\n",
        "# array의 각 element 중 divisor로 나누어 떨어지는 값을\n",
        "# 오름차순으로 정렬한 배열을 반환하는 함수, solution을 작성해주세요.\n",
        "# divisor로 나누어 떨어지는 element가 하나도 없다면 배열에 -1을 담아 반환하세요.\n",
        "\n",
        "# 제한사항\n",
        "# arr은 자연수를 담은 배열입니다.\n",
        "# 정수 i, j에 대해 i ≠ j 이면 arr[i] ≠ arr[j] 입니다.\n",
        "# divisor는 자연수입니다.\n",
        "# array는 길이 1 이상인 배열입니다.\n",
        "# 입출력 예\n",
        "# arr\t                divisor\t              return\n",
        "# [5, 9, 7, 10]\t          5\t                [5, 10]\n",
        "# [2, 36, 1, 3]\t          1\t                [1, 2, 3, 36]\n",
        "# [3,2,6]\t                10\t              [-1]\n",
        "\n",
        "# 입출력 예 설명\n",
        "# 입출력 예#1\n",
        "# arr의 원소 중 5로 나누어 떨어지는 원소는 5와 10입니다.\n",
        "# 따라서 [5, 10]을 리턴합니다.\n",
        "\n",
        "# 입출력 예#2\n",
        "# arr의 모든 원소는 1으로 나누어 떨어집니다.\n",
        "# 원소를 오름차순으로 정렬해 [1, 2, 3, 36]을 리턴합니다.\n",
        "\n",
        "# 입출력 예#3\n",
        "# 3, 2, 6은 10으로 나누어 떨어지지 않습니다.\n",
        "#  나누어 떨어지는 원소가 없으므로 [-1]을 리턴합니다."
      ]
    },
    {
      "cell_type": "code",
      "source": [
        "def solution(arr, divisor):\n",
        "    answer = []\n",
        "    for num in arr:\n",
        "      if num% divisor == 0:\n",
        "        answer.append(num)\n",
        "\n",
        "    if len(answer) == 0:\n",
        "      answer.append(-1)\n",
        "    answer.sort()\n",
        "    return answer"
      ],
      "metadata": {
        "id": "SIVNUiR-eWyN"
      },
      "execution_count": 1,
      "outputs": []
    },
    {
      "cell_type": "code",
      "source": [
        "# 다른 사람 풀이\n",
        "def solution(arr, divisor): return sorted([n for n in arr if n%divisor == 0]) or [-1]"
      ],
      "metadata": {
        "id": "LNDDOopzfjPC"
      },
      "execution_count": null,
      "outputs": []
    }
  ]
}