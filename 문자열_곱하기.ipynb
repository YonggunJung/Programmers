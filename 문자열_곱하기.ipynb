{
  "nbformat": 4,
  "nbformat_minor": 0,
  "metadata": {
    "colab": {
      "provenance": [],
      "authorship_tag": "ABX9TyOwFNowDSZlPdw24PqzW2Nw",
      "include_colab_link": true
    },
    "kernelspec": {
      "name": "python3",
      "display_name": "Python 3"
    },
    "language_info": {
      "name": "python"
    }
  },
  "cells": [
    {
      "cell_type": "markdown",
      "metadata": {
        "id": "view-in-github",
        "colab_type": "text"
      },
      "source": [
        "<a href=\"https://colab.research.google.com/github/YonggunJung/Programmers/blob/main/%EB%AC%B8%EC%9E%90%EC%97%B4_%EA%B3%B1%ED%95%98%EA%B8%B0.ipynb\" target=\"_parent\"><img src=\"https://colab.research.google.com/assets/colab-badge.svg\" alt=\"Open In Colab\"/></a>"
      ]
    },
    {
      "cell_type": "code",
      "execution_count": 1,
      "metadata": {
        "id": "y5p4D5d0ZmQ9"
      },
      "outputs": [],
      "source": [
        "# 문제 설명\n",
        "# 문자열 my_string과 정수 k가 주어질 때, my_string을 k번 반복한\n",
        "# 문자열을 return 하는 solution 함수를 작성해 주세요.\n",
        "\n",
        "# 제한사항\n",
        "# 1 ≤ my_string의 길이 ≤ 100\n",
        "# my_string은 영소문자로만 이루어져 있습니다.\n",
        "# 1 ≤ k ≤ 100\n",
        "\n",
        "# 입출력 예\n",
        "# my_string\t    k\t        result\n",
        "# \"string\"\t    3\t        \"stringstringstring\"\n",
        "# \"love\"\t      10\t      \"lovelovelovelovelovelovelovelovelovelove\"\n",
        "\n",
        "# 입출력 예 설명\n",
        "# 입출력 예 #1\n",
        "# 예제 1번의 my_string은 \"string\"이고\n",
        "# 이를 3번 반복한 문자열은 \"stringstringstring\"이므로 이를 return 합니다.\n",
        "\n",
        "# 입출력 예 #2\n",
        "# 예제 2번의 my_string은 \"love\"이고\n",
        "# 이를 10번 반복한 문자열은 \"lovelovelovelovelovelovelovelovelovelove\"이므로\n",
        "# 이를 return 합니다."
      ]
    },
    {
      "cell_type": "code",
      "source": [
        "# 5초 컷\n",
        "def solution(my_string, k):\n",
        "    answer = my_string * k\n",
        "\n",
        "    return answer"
      ],
      "metadata": {
        "id": "EOzEgBXeZ5nL"
      },
      "execution_count": 5,
      "outputs": []
    },
    {
      "cell_type": "code",
      "source": [
        "my_string = \"string\"\n",
        "k = 3\n",
        "solution(my_string, k)"
      ],
      "metadata": {
        "colab": {
          "base_uri": "https://localhost:8080/",
          "height": 35
        },
        "id": "zMmPG_dbZ6ma",
        "outputId": "e29f1246-3d63-4cfd-d50e-7393532baf4d"
      },
      "execution_count": 6,
      "outputs": [
        {
          "output_type": "execute_result",
          "data": {
            "text/plain": [
              "'stringstringstring'"
            ],
            "application/vnd.google.colaboratory.intrinsic+json": {
              "type": "string"
            }
          },
          "metadata": {},
          "execution_count": 6
        }
      ]
    },
    {
      "cell_type": "code",
      "source": [
        "my_string = \"love\"\n",
        "k = 10\n",
        "solution(my_string, k)"
      ],
      "metadata": {
        "colab": {
          "base_uri": "https://localhost:8080/",
          "height": 35
        },
        "id": "b4kg0bOXZ9oI",
        "outputId": "79afde55-aadf-46a1-a16b-1651cae73fb1"
      },
      "execution_count": 7,
      "outputs": [
        {
          "output_type": "execute_result",
          "data": {
            "text/plain": [
              "'lovelovelovelovelovelovelovelovelovelove'"
            ],
            "application/vnd.google.colaboratory.intrinsic+json": {
              "type": "string"
            }
          },
          "metadata": {},
          "execution_count": 7
        }
      ]
    },
    {
      "cell_type": "code",
      "source": [
        "# 다른 사람 풀이"
      ],
      "metadata": {
        "id": "GUGtlT8WZ9l8"
      },
      "execution_count": 8,
      "outputs": []
    },
    {
      "cell_type": "code",
      "source": [
        "def solution(my_string, k):\n",
        "    answer = ''\n",
        "\n",
        "    for i in range(k):\n",
        "        answer+=(my_string)\n",
        "\n",
        "    return answer"
      ],
      "metadata": {
        "id": "STUeZdvfaVyh"
      },
      "execution_count": 9,
      "outputs": []
    },
    {
      "cell_type": "code",
      "source": [
        "solution = lambda my_string, k: ''.join([my_string * k])"
      ],
      "metadata": {
        "id": "tuz2cNr2aV7p"
      },
      "execution_count": null,
      "outputs": []
    }
  ]
}