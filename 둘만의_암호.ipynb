{
  "nbformat": 4,
  "nbformat_minor": 0,
  "metadata": {
    "colab": {
      "provenance": [],
      "authorship_tag": "ABX9TyNe/XLeMQM/xxd+vDZI5yXU",
      "include_colab_link": true
    },
    "kernelspec": {
      "name": "python3",
      "display_name": "Python 3"
    },
    "language_info": {
      "name": "python"
    }
  },
  "cells": [
    {
      "cell_type": "markdown",
      "metadata": {
        "id": "view-in-github",
        "colab_type": "text"
      },
      "source": [
        "<a href=\"https://colab.research.google.com/github/YonggunJung/Programmers/blob/main/%EB%91%98%EB%A7%8C%EC%9D%98_%EC%95%94%ED%98%B8.ipynb\" target=\"_parent\"><img src=\"https://colab.research.google.com/assets/colab-badge.svg\" alt=\"Open In Colab\"/></a>"
      ]
    },
    {
      "cell_type": "code",
      "execution_count": 1,
      "metadata": {
        "id": "ZG3lsNClVrCL"
      },
      "outputs": [],
      "source": [
        "# 문제 설명\n",
        "# 두 문자열 s와 skip, 그리고 자연수 index가 주어질 때,\n",
        "# 다음 규칙에 따라 문자열을 만들려 합니다.\n",
        "# 암호의 규칙은 다음과 같습니다.\n",
        "\n",
        "# 문자열 s의 각 알파벳을 index만큼 뒤의 알파벳으로 바꿔줍니다.\n",
        "# index만큼의 뒤의 알파벳이 z를 넘어갈 경우 다시 a로 돌아갑니다.\n",
        "# skip에 있는 알파벳은 제외하고 건너뜁니다.\n",
        "# 예를 들어 s = \"aukks\",\n",
        "# skip = \"wbqd\",\n",
        "# index = 5일 때,\n",
        "# a에서 5만큼 뒤에 있는 알파벳은 f지만 [b, c, d, e, f]에서\n",
        "# 'b'와 'd'는 skip에 포함되므로 세지 않습니다.\n",
        "# 따라서 'b', 'd'를 제외하고 'a'에서 5만큼 뒤에 있는 알파벳은\n",
        "#  [c, e, f, g, h] 순서에 의해 'h'가 됩니다.\n",
        "#  나머지 \"ukks\" 또한 위 규칙대로 바꾸면 \"appy\"가 되며\n",
        "#  결과는 \"happy\"가 됩니다.\n",
        "\n",
        "# 두 문자열 s와 skip, 그리고 자연수 index가 매개변수로 주어질 때\n",
        "# 위 규칙대로 s를 변환한 결과를\n",
        "# return하도록 solution 함수를 완성해주세요.\n",
        "\n",
        "# 제한사항\n",
        "# 5 ≤ s의 길이 ≤ 50\n",
        "# 1 ≤ skip의 길이 ≤ 10\n",
        "# s와 skip은 알파벳 소문자로만 이루어져 있습니다.\n",
        "# skip에 포함되는 알파벳은 s에 포함되지 않습니다.\n",
        "# 1 ≤ index ≤ 20\n",
        "\n",
        "# 입출력 예\n",
        "# s\t            skip\t      index\t    result\n",
        "# \"aukks\"\t      \"wbqd\"\t      5\t      \"happy\"\n",
        "\n",
        "# 입출력 예 설명\n",
        "# 입출력 예 #1\n",
        "# 본문 내용과 일치합니다."
      ]
    },
    {
      "cell_type": "code",
      "source": [
        "def solution(s, skip, index):\n",
        "    answer = ''\n",
        "    a = \"abcdefghijklmnopqrstuvwxyz\"\n",
        "    for i in range(len(skip)):\n",
        "      a = a.replace(skip[i], \"\")\n",
        "    for i in range(len(s)):\n",
        "      idx = a.find(s[i])\n",
        "      nidx = (idx + index) % len(a)\n",
        "      answer += a[nidx]\n",
        "\n",
        "    return answer"
      ],
      "metadata": {
        "id": "vcTCyhGCV2dZ"
      },
      "execution_count": null,
      "outputs": []
    }
  ]
}