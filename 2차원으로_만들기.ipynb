{
  "nbformat": 4,
  "nbformat_minor": 0,
  "metadata": {
    "colab": {
      "provenance": [],
      "authorship_tag": "ABX9TyMC+z+TTsjGgERFmHIzvS9P",
      "include_colab_link": true
    },
    "kernelspec": {
      "name": "python3",
      "display_name": "Python 3"
    },
    "language_info": {
      "name": "python"
    }
  },
  "cells": [
    {
      "cell_type": "markdown",
      "metadata": {
        "id": "view-in-github",
        "colab_type": "text"
      },
      "source": [
        "<a href=\"https://colab.research.google.com/github/YonggunJung/Programmers/blob/main/2%EC%B0%A8%EC%9B%90%EC%9C%BC%EB%A1%9C_%EB%A7%8C%EB%93%A4%EA%B8%B0.ipynb\" target=\"_parent\"><img src=\"https://colab.research.google.com/assets/colab-badge.svg\" alt=\"Open In Colab\"/></a>"
      ]
    },
    {
      "cell_type": "code",
      "execution_count": 1,
      "metadata": {
        "id": "qN93XyxfNyYM"
      },
      "outputs": [],
      "source": [
        "# 문제 설명\n",
        "# 정수 배열 num_list와 정수 n이 매개변수로 주어집니다.\n",
        "# num_list를 다음 설명과 같이 2차원 배열로 바꿔 return하도록 solution 함수를 완성해주세요.\n",
        "\n",
        "# num_list가 [1, 2, 3, 4, 5, 6, 7, 8] 로 길이가 8이고 n이 2이므로\n",
        "# num_list를 2 * 4 배열로 다음과 같이 변경합니다.\n",
        "# 2차원으로 바꿀 때에는 num_list의 원소들을 앞에서부터 n개씩 나눠 2차원 배열로 변경합니다.\n",
        "\n",
        "# num_list\t                  n\t        result\n",
        "# [1, 2, 3, 4, 5, 6, 7, 8]\t  2\t        [[1, 2], [3, 4], [5, 6], [7, 8]]\n",
        "\n",
        "# 제한사항\n",
        "# num_list의 길이는 n의 배 수개입니다.\n",
        "# 0 ≤ num_list의 길이 ≤ 150\n",
        "# 2 ≤ n < num_list의 길이\n",
        "\n",
        "# 입출력 예\n",
        "# num_list\t                            n\t      result\n",
        "# [1, 2, 3, 4, 5, 6, 7, 8]\t            2\t      [[1, 2], [3, 4], [5, 6], [7, 8]]\n",
        "# [100, 95, 2, 4, 5, 6, 18, 33, 948]\t  3\t      [[100, 95, 2], [4, 5, 6], [18, 33, 948]]\n",
        "\n",
        "# 입출력 예 설명\n",
        "# 입출력 예 #1\n",
        "# num_list가 [1, 2, 3, 4, 5, 6, 7, 8] 로 길이가 8이고 n이 2이므로\n",
        "# 2 * 4 배열로 변경한 [[1, 2], [3, 4], [5, 6], [7, 8]] 을 return합니다.\n",
        "\n",
        "# 입출력 예 #2\n",
        "# num_list가 [100, 95, 2, 4, 5, 6, 18, 33, 948] 로 길이가 9이고 n이 3이므로\n",
        "# 3 * 3 배열로 변경한 [[100, 95, 2], [4, 5, 6], [18, 33, 948]] 을 return합니다."
      ]
    },
    {
      "cell_type": "code",
      "source": [
        "# 풀이봄, 이건 전혀 감이 안왔음\n",
        "def solution(num_list, n):\n",
        "    answer = [num_list[i*n : (i+1)*n] for i in range(len(num_list) // n)]\n",
        "\n",
        "    return answer"
      ],
      "metadata": {
        "id": "6BfBO40_OT1a"
      },
      "execution_count": 3,
      "outputs": []
    },
    {
      "cell_type": "code",
      "source": [
        "num_list = [1, 2, 3, 4, 5, 6, 7, 8]\n",
        "n = 2\n",
        "solution(num_list, n)"
      ],
      "metadata": {
        "colab": {
          "base_uri": "https://localhost:8080/"
        },
        "id": "Di9GJcziOVmV",
        "outputId": "3acb37c7-c6b3-4c21-865e-18c4e7c38f57"
      },
      "execution_count": 4,
      "outputs": [
        {
          "output_type": "execute_result",
          "data": {
            "text/plain": [
              "[[1, 2], [3, 4], [5, 6], [7, 8]]"
            ]
          },
          "metadata": {},
          "execution_count": 4
        }
      ]
    },
    {
      "cell_type": "code",
      "source": [
        "num_list = [100, 95, 2, 4, 5, 6, 18, 33, 948]\n",
        "n = 3\n",
        "solution(num_list, n)"
      ],
      "metadata": {
        "colab": {
          "base_uri": "https://localhost:8080/"
        },
        "id": "0_0AnKXvOb5A",
        "outputId": "851e47a2-6205-4376-a552-dad95f8c5827"
      },
      "execution_count": 5,
      "outputs": [
        {
          "output_type": "execute_result",
          "data": {
            "text/plain": [
              "[[100, 95, 2], [4, 5, 6], [18, 33, 948]]"
            ]
          },
          "metadata": {},
          "execution_count": 5
        }
      ]
    },
    {
      "cell_type": "code",
      "source": [
        "# 다른 사람 풀이"
      ],
      "metadata": {
        "id": "FKV65qUpOb3C"
      },
      "execution_count": 6,
      "outputs": []
    },
    {
      "cell_type": "code",
      "source": [
        "# 이거 보니까 이해가 됨\n",
        "def solution(num_list, n):\n",
        "    answer = []\n",
        "    for i in range(0, len(num_list), n):\n",
        "        answer.append(num_list[i:i+n])\n",
        "    return answer"
      ],
      "metadata": {
        "id": "uxclQKdLZGLA"
      },
      "execution_count": 7,
      "outputs": []
    },
    {
      "cell_type": "code",
      "source": [
        "# 이게 있었네  *****\n",
        "import numpy as np\n",
        "def solution(num_list, n):\n",
        "    li = np.array(num_list).reshape(-1,n)\n",
        "    return li.tolist()"
      ],
      "metadata": {
        "id": "l0GqT51uZiCB"
      },
      "execution_count": 8,
      "outputs": []
    },
    {
      "cell_type": "code",
      "source": [],
      "metadata": {
        "id": "tggaDM6AZ0n_"
      },
      "execution_count": null,
      "outputs": []
    }
  ]
}