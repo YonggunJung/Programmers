{
  "nbformat": 4,
  "nbformat_minor": 0,
  "metadata": {
    "colab": {
      "provenance": [],
      "authorship_tag": "ABX9TyOBVmzEROeRNz4XuhoFbsVE",
      "include_colab_link": true
    },
    "kernelspec": {
      "name": "python3",
      "display_name": "Python 3"
    },
    "language_info": {
      "name": "python"
    }
  },
  "cells": [
    {
      "cell_type": "markdown",
      "metadata": {
        "id": "view-in-github",
        "colab_type": "text"
      },
      "source": [
        "<a href=\"https://colab.research.google.com/github/YonggunJung/Programmers/blob/main/%EB%AC%B8%EC%9E%90%EC%97%B4_%EC%97%AC%EB%9F%AC_%EB%B2%88_%EB%92%A4%EC%A7%91%EA%B8%B0.ipynb\" target=\"_parent\"><img src=\"https://colab.research.google.com/assets/colab-badge.svg\" alt=\"Open In Colab\"/></a>"
      ]
    },
    {
      "cell_type": "code",
      "execution_count": null,
      "metadata": {
        "id": "WO10x8-cTZL-"
      },
      "outputs": [],
      "source": [
        "# 문제 설명\n",
        "# 문자열 my_string과 이차원 정수 배열 queries가 매개변수로 주어집니다.\n",
        "# queries의 원소는 [s, e] 형태로,\n",
        "# my_string의 인덱스 s부터 인덱스 e까지를 뒤집으라는 의미입니다.\n",
        "# my_string에 queries의 명령을 순서대로 처리한 후의 문자열을\n",
        "# return 하는 solution 함수를 작성해 주세요.\n",
        "\n",
        "# 제한사항\n",
        "# my_string은 영소문자로만 이루어져 있습니다.\n",
        "# 1 ≤ my_string의 길이 ≤ 1,000\n",
        "# queries의 원소는 [s, e]의 형태로 0 ≤ s ≤ e < my_string의 길이를 만족합니다.\n",
        "# 1 ≤ queries의 길이 ≤ 1,000\n",
        "\n",
        "# 입출력 예\n",
        "# my_string\t          queries\t                              result\n",
        "# \"rermgorpsam\"\t      [[2, 3], [0, 7], [5, 9], [6, 10]]\t    \"programmers\"\n",
        "\n",
        "# 입출력 예 설명\n",
        "# 예제 1번의 my_string은 \"rermgorpsam\"이고\n",
        "# 주어진 queries를 순서대로 처리하면 다음과 같습니다.\n",
        "\n",
        "# queries\t      my_string\n",
        "#   -           \"rermgorpsam\"\n",
        "# [2, 3]\t      \"remrgorpsam\"\n",
        "# [0, 7]\t      \"progrmersam\"\n",
        "# [5, 9]\t      \"prograsremm\"\n",
        "# [6, 10]\t      \"programmers\"\n",
        "# 따라서 \"programmers\"를 return 합니다."
      ]
    },
    {
      "cell_type": "code",
      "source": [
        "# 진짜 최고로 힘들었음 이거 생각만 5시간 넘게 한듯\n",
        "# 함정에 빠지기도 하고 생각 많이 넓힘\n",
        "def solution(my_string, queries):\n",
        "    answer = ''\n",
        "    lms = list(my_string)\n",
        "    for s, e in queries:\n",
        "      arr = lms[s: e+1]\n",
        "      rarr = arr[::-1]\n",
        "      for i in range(len(lms)):\n",
        "        if s <= i <= e:\n",
        "          lms[i] = rarr[i-s]\n",
        "\n",
        "    for char in lms:\n",
        "      answer += char\n",
        "\n",
        "    return answer\n",
        "# 다른 사람들 풀이 보니까 크게 어려운 문제는 아니었다\n",
        "# 생각 많이 하고 잘 풀었다"
      ],
      "metadata": {
        "id": "HWqYdkM7T7P7"
      },
      "execution_count": 44,
      "outputs": []
    },
    {
      "cell_type": "code",
      "source": [
        "my_string = \"rermgorpsam\"\n",
        "queries = [[2, 3], [0, 7], [5, 9], [6, 10]]\n",
        "solution(my_string, queries)"
      ],
      "metadata": {
        "colab": {
          "base_uri": "https://localhost:8080/",
          "height": 35
        },
        "id": "2ngHf74WT9hi",
        "outputId": "7983ac86-6926-498a-b039-7853312fdf9d"
      },
      "execution_count": 45,
      "outputs": [
        {
          "output_type": "execute_result",
          "data": {
            "text/plain": [
              "'programmers'"
            ],
            "application/vnd.google.colaboratory.intrinsic+json": {
              "type": "string"
            }
          },
          "metadata": {},
          "execution_count": 45
        }
      ]
    },
    {
      "cell_type": "code",
      "source": [
        "# 이건 반례\n",
        "my_string = '12121212'\n",
        "queries = [[1,2]]\n",
        "solution(my_string, queries)\n",
        "\n"
      ],
      "metadata": {
        "colab": {
          "base_uri": "https://localhost:8080/",
          "height": 35
        },
        "id": "JrxWz5KsUAxM",
        "outputId": "18848991-6c89-4207-ebe6-15e4a3f30bb6"
      },
      "execution_count": 46,
      "outputs": [
        {
          "output_type": "execute_result",
          "data": {
            "text/plain": [
              "'11221212'"
            ],
            "application/vnd.google.colaboratory.intrinsic+json": {
              "type": "string"
            }
          },
          "metadata": {},
          "execution_count": 46
        }
      ]
    },
    {
      "cell_type": "code",
      "source": [
        "# 다른 사람 풀이"
      ],
      "metadata": {
        "id": "0_LP5fbkClMS"
      },
      "execution_count": 47,
      "outputs": []
    },
    {
      "cell_type": "code",
      "source": [
        "# 리스트화를 빨리 생각 했으면 이것도 가능 했구나\n",
        "# answer[s:e+1]=answer[s:e+1][::-1] 이걸 했는데 리스트화를 안해서 안된 듯\n",
        "def solution(my_string, queries):\n",
        "    answer=list(my_string)\n",
        "    for s,e in queries:\n",
        "        answer[s:e+1]=answer[s:e+1][::-1]\n",
        "    return ''.join(answer)"
      ],
      "metadata": {
        "id": "JrXBC2L_Rm4C"
      },
      "execution_count": 49,
      "outputs": []
    },
    {
      "cell_type": "code",
      "source": [
        "# 뭔가 나만 힘들게 하고 다른 사람들은 쉽게 한 느낌이네\n",
        "def solution(my_string, queries):\n",
        "    for query in queries:\n",
        "        start, end = query\n",
        "        my_string = my_string[:start] + my_string[start:end+1][::-1] + my_string[end+1:]\n",
        "    return my_string"
      ],
      "metadata": {
        "id": "oyMqmrZjRrtb"
      },
      "execution_count": 50,
      "outputs": []
    },
    {
      "cell_type": "code",
      "source": [
        "# 방법은 여러가지다\n",
        "def solution(my_string, queries):\n",
        "    answer = ''\n",
        "\n",
        "\n",
        "    for x in queries:\n",
        "        my_string = my_string[:x[0]]+ ''.join(reversed(my_string[x[0]:x[1]+1:])) +my_string[x[1]+1:]\n",
        "\n",
        "    answer = my_string\n",
        "\n",
        "    return answer"
      ],
      "metadata": {
        "id": "xvQ2tjgpR_7S"
      },
      "execution_count": null,
      "outputs": []
    }
  ]
}