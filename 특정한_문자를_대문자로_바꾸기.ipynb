{
  "nbformat": 4,
  "nbformat_minor": 0,
  "metadata": {
    "colab": {
      "provenance": [],
      "authorship_tag": "ABX9TyNnuFcinlGRTrpYsU0gZ5XA",
      "include_colab_link": true
    },
    "kernelspec": {
      "name": "python3",
      "display_name": "Python 3"
    },
    "language_info": {
      "name": "python"
    }
  },
  "cells": [
    {
      "cell_type": "markdown",
      "metadata": {
        "id": "view-in-github",
        "colab_type": "text"
      },
      "source": [
        "<a href=\"https://colab.research.google.com/github/YonggunJung/Programmers/blob/main/%ED%8A%B9%EC%A0%95%ED%95%9C_%EB%AC%B8%EC%9E%90%EB%A5%BC_%EB%8C%80%EB%AC%B8%EC%9E%90%EB%A1%9C_%EB%B0%94%EA%BE%B8%EA%B8%B0.ipynb\" target=\"_parent\"><img src=\"https://colab.research.google.com/assets/colab-badge.svg\" alt=\"Open In Colab\"/></a>"
      ]
    },
    {
      "cell_type": "code",
      "execution_count": 1,
      "metadata": {
        "id": "tvhym53X3_Dp"
      },
      "outputs": [],
      "source": [
        "# 문제 설명\n",
        "# 영소문자로 이루어진 문자열 my_string과\n",
        "# 영소문자 1글자로 이루어진 문자열 alp가 매개변수로 주어질 때,\n",
        "# my_string에서 alp에 해당하는 모든 글자를 대문자로 바꾼 문자열을\n",
        "# return 하는 solution 함수를 작성해 주세요.\n",
        "\n",
        "# 제한사항\n",
        "# 1 ≤ my_string의 길이 ≤ 1,000\n",
        "\n",
        "# 입출력 예\n",
        "# my_string\t          alp\t        result\n",
        "# \"programmers\"\t      \"p\"\t        \"Programmers\"\n",
        "# \"lowercase\"\t        \"x\"\t        \"lowercase\"\n",
        "\n",
        "# 입출력 예 설명\n",
        "# 입출력 예 #1\n",
        "# 예제 1번의 my_string은 \"programmers\"이고 alp가 \"p\"이므로\n",
        "# my_string에 모든 p를 대문자인 P로 바꾼 문자열 \"Programmers\"를 return 합니다.\n",
        "\n",
        "# 입출력 예 #2\n",
        "# 예제 2번의 alp는 \"x\"이고 my_string에 x는 없습니다. 따라서 \"lowercase\"를 return 합니다."
      ]
    },
    {
      "cell_type": "code",
      "source": [
        "def solution(my_string, alp):\n",
        "    answer = my_string.replace(alp, alp.upper())\n",
        "\n",
        "    return answer"
      ],
      "metadata": {
        "id": "19Mnfu3S4KZf"
      },
      "execution_count": 3,
      "outputs": []
    },
    {
      "cell_type": "code",
      "source": [
        "my_string = \"programmers\"\n",
        "alp = \"p\"\n",
        "solution(my_string, alp)"
      ],
      "metadata": {
        "colab": {
          "base_uri": "https://localhost:8080/",
          "height": 35
        },
        "id": "ueR8Z-Wt4MD-",
        "outputId": "f32031cc-ed33-45de-ad59-d9d2e6e99d11"
      },
      "execution_count": 4,
      "outputs": [
        {
          "output_type": "execute_result",
          "data": {
            "text/plain": [
              "'Programmers'"
            ],
            "application/vnd.google.colaboratory.intrinsic+json": {
              "type": "string"
            }
          },
          "metadata": {},
          "execution_count": 4
        }
      ]
    },
    {
      "cell_type": "code",
      "source": [
        "my_string = \"lowercase\"\n",
        "alp = \"x\"\n",
        "solution(my_string, alp)"
      ],
      "metadata": {
        "colab": {
          "base_uri": "https://localhost:8080/",
          "height": 35
        },
        "id": "85AYE-7S4PCy",
        "outputId": "32d2188b-c0a9-41d8-c4bc-2ed7b437ab70"
      },
      "execution_count": 5,
      "outputs": [
        {
          "output_type": "execute_result",
          "data": {
            "text/plain": [
              "'lowercase'"
            ],
            "application/vnd.google.colaboratory.intrinsic+json": {
              "type": "string"
            }
          },
          "metadata": {},
          "execution_count": 5
        }
      ]
    },
    {
      "cell_type": "code",
      "source": [
        "# 다른 사람 풀이"
      ],
      "metadata": {
        "id": "VmbdMHcJ4PAi"
      },
      "execution_count": 6,
      "outputs": []
    },
    {
      "cell_type": "code",
      "source": [
        "def solution(my_string, alp):\n",
        "    result = \"\"\n",
        "    for c in my_string:\n",
        "        if c == alp:\n",
        "            result += c.upper()\n",
        "        else:\n",
        "            result += c\n",
        "    return result"
      ],
      "metadata": {
        "id": "k9A-IRPL4pbf"
      },
      "execution_count": null,
      "outputs": []
    }
  ]
}