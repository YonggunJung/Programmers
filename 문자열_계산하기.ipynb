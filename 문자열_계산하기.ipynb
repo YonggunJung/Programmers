{
  "nbformat": 4,
  "nbformat_minor": 0,
  "metadata": {
    "colab": {
      "provenance": [],
      "authorship_tag": "ABX9TyMJ9eQXwisp048GK+E42xZi",
      "include_colab_link": true
    },
    "kernelspec": {
      "name": "python3",
      "display_name": "Python 3"
    },
    "language_info": {
      "name": "python"
    }
  },
  "cells": [
    {
      "cell_type": "markdown",
      "metadata": {
        "id": "view-in-github",
        "colab_type": "text"
      },
      "source": [
        "<a href=\"https://colab.research.google.com/github/YonggunJung/Programmers/blob/main/%EB%AC%B8%EC%9E%90%EC%97%B4_%EA%B3%84%EC%82%B0%ED%95%98%EA%B8%B0.ipynb\" target=\"_parent\"><img src=\"https://colab.research.google.com/assets/colab-badge.svg\" alt=\"Open In Colab\"/></a>"
      ]
    },
    {
      "cell_type": "code",
      "execution_count": 1,
      "metadata": {
        "id": "gmasHBpTfLIj"
      },
      "outputs": [],
      "source": [
        "# 문제 설명\n",
        "# my_string은 \"3 + 5\"처럼 문자열로 된 수식입니다.\n",
        "# 문자열 my_string이 매개변수로 주어질 때,\n",
        "# 수식을 계산한 값을 return 하는 solution 함수를 완성해주세요.\n",
        "\n",
        "# 제한사항\n",
        "# 연산자는 +, -만 존재합니다.\n",
        "# 문자열의 시작과 끝에는 공백이 없습니다.\n",
        "# 0으로 시작하는 숫자는 주어지지 않습니다.\n",
        "# 잘못된 수식은 주어지지 않습니다.\n",
        "# 5 ≤ my_string의 길이 ≤ 100\n",
        "# my_string을 계산한 결과값은 1 이상 100,000 이하입니다.\n",
        "# my_string의 중간 계산 값은 -100,000 이상 100,000 이하입니다.\n",
        "# 계산에 사용하는 숫자는 1 이상 20,000 이하인 자연수입니다.\n",
        "# my_string에는 연산자가 적어도 하나 포함되어 있습니다.\n",
        "# return type 은 정수형입니다.\n",
        "# my_string의 숫자와 연산자는 공백 하나로 구분되어 있습니다.\n",
        "\n",
        "# 입출력 예\n",
        "# my_string\t        result\n",
        "# \"3 + 4\"\t            7\n",
        "\n",
        "# 입출력 예 설명\n",
        "# 입출력 예 #1\n",
        "# 3 + 4 = 7을 return 합니다."
      ]
    },
    {
      "cell_type": "code",
      "source": [
        "# 이런 e발 혼자 생쑈 하다 풀이 봤는데\n",
        "# 역시 배워야 한다\n",
        "# eval() 문자열을 수식으로 내타내준다\n",
        "def solution(my_string):\n",
        "    answer = eval(my_string)\n",
        "    return answer"
      ],
      "metadata": {
        "id": "LTUxYNCGffuT"
      },
      "execution_count": 2,
      "outputs": []
    },
    {
      "cell_type": "code",
      "source": [
        "my_string = \"3 + 4\"\n",
        "solution(my_string)"
      ],
      "metadata": {
        "colab": {
          "base_uri": "https://localhost:8080/"
        },
        "id": "GKhCYSSDfhcE",
        "outputId": "93fd1131-ce6d-412e-af32-8c58a9a772d9"
      },
      "execution_count": 3,
      "outputs": [
        {
          "output_type": "execute_result",
          "data": {
            "text/plain": [
              "7"
            ]
          },
          "metadata": {},
          "execution_count": 3
        }
      ]
    },
    {
      "cell_type": "code",
      "source": [
        "# 다른사람 풀이"
      ],
      "metadata": {
        "id": "3Ctqq0IhgydK"
      },
      "execution_count": 4,
      "outputs": []
    },
    {
      "cell_type": "code",
      "source": [
        "# 신기한 수학적 풀이\n",
        "def solution(my_string):\n",
        "    return sum(int(i) for i in my_string.replace(' - ', ' + -').split(' + '))\n",
        "# 여러가지 길고 긴 수식들이 많지만 이정도가 좋아 보임"
      ],
      "metadata": {
        "id": "mwdIMuYsg0Cs"
      },
      "execution_count": 6,
      "outputs": []
    },
    {
      "cell_type": "code",
      "source": [],
      "metadata": {
        "id": "yT3QsMV0hTWE"
      },
      "execution_count": null,
      "outputs": []
    }
  ]
}