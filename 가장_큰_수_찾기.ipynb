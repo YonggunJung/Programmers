{
  "nbformat": 4,
  "nbformat_minor": 0,
  "metadata": {
    "colab": {
      "provenance": [],
      "authorship_tag": "ABX9TyMfNxSTsTJyNyHWd8Qmopfh",
      "include_colab_link": true
    },
    "kernelspec": {
      "name": "python3",
      "display_name": "Python 3"
    },
    "language_info": {
      "name": "python"
    }
  },
  "cells": [
    {
      "cell_type": "markdown",
      "metadata": {
        "id": "view-in-github",
        "colab_type": "text"
      },
      "source": [
        "<a href=\"https://colab.research.google.com/github/YonggunJung/Programmers/blob/main/%EA%B0%80%EC%9E%A5_%ED%81%B0_%EC%88%98_%EC%B0%BE%EA%B8%B0.ipynb\" target=\"_parent\"><img src=\"https://colab.research.google.com/assets/colab-badge.svg\" alt=\"Open In Colab\"/></a>"
      ]
    },
    {
      "cell_type": "code",
      "execution_count": 1,
      "metadata": {
        "id": "XFhNfLauS1RV"
      },
      "outputs": [],
      "source": [
        "# 문제 설명\n",
        "# 정수 배열 array가 매개변수로 주어질 때, 가장 큰 수와 그 수의 인덱스를 담은 배열을\n",
        "# return 하도록 solution 함수를 완성해보세요.\n",
        "\n",
        "# 제한사항\n",
        "# 1 ≤ array의 길이 ≤ 100\n",
        "# 0 ≤ array 원소 ≤ 1,000\n",
        "# array에 중복된 숫자는 없습니다.\n",
        "\n",
        "# 입출력 예\n",
        "# array\t            result\n",
        "# [1, 8, 3]\t        [8, 1]\n",
        "# [9, 10, 11, 8]\t  [11, 2]\n",
        "\n",
        "# 입출력 예 설명\n",
        "# 입출력 예 #1\n",
        "# 1, 8, 3 중 가장 큰 수는 8이고 인덱스 1에 있습니다.\n",
        "\n",
        "# 입출력 예 #2\n",
        "# 9, 10, 11, 8 중 가장 큰 수는 11이고 인덱스 2에 있습니다."
      ]
    },
    {
      "cell_type": "code",
      "source": [
        "def solution(array):\n",
        "    answer = []\n",
        "    answer.append(max(array))\n",
        "    answer.append(array.index(max(array)))\n",
        "    return answer"
      ],
      "metadata": {
        "id": "LJrg5rj7S9LC"
      },
      "execution_count": 14,
      "outputs": []
    },
    {
      "cell_type": "code",
      "source": [
        "array = [1, 8, 3]\n",
        "solution(array)"
      ],
      "metadata": {
        "colab": {
          "base_uri": "https://localhost:8080/"
        },
        "id": "8ap-MqXES-fU",
        "outputId": "2403abf3-234e-4d83-e3dc-65a31ef2a54d"
      },
      "execution_count": 15,
      "outputs": [
        {
          "output_type": "execute_result",
          "data": {
            "text/plain": [
              "[8, 1]"
            ]
          },
          "metadata": {},
          "execution_count": 15
        }
      ]
    },
    {
      "cell_type": "code",
      "source": [
        "array = [9, 10, 11, 8]\n",
        "solution(array)"
      ],
      "metadata": {
        "colab": {
          "base_uri": "https://localhost:8080/"
        },
        "id": "XbayblS7TC2b",
        "outputId": "f5802a37-b8bf-4fcb-88b1-9a76d86b36ac"
      },
      "execution_count": 16,
      "outputs": [
        {
          "output_type": "execute_result",
          "data": {
            "text/plain": [
              "[11, 2]"
            ]
          },
          "metadata": {},
          "execution_count": 16
        }
      ]
    },
    {
      "cell_type": "code",
      "source": [
        "# 다른 사람 풀이"
      ],
      "metadata": {
        "id": "BgmXmRGzT6tz"
      },
      "execution_count": 17,
      "outputs": []
    },
    {
      "cell_type": "code",
      "source": [
        "# 나랑 같은거\n",
        "def solution(array):\n",
        "    return [max(array), array.index(max(array))]"
      ],
      "metadata": {
        "id": "yCPh_M0hUgCb"
      },
      "execution_count": 18,
      "outputs": []
    },
    {
      "cell_type": "code",
      "source": [
        "# 변수 창출\n",
        "def solution(array):\n",
        "    val = max(array)\n",
        "    return [val, array.index(val)]"
      ],
      "metadata": {
        "id": "uXadiQreUlf4"
      },
      "execution_count": 19,
      "outputs": []
    },
    {
      "cell_type": "code",
      "source": [
        "# 신기하게\n",
        "def solution(array):\n",
        "    return sorted([[a, i] for i, a in enumerate(array)])[::-1][0]"
      ],
      "metadata": {
        "id": "gkH0j1sCUtaI"
      },
      "execution_count": 20,
      "outputs": []
    },
    {
      "cell_type": "code",
      "source": [
        "# 많은 방식들이 있음\n",
        "def solution(array):\n",
        "    answer = [0, 0]\n",
        "    num = array[0]\n",
        "    for i in range(len(array)):\n",
        "        if num < array[i]:\n",
        "            num = array[i]\n",
        "            answer[0] = num\n",
        "            answer[1] = i\n",
        "    return answer"
      ],
      "metadata": {
        "id": "gGRtjk8hUws5"
      },
      "execution_count": 21,
      "outputs": []
    },
    {
      "cell_type": "code",
      "source": [],
      "metadata": {
        "id": "VKwOIY0LUzUw"
      },
      "execution_count": null,
      "outputs": []
    }
  ]
}