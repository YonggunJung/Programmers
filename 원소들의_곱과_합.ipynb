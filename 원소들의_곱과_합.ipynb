{
  "nbformat": 4,
  "nbformat_minor": 0,
  "metadata": {
    "colab": {
      "provenance": [],
      "authorship_tag": "ABX9TyPLKsI6zOMa68qYeDIZN2GX",
      "include_colab_link": true
    },
    "kernelspec": {
      "name": "python3",
      "display_name": "Python 3"
    },
    "language_info": {
      "name": "python"
    }
  },
  "cells": [
    {
      "cell_type": "markdown",
      "metadata": {
        "id": "view-in-github",
        "colab_type": "text"
      },
      "source": [
        "<a href=\"https://colab.research.google.com/github/YonggunJung/Programmers/blob/main/%EC%9B%90%EC%86%8C%EB%93%A4%EC%9D%98_%EA%B3%B1%EA%B3%BC_%ED%95%A9.ipynb\" target=\"_parent\"><img src=\"https://colab.research.google.com/assets/colab-badge.svg\" alt=\"Open In Colab\"/></a>"
      ]
    },
    {
      "cell_type": "code",
      "execution_count": 1,
      "metadata": {
        "id": "NYaUmxf9l52y"
      },
      "outputs": [],
      "source": [
        "# 문제 설명\n",
        "# 정수가 담긴 리스트 num_list가 주어질 때,\n",
        "# 모든 원소들의 곱이 모든 원소들의 합의 제곱보다 작으면 1을 크면 0을\n",
        "# return하도록 solution 함수를 완성해주세요.\n",
        "\n",
        "# 제한사항\n",
        "# 2 ≤ num_list의 길이 ≤ 10\n",
        "# 1 ≤ num_list의 원소 ≤ 9\n",
        "\n",
        "# 입출력 예\n",
        "# num_list\t            result\n",
        "# [3, 4, 5, 2, 1]\t        1\n",
        "# [5, 7, 8, 3]\t          0\n",
        "\n",
        "# 입출력 예 설명\n",
        "# 입출력 예 #1\n",
        "# 모든 원소의 곱은 120, 합의 제곱은 225이므로 1을 return합니다.\n",
        "\n",
        "# 입출력 예 #2\n",
        "# 모든 원소의 곱은 840, 합의 제곱은 529이므로 0을 return합니다."
      ]
    },
    {
      "cell_type": "code",
      "source": [
        "def solution(num_list):\n",
        "    answer = 0\n",
        "    a = 1\n",
        "    for i in num_list:\n",
        "      a *= i\n",
        "    if a < sum(num_list) ** 2:\n",
        "      answer = 1\n",
        "    elif a > sum(num_list) ** 2:\n",
        "      answer = 0\n",
        "    return answer"
      ],
      "metadata": {
        "id": "NJnF3QvKmK-O"
      },
      "execution_count": 5,
      "outputs": []
    },
    {
      "cell_type": "code",
      "source": [
        "num_list = [3, 4, 5, 2, 1]\n",
        "solution(num_list)"
      ],
      "metadata": {
        "colab": {
          "base_uri": "https://localhost:8080/"
        },
        "id": "V_D7OpmdmMV0",
        "outputId": "fe06a180-4719-4acf-8975-4c63d698b78c"
      },
      "execution_count": 6,
      "outputs": [
        {
          "output_type": "execute_result",
          "data": {
            "text/plain": [
              "1"
            ]
          },
          "metadata": {},
          "execution_count": 6
        }
      ]
    },
    {
      "cell_type": "code",
      "source": [
        "num_list = [5, 7, 8, 3]\n",
        "solution(num_list)"
      ],
      "metadata": {
        "colab": {
          "base_uri": "https://localhost:8080/"
        },
        "id": "bQf10Zo_mPFu",
        "outputId": "a97852d1-c2ab-4e48-9412-2480117e8ad6"
      },
      "execution_count": 7,
      "outputs": [
        {
          "output_type": "execute_result",
          "data": {
            "text/plain": [
              "0"
            ]
          },
          "metadata": {},
          "execution_count": 7
        }
      ]
    },
    {
      "cell_type": "code",
      "source": [
        "# 다른 사람 풀이"
      ],
      "metadata": {
        "id": "JVZPlr7WmPDo"
      },
      "execution_count": 8,
      "outputs": []
    },
    {
      "cell_type": "code",
      "source": [
        "def solution(num_list):\n",
        "    s=sum(num_list)**2\n",
        "    m=eval('*'.join([str(n) for n in num_list]))\n",
        "    return 1 if s>m else 0"
      ],
      "metadata": {
        "id": "awbR3kRXn37t"
      },
      "execution_count": 9,
      "outputs": []
    },
    {
      "cell_type": "code",
      "source": [
        "def solution(num_list):\n",
        "    a=1\n",
        "    b=0\n",
        "    for x in num_list:\n",
        "        a*=x\n",
        "        b+=x\n",
        "    if a<b*b: return 1\n",
        "    return 0"
      ],
      "metadata": {
        "id": "g4vCTQiUn5dE"
      },
      "execution_count": null,
      "outputs": []
    }
  ]
}