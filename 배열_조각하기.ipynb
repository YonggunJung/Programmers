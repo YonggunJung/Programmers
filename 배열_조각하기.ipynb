{
  "nbformat": 4,
  "nbformat_minor": 0,
  "metadata": {
    "colab": {
      "provenance": [],
      "authorship_tag": "ABX9TyNMaL79Zhh7u9HhI5emATZj",
      "include_colab_link": true
    },
    "kernelspec": {
      "name": "python3",
      "display_name": "Python 3"
    },
    "language_info": {
      "name": "python"
    }
  },
  "cells": [
    {
      "cell_type": "markdown",
      "metadata": {
        "id": "view-in-github",
        "colab_type": "text"
      },
      "source": [
        "<a href=\"https://colab.research.google.com/github/YonggunJung/Programmers/blob/main/%EB%B0%B0%EC%97%B4_%EC%A1%B0%EA%B0%81%ED%95%98%EA%B8%B0.ipynb\" target=\"_parent\"><img src=\"https://colab.research.google.com/assets/colab-badge.svg\" alt=\"Open In Colab\"/></a>"
      ]
    },
    {
      "cell_type": "code",
      "execution_count": 1,
      "metadata": {
        "id": "TN2n4y_PqcMc"
      },
      "outputs": [],
      "source": [
        "# 문제 설명\n",
        "# 정수 배열 arr와 query가 주어집니다.\n",
        "\n",
        "# query를 순회하면서 다음 작업을 반복합니다.\n",
        "\n",
        "# 짝수 인덱스에서는 arr에서 query[i]번 인덱스를 제외하고\n",
        "# 배열의 query[i]번 인덱스 뒷부분을 잘라서 버립니다.\n",
        "# 홀수 인덱스에서는 arr에서 query[i]번 인덱스는 제외하고\n",
        "# 배열의 query[i]번 인덱스 앞부분을 잘라서 버립니다.\n",
        "# 위 작업을 마친 후 남은 arr의 부분 배열을 return 하는 solution 함수를 완성해 주세요.\n",
        "\n",
        "# 제한사항\n",
        "# 5 ≤ arr의 길이 ≤ 100,000\n",
        "# 0 ≤ arr의 원소 ≤ 100\n",
        "# 1 ≤ query의 길이 < min(50, arr의 길이 / 2)\n",
        "# query의 각 원소는 0보다 크거나 같고 남아있는 arr의 길이 보다 작습니다.\n",
        "\n",
        "# 입출력 예\n",
        "# arr\t                  query         \tresult\n",
        "# [0, 1, 2, 3, 4, 5]\t  [4, 1, 2]\t      [1, 2, 3]\n",
        "\n",
        "# 입출력 예 설명\n",
        "# 입출력 예 #1\n",
        "# 이번에 매번 처리할 query의 값과 처리 전후의 arr의 상태를 표로 나타내면 다음과 같습니다.\n",
        "# query의값\t    query처리 전\t             query 처리 후\t비고\n",
        "# 4\t            [0, 1, 2, 3, 4, 5]\t       [0, 1, 2, 3, 4]\t0번 인덱스의 쿼리이므로 뒷부분을 자른다.\n",
        "# 1\t            [0, 1, 2, 3, 4]\t           [1, 2, 3, 4]\t1번 인덱스의 쿼리이므로 앞부분을 자른다.\n",
        "# 2\t            [1, 2, 3, 4]\t             [1, 2, 3]\t2번 인덱스의 쿼리이므로 뒷부분을 자른다.\n",
        "# 따라서 [1, 2, 3]을 return 합니다."
      ]
    },
    {
      "cell_type": "code",
      "source": [
        "# 함정 오졌네 쿼리의 값이 아닌 쿼리의 인덱스를 말하는 거였음\n",
        "# query[i]니까 와우 쿼리의 인덱스 값임\n",
        "# 문제 예시를 최소한 3개는 내주지 너무함\n",
        "def solution(arr, query):\n",
        "    answer = []\n",
        "    for idx, i in enumerate(query):\n",
        "      if idx % 2 == 0:\n",
        "        arr = arr[:i+1]\n",
        "      else:\n",
        "        arr = arr[i:]\n",
        "      answer = arr\n",
        "    return answer"
      ],
      "metadata": {
        "id": "fbQAui-4qxFF"
      },
      "execution_count": 7,
      "outputs": []
    },
    {
      "cell_type": "code",
      "source": [
        "arr = [0, 1, 2, 3, 4, 5]\n",
        "query = [4, 1, 2]\n",
        "solution(arr, query)"
      ],
      "metadata": {
        "colab": {
          "base_uri": "https://localhost:8080/"
        },
        "id": "sQY4Ef5Xqys7",
        "outputId": "94e10bca-c329-4fdf-ceb3-dc04e1fd8429"
      },
      "execution_count": 8,
      "outputs": [
        {
          "output_type": "execute_result",
          "data": {
            "text/plain": [
              "[1, 2, 3]"
            ]
          },
          "metadata": {},
          "execution_count": 8
        }
      ]
    },
    {
      "cell_type": "code",
      "source": [
        "# 다른 사람 풀이"
      ],
      "metadata": {
        "id": "UBWASTYNq4VA"
      },
      "execution_count": 9,
      "outputs": []
    },
    {
      "cell_type": "code",
      "source": [
        "# 내가 푼제 젤 쉽고 좋아 보임"
      ],
      "metadata": {
        "id": "o117_svGtwsE"
      },
      "execution_count": null,
      "outputs": []
    }
  ]
}