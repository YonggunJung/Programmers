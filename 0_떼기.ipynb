{
  "nbformat": 4,
  "nbformat_minor": 0,
  "metadata": {
    "colab": {
      "provenance": [],
      "authorship_tag": "ABX9TyOCer6qHxjhwxnEyvSFYIm6",
      "include_colab_link": true
    },
    "kernelspec": {
      "name": "python3",
      "display_name": "Python 3"
    },
    "language_info": {
      "name": "python"
    }
  },
  "cells": [
    {
      "cell_type": "markdown",
      "metadata": {
        "id": "view-in-github",
        "colab_type": "text"
      },
      "source": [
        "<a href=\"https://colab.research.google.com/github/YonggunJung/Programmers/blob/main/0_%EB%96%BC%EA%B8%B0.ipynb\" target=\"_parent\"><img src=\"https://colab.research.google.com/assets/colab-badge.svg\" alt=\"Open In Colab\"/></a>"
      ]
    },
    {
      "cell_type": "code",
      "execution_count": 1,
      "metadata": {
        "id": "Wv8hOkjt3vSh"
      },
      "outputs": [],
      "source": [
        "# 문제 설명\n",
        "# 정수로 이루어진 문자열 n_str이 주어질 때,\n",
        "# n_str의 가장 왼쪽에 처음으로 등장하는 0들을 뗀 문자열을\n",
        "# return하도록 solution 함수를 완성해주세요.\n",
        "\n",
        "# 제한사항\n",
        "# 2 ≤ n_str ≤ 10\n",
        "# n_str이 \"0\"으로만 이루어진 경우는 없습니다.\n",
        "\n",
        "# 입출력 예\n",
        "# n_str\t            result\n",
        "# \"0010\"\t          \"10\"\n",
        "# \"854020\"\t        \"854020\"\n",
        "\n",
        "# 입출력 예 설명\n",
        "# 입출력 예 #1\n",
        "# \"0010\"의 가장 왼쪽에 연속으로 등장하는 \"0\"을 모두 제거하면 \"10\"이 됩니다.\n",
        "\n",
        "# 입출력 예 #2\n",
        "# \"854020\"는 가장 왼쪽에 0이 없으므로 \"854020\"을 return합니다."
      ]
    },
    {
      "cell_type": "code",
      "source": [
        "def solution(n_str):\n",
        "    num = int(n_str)\n",
        "    answer = str(num)\n",
        "\n",
        "    return answer"
      ],
      "metadata": {
        "id": "BeKKsah134Jg"
      },
      "execution_count": 6,
      "outputs": []
    },
    {
      "cell_type": "code",
      "source": [
        "n_str = \"0010\"\n",
        "solution(n_str)"
      ],
      "metadata": {
        "colab": {
          "base_uri": "https://localhost:8080/",
          "height": 35
        },
        "id": "y7hA25Ps36Ou",
        "outputId": "b0e764d6-a404-483b-f9f6-9a995bcb764b"
      },
      "execution_count": 7,
      "outputs": [
        {
          "output_type": "execute_result",
          "data": {
            "text/plain": [
              "'10'"
            ],
            "application/vnd.google.colaboratory.intrinsic+json": {
              "type": "string"
            }
          },
          "metadata": {},
          "execution_count": 7
        }
      ]
    },
    {
      "cell_type": "code",
      "source": [
        "n_str = \"854020\"\n",
        "solution(n_str)"
      ],
      "metadata": {
        "colab": {
          "base_uri": "https://localhost:8080/",
          "height": 35
        },
        "id": "0hSs1x_x38LU",
        "outputId": "32a267b1-c5d1-4991-cb3e-2dd5ce28ccf4"
      },
      "execution_count": 8,
      "outputs": [
        {
          "output_type": "execute_result",
          "data": {
            "text/plain": [
              "'854020'"
            ],
            "application/vnd.google.colaboratory.intrinsic+json": {
              "type": "string"
            }
          },
          "metadata": {},
          "execution_count": 8
        }
      ]
    },
    {
      "cell_type": "code",
      "source": [
        "# 다른 사람 풀이"
      ],
      "metadata": {
        "id": "7pICt8E438IW"
      },
      "execution_count": 9,
      "outputs": []
    },
    {
      "cell_type": "code",
      "source": [
        "def solution(n_str):\n",
        "    return n_str.lstrip('0')"
      ],
      "metadata": {
        "id": "QyNiVzHC4kS6"
      },
      "execution_count": 10,
      "outputs": []
    },
    {
      "cell_type": "code",
      "source": [
        "def solution(n_str):\n",
        "    return str(int(n_str))"
      ],
      "metadata": {
        "id": "bGS9TNW14s5S"
      },
      "execution_count": 11,
      "outputs": []
    },
    {
      "cell_type": "code",
      "source": [],
      "metadata": {
        "id": "Zoo85bZZ4tcn"
      },
      "execution_count": null,
      "outputs": []
    }
  ]
}