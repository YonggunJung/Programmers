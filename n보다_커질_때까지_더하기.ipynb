{
  "nbformat": 4,
  "nbformat_minor": 0,
  "metadata": {
    "colab": {
      "provenance": [],
      "authorship_tag": "ABX9TyNOPV72mByJRpN0swzaq1Jx",
      "include_colab_link": true
    },
    "kernelspec": {
      "name": "python3",
      "display_name": "Python 3"
    },
    "language_info": {
      "name": "python"
    }
  },
  "cells": [
    {
      "cell_type": "markdown",
      "metadata": {
        "id": "view-in-github",
        "colab_type": "text"
      },
      "source": [
        "<a href=\"https://colab.research.google.com/github/YonggunJung/Programmers/blob/main/n%EB%B3%B4%EB%8B%A4_%EC%BB%A4%EC%A7%88_%EB%95%8C%EA%B9%8C%EC%A7%80_%EB%8D%94%ED%95%98%EA%B8%B0.ipynb\" target=\"_parent\"><img src=\"https://colab.research.google.com/assets/colab-badge.svg\" alt=\"Open In Colab\"/></a>"
      ]
    },
    {
      "cell_type": "code",
      "execution_count": 1,
      "metadata": {
        "id": "_bp56gcK0uZT"
      },
      "outputs": [],
      "source": [
        "# 문제 설명\n",
        "# 정수 배열 numbers와 정수 n이 매개변수로 주어집니다.\n",
        "# numbers의 원소를 앞에서부터 하나씩 더하다가 그 합이 n보다 커지는 순간\n",
        "# 이때까지 더했던 원소들의 합을 return 하는 solution 함수를 작성해 주세요.\n",
        "\n",
        "# 제한사항\n",
        "# 1 ≤ numbers의 길이 ≤ 100\n",
        "# 1 ≤ numbers의 원소 ≤ 100\n",
        "# 0 ≤ n < numbers의 모든 원소의 합\n",
        "# 입출력 예\n",
        "\n",
        "# numbers                       \tn\t         result\n",
        "# [34, 5, 71, 29, 100, 34]\t      123\t        139\n",
        "# [58, 44, 27, 10, 100]\t          139\t        239\n",
        "\n",
        "# 입출력 예 설명\n",
        "# 입출력 예 #1\n",
        "# 예제 1번의 numbers를 문제 설명대로 더해가는 과정을 나타내면 다음의 표와 같습니다.\n",
        "\n",
        "# i\t      numbers[i]\t      sum\n",
        "#                             0\n",
        "# 0\t          34\t           34\n",
        "# 1         \t 5\t           39\n",
        "# 2\t          71\t          110\n",
        "# 3\t          29\t          139\n",
        "\n",
        "# 29를 더한 뒤에 sum 값은 139이고 n 값인 123보다 크므로 139를 return 합니다.\n",
        "\n",
        "# 예제 2번의 numbers의 마지막 원소 전까지의 원소를 sum에 더하면 139입니다.\n",
        "# 139는 n 값인 139보다 크지 않고 마지막 원소인 100을 더하면 139보다 커지므로\n",
        "# 239를 return 합니다."
      ]
    },
    {
      "cell_type": "code",
      "source": [
        "def solution(numbers, n):\n",
        "    answer = 0\n",
        "    for num in numbers:\n",
        "      answer += num\n",
        "      if answer > n:\n",
        "        break\n",
        "    return answer"
      ],
      "metadata": {
        "id": "omotePJm1RQE"
      },
      "execution_count": 4,
      "outputs": []
    },
    {
      "cell_type": "code",
      "source": [
        "numbers = [34, 5, 71, 29, 100, 34]\n",
        "n = 123\n",
        "solution(numbers, n)"
      ],
      "metadata": {
        "colab": {
          "base_uri": "https://localhost:8080/"
        },
        "id": "uT_9-6_z1T77",
        "outputId": "b9e5693d-9950-444e-98f6-edc8945c5d32"
      },
      "execution_count": 5,
      "outputs": [
        {
          "output_type": "execute_result",
          "data": {
            "text/plain": [
              "139"
            ]
          },
          "metadata": {},
          "execution_count": 5
        }
      ]
    },
    {
      "cell_type": "code",
      "source": [
        "numbers = [58, 44, 27, 10, 100]\n",
        "n = 139\n",
        "solution(numbers, n)"
      ],
      "metadata": {
        "colab": {
          "base_uri": "https://localhost:8080/"
        },
        "id": "v_J9CRsG1YNn",
        "outputId": "bcc343f6-416b-4ff6-d80c-be5dee255be4"
      },
      "execution_count": 10,
      "outputs": [
        {
          "output_type": "execute_result",
          "data": {
            "text/plain": [
              "239"
            ]
          },
          "metadata": {},
          "execution_count": 10
        }
      ]
    },
    {
      "cell_type": "code",
      "source": [
        "# 다른 사람 풀이"
      ],
      "metadata": {
        "id": "QZIBFVZn1Yhf"
      },
      "execution_count": 7,
      "outputs": []
    },
    {
      "cell_type": "code",
      "source": [
        "#  한줄 코드인데 next()함수 까지\n",
        "#  새로운거 좋아\n",
        "def solution(numbers, n):\n",
        "    return next(sum(numbers[:i + 1]) for i in range(len(numbers)) if sum(numbers[:i + 1]) > n)"
      ],
      "metadata": {
        "id": "Kd7CXl_V2dTm"
      },
      "execution_count": 8,
      "outputs": []
    },
    {
      "cell_type": "code",
      "source": [],
      "metadata": {
        "id": "t--ArrTv2riM"
      },
      "execution_count": null,
      "outputs": []
    }
  ]
}