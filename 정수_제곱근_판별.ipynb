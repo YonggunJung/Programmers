{
  "nbformat": 4,
  "nbformat_minor": 0,
  "metadata": {
    "colab": {
      "provenance": [],
      "authorship_tag": "ABX9TyNWmlM2ISrwZUEcbPQrtI9/",
      "include_colab_link": true
    },
    "kernelspec": {
      "name": "python3",
      "display_name": "Python 3"
    },
    "language_info": {
      "name": "python"
    }
  },
  "cells": [
    {
      "cell_type": "markdown",
      "metadata": {
        "id": "view-in-github",
        "colab_type": "text"
      },
      "source": [
        "<a href=\"https://colab.research.google.com/github/YonggunJung/Programmers/blob/main/%EC%A0%95%EC%88%98_%EC%A0%9C%EA%B3%B1%EA%B7%BC_%ED%8C%90%EB%B3%84.ipynb\" target=\"_parent\"><img src=\"https://colab.research.google.com/assets/colab-badge.svg\" alt=\"Open In Colab\"/></a>"
      ]
    },
    {
      "cell_type": "code",
      "execution_count": 1,
      "metadata": {
        "id": "pDuQM9mZ_7OW"
      },
      "outputs": [],
      "source": [
        "# 문제 설명\n",
        "# 임의의 양의 정수 n에 대해,\n",
        "# n이 어떤 양의 정수 x의 제곱인지 아닌지 판단하려 합니다.\n",
        "# n이 양의 정수 x의 제곱이라면 x+1의 제곱을 리턴하고,\n",
        "# n이 양의 정수 x의 제곱이 아니라면 -1을 리턴하는 함수를 완성하세요.\n",
        "\n",
        "# 제한 사항\n",
        "# n은 1이상, 50000000000000 이하인 양의 정수입니다.\n",
        "\n",
        "# 입출력 예\n",
        "# n\t          return\n",
        "# 121\t        144\n",
        "# 3\t          -1\n",
        "\n",
        "# 입출력 예 설명\n",
        "# 입출력 예#1\n",
        "# 121은 양의 정수 11의 제곱이므로, (11+1)를 제곱한 144를 리턴합니다.\n",
        "\n",
        "# 입출력 예#2\n",
        "# 3은 양의 정수의 제곱이 아니므로, -1을 리턴합니다."
      ]
    },
    {
      "cell_type": "code",
      "source": [
        "import math\n",
        "\n",
        "def solution(n):\n",
        "    answer = 0\n",
        "    if math.sqrt(n) % 1 != 0:\n",
        "      answer = -1\n",
        "    else:\n",
        "      answer = (math.sqrt(n) + 1) **2\n",
        "    return answer"
      ],
      "metadata": {
        "id": "fVkd3mH-B9N_"
      },
      "execution_count": 2,
      "outputs": []
    },
    {
      "cell_type": "code",
      "source": [
        "# 다른 사람 풀이\n",
        "# 0.5 곱하면 되는걸 깜빡했군\n",
        "def nextSqure(n):\n",
        "    sqrt = n ** (1/2)\n",
        "\n",
        "    if sqrt % 1 == 0:\n",
        "        return (sqrt + 1) ** 2\n",
        "    return 'no'"
      ],
      "metadata": {
        "id": "5OotslzyChL5"
      },
      "execution_count": null,
      "outputs": []
    }
  ]
}