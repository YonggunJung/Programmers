{
  "nbformat": 4,
  "nbformat_minor": 0,
  "metadata": {
    "colab": {
      "provenance": [],
      "authorship_tag": "ABX9TyPo7CWS5n34807N9QBAZ+kY",
      "include_colab_link": true
    },
    "kernelspec": {
      "name": "python3",
      "display_name": "Python 3"
    },
    "language_info": {
      "name": "python"
    }
  },
  "cells": [
    {
      "cell_type": "markdown",
      "metadata": {
        "id": "view-in-github",
        "colab_type": "text"
      },
      "source": [
        "<a href=\"https://colab.research.google.com/github/YonggunJung/Programmers/blob/main/%ED%8A%B9%EB%B3%84%ED%95%9C_%EC%9D%B4%EC%B0%A8%EC%9B%90_%EB%B0%B0%EC%97%B4_1.ipynb\" target=\"_parent\"><img src=\"https://colab.research.google.com/assets/colab-badge.svg\" alt=\"Open In Colab\"/></a>"
      ]
    },
    {
      "cell_type": "code",
      "execution_count": 5,
      "metadata": {
        "id": "Nr07BUfVSmTF"
      },
      "outputs": [],
      "source": [
        "# 문제 설명\n",
        "# 정수 n이 매개변수로 주어질 때,\n",
        "# 다음과 같은 n × n 크기의 이차원 배열 arr를\n",
        "# return 하는 solution 함수를 작성해 주세요.\n",
        "\n",
        "# arr[i][j] (0 ≤ i, j < n)의 값은 i = j라면 1, 아니라면 0입니다.\n",
        "# 제한사항\n",
        "# 1 ≤ n ≤ 100\n",
        "\n",
        "# 입출력 예\n",
        "# n\t      result\n",
        "# 3\t      [[1, 0, 0], [0, 1, 0], [0, 0, 1]]\n",
        "# 6\t      [[1, 0, 0, 0, 0, 0], [0, 1, 0, 0, 0, 0], [0, 0, 1, 0, 0, 0], [0, 0, 0, 1, 0, 0], [0, 0, 0, 0, 1, 0], [0, 0, 0, 0, 0, 1]]\n",
        "# 1\t      [[1]]\n",
        "\n",
        "# 입출력 예 설명\n",
        "# 입출력 예 #1\n",
        "# 예제 1번의 n의 값은 3으로 다음과 같이 2차원 배열을 채울 수 있습니다.\n",
        "\n",
        "# i\\j\t  0   \t1   \t2\n",
        "#  0\t  1\t    0\t    0\n",
        "#  1\t  0   \t1   \t0\n",
        "#  2\t  0   \t0   \t1\n",
        "# 따라서 [[1, 0, 0], [0, 1, 0], [0, 0, 1]]을 return 합니다.\n",
        "\n",
        "# 입출력 예 #2\n",
        "# 예제 2번의 n의 값은 6으로 다음과 같이 2차원 배열을 채울 수 있습니다.\n",
        "\n",
        "# i\\j\t    0\t    1   \t2   \t3   \t4   \t5\n",
        "#  0\t    1\t    0\t    0\t    0\t    0   \t0\n",
        "#  1\t    0\t    1\t    0\t    0\t    0\t    0\n",
        "#  2\t    0\t    0\t    1\t    0\t    0\t    0\n",
        "#  3\t    0\t    0\t    0\t    1\t    0\t    0\n",
        "#  4\t    0\t    0\t    0\t    0\t    1\t    0\n",
        "#  5\t    0\t    0\t    0\t    0\t    0\t    1\n",
        "# 따라서 [[1, 0, 0, 0, 0, 0], [0, 1, 0, 0, 0, 0], [0, 0, 1, 0, 0, 0], [0, 0, 0, 1, 0, 0], [0, 0, 0, 0, 1, 0], [0, 0, 0, 0, 0, 1]]을 return 합니다.\n",
        "\n",
        "# 입출력 예 #3\n",
        "# 예제 1번의 n의 값은 1이고 다음과 같이 2차원 배열을 채울 수 있습니다.\n",
        "\n",
        "# i\\j\t    0\n",
        "#  0\t    1\n",
        "# 따라서 [[1]]을 return 합니다."
      ]
    },
    {
      "cell_type": "code",
      "source": [
        "# 도저히 모르겠음 풀이 봄\n",
        "# 얕은 복사라서 안된다고 하네. [[0]*n]*n 이 방법 자체가 틀린거라함 ㅠㅠ\n",
        "# import copy\n",
        "# def solution(n):\n",
        "#     a = [[0]*n]*n\n",
        "#     answer = copy.deepcopy(a)\n",
        "#     while n >= 0:\n",
        "#       n -= 1\n",
        "#       answer[n][n] = 1\n",
        "\n",
        "#     return answer"
      ],
      "metadata": {
        "id": "wW89K18qTd4g"
      },
      "execution_count": 142,
      "outputs": []
    },
    {
      "cell_type": "code",
      "source": [
        "# 이렇게 하니까 바로 나옴\n",
        "# 이번 문제 진짜 많이 배움\n",
        "# 새로운 영역 새로운 생각\n",
        "def solution(n):\n",
        "    answer = [[0 for i in range(n)] for j in range(n)]\n",
        "    for i in range(n):\n",
        "      answer[i][i] = 1\n",
        "\n",
        "    return answer"
      ],
      "metadata": {
        "id": "x3vbou28l2K9"
      },
      "execution_count": 148,
      "outputs": []
    },
    {
      "cell_type": "code",
      "source": [
        "n = 3\n",
        "solution(n)"
      ],
      "metadata": {
        "colab": {
          "base_uri": "https://localhost:8080/"
        },
        "id": "SOMSGOupTgo0",
        "outputId": "f9e13205-ca45-4d93-bc17-3fe3b5b2ed4f"
      },
      "execution_count": 149,
      "outputs": [
        {
          "output_type": "execute_result",
          "data": {
            "text/plain": [
              "[[1, 0, 0], [0, 1, 0], [0, 0, 1]]"
            ]
          },
          "metadata": {},
          "execution_count": 149
        }
      ]
    },
    {
      "cell_type": "code",
      "source": [
        "n = 6\n",
        "solution(n)"
      ],
      "metadata": {
        "colab": {
          "base_uri": "https://localhost:8080/"
        },
        "id": "LFbxT0kITimk",
        "outputId": "bf0abeb4-83c7-4f6e-fa53-5962d287ce4d"
      },
      "execution_count": 150,
      "outputs": [
        {
          "output_type": "execute_result",
          "data": {
            "text/plain": [
              "[[1, 0, 0, 0, 0, 0],\n",
              " [0, 1, 0, 0, 0, 0],\n",
              " [0, 0, 1, 0, 0, 0],\n",
              " [0, 0, 0, 1, 0, 0],\n",
              " [0, 0, 0, 0, 1, 0],\n",
              " [0, 0, 0, 0, 0, 1]]"
            ]
          },
          "metadata": {},
          "execution_count": 150
        }
      ]
    },
    {
      "cell_type": "code",
      "source": [
        "n = 1\n",
        "solution(n)"
      ],
      "metadata": {
        "colab": {
          "base_uri": "https://localhost:8080/"
        },
        "id": "H9XVMfkeTii8",
        "outputId": "f955687f-04f8-4f84-bfd4-64f7e75c2131"
      },
      "execution_count": 151,
      "outputs": [
        {
          "output_type": "execute_result",
          "data": {
            "text/plain": [
              "[[1]]"
            ]
          },
          "metadata": {},
          "execution_count": 151
        }
      ]
    },
    {
      "cell_type": "code",
      "source": [
        "# 다른 사람 풀이"
      ],
      "metadata": {
        "id": "oQDVhq0HTigK"
      },
      "execution_count": 3,
      "outputs": []
    },
    {
      "cell_type": "code",
      "source": [
        "def solution(n):\n",
        "    answer=[[0]*n for i in range(n)]\n",
        "    for i in range(n): answer[i][i]=1\n",
        "    return answer"
      ],
      "metadata": {
        "id": "R_0oiAh-Tmfe"
      },
      "execution_count": 152,
      "outputs": []
    },
    {
      "cell_type": "code",
      "source": [
        "import numpy as np\n",
        "\n",
        "def solution(n):\n",
        "    return np.eye(n).tolist()"
      ],
      "metadata": {
        "id": "blX5bFyDmSMH"
      },
      "execution_count": 153,
      "outputs": []
    },
    {
      "cell_type": "code",
      "source": [
        "def solution(n):\n",
        "    answer = [[0]*n for _ in range(n)]\n",
        "    for i in range(n):\n",
        "        for j in range(n):\n",
        "            if i==j:\n",
        "                answer[i][j] += 1\n",
        "                break\n",
        "    return answer"
      ],
      "metadata": {
        "id": "ZKjHCL1_mYRG"
      },
      "execution_count": 154,
      "outputs": []
    },
    {
      "cell_type": "code",
      "source": [
        "def solution(n):\n",
        "    result = []\n",
        "    for i in range(n):\n",
        "        arr = [0] * n\n",
        "        arr[i] = 1\n",
        "        result.append(arr)\n",
        "    return result"
      ],
      "metadata": {
        "id": "jJV8SwNtmfFn"
      },
      "execution_count": 155,
      "outputs": []
    },
    {
      "cell_type": "code",
      "source": [],
      "metadata": {
        "id": "V7-sLL-4mzAu"
      },
      "execution_count": null,
      "outputs": []
    }
  ]
}