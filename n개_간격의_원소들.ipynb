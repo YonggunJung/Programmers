{
  "nbformat": 4,
  "nbformat_minor": 0,
  "metadata": {
    "colab": {
      "provenance": [],
      "authorship_tag": "ABX9TyNNjMfMbYAzBX1IqCZS/49p",
      "include_colab_link": true
    },
    "kernelspec": {
      "name": "python3",
      "display_name": "Python 3"
    },
    "language_info": {
      "name": "python"
    }
  },
  "cells": [
    {
      "cell_type": "markdown",
      "metadata": {
        "id": "view-in-github",
        "colab_type": "text"
      },
      "source": [
        "<a href=\"https://colab.research.google.com/github/YonggunJung/Programmers/blob/main/n%EA%B0%9C_%EA%B0%84%EA%B2%A9%EC%9D%98_%EC%9B%90%EC%86%8C%EB%93%A4.ipynb\" target=\"_parent\"><img src=\"https://colab.research.google.com/assets/colab-badge.svg\" alt=\"Open In Colab\"/></a>"
      ]
    },
    {
      "cell_type": "code",
      "execution_count": 1,
      "metadata": {
        "id": "f5YbV1m2gWzZ"
      },
      "outputs": [],
      "source": [
        "# 문제 설명\n",
        "# 정수 리스트 num_list와 정수 n이 주어질 때,\n",
        "# num_list의 첫 번째 원소부터 마지막 원소까지 n개 간격으로 저장되어있는\n",
        "# 원소들을 차례로 담은 리스트를 return하도록 solution 함수를 완성해주세요.\n",
        "\n",
        "# 제한사항\n",
        "# 5 ≤ num_list의 길이 ≤ 20\n",
        "# 1 ≤ num_list의 원소 ≤ 9\n",
        "# 1 ≤ n ≤ 4\n",
        "\n",
        "# 입출력 예\n",
        "# num_list\t              n     \tresult\n",
        "# [4, 2, 6, 1, 7, 6]\t    2     \t[4, 6, 7]\n",
        "# [4, 2, 6, 1, 7, 6]\t    4     \t[4, 7]\n",
        "\n",
        "# 입출력 예 설명\n",
        "# 입출력 예 #1\n",
        "# [4, 2, 6, 1, 7, 6]에서 2개 간격으로 저장되어 있는 원소들은 [4, 6, 7]입니다.\n",
        "\n",
        "# 입출력 예 #2\n",
        "# [4, 2, 6, 1, 7, 6]에서 4개 간격으로 저장되어 있는 원소들은 [4, 7]입니다."
      ]
    },
    {
      "cell_type": "code",
      "source": [
        "# 흠 ... 점점 쉬워지는 느낌?  [시작 : 끝 : 간격]\n",
        "def solution(num_list, n):\n",
        "    answer = num_list[::n]\n",
        "\n",
        "    return answer"
      ],
      "metadata": {
        "id": "PFp0zdKKghWD"
      },
      "execution_count": 5,
      "outputs": []
    },
    {
      "cell_type": "code",
      "source": [
        "num_list = [4, 2, 6, 1, 7, 6]\n",
        "n = 2\n",
        "solution(num_list, n)"
      ],
      "metadata": {
        "colab": {
          "base_uri": "https://localhost:8080/"
        },
        "id": "Wc4hEzeAgifQ",
        "outputId": "73ad4f46-d045-47dc-b464-d97682b9b7ac"
      },
      "execution_count": 6,
      "outputs": [
        {
          "output_type": "execute_result",
          "data": {
            "text/plain": [
              "[4, 6, 7]"
            ]
          },
          "metadata": {},
          "execution_count": 6
        }
      ]
    },
    {
      "cell_type": "code",
      "source": [
        "num_list = [4, 2, 6, 1, 7, 6]\n",
        "n = 4\n",
        "solution(num_list, n)"
      ],
      "metadata": {
        "colab": {
          "base_uri": "https://localhost:8080/"
        },
        "id": "hfkMzZO2gllE",
        "outputId": "c84422d4-b586-4695-9474-f70cd7660321"
      },
      "execution_count": 7,
      "outputs": [
        {
          "output_type": "execute_result",
          "data": {
            "text/plain": [
              "[4, 7]"
            ]
          },
          "metadata": {},
          "execution_count": 7
        }
      ]
    },
    {
      "cell_type": "code",
      "source": [
        "# 다른 사람 풀이"
      ],
      "metadata": {
        "id": "gXp7COYqgljT"
      },
      "execution_count": null,
      "outputs": []
    }
  ]
}