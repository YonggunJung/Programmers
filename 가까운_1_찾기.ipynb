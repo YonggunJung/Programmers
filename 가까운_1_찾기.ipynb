{
  "nbformat": 4,
  "nbformat_minor": 0,
  "metadata": {
    "colab": {
      "provenance": [],
      "authorship_tag": "ABX9TyOoQHTHfOYh7J3KxkDyJraT",
      "include_colab_link": true
    },
    "kernelspec": {
      "name": "python3",
      "display_name": "Python 3"
    },
    "language_info": {
      "name": "python"
    }
  },
  "cells": [
    {
      "cell_type": "markdown",
      "metadata": {
        "id": "view-in-github",
        "colab_type": "text"
      },
      "source": [
        "<a href=\"https://colab.research.google.com/github/YonggunJung/Programmers/blob/main/%EA%B0%80%EA%B9%8C%EC%9A%B4_1_%EC%B0%BE%EA%B8%B0.ipynb\" target=\"_parent\"><img src=\"https://colab.research.google.com/assets/colab-badge.svg\" alt=\"Open In Colab\"/></a>"
      ]
    },
    {
      "cell_type": "code",
      "execution_count": 1,
      "metadata": {
        "id": "jwjxxQAJWdwh"
      },
      "outputs": [],
      "source": [
        "# 문제 설명\n",
        "# 정수 배열 arr가 주어집니다. 이때 arr의 원소는 1 또는 0입니다.\n",
        "# 정수 idx가 주어졌을 때,\n",
        "# idx보다 크면서 배열의 값이 1인 가장 작은 인덱스를 찾아서 반환하는\n",
        "# solution 함수를 완성해 주세요.\n",
        "\n",
        "# 단, 만약 그러한 인덱스가 없다면 -1을 반환합니다.\n",
        "\n",
        "# 제한사항\n",
        "# 3 ≤ arr의 길이 ≤ 100'000\n",
        "# arr의 원소는 전부 1 또는 0입니다.\n",
        "\n",
        "# 입출력 예\n",
        "# arr\t                    idx\t        result\n",
        "# [0, 0, 0, 1]\t           1\t           3\n",
        "# [1, 0, 0, 1, 0, 0]\t     4\t          -1\n",
        "# [1, 1, 1, 1, 0]       \t 3\t           3\n",
        "\n",
        "# 입출력 예 설명\n",
        "# 입출력 예 #1\n",
        "# 1보다 크면서 원소가 1인 가장 작은 인덱스는 3입니다. 따라서 3을 return 합니다.\n",
        "\n",
        "# 입출력 예 #2\n",
        "# 4번 인덱스 이후에 1은 등장하지 않습니다. 따라서 -1을 return 합니다.\n",
        "\n",
        "# 입출력 예 #3\n",
        "# 3번 인덱스의 값이 1입니다. 따라서 3을 return 합니다."
      ]
    },
    {
      "cell_type": "code",
      "source": [
        "def solution(arr, idx):\n",
        "    answer = -1\n",
        "    for i in range(len(arr)):\n",
        "      if i >= idx and arr[i] == 1:\n",
        "        answer = i\n",
        "        break\n",
        "\n",
        "    return answer"
      ],
      "metadata": {
        "id": "mbyn5P6xWq5j"
      },
      "execution_count": 15,
      "outputs": []
    },
    {
      "cell_type": "code",
      "source": [
        "arr = [0, 0, 0, 1]\n",
        "idx = 1\n",
        "solution(arr, idx)"
      ],
      "metadata": {
        "colab": {
          "base_uri": "https://localhost:8080/"
        },
        "id": "1MezYtbtWsXJ",
        "outputId": "79cdcd43-ea6a-4b07-b11f-6f538e9de9c6"
      },
      "execution_count": 16,
      "outputs": [
        {
          "output_type": "execute_result",
          "data": {
            "text/plain": [
              "3"
            ]
          },
          "metadata": {},
          "execution_count": 16
        }
      ]
    },
    {
      "cell_type": "code",
      "source": [
        "arr = [1, 0, 0, 1, 0, 0]\n",
        "idx = 4\n",
        "solution(arr, idx)"
      ],
      "metadata": {
        "colab": {
          "base_uri": "https://localhost:8080/"
        },
        "id": "cQBvKzvTWv53",
        "outputId": "2d1ba6aa-7c1d-42b9-c40a-ed416efd0d29"
      },
      "execution_count": 17,
      "outputs": [
        {
          "output_type": "execute_result",
          "data": {
            "text/plain": [
              "-1"
            ]
          },
          "metadata": {},
          "execution_count": 17
        }
      ]
    },
    {
      "cell_type": "code",
      "source": [
        "arr = [1, 1, 1, 1, 0]\n",
        "idx = 3\n",
        "solution(arr, idx)"
      ],
      "metadata": {
        "colab": {
          "base_uri": "https://localhost:8080/"
        },
        "id": "Y4UYIFhpWv3n",
        "outputId": "4b54c424-8728-4c2a-ea43-974deb331f0c"
      },
      "execution_count": 18,
      "outputs": [
        {
          "output_type": "execute_result",
          "data": {
            "text/plain": [
              "3"
            ]
          },
          "metadata": {},
          "execution_count": 18
        }
      ]
    },
    {
      "cell_type": "code",
      "source": [
        "# 다른 사람 풀이"
      ],
      "metadata": {
        "id": "HoXfIoH6Wv1M"
      },
      "execution_count": 19,
      "outputs": []
    },
    {
      "cell_type": "code",
      "source": [
        "# index()의 두번째 인자는 시작인덱스\n",
        "def solution(arr, idx):\n",
        "    answer = 0\n",
        "    try:\n",
        "        answer = arr.index(1, idx)\n",
        "    except:\n",
        "        answer = -1\n",
        "\n",
        "    return answer"
      ],
      "metadata": {
        "id": "11cQNMQHYT3M"
      },
      "execution_count": 21,
      "outputs": []
    },
    {
      "cell_type": "code",
      "source": [
        "# 한줄이긴 한데 쉬워보이진 않음\n",
        "def solution(arr, idx):\n",
        "    return \"\".join(map(str,arr)).find(\"1\",idx)"
      ],
      "metadata": {
        "id": "-IjrUWsxYfY6"
      },
      "execution_count": null,
      "outputs": []
    }
  ]
}