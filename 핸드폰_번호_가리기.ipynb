{
  "nbformat": 4,
  "nbformat_minor": 0,
  "metadata": {
    "colab": {
      "provenance": [],
      "authorship_tag": "ABX9TyPBDVjJzRVKZJQhyPPMi0jE",
      "include_colab_link": true
    },
    "kernelspec": {
      "name": "python3",
      "display_name": "Python 3"
    },
    "language_info": {
      "name": "python"
    }
  },
  "cells": [
    {
      "cell_type": "markdown",
      "metadata": {
        "id": "view-in-github",
        "colab_type": "text"
      },
      "source": [
        "<a href=\"https://colab.research.google.com/github/YonggunJung/Programmers/blob/main/%ED%95%B8%EB%93%9C%ED%8F%B0_%EB%B2%88%ED%98%B8_%EA%B0%80%EB%A6%AC%EA%B8%B0.ipynb\" target=\"_parent\"><img src=\"https://colab.research.google.com/assets/colab-badge.svg\" alt=\"Open In Colab\"/></a>"
      ]
    },
    {
      "cell_type": "code",
      "execution_count": 1,
      "metadata": {
        "id": "HNIQCYkVl6n3"
      },
      "outputs": [],
      "source": [
        "# 문제 설명\n",
        "# 프로그래머스 모바일은 개인정보 보호를 위해 고지서를 보낼 때 고객들의 전화번호의 일부를 가립니다.\n",
        "# 전화번호가 문자열 phone_number로 주어졌을 때,\n",
        "# 전화번호의 뒷 4자리를 제외한 나머지 숫자를 전부 *으로 가린 문자열을 리턴하는 함수,\n",
        "# solution을 완성해주세요.\n",
        "\n",
        "# 제한 조건\n",
        "# phone_number는 길이 4 이상, 20이하인 문자열입니다.\n",
        "\n",
        "# 입출력                예\n",
        "# phone_number\t        return\n",
        "# \"01033334444\"       \t\"*******4444\"\n",
        "# \"027778888\"\t          \"*****8888\""
      ]
    },
    {
      "cell_type": "code",
      "source": [
        "def solution(phone_number):\n",
        "    answer = ('*' * len(phone_number[:-4])) + phone_number[-4:]\n",
        "\n",
        "    return answer"
      ],
      "metadata": {
        "id": "uSszGoMAmBGT"
      },
      "execution_count": 2,
      "outputs": []
    },
    {
      "cell_type": "code",
      "source": [],
      "metadata": {
        "id": "4he3PzF2mqVm"
      },
      "execution_count": null,
      "outputs": []
    }
  ]
}