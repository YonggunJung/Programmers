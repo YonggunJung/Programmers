{
  "nbformat": 4,
  "nbformat_minor": 0,
  "metadata": {
    "colab": {
      "provenance": [],
      "authorship_tag": "ABX9TyPAKFbBNeoG9zSxbWV7Ba0S",
      "include_colab_link": true
    },
    "kernelspec": {
      "name": "python3",
      "display_name": "Python 3"
    },
    "language_info": {
      "name": "python"
    }
  },
  "cells": [
    {
      "cell_type": "markdown",
      "metadata": {
        "id": "view-in-github",
        "colab_type": "text"
      },
      "source": [
        "<a href=\"https://colab.research.google.com/github/YonggunJung/Programmers/blob/main/%EB%AC%B8%EC%9E%90%EC%97%B4_%EC%A0%95%EB%A0%AC%ED%95%98%EA%B8%B0_(2).ipynb\" target=\"_parent\"><img src=\"https://colab.research.google.com/assets/colab-badge.svg\" alt=\"Open In Colab\"/></a>"
      ]
    },
    {
      "cell_type": "code",
      "execution_count": 1,
      "metadata": {
        "id": "KP68R_duEUkk"
      },
      "outputs": [],
      "source": [
        "# 문제 설명\n",
        "# 영어 대소문자로 이루어진 문자열 my_string이 매개변수로 주어질 때,\n",
        "# my_string을 모두 소문자로 바꾸고 알파벳 순서대로 정렬한 문자열을 return 하도록\n",
        "# solution 함수를 완성해보세요.\n",
        "\n",
        "# 제한사항\n",
        "# 0 < my_string 길이 < 100\n",
        "\n",
        "# 입출력 예\n",
        "# my_string\t        result\n",
        "# \"Bcad\"\t          \"abcd\"\n",
        "# \"heLLo\"\t          \"ehllo\"\n",
        "# \"Python\"\t        \"hnopty\"\n",
        "\n",
        "# 입출력 예 설명\n",
        "# 입출력 예 #1\n",
        "# \"Bcad\"를 모두 소문자로 바꾸면 \"bcad\"이고 이를 알파벳 순으로 정렬하면 \"abcd\"입니다.\n",
        "\n",
        "# 입출력 예 #2\n",
        "# \"heLLo\"를 모두 소문자로 바꾸면 \"hello\"이고 이를 알파벳 순으로 정렬하면 \"ehllo\"입니다.\n",
        "\n",
        "# 입출력 예 #3\n",
        "# \"Python\"를 모두 소문자로 바꾸면 \"python\"이고 이를 알파벳 순으로 정렬하면 \"hnopty\"입니다."
      ]
    },
    {
      "cell_type": "code",
      "source": [
        "# 뭔가 어렵게 한 느낌??\n",
        "def solution(my_string):\n",
        "    answer = ''\n",
        "    ms = my_string.lower()\n",
        "    sms = sorted(ms)\n",
        "    for i in sms:\n",
        "      answer += i\n",
        "    return answer"
      ],
      "metadata": {
        "id": "UbstqmulEfCz"
      },
      "execution_count": 30,
      "outputs": []
    },
    {
      "cell_type": "code",
      "source": [
        "my_string = \"Bcad\"\n",
        "solution(my_string)"
      ],
      "metadata": {
        "colab": {
          "base_uri": "https://localhost:8080/",
          "height": 35
        },
        "id": "NM-5_z4oEfw5",
        "outputId": "0c5015dc-920d-45b3-ee15-30438334c034"
      },
      "execution_count": 33,
      "outputs": [
        {
          "output_type": "execute_result",
          "data": {
            "text/plain": [
              "'abcd'"
            ],
            "application/vnd.google.colaboratory.intrinsic+json": {
              "type": "string"
            }
          },
          "metadata": {},
          "execution_count": 33
        }
      ]
    },
    {
      "cell_type": "code",
      "source": [
        "my_string = \"heLLo\"\n",
        "solution(my_string)"
      ],
      "metadata": {
        "colab": {
          "base_uri": "https://localhost:8080/",
          "height": 35
        },
        "id": "MhCQYVxIEfmW",
        "outputId": "b0a1c6c1-4a96-4fda-f004-9728374bcaa1"
      },
      "execution_count": 34,
      "outputs": [
        {
          "output_type": "execute_result",
          "data": {
            "text/plain": [
              "'ehllo'"
            ],
            "application/vnd.google.colaboratory.intrinsic+json": {
              "type": "string"
            }
          },
          "metadata": {},
          "execution_count": 34
        }
      ]
    },
    {
      "cell_type": "code",
      "source": [
        "my_string = \"Python\"\n",
        "solution(my_string)"
      ],
      "metadata": {
        "colab": {
          "base_uri": "https://localhost:8080/",
          "height": 35
        },
        "id": "rRn88nXxEfj9",
        "outputId": "65793975-bcd0-41d7-9d93-2c9bd37ac194"
      },
      "execution_count": 35,
      "outputs": [
        {
          "output_type": "execute_result",
          "data": {
            "text/plain": [
              "'hnopty'"
            ],
            "application/vnd.google.colaboratory.intrinsic+json": {
              "type": "string"
            }
          },
          "metadata": {},
          "execution_count": 35
        }
      ]
    },
    {
      "cell_type": "code",
      "source": [
        "# 다른 사람 풀이"
      ],
      "metadata": {
        "id": "1sbPK9nAElOI"
      },
      "execution_count": 36,
      "outputs": []
    },
    {
      "cell_type": "code",
      "source": [
        "# 참 쉬운건데 왜 안떠오를까 ㅠㅠ\n",
        "# ''.join() 이게 핵심\n",
        "def solution(my_string):\n",
        "    return ''.join(sorted(my_string.lower()))"
      ],
      "metadata": {
        "id": "6ly76yFbGr7s"
      },
      "execution_count": 37,
      "outputs": []
    },
    {
      "cell_type": "code",
      "source": [],
      "metadata": {
        "id": "e96v-wdoGxZc"
      },
      "execution_count": null,
      "outputs": []
    }
  ]
}