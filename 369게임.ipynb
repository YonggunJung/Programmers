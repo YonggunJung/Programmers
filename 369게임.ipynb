{
  "nbformat": 4,
  "nbformat_minor": 0,
  "metadata": {
    "colab": {
      "provenance": [],
      "authorship_tag": "ABX9TyOfqEd/bVbuE/WhI5hvwkqO",
      "include_colab_link": true
    },
    "kernelspec": {
      "name": "python3",
      "display_name": "Python 3"
    },
    "language_info": {
      "name": "python"
    }
  },
  "cells": [
    {
      "cell_type": "markdown",
      "metadata": {
        "id": "view-in-github",
        "colab_type": "text"
      },
      "source": [
        "<a href=\"https://colab.research.google.com/github/YonggunJung/Programmers/blob/main/369%EA%B2%8C%EC%9E%84.ipynb\" target=\"_parent\"><img src=\"https://colab.research.google.com/assets/colab-badge.svg\" alt=\"Open In Colab\"/></a>"
      ]
    },
    {
      "cell_type": "code",
      "execution_count": 1,
      "metadata": {
        "id": "5R5x3u35A4-l"
      },
      "outputs": [],
      "source": [
        "# 문제 설명\n",
        "# 머쓱이는 친구들과 369게임을 하고 있습니다.\n",
        "# 369게임은 1부터 숫자를 하나씩 대며\n",
        "# 3, 6, 9가 들어가는 숫자는 숫자 대신 3, 6, 9의 개수만큼 박수를 치는 게임입니다.\n",
        "# 머쓱이가 말해야하는 숫자 order가 매개변수로 주어질 때,\n",
        "# 머쓱이가 쳐야할 박수 횟수를 return 하도록 solution 함수를 완성해보세요.\n",
        "\n",
        "# 제한사항\n",
        "# 1 ≤ order ≤ 1,000,000\n",
        "\n",
        "# 입출력 예\n",
        "# order\t    result\n",
        "# 3\t          1\n",
        "# 29423\t      2\n",
        "\n",
        "# 입출력 예 설명\n",
        "# 입출력 예 #1\n",
        "# 3은 3이 1개 있으므로 1을 출력합니다.\n",
        "\n",
        "# 입출력 예 #2\n",
        "# 29423은 3이 1개, 9가 1개 있으므로 2를 출력합니다."
      ]
    },
    {
      "cell_type": "code",
      "source": [
        "# 코드 길어서 맘에는 안드는데 일단 품\n",
        "def solution(order):\n",
        "    answer = 0\n",
        "    o = str(order)\n",
        "    a, b, c = str(3), str(6), str(9)\n",
        "    for i in o:\n",
        "      if i == a:\n",
        "        answer += 1\n",
        "      elif i == b:\n",
        "        answer += 1\n",
        "      elif i == c:\n",
        "        answer += 1\n",
        "    return answer"
      ],
      "metadata": {
        "id": "XkfAddfTBXNF"
      },
      "execution_count": 22,
      "outputs": []
    },
    {
      "cell_type": "code",
      "source": [
        "order = 3\n",
        "solution(order)"
      ],
      "metadata": {
        "colab": {
          "base_uri": "https://localhost:8080/"
        },
        "id": "TuHHhy28BZYb",
        "outputId": "10dec180-2dda-4226-8552-1ef80380ce97"
      },
      "execution_count": 23,
      "outputs": [
        {
          "output_type": "execute_result",
          "data": {
            "text/plain": [
              "1"
            ]
          },
          "metadata": {},
          "execution_count": 23
        }
      ]
    },
    {
      "cell_type": "code",
      "source": [
        "order = 29423\n",
        "solution(order)"
      ],
      "metadata": {
        "colab": {
          "base_uri": "https://localhost:8080/"
        },
        "id": "d_FBLmOTBZ-u",
        "outputId": "f52fd52d-7495-46d2-9d03-1e05d468a210"
      },
      "execution_count": 24,
      "outputs": [
        {
          "output_type": "execute_result",
          "data": {
            "text/plain": [
              "2"
            ]
          },
          "metadata": {},
          "execution_count": 24
        }
      ]
    },
    {
      "cell_type": "code",
      "source": [
        "order = 3699\n",
        "solution(order)"
      ],
      "metadata": {
        "colab": {
          "base_uri": "https://localhost:8080/"
        },
        "id": "xfxfGKAzBie5",
        "outputId": "97406626-fdbe-46fa-9833-ecf12c161f0d"
      },
      "execution_count": 25,
      "outputs": [
        {
          "output_type": "execute_result",
          "data": {
            "text/plain": [
              "4"
            ]
          },
          "metadata": {},
          "execution_count": 25
        }
      ]
    },
    {
      "cell_type": "code",
      "source": [
        "# 다른 사람 풀이"
      ],
      "metadata": {
        "id": "3dE2wEh8BZ3G"
      },
      "execution_count": null,
      "outputs": []
    },
    {
      "cell_type": "code",
      "source": [
        "# count() 사용 하면 좀 쉬운듯, 일단 확실한 이해는 못함\n",
        "def solution(order):\n",
        "    return sum(map(lambda x: str(order).count(str(x)), [3, 6, 9]))"
      ],
      "metadata": {
        "id": "aXhGvyuLBZ0-"
      },
      "execution_count": 26,
      "outputs": []
    },
    {
      "cell_type": "code",
      "source": [
        "# 이거 보니 윗셀도 이해감\n",
        "def solution(order):\n",
        "    answer = 0\n",
        "    order = str(order)\n",
        "    return order.count('3') + order.count('6') + order.count('9')"
      ],
      "metadata": {
        "id": "NPt0ATbeD7Da"
      },
      "execution_count": 27,
      "outputs": []
    },
    {
      "cell_type": "code",
      "source": [
        "# 이거도 괜찮아 보임\n",
        "def solution(order):\n",
        "    answer = 0\n",
        "    for i in str(order):\n",
        "        if i in [\"3\", \"6\", \"9\"]:\n",
        "            answer += 1\n",
        "    return answer"
      ],
      "metadata": {
        "id": "Ty-a6DC3D9Wl"
      },
      "execution_count": null,
      "outputs": []
    }
  ]
}