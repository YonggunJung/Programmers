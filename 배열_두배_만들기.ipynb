{
  "nbformat": 4,
  "nbformat_minor": 0,
  "metadata": {
    "colab": {
      "provenance": [],
      "authorship_tag": "ABX9TyPTIEpuKA2O591gEPr/qwwB",
      "include_colab_link": true
    },
    "kernelspec": {
      "name": "python3",
      "display_name": "Python 3"
    },
    "language_info": {
      "name": "python"
    }
  },
  "cells": [
    {
      "cell_type": "markdown",
      "metadata": {
        "id": "view-in-github",
        "colab_type": "text"
      },
      "source": [
        "<a href=\"https://colab.research.google.com/github/YonggunJung/Programmers/blob/main/%EB%B0%B0%EC%97%B4_%EB%91%90%EB%B0%B0_%EB%A7%8C%EB%93%A4%EA%B8%B0.ipynb\" target=\"_parent\"><img src=\"https://colab.research.google.com/assets/colab-badge.svg\" alt=\"Open In Colab\"/></a>"
      ]
    },
    {
      "cell_type": "code",
      "execution_count": null,
      "metadata": {
        "id": "RNZ_1q9K15mD"
      },
      "outputs": [],
      "source": [
        "# 문제 설명\n",
        "# 정수 배열 numbers가 매개변수로 주어집니다.\n",
        "# numbers의 각 원소에 두배한 원소를 가진 배열을 return하도록 solution 함수를 완성해주세요.\n",
        "\n",
        "# 제한사항\n",
        "# -10,000 ≤ numbers의 원소 ≤ 10,000\n",
        "# 1 ≤ numbers의 길이 ≤ 1,000\n",
        "\n",
        "# 입출력 예\n",
        "# numbers\t                        result\n",
        "# [1, 2, 3, 4, 5]\t                [2, 4, 6, 8, 10]\n",
        "# [1, 2, 100, -99, 1, 2, 3]\t      [2, 4, 200, -198, 2, 4, 6]\n",
        "\n",
        "# 입출력 예 설명\n",
        "# 입출력 예 #1\n",
        "# [1, 2, 3, 4, 5]의 각 원소에 두배를 한 배열 [2, 4, 6, 8, 10]을 return합니다.\n",
        "\n",
        "# 입출력 예 #2\n",
        "# [1, 2, 100, -99, 1, 2, 3]의 각 원소에 두배를 한 배열 [2, 4, 200, -198, 2, 4, 6]을 return합니다."
      ]
    },
    {
      "cell_type": "code",
      "source": [
        "# 쉬울거 같았는데 문법으로 문제로 헷갈림\n",
        "def solution(numbers):\n",
        "    answer = [i * 2 for i in numbers]\n",
        "    return answer"
      ],
      "metadata": {
        "id": "50b0hy944ABv"
      },
      "execution_count": 22,
      "outputs": []
    },
    {
      "cell_type": "code",
      "source": [
        "numbers = [1, 2, 3, 4, 5]\n",
        "solution(numbers)"
      ],
      "metadata": {
        "colab": {
          "base_uri": "https://localhost:8080/"
        },
        "id": "s5jhYAKt4LBi",
        "outputId": "642a3116-8e71-4643-9343-6157dec57ff0"
      },
      "execution_count": 23,
      "outputs": [
        {
          "output_type": "execute_result",
          "data": {
            "text/plain": [
              "[2, 4, 6, 8, 10]"
            ]
          },
          "metadata": {},
          "execution_count": 23
        }
      ]
    },
    {
      "cell_type": "code",
      "source": [
        "numbers = [1, 2, 100, -99, 1, 2, 3]\n",
        "solution(numbers)"
      ],
      "metadata": {
        "colab": {
          "base_uri": "https://localhost:8080/"
        },
        "id": "1sbgznKo4S6S",
        "outputId": "84847be6-f735-47b7-9c6f-c891eab2110d"
      },
      "execution_count": 24,
      "outputs": [
        {
          "output_type": "execute_result",
          "data": {
            "text/plain": [
              "[2, 4, 200, -198, 2, 4, 6]"
            ]
          },
          "metadata": {},
          "execution_count": 24
        }
      ]
    },
    {
      "cell_type": "code",
      "source": [
        "# 다른 사람 풀이"
      ],
      "metadata": {
        "id": "YUSTXOqH4bHb"
      },
      "execution_count": 25,
      "outputs": []
    },
    {
      "cell_type": "code",
      "source": [
        "# 이걸 쓰고 싶었는데 못씀\n",
        "# map()와 lamda가 아직 헷갈림\n",
        "# 일각에선 이걸 비추천함\n",
        "def solution(numbers):\n",
        "    return list(map(lambda x: x * 2, numbers))"
      ],
      "metadata": {
        "id": "GV9OH_gw7dnz"
      },
      "execution_count": 26,
      "outputs": []
    },
    {
      "cell_type": "code",
      "source": [
        "# 넘파이 사용\n",
        "import numpy as np\n",
        "\n",
        "def solution(numbers):\n",
        "    answer = []\n",
        "    answer = np.array(numbers)*2\n",
        "    answer = answer.tolist()\n",
        "\n",
        "\n",
        "    return answer"
      ],
      "metadata": {
        "id": "L96qSSkn70Po"
      },
      "execution_count": 27,
      "outputs": []
    },
    {
      "cell_type": "code",
      "source": [
        "# 이렇게도 가능\n",
        "def solution(numbers):\n",
        "    answer = []\n",
        "    for num in numbers:\n",
        "        answer.append(num * 2)\n",
        "    return answer"
      ],
      "metadata": {
        "id": "7-XMZOlM75lY"
      },
      "execution_count": null,
      "outputs": []
    }
  ]
}