{
  "nbformat": 4,
  "nbformat_minor": 0,
  "metadata": {
    "colab": {
      "provenance": [],
      "authorship_tag": "ABX9TyP0D3+4R8qPLpGz/xnLYCFk",
      "include_colab_link": true
    },
    "kernelspec": {
      "name": "python3",
      "display_name": "Python 3"
    },
    "language_info": {
      "name": "python"
    }
  },
  "cells": [
    {
      "cell_type": "markdown",
      "metadata": {
        "id": "view-in-github",
        "colab_type": "text"
      },
      "source": [
        "<a href=\"https://colab.research.google.com/github/YonggunJung/Programmers/blob/main/%EC%A7%9D%EC%88%98%EC%99%80_%ED%99%80%EC%88%98.ipynb\" target=\"_parent\"><img src=\"https://colab.research.google.com/assets/colab-badge.svg\" alt=\"Open In Colab\"/></a>"
      ]
    },
    {
      "cell_type": "code",
      "execution_count": 1,
      "metadata": {
        "id": "CDMnED4U_q3t"
      },
      "outputs": [],
      "source": [
        "# 문제 설명\n",
        "# 정수 num이 짝수일 경우 \"Even\"을 반환하고 홀수인 경우 \"Odd\"를 반환하는 함수,\n",
        "# solution을 완성해주세요.\n",
        "\n",
        "# 제한 조건\n",
        "# num은 int 범위의 정수입니다.\n",
        "# 0은 짝수입니다.\n",
        "\n",
        "# 입출력 예\n",
        "# num\t    return\n",
        "# 3\t      \"Odd\"\n",
        "# 4\t      \"Even\""
      ]
    },
    {
      "cell_type": "code",
      "source": [
        "def solution(num):\n",
        "    answer = 'Odd'\n",
        "    if num % 2 == 0:\n",
        "        answer = 'Even'\n",
        "    return answer"
      ],
      "metadata": {
        "id": "vSTE4SIA_x-e"
      },
      "execution_count": 2,
      "outputs": []
    },
    {
      "cell_type": "code",
      "source": [],
      "metadata": {
        "id": "6vR9UN90_77H"
      },
      "execution_count": null,
      "outputs": []
    }
  ]
}