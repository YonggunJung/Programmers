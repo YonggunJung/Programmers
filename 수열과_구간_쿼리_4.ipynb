{
  "nbformat": 4,
  "nbformat_minor": 0,
  "metadata": {
    "colab": {
      "provenance": [],
      "authorship_tag": "ABX9TyNw0myvAcSfnzDLZDrO0Mc4",
      "include_colab_link": true
    },
    "kernelspec": {
      "name": "python3",
      "display_name": "Python 3"
    },
    "language_info": {
      "name": "python"
    }
  },
  "cells": [
    {
      "cell_type": "markdown",
      "metadata": {
        "id": "view-in-github",
        "colab_type": "text"
      },
      "source": [
        "<a href=\"https://colab.research.google.com/github/YonggunJung/Programmers/blob/main/%EC%88%98%EC%97%B4%EA%B3%BC_%EA%B5%AC%EA%B0%84_%EC%BF%BC%EB%A6%AC_4.ipynb\" target=\"_parent\"><img src=\"https://colab.research.google.com/assets/colab-badge.svg\" alt=\"Open In Colab\"/></a>"
      ]
    },
    {
      "cell_type": "code",
      "execution_count": 1,
      "metadata": {
        "id": "zOVHLaKBBFpY"
      },
      "outputs": [],
      "source": [
        "# 문제 설명\n",
        "# 정수 배열 arr와 2차원 정수 배열 queries이 주어집니다.\n",
        "# queries의 원소는 각각 하나의 query를 나타내며, [s, e, k] 꼴입니다.\n",
        "\n",
        "# 각 query마다 순서대로 s ≤ i ≤ e인 모든 i에 대해\n",
        "# i가 k의 배수이면 arr[i]에 1을 더합니다.\n",
        "\n",
        "# 위 규칙에 따라 queries를 처리한 이후의 arr를 return 하는\n",
        "# solution 함수를 완성해 주세요.\n",
        "\n",
        "# 제한사항\n",
        "# 1 ≤ arr의 길이 ≤ 1,000\n",
        "# 0 ≤ arr의 원소 ≤ 1,000,000\n",
        "# 1 ≤ queries의 길이 ≤ 1,000\n",
        "# 0 ≤ s ≤ e < arr의 길이\n",
        "# 0 ≤ k ≤ 5\n",
        "\n",
        "# 입출력 예\n",
        "# arr\t                queries\t                                  result\n",
        "# [0, 1, 2, 4, 3]\t    [[0, 4, 1],[0, 3, 2],[0, 3, 3]]\t          [3, 2, 4, 6, 4]\n",
        "\n",
        "# 입출력 예 설명\n",
        "# 입출력 예 #1\n",
        "# 각 쿼리에 따라 arr가 다음과 같이 변합니다.\n",
        "# arr\n",
        "# [0, 1, 2, 4, 3]\n",
        "# [1, 2, 3, 5, 4]\n",
        "# [2, 2, 4, 5, 4]\n",
        "# [3, 2, 4, 6, 4]\n",
        "# 따라서 [3, 2, 4, 6, 4]를 return 합니다."
      ]
    },
    {
      "cell_type": "code",
      "source": [
        "def solution(arr, queries):\n",
        "    for s, e, k in queries:\n",
        "      for i in range(s , e+1):\n",
        "        if i % k == 0:\n",
        "          arr[i] += 1\n",
        "    answer = arr\n",
        "    return answer"
      ],
      "metadata": {
        "id": "SYC0XM3DBOi4"
      },
      "execution_count": 7,
      "outputs": []
    },
    {
      "cell_type": "code",
      "source": [
        "arr = [0, 1, 2, 4, 3]\n",
        "queries = [[0, 4, 1],[0, 3, 2],[0, 3, 3]]\n",
        "solution(arr, queries)"
      ],
      "metadata": {
        "colab": {
          "base_uri": "https://localhost:8080/"
        },
        "id": "Ls5odLSDBP5m",
        "outputId": "8f8ca071-3708-489a-ac11-9f3c380d09b6"
      },
      "execution_count": 8,
      "outputs": [
        {
          "output_type": "execute_result",
          "data": {
            "text/plain": [
              "[3, 2, 4, 6, 4]"
            ]
          },
          "metadata": {},
          "execution_count": 8
        }
      ]
    },
    {
      "cell_type": "code",
      "source": [
        "# 다른 사람 풀이"
      ],
      "metadata": {
        "id": "3xxHf17IBYZF"
      },
      "execution_count": 9,
      "outputs": []
    },
    {
      "cell_type": "code",
      "source": [
        "# 거의 비슷\n",
        "def solution(arr, queries):\n",
        "    answer = []\n",
        "\n",
        "    for s, e, k in queries:\n",
        "        for i in range(s, e+1):\n",
        "            if not i%k:\n",
        "                arr[i] += 1\n",
        "    return arr"
      ],
      "metadata": {
        "id": "0fD-VGSfCpFf"
      },
      "execution_count": null,
      "outputs": []
    }
  ]
}