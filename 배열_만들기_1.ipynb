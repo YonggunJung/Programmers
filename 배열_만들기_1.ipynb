{
  "nbformat": 4,
  "nbformat_minor": 0,
  "metadata": {
    "colab": {
      "provenance": [],
      "authorship_tag": "ABX9TyOMZi5Vi7uCJwGhcHYOPN/S",
      "include_colab_link": true
    },
    "kernelspec": {
      "name": "python3",
      "display_name": "Python 3"
    },
    "language_info": {
      "name": "python"
    }
  },
  "cells": [
    {
      "cell_type": "markdown",
      "metadata": {
        "id": "view-in-github",
        "colab_type": "text"
      },
      "source": [
        "<a href=\"https://colab.research.google.com/github/YonggunJung/Programmers/blob/main/%EB%B0%B0%EC%97%B4_%EB%A7%8C%EB%93%A4%EA%B8%B0_1.ipynb\" target=\"_parent\"><img src=\"https://colab.research.google.com/assets/colab-badge.svg\" alt=\"Open In Colab\"/></a>"
      ]
    },
    {
      "cell_type": "code",
      "execution_count": 1,
      "metadata": {
        "id": "zl_098HasKLy"
      },
      "outputs": [],
      "source": [
        "# 문제 설명\n",
        "# 정수 n과 k가 주어졌을 때,\n",
        "# 1 이상 n이하의 정수 중에서 k의 배수를 오름차순으로 저장한 배열을\n",
        "# return 하는 solution 함수를 완성해 주세요.\n",
        "\n",
        "# 제한사항\n",
        "# 1 ≤ n ≤ 1,000,000\n",
        "# 1 ≤ k ≤ min(1,000, n)\n",
        "\n",
        "# 입출력 예\n",
        "# n\t      k\t      result\n",
        "# 10\t    3\t      [3, 6, 9]\n",
        "# 15\t    5\t      [5, 10, 15]\n",
        "\n",
        "# 입출력 예 설명\n",
        "# 입출력 예 #1\n",
        "# 1 이상 10 이하의 3의 배수는 3, 6, 9 이므로 [3, 6, 9]를 return 합니다.\n",
        "\n",
        "# 입출력 예 #2\n",
        "# 1 이상 15 이하의 5의 배수는 5, 10, 15 이므로 [5, 10, 15]를 return 합니다."
      ]
    },
    {
      "cell_type": "code",
      "source": [
        "def solution(n, k):\n",
        "    answer = []\n",
        "    for i in range(1, n+1):\n",
        "      if i % k == 0:\n",
        "        answer.append(i)\n",
        "    return sorted(answer)"
      ],
      "metadata": {
        "id": "JpTQIJrLsVSq"
      },
      "execution_count": 11,
      "outputs": []
    },
    {
      "cell_type": "code",
      "source": [
        "n = 10\n",
        "k = 3\n",
        "solution(n, k)"
      ],
      "metadata": {
        "colab": {
          "base_uri": "https://localhost:8080/"
        },
        "id": "Sib0p1cKsW3h",
        "outputId": "f9dfa398-bd57-4a71-eaf0-7fd896f28af0"
      },
      "execution_count": 12,
      "outputs": [
        {
          "output_type": "execute_result",
          "data": {
            "text/plain": [
              "[3, 6, 9]"
            ]
          },
          "metadata": {},
          "execution_count": 12
        }
      ]
    },
    {
      "cell_type": "code",
      "source": [
        "n = 15\n",
        "k = 5\n",
        "solution(n, k)"
      ],
      "metadata": {
        "colab": {
          "base_uri": "https://localhost:8080/"
        },
        "id": "jfmIQPxmsatt",
        "outputId": "2f2dc817-4665-4988-ec87-00ec3b98fcca"
      },
      "execution_count": 13,
      "outputs": [
        {
          "output_type": "execute_result",
          "data": {
            "text/plain": [
              "[5, 10, 15]"
            ]
          },
          "metadata": {},
          "execution_count": 13
        }
      ]
    },
    {
      "cell_type": "code",
      "source": [
        "# 다른 사람 풀이"
      ],
      "metadata": {
        "id": "vpggGlQgsart"
      },
      "execution_count": 14,
      "outputs": []
    },
    {
      "cell_type": "code",
      "source": [
        "# k부터 해도 된다는거, 그냥 k번째씩 찍어도 된다느거\n",
        "def solution(n, k):\n",
        "    return [i for i in range(k,n+1,k)]"
      ],
      "metadata": {
        "id": "qH9r8RFwtOJb"
      },
      "execution_count": 15,
      "outputs": []
    },
    {
      "cell_type": "code",
      "source": [],
      "metadata": {
        "id": "UC0nGsjvtWTy"
      },
      "execution_count": null,
      "outputs": []
    }
  ]
}