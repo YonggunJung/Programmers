{
  "nbformat": 4,
  "nbformat_minor": 0,
  "metadata": {
    "colab": {
      "provenance": [],
      "authorship_tag": "ABX9TyNNWoWK5oG+21aoWJ/01Eay",
      "include_colab_link": true
    },
    "kernelspec": {
      "name": "python3",
      "display_name": "Python 3"
    },
    "language_info": {
      "name": "python"
    }
  },
  "cells": [
    {
      "cell_type": "markdown",
      "metadata": {
        "id": "view-in-github",
        "colab_type": "text"
      },
      "source": [
        "<a href=\"https://colab.research.google.com/github/YonggunJung/Programmers/blob/main/%EC%98%B9%EC%95%8C%EC%9D%B4_(1).ipynb\" target=\"_parent\"><img src=\"https://colab.research.google.com/assets/colab-badge.svg\" alt=\"Open In Colab\"/></a>"
      ]
    },
    {
      "cell_type": "code",
      "execution_count": 1,
      "metadata": {
        "id": "c210AafOKkdf"
      },
      "outputs": [],
      "source": [
        "# 문제 설명\n",
        "# 머쓱이는 태어난 지 6개월 된 조카를 돌보고 있습니다.\n",
        "# 조카는 아직 \"aya\", \"ye\", \"woo\", \"ma\" 네 가지 발음을 최대 한 번씩 사용해\n",
        "# 조합한(이어 붙인) 발음밖에 하지 못합니다.\n",
        "# 문자열 배열 babbling이 매개변수로 주어질 때,\n",
        "# 머쓱이의 조카가 발음할 수 있는 단어의 개수를 return하도록 solution 함수를 완성해주세요.\n",
        "\n",
        "# 제한사항\n",
        "# 1 ≤ babbling의 길이 ≤ 100\n",
        "# 1 ≤ babbling[i]의 길이 ≤ 15\n",
        "# babbling의 각 문자열에서 \"aya\", \"ye\", \"woo\", \"ma\"는 각각 최대 한 번씩만 등장합니다.\n",
        "# 즉, 각 문자열의 가능한 모든 부분 문자열 중에서 \"aya\", \"ye\", \"woo\", \"ma\"가\n",
        "# 한 번씩만 등장합니다.\n",
        "# 문자열은 알파벳 소문자로만 이루어져 있습니다.\n",
        "\n",
        "# 입출력 예\n",
        "# babbling\t                                            result\n",
        "# [\"aya\", \"yee\", \"u\", \"maa\", \"wyeoo\"]\t                    1\n",
        "# [\"ayaye\", \"uuuma\", \"ye\", \"yemawoo\", \"ayaa\"]\t            3\n",
        "\n",
        "# 입출력 예 설명\n",
        "# 입출력 예 #1\n",
        "# [\"aya\", \"yee\", \"u\", \"maa\", \"wyeoo\"]에서 발음할 수 있는 것은 \"aya\"뿐입니다.\n",
        "# 따라서 1을 return합니다.\n",
        "\n",
        "# 입출력 예 #2\n",
        "# [\"ayaye\", \"uuuma\", \"ye\", \"yemawoo\", \"ayaa\"]에서\n",
        "# 발음할 수 있는 것은 \"aya\" + \"ye\" = \"ayaye\", \"ye\", \"ye\" + \"ma\" + \"woo\" = \"yemawoo\"로 3개입니다.\n",
        "# 따라서 3을 return합니다.\n",
        "\n",
        "# 유의사항\n",
        "# 네 가지를 붙여 만들 수 있는 발음 이외에는 어떤 발음도 할 수 없는 것으로 규정합니다.\n",
        "# 예를 들어 \"woowo\"는 \"woo\"는 발음할 수 있지만\n",
        "# \"wo\"를 발음할 수 없기 때문에 할 수 없는 발음입니다."
      ]
    },
    {
      "cell_type": "code",
      "source": [
        "# combination() 사용하려 했는데 다른거였군\n",
        "# 풀이도 쉽지 않은 문제였음 봐도 완벽 이해는 안됨\n",
        "ㅊ"
      ],
      "metadata": {
        "id": "wlo0olYHLBvR"
      },
      "execution_count": 8,
      "outputs": []
    },
    {
      "cell_type": "code",
      "source": [
        "babbling = [\"aya\", \"yee\", \"u\", \"maa\", \"wyeoo\"]\n",
        "solution(babbling)"
      ],
      "metadata": {
        "colab": {
          "base_uri": "https://localhost:8080/"
        },
        "id": "KYR-qXbdLFbv",
        "outputId": "f4eb0d37-5348-4d68-8908-e68120a84aba"
      },
      "execution_count": 9,
      "outputs": [
        {
          "output_type": "execute_result",
          "data": {
            "text/plain": [
              "1"
            ]
          },
          "metadata": {},
          "execution_count": 9
        }
      ]
    },
    {
      "cell_type": "code",
      "source": [
        "babbling = [\"ayaye\", \"uuuma\", \"ye\", \"yemawoo\", \"ayaa\"]\n",
        "\n",
        "solution(babbling)"
      ],
      "metadata": {
        "colab": {
          "base_uri": "https://localhost:8080/"
        },
        "id": "3XiPvE3NLHmM",
        "outputId": "54903ec1-362c-4e03-ff13-e74586f006d4"
      },
      "execution_count": 11,
      "outputs": [
        {
          "output_type": "execute_result",
          "data": {
            "text/plain": [
              "3"
            ]
          },
          "metadata": {},
          "execution_count": 11
        }
      ]
    },
    {
      "cell_type": "code",
      "source": [
        "# 다른 사람 풀이"
      ],
      "metadata": {
        "id": "7F1eCfgmLHkK"
      },
      "execution_count": 12,
      "outputs": []
    },
    {
      "cell_type": "code",
      "source": [
        "# 이게 굉장히 쉬워 보이는데\n",
        "# re 함수와 문자열 지정하는거 배운적은 있지만 전혀 안떠오름\n",
        "import re\n",
        "\n",
        "def solution(babbling):\n",
        "    answer = 0\n",
        "    for char in babbling:\n",
        "        if re.match(r\"^(aya|ye|woo|ma)+$\", char):\n",
        "            answer += 1\n",
        "    return answer"
      ],
      "metadata": {
        "id": "t6qh8laAPpep"
      },
      "execution_count": 13,
      "outputs": []
    },
    {
      "cell_type": "code",
      "source": [
        "# 진짜 쉬워보이는 코드인데\n",
        "# 이렇게 순수하게 이해 안가는건 첨임\n",
        "def solution(babbling):\n",
        "    c = 0\n",
        "    for b in babbling:\n",
        "        for w in [ \"aya\", \"ye\", \"woo\", \"ma\" ]:\n",
        "            if w * 2 not in b:\n",
        "                b = b.replace(w, ' ')\n",
        "        if len(b.strip()) == 0:\n",
        "            c += 1\n",
        "    return c"
      ],
      "metadata": {
        "id": "BR_nsHG6Qam4"
      },
      "execution_count": 14,
      "outputs": []
    },
    {
      "cell_type": "code",
      "source": [],
      "metadata": {
        "id": "MbbBOlgPQgSu"
      },
      "execution_count": null,
      "outputs": []
    }
  ]
}