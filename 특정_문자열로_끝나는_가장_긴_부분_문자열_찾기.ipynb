{
  "nbformat": 4,
  "nbformat_minor": 0,
  "metadata": {
    "colab": {
      "provenance": [],
      "authorship_tag": "ABX9TyNv9d/FDhxfJzcFVCo8Dhdw",
      "include_colab_link": true
    },
    "kernelspec": {
      "name": "python3",
      "display_name": "Python 3"
    },
    "language_info": {
      "name": "python"
    }
  },
  "cells": [
    {
      "cell_type": "markdown",
      "metadata": {
        "id": "view-in-github",
        "colab_type": "text"
      },
      "source": [
        "<a href=\"https://colab.research.google.com/github/YonggunJung/Programmers/blob/main/%ED%8A%B9%EC%A0%95_%EB%AC%B8%EC%9E%90%EC%97%B4%EB%A1%9C_%EB%81%9D%EB%82%98%EB%8A%94_%EA%B0%80%EC%9E%A5_%EA%B8%B4_%EB%B6%80%EB%B6%84_%EB%AC%B8%EC%9E%90%EC%97%B4_%EC%B0%BE%EA%B8%B0.ipynb\" target=\"_parent\"><img src=\"https://colab.research.google.com/assets/colab-badge.svg\" alt=\"Open In Colab\"/></a>"
      ]
    },
    {
      "cell_type": "code",
      "execution_count": 1,
      "metadata": {
        "id": "5IFDMd-r5K2G"
      },
      "outputs": [],
      "source": [
        "# 문제 설명\n",
        "# 문자열 myString과 pat가 주어집니다.\n",
        "# myString의 부분 문자열중 pat로 끝나는 가장 긴 부분 문자열을 찾아서\n",
        "# return 하는 solution 함수를 완성해 주세요.\n",
        "\n",
        "# 제한사항\n",
        "# 5 ≤ myString ≤ 20\n",
        "# 1 ≤ pat ≤ 5\n",
        "# pat은 반드시 myString의 부분 문자열로 주어집니다.\n",
        "# myString과 pat에 등장하는 알파벳은 대문자와 소문자를 구분합니다.\n",
        "\n",
        "# 입출력 예\n",
        "# myString\t          pat\t          result\n",
        "# \"AbCdEFG\"\t          \"dE\"\t        \"AbCdE\"\n",
        "# \"AAAAaaaa\"\t        \"a\"\t          \"AAAAaaaa\"\n",
        "\n",
        "# 입출력 예 설명\n",
        "# 입출력 예 #1\n",
        "# \"AbCdEFG\"에서 \"dE\"는 한 번 등장하며 처음부터 해당 위치까지 잘라내면 \"AbCdE\"가 됩니다.\n",
        "# 따라서 이 문자열이 \"dE\"로 끝나는 가장 긴 문자열이며, \"AbCdE\"를 return 합니다.\n",
        "\n",
        "# 입출력 예 #2\n",
        "# \"AAAAaaaa\"에서 \"a\"는 총 네 번 등장하며\n",
        "# 이 중 가장 마지막에 있는 위치까지 잘라내면 \"AAAAaaaa\"가 됩니다.\n",
        "# 따라서 이 문자열이 \"a\"로 끝나는 가장 긴 문자열이며, \"AAAAaaaa\"를 return 합니다."
      ]
    },
    {
      "cell_type": "code",
      "source": [
        "def solution(myString, pat):\n",
        "    answer = ''\n",
        "    for idx, s in enumerate(myString):\n",
        "      if myString[idx:idx+len(pat)] == pat:\n",
        "        answer = myString[:idx+len(pat)]\n",
        "    return answer"
      ],
      "metadata": {
        "id": "L5cXbrAS5bQn"
      },
      "execution_count": 9,
      "outputs": []
    },
    {
      "cell_type": "code",
      "source": [
        "myString = \"AbCdEFG\"\n",
        "pat = \"dE\"\n",
        "solution(myString, pat)"
      ],
      "metadata": {
        "colab": {
          "base_uri": "https://localhost:8080/",
          "height": 35
        },
        "id": "pKa-edVN5caF",
        "outputId": "9ecc9673-f79e-4bb1-995b-5c21d3669f72"
      },
      "execution_count": 10,
      "outputs": [
        {
          "output_type": "execute_result",
          "data": {
            "text/plain": [
              "'AbCdE'"
            ],
            "application/vnd.google.colaboratory.intrinsic+json": {
              "type": "string"
            }
          },
          "metadata": {},
          "execution_count": 10
        }
      ]
    },
    {
      "cell_type": "code",
      "source": [
        "myString = \"AAAAaaaa\"\n",
        "pat = \"a\"\n",
        "solution(myString, pat)"
      ],
      "metadata": {
        "colab": {
          "base_uri": "https://localhost:8080/",
          "height": 35
        },
        "id": "NH0ni5z05gZS",
        "outputId": "61c6e0b8-5750-4cd3-f0bf-42e7a7d5165d"
      },
      "execution_count": 11,
      "outputs": [
        {
          "output_type": "execute_result",
          "data": {
            "text/plain": [
              "'AAAAaaaa'"
            ],
            "application/vnd.google.colaboratory.intrinsic+json": {
              "type": "string"
            }
          },
          "metadata": {},
          "execution_count": 11
        }
      ]
    },
    {
      "cell_type": "code",
      "source": [
        "# 다른 사람 풀이"
      ],
      "metadata": {
        "id": "FmevWcr35gui"
      },
      "execution_count": 12,
      "outputs": []
    },
    {
      "cell_type": "code",
      "source": [
        "# rindex(), rfind() 함수라 신기하구만\n",
        "solution=lambda x,y:x[:x.rindex(y)+len(y)]"
      ],
      "metadata": {
        "id": "nf4VWDAL8Ysv"
      },
      "execution_count": 13,
      "outputs": []
    },
    {
      "cell_type": "code",
      "source": [
        "# 이런 느낌으로 다가\n",
        "def solution(myString, pat):\n",
        "    return myString[0:myString.rfind(pat)] + pat"
      ],
      "metadata": {
        "id": "uGijilgt8lIo"
      },
      "execution_count": 14,
      "outputs": []
    },
    {
      "cell_type": "code",
      "source": [
        "# 여러 방법이 있다\n",
        "def solution(myString, pat):\n",
        "    return myString[::-1][myString[::-1].index(pat[::-1]):][::-1]"
      ],
      "metadata": {
        "id": "UOU54Tcq8z7J"
      },
      "execution_count": null,
      "outputs": []
    }
  ]
}