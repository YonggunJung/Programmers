{
  "nbformat": 4,
  "nbformat_minor": 0,
  "metadata": {
    "colab": {
      "provenance": [],
      "authorship_tag": "ABX9TyOBKipg8dB0DBywJjECUs+Q",
      "include_colab_link": true
    },
    "kernelspec": {
      "name": "python3",
      "display_name": "Python 3"
    },
    "language_info": {
      "name": "python"
    }
  },
  "cells": [
    {
      "cell_type": "markdown",
      "metadata": {
        "id": "view-in-github",
        "colab_type": "text"
      },
      "source": [
        "<a href=\"https://colab.research.google.com/github/YonggunJung/Programmers/blob/main/%EC%B2%AB_%EB%B2%88%EC%A7%B8%EB%A1%9C_%EB%82%98%EC%98%A4%EB%8A%94_%EC%9D%8C%EC%88%98.ipynb\" target=\"_parent\"><img src=\"https://colab.research.google.com/assets/colab-badge.svg\" alt=\"Open In Colab\"/></a>"
      ]
    },
    {
      "cell_type": "code",
      "execution_count": 1,
      "metadata": {
        "id": "wAzW07wQhOgq"
      },
      "outputs": [],
      "source": [
        "# 문제 설명\n",
        "# 정수 리스트 num_list가 주어질 때,\n",
        "# 첫 번째로 나오는 음수의 인덱스를 return하도록 solution 함수를 완성해주세요.\n",
        "# 음수가 없다면 -1을 return합니다.\n",
        "\n",
        "# 제한사항\n",
        "# 5 ≤ num_list의 길이 ≤ 100\n",
        "# -10 ≤ num_list의 원소 ≤ 100\n",
        "\n",
        "# 입출력 예\n",
        "# num_list\t                        result\n",
        "# [12, 4, 15, 46, 38, -2, 15]\t        5\n",
        "# [13, 22, 53, 24, 15, 6]\t           -1\n",
        "\n",
        "# 입출력 예 설명\n",
        "# 입출력 예 #1\n",
        "# 5번 인덱스에서 음수가 처음 등장하므로 5를 return합니다.\n",
        "\n",
        "# 입출력 예 #2\n",
        "# 음수가 없으므로 -1을 return합니다."
      ]
    },
    {
      "cell_type": "code",
      "source": [
        "def solution(num_list):\n",
        "    answer = -1\n",
        "    for i in range(len(num_list)):\n",
        "      if num_list[i] < 0:\n",
        "        answer = i\n",
        "        break\n",
        "    return answer"
      ],
      "metadata": {
        "id": "e5GHOKa1heCo"
      },
      "execution_count": 3,
      "outputs": []
    },
    {
      "cell_type": "code",
      "source": [
        "num_list = [12, 4, 15, 46, 38, -2, 15]\n",
        "solution(num_list)"
      ],
      "metadata": {
        "colab": {
          "base_uri": "https://localhost:8080/"
        },
        "id": "aFf1I3RyhfWm",
        "outputId": "b9884c2b-bfc5-48f1-858a-2be13d6246f9"
      },
      "execution_count": 4,
      "outputs": [
        {
          "output_type": "execute_result",
          "data": {
            "text/plain": [
              "5"
            ]
          },
          "metadata": {},
          "execution_count": 4
        }
      ]
    },
    {
      "cell_type": "code",
      "source": [
        "num_list = [13, 22, 53, 24, 15, 6]\n",
        "solution(num_list)"
      ],
      "metadata": {
        "colab": {
          "base_uri": "https://localhost:8080/"
        },
        "id": "xuuzcA6Bhj-i",
        "outputId": "dd9eb111-3d7c-4720-d5e5-3a946f5a9950"
      },
      "execution_count": 6,
      "outputs": [
        {
          "output_type": "execute_result",
          "data": {
            "text/plain": [
              "-1"
            ]
          },
          "metadata": {},
          "execution_count": 6
        }
      ]
    },
    {
      "cell_type": "code",
      "source": [
        "# 다른 사람 풀이"
      ],
      "metadata": {
        "id": "_Yli6c5whj8P"
      },
      "execution_count": 7,
      "outputs": []
    },
    {
      "cell_type": "code",
      "source": [
        "def solution(num_list):\n",
        "    return ([i for i in range(len(num_list)) if num_list[i] < 0] or [-1])[0]"
      ],
      "metadata": {
        "id": "w5Lf3GxfiC74"
      },
      "execution_count": 8,
      "outputs": []
    },
    {
      "cell_type": "code",
      "source": [
        "def solution(num_list):\n",
        "    return -1 if(len(list(filter(lambda x: x<0, num_list))) == 0) else num_list.index(list(filter(lambda x: x<0, num_list))[0])"
      ],
      "metadata": {
        "id": "Issv4MW8iUs3"
      },
      "execution_count": 9,
      "outputs": []
    },
    {
      "cell_type": "code",
      "source": [],
      "metadata": {
        "id": "rj2-1tjhiVKW"
      },
      "execution_count": null,
      "outputs": []
    }
  ]
}