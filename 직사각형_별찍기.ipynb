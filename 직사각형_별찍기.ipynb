{
  "nbformat": 4,
  "nbformat_minor": 0,
  "metadata": {
    "colab": {
      "provenance": [],
      "authorship_tag": "ABX9TyNopXklcq9i55cr7i7+PqDd",
      "include_colab_link": true
    },
    "kernelspec": {
      "name": "python3",
      "display_name": "Python 3"
    },
    "language_info": {
      "name": "python"
    }
  },
  "cells": [
    {
      "cell_type": "markdown",
      "metadata": {
        "id": "view-in-github",
        "colab_type": "text"
      },
      "source": [
        "<a href=\"https://colab.research.google.com/github/YonggunJung/Programmers/blob/main/%EC%A7%81%EC%82%AC%EA%B0%81%ED%98%95_%EB%B3%84%EC%B0%8D%EA%B8%B0.ipynb\" target=\"_parent\"><img src=\"https://colab.research.google.com/assets/colab-badge.svg\" alt=\"Open In Colab\"/></a>"
      ]
    },
    {
      "cell_type": "code",
      "source": [
        "# 문제 설명\n",
        "# 이 문제에는 표준 입력으로 두 개의 정수 n과 m이 주어집니다.\n",
        "# 별(*) 문자를 이용해 가로의 길이가 n,\n",
        "# 세로의 길이가 m인 직사각형 형태를 출력해보세요.\n",
        "\n",
        "# 제한 조건\n",
        "# n과 m은 각각 1000 이하인 자연수입니다.\n",
        "\n",
        "# 예시\n",
        "# 입력\n",
        "\n",
        "# 5 3\n",
        "# 출력\n",
        "\n",
        "# *****\n",
        "# *****\n",
        "# *****"
      ],
      "metadata": {
        "id": "ffKOdWeIpp3Q"
      },
      "execution_count": null,
      "outputs": []
    },
    {
      "cell_type": "code",
      "execution_count": 10,
      "metadata": {
        "colab": {
          "base_uri": "https://localhost:8080/"
        },
        "id": "q_D7urfhpnWN",
        "outputId": "98dfe55b-fdf8-4176-87e5-d4b95dbfea62"
      },
      "outputs": [
        {
          "output_type": "stream",
          "name": "stdout",
          "text": [
            "5 3\n",
            "*****\n",
            "*****\n",
            "*****\n",
            "\n"
          ]
        }
      ],
      "source": [
        "n, m = map(int, input().strip().split(' '))\n",
        "\n",
        "print(('*' * n + '\\n')*m)"
      ]
    },
    {
      "cell_type": "code",
      "source": [],
      "metadata": {
        "id": "rbAmrihbpzRX"
      },
      "execution_count": null,
      "outputs": []
    }
  ]
}