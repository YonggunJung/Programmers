{
  "nbformat": 4,
  "nbformat_minor": 0,
  "metadata": {
    "colab": {
      "provenance": [],
      "authorship_tag": "ABX9TyNguMhXm7e8UsbKCn+rPEGc",
      "include_colab_link": true
    },
    "kernelspec": {
      "name": "python3",
      "display_name": "Python 3"
    },
    "language_info": {
      "name": "python"
    }
  },
  "cells": [
    {
      "cell_type": "markdown",
      "metadata": {
        "id": "view-in-github",
        "colab_type": "text"
      },
      "source": [
        "<a href=\"https://colab.research.google.com/github/YonggunJung/Programmers/blob/main/%ED%8A%B9%EB%B3%84%ED%95%9C_%EC%9D%B4%EC%B0%A8%EC%9B%90_%EB%B0%B0%EC%97%B4_2.ipynb\" target=\"_parent\"><img src=\"https://colab.research.google.com/assets/colab-badge.svg\" alt=\"Open In Colab\"/></a>"
      ]
    },
    {
      "cell_type": "code",
      "execution_count": 1,
      "metadata": {
        "id": "vxDtZMXrQQtp"
      },
      "outputs": [],
      "source": [
        "# 문제 설명\n",
        "# n × n 크기의 이차원 배열 arr이 매개변수로 주어질 때,\n",
        "# arr이 다음을 만족하면 1을 아니라면 0을 return 하는 solution 함수를 작성해 주세요.\n",
        "\n",
        "# 0 ≤ i, j < n인 정수 i, j에 대하여 arr[i][j] = arr[j][i]\n",
        "# 제한사항\n",
        "# 1 ≤ arr의 길이 = arr의 원소의 길이 ≤ 100\n",
        "# 1 ≤ arr의 원소의 원소 ≤ 1,000\n",
        "# 모든 arr의 원소의 길이는 같습니다.\n",
        "\n",
        "# 입출력 예\n",
        "# arr\t                                                                                result\n",
        "# [[5, 192, 33], [192, 72, 95], [33, 95, 999]]\t                                        1\n",
        "# [[19, 498, 258, 587], [63, 93, 7, 754], [258, 7, 1000, 723], [587, 754, 723, 81]]\t    0\n",
        "\n",
        "# 입출력 예 설명\n",
        "# 입출력 예 #1\n",
        "# 예제 1번에서 문제의 조건이 잘 보이도록 표를 만들면 다음과 같습니다.\n",
        "\n",
        "# i\t    j\t    arr[i][j]\t    arr[j][i]\n",
        "# 0\t    0   \t   5\t             5\n",
        "# 0   \t1\t     192\t           192\n",
        "# 0\t    2\t      33\t            33\n",
        "# 1\t    0   \t 192\t           192\n",
        "# 1\t    1   \t  72              72\n",
        "# 1   \t2   \t  95\t            95\n",
        "# 2   \t0\t      33\t            33\n",
        "# 2\t    1\t      95\t            95\n",
        "# 2\t    2\t     999\t           999\n",
        "# 조건을 만족하므로 1을 return 합니다.\n",
        "\n",
        "# 입출력 예 #2\n",
        "# 예제 2번의 arr에서 arr[0][1] = 498 ≠ 63 = arr[1][0]이므로 조건을 만족하지 않습니다.\n",
        "# 따라서 0을 return 합니다."
      ]
    },
    {
      "cell_type": "code",
      "source": [
        "# 조금 생각 했음\n",
        "# 한번 비트니까 바로 됨\n",
        "def solution(arr):\n",
        "    answer = 1\n",
        "    for i in range(len(arr)):\n",
        "      for j in range(len(arr)):\n",
        "        if i != j and arr[i][j] != arr[j][i]:\n",
        "          answer = 0\n",
        "    return answer"
      ],
      "metadata": {
        "id": "4d7CFuNfQ4E5"
      },
      "execution_count": 30,
      "outputs": []
    },
    {
      "cell_type": "code",
      "source": [
        "arr = [[5, 192, 33], [192, 72, 95], [33, 95, 999]]\n",
        "solution(arr)"
      ],
      "metadata": {
        "colab": {
          "base_uri": "https://localhost:8080/"
        },
        "id": "EOn3RZiJQ6Jw",
        "outputId": "0761c84b-332e-4cba-aab7-18def126a897"
      },
      "execution_count": 31,
      "outputs": [
        {
          "output_type": "execute_result",
          "data": {
            "text/plain": [
              "1"
            ]
          },
          "metadata": {},
          "execution_count": 31
        }
      ]
    },
    {
      "cell_type": "code",
      "source": [
        "arr = [[19, 498, 258, 587], [63, 93, 7, 754], [258, 7, 1000, 723], [587, 754, 723, 81]]\n",
        "solution(arr)\n"
      ],
      "metadata": {
        "colab": {
          "base_uri": "https://localhost:8080/"
        },
        "id": "2wgjRfNfQ6Hf",
        "outputId": "81b4ad48-a66b-45b3-8f33-483080c1914a"
      },
      "execution_count": 32,
      "outputs": [
        {
          "output_type": "execute_result",
          "data": {
            "text/plain": [
              "0"
            ]
          },
          "metadata": {},
          "execution_count": 32
        }
      ]
    },
    {
      "cell_type": "code",
      "source": [
        "# 다른 사람 코드"
      ],
      "metadata": {
        "id": "ymUIsZ6XUJch"
      },
      "execution_count": 33,
      "outputs": []
    },
    {
      "cell_type": "code",
      "source": [
        "# 와우 ㅋㅋㅋㅋ\n",
        "def solution(arr):\n",
        "    return int(arr == list(map(list, zip(*arr))))"
      ],
      "metadata": {
        "id": "ysvtxgWiVv9k"
      },
      "execution_count": 34,
      "outputs": []
    },
    {
      "cell_type": "code",
      "source": [
        "# 좀더 간단하게 되는 거였군\n",
        "def solution(arr):\n",
        "    answer = 0\n",
        "\n",
        "    for i in range(len(arr)):\n",
        "        for j in range(len(arr)):\n",
        "            if arr[i][j] != arr[j][i]:\n",
        "                return 0\n",
        "\n",
        "    return 1"
      ],
      "metadata": {
        "id": "OWp0org6V877"
      },
      "execution_count": 35,
      "outputs": []
    },
    {
      "cell_type": "code",
      "source": [
        "# 한줄 코드는 보면 알겠는데 구현은 못하겠음 ㅠㅠ\n",
        "def solution(arr):\n",
        "    return int(all(arr[i][j] == arr[j][i] for i in range(len(arr)) for j in range(len(arr))))"
      ],
      "metadata": {
        "id": "vSDVVUXiWFCD"
      },
      "execution_count": 36,
      "outputs": []
    },
    {
      "cell_type": "code",
      "source": [],
      "metadata": {
        "id": "M9aQUYgrWkC6"
      },
      "execution_count": null,
      "outputs": []
    }
  ]
}