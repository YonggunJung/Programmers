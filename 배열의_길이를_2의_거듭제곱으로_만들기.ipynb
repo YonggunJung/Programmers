{
  "nbformat": 4,
  "nbformat_minor": 0,
  "metadata": {
    "colab": {
      "provenance": [],
      "authorship_tag": "ABX9TyOv3fBzFKOnqtC821cPJcPX",
      "include_colab_link": true
    },
    "kernelspec": {
      "name": "python3",
      "display_name": "Python 3"
    },
    "language_info": {
      "name": "python"
    }
  },
  "cells": [
    {
      "cell_type": "markdown",
      "metadata": {
        "id": "view-in-github",
        "colab_type": "text"
      },
      "source": [
        "<a href=\"https://colab.research.google.com/github/YonggunJung/Programmers/blob/main/%EB%B0%B0%EC%97%B4%EC%9D%98_%EA%B8%B8%EC%9D%B4%EB%A5%BC_2%EC%9D%98_%EA%B1%B0%EB%93%AD%EC%A0%9C%EA%B3%B1%EC%9C%BC%EB%A1%9C_%EB%A7%8C%EB%93%A4%EA%B8%B0.ipynb\" target=\"_parent\"><img src=\"https://colab.research.google.com/assets/colab-badge.svg\" alt=\"Open In Colab\"/></a>"
      ]
    },
    {
      "cell_type": "code",
      "execution_count": 1,
      "metadata": {
        "id": "u3WpVy8c8emH"
      },
      "outputs": [],
      "source": [
        "# 제 설명\n",
        "# 정수 배열 arr이 매개변수로 주어집니다.\n",
        "# arr의 길이가 2의 정수 거듭제곱이 되도록 arr 뒤에 정수 0을 추가하려고 합니다.\n",
        "# arr에 최소한의 개수로 0을 추가한 배열을 return 하는 solution 함수를 작성해 주세요.\n",
        "\n",
        "# 제한사항\n",
        "# 1 ≤ arr의 길이 ≤ 1,000\n",
        "# 1 ≤ arr의 원소 ≤ 1,000\n",
        "\n",
        "# 입출력 예\n",
        "# arr\t                      result\n",
        "# [1, 2, 3, 4, 5, 6]\t      [1, 2, 3, 4, 5, 6, 0, 0]\n",
        "# [58, 172, 746, 89]\t      [58, 172, 746, 89]\n",
        "\n",
        "# 입출력 예 설명\n",
        "# 입출력 예 #1\n",
        "# 예제 1번의 arr의 길이는 6입니다.\n",
        "# arr의 길이를 2의 정수 거듭제곱으로 만드는 방법은\n",
        "# 0을 2개, 10개, 26개,..., 추가하는 방법이 있고\n",
        "# 그중 최소한으로 0을 추가하는 방법은 2개를 추가하는 것입니다.\n",
        "# 따라서 [1, 2, 3, 4, 5, 6, 0, 0]을 return 합니다.\n",
        "\n",
        "# 입출력 예 #2\n",
        "# 예제 2번의 arr의 길이는 4이고 이미 2의 정수 거듭제곱입니다.\n",
        "# 따라서 뒤에 0을 추가하지 않아도 되므로 [58, 172, 746, 89]를 return 합니다."
      ]
    },
    {
      "cell_type": "code",
      "source": [
        "def solution(arr):\n",
        "    answer = arr\n",
        "    k = 1\n",
        "    while len(arr) > k:\n",
        "      k *= 2\n",
        "    while len(answer) < k:\n",
        "      answer.append(0)\n",
        "    return answer"
      ],
      "metadata": {
        "id": "9Qe2MSOf8rgK"
      },
      "execution_count": 2,
      "outputs": []
    },
    {
      "cell_type": "code",
      "source": [
        "arr = [1, 2, 3, 4, 5, 6]\n",
        "solution(arr)"
      ],
      "metadata": {
        "colab": {
          "base_uri": "https://localhost:8080/"
        },
        "id": "dzuurKzU8sRL",
        "outputId": "76324475-f442-47e1-c530-44d00ba3c9f4"
      },
      "execution_count": 3,
      "outputs": [
        {
          "output_type": "execute_result",
          "data": {
            "text/plain": [
              "[1, 2, 3, 4, 5, 6, 0, 0]"
            ]
          },
          "metadata": {},
          "execution_count": 3
        }
      ]
    },
    {
      "cell_type": "code",
      "source": [
        "arr = [58, 172, 746, 89]\n",
        "solution(arr)"
      ],
      "metadata": {
        "colab": {
          "base_uri": "https://localhost:8080/"
        },
        "id": "BED0MrfU8vUK",
        "outputId": "0d6dc562-0521-4f67-c462-613d35d5d422"
      },
      "execution_count": 4,
      "outputs": [
        {
          "output_type": "execute_result",
          "data": {
            "text/plain": [
              "[58, 172, 746, 89]"
            ]
          },
          "metadata": {},
          "execution_count": 4
        }
      ]
    },
    {
      "cell_type": "code",
      "source": [
        "# 다른 사람 풀이"
      ],
      "metadata": {
        "id": "yAkKqy0y8vSL"
      },
      "execution_count": 5,
      "outputs": []
    },
    {
      "cell_type": "code",
      "source": [
        "# 처음은 똑같고 나중은 다르고\n",
        "# 비슷한 생각 인듯\n",
        "def solution(arr):\n",
        "    a = 1\n",
        "    b = len(arr)\n",
        "    while a < b :\n",
        "        a *= 2\n",
        "    return arr + [0] * (a-b)"
      ],
      "metadata": {
        "id": "rnJIiqQ698_7"
      },
      "execution_count": 6,
      "outputs": []
    },
    {
      "cell_type": "code",
      "source": [
        "# bin()함수는 모르겠네 찾아 봐야겠음\n",
        "def solution(arr):\n",
        "    l = len(arr)\n",
        "    while bin(l).count('1') != 1:\n",
        "        l += l & (-l)\n",
        "    return arr + [0] * (l - len(arr))\n",
        "\n",
        "# 1. python hex (16진수)\n",
        "# 2. python oct (8진수)\n",
        "# 3. python bin (2진수)\n",
        "# 4. python int (x, 진수)"
      ],
      "metadata": {
        "id": "uUwNMUyp-G36"
      },
      "execution_count": 7,
      "outputs": []
    },
    {
      "cell_type": "code",
      "source": [
        "# 시프트 연산자 좋았다\n",
        "def solution(arr):\n",
        "    n = len(arr)\n",
        "    if n & (n - 1) == 0:\n",
        "        return arr\n",
        "    m = 1\n",
        "    while m < n:\n",
        "        m <<= 1\n",
        "    return arr + [0] * (m - n)"
      ],
      "metadata": {
        "id": "SbiKc8un-Q47"
      },
      "execution_count": null,
      "outputs": []
    }
  ]
}