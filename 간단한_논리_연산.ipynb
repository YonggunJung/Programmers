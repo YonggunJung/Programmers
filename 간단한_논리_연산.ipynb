{
  "nbformat": 4,
  "nbformat_minor": 0,
  "metadata": {
    "colab": {
      "provenance": [],
      "authorship_tag": "ABX9TyOyjy3kh1qCBBZduR3SuW69",
      "include_colab_link": true
    },
    "kernelspec": {
      "name": "python3",
      "display_name": "Python 3"
    },
    "language_info": {
      "name": "python"
    }
  },
  "cells": [
    {
      "cell_type": "markdown",
      "metadata": {
        "id": "view-in-github",
        "colab_type": "text"
      },
      "source": [
        "<a href=\"https://colab.research.google.com/github/YonggunJung/Programmers/blob/main/%EA%B0%84%EB%8B%A8%ED%95%9C_%EB%85%BC%EB%A6%AC_%EC%97%B0%EC%82%B0.ipynb\" target=\"_parent\"><img src=\"https://colab.research.google.com/assets/colab-badge.svg\" alt=\"Open In Colab\"/></a>"
      ]
    },
    {
      "cell_type": "code",
      "execution_count": 1,
      "metadata": {
        "id": "52bZ8-L-KB1C"
      },
      "outputs": [],
      "source": [
        "# 문제 설명\n",
        "# boolean 변수 x1, x2, x3, x4가 매개변수로 주어질 때,\n",
        "# 다음의 식의 true/false를 return 하는 solution 함수를 작성해 주세요.\n",
        "\n",
        "# (x1 ∨ x2) ∧ (x3 ∨ x4)\n",
        "# 입출력 예\n",
        "# x1\t      x2\t    x3\t    x4\t      result\n",
        "# false\t    true\t  true\t  true\t    true\n",
        "# true\t    false\t  false\t  false\t    false\n",
        "\n",
        "# 입출력 예 설명\n",
        "# 입출력 예 #1\n",
        "# 예제 1번의 x1, x2, x3, x4로 식을 계산하면 다음과 같습니다.\n",
        "\n",
        "# (x1 ∨ x2) ∧ (x3 ∨ x4) ≡ (F ∨ T) ∧ (T ∨ T) ≡ T ∧ T ≡ T\n",
        "\n",
        "# 따라서 true를 return 합니다.\n",
        "\n",
        "# 입출력 예 #2\n",
        "# 예제 2번의 x1, x2, x3, x4로 식을 계산하면 다음과 같습니다.\n",
        "# (x1 ∨ x2) ∧ (x3 ∨ x4) ≡ (T ∨ F) ∧ (F ∨ F) ≡ T ∧ F ≡ F\n",
        "# 따라서 false를 return 합니다.\n",
        "\n",
        "# ∨과 ∧의 진리표는 다음과 같습니다.\n",
        "\n",
        "# x\t    y\t   x ∨ y\t    x ∧ y\n",
        "# T\t    T\t     T\t          T\n",
        "# T \t  F\t     T\t          F\n",
        "# F\t    T\t     T\t          F\n",
        "# F\t    F\t     F\t          F"
      ]
    },
    {
      "cell_type": "code",
      "source": [
        "# 무슨 문제인지 모르겠음\n",
        "# 풀이 보니까 의도는 알겠는데 설명을 진짜 이상하게 해놨네\n",
        "def solution(x1, x2, x3, x4):\n",
        "\n",
        "    return True if (x1 or x2) and (x3 or x4) else False"
      ],
      "metadata": {
        "id": "zxm-rQB0KewG"
      },
      "execution_count": 4,
      "outputs": []
    },
    {
      "cell_type": "code",
      "source": [
        "x1 = False\n",
        "x2 = True\n",
        "x3 = True\n",
        "x4 = True\n",
        "solution(x1, x2, x3, x4)"
      ],
      "metadata": {
        "colab": {
          "base_uri": "https://localhost:8080/"
        },
        "id": "YNOvi5lzKiSE",
        "outputId": "31e9be0d-2793-42e7-df3f-d94783de01b7"
      },
      "execution_count": 5,
      "outputs": [
        {
          "output_type": "execute_result",
          "data": {
            "text/plain": [
              "True"
            ]
          },
          "metadata": {},
          "execution_count": 5
        }
      ]
    },
    {
      "cell_type": "code",
      "source": [
        "x1 = True\n",
        "x2 = False\n",
        "x3 = False\n",
        "x4 = False\n",
        "solution(x1, x2, x3, x4)"
      ],
      "metadata": {
        "colab": {
          "base_uri": "https://localhost:8080/"
        },
        "id": "hj85YAWzKx1T",
        "outputId": "7d673789-c87a-4cd5-feed-19a96b72db89"
      },
      "execution_count": 6,
      "outputs": [
        {
          "output_type": "execute_result",
          "data": {
            "text/plain": [
              "False"
            ]
          },
          "metadata": {},
          "execution_count": 6
        }
      ]
    },
    {
      "cell_type": "code",
      "source": [
        "# 다른 사람 풀이"
      ],
      "metadata": {
        "id": "VOSvMILCKxzY"
      },
      "execution_count": 3,
      "outputs": []
    },
    {
      "cell_type": "code",
      "source": [
        "def solution(x1, x2, x3, x4):\n",
        "    return (x1 | x2) & (x3 | x4)"
      ],
      "metadata": {
        "id": "YD5gnfMwK_y4"
      },
      "execution_count": 7,
      "outputs": []
    },
    {
      "cell_type": "code",
      "source": [],
      "metadata": {
        "id": "-SALRbWrMBFl"
      },
      "execution_count": null,
      "outputs": []
    }
  ]
}