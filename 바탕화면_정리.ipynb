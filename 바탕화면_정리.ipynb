{
  "nbformat": 4,
  "nbformat_minor": 0,
  "metadata": {
    "colab": {
      "provenance": [],
      "authorship_tag": "ABX9TyNP0W7frZU2XrLj6TqDZJor",
      "include_colab_link": true
    },
    "kernelspec": {
      "name": "python3",
      "display_name": "Python 3"
    },
    "language_info": {
      "name": "python"
    }
  },
  "cells": [
    {
      "cell_type": "markdown",
      "metadata": {
        "id": "view-in-github",
        "colab_type": "text"
      },
      "source": [
        "<a href=\"https://colab.research.google.com/github/YonggunJung/Programmers/blob/main/%EB%B0%94%ED%83%95%ED%99%94%EB%A9%B4_%EC%A0%95%EB%A6%AC.ipynb\" target=\"_parent\"><img src=\"https://colab.research.google.com/assets/colab-badge.svg\" alt=\"Open In Colab\"/></a>"
      ]
    },
    {
      "cell_type": "code",
      "execution_count": 1,
      "metadata": {
        "id": "5LJCLO5uBATK"
      },
      "outputs": [],
      "source": [
        "# 문제 설명\n",
        "# 코딩테스트를 준비하는 머쓱이는 프로그래머스에서 문제를 풀고\n",
        "# 나중에 다시 코드를 보면서 공부하려고\n",
        "# 작성한 코드를 컴퓨터 바탕화면에 아무 위치에나 저장해 둡니다.\n",
        "# 저장한 코드가 많아지면서\n",
        "# 머쓱이는 본인의 컴퓨터 바탕화면이 너무 지저분하다고 생각했습니다.\n",
        "# 프로그래머스에서 작성했던 코드는 그 문제에 가서 다시 볼 수 있기 때문에\n",
        "# 저장해 둔 파일들을 전부 삭제하기로 했습니다.\n",
        "\n",
        "# 컴퓨터 바탕화면은 각 칸이 정사각형인 격자판입니다.\n",
        "# 이때 컴퓨터 바탕화면의 상태를 나타낸 문자열 배열 wallpaper가 주어집니다.\n",
        "# 파일들은 바탕화면의 격자칸에 위치하고\n",
        "# 바탕화면의 격자점들은 바탕화면의 가장 왼쪽 위를 (0, 0)으로 시작해\n",
        "#  (세로 좌표, 가로 좌표)로 표현합니다.\n",
        "#  빈칸은 \".\", 파일이 있는 칸은 \"#\"의 값을 가집니다.\n",
        "#  드래그를 하면 파일들을 선택할 수 있고, 선택된 파일들을 삭제할 수 있습니다.\n",
        "#  머쓱이는 최소한의 이동거리를 갖는 한 번의 드래그로 모든 파일을 선택해서\n",
        "#  한 번에 지우려고 하며 드래그로 파일들을 선택하는 방법은 다음과 같습니다.\n",
        "\n",
        "# 드래그는 바탕화면의 격자점 S(lux, luy)를\n",
        "# 마우스 왼쪽 버튼으로 클릭한 상태로 격자점 E(rdx, rdy)로 이동한 뒤\n",
        "# 마우스 왼쪽 버튼을 떼는 행동입니다.\n",
        "# 이때, \"점 S에서 점 E로 드래그한다\"고 표현하고\n",
        "# 점 S와 점 E를 각각 드래그의 시작점, 끝점이라고 표현합니다.\n",
        "\n",
        "# 점 S(lux, luy)에서 점 E(rdx, rdy)로 드래그를 할 때,\n",
        "# \"드래그 한 거리\"는 |rdx - lux| + |rdy - luy|로 정의합니다.\n",
        "\n",
        "# 점 S에서 점 E로 드래그를 하면 바탕화면에서\n",
        "# 두 격자점을 각각 왼쪽 위, 오른쪽 아래로 하는 직사각형\n",
        "# 내부에 있는 모든 파일이 선택됩니다.\n",
        "\n",
        "# 예를 들어 wallpaper = [\".#...\", \"..#..\", \"...#.\"]인\n",
        "# 바탕화면을 그림으로 나타내면 다음과 같습니다.\n",
        "# eg1.png\n",
        "# 이러한 바탕화면에서 다음 그림과 같이 S(0, 1)에서 E(3, 4)로 드래그하면\n",
        "# 세 개의 파일이 모두 선택되므로 드래그 한 거리 (3 - 0) + (4 - 1) = 6을 최솟값으로\n",
        "# 모든 파일을 선택 가능합니다.\n",
        "# eg1-2.png\n",
        "# (0, 0)에서 (3, 5)로 드래그해도 모든 파일을 선택할 수 있지만\n",
        "# 이때 드래그 한 거리는 (3 - 0) + (5 - 0) = 8이고 이전의 방법보다 거리가 늘어납니다.\n",
        "\n",
        "# 머쓱이의 컴퓨터 바탕화면의 상태를 나타내는 문자열 배열 wallpaper가\n",
        "# 매개변수로 주어질 때\n",
        "# 바탕화면의 파일들을 한 번에 삭제하기 위해\n",
        "# 최소한의 이동거리를 갖는 드래그의 시작점과 끝점을 담은 정수 배열을\n",
        "# return하는 solution 함수를 작성해 주세요.\n",
        "# 드래그의 시작점이 (lux, luy), 끝점이 (rdx, rdy)라면\n",
        "# 정수 배열 [lux, luy, rdx, rdy]를 return하면 됩니다.\n",
        "\n",
        "# 제한사항\n",
        "# 1 ≤ wallpaper의 길이 ≤ 50\n",
        "# 1 ≤ wallpaper[i]의 길이 ≤ 50\n",
        "# wallpaper의 모든 원소의 길이는 동일합니다.\n",
        "# wallpaper[i][j]는 바탕화면에서 i + 1행 j + 1열에 해당하는 칸의 상태를 나타냅니다.\n",
        "# wallpaper[i][j]는 \"#\" 또는 \".\"의 값만 가집니다.\n",
        "# 바탕화면에는 적어도 하나의 파일이 있습니다.\n",
        "# 드래그 시작점 (lux, luy)와 끝점 (rdx, rdy)는 lux < rdx, luy < rdy를 만족해야 합니다.\n",
        "\n",
        "# 입출력 예\n",
        "# wallpaper\t                                                                                      result\n",
        "# [\".#...\", \"..#..\", \"...#.\"]\t                                                                    [0, 1, 3, 4]\n",
        "# [\"..........\", \".....#....\", \"......##..\", \"...##.....\", \"....#.....\"]\t                        [1, 3, 5, 8]\n",
        "# [\".##...##.\", \"#..#.#..#\", \"#...#...#\", \".#.....#.\", \"..#...#..\", \"...#.#...\", \"....#....\"]\t    [0, 0, 7, 9]\n",
        "# [\"..\", \"#.\"]\t                                                                                  [1, 0, 2, 1]\n",
        "\n",
        "# 입출력 예 설명\n",
        "# 입출력 예 #1\n",
        "# 문제 설명의 예시와 같은 예제입니다.\n",
        "#  (0, 1)에서 (3, 4)로 드래그 하면 모든 파일을 선택할 수 있고\n",
        "#  드래그 한 거리는 6이었고,\n",
        "#  6보다 적은 거리로 모든 파일을 선택하는 방법은 없습니다.\n",
        "#  따라서 [0, 1, 3, 4]를 return합니다.\n",
        "\n",
        "# 입출력 예 #2\n",
        "# 예제 2번의 바탕화면은 다음과 같습니다.\n",
        "# eg2.png\n",
        "# (1, 3)에서 (5, 8)로 드래그하면 모든 파일을 선택할 수 있고\n",
        "# 이보다 적은 이동거리로 모든 파일을 선택하는 방법은 없습니다.\n",
        "# 따라서 가장 적은 이동의 드래그로 모든 파일을 선택하는 방법인\n",
        "#  [1, 3, 5, 8]을 return합니다.\n",
        "\n",
        "# 입출력 예 #3\n",
        "# 예제 3번의 바탕화면은 다음과 같습니다.\n",
        "# eg3.png\n",
        "# 모든 파일을 선택하기 위해선 바탕화면의 가장 왼쪽 위 (0, 0)에서\n",
        "# 가장 오른쪽 아래 (7, 9)로 드래그 해야만 합니다.\n",
        "# 따라서 [0, 0, 7, 9]를 return합니다.\n",
        "\n",
        "# 입출력 예 #4\n",
        "# 예제 4번의 바탕화면은 다음과 같이 2행 1열에만 아이콘이 있습니다.\n",
        "# eg4.png\n",
        "# 이를 드래그로 선택하기 위해서는 그 칸의 왼쪽 위 (1, 0)에서\n",
        "# 오른쪽 아래 (2, 1)로 드래그 하면 됩니다.\n",
        "#  (1, 0)에서 (2, 2)로 드래그 해도 아이콘을 선택할 수 있지만\n",
        "#  이전보다 이동거리가 늘어납니다. 따라서 [1, 0, 2, 1]을 return합니다.\n"
      ]
    },
    {
      "cell_type": "code",
      "source": [
        "def solution(wallpaper):\n",
        "    answer = [0 for _ in range(4)]\n",
        "    sx = 100\n",
        "    sy = 100\n",
        "    ex = 0\n",
        "    ey = 0\n",
        "    for idy, y in enumerate(wallpaper):\n",
        "      if \"#\" in y:\n",
        "        if sy > idy:\n",
        "          sy = idy\n",
        "        ey = idy+1\n",
        "        for idx, x in enumerate(y):\n",
        "          if x == \"#\":\n",
        "            if sx > idx:\n",
        "              sx = idx\n",
        "            if ex < idx+1:\n",
        "              ex = idx+1\n",
        "    answer[0] = sy\n",
        "    answer[1] = sx\n",
        "    answer[2] = ey\n",
        "    answer[3] = ex\n",
        "\n",
        "\n",
        "    return answer"
      ],
      "metadata": {
        "id": "oT9FyURrBsAP"
      },
      "execution_count": 3,
      "outputs": []
    },
    {
      "cell_type": "code",
      "source": [
        "\n",
        "# 다른 사람 풀이\n",
        "# 나름 간단하게 했다 생각 했는데 내 생각일 뿐\n",
        "def solution(wall):\n",
        "    a, b = [], []\n",
        "    for i in range(len(wall)):\n",
        "        for j in range(len(wall[i])):\n",
        "            if wall[i][j] == \"#\":\n",
        "                a.append(i)\n",
        "                b.append(j)\n",
        "    return [min(a), min(b), max(a) + 1, max(b) + 1]"
      ],
      "metadata": {
        "id": "CIctfnEJDU9H"
      },
      "execution_count": 4,
      "outputs": []
    },
    {
      "cell_type": "code",
      "source": [],
      "metadata": {
        "id": "YV0fpspvGpLg"
      },
      "execution_count": null,
      "outputs": []
    }
  ]
}