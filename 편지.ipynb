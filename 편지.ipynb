{
  "nbformat": 4,
  "nbformat_minor": 0,
  "metadata": {
    "colab": {
      "provenance": [],
      "authorship_tag": "ABX9TyNtc0HtOTxZ0alAywzC6reW",
      "include_colab_link": true
    },
    "kernelspec": {
      "name": "python3",
      "display_name": "Python 3"
    },
    "language_info": {
      "name": "python"
    }
  },
  "cells": [
    {
      "cell_type": "markdown",
      "metadata": {
        "id": "view-in-github",
        "colab_type": "text"
      },
      "source": [
        "<a href=\"https://colab.research.google.com/github/YonggunJung/Programmers/blob/main/%ED%8E%B8%EC%A7%80.ipynb\" target=\"_parent\"><img src=\"https://colab.research.google.com/assets/colab-badge.svg\" alt=\"Open In Colab\"/></a>"
      ]
    },
    {
      "cell_type": "code",
      "execution_count": null,
      "metadata": {
        "id": "NEhyTtm3IZLE"
      },
      "outputs": [],
      "source": [
        "# 문제 설명\n",
        "# 머쓱이는 할머니께 생신 축하 편지를 쓰려고 합니다.\n",
        "# 할머니가 보시기 편하도록 글자 한 자 한 자를 가로 2cm 크기로 적으려고 하며,\n",
        "# 편지를 가로로만 적을 때,\n",
        "# 축하 문구 message를 적기 위해 필요한 편지지의 최소 가로길이를 return 하도록\n",
        "# solution 함수를 완성해주세요.\n",
        "\n",
        "# 제한사항\n",
        "# 공백도 하나의 문자로 취급합니다.\n",
        "# 1 ≤ message의 길이 ≤ 50\n",
        "# 편지지의 여백은 생각하지 않습니다.\n",
        "# message는 영문 알파벳 대소문자, ‘!’, ‘~’ 또는 공백으로만 이루어져 있습니다.\n",
        "\n",
        "# 입출력 예\n",
        "# message\t              result\n",
        "# \"happy birthday!\"\t      30\n",
        "# \"I love you~\"\t          22\n",
        "\n",
        "# 입출력 예 설명\n",
        "# 입출력 예 #1\n",
        "# message의 글자 수가 15개로 최소 가로 30cm의 편지지가 필요합니다.\n",
        "\n",
        "# 입출력 예 #2\n",
        "# message의 글자 수가 11개로 최소 가로 22cm의 편지지가 필요합니다."
      ]
    },
    {
      "cell_type": "code",
      "source": [
        "#  글자크기가 2cm 라는걸 생각 해야함\n",
        "def solution(message):\n",
        "    answer = len(message) * 2\n",
        "    return answer"
      ],
      "metadata": {
        "id": "KkVJLJu7IbD4"
      },
      "execution_count": 6,
      "outputs": []
    },
    {
      "cell_type": "code",
      "source": [
        "solution(\"happy birthday!\")"
      ],
      "metadata": {
        "colab": {
          "base_uri": "https://localhost:8080/"
        },
        "id": "FacobJY-Iwog",
        "outputId": "b3ff553d-6920-44f4-dc60-7c9dae82adac"
      },
      "execution_count": 7,
      "outputs": [
        {
          "output_type": "execute_result",
          "data": {
            "text/plain": [
              "30"
            ]
          },
          "metadata": {},
          "execution_count": 7
        }
      ]
    },
    {
      "cell_type": "code",
      "source": [
        "solution(\"I love you~\")"
      ],
      "metadata": {
        "colab": {
          "base_uri": "https://localhost:8080/"
        },
        "id": "Sp6UCbjeJBmu",
        "outputId": "57db52bb-3196-460d-8ddc-084690ca4a37"
      },
      "execution_count": 8,
      "outputs": [
        {
          "output_type": "execute_result",
          "data": {
            "text/plain": [
              "22"
            ]
          },
          "metadata": {},
          "execution_count": 8
        }
      ]
    },
    {
      "cell_type": "code",
      "source": [
        "# 다른사람들 풀이"
      ],
      "metadata": {
        "id": "XUsruEgTJxq3"
      },
      "execution_count": null,
      "outputs": []
    },
    {
      "cell_type": "code",
      "source": [
        "# 비트 연산\n",
        "def solution(message):\n",
        "    return len(message)<<1"
      ],
      "metadata": {
        "id": "9nN1ise2J86_"
      },
      "execution_count": 9,
      "outputs": []
    },
    {
      "cell_type": "code",
      "source": [],
      "metadata": {
        "id": "7rB1N-MiKAfX"
      },
      "execution_count": null,
      "outputs": []
    }
  ]
}