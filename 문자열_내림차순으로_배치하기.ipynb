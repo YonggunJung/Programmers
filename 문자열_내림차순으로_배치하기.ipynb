{
  "nbformat": 4,
  "nbformat_minor": 0,
  "metadata": {
    "colab": {
      "provenance": [],
      "authorship_tag": "ABX9TyPNdaWjnAK5BMJI8/yKhyO8",
      "include_colab_link": true
    },
    "kernelspec": {
      "name": "python3",
      "display_name": "Python 3"
    },
    "language_info": {
      "name": "python"
    }
  },
  "cells": [
    {
      "cell_type": "markdown",
      "metadata": {
        "id": "view-in-github",
        "colab_type": "text"
      },
      "source": [
        "<a href=\"https://colab.research.google.com/github/YonggunJung/Programmers/blob/main/%EB%AC%B8%EC%9E%90%EC%97%B4_%EB%82%B4%EB%A6%BC%EC%B0%A8%EC%88%9C%EC%9C%BC%EB%A1%9C_%EB%B0%B0%EC%B9%98%ED%95%98%EA%B8%B0.ipynb\" target=\"_parent\"><img src=\"https://colab.research.google.com/assets/colab-badge.svg\" alt=\"Open In Colab\"/></a>"
      ]
    },
    {
      "cell_type": "code",
      "execution_count": 1,
      "metadata": {
        "id": "JF8Fq_8P_kEY"
      },
      "outputs": [],
      "source": [
        "# 문제 설명\n",
        "# 문자열 s에 나타나는 문자를 큰것부터 작은 순으로 정렬해\n",
        "# 새로운 문자열을 리턴하는 함수, solution을 완성해주세요.\n",
        "# s는 영문 대소문자로만 구성되어 있으며,\n",
        "# 대문자는 소문자보다 작은 것으로 간주합니다.\n",
        "\n",
        "# 제한 사항\n",
        "# str은 길이 1 이상인 문자열입니다.\n",
        "\n",
        "# 입출력 예\n",
        "# s\t              return\n",
        "# \"Zbcdefg\"\t      \"gfedcbZ\""
      ]
    },
    {
      "cell_type": "code",
      "source": [
        "def solution(s):\n",
        "    answer = \"\"\n",
        "    a = sorted(s, reverse=True)\n",
        "    for c in a:\n",
        "      answer += c\n",
        "    return answer"
      ],
      "metadata": {
        "id": "ejhTiPhy_qQH"
      },
      "execution_count": 2,
      "outputs": []
    },
    {
      "cell_type": "code",
      "source": [
        "# 다른 사람 풀이\n",
        "# 이게 생각이 안나네\n",
        "def solution(s):\n",
        "    return ''.join(sorted(s, reverse=True))"
      ],
      "metadata": {
        "id": "nKp2FOtFBlN9"
      },
      "execution_count": null,
      "outputs": []
    }
  ]
}