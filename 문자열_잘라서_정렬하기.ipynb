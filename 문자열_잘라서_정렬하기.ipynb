{
  "nbformat": 4,
  "nbformat_minor": 0,
  "metadata": {
    "colab": {
      "provenance": [],
      "authorship_tag": "ABX9TyMxdwNYKUWBBY/4TZPj6IaG",
      "include_colab_link": true
    },
    "kernelspec": {
      "name": "python3",
      "display_name": "Python 3"
    },
    "language_info": {
      "name": "python"
    }
  },
  "cells": [
    {
      "cell_type": "markdown",
      "metadata": {
        "id": "view-in-github",
        "colab_type": "text"
      },
      "source": [
        "<a href=\"https://colab.research.google.com/github/YonggunJung/Programmers/blob/main/%EB%AC%B8%EC%9E%90%EC%97%B4_%EC%9E%98%EB%9D%BC%EC%84%9C_%EC%A0%95%EB%A0%AC%ED%95%98%EA%B8%B0.ipynb\" target=\"_parent\"><img src=\"https://colab.research.google.com/assets/colab-badge.svg\" alt=\"Open In Colab\"/></a>"
      ]
    },
    {
      "cell_type": "code",
      "execution_count": 1,
      "metadata": {
        "id": "-puCFJO2QFUg"
      },
      "outputs": [],
      "source": [
        "# 문제 설명\n",
        "# 문자열 myString이 주어집니다.\n",
        "# \"x\"를 기준으로 해당 문자열을 잘라내 배열을 만든 후 사전순으로 정렬한 배열을\n",
        "# return 하는 solution 함수를 완성해 주세요.\n",
        "\n",
        "# 단, 빈 문자열은 반환할 배열에 넣지 않습니다.\n",
        "\n",
        "# 제한사항\n",
        "# 1 ≤ myString ≤ 100,000\n",
        "# myString은 알파벳 소문자로 이루어진 문자열입니다.\n",
        "\n",
        "# 입출력 예\n",
        "# myString\t            result\n",
        "# \"axbxcxdx\"\t          [\"a\",\"b\",\"c\",\"d\"]\n",
        "# \"dxccxbbbxaaaa\"\t      [\"aaaa\",\"bbb\",\"cc\",\"d\"]\n",
        "\n",
        "# 입출력 예 설명\n",
        "# 입출력 예 #1\n",
        "# myString을 \"x\"를 기준으로 자른 배열은 [\"a\",\"b\",\"c\",\"d\"]이며,\n",
        "# 이 배열은 이미 사전순으로 정렬된 상태입니다. 따라서 해당 배열을 return 합니다.\n",
        "\n",
        "# 입출력 예 #2\n",
        "# myString을 \"x\"를 기준으로 자른 배열은 [\"d\",\"cc\",\"bbb\",\"aaaa\"]이며,\n",
        "# 이 배열을 사전순으로 정렬하면 [\"aaaa\",\"bbb\",\"cc\",\"d\"]입니다.\n",
        "# 따라서 해당 배열을 return 합니다."
      ]
    },
    {
      "cell_type": "code",
      "source": [
        "def solution(myString):\n",
        "    answer = []\n",
        "    for s in myString.split('x'):\n",
        "      if len(s) == 0:\n",
        "        pass\n",
        "      else:\n",
        "        answer.append(s)\n",
        "\n",
        "    return sorted(answer)"
      ],
      "metadata": {
        "id": "MYccVP_FQMsM"
      },
      "execution_count": 10,
      "outputs": []
    },
    {
      "cell_type": "code",
      "source": [
        "myString = \"axbxcxdx\"\n",
        "solution(myString)"
      ],
      "metadata": {
        "colab": {
          "base_uri": "https://localhost:8080/"
        },
        "id": "mM_3zY4AQOTz",
        "outputId": "0f77c6a6-bd5c-4b5d-d778-a67627dc3dc8"
      },
      "execution_count": 11,
      "outputs": [
        {
          "output_type": "execute_result",
          "data": {
            "text/plain": [
              "['a', 'b', 'c', 'd']"
            ]
          },
          "metadata": {},
          "execution_count": 11
        }
      ]
    },
    {
      "cell_type": "code",
      "source": [
        "myString = \"dxccxbbbxaaaa\"\n",
        "solution(myString)"
      ],
      "metadata": {
        "colab": {
          "base_uri": "https://localhost:8080/"
        },
        "id": "r_Yen1lWQRnn",
        "outputId": "c2c163e6-0876-4086-d77d-0c81bae34a94"
      },
      "execution_count": 12,
      "outputs": [
        {
          "output_type": "execute_result",
          "data": {
            "text/plain": [
              "['aaaa', 'bbb', 'cc', 'd']"
            ]
          },
          "metadata": {},
          "execution_count": 12
        }
      ]
    },
    {
      "cell_type": "code",
      "source": [
        "# 다른 사람 풀이"
      ],
      "metadata": {
        "id": "Y76slbpIQRlI"
      },
      "execution_count": 13,
      "outputs": []
    },
    {
      "cell_type": "code",
      "source": [
        "# 이건 뭐지?\n",
        "def solution(myString):\n",
        "    return sorted(ch for ch in myString.split('x') if ch)"
      ],
      "metadata": {
        "id": "XAk0SdIKRpYu"
      },
      "execution_count": 14,
      "outputs": []
    },
    {
      "cell_type": "code",
      "source": [
        "# 이렇게 했으면 됐군\n",
        "def solution(myString):\n",
        "    return sorted([i for i in myString.split(\"x\") if len(i)!=0])"
      ],
      "metadata": {
        "id": "rssK-dSNR9oT"
      },
      "execution_count": 15,
      "outputs": []
    },
    {
      "cell_type": "code",
      "source": [],
      "metadata": {
        "id": "mQOURuxUSE7E"
      },
      "execution_count": null,
      "outputs": []
    }
  ]
}