{
  "nbformat": 4,
  "nbformat_minor": 0,
  "metadata": {
    "colab": {
      "provenance": [],
      "authorship_tag": "ABX9TyN5w2dEq3SgCR2O5oyNNes2",
      "include_colab_link": true
    },
    "kernelspec": {
      "name": "python3",
      "display_name": "Python 3"
    },
    "language_info": {
      "name": "python"
    }
  },
  "cells": [
    {
      "cell_type": "markdown",
      "metadata": {
        "id": "view-in-github",
        "colab_type": "text"
      },
      "source": [
        "<a href=\"https://colab.research.google.com/github/YonggunJung/Programmers/blob/main/%EB%B6%80%EC%A1%B1%ED%95%9C_%EA%B8%88%EC%95%A1_%EA%B3%84%EC%82%B0%ED%95%98%EA%B8%B0.ipynb\" target=\"_parent\"><img src=\"https://colab.research.google.com/assets/colab-badge.svg\" alt=\"Open In Colab\"/></a>"
      ]
    },
    {
      "cell_type": "code",
      "execution_count": 1,
      "metadata": {
        "id": "kM9bbYBJqrUy"
      },
      "outputs": [],
      "source": [
        "# 문제 설명\n",
        "# 새로 생긴 놀이기구는 인기가 매우 많아 줄이 끊이질 않습니다.\n",
        "# 이 놀이기구의 원래 이용료는 price원 인데, 놀이기구를 N 번 째 이용한다면 원래 이용료의 N배를 받기로 하였습니다.\n",
        "# 즉, 처음 이용료가 100이었다면 2번째에는 200, 3번째에는 300으로 요금이 인상됩니다.\n",
        "# 놀이기구를 count번 타게 되면 현재 자신이 가지고 있는 금액에서 얼마가 모자라는지를\n",
        "# return 하도록 solution 함수를 완성하세요.\n",
        "# 단, 금액이 부족하지 않으면 0을 return 하세요.\n",
        "\n",
        "# 제한사항\n",
        "# 놀이기구의 이용료 price : 1 ≤ price ≤ 2,500, price는 자연수\n",
        "# 처음 가지고 있던 금액 money : 1 ≤ money ≤ 1,000,000,000, money는 자연수\n",
        "# 놀이기구의 이용 횟수 count : 1 ≤ count ≤ 2,500, count는 자연수\n",
        "\n",
        "# 입출력 예\n",
        "# price\t  money\t  count\t    result\n",
        "# 3\t        20\t    4\t        10\n",
        "\n",
        "# 입출력 예 설명\n",
        "# 입출력 예 #1\n",
        "# 이용금액이 3인 놀이기구를 4번 타고 싶은 고객이 현재 가진 금액이 20이라면,\n",
        "# 총 필요한 놀이기구의 이용 금액은 30 (= 3+6+9+12) 이 되어 10만큼 부족하므로 10을 return 합니다.\n",
        "\n",
        "# 참고 사항\n",
        "# 미션 언어는 Java, JavaScript, Python3, C++ 만 해당 됩니다.\n",
        "# 같은 코드를 제출한 사람이 여럿이라면 코드를 가장 먼저 제출한 분께 상품을 드립니다.\n",
        "# 좋아요 수가 동일할 경우 코드를 가장 먼저 제출한 분께 상품을 드립니다."
      ]
    },
    {
      "cell_type": "code",
      "source": [
        "def solution(price, money, count):\n",
        "    for i in range (1, count+1):\n",
        "      money -= price * i\n",
        "    if money > 0:\n",
        "      return 0\n",
        "\n",
        "    return -(money)"
      ],
      "metadata": {
        "id": "AvkeGBoOq1I6"
      },
      "execution_count": 2,
      "outputs": []
    },
    {
      "cell_type": "code",
      "source": [],
      "metadata": {
        "id": "P0OAztiNrey9"
      },
      "execution_count": null,
      "outputs": []
    }
  ]
}