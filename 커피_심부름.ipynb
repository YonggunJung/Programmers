{
  "nbformat": 4,
  "nbformat_minor": 0,
  "metadata": {
    "colab": {
      "provenance": [],
      "authorship_tag": "ABX9TyOTkjcnUqZYN62e5aelFy9K",
      "include_colab_link": true
    },
    "kernelspec": {
      "name": "python3",
      "display_name": "Python 3"
    },
    "language_info": {
      "name": "python"
    }
  },
  "cells": [
    {
      "cell_type": "markdown",
      "metadata": {
        "id": "view-in-github",
        "colab_type": "text"
      },
      "source": [
        "<a href=\"https://colab.research.google.com/github/YonggunJung/Programmers/blob/main/%EC%BB%A4%ED%94%BC_%EC%8B%AC%EB%B6%80%EB%A6%84.ipynb\" target=\"_parent\"><img src=\"https://colab.research.google.com/assets/colab-badge.svg\" alt=\"Open In Colab\"/></a>"
      ]
    },
    {
      "cell_type": "code",
      "execution_count": 1,
      "metadata": {
        "id": "1tg-2KZSn0Ab"
      },
      "outputs": [],
      "source": [
        "# 문제 설명\n",
        "# 팀의 막내인 철수는 아메리카노와 카페 라테만 판매하는 카페에서\n",
        "# 팀원들의 커피를 사려고 합니다.\n",
        "# 아메리카노와 카페 라테의 가격은\n",
        "# 차가운 것과 뜨거운 것 상관없이 각각 4500, 5000원입니다.\n",
        "# 각 팀원에게 마실 메뉴를 적어달라고 하였고,\n",
        "# 그 중에서 메뉴만 적은 팀원의 것은 차가운 것으로 통일하고\n",
        "# \"아무거나\"를 적은 팀원의 것은 차가운 아메리카노로 통일하기로 하였습니다.\n",
        "\n",
        "# 각 직원이 적은 메뉴가 문자열 배열 order로 주어질 때,\n",
        "# 카페에서 결제하게 될 금액을 return 하는 solution 함수를 작성해주세요.\n",
        "# order의 원소는 아래의 것들만 들어오고, 각각의 의미는 다음과 같습니다.\n",
        "\n",
        "# order의 원소\t의미\n",
        "# \"iceamericano\", \"americanoice\"\t차가운 아메리카노\n",
        "# \"hotamericano\", \"americanohot\"\t따뜻한 아메리카노\n",
        "# \"icecafelatte\", \"cafelatteice\"\t차가운 카페 라테\n",
        "# \"hotcafelatte\", \"cafelattehot\"\t따뜻한 카페 라테\n",
        "# \"americano\"\t아메리카노\n",
        "# \"cafelatte\"\t카페 라테\n",
        "# \"anything\"\t아무거나\n",
        "\n",
        "# 제한사항\n",
        "# 1 ≤ order의 길이 ≤ 1,000\n",
        "\n",
        "# 입출력 예\n",
        "# order\t                                                        result\n",
        "# [\"cafelatte\", \"americanoice\", \"hotcafelatte\", \"anything\"]\t    19000\n",
        "# [\"americanoice\", \"americano\", \"iceamericano\"]\t                13500\n",
        "\n",
        "# 입출력 예 설명\n",
        "# 입출력 예 #1\n",
        "# 예제 1번의 입력을 표로 나타내면 다음과 같습니다.\n",
        "# order[i]\t팀원의 적은 음료\t실제 주문 음료\n",
        "# \"cafelatte\"\t카페 라테\t차가운 카페 라테\n",
        "# \"americanoice\"\t차가운 아메리카노\t차가운 아메리카노\n",
        "# \"hotcafelatte\"\t따뜻한 카페 라테\t따뜻한 카페 라테\n",
        "# \"anything\"\t아무거나\t차가운 아메리카노\n",
        "# 철수는 차가운 아메리카노 2잔,\n",
        "# 차가운 카페 라테 1잔,\n",
        "# 따뜻한 카페 라테 1잔을 주문하게 되므로\n",
        "# 결제 금액은 4500 × 2 + 5000 × 2 = 19000원입니다.\n",
        "# 따라서 19000을 return 합니다.\n",
        "\n",
        "# 입출력 예 #2\n",
        "# 예제 2번의 입력에서는 모든 음료를 차가운 아메리카노로 시키게 됩니다.\n",
        "# 따라서 결제 금액은 4500 × 3 = 13500원이고 13500을 return 합니다."
      ]
    },
    {
      "cell_type": "code",
      "source": [
        "def solution(order):\n",
        "    answer = 0\n",
        "    for coffee in order:\n",
        "      if \"americano\" in coffee:\n",
        "        answer += 4500\n",
        "      elif \"anything\" in coffee:\n",
        "        answer += 4500\n",
        "      elif \"cafelatte\" in coffee:\n",
        "        answer += 5000\n",
        "    return answer"
      ],
      "metadata": {
        "id": "CrHiid7yoHBk"
      },
      "execution_count": 15,
      "outputs": []
    },
    {
      "cell_type": "code",
      "source": [
        "order = [\"cafelatte\", \"americanoice\", \"hotcafelatte\", \"anything\"]\n",
        "solution(order)"
      ],
      "metadata": {
        "colab": {
          "base_uri": "https://localhost:8080/"
        },
        "id": "zBdrrfyjoI6r",
        "outputId": "8ec13cbb-fad2-4be6-f37d-341f5ba8f0e9"
      },
      "execution_count": 16,
      "outputs": [
        {
          "output_type": "execute_result",
          "data": {
            "text/plain": [
              "19000"
            ]
          },
          "metadata": {},
          "execution_count": 16
        }
      ]
    },
    {
      "cell_type": "code",
      "source": [
        "order = [\"americanoice\", \"americano\", \"iceamericano\"]\n",
        "solution(order)"
      ],
      "metadata": {
        "colab": {
          "base_uri": "https://localhost:8080/"
        },
        "id": "0fuHvNIioMoN",
        "outputId": "de84d5be-4099-40ee-9f9f-feed9d6496c4"
      },
      "execution_count": 17,
      "outputs": [
        {
          "output_type": "execute_result",
          "data": {
            "text/plain": [
              "13500"
            ]
          },
          "metadata": {},
          "execution_count": 17
        }
      ]
    },
    {
      "cell_type": "code",
      "source": [
        "# 다른 사람 풀이"
      ],
      "metadata": {
        "id": "zVR0Bhn2oMlW"
      },
      "execution_count": 18,
      "outputs": []
    },
    {
      "cell_type": "code",
      "source": [
        "def solution(order):\n",
        "    answer = 0\n",
        "    for want in order:\n",
        "        if 'latte' in want:\n",
        "            answer += 500\n",
        "        answer += 4500\n",
        "\n",
        "    return answer"
      ],
      "metadata": {
        "id": "CBJHTmJhpfb9"
      },
      "execution_count": 19,
      "outputs": []
    },
    {
      "cell_type": "code",
      "source": [
        "def solution(order):\n",
        "    answer=0\n",
        "    for i in order:\n",
        "        if \"latte\" in i: answer+=5000\n",
        "        else: answer+=4500\n",
        "    return answer"
      ],
      "metadata": {
        "id": "hzGmfvk9pivL"
      },
      "execution_count": 20,
      "outputs": []
    },
    {
      "cell_type": "code",
      "source": [],
      "metadata": {
        "id": "VnQzqxD5plvj"
      },
      "execution_count": null,
      "outputs": []
    }
  ]
}