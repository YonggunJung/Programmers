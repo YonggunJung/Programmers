{
  "nbformat": 4,
  "nbformat_minor": 0,
  "metadata": {
    "colab": {
      "provenance": [],
      "authorship_tag": "ABX9TyMnZEvLJLtARSavRp6isdaT",
      "include_colab_link": true
    },
    "kernelspec": {
      "name": "python3",
      "display_name": "Python 3"
    },
    "language_info": {
      "name": "python"
    }
  },
  "cells": [
    {
      "cell_type": "markdown",
      "metadata": {
        "id": "view-in-github",
        "colab_type": "text"
      },
      "source": [
        "<a href=\"https://colab.research.google.com/github/YonggunJung/Programmers/blob/main/2016%EB%85%84.ipynb\" target=\"_parent\"><img src=\"https://colab.research.google.com/assets/colab-badge.svg\" alt=\"Open In Colab\"/></a>"
      ]
    },
    {
      "cell_type": "code",
      "execution_count": 1,
      "metadata": {
        "id": "G2HzvU_CNLd8"
      },
      "outputs": [],
      "source": [
        "# 문제 설명\n",
        "# 2016년 1월 1일은 금요일입니다. 2016년 a월 b일은 무슨 요일일까요?\n",
        "# 두 수 a ,b를 입력받아 2016년 a월 b일이 무슨 요일인지 리턴하는 함수,\n",
        "# solution을 완성하세요. 요일의 이름은 일요일부터 토요일까지 각각 SUN,MON,TUE,WED,THU,FRI,SAT\n",
        "\n",
        "# 입니다. 예를 들어 a=5, b=24라면 5월 24일은 화요일이므로 문자열 \"TUE\"를 반환하세요.\n",
        "\n",
        "# 제한 조건\n",
        "# 2016년은 윤년입니다.\n",
        "# 2016년 a월 b일은 실제로 있는 날입니다.\n",
        "#  (13월 26일이나 2월 45일같은 날짜는 주어지지 않습니다)\n",
        "\n",
        "# 입출력 예\n",
        "# a\t    b\t    result\n",
        "# 5\t    24\t  \"TUE\""
      ]
    },
    {
      "cell_type": "code",
      "source": [
        "def solution(a, b):\n",
        "    answer = ''\n",
        "    days = ['THU','FRI','SAT','SUN','MON','TUE','WED']\n",
        "    dates = [31,29,31,30,31,30,31,31,30,31,30,31]\n",
        "    if a >1:\n",
        "      for i in range(a-1):\n",
        "        b += dates[i]\n",
        "    answer = days[b%7]\n",
        "    return answer"
      ],
      "metadata": {
        "id": "4HEZnyMXNRnc"
      },
      "execution_count": 2,
      "outputs": []
    },
    {
      "cell_type": "code",
      "source": [
        "# 다른사람 풀이\n",
        "# 이런게 있네 좋네\n",
        "def getDayName(a,b):\n",
        "    t = 'MON TUE WED THU FRI SAT SUN'.split()\n",
        "    return t[datetime.datetime(2016, a, b).weekday()]"
      ],
      "metadata": {
        "id": "oyjuBMd2OpCX"
      },
      "execution_count": 3,
      "outputs": []
    },
    {
      "cell_type": "code",
      "source": [],
      "metadata": {
        "id": "q1CeaJ-KOxcH"
      },
      "execution_count": null,
      "outputs": []
    }
  ]
}