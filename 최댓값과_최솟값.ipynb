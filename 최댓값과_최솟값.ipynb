{
  "nbformat": 4,
  "nbformat_minor": 0,
  "metadata": {
    "colab": {
      "provenance": [],
      "authorship_tag": "ABX9TyOe9Jec5Q7gWrrVd/Nm0Bkq",
      "include_colab_link": true
    },
    "kernelspec": {
      "name": "python3",
      "display_name": "Python 3"
    },
    "language_info": {
      "name": "python"
    }
  },
  "cells": [
    {
      "cell_type": "markdown",
      "metadata": {
        "id": "view-in-github",
        "colab_type": "text"
      },
      "source": [
        "<a href=\"https://colab.research.google.com/github/YonggunJung/Programmers/blob/main/%EC%B5%9C%EB%8C%93%EA%B0%92%EA%B3%BC_%EC%B5%9C%EC%86%9F%EA%B0%92.ipynb\" target=\"_parent\"><img src=\"https://colab.research.google.com/assets/colab-badge.svg\" alt=\"Open In Colab\"/></a>"
      ]
    },
    {
      "cell_type": "code",
      "execution_count": 1,
      "metadata": {
        "id": "NuUM-FMdYUxu"
      },
      "outputs": [],
      "source": [
        "# 문제 설명\n",
        "# 문자열 s에는 공백으로 구분된 숫자들이 저장되어 있습니다.\n",
        "# str에 나타나는 숫자 중 최소값과 최대값을 찾아\n",
        "# 이를 \"(최소값) (최대값)\"형태의 문자열을 반환하는 함수,\n",
        "# solution을 완성하세요.\n",
        "# 예를들어 s가 \"1 2 3 4\"라면 \"1 4\"를 리턴하고,\n",
        "# \"-1 -2 -3 -4\"라면 \"-4 -1\"을 리턴하면 됩니다.\n",
        "\n",
        "# 제한 조건\n",
        "# s에는 둘 이상의 정수가 공백으로 구분되어 있습니다.\n",
        "\n",
        "# 입출력 예\n",
        "# s\t                return\n",
        "# \"1 2 3 4\"\t        \"1 4\"\n",
        "# \"-1 -2 -3 -4\"\t    \"-4 -1\"\n",
        "# \"-1 -1\"\t          \"-1 -1\""
      ]
    },
    {
      "cell_type": "code",
      "source": [
        "def solution(s):\n",
        "    li = []\n",
        "    li2 = s.split(' ')\n",
        "    for num in li2:\n",
        "      li.append(int(num))\n",
        "    answer  = str(min(li)) + ' ' + str(max(li))\n",
        "\n",
        "    return answer"
      ],
      "metadata": {
        "id": "DPfke_DEYd0G"
      },
      "execution_count": 2,
      "outputs": []
    },
    {
      "cell_type": "code",
      "source": [
        "# 다른 사람 풀이\n",
        "# 오히려 간단한 문제들이 여러 풀이가 있는듯\n",
        "def solution(s):\n",
        "    s = list(map(int,s.split()))\n",
        "    return str(min(s)) + \" \" + str(max(s))"
      ],
      "metadata": {
        "id": "cKUZzRbjZrsP"
      },
      "execution_count": 3,
      "outputs": []
    },
    {
      "cell_type": "code",
      "source": [
        "# 이렇게도 가능\n",
        "def solution(s):\n",
        "    s_list=s.split(\" \")\n",
        "    n = [int(i) for i in s_list]\n",
        "    n.sort()\n",
        "\n",
        "    return str(n[0]) + \" \" + str(n[len(n)-1])"
      ],
      "metadata": {
        "id": "4PUocykwZs65"
      },
      "execution_count": null,
      "outputs": []
    }
  ]
}