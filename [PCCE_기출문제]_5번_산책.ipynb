{
  "nbformat": 4,
  "nbformat_minor": 0,
  "metadata": {
    "colab": {
      "provenance": [],
      "authorship_tag": "ABX9TyNrg4WpeQ0FGZIz2hStq8lK",
      "include_colab_link": true
    },
    "kernelspec": {
      "name": "python3",
      "display_name": "Python 3"
    },
    "language_info": {
      "name": "python"
    }
  },
  "cells": [
    {
      "cell_type": "markdown",
      "metadata": {
        "id": "view-in-github",
        "colab_type": "text"
      },
      "source": [
        "<a href=\"https://colab.research.google.com/github/YonggunJung/Programmers/blob/main/%5BPCCE_%EA%B8%B0%EC%B6%9C%EB%AC%B8%EC%A0%9C%5D_5%EB%B2%88_%EC%82%B0%EC%B1%85.ipynb\" target=\"_parent\"><img src=\"https://colab.research.google.com/assets/colab-badge.svg\" alt=\"Open In Colab\"/></a>"
      ]
    },
    {
      "cell_type": "code",
      "execution_count": 1,
      "metadata": {
        "id": "Pkg53cB4-66G"
      },
      "outputs": [],
      "source": [
        "# 문제 설명\n",
        "# 여름이는 강아지를 산책시키려고 합니다.\n",
        "# 여름이는 2차원 좌표평면에서 동/서/남/북 방향으로 1m 단위로 이동하면서\n",
        "# 강아지를 산책시킵니다.\n",
        "# 산책루트가 담긴 문자열 route가 주어질 때,\n",
        "# 도착점의 위치를 return하도록 빈칸을 채워 solution함수를 완성해 주세요.\n",
        "\n",
        "# route는 \"N\", \"S\", \"E\", \"W\"로 이루어져 있습니다.\n",
        "# \"N\"은 북쪽으로 1만큼 움직입니다.\n",
        "# \"S\"는 남쪽으로 1만큼 움직입니다. 북쪽으로 -1만큼 움직인 것과 같습니다.\n",
        "# \"E\"는 동쪽으로 1만큼 움직입니다.\n",
        "# \"W\"는 서쪽으로 1만큼 움직입니다. 동쪽으로 -1만큼 움직인 것과 같습니다.\n",
        "\n",
        "# 출발점으로부터 [동쪽으로 떨어진 거리, 북쪽으로 떨어진 거리]형태로\n",
        "# 강아지의 최종 위치를 구해서 return해야 합니다.\n",
        "# 출발점을 기준으로 서쪽,\n",
        "# 남쪽에 있는 경우는 동쪽,\n",
        "# 북쪽으로 음수만큼 떨어진 것으로 표현합니다.\n",
        "# 출발점으로부터 동쪽으로 2, 북쪽으로 3만큼 떨어졌다면 [2, 3]을 return 합니다.\n",
        "# 출발점으로부터 서쪽으로 1, 남쪽으로 4만큼 떨어졌다면 [-1, -4]를 return 합니다.\n",
        "\n",
        "# 제한사항\n",
        "# 1 ≤ route의 길이 ≤ 20\n",
        "# route는 \"N\", \"S\", \"E\", \"W\"로만 이루어져 있습니다.\n",
        "\n",
        "# 입출력 예\n",
        "# route\t                  result\n",
        "# \"NSSNEWWN\"\t            [-1, 1]\n",
        "# \"EESEEWNWSNWWNS\"\t      [0, 0]\n",
        "\n",
        "# 입출력 예 설명\n",
        "# 입출력 예 #1\n",
        "# \"NSSNEWWN\" 순서대로 움직이면 서쪽으로 1,\n",
        "# 북쪽으로 1만큼 떨어진 곳에 도착하게 되므로 [-1, 1]을 return합니다.\n",
        "\n",
        "# 입출력 예 #2\n",
        "# \"EESEEWNWSNWWNS\" 순서대로 움직이면 출발지와 같은 곳으로 돌아오므로 [0, 0]을\n",
        "# return합니다.\n",
        "\n",
        "# 빈칸 채우기 문제 안내\n",
        "# 빈칸 채우기는 이미 완성된 코드 중 빈칸에 알맞은 코드를 입력하는 문제 타입입니다.\n",
        "# 빈칸을 제외한 기본 코드는 수정할 수 없습니다.\n",
        "# 빈칸을 채우지 않을 경우, 실행 결과에 에러 메시지가 표시됩니다."
      ]
    },
    {
      "cell_type": "code",
      "source": [
        "# 문제\n",
        "# def solution(route):\n",
        "#     east = 0\n",
        "#     north = 0\n",
        "#     for i in route:\n",
        "#         if i == \"N\":\n",
        "#             north += 1\n",
        "#         elif i == \"S\" :\n",
        "#             빈칸1\n",
        "\n",
        "#         elif i == \"E\" :\n",
        "#             빈칸2\n",
        "\n",
        "#         elif i == 빈칸3:\n",
        "#             빈칸4\n",
        "\n",
        "#     return [east, north]"
      ],
      "metadata": {
        "id": "WXcpt_Sq_e1Q"
      },
      "execution_count": 3,
      "outputs": []
    },
    {
      "cell_type": "code",
      "source": [
        "def solution(route):\n",
        "    east = 0\n",
        "    north = 0\n",
        "    for i in route:\n",
        "        if i == \"N\":\n",
        "            north += 1\n",
        "        elif i == \"S\" :\n",
        "            north -= 1\n",
        "\n",
        "        elif i == \"E\" :\n",
        "            east += 1\n",
        "\n",
        "        elif i == \"W\":\n",
        "            east -= 1\n",
        "\n",
        "    return [east, north]"
      ],
      "metadata": {
        "id": "jpWMVTO1_rk2"
      },
      "execution_count": 6,
      "outputs": []
    },
    {
      "cell_type": "code",
      "source": [
        "route = \"NSSNEWWN\"\n",
        "solution(route)"
      ],
      "metadata": {
        "colab": {
          "base_uri": "https://localhost:8080/"
        },
        "id": "x5-G0ml1ARjK",
        "outputId": "df39ec62-6d0b-4d07-eba9-c42150d278d1"
      },
      "execution_count": 7,
      "outputs": [
        {
          "output_type": "execute_result",
          "data": {
            "text/plain": [
              "[-1, 1]"
            ]
          },
          "metadata": {},
          "execution_count": 7
        }
      ]
    },
    {
      "cell_type": "code",
      "source": [
        "route = \"EESEEWNWSNWWNS\"\n",
        "solution(route)"
      ],
      "metadata": {
        "colab": {
          "base_uri": "https://localhost:8080/"
        },
        "id": "I6C9E9HlAdRP",
        "outputId": "8c59ab97-1413-4207-89e7-e66aee7d1cfc"
      },
      "execution_count": 8,
      "outputs": [
        {
          "output_type": "execute_result",
          "data": {
            "text/plain": [
              "[0, 0]"
            ]
          },
          "metadata": {},
          "execution_count": 8
        }
      ]
    },
    {
      "cell_type": "code",
      "source": [
        "# 다른 사람 풀이"
      ],
      "metadata": {
        "id": "8tPHHQvwAdPD"
      },
      "execution_count": 9,
      "outputs": []
    },
    {
      "cell_type": "code",
      "source": [],
      "metadata": {
        "id": "AIhkMKTVAsku"
      },
      "execution_count": null,
      "outputs": []
    }
  ]
}