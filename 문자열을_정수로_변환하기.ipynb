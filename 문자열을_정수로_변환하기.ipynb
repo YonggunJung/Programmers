{
  "nbformat": 4,
  "nbformat_minor": 0,
  "metadata": {
    "colab": {
      "provenance": [],
      "authorship_tag": "ABX9TyOFq9rw5BzvmNGGkvN7J3hD",
      "include_colab_link": true
    },
    "kernelspec": {
      "name": "python3",
      "display_name": "Python 3"
    },
    "language_info": {
      "name": "python"
    }
  },
  "cells": [
    {
      "cell_type": "markdown",
      "metadata": {
        "id": "view-in-github",
        "colab_type": "text"
      },
      "source": [
        "<a href=\"https://colab.research.google.com/github/YonggunJung/Programmers/blob/main/%EB%AC%B8%EC%9E%90%EC%97%B4%EC%9D%84_%EC%A0%95%EC%88%98%EB%A1%9C_%EB%B3%80%ED%99%98%ED%95%98%EA%B8%B0.ipynb\" target=\"_parent\"><img src=\"https://colab.research.google.com/assets/colab-badge.svg\" alt=\"Open In Colab\"/></a>"
      ]
    },
    {
      "cell_type": "code",
      "execution_count": 1,
      "metadata": {
        "id": "i440rMlcjeOt"
      },
      "outputs": [],
      "source": [
        "# 문제 설명\n",
        "# 숫자로만 이루어진 문자열 n_str이 주어질 때,\n",
        "# n_str을 정수로 변환하여 return하도록 solution 함수를 완성해주세요.\n",
        "\n",
        "# 제한사항\n",
        "# 1 ≤ n_str ≤ 5\n",
        "# n_str은 0부터 9까지의 정수 문자로만 이루어져 있습니다.\n",
        "\n",
        "# 입출력 예\n",
        "# n_str   \t  result\n",
        "# \"10\"\t        10\n",
        "# \"8542\"\t     8542\n",
        "\n",
        "# 입출력 예 설명\n",
        "# 입출력 예 #1\n",
        "# \"10\"을 정수로 바꾸면 10입니다.\n",
        "\n",
        "# 입출력 예 #2\n",
        "# \"8542\"를 정수로 바꾸면 8542입니다."
      ]
    },
    {
      "cell_type": "code",
      "source": [
        "def solution(n_str):\n",
        "    answer = int(n_str)\n",
        "    return answer"
      ],
      "metadata": {
        "id": "JGXwMfY7jl2c"
      },
      "execution_count": 4,
      "outputs": []
    },
    {
      "cell_type": "code",
      "source": [
        "n_str = \"10\"\n",
        "solution(n_str)"
      ],
      "metadata": {
        "colab": {
          "base_uri": "https://localhost:8080/"
        },
        "id": "M8CVoUr1joZS",
        "outputId": "fc6b8b58-c9b5-47d5-c58a-97d13d1ccfdf"
      },
      "execution_count": 5,
      "outputs": [
        {
          "output_type": "execute_result",
          "data": {
            "text/plain": [
              "10"
            ]
          },
          "metadata": {},
          "execution_count": 5
        }
      ]
    },
    {
      "cell_type": "code",
      "source": [
        "n_str = \"8542\"\n",
        "solution(n_str)"
      ],
      "metadata": {
        "colab": {
          "base_uri": "https://localhost:8080/"
        },
        "id": "1eDacKTzjpyo",
        "outputId": "be74bbe0-d673-48d1-e431-eb9d3846d3a9"
      },
      "execution_count": 6,
      "outputs": [
        {
          "output_type": "execute_result",
          "data": {
            "text/plain": [
              "8542"
            ]
          },
          "metadata": {},
          "execution_count": 6
        }
      ]
    },
    {
      "cell_type": "code",
      "source": [
        "# 다른 사람 풀이"
      ],
      "metadata": {
        "id": "XdADx0VejqUO"
      },
      "execution_count": 3,
      "outputs": []
    },
    {
      "cell_type": "code",
      "source": [
        "solution = int"
      ],
      "metadata": {
        "id": "czOUZRThjrNU"
      },
      "execution_count": 7,
      "outputs": []
    },
    {
      "cell_type": "code",
      "source": [
        "solution = lambda x : int(x)"
      ],
      "metadata": {
        "id": "5CVvb5n4jzkj"
      },
      "execution_count": 8,
      "outputs": []
    },
    {
      "cell_type": "code",
      "source": [],
      "metadata": {
        "id": "gkqQvfs3j1Ui"
      },
      "execution_count": null,
      "outputs": []
    }
  ]
}