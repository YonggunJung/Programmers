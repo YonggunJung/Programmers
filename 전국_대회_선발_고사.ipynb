{
  "nbformat": 4,
  "nbformat_minor": 0,
  "metadata": {
    "colab": {
      "provenance": [],
      "authorship_tag": "ABX9TyOtKLQ+8YGxCuGhjYSYDEug",
      "include_colab_link": true
    },
    "kernelspec": {
      "name": "python3",
      "display_name": "Python 3"
    },
    "language_info": {
      "name": "python"
    }
  },
  "cells": [
    {
      "cell_type": "markdown",
      "metadata": {
        "id": "view-in-github",
        "colab_type": "text"
      },
      "source": [
        "<a href=\"https://colab.research.google.com/github/YonggunJung/Programmers/blob/main/%EC%A0%84%EA%B5%AD_%EB%8C%80%ED%9A%8C_%EC%84%A0%EB%B0%9C_%EA%B3%A0%EC%82%AC.ipynb\" target=\"_parent\"><img src=\"https://colab.research.google.com/assets/colab-badge.svg\" alt=\"Open In Colab\"/></a>"
      ]
    },
    {
      "cell_type": "code",
      "execution_count": 1,
      "metadata": {
        "id": "9DU34Jt7zgeb"
      },
      "outputs": [],
      "source": [
        "# 문제 설명\n",
        "# 0번부터 n - 1번까지 n명의 학생 중 3명을 선발하는 전국 대회 선발 고사를 보았습니다. 등수가 높은 3명을 선발해야 하지만, 개인 사정으로 전국 대회에 참여하지 못하는 학생들이 있어 참여가 가능한 학생 중 등수가 높은 3명을 선발하기로 했습니다.\n",
        "\n",
        "# 각 학생들의 선발 고사 등수를 담은 정수 배열 rank와\n",
        "# 전국 대회 참여 가능 여부가 담긴 boolean 배열 attendance가 매개변수로 주어집니다.\n",
        "# 전국 대회에 선발된 학생 번호들을 등수가 높은 순서대로 각각 a, b, c번이라고 할 때\n",
        "# 10000 × a + 100 × b + c를 return 하는 solution 함수를 작성해 주세요.\n",
        "\n",
        "# 제한사항\n",
        "# 3 ≤ rank의 길이 = attendance의 길이 ≤ 100\n",
        "# rank[i]는 i번 학생의 선발 고사 등수를 의미합니다.\n",
        "# rank의 원소는 1부터 n까지의 정수로 모두 서로 다릅니다.\n",
        "# attendance[i]는 i번 학생의 전국 대회 참석 가능 여부를 나타냅니다.\n",
        "# attendance[i]가 true라면 참석 가능, false면 참석 불가능을 의미합니다.\n",
        "# attendance의 원소 중 적어도 3개는 true입니다.\n",
        "\n",
        "# 입출력 예\n",
        "# rank\t                      attendance\t                                    result\n",
        "# [3, 7, 2, 5, 4, 6, 1]\t      [false, true, true, true, true, false, false] \t20403\n",
        "# [1, 2, 3]\t                  [true, true, true]\t                            102\n",
        "# [6, 1, 5, 2, 3, 4]\t        [true, false, true, false, false, true]       \t50200\n",
        "\n",
        "# 입출력 예 설명\n",
        "# 입출력 예 #1\n",
        "# 예제 1번에서 1등은 6번 학생이지만 전국 대회에 참석 불가능하므로 넘어갑니다.\n",
        "# 2등은 2번 학생이고 전국 대회에 참석 가능하므로 1순위로 선발됩니다.\n",
        "# 3등은 0번 학생이고 전국 대회에 참석 불가능 하므로 넘어갑니다.\n",
        "# 4등과 5등은 각각 4번, 3번 학생이고\n",
        "# 두 학생 모두 전국 대회에 참석 가능하므로 각각 2순위, 3순위로 선발됩니다.\n",
        "# 3명을 선발하였으므로 6등과 7등은 확인하지 않아도 됩니다.\n",
        "# 따라서 10000 × 2 + 100 × 4 + 3 = 20403을 return 합니다.\n",
        "\n",
        "# 입출력 예 #2\n",
        "# 예제 2번에서 1, 2, 3등은 각각 0번, 1번, 2번 학생이고\n",
        "# 세 학생 모두 전국 대회에 참석 가능하므로 각각 1순위, 2순위, 3순위로 선발됩니다.\n",
        "# 따라서 10000 × 0 + 100 × 1 + 2 = 102를 return 합니다.\n",
        "\n",
        "# 입출력 예 #3\n",
        "# 예제 3번에서 1, 2, 3등은 각각 1번, 3번, 4번 학생이지만\n",
        "# 세 학생 모두 전국 대회에 참석 불가능합니다.\n",
        "# 다음으로 4, 5, 6등은 각각 5번, 2번, 0번 학생이고\n",
        "# 세 학생 모두 전국 대회에 참석 가능하므로 각각 1순위, 2순위, 3순위로 선발됩니다.\n",
        "# 따라서 10000 × 5 + 100 × 2 + 0 = 50200을 return 합니다."
      ]
    },
    {
      "cell_type": "code",
      "source": [
        "def solution(rank, attendance):\n",
        "    answer = 0\n",
        "    l = []\n",
        "    for i in range(len(rank)):\n",
        "      if attendance[i] == 1:\n",
        "        l.append(rank[i])\n",
        "    l.sort()\n",
        "    sl = l[:3]\n",
        "    a = rank.index(sl[0])\n",
        "    b = rank.index(sl[1])\n",
        "    c = rank.index(sl[2])\n",
        "    answer =  10000 * a + 100 * b + c\n",
        "    return answer"
      ],
      "metadata": {
        "id": "eHAJLc-hz5k-"
      },
      "execution_count": 23,
      "outputs": []
    },
    {
      "cell_type": "code",
      "source": [
        "rank = [3, 7, 2, 5, 4, 6, 1]\n",
        "attendance = [False, True, True, True, True, False, False]\n",
        "solution(rank, attendance)\n"
      ],
      "metadata": {
        "colab": {
          "base_uri": "https://localhost:8080/"
        },
        "id": "wnH6QHExz7dE",
        "outputId": "c332c6b8-3007-434d-9a9a-49ad48e5ff5d"
      },
      "execution_count": 24,
      "outputs": [
        {
          "output_type": "execute_result",
          "data": {
            "text/plain": [
              "20403"
            ]
          },
          "metadata": {},
          "execution_count": 24
        }
      ]
    },
    {
      "cell_type": "code",
      "source": [
        "rank = [1, 2, 3]\n",
        "attendance = [True, True, True]\n",
        "solution(rank, attendance)"
      ],
      "metadata": {
        "colab": {
          "base_uri": "https://localhost:8080/"
        },
        "id": "m69N_GAgz_5X",
        "outputId": "38a28440-e6b7-4dd9-a8b1-3e6a3e5217ce"
      },
      "execution_count": 25,
      "outputs": [
        {
          "output_type": "execute_result",
          "data": {
            "text/plain": [
              "102"
            ]
          },
          "metadata": {},
          "execution_count": 25
        }
      ]
    },
    {
      "cell_type": "code",
      "source": [
        "rank = [6, 1, 5, 2, 3, 4]\n",
        "attendance = [True, False, True, False, False, True]\n",
        "solution(rank, attendance)"
      ],
      "metadata": {
        "colab": {
          "base_uri": "https://localhost:8080/"
        },
        "id": "-skWeICrz_0x",
        "outputId": "6ea733d3-f2a6-433b-e91e-cc0003f425c8"
      },
      "execution_count": 26,
      "outputs": [
        {
          "output_type": "execute_result",
          "data": {
            "text/plain": [
              "50200"
            ]
          },
          "metadata": {},
          "execution_count": 26
        }
      ]
    },
    {
      "cell_type": "code",
      "source": [
        "# 다른 사람 풀이"
      ],
      "metadata": {
        "id": "NRxnv1Ahz_yR"
      },
      "execution_count": null,
      "outputs": []
    },
    {
      "cell_type": "code",
      "source": [
        "# 이거 좋네. 보기도 나쁘지 않은듯\n",
        "def solution(rank, attendance):\n",
        "    arr = sorted([(x, i) for i, x in enumerate(rank) if attendance[i]])\n",
        "    return arr[0][1] * 10000 + arr[1][1] * 100 + arr[2][1]\n"
      ],
      "metadata": {
        "id": "dXgsPWnEz893"
      },
      "execution_count": 27,
      "outputs": []
    },
    {
      "cell_type": "code",
      "source": [
        "def solution(rank, attendance):\n",
        "    selected = []\n",
        "    for i, attend in enumerate(attendance):\n",
        "        if attend:\n",
        "            selected.append((rank[i], i))\n",
        "\n",
        "    selected.sort()\n",
        "    a, b, c = selected[:3]\n",
        "\n",
        "    return 10000 * a[1] + 100 * b[1] + c[1]"
      ],
      "metadata": {
        "id": "-BFb_jxO5snf"
      },
      "execution_count": 28,
      "outputs": []
    },
    {
      "cell_type": "code",
      "source": [],
      "metadata": {
        "id": "tdXpJ1AG5xbO"
      },
      "execution_count": 28,
      "outputs": []
    }
  ]
}