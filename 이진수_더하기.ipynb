{
  "nbformat": 4,
  "nbformat_minor": 0,
  "metadata": {
    "colab": {
      "provenance": [],
      "authorship_tag": "ABX9TyP2RDpt374xXunFxO6JZC7W",
      "include_colab_link": true
    },
    "kernelspec": {
      "name": "python3",
      "display_name": "Python 3"
    },
    "language_info": {
      "name": "python"
    }
  },
  "cells": [
    {
      "cell_type": "markdown",
      "metadata": {
        "id": "view-in-github",
        "colab_type": "text"
      },
      "source": [
        "<a href=\"https://colab.research.google.com/github/YonggunJung/Programmers/blob/main/%EC%9D%B4%EC%A7%84%EC%88%98_%EB%8D%94%ED%95%98%EA%B8%B0.ipynb\" target=\"_parent\"><img src=\"https://colab.research.google.com/assets/colab-badge.svg\" alt=\"Open In Colab\"/></a>"
      ]
    },
    {
      "cell_type": "code",
      "execution_count": 1,
      "metadata": {
        "id": "Erp_1loMmMz6"
      },
      "outputs": [],
      "source": [
        "# 문제 설명\n",
        "# 이진수를 의미하는 두 개의 문자열 bin1과 bin2가 매개변수로 주어질 때,\n",
        "# 두 이진수의 합을 return하도록 solution 함수를 완성해주세요.\n",
        "\n",
        "# 제한사항\n",
        "# return 값은 이진수를 의미하는 문자열입니다.\n",
        "# 1 ≤ bin1, bin2의 길이 ≤ 10\n",
        "# bin1과 bin2는 0과 1로만 이루어져 있습니다.\n",
        "# bin1과 bin2는 \"0\"을 제외하고 0으로 시작하지 않습니다.\n",
        "\n",
        "# 입출력 예\n",
        "# bin1\t        bin2\t          result\n",
        "# \"10\"\t        \"11\"\t          \"101\"\n",
        "# \"1001\"\t      \"1111\"\t      \"11000\"\n",
        "\n",
        "# 입출력 예 설명\n",
        "# 입출력 예 #1\n",
        "# 10 + 11 = 101 이므로 \"101\" 을 return합니다.\n",
        "# 입출력 예 #2\n",
        "# 1001 + 1111 = 11000 이므로 \"11000\"을 return합니다."
      ]
    },
    {
      "cell_type": "code",
      "source": [
        "# 이진수 본적이 너무 오래 되어서 바로 풀이 봄\n",
        "# 라이브러리 활용해서 바로 이진수 선언\n",
        "def solution(bin1, bin2):\n",
        "    int1, int2 = int(bin1, 2), int(bin2, 2)\n",
        "    answer = bin(int1+int2)[2:]\n",
        "    return answer\n",
        "\n",
        "    #  이렇게도 할수 있지만 굳이 길게 할 필요 없음\n",
        "    # while int:\n",
        "    #   if int % 2==1:\n",
        "    #     +='1'\n",
        "    #   int //= 2"
      ],
      "metadata": {
        "id": "s7hsrtDjmWTT"
      },
      "execution_count": 2,
      "outputs": []
    },
    {
      "cell_type": "code",
      "source": [
        "bin1 = \"10\"\n",
        "bin2 = \"11\"\n",
        "solution(bin1, bin2)"
      ],
      "metadata": {
        "colab": {
          "base_uri": "https://localhost:8080/",
          "height": 35
        },
        "id": "s9vVmiEwmXYT",
        "outputId": "02f8460b-066c-487a-f19f-c4eb61c87796"
      },
      "execution_count": 3,
      "outputs": [
        {
          "output_type": "execute_result",
          "data": {
            "text/plain": [
              "'101'"
            ],
            "application/vnd.google.colaboratory.intrinsic+json": {
              "type": "string"
            }
          },
          "metadata": {},
          "execution_count": 3
        }
      ]
    },
    {
      "cell_type": "code",
      "source": [
        "bin1 = \"1001\"\n",
        "bin2 = \"1111\"\n",
        "solution(bin1, bin2)"
      ],
      "metadata": {
        "colab": {
          "base_uri": "https://localhost:8080/",
          "height": 35
        },
        "id": "Pi9G8QMpmXTB",
        "outputId": "ef185b27-41fc-4c09-b133-e6efcede0831"
      },
      "execution_count": 4,
      "outputs": [
        {
          "output_type": "execute_result",
          "data": {
            "text/plain": [
              "'11000'"
            ],
            "application/vnd.google.colaboratory.intrinsic+json": {
              "type": "string"
            }
          },
          "metadata": {},
          "execution_count": 4
        }
      ]
    },
    {
      "cell_type": "code",
      "source": [
        "# 다른 사람 풀이"
      ],
      "metadata": {
        "id": "P0HcHWElmXQk"
      },
      "execution_count": 5,
      "outputs": []
    },
    {
      "cell_type": "code",
      "source": [
        "# 다들 비슷하게 한듯\n",
        "def solution(bin1, bin2):\n",
        "    answer = bin(int(bin1,2) + int(bin2,2))[2:]\n",
        "    return answer"
      ],
      "metadata": {
        "id": "WpNHA6tdoNAW"
      },
      "execution_count": 6,
      "outputs": []
    },
    {
      "cell_type": "code",
      "source": [
        "def solution(bin1, bin2):\n",
        "    ans = int(bin1,2) +int(bin2,2)\n",
        "    answer = bin(ans)[2:]\n",
        "    return answer"
      ],
      "metadata": {
        "id": "JufA9jxjoYgT"
      },
      "execution_count": null,
      "outputs": []
    }
  ]
}