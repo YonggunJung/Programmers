{
  "nbformat": 4,
  "nbformat_minor": 0,
  "metadata": {
    "colab": {
      "provenance": [],
      "authorship_tag": "ABX9TyNL5BmT+yy2wgNSrNdymmqB",
      "include_colab_link": true
    },
    "kernelspec": {
      "name": "python3",
      "display_name": "Python 3"
    },
    "language_info": {
      "name": "python"
    }
  },
  "cells": [
    {
      "cell_type": "markdown",
      "metadata": {
        "id": "view-in-github",
        "colab_type": "text"
      },
      "source": [
        "<a href=\"https://colab.research.google.com/github/YonggunJung/Programmers/blob/main/%EB%AA%A8%EC%9D%98%EA%B3%A0%EC%82%AC.ipynb\" target=\"_parent\"><img src=\"https://colab.research.google.com/assets/colab-badge.svg\" alt=\"Open In Colab\"/></a>"
      ]
    },
    {
      "cell_type": "code",
      "execution_count": 1,
      "metadata": {
        "id": "FeRJ6dByO9C6"
      },
      "outputs": [],
      "source": [
        "# 문제 설명\n",
        "# 수포자는 수학을 포기한 사람의 준말입니다.\n",
        "# 수포자 삼인방은 모의고사에 수학 문제를 전부 찍으려 합니다.\n",
        "# 수포자는 1번 문제부터 마지막 문제까지 다음과 같이 찍습니다.\n",
        "\n",
        "# 1번 수포자가 찍는 방식: 1, 2, 3, 4, 5, 1, 2, 3, 4, 5, ...\n",
        "# 2번 수포자가 찍는 방식: 2, 1, 2, 3, 2, 4, 2, 5, 2, 1, 2, 3, 2, 4, 2, 5, ...\n",
        "# 3번 수포자가 찍는 방식: 3, 3, 1, 1, 2, 2, 4, 4, 5, 5, 3, 3, 1, 1, 2, 2, 4, 4, 5, 5, ...\n",
        "\n",
        "# 1번 문제부터 마지막 문제까지의 정답이 순서대로 들은 배열 answers가 주어졌을 때,\n",
        "# 가장 많은 문제를 맞힌 사람이 누구인지 배열에 담아\n",
        "# return 하도록 solution 함수를 작성해주세요.\n",
        "\n",
        "# 제한 조건\n",
        "# 시험은 최대 10,000 문제로 구성되어있습니다.\n",
        "# 문제의 정답은 1, 2, 3, 4, 5중 하나입니다.\n",
        "# 가장 높은 점수를 받은 사람이 여럿일 경우,\n",
        "# return하는 값을 오름차순 정렬해주세요.\n",
        "\n",
        "# 입출력 예\n",
        "# answers\t          return\n",
        "# [1,2,3,4,5]\t      [1]\n",
        "# [1,3,2,4,2]\t      [1,2,3]\n",
        "\n",
        "# 입출력 예 설명\n",
        "# 입출력 예 #1\n",
        "# 수포자 1은 모든 문제를 맞혔습니다.\n",
        "# 수포자 2는 모든 문제를 틀렸습니다.\n",
        "# 수포자 3은 모든 문제를 틀렸습니다.\n",
        "# 따라서 가장 문제를 많이 맞힌 사람은 수포자 1입니다.\n",
        "\n",
        "# 입출력 예 #2\n",
        "# 모든 사람이 2문제씩을 맞췄습니다."
      ]
    },
    {
      "cell_type": "code",
      "source": [
        "def solution(answers):\n",
        "    answer = []\n",
        "    sp1 = [1, 2, 3, 4, 5]\n",
        "    sp2 = [2, 1, 2, 3, 2, 4, 2, 5]\n",
        "    sp3 = [3, 3, 1, 1, 2, 2, 4, 4, 5, 5]\n",
        "    score = [0, 0, 0]\n",
        "    for i in range(len(answers)):\n",
        "      if answers[i] == sp1[i%len(sp1)]:\n",
        "         score[0] += 1\n",
        "      if answers[i] == sp2[i%len(sp2)]:\n",
        "         score[1] += 1\n",
        "      if answers[i] == sp3[i%len(sp3)]:\n",
        "         score[2] += 1\n",
        "\n",
        "    for i in range(len(score)):\n",
        "      if max(score) == score[i]:\n",
        "        answer.append(i+1)\n",
        "    answer.sort()\n",
        "    return answer"
      ],
      "metadata": {
        "id": "IJSou7f-PHSI"
      },
      "execution_count": 2,
      "outputs": []
    },
    {
      "cell_type": "code",
      "source": [],
      "metadata": {
        "id": "C5JGgDK8Rktu"
      },
      "execution_count": null,
      "outputs": []
    }
  ]
}