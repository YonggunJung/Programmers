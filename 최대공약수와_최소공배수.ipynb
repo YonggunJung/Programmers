{
  "nbformat": 4,
  "nbformat_minor": 0,
  "metadata": {
    "colab": {
      "provenance": [],
      "authorship_tag": "ABX9TyMneRvUbQQWFzTVs4Al6d01",
      "include_colab_link": true
    },
    "kernelspec": {
      "name": "python3",
      "display_name": "Python 3"
    },
    "language_info": {
      "name": "python"
    }
  },
  "cells": [
    {
      "cell_type": "markdown",
      "metadata": {
        "id": "view-in-github",
        "colab_type": "text"
      },
      "source": [
        "<a href=\"https://colab.research.google.com/github/YonggunJung/Programmers/blob/main/%EC%B5%9C%EB%8C%80%EA%B3%B5%EC%95%BD%EC%88%98%EC%99%80_%EC%B5%9C%EC%86%8C%EA%B3%B5%EB%B0%B0%EC%88%98.ipynb\" target=\"_parent\"><img src=\"https://colab.research.google.com/assets/colab-badge.svg\" alt=\"Open In Colab\"/></a>"
      ]
    },
    {
      "cell_type": "code",
      "execution_count": 1,
      "metadata": {
        "id": "oXaloX0DvN0H"
      },
      "outputs": [],
      "source": [
        "# 문제 설명\n",
        "# 두 수를 입력받아 두 수의 최대공약수와 최소공배수를 반환하는 함수,\n",
        "# solution을 완성해 보세요. 배열의 맨 앞에 최대공약수,\n",
        "# 그다음 최소공배수를 넣어 반환하면 됩니다.\n",
        "# 예를 들어 두 수 3, 12의 최대공약수는 3, 최소공배수는 12이므로\n",
        "# solution(3, 12)는 [3, 12]를 반환해야 합니다.\n",
        "\n",
        "# 제한 사항\n",
        "# 두 수는 1이상 1000000이하의 자연수입니다.\n",
        "\n",
        "# 입출력 예\n",
        "# n\t  m\t    return\n",
        "# 3\t  12\t  [3, 12]\n",
        "# 2\t  5\t    [1, 10]\n",
        "\n",
        "# 입출력 예 설명\n",
        "# 입출력 예 #1\n",
        "# 위의 설명과 같습니다.\n",
        "\n",
        "# 입출력 예 #2\n",
        "# 자연수 2와 5의 최대공약수는 1, 최소공배수는 10이므로\n",
        "#  [1, 10]을 리턴해야 합니다."
      ]
    },
    {
      "cell_type": "code",
      "source": [
        "import math\n",
        "def solution(n, m):\n",
        "    answer = []\n",
        "    answer.append(math.gcd(n, m))\n",
        "    answer.append(n*m // math.gcd(n, m))\n",
        "    return answer"
      ],
      "metadata": {
        "id": "MwG-1x3YxmFm"
      },
      "execution_count": null,
      "outputs": []
    },
    {
      "cell_type": "code",
      "source": [
        "# math.lcm이  왜안되는지 모르겠네 ㅠㅠ\n",
        "# 여기선 되는데 프로그래머스에서는 안됨\n",
        "import math\n",
        "def solution(n, m):\n",
        "    answer = []\n",
        "    answer.append(math.gcd(n, m))\n",
        "    answer.append(math.lcm(n,m))\n",
        "    print(math.lcm(n,m))\n",
        "    return answer"
      ],
      "metadata": {
        "id": "dQnXgBWpvYdI"
      },
      "execution_count": 5,
      "outputs": []
    },
    {
      "cell_type": "code",
      "source": [
        "solution(3, 12)"
      ],
      "metadata": {
        "colab": {
          "base_uri": "https://localhost:8080/"
        },
        "id": "8Qyf7mvtwTng",
        "outputId": "bf6b1acc-a7e2-458b-aba3-07c6f4c7355f"
      },
      "execution_count": 4,
      "outputs": [
        {
          "output_type": "stream",
          "name": "stdout",
          "text": [
            "12\n"
          ]
        },
        {
          "output_type": "execute_result",
          "data": {
            "text/plain": [
              "[3, 12]"
            ]
          },
          "metadata": {},
          "execution_count": 4
        }
      ]
    },
    {
      "cell_type": "code",
      "source": [],
      "metadata": {
        "id": "enoYdJC2xERX"
      },
      "execution_count": null,
      "outputs": []
    }
  ]
}