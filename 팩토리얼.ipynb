{
  "nbformat": 4,
  "nbformat_minor": 0,
  "metadata": {
    "colab": {
      "provenance": [],
      "authorship_tag": "ABX9TyPizNPfz/D+7b1YPVlGhgzN",
      "include_colab_link": true
    },
    "kernelspec": {
      "name": "python3",
      "display_name": "Python 3"
    },
    "language_info": {
      "name": "python"
    }
  },
  "cells": [
    {
      "cell_type": "markdown",
      "metadata": {
        "id": "view-in-github",
        "colab_type": "text"
      },
      "source": [
        "<a href=\"https://colab.research.google.com/github/YonggunJung/Programmers/blob/main/%ED%8C%A9%ED%86%A0%EB%A6%AC%EC%96%BC.ipynb\" target=\"_parent\"><img src=\"https://colab.research.google.com/assets/colab-badge.svg\" alt=\"Open In Colab\"/></a>"
      ]
    },
    {
      "cell_type": "code",
      "execution_count": 1,
      "metadata": {
        "id": "oilbY7_FguaJ"
      },
      "outputs": [],
      "source": [
        "# 문제 설명\n",
        "# i팩토리얼 (i!)은 1부터 i까지 정수의 곱을 의미합니다.\n",
        "# 예를들어 5! = 5 * 4 * 3 * 2 * 1 = 120 입니다.\n",
        "# 정수 n이 주어질 때 다음 조건을 만족하는 가장 큰 정수 i를\n",
        "# return 하도록 solution 함수를 완성해주세요.\n",
        "\n",
        "# i! ≤ n\n",
        "# 제한사항\n",
        "# 0 < n ≤ 3,628,800\n",
        "\n",
        "# 입출력 예\n",
        "# n\t            result\n",
        "# 3628800\t        10\n",
        "# 7\t               3\n",
        "\n",
        "# 입출력 예 설명\n",
        "# 입출력 예 #1\n",
        "# 10! = 3,628,800입니다. n이 3628800이므로 최대 팩토리얼인 10을 return 합니다.\n",
        "\n",
        "# 입출력 예 #2\n",
        "# 3! = 6, 4! = 24입니다. n이 7이므로, 7 이하의 최대 팩토리얼인 3을 return 합니다."
      ]
    },
    {
      "cell_type": "code",
      "source": [
        "def solution(n):\n",
        "    answer = 0\n",
        "    num = 1\n",
        "    for i in range(1, 11):\n",
        "      num *= i\n",
        "      if num <= n:\n",
        "        answer = i\n",
        "    return answer"
      ],
      "metadata": {
        "id": "1i1gLKoDg4zi"
      },
      "execution_count": 2,
      "outputs": []
    },
    {
      "cell_type": "code",
      "source": [
        "n = 3628800\n",
        "solution(n)"
      ],
      "metadata": {
        "colab": {
          "base_uri": "https://localhost:8080/"
        },
        "id": "AFlHXXUGg6_g",
        "outputId": "b8b52c6c-d726-4eaf-9547-03eb778a99d2"
      },
      "execution_count": 3,
      "outputs": [
        {
          "output_type": "execute_result",
          "data": {
            "text/plain": [
              "10"
            ]
          },
          "metadata": {},
          "execution_count": 3
        }
      ]
    },
    {
      "cell_type": "code",
      "source": [
        "n = 7\n",
        "solution(n)"
      ],
      "metadata": {
        "colab": {
          "base_uri": "https://localhost:8080/"
        },
        "id": "DEsBs6kCg69X",
        "outputId": "8f1aa9d9-cc60-4be9-d33e-0bef85b342e6"
      },
      "execution_count": 4,
      "outputs": [
        {
          "output_type": "execute_result",
          "data": {
            "text/plain": [
              "3"
            ]
          },
          "metadata": {},
          "execution_count": 4
        }
      ]
    },
    {
      "cell_type": "code",
      "source": [
        "# 다른 사람 풀이"
      ],
      "metadata": {
        "id": "bKqmPpMEiTLb"
      },
      "execution_count": 5,
      "outputs": []
    },
    {
      "cell_type": "code",
      "source": [
        "# factorial() 이런게 있었네\n",
        "# 이런 함수가 있을거라 생각은 해봤는데 진짜 있네\n",
        "from math import factorial\n",
        "\n",
        "def solution(n):\n",
        "    k = 10\n",
        "    while n < factorial(k):\n",
        "        k -= 1\n",
        "    return k"
      ],
      "metadata": {
        "id": "QzuCzgdCiX6L"
      },
      "execution_count": 6,
      "outputs": []
    },
    {
      "cell_type": "code",
      "source": [
        "# 여러 방법이 있는데 팩토리얼 함수가 아니면 내께 젤 좋은듯\n",
        "def solution(n):\n",
        "    answer = 1\n",
        "    factorial = 1\n",
        "    while factorial <= n:\n",
        "        answer += 1\n",
        "        factorial = factorial * answer\n",
        "    answer -= 1\n",
        "    return answer"
      ],
      "metadata": {
        "id": "tVsgHdXOikL8"
      },
      "execution_count": null,
      "outputs": []
    }
  ]
}