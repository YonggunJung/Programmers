{
  "nbformat": 4,
  "nbformat_minor": 0,
  "metadata": {
    "colab": {
      "provenance": [],
      "authorship_tag": "ABX9TyMVNQFbnVIPda/qWpi77GeZ",
      "include_colab_link": true
    },
    "kernelspec": {
      "name": "python3",
      "display_name": "Python 3"
    },
    "language_info": {
      "name": "python"
    }
  },
  "cells": [
    {
      "cell_type": "markdown",
      "metadata": {
        "id": "view-in-github",
        "colab_type": "text"
      },
      "source": [
        "<a href=\"https://colab.research.google.com/github/YonggunJung/Programmers/blob/main/a%EC%99%80_b_%EC%B6%9C%EB%A0%A5%ED%95%98%EA%B8%B0.ipynb\" target=\"_parent\"><img src=\"https://colab.research.google.com/assets/colab-badge.svg\" alt=\"Open In Colab\"/></a>"
      ]
    },
    {
      "cell_type": "code",
      "execution_count": 1,
      "metadata": {
        "id": "K0vCh4-LRC0s"
      },
      "outputs": [],
      "source": [
        "# 문제 설명\n",
        "# 정수 a와 b가 주어집니다.\n",
        "# 각 수를 입력받아 입출력 예와 같은 형식으로 출력하는 코드를 작성해 보세요.\n",
        "\n",
        "# 제한사항\n",
        "# -100,000 ≤ a, b ≤ 100,000\n",
        "\n",
        "# 입출력 예\n",
        "# 입력 #1\n",
        "# 4 5\n",
        "\n",
        "# 출력 #1\n",
        "# a = 4\n",
        "# b = 5"
      ]
    },
    {
      "cell_type": "code",
      "source": [
        "# 문제\n",
        "# a, b = map(int, input(4, 5).strip().split(' '))\n",
        "# print('a =' a)\n",
        "# print('b =' b)"
      ],
      "metadata": {
        "id": "kPsXhWZiT44E"
      },
      "execution_count": null,
      "outputs": []
    },
    {
      "cell_type": "code",
      "source": [
        "# 왜 이런 문제를 내는지 모르겠네\n",
        "# 실무에서는 이런 하나하나의 디테일이 중요해서 그런걸까?\n",
        "a, b = map(int, input().strip().split(' '))\n",
        "print('a =',a)\n",
        "print('b =',b)"
      ],
      "metadata": {
        "colab": {
          "base_uri": "https://localhost:8080/"
        },
        "id": "Cqd-lRi8RQcE",
        "outputId": "ef615ac0-159b-44ea-b0a1-c9521184d2cd"
      },
      "execution_count": 17,
      "outputs": [
        {
          "output_type": "stream",
          "name": "stdout",
          "text": [
            "4 5\n",
            "a =  4\n",
            "b =  5\n"
          ]
        }
      ]
    },
    {
      "cell_type": "code",
      "source": [
        "# 다른 사람 풀이"
      ],
      "metadata": {
        "id": "X3bNG_W0RVk6"
      },
      "execution_count": 18,
      "outputs": []
    },
    {
      "cell_type": "code",
      "source": [
        "a, b = map(int, input().strip().split(' '))\n",
        "print(f\"a = {a}\\nb = {b}\")"
      ],
      "metadata": {
        "id": "J7bW4FEAT65b"
      },
      "execution_count": null,
      "outputs": []
    },
    {
      "cell_type": "code",
      "source": [
        "a, b = map(int, input().strip().split(' '))\n",
        "print('a = {}\\nb = {}'.format(a, b))"
      ],
      "metadata": {
        "id": "n3x-tFqfT-_x"
      },
      "execution_count": null,
      "outputs": []
    },
    {
      "cell_type": "code",
      "source": [
        "a, b = map(int, input().strip().split(' '))\n",
        "print(\"a =\", str(a))\n",
        "print(\"b =\", str(b))"
      ],
      "metadata": {
        "id": "vEYtiDLzUCsg"
      },
      "execution_count": null,
      "outputs": []
    }
  ]
}