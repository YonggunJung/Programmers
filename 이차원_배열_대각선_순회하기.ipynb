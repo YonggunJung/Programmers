{
  "nbformat": 4,
  "nbformat_minor": 0,
  "metadata": {
    "colab": {
      "provenance": [],
      "authorship_tag": "ABX9TyOnPy0wvL1YVdhBwowoXwCG",
      "include_colab_link": true
    },
    "kernelspec": {
      "name": "python3",
      "display_name": "Python 3"
    },
    "language_info": {
      "name": "python"
    }
  },
  "cells": [
    {
      "cell_type": "markdown",
      "metadata": {
        "id": "view-in-github",
        "colab_type": "text"
      },
      "source": [
        "<a href=\"https://colab.research.google.com/github/YonggunJung/Programmers/blob/main/%EC%9D%B4%EC%B0%A8%EC%9B%90_%EB%B0%B0%EC%97%B4_%EB%8C%80%EA%B0%81%EC%84%A0_%EC%88%9C%ED%9A%8C%ED%95%98%EA%B8%B0.ipynb\" target=\"_parent\"><img src=\"https://colab.research.google.com/assets/colab-badge.svg\" alt=\"Open In Colab\"/></a>"
      ]
    },
    {
      "cell_type": "code",
      "execution_count": 1,
      "metadata": {
        "id": "bnYPYWB34I49"
      },
      "outputs": [],
      "source": [
        "# 문제 설명\n",
        "# 2차원 정수 배열 board와 정수 k가 주어집니다.\n",
        "\n",
        "# i + j <= k를 만족하는 모든 (i, j)에 대한 board[i][j]의 합을\n",
        "# return 하는 solution 함수를 완성해 주세요.\n",
        "\n",
        "# 제한사항\n",
        "# 1 ≤ board의 길이 ≤ 100\n",
        "# 1 ≤ board[i]의 길이 ≤ 100\n",
        "# 1 ≤ board[i][j] ≤ 10,000\n",
        "# 모든 board[i]의 길이는 같습니다.\n",
        "# 0 ≤ k < board의 길이 + board[i]의 길이\n",
        "\n",
        "# 입출력 예\n",
        "# board                                         \tk\t    result\n",
        "# [[0, 1, 2],[1, 2, 3],[2, 3, 4],[3, 4, 5]]\t      2\t      8\n",
        "\n",
        "# 입출력 예 설명\n",
        "# 입출력 예 #1\n",
        "# 입출력 예 #1의 board를 표로 나타내면 다음과 같습니다.\n",
        "# i\\j\t    0\t    1\t    2\n",
        "#  0\t    0\t    1\t    2\n",
        "#  1\t    1\t    2\t    3\n",
        "#  2\t    2\t    3\t    4\n",
        "#  3\t    3\t    4\t    5\n",
        "# i + j가 2보다 작거나 같은 항들의 합은 0 + 1 + 2 + 1 + 2 + 2 = 8이므로\n",
        "# 8을 return 합니다."
      ]
    },
    {
      "cell_type": "code",
      "source": [
        "# 오랜만에 풀었는데 머리가 안풀렸네\n",
        "# 쉬운건데 5분 넘게 걸린듯\n",
        "def solution(board, k):\n",
        "    answer = 0\n",
        "    for i in range(len(board)):\n",
        "      for j in range(len(board[i])):\n",
        "        if i+j <= k:\n",
        "          answer += board[i][j]\n",
        "    return answer"
      ],
      "metadata": {
        "id": "6ELcg0bp4p7D"
      },
      "execution_count": 6,
      "outputs": []
    },
    {
      "cell_type": "code",
      "source": [
        "board = [[0, 1, 2],[1, 2, 3],[2, 3, 4],[3, 4, 5]]\n",
        "k = 2\n",
        "solution(board, k)"
      ],
      "metadata": {
        "colab": {
          "base_uri": "https://localhost:8080/"
        },
        "id": "4A570cHB4s6B",
        "outputId": "4d496e63-1c67-4912-c533-8d9540094d5d"
      },
      "execution_count": 7,
      "outputs": [
        {
          "output_type": "execute_result",
          "data": {
            "text/plain": [
              "8"
            ]
          },
          "metadata": {},
          "execution_count": 7
        }
      ]
    },
    {
      "cell_type": "code",
      "source": [
        "# 다른 사람 풀이"
      ],
      "metadata": {
        "id": "zyHFpwXp4xc4"
      },
      "execution_count": 3,
      "outputs": []
    },
    {
      "cell_type": "code",
      "source": [
        "def solution(board, k):\n",
        "    answer = 0\n",
        "    n, m = len(board), len(board[0])\n",
        "\n",
        "    for i in range(n):\n",
        "        for j in range(m):\n",
        "            if i + j <= k:\n",
        "                answer += board[i][j]\n",
        "            else:\n",
        "                break\n",
        "    return answer"
      ],
      "metadata": {
        "id": "hzRZIHIm4ztT"
      },
      "execution_count": 8,
      "outputs": []
    },
    {
      "cell_type": "code",
      "source": [
        "def solution(board, k):\n",
        "    return sum(board[i][j] for i in range(len(board)) for j in range(len(board[0])) if i + j <= k)"
      ],
      "metadata": {
        "id": "2CCUvWFr68Wp"
      },
      "execution_count": 9,
      "outputs": []
    },
    {
      "cell_type": "code",
      "source": [
        "def solution(board, k):\n",
        "    answer=0\n",
        "    n,m=len(board),len(board[0])\n",
        "    for i in range(k+1):\n",
        "        if i>=n: continue\n",
        "        for j in range(k+1-i):\n",
        "            if j>=m: continue\n",
        "            answer+=board[i][j]\n",
        "    return answer"
      ],
      "metadata": {
        "id": "P1lCHFfZ68ja"
      },
      "execution_count": 10,
      "outputs": []
    },
    {
      "cell_type": "code",
      "source": [],
      "metadata": {
        "id": "JFvdH08S7BVx"
      },
      "execution_count": null,
      "outputs": []
    }
  ]
}