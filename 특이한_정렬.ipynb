{
  "nbformat": 4,
  "nbformat_minor": 0,
  "metadata": {
    "colab": {
      "provenance": [],
      "authorship_tag": "ABX9TyN5WDNiBK5upCPKHUpEybP6",
      "include_colab_link": true
    },
    "kernelspec": {
      "name": "python3",
      "display_name": "Python 3"
    },
    "language_info": {
      "name": "python"
    }
  },
  "cells": [
    {
      "cell_type": "markdown",
      "metadata": {
        "id": "view-in-github",
        "colab_type": "text"
      },
      "source": [
        "<a href=\"https://colab.research.google.com/github/YonggunJung/Programmers/blob/main/%ED%8A%B9%EC%9D%B4%ED%95%9C_%EC%A0%95%EB%A0%AC.ipynb\" target=\"_parent\"><img src=\"https://colab.research.google.com/assets/colab-badge.svg\" alt=\"Open In Colab\"/></a>"
      ]
    },
    {
      "cell_type": "code",
      "execution_count": 1,
      "metadata": {
        "id": "eY3FRNERcQwt"
      },
      "outputs": [],
      "source": [
        "# 문제 설명\n",
        "# 정수 n을 기준으로 n과 가까운 수부터 정렬하려고 합니다.\n",
        "# 이때 n으로부터의 거리가 같다면 더 큰 수를 앞에 오도록 배치합니다.\n",
        "# 정수가 담긴 배열 numlist와 정수 n이 주어질 때\n",
        "# numlist의 원소를 n으로부터 가까운 순서대로 정렬한 배열을 return하도록\n",
        "# solution 함수를 완성해주세요.\n",
        "\n",
        "# 제한사항\n",
        "# 1 ≤ n ≤ 10,000\n",
        "# 1 ≤ numlist의 원소 ≤ 10,000\n",
        "# 1 ≤ numlist의 길이 ≤ 100\n",
        "# numlist는 중복된 원소를 갖지 않습니다.\n",
        "\n",
        "# 입출력 예\n",
        "# numlist\t                            n\t          result\n",
        "# [1, 2, 3, 4, 5, 6]\t                4\t          [4, 5, 3, 6, 2, 1]\n",
        "# [10000,20,36,47,40,6,10,7000]\t      30\t        [36, 40, 20, 47, 10, 6, 7000, 10000]\n",
        "\n",
        "# 입출력 예 설명\n",
        "# 입출력 예 #1\n",
        "# 4에서 가까운 순으로 [4, 5, 3, 6, 2, 1]을 return합니다.\n",
        "# 3과 5는 거리가 같으므로 더 큰 5가 앞에 와야 합니다.\n",
        "# 2와 6은 거리가 같으므로 더 큰 6이 앞에 와야 합니다.\n",
        "\n",
        "# 입출력 예 #2\n",
        "# 30에서 가까운 순으로 [36, 40, 20, 47, 10, 6, 7000, 10000]을 return합니다.\n",
        "# 20과 40은 거리가 같으므로 더 큰 40이 앞에 와야 합니다."
      ]
    },
    {
      "cell_type": "code",
      "source": [
        "# 이 풀이 다 이해는 안감\n",
        "def solution(numlist, n):\n",
        "    num = [[abs(i - n), -i] for i in numlist]\n",
        "    snum = sorted(num)\n",
        "    answer = [-i for far, i in snum]\n",
        "    return answer"
      ],
      "metadata": {
        "id": "AAIwOJxkckZN"
      },
      "execution_count": 3,
      "outputs": []
    },
    {
      "cell_type": "code",
      "source": [
        "numlist = [1, 2, 3, 4, 5, 6]\n",
        "n = 4\n",
        "solution(numlist, n)"
      ],
      "metadata": {
        "colab": {
          "base_uri": "https://localhost:8080/"
        },
        "id": "GVkrHV-QloLD",
        "outputId": "ae303956-8efb-486a-cedb-30fb7782f661"
      },
      "execution_count": 4,
      "outputs": [
        {
          "output_type": "execute_result",
          "data": {
            "text/plain": [
              "[4, 5, 3, 6, 2, 1]"
            ]
          },
          "metadata": {},
          "execution_count": 4
        }
      ]
    },
    {
      "cell_type": "code",
      "source": [
        "numlist = [10000,20,36,47,40,6,10,7000]\n",
        "n = 30\n",
        "solution(numlist, n)"
      ],
      "metadata": {
        "colab": {
          "base_uri": "https://localhost:8080/"
        },
        "id": "q9LbdP60ls2W",
        "outputId": "d24c219f-917f-4869-e672-ba486d7dd82a"
      },
      "execution_count": 5,
      "outputs": [
        {
          "output_type": "execute_result",
          "data": {
            "text/plain": [
              "[36, 40, 20, 47, 10, 6, 7000, 10000]"
            ]
          },
          "metadata": {},
          "execution_count": 5
        }
      ]
    },
    {
      "cell_type": "code",
      "source": [
        "# 다른 사람 풀이"
      ],
      "metadata": {
        "id": "zdSDHekRls0Q"
      },
      "execution_count": 6,
      "outputs": []
    },
    {
      "cell_type": "code",
      "source": [
        "# answer = sorted(numlist,key = lambda x : (abs(x-n), n-x)) key에\n",
        "# 요소를 리스트 혹은 튜플로 두 개 이상 줄 수 있다.\n",
        "# 이 경우 앞에 값이 같을 때 뒤의 값을 이용해서 나열한다.\n",
        "# 요소 하나이고 값이 같을 때는 먼저 처리된 수가 먼저 나열되는 것 같다(인덱스가 작은 것이).\n",
        "# 위에가 설명인데 이해를 못하겠군 ㅠㅠ\n",
        "def solution(numlist, n):\n",
        "    answer = sorted(numlist,key = lambda x : (abs(x-n), n-x))\n",
        "    return answer"
      ],
      "metadata": {
        "id": "51cUNLB8rYuc"
      },
      "execution_count": 7,
      "outputs": []
    },
    {
      "cell_type": "code",
      "source": [
        "# 이게 좀더 쉽지만 똑같음\n",
        "def solution(numlist, n):\n",
        "    return sorted(numlist,key = lambda x: [abs(x-n),-x])"
      ],
      "metadata": {
        "id": "90hs4qdyrg3M"
      },
      "execution_count": 8,
      "outputs": []
    },
    {
      "cell_type": "code",
      "source": [
        "# 이게 설명도 잘나와있고 좀 편함\n",
        "def solution(numlist, n):\n",
        "    # num -> (abs(n-num), -num)\n",
        "    numlist = [(abs(n-num), -num) for num in numlist]\n",
        "    # 첫 번째 요소를 기준으로 오름차순 정렬 and 두 번째 요소를 기준으로 내림차순 정렬\n",
        "    numlist.sort()\n",
        "    # 두 번쨰 요소만 반환\n",
        "    return [-num for _, num in numlist]"
      ],
      "metadata": {
        "id": "8tVQal5RrpWR"
      },
      "execution_count": null,
      "outputs": []
    }
  ]
}