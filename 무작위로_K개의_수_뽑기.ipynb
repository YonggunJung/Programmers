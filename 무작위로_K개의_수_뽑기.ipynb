{
  "nbformat": 4,
  "nbformat_minor": 0,
  "metadata": {
    "colab": {
      "provenance": [],
      "authorship_tag": "ABX9TyMMz91LKO3fXvtAtlNd0yCM",
      "include_colab_link": true
    },
    "kernelspec": {
      "name": "python3",
      "display_name": "Python 3"
    },
    "language_info": {
      "name": "python"
    }
  },
  "cells": [
    {
      "cell_type": "markdown",
      "metadata": {
        "id": "view-in-github",
        "colab_type": "text"
      },
      "source": [
        "<a href=\"https://colab.research.google.com/github/YonggunJung/Programmers/blob/main/%EB%AC%B4%EC%9E%91%EC%9C%84%EB%A1%9C_K%EA%B0%9C%EC%9D%98_%EC%88%98_%EB%BD%91%EA%B8%B0.ipynb\" target=\"_parent\"><img src=\"https://colab.research.google.com/assets/colab-badge.svg\" alt=\"Open In Colab\"/></a>"
      ]
    },
    {
      "cell_type": "code",
      "execution_count": 1,
      "metadata": {
        "id": "YSu1KtBR25ee"
      },
      "outputs": [],
      "source": [
        "# 문제 설명\n",
        "# 랜덤으로 서로 다른 k개의 수를 저장한 배열을 만드려고 합니다.\n",
        "# 적절한 방법이 떠오르지 않기 때문에 일정한 범위 내에서 무작위로 수를 뽑은 후,\n",
        "# 지금까지 나온적이 없는 수이면 배열 맨 뒤에 추가하는 방식으로 만들기로 합니다.\n",
        "\n",
        "# 이미 어떤 수가 무작위로 주어질지 알고 있다고 가정하고,\n",
        "# 실제 만들어질 길이 k의 배열을 예상해봅시다.\n",
        "\n",
        "# 정수 배열 arr가 주어집니다.\n",
        "# 문제에서의 무작위의 수는 arr에 저장된 순서대로 주어질 예정이라고 했을 때,\n",
        "# 완성될 배열을 return 하는 solution 함수를 완성해 주세요.\n",
        "\n",
        "# 단, 완성될 배열의 길이가 k보다 작으면 나머지 값을 전부 -1로 채워서 return 합니다.\n",
        "\n",
        "# 제한사항\n",
        "# 1 ≤ arr의 길이 ≤ 100,000\n",
        "# 0 ≤ arr의 원소 ≤ 100,000\n",
        "# 1 ≤ k ≤ 1,000\n",
        "\n",
        "# 입출력 예\n",
        "# arr\t                      k\t        result\n",
        "# [0, 1, 1, 2, 2, 3]\t      3\t        [0, 1, 2]\n",
        "# [0, 1, 1, 1, 1]\t          4\t        [0, 1, -1, -1]\n",
        "\n",
        "# 입출력 예 설명\n",
        "# 입출력 예 #1\n",
        "# 앞에서부터 서로 다른 k개의 수를 골라내면 [0, 1, 2]가 됩니다.\n",
        "# 따라서 [0, 1, 2]를 return 합니다.\n",
        "\n",
        "# 입출력 예 #2\n",
        "# 서로 다른 수의 개수가 2개 뿐이므로\n",
        "# 서로 다른 수들을 앞에서부터 차례대로 저장한 [0, 1]에서 이후 2개의 인덱스를\n",
        "# -1로 채워넣은 [0, 1, -1, -1]을 return 합니다."
      ]
    },
    {
      "cell_type": "code",
      "source": [
        "# 이게 왜 안되는지 모르겠음\n",
        "# 매우 정확 한거 같은데 ㅠㅠ\n",
        "# 가정을 조건으로 사용해서 안된거네 어이가 없네\n",
        "\n",
        "# import numpy as np\n",
        "# def solution(arr, k):\n",
        "#     sa = set(arr)\n",
        "#     lsa = list(sa)\n",
        "#     ra = np.random.permutation(lsa)\n",
        "#     answer = list(ra[:k])\n",
        "#     answer.sort()\n",
        "#     while len(answer) < k:\n",
        "#       answer.append(-1)\n",
        "\n",
        "\n",
        "#     return answer"
      ],
      "metadata": {
        "id": "zmF2MGra3KHd"
      },
      "execution_count": 57,
      "outputs": []
    },
    {
      "cell_type": "code",
      "source": [
        "# 이것도 왜 안되는지 모르겠음\n",
        "# 위에게 안되면 이건 정확해야 하는데 뭐가 문제 일까 ㅠㅠ\n",
        "# def solution(arr, k):\n",
        "#     answer = []\n",
        "#     for idx, num in enumerate(arr):\n",
        "#       if len(answer) == 0:\n",
        "#         answer.append(num)\n",
        "#       elif len(answer) < k and num != arr[idx -1]:\n",
        "#         answer.append(num)\n",
        "#     while len(answer) < k:\n",
        "#       answer.append(-1)\n",
        "\n",
        "\n",
        "#     return answer"
      ],
      "metadata": {
        "id": "niy6h6s59ywy"
      },
      "execution_count": 58,
      "outputs": []
    },
    {
      "cell_type": "code",
      "source": [
        "# 문제는 알았다 리스트 순서대로 가서 set()쓰면 순서가 사라지니까 안되고\n",
        "# 세트 없이 중복을 없애야 한다.\n",
        "# 이거로 1시간 넘게 걸림\n",
        "def solution(arr, k):\n",
        "    answer = []\n",
        "    li = []\n",
        "    for num in arr:\n",
        "      if num in li:\n",
        "        pass\n",
        "      else:\n",
        "        li.append(num)\n",
        "\n",
        "    while len(li) < k:\n",
        "      li.append(-1)\n",
        "    answer = li[:k]\n",
        "    return answer\n",
        "\n",
        "# 문제를 파악하니까 금방 나왔음\n",
        "# 이래서 문제 정의가 중요한가 봄"
      ],
      "metadata": {
        "id": "SkDh6_kX-pfO"
      },
      "execution_count": 99,
      "outputs": []
    },
    {
      "cell_type": "code",
      "source": [
        "arr = [0, 1, 1, 2, 2, 3]\n",
        "k = 3\n",
        "solution(arr, k)"
      ],
      "metadata": {
        "colab": {
          "base_uri": "https://localhost:8080/"
        },
        "id": "LsZbzArz3Mmb",
        "outputId": "2fd524c6-a2ef-4ea3-8401-051e9592f163"
      },
      "execution_count": 100,
      "outputs": [
        {
          "output_type": "execute_result",
          "data": {
            "text/plain": [
              "[0, 1, 2]"
            ]
          },
          "metadata": {},
          "execution_count": 100
        }
      ]
    },
    {
      "cell_type": "code",
      "source": [
        "arr = [0, 1, 1, 1, 1]\n",
        "k = 4\n",
        "solution(arr, k)"
      ],
      "metadata": {
        "colab": {
          "base_uri": "https://localhost:8080/"
        },
        "id": "yvUc6zBT3Pda",
        "outputId": "77554fe3-f25b-4d5d-f0c1-48ddd9e198ff"
      },
      "execution_count": 101,
      "outputs": [
        {
          "output_type": "execute_result",
          "data": {
            "text/plain": [
              "[0, 1, -1, -1]"
            ]
          },
          "metadata": {},
          "execution_count": 101
        }
      ]
    },
    {
      "cell_type": "code",
      "source": [
        "# 다른 사람 풀이"
      ],
      "metadata": {
        "id": "RUxAS5Jk3PbR"
      },
      "execution_count": 102,
      "outputs": []
    },
    {
      "cell_type": "code",
      "source": [
        "# 쉬운거 같으면서도 신기하게 풀었음\n",
        "def solution(arr, k):\n",
        "    ret = []\n",
        "    for i in arr:\n",
        "        if i not in ret:\n",
        "            ret.append(i)\n",
        "        if len(ret) == k:\n",
        "            break\n",
        "\n",
        "    return ret + [-1] * (k - len(ret))"
      ],
      "metadata": {
        "id": "qgfDtRDwNkK4"
      },
      "execution_count": 103,
      "outputs": []
    },
    {
      "cell_type": "code",
      "source": [
        "# 나랑 비슷하게 풀었음\n",
        "def solution(arr, k):\n",
        "    answer=[]\n",
        "    cnt=0\n",
        "    d=set()\n",
        "    for x in arr:\n",
        "        if x not in d:\n",
        "            d.add(x)\n",
        "            cnt+=1\n",
        "            answer.append(x)\n",
        "            if cnt==k: break\n",
        "    while len(answer)<k: answer.append(-1)\n",
        "\n",
        "    return answer\n"
      ],
      "metadata": {
        "id": "UFMNa795Nti7"
      },
      "execution_count": 104,
      "outputs": []
    },
    {
      "cell_type": "code",
      "source": [
        "# 이건 좀 봐도 잘 모르겠음\n",
        "def solution(arr, k):\n",
        "    res = list(dict.fromkeys(arr))\n",
        "    res.extend([-1] * max(0, k - len(res)))\n",
        "    return res[:k]"
      ],
      "metadata": {
        "id": "t8-AK2tEN3vB"
      },
      "execution_count": null,
      "outputs": []
    }
  ]
}