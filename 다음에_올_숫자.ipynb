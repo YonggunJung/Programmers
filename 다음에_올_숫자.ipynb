{
  "nbformat": 4,
  "nbformat_minor": 0,
  "metadata": {
    "colab": {
      "provenance": [],
      "authorship_tag": "ABX9TyPprcAc1BDsxeq8z1ffb3+8",
      "include_colab_link": true
    },
    "kernelspec": {
      "name": "python3",
      "display_name": "Python 3"
    },
    "language_info": {
      "name": "python"
    }
  },
  "cells": [
    {
      "cell_type": "markdown",
      "metadata": {
        "id": "view-in-github",
        "colab_type": "text"
      },
      "source": [
        "<a href=\"https://colab.research.google.com/github/YonggunJung/Programmers/blob/main/%EB%8B%A4%EC%9D%8C%EC%97%90_%EC%98%AC_%EC%88%AB%EC%9E%90.ipynb\" target=\"_parent\"><img src=\"https://colab.research.google.com/assets/colab-badge.svg\" alt=\"Open In Colab\"/></a>"
      ]
    },
    {
      "cell_type": "code",
      "execution_count": 1,
      "metadata": {
        "id": "yjxrvBweuR0D"
      },
      "outputs": [],
      "source": [
        "# 문제 설명\n",
        "# 등차수열 혹은 등비수열 common이 매개변수로 주어질 때,\n",
        "# 마지막 원소 다음으로 올 숫자를 return 하도록 solution 함수를 완성해보세요.\n",
        "\n",
        "# 제한사항\n",
        "# 2 < common의 길이 < 1,000\n",
        "# -1,000 < common의 원소 < 2,000\n",
        "# common의 원소는 모두 정수입니다.\n",
        "# 등차수열 혹은 등비수열이 아닌 경우는 없습니다.\n",
        "# 등비수열인 경우 공비는 0이 아닌 정수입니다.\n",
        "\n",
        "# 입출력 예\n",
        "# common\t          result\n",
        "# [1, 2, 3, 4]\t      5\n",
        "# [2, 4, 8]\t          16\n",
        "\n",
        "# 입출력 예 설명\n",
        "# 입출력 예 #1\n",
        "# [1, 2, 3, 4]는 공차가 1인 등차수열이므로 다음에 올 수는 5이다.\n",
        "\n",
        "# 입출력 예 #2\n",
        "# [2, 4, 8]은 공비가 2인 등비수열이므로 다음에 올 수는 16이다."
      ]
    },
    {
      "cell_type": "code",
      "source": [
        "# 등차 수열, 등비 수열을 하나하나 해주면 된다.\n",
        "# 제한 사항의 길이가 무조건 3 이상이니까 그걸로 해준다\n",
        "def solution(common):\n",
        "    answer = 0\n",
        "    # 등차 수열\n",
        "    if common[1] - common[0] == common[2] - common[1]:\n",
        "      answer = common[-1] + (common[1] - common[0])\n",
        "    # 등비 수열\n",
        "    elif common[1] // common[0] == common[2] // common[1]:\n",
        "      answer = common[-1] * (common[1] // common[0])\n",
        "    return answer\n",
        "# 별거 아닌거였는데 감을 못 잡았음"
      ],
      "metadata": {
        "id": "jknSXLKb1RPF"
      },
      "execution_count": 3,
      "outputs": []
    },
    {
      "cell_type": "code",
      "source": [
        "common = [1, 2, 3, 4]\n",
        "solution(common)"
      ],
      "metadata": {
        "colab": {
          "base_uri": "https://localhost:8080/"
        },
        "id": "QBAEDX121TBV",
        "outputId": "00ba9b84-0cd3-416c-ccb4-ddd407ca3a00"
      },
      "execution_count": 4,
      "outputs": [
        {
          "output_type": "execute_result",
          "data": {
            "text/plain": [
              "5"
            ]
          },
          "metadata": {},
          "execution_count": 4
        }
      ]
    },
    {
      "cell_type": "code",
      "source": [
        "common = [2, 4, 8]\n",
        "solution(common)"
      ],
      "metadata": {
        "colab": {
          "base_uri": "https://localhost:8080/"
        },
        "id": "cKktYLco1YqV",
        "outputId": "2844e194-4921-4fe9-e51e-acc5f8188528"
      },
      "execution_count": 5,
      "outputs": [
        {
          "output_type": "execute_result",
          "data": {
            "text/plain": [
              "16"
            ]
          },
          "metadata": {},
          "execution_count": 5
        }
      ]
    },
    {
      "cell_type": "code",
      "source": [
        "# 다른 사람 풀이"
      ],
      "metadata": {
        "id": "Q4fSJ51O1YoV"
      },
      "execution_count": 6,
      "outputs": []
    },
    {
      "cell_type": "code",
      "source": [
        "# 크게 다른건 없음\n",
        "def solution(common):\n",
        "    answer = 0\n",
        "    a,b,c = common[:3]\n",
        "    if (b-a) == (c-b):\n",
        "        return common[-1]+(b-a)\n",
        "    else:\n",
        "        return common[-1] * (b//a)\n",
        "    return answer"
      ],
      "metadata": {
        "id": "Yj_hhaKx4bK2"
      },
      "execution_count": null,
      "outputs": []
    }
  ]
}