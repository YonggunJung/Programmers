{
  "nbformat": 4,
  "nbformat_minor": 0,
  "metadata": {
    "colab": {
      "provenance": [],
      "authorship_tag": "ABX9TyP7M+X7Mf4EabtfpZx0Yfqy",
      "include_colab_link": true
    },
    "kernelspec": {
      "name": "python3",
      "display_name": "Python 3"
    },
    "language_info": {
      "name": "python"
    }
  },
  "cells": [
    {
      "cell_type": "markdown",
      "metadata": {
        "id": "view-in-github",
        "colab_type": "text"
      },
      "source": [
        "<a href=\"https://colab.research.google.com/github/YonggunJung/Programmers/blob/main/%EC%82%BC%EC%B4%9D%EC%82%AC.ipynb\" target=\"_parent\"><img src=\"https://colab.research.google.com/assets/colab-badge.svg\" alt=\"Open In Colab\"/></a>"
      ]
    },
    {
      "cell_type": "code",
      "execution_count": 1,
      "metadata": {
        "id": "OzG-HLPu72l3"
      },
      "outputs": [],
      "source": [
        "# 문제 설명\n",
        "# 한국중학교에 다니는 학생들은 각자 정수 번호를 갖고 있습니다.\n",
        "# 이 학교 학생 3명의 정수 번호를 더했을 때 0이 되면 3명의 학생은 삼총사라고 합니다.\n",
        "# 예를 들어, 5명의 학생이 있고,\n",
        "# 각각의 정수 번호가 순서대로 -2, 3, 0, 2, -5일 때,\n",
        "# 첫 번째, 세 번째, 네 번째 학생의 정수 번호를 더하면 0이므로 세 학생은 삼총사입니다.\n",
        "# 또한, 두 번째, 네 번째, 다섯 번째 학생의 정수 번호를 더해도 0이므로 세 학생도 삼총사입니다.\n",
        "# 따라서 이 경우 한국중학교에서는 두 가지 방법으로 삼총사를 만들 수 있습니다.\n",
        "\n",
        "# 한국중학교 학생들의 번호를 나타내는 정수 배열 number가 매개변수로 주어질 때,\n",
        "# 학생들 중 삼총사를 만들 수 있는 방법의 수를 return 하도록 solution 함수를 완성하세요.\n",
        "\n",
        "# 제한사항\n",
        "# 3 ≤ number의 길이 ≤ 13\n",
        "# -1,000 ≤ number의 각 원소 ≤ 1,000\n",
        "# 서로 다른 학생의 정수 번호가 같을 수 있습니다.\n",
        "\n",
        "# 입출력 예\n",
        "# number\t                      result\n",
        "# [-2, 3, 0, 2, -5]\t              2\n",
        "# [-3, -2, -1, 0, 1, 2, 3]\t      5\n",
        "# [-1, 1, -1, 1]\t                0\n",
        "\n",
        "# 입출력 예 설명\n",
        "# 입출력 예 #1\n",
        "# 문제 예시와 같습니다.\n",
        "\n",
        "# 입출력 예 #2\n",
        "# 학생들의 정수 번호 쌍 (-3, 0, 3), (-2, 0, 2), (-1, 0, 1), (-2, -1, 3), (-3, 1, 2) 이 삼총사가 될 수 있으므로,\n",
        "# 5를 return 합니다.\n",
        "\n",
        "# 입출력 예 #3\n",
        "# 삼총사가 될 수 있는 방법이 없습니다."
      ]
    },
    {
      "cell_type": "code",
      "source": [
        "def solution(number):\n",
        "    answer = 0\n",
        "    for i in range(len(number) -2):\n",
        "      for j in range(i + 1, len(number) - 1):\n",
        "        for k in range(j + 1, len(number)):\n",
        "          if number[i] + number[j] + number[k] == 0:\n",
        "            answer += 1\n",
        "    return answer"
      ],
      "metadata": {
        "id": "RhHkbokP8CoT"
      },
      "execution_count": 2,
      "outputs": []
    },
    {
      "cell_type": "code",
      "source": [
        "\n",
        "# 파이선의 라이브러리란 참 ㅋㅋㅋㅋㅋ\n",
        "# 이래서 파이썬을 써야함\n",
        "def solution (number) :\n",
        "    from itertools import combinations\n",
        "    cnt = 0\n",
        "    for i in combinations(number,3) :\n",
        "        if sum(i) == 0 :\n",
        "            cnt += 1\n",
        "    return cnt"
      ],
      "metadata": {
        "id": "es_BuTx88pJD"
      },
      "execution_count": null,
      "outputs": []
    }
  ]
}