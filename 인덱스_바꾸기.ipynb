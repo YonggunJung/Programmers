{
  "nbformat": 4,
  "nbformat_minor": 0,
  "metadata": {
    "colab": {
      "provenance": [],
      "authorship_tag": "ABX9TyPUXOKxRN0/Uho+Nk79QR1R",
      "include_colab_link": true
    },
    "kernelspec": {
      "name": "python3",
      "display_name": "Python 3"
    },
    "language_info": {
      "name": "python"
    }
  },
  "cells": [
    {
      "cell_type": "markdown",
      "metadata": {
        "id": "view-in-github",
        "colab_type": "text"
      },
      "source": [
        "<a href=\"https://colab.research.google.com/github/YonggunJung/Programmers/blob/main/%EC%9D%B8%EB%8D%B1%EC%8A%A4_%EB%B0%94%EA%BE%B8%EA%B8%B0.ipynb\" target=\"_parent\"><img src=\"https://colab.research.google.com/assets/colab-badge.svg\" alt=\"Open In Colab\"/></a>"
      ]
    },
    {
      "cell_type": "code",
      "execution_count": null,
      "metadata": {
        "id": "4GVNdSewU8m9"
      },
      "outputs": [],
      "source": [
        "# 문제 설명\n",
        "# 문자열 my_string과 정수 num1, num2가 매개변수로 주어질 때,\n",
        "# my_string에서 인덱스 num1과 인덱스 num2에 해당하는 문자를 바꾼 문자열을\n",
        "# return 하도록 solution 함수를 완성해보세요.\n",
        "\n",
        "# 제한사항\n",
        "# 1 < my_string의 길이 < 100\n",
        "# 0 ≤ num1, num2 < my_string의 길이\n",
        "# my_string은 소문자로 이루어져 있습니다.\n",
        "# num1 ≠ num2\n",
        "\n",
        "# 입출력 예\n",
        "# my_string\t        num1\t    num2\t        result\n",
        "# \"hello\"\t            1\t        2\t          \"hlelo\"\n",
        "# \"I love you\"\t      3\t        6\t          \"I l veoyou\"\n",
        "\n",
        "# 입출력 예 설명\n",
        "# 입출력 예 #1\n",
        "# \"hello\"의 1번째 인덱스인 \"e\"와 2번째 인덱스인 \"l\"을 바꾸면 \"hlelo\"입니다.\n",
        "\n",
        "# 입출력 예 #2\n",
        "# \"I love you\"의 3번째 인덱스 \"o\"와 \" \"(공백)을 바꾸면 \"I l veoyou\"입니다."
      ]
    },
    {
      "cell_type": "code",
      "source": [
        "# list로 바꿔서 해줘야함\n",
        "# 이거때문에 풀이 봄\n",
        "def solution(my_string, num1, num2):\n",
        "    lstring = list(my_string)\n",
        "    lstring[num1], lstring[num2] = lstring[num2], lstring[num1]\n",
        "    return ''.join(lstring)"
      ],
      "metadata": {
        "id": "ZcgIHO1iVHZZ"
      },
      "execution_count": 27,
      "outputs": []
    },
    {
      "cell_type": "code",
      "source": [
        "my_string = \"hello\"\n",
        "num1 = 1\n",
        "num2 = 2\n",
        "solution(my_string, num1, num2)"
      ],
      "metadata": {
        "colab": {
          "base_uri": "https://localhost:8080/",
          "height": 35
        },
        "id": "5dmHfYYEVHXX",
        "outputId": "586389c9-1a36-41bf-fecf-b40d465253f7"
      },
      "execution_count": 28,
      "outputs": [
        {
          "output_type": "execute_result",
          "data": {
            "text/plain": [
              "'hlelo'"
            ],
            "application/vnd.google.colaboratory.intrinsic+json": {
              "type": "string"
            }
          },
          "metadata": {},
          "execution_count": 28
        }
      ]
    },
    {
      "cell_type": "code",
      "source": [
        "my_string = \"I love you\"\n",
        "num1 = 3\n",
        "num2 = 6\n",
        "solution(my_string, num1, num2)"
      ],
      "metadata": {
        "colab": {
          "base_uri": "https://localhost:8080/",
          "height": 35
        },
        "id": "HX0rQb2kVHVQ",
        "outputId": "8b0cee5a-6c85-4133-964e-ed5a93d4e82e"
      },
      "execution_count": 29,
      "outputs": [
        {
          "output_type": "execute_result",
          "data": {
            "text/plain": [
              "'I l veoyou'"
            ],
            "application/vnd.google.colaboratory.intrinsic+json": {
              "type": "string"
            }
          },
          "metadata": {},
          "execution_count": 29
        }
      ]
    },
    {
      "cell_type": "code",
      "source": [
        "# 다른사람 풀이"
      ],
      "metadata": {
        "id": "_By8LLVeX0yA"
      },
      "execution_count": 30,
      "outputs": []
    },
    {
      "cell_type": "code",
      "source": [
        "# 이건 뭘까?\n",
        "def solution(my_string, num1, num2):\n",
        "    [a, b] = sorted([num1, num2])\n",
        "    return my_string[0:a] + my_string[b] + my_string[a+1:b] + my_string[a] + my_string[b+1:]"
      ],
      "metadata": {
        "id": "qGVTd7NIakYh"
      },
      "execution_count": 31,
      "outputs": []
    },
    {
      "cell_type": "code",
      "source": [
        "# 와우 이렇게 끼워 넣기도 가능\n",
        "# 뭐 약간 이상한 점도 있지만 방법론으론 가능\n",
        "def solution(my_string, num1, num2):\n",
        "    return my_string[:num1]+my_string[num2]+my_string[num1+1:num2]+my_string[num1]+my_string[num2+1:]"
      ],
      "metadata": {
        "id": "eyEsMpXpa1cf"
      },
      "execution_count": null,
      "outputs": []
    }
  ]
}