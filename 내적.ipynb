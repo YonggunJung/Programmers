{
  "nbformat": 4,
  "nbformat_minor": 0,
  "metadata": {
    "colab": {
      "provenance": [],
      "authorship_tag": "ABX9TyPIUfltsMZK54FTO9JpuAIl",
      "include_colab_link": true
    },
    "kernelspec": {
      "name": "python3",
      "display_name": "Python 3"
    },
    "language_info": {
      "name": "python"
    }
  },
  "cells": [
    {
      "cell_type": "markdown",
      "metadata": {
        "id": "view-in-github",
        "colab_type": "text"
      },
      "source": [
        "<a href=\"https://colab.research.google.com/github/YonggunJung/Programmers/blob/main/%EB%82%B4%EC%A0%81.ipynb\" target=\"_parent\"><img src=\"https://colab.research.google.com/assets/colab-badge.svg\" alt=\"Open In Colab\"/></a>"
      ]
    },
    {
      "cell_type": "code",
      "execution_count": null,
      "metadata": {
        "id": "y1jgny5BpQSY"
      },
      "outputs": [],
      "source": [
        "# 문제 설명\n",
        "# 길이가 같은 두 1차원 정수 배열 a, b가 매개변수로 주어집니다.\n",
        "# a와 b의 내적을 return 하도록 solution 함수를 완성해주세요.\n",
        "\n",
        "# 이때, a와 b의 내적은 a[0]*b[0] + a[1]*b[1] + ... + a[n-1]*b[n-1] 입니다.\n",
        "# (n은 a, b의 길이)\n",
        "\n",
        "# 제한사항\n",
        "# a, b의 길이는 1 이상 1,000 이하입니다.\n",
        "# a, b의 모든 수는 -1,000 이상 1,000 이하입니다.\n",
        "\n",
        "# 입출력 예\n",
        "# a\t                b\t                result\n",
        "# [1,2,3,4]\t        [-3,-1,0,2]\t        3\n",
        "# [-1,0,1]\t        [1,0,-1]\t         -2\n",
        "\n",
        "# 입출력 예 설명\n",
        "# 입출력 예 #1\n",
        "# a와 b의 내적은 1*(-3) + 2*(-1) + 3*0 + 4*2 = 3 입니다.\n",
        "\n",
        "# 입출력 예 #2\n",
        "# a와 b의 내적은 (-1)*1 + 0*0 + 1*(-1) = -2 입니다."
      ]
    },
    {
      "cell_type": "code",
      "source": [
        "def solution(a, b):\n",
        "    answer = 0\n",
        "    for i in range(len(a)):\n",
        "      answer += a[i]*b[i]\n",
        "    return answer"
      ],
      "metadata": {
        "id": "EMRL47N-paoz"
      },
      "execution_count": 1,
      "outputs": []
    },
    {
      "cell_type": "code",
      "source": [
        "# 다른 사람 풀이\n",
        "# return sum([x*y for x, y in zip(a,b)])"
      ],
      "metadata": {
        "id": "u0nkj6I8pdLa"
      },
      "execution_count": null,
      "outputs": []
    }
  ]
}