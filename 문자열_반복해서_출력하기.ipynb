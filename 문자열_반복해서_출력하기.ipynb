{
  "nbformat": 4,
  "nbformat_minor": 0,
  "metadata": {
    "colab": {
      "provenance": [],
      "authorship_tag": "ABX9TyOCGq4p3lsLBLmexRIfM6D5",
      "include_colab_link": true
    },
    "kernelspec": {
      "name": "python3",
      "display_name": "Python 3"
    },
    "language_info": {
      "name": "python"
    }
  },
  "cells": [
    {
      "cell_type": "markdown",
      "metadata": {
        "id": "view-in-github",
        "colab_type": "text"
      },
      "source": [
        "<a href=\"https://colab.research.google.com/github/YonggunJung/Programmers/blob/main/%EB%AC%B8%EC%9E%90%EC%97%B4_%EB%B0%98%EB%B3%B5%ED%95%B4%EC%84%9C_%EC%B6%9C%EB%A0%A5%ED%95%98%EA%B8%B0.ipynb\" target=\"_parent\"><img src=\"https://colab.research.google.com/assets/colab-badge.svg\" alt=\"Open In Colab\"/></a>"
      ]
    },
    {
      "cell_type": "code",
      "execution_count": 1,
      "metadata": {
        "id": "XhVSKDvaUkxA"
      },
      "outputs": [],
      "source": [
        "# 문제 설명\n",
        "# 문자열 str과 정수 n이 주어집니다.\n",
        "# str이 n번 반복된 문자열을 만들어 출력하는 코드를 작성해 보세요.\n",
        "\n",
        "# 제한사항\n",
        "# 1 ≤ str의 길이 ≤ 10\n",
        "# 1 ≤ n ≤ 5\n",
        "\n",
        "# 입출력 예\n",
        "# 입력 #1\n",
        "# string 5\n",
        "\n",
        "# 출력 #1\n",
        "# stringstringstringstringstring"
      ]
    },
    {
      "cell_type": "code",
      "source": [
        "# 문제\n",
        "# a, b = input().strip().split(' ')\n",
        "# b = int(b)"
      ],
      "metadata": {
        "id": "BWxp5tmyUoUy"
      },
      "execution_count": 2,
      "outputs": []
    },
    {
      "cell_type": "code",
      "source": [
        "a, b = input().strip('').split(' ')\n",
        "b = int(b)\n",
        "print(a * b)"
      ],
      "metadata": {
        "colab": {
          "base_uri": "https://localhost:8080/"
        },
        "id": "4omcVBACUsGq",
        "outputId": "cfdfd3dd-662a-47c8-abef-209c38d3ca38"
      },
      "execution_count": 4,
      "outputs": [
        {
          "output_type": "stream",
          "name": "stdout",
          "text": [
            "string 5\n",
            "stringstringstringstringstring\n"
          ]
        }
      ]
    },
    {
      "cell_type": "code",
      "source": [
        "# 다른 사람 풀이"
      ],
      "metadata": {
        "id": "ayRArD5dVJSB"
      },
      "execution_count": 5,
      "outputs": []
    },
    {
      "cell_type": "code",
      "source": [
        "a, b = input().strip().split(' ')\n",
        "b = int(b)\n",
        "\n",
        "result = a * b\n",
        "print(result)"
      ],
      "metadata": {
        "colab": {
          "base_uri": "https://localhost:8080/"
        },
        "id": "_wXUSy6VVebs",
        "outputId": "bb52731f-35b8-49d6-c48f-18b703d95b53"
      },
      "execution_count": 6,
      "outputs": [
        {
          "output_type": "stream",
          "name": "stdout",
          "text": [
            "ㄴㄴ 4\n",
            "ㄴㄴㄴㄴㄴㄴㄴㄴ\n"
          ]
        }
      ]
    },
    {
      "cell_type": "code",
      "source": [
        "a, b = input().strip().split(' ')\n",
        "print(a * int(b))"
      ],
      "metadata": {
        "id": "UUoVXsKnVgMq"
      },
      "execution_count": null,
      "outputs": []
    },
    {
      "cell_type": "code",
      "source": [
        "a, b = input().strip().split(' ')\n",
        "for i in range(int(b)):\n",
        "    print(a, end = \"\")"
      ],
      "metadata": {
        "id": "ZoXXwW88VlXP"
      },
      "execution_count": null,
      "outputs": []
    },
    {
      "cell_type": "code",
      "source": [
        "a, b = input().strip().split(' ')\n",
        "b = int(b)\n",
        "s = \"\"\n",
        "for i in range(b):\n",
        "    s += a\n",
        "print(s)"
      ],
      "metadata": {
        "id": "YGMPW-7NVngb"
      },
      "execution_count": null,
      "outputs": []
    }
  ]
}