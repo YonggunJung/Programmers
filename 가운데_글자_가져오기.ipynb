{
  "nbformat": 4,
  "nbformat_minor": 0,
  "metadata": {
    "colab": {
      "provenance": [],
      "authorship_tag": "ABX9TyNvUyHYDntV5SMK7QTVJv2L",
      "include_colab_link": true
    },
    "kernelspec": {
      "name": "python3",
      "display_name": "Python 3"
    },
    "language_info": {
      "name": "python"
    }
  },
  "cells": [
    {
      "cell_type": "markdown",
      "metadata": {
        "id": "view-in-github",
        "colab_type": "text"
      },
      "source": [
        "<a href=\"https://colab.research.google.com/github/YonggunJung/Programmers/blob/main/%EA%B0%80%EC%9A%B4%EB%8D%B0_%EA%B8%80%EC%9E%90_%EA%B0%80%EC%A0%B8%EC%98%A4%EA%B8%B0.ipynb\" target=\"_parent\"><img src=\"https://colab.research.google.com/assets/colab-badge.svg\" alt=\"Open In Colab\"/></a>"
      ]
    },
    {
      "cell_type": "code",
      "execution_count": 1,
      "metadata": {
        "id": "89qgwXn51u3k"
      },
      "outputs": [],
      "source": [
        "# 문제 설명\n",
        "# 단어 s의 가운데 글자를 반환하는 함수, solution을 만들어 보세요.\n",
        "# 단어의 길이가 짝수라면 가운데 두글자를 반환하면 됩니다.\n",
        "\n",
        "# 재한사항\n",
        "# s는 길이가 1 이상, 100이하인 스트링입니다.\n",
        "\n",
        "# 입출력 예\n",
        "# s           \treturn\n",
        "# \"abcde\"\t        \"c\"\n",
        "# \"qwer\"\t        \"we\""
      ]
    },
    {
      "cell_type": "code",
      "source": [
        "def solution(s):\n",
        "    answer = ''\n",
        "    if len(s) %2 == 0:\n",
        "      answer = s[len(s)//2-1:len(s)//2+1]\n",
        "    else:\n",
        "      answer = s[len(s)//2]\n",
        "    return answer"
      ],
      "metadata": {
        "id": "7dnkQvm41zVJ"
      },
      "execution_count": 2,
      "outputs": []
    },
    {
      "cell_type": "code",
      "source": [
        "# 다른 사람 풀이\n",
        "# 깔끔하네\n",
        "# return str[(len(str)-1)//2 : len(str)//2 + 1]"
      ],
      "metadata": {
        "id": "gmpHg5Dt2jDL"
      },
      "execution_count": null,
      "outputs": []
    }
  ]
}