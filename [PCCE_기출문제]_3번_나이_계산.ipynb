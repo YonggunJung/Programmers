{
  "nbformat": 4,
  "nbformat_minor": 0,
  "metadata": {
    "colab": {
      "provenance": [],
      "authorship_tag": "ABX9TyOXqpsXu2ZEOeEInFaCIY0L",
      "include_colab_link": true
    },
    "kernelspec": {
      "name": "python3",
      "display_name": "Python 3"
    },
    "language_info": {
      "name": "python"
    }
  },
  "cells": [
    {
      "cell_type": "markdown",
      "metadata": {
        "id": "view-in-github",
        "colab_type": "text"
      },
      "source": [
        "<a href=\"https://colab.research.google.com/github/YonggunJung/Programmers/blob/main/%5BPCCE_%EA%B8%B0%EC%B6%9C%EB%AC%B8%EC%A0%9C%5D_3%EB%B2%88_%EB%82%98%EC%9D%B4_%EA%B3%84%EC%82%B0.ipynb\" target=\"_parent\"><img src=\"https://colab.research.google.com/assets/colab-badge.svg\" alt=\"Open In Colab\"/></a>"
      ]
    },
    {
      "cell_type": "code",
      "execution_count": 1,
      "metadata": {
        "id": "DHMAfNKBKT6i"
      },
      "outputs": [],
      "source": [
        "# 문제 설명\n",
        "# 나이를 세는 방법은 여러 가지가 있습니다.\n",
        "# 그중 한국식 나이는 태어난 순간 1살이 되며 해가 바뀔 때마다 1살씩 더 먹게 됩니다.\n",
        "# 연 나이는 태어난 순간 0살이며 해가 바뀔 때마다 1살씩 더 먹게 됩니다.\n",
        "# 각각 나이의 계산법은 다음과 같습니다.\n",
        "\n",
        "# 한국식 나이 : 현재 연도 - 출생 연도 + 1\n",
        "# 연 나이 : 현재 연도 - 출생 연도\n",
        "\n",
        "# 출생 연도를 나타내는 정수 year와\n",
        "# 구하려는 나이의 종류를 나타내는 문자열 age_type이 주어질 때\n",
        "# 2030년에 몇 살인지 출력하도록 빈칸을 채워 코드를 완성해 주세요.\n",
        "# age_type이 \"Korea\"라면 한국식 나이를, \"Year\"라면 연 나이를 출력합니다.\n",
        "\n",
        "# 제한사항\n",
        "# 1950 ≤ year ≤ 2030\n",
        "# age_type은 \"Korea\" 또는 \"Year\"만 주어집니다.\n",
        "\n",
        "# 입출력 예\n",
        "# 입력 #1             출력 #1\n",
        "# 2000                  31\n",
        "# Korea\n",
        "\n",
        "# 입력 #2             출력 #2\n",
        "# 1999                  31\n",
        "# Year\n",
        "\n",
        "# 입출력 예 설명\n",
        "# 입출력 예 #1\n",
        "# 2030년에 2000년생의 한국식 나이는 2030 - 2000 + 1 = 31살입니다.\n",
        "\n",
        "# 입출력 예 #2\n",
        "# 2030년에 1999년생의 연 나이는 2030 - 1999 = 31살입니다.\n",
        "\n",
        "# 빈칸 채우기 문제 안내\n",
        "# 빈칸 채우기는 이미 완성된 코드 중 빈칸에 알맞은 코드를 입력하는 문제 타입입니다.\n",
        "# 빈칸을 제외한 기본 코드는 수정할 수 없습니다.\n",
        "# 빈칸을 채우지 않을 경우, 실행 결과에 에러 메시지가 표시됩니다."
      ]
    },
    {
      "cell_type": "code",
      "source": [
        "# 문제\n",
        "# year = int(input())\n",
        "# age_type = input()\n",
        "\n",
        "# if age_type == 빈칸1 :\n",
        "#     answer = 빈칸2\n",
        "\n",
        "# elif age_type == \"Year\":\n",
        "#     빈칸3\n",
        "\n",
        "\n",
        "\n",
        "# print(answer)"
      ],
      "metadata": {
        "id": "rwTMHhv3K0OU"
      },
      "execution_count": null,
      "outputs": []
    },
    {
      "cell_type": "code",
      "source": [
        "year = int(input())\n",
        "age_type = input()\n",
        "\n",
        "if age_type == \"Korea\":\n",
        "    answer = 2030 - year + 1\n",
        "\n",
        "elif age_type == \"Year\":\n",
        "    answer = 2030 - year\n",
        "\n",
        "\n",
        "print(answer)"
      ],
      "metadata": {
        "colab": {
          "base_uri": "https://localhost:8080/"
        },
        "id": "LneynTpsK82v",
        "outputId": "9c318011-57d9-4f45-8925-604d6851250a"
      },
      "execution_count": 2,
      "outputs": [
        {
          "output_type": "stream",
          "name": "stdout",
          "text": [
            "2000\n",
            "Korea\n",
            "31\n"
          ]
        }
      ]
    },
    {
      "cell_type": "code",
      "source": [
        "year = int(input())\n",
        "age_type = input()\n",
        "\n",
        "if age_type == \"Korea\":\n",
        "    answer = 2030 - year + 1\n",
        "\n",
        "elif age_type == \"Year\":\n",
        "    answer = 2030 - year\n",
        "\n",
        "\n",
        "print(answer)"
      ],
      "metadata": {
        "colab": {
          "base_uri": "https://localhost:8080/"
        },
        "id": "fA41JOChL2Ns",
        "outputId": "513ab1b3-bb6f-485a-8a79-f1b36b07edb7"
      },
      "execution_count": 3,
      "outputs": [
        {
          "output_type": "stream",
          "name": "stdout",
          "text": [
            "1999\n",
            "US\n",
            "31\n"
          ]
        }
      ]
    },
    {
      "cell_type": "code",
      "source": [
        "# 다른 사람 풀이"
      ],
      "metadata": {
        "id": "nmrKP8wFL77y"
      },
      "execution_count": 4,
      "outputs": []
    },
    {
      "cell_type": "code",
      "source": [
        "# 답이 있어서 다른게 나오기 어려움\n",
        "year = int(input())\n",
        "age_type = input()\n",
        "\n",
        "if age_type == \"Korea\":\n",
        "    answer = 2031-int(year)\n",
        "elif age_type == \"Year\":\n",
        "    answer = 2030-int(year)\n",
        "\n",
        "print(answer)"
      ],
      "metadata": {
        "id": "zMpl_-kMMEHt"
      },
      "execution_count": null,
      "outputs": []
    }
  ]
}