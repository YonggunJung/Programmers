{
  "nbformat": 4,
  "nbformat_minor": 0,
  "metadata": {
    "colab": {
      "provenance": [],
      "authorship_tag": "ABX9TyMiI96uta6FAg6vaHbQAShq",
      "include_colab_link": true
    },
    "kernelspec": {
      "name": "python3",
      "display_name": "Python 3"
    },
    "language_info": {
      "name": "python"
    }
  },
  "cells": [
    {
      "cell_type": "markdown",
      "metadata": {
        "id": "view-in-github",
        "colab_type": "text"
      },
      "source": [
        "<a href=\"https://colab.research.google.com/github/YonggunJung/Programmers/blob/main/n_%EB%B2%88%EC%A7%B8_%EC%9B%90%EC%86%8C%EB%B6%80%ED%84%B0.ipynb\" target=\"_parent\"><img src=\"https://colab.research.google.com/assets/colab-badge.svg\" alt=\"Open In Colab\"/></a>"
      ]
    },
    {
      "cell_type": "code",
      "execution_count": 1,
      "metadata": {
        "id": "a3G6Ivy-13ej"
      },
      "outputs": [],
      "source": [
        "# 문제 설명\n",
        "# 정수 리스트 num_list와 정수 n이 주어질 때,\n",
        "# n 번째 원소부터 마지막 원소까지의 모든 원소를 담은 리스트를\n",
        "# return하도록 solution 함수를 완성해주세요.\n",
        "\n",
        "# 제한사항\n",
        "# 2 ≤ num_list의 길이 ≤ 30\n",
        "# 1 ≤ num_list의 원소 ≤ 9\n",
        "# 1 ≤ n ≤ num_list의 길이\n",
        "\n",
        "# 입출력 예\n",
        "# num_list\t        n\t      result\n",
        "# [2, 1, 6]\t        3\t      [6]\n",
        "# [5, 2, 1, 7, 5]\t  2\t      [2, 1, 7, 5]\n",
        "\n",
        "# 입출력 예 설명\n",
        "# 입출력 예 #1\n",
        "# [2, 1, 6]의 세 번째 원소부터 마지막 원소까지의 모든 원소는 [6]입니다.\n",
        "\n",
        "# 입출력 예 #2\n",
        "# [5, 2, 1, 7, 5]의 두 번째 원소부터 마지막 원소까지의 모든 원소는 [2, 1, 7, 5]입니다."
      ]
    },
    {
      "cell_type": "code",
      "source": [
        "# 순서대로 풀고 있는데 이런문제가 지금 나오네 ..\n",
        "def solution(num_list, n):\n",
        "    answer = num_list[n-1:]\n",
        "\n",
        "    return answer"
      ],
      "metadata": {
        "id": "qbd3KASV2A1Q"
      },
      "execution_count": 3,
      "outputs": []
    },
    {
      "cell_type": "code",
      "source": [
        "num_list = [2, 1, 6]\n",
        "n = 3\n",
        "solution(num_list, n)"
      ],
      "metadata": {
        "colab": {
          "base_uri": "https://localhost:8080/"
        },
        "id": "pfbMlKYV2DG1",
        "outputId": "f996a9a8-d44b-477c-ad51-edd582faa981"
      },
      "execution_count": 4,
      "outputs": [
        {
          "output_type": "execute_result",
          "data": {
            "text/plain": [
              "[6]"
            ]
          },
          "metadata": {},
          "execution_count": 4
        }
      ]
    },
    {
      "cell_type": "code",
      "source": [
        "num_list = [5, 2, 1, 7, 5]\n",
        "n = 2\n",
        "solution(num_list, n)"
      ],
      "metadata": {
        "colab": {
          "base_uri": "https://localhost:8080/"
        },
        "id": "kSq7d3ef2FyT",
        "outputId": "1a251d5c-0c9f-4e25-b0a0-cfc3b6bbf744"
      },
      "execution_count": 5,
      "outputs": [
        {
          "output_type": "execute_result",
          "data": {
            "text/plain": [
              "[2, 1, 7, 5]"
            ]
          },
          "metadata": {},
          "execution_count": 5
        }
      ]
    },
    {
      "cell_type": "code",
      "source": [
        "# 다른 사람 풀이"
      ],
      "metadata": {
        "id": "rKlU7X7J2V_G"
      },
      "execution_count": null,
      "outputs": []
    }
  ]
}