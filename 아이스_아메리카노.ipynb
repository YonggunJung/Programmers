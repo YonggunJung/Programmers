{
  "nbformat": 4,
  "nbformat_minor": 0,
  "metadata": {
    "colab": {
      "provenance": [],
      "authorship_tag": "ABX9TyOjCiSzHCIWlFHKH5akav7E",
      "include_colab_link": true
    },
    "kernelspec": {
      "name": "python3",
      "display_name": "Python 3"
    },
    "language_info": {
      "name": "python"
    }
  },
  "cells": [
    {
      "cell_type": "markdown",
      "metadata": {
        "id": "view-in-github",
        "colab_type": "text"
      },
      "source": [
        "<a href=\"https://colab.research.google.com/github/YonggunJung/Programmers/blob/main/%EC%95%84%EC%9D%B4%EC%8A%A4_%EC%95%84%EB%A9%94%EB%A6%AC%EC%B9%B4%EB%85%B8.ipynb\" target=\"_parent\"><img src=\"https://colab.research.google.com/assets/colab-badge.svg\" alt=\"Open In Colab\"/></a>"
      ]
    },
    {
      "cell_type": "code",
      "execution_count": null,
      "metadata": {
        "id": "mbOeGidcr9vB"
      },
      "outputs": [],
      "source": [
        "# 문제 설명\n",
        "# 머쓱이는 추운 날에도 아이스 아메리카노만 마십니다.\n",
        "# 아이스 아메리카노는 한잔에 5,500원입니다.\n",
        "# 머쓱이가 가지고 있는 돈 money가 매개변수로 주어질 때,\n",
        "# 머쓱이가 최대로 마실 수 있는 아메리카노의 잔 수와 남는 돈을\n",
        "# 순서대로 담은 배열을 return 하도록 solution 함수를 완성해보세요.\n",
        "\n",
        "# 제한사항\n",
        "# 0 < money ≤ 1,000,000\n",
        "\n",
        "# 입출력 예\n",
        "# money\t      result\n",
        "# 5,500\t      [1, 0]\n",
        "# 15,000\t    [2, 4000]\n",
        "\n",
        "# 입출력 예 설명\n",
        "# 입출력 예 #1\n",
        "# 5,500원은 아이스 아메리카노 한 잔을 살 수 있고 잔돈은 0원입니다.\n",
        "\n",
        "# 입출력 예 #2\n",
        "# 15,000원은 아이스 아메리카노 두 잔을 살 수 있고 잔돈은 4,000원입니다."
      ]
    },
    {
      "cell_type": "code",
      "source": [
        "def solution(money):\n",
        "    answer = [money // 5500, money % 5500]\n",
        "    return answer"
      ],
      "metadata": {
        "id": "B_WpQJwxsdwJ"
      },
      "execution_count": 7,
      "outputs": []
    },
    {
      "cell_type": "code",
      "source": [
        "money = 5500\n",
        "solution(money)"
      ],
      "metadata": {
        "colab": {
          "base_uri": "https://localhost:8080/"
        },
        "id": "xZnTh7Bbs1iX",
        "outputId": "f47615c2-8076-407a-891d-66d36a88f015"
      },
      "execution_count": 8,
      "outputs": [
        {
          "output_type": "execute_result",
          "data": {
            "text/plain": [
              "[1, 0]"
            ]
          },
          "metadata": {},
          "execution_count": 8
        }
      ]
    },
    {
      "cell_type": "code",
      "source": [
        "money = 15000\n",
        "solution(money)"
      ],
      "metadata": {
        "colab": {
          "base_uri": "https://localhost:8080/"
        },
        "id": "jMOxVlvjs8DH",
        "outputId": "543b6a76-637a-435d-8229-93076f9f4343"
      },
      "execution_count": 10,
      "outputs": [
        {
          "output_type": "execute_result",
          "data": {
            "text/plain": [
              "[2, 4000]"
            ]
          },
          "metadata": {},
          "execution_count": 10
        }
      ]
    },
    {
      "cell_type": "code",
      "source": [
        "# 다른 사람 풀이"
      ],
      "metadata": {
        "id": "P7ZgjnljuIln"
      },
      "execution_count": 11,
      "outputs": []
    },
    {
      "cell_type": "code",
      "source": [
        "# divmod() 새로운 함수 알아감\n",
        "def solution(money):\n",
        "    return divmod(money, 5500)"
      ],
      "metadata": {
        "id": "6E52WE8JuXh_"
      },
      "execution_count": 12,
      "outputs": []
    },
    {
      "cell_type": "code",
      "source": [
        "\n",
        "def solution(money):\n",
        "    a,b = divmod(money,5500)\n",
        "    return [a,b]"
      ],
      "metadata": {
        "id": "giPz3MJ9ukuo"
      },
      "execution_count": 13,
      "outputs": []
    },
    {
      "cell_type": "code",
      "source": [
        "# 변수를 만들고 리턴에 변수를 넣는다\n",
        "def solution(money):\n",
        "    cup = money//5500\n",
        "    change = money%5500\n",
        "    return [cup, change]"
      ],
      "metadata": {
        "id": "2maVYBajue4f"
      },
      "execution_count": 14,
      "outputs": []
    },
    {
      "cell_type": "code",
      "source": [],
      "metadata": {
        "id": "5rdwRpqjumiB"
      },
      "execution_count": null,
      "outputs": []
    }
  ]
}