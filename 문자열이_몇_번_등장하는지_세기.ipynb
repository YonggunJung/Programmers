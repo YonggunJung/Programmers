{
  "nbformat": 4,
  "nbformat_minor": 0,
  "metadata": {
    "colab": {
      "provenance": [],
      "authorship_tag": "ABX9TyNFmCjLZ+klDhq/+h3Ujg7w",
      "include_colab_link": true
    },
    "kernelspec": {
      "name": "python3",
      "display_name": "Python 3"
    },
    "language_info": {
      "name": "python"
    }
  },
  "cells": [
    {
      "cell_type": "markdown",
      "metadata": {
        "id": "view-in-github",
        "colab_type": "text"
      },
      "source": [
        "<a href=\"https://colab.research.google.com/github/YonggunJung/Programmers/blob/main/%EB%AC%B8%EC%9E%90%EC%97%B4%EC%9D%B4_%EB%AA%87_%EB%B2%88_%EB%93%B1%EC%9E%A5%ED%95%98%EB%8A%94%EC%A7%80_%EC%84%B8%EA%B8%B0.ipynb\" target=\"_parent\"><img src=\"https://colab.research.google.com/assets/colab-badge.svg\" alt=\"Open In Colab\"/></a>"
      ]
    },
    {
      "cell_type": "code",
      "execution_count": 1,
      "metadata": {
        "id": "nIcC7evroyR6"
      },
      "outputs": [],
      "source": [
        "# 문제 설명\n",
        "# 문자열 myString과 pat이 주어집니다.\n",
        "# myString에서 pat이 등장하는 횟수를 return 하는 solution 함수를 완성해 주세요.\n",
        "\n",
        "# 제한사항\n",
        "# 1 ≤ myString ≤ 1000\n",
        "# 1 ≤ pat ≤ 10\n",
        "\n",
        "# 입출력 예\n",
        "# myString\t        pat\t        result\n",
        "# \"banana\"\t        \"ana\"\t        2\n",
        "# \"aaaa\"\t          \"aa\"\t        3\n",
        "\n",
        "# 입출력 예 설명\n",
        "# 입출력 예 #1\n",
        "# \"banana\"에서 1 ~ 3번 인덱스에서 한 번,\n",
        "# 3 ~ 5번 인덱스에서 또 한 번 \"ana\"가 등장해서 총 두 번 등장합니다.\n",
        "# 따라서 2를 return 합니다.\n",
        "\n",
        "# 입출력 예 #2\n",
        "# \"aaaa\"에서 0 ~ 2번 인덱스에서 한 번,\n",
        "# 1 ~ 3번 인덱스에서 한 번, 2 ~ 4번 인덱스에서 한 번 \"aa\"가 등장해서 총 세 번 등장합니다.\n",
        "# 따라서 3을 return 합니다."
      ]
    },
    {
      "cell_type": "code",
      "source": [
        "def solution(myString, pat):\n",
        "    answer = 0\n",
        "    for idx, s in enumerate(myString):\n",
        "      if myString[idx: idx+len(pat)] == pat:\n",
        "        answer += 1\n",
        "    return answer"
      ],
      "metadata": {
        "id": "OcQvAQiWo8Bq"
      },
      "execution_count": 3,
      "outputs": []
    },
    {
      "cell_type": "code",
      "source": [
        "myString = \"banana\"\n",
        "pat = \"ana\"\n",
        "solution(myString, pat)"
      ],
      "metadata": {
        "colab": {
          "base_uri": "https://localhost:8080/"
        },
        "id": "GVnid3_Yo91Y",
        "outputId": "a1b4060d-aabc-46f5-ae94-31743f8dc820"
      },
      "execution_count": 4,
      "outputs": [
        {
          "output_type": "execute_result",
          "data": {
            "text/plain": [
              "2"
            ]
          },
          "metadata": {},
          "execution_count": 4
        }
      ]
    },
    {
      "cell_type": "code",
      "source": [
        "myString = \"aaaa\"\n",
        "pat = \"aa\"\n",
        "solution(myString, pat)"
      ],
      "metadata": {
        "colab": {
          "base_uri": "https://localhost:8080/"
        },
        "id": "OYMQrVx4pAQ3",
        "outputId": "6c0b4919-2131-46ee-d2fc-a7c999a8c7e8"
      },
      "execution_count": 5,
      "outputs": [
        {
          "output_type": "execute_result",
          "data": {
            "text/plain": [
              "3"
            ]
          },
          "metadata": {},
          "execution_count": 5
        }
      ]
    },
    {
      "cell_type": "code",
      "source": [
        "# 다른 사람 풀이"
      ],
      "metadata": {
        "id": "R4NJzEfKo_-V"
      },
      "execution_count": 6,
      "outputs": []
    },
    {
      "cell_type": "code",
      "source": [
        "# startswith() 시작과함께 ㅋㅋㅋㅋ 신기하구만\n",
        "def solution(myString, pat):\n",
        "    answer = 0\n",
        "    for i, x in enumerate(myString) :\n",
        "        if myString[i:].startswith(pat) :\n",
        "            answer += 1\n",
        "    return answer"
      ],
      "metadata": {
        "id": "9GODKlMOpiYj"
      },
      "execution_count": 8,
      "outputs": []
    },
    {
      "cell_type": "code",
      "source": [
        "def solution(myString, pat):\n",
        "    return sum(myString[i:i + len(pat)] == pat for i in range(len(myString)))"
      ],
      "metadata": {
        "id": "-2-9C_YDpv3H"
      },
      "execution_count": 9,
      "outputs": []
    },
    {
      "cell_type": "code",
      "source": [],
      "metadata": {
        "id": "090Yw9W1p01g"
      },
      "execution_count": null,
      "outputs": []
    }
  ]
}