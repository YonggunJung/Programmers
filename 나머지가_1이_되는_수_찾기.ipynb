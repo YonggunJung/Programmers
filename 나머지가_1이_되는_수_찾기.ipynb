{
  "nbformat": 4,
  "nbformat_minor": 0,
  "metadata": {
    "colab": {
      "provenance": [],
      "authorship_tag": "ABX9TyP8bWKhONlGoJVunRRKICnC",
      "include_colab_link": true
    },
    "kernelspec": {
      "name": "python3",
      "display_name": "Python 3"
    },
    "language_info": {
      "name": "python"
    }
  },
  "cells": [
    {
      "cell_type": "markdown",
      "metadata": {
        "id": "view-in-github",
        "colab_type": "text"
      },
      "source": [
        "<a href=\"https://colab.research.google.com/github/YonggunJung/Programmers/blob/main/%EB%82%98%EB%A8%B8%EC%A7%80%EA%B0%80_1%EC%9D%B4_%EB%90%98%EB%8A%94_%EC%88%98_%EC%B0%BE%EA%B8%B0.ipynb\" target=\"_parent\"><img src=\"https://colab.research.google.com/assets/colab-badge.svg\" alt=\"Open In Colab\"/></a>"
      ]
    },
    {
      "cell_type": "code",
      "execution_count": 1,
      "metadata": {
        "id": "Mq50GlFgGMky"
      },
      "outputs": [],
      "source": [
        "# 문제 설명\n",
        "# 자연수 n이 매개변수로 주어집니다.\n",
        "# n을 x로 나눈 나머지가 1이 되도록 하는 가장 작은 자연수 x를\n",
        "# return 하도록 solution 함수를 완성해주세요.\n",
        "# 답이 항상 존재함은 증명될 수 있습니다.\n",
        "\n",
        "# 제한사항\n",
        "# 3 ≤ n ≤ 1,000,000\n",
        "# 입출력 예\n",
        "# n\tresult\n",
        "# 10\t3\n",
        "# 12\t11\n",
        "\n",
        "# 입출력 예 설명\n",
        "# 입출력 예 #1\n",
        "# 10을 3으로 나눈 나머지가 1이고,\n",
        "# 3보다 작은 자연수 중에서 문제의 조건을 만족하는 수가 없으므로,\n",
        "# 3을 return 해야 합니다.\n",
        "\n",
        "# 입출력 예 #2\n",
        "# 12를 11로 나눈 나머지가 1이고,\n",
        "# 11보다 작은 자연수 중에서 문제의 조건을 만족하는 수가 없으므로,\n",
        "# 11을 return 해야 합니다."
      ]
    },
    {
      "cell_type": "code",
      "source": [
        "def solution(n):\n",
        "    answer = 0\n",
        "    for i in range(2, n):\n",
        "      if n % i == 1:\n",
        "        answer = i\n",
        "        break\n",
        "    return answer"
      ],
      "metadata": {
        "id": "8Am-RI6VGUfo"
      },
      "execution_count": 2,
      "outputs": []
    }
  ]
}