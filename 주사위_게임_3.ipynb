{
  "nbformat": 4,
  "nbformat_minor": 0,
  "metadata": {
    "colab": {
      "provenance": [],
      "authorship_tag": "ABX9TyPe4c9t8zLlx2iwwOATBh3N",
      "include_colab_link": true
    },
    "kernelspec": {
      "name": "python3",
      "display_name": "Python 3"
    },
    "language_info": {
      "name": "python"
    }
  },
  "cells": [
    {
      "cell_type": "markdown",
      "metadata": {
        "id": "view-in-github",
        "colab_type": "text"
      },
      "source": [
        "<a href=\"https://colab.research.google.com/github/YonggunJung/Programmers/blob/main/%EC%A3%BC%EC%82%AC%EC%9C%84_%EA%B2%8C%EC%9E%84_3.ipynb\" target=\"_parent\"><img src=\"https://colab.research.google.com/assets/colab-badge.svg\" alt=\"Open In Colab\"/></a>"
      ]
    },
    {
      "cell_type": "code",
      "execution_count": null,
      "metadata": {
        "id": "qFIRq9LWMNhN"
      },
      "outputs": [],
      "source": [
        "# 문제 설명\n",
        "# 1부터 6까지 숫자가 적힌 주사위가 네 개 있습니다.\n",
        "# 네 주사위를 굴렸을 때 나온 숫자에 따라 다음과 같은 점수를 얻습니다.\n",
        "\n",
        "# 네 주사위에서 나온 숫자가 모두 p로 같다면 1111 × p점을 얻습니다.\n",
        "# 세 주사위에서 나온 숫자가 p로 같고 나머지 다른 주사위에서 나온 숫자가 q(p ≠ q)라면\n",
        "# (10 × p + q)2 점을 얻습니다.\n",
        "# 주사위가 두 개씩 같은 값이 나오고,\n",
        "# 나온 숫자를 각각 p, q(p ≠ q)라고 한다면 (p + q) × |p - q|점을 얻습니다.\n",
        "# 어느 두 주사위에서 나온 숫자가 p로 같고\n",
        "# 나머지 두 주사위에서 나온 숫자가 각각 p와 다른 q, r(q ≠ r)이라면\n",
        "# q × r점을 얻습니다.\n",
        "# 네 주사위에 적힌 숫자가 모두 다르다면 나온 숫자 중 가장 작은 숫자 만큼의 점수를 얻습니다.\n",
        "# 네 주사위를 굴렸을 때 나온 숫자가 정수 매개변수 a, b, c, d로 주어질 때,\n",
        "# 얻는 점수를 return 하는 solution 함수를 작성해 주세요.\n",
        "\n",
        "# 제한사항\n",
        "# a, b, c, d는 1 이상 6 이하의 정수입니다.\n",
        "\n",
        "# 입출력 예\n",
        "# a\t    b\t    c   \td\t    result\n",
        "# 2\t    2\t    2\t    2\t    2222\n",
        "# 4\t    1   \t4   \t4   \t1681\n",
        "# 6   \t3   \t3   \t6   \t27\n",
        "# 2\t    5   \t2\t    6\t    30\n",
        "# 6\t    4\t    2   \t5\t    2\n",
        "\n",
        "# 입출력 예 설명\n",
        "# 입출력 예 #1\n",
        "# 예제 1번에서 네 주사위 숫자가 모두 2로 같으므로 1111 × 2 = 2222점을 얻습니다.\n",
        "# 따라서 2222를 return 합니다.\n",
        "\n",
        "# 입출력 예 #2\n",
        "# 예제 2번에서 세 주사위에서 나온 숫자가 4로 같고\n",
        "# 나머지 다른 주사위에서 나온 숫자가 1이므로\n",
        "#  (10 × 4 + 1)2 = 412 = 1681점을 얻습니다. 따라서 1681을 return 합니다.\n",
        "\n",
        "# 입출력 예 #3\n",
        "# 예제 3번에서 a, d는 6으로, b, c는 3으로 각각 같으므로\n",
        "#  (6 + 3) × |6 - 3| = 9 × 3 = 27점을 얻습니다. 따라서 27을 return 합니다.\n",
        "\n",
        "# 입출력 예 #4\n",
        "# 예제 4번에서 두 주사위에서 2가 나오고\n",
        "# 나머지 다른 두 주사위에서 각각 5, 6이 나왔으므로 5 × 6 = 30점을 얻습니다.\n",
        "# 따라서 30을 return 합니다.\n",
        "\n",
        "# 입출력 예 #5\n",
        "# 예제 5번에서 네 주사위 숫자가 모두 다르고 나온 숫자 중 가장 작은 숫자가 2이므로\n",
        "# 2점을 얻습니다. 따라서 2를 return 합니다."
      ]
    },
    {
      "cell_type": "code",
      "source": [
        "# 풀긴 했지만 굉장히 오래걸리고 코드도 맘에 안듦\n",
        "def solution(a, b, c, d):\n",
        "    answer = 0\n",
        "    l = [a, b, c, d]\n",
        "    s = set(l)\n",
        "    ls = list(s)\n",
        "    if len(s) == 4:\n",
        "      answer = min(l)\n",
        "\n",
        "    elif len(s) == 3:\n",
        "      if l.count(ls[0]) == 2:\n",
        "        answer = ls[1] * ls[2]\n",
        "      elif l.count(ls[1]) == 2:\n",
        "        answer = ls[2] * ls[0]\n",
        "      elif l.count(ls[2]) == 2:\n",
        "        answer = ls[1] * ls[0]\n",
        "\n",
        "    elif len(s) == 2:\n",
        "      if l.count(ls[0]) and l.count(ls[1]) == 2:\n",
        "        answer = (ls[0]+ls[1]) * (abs(ls[0]-ls[1]))\n",
        "\n",
        "      elif l.count(ls[0]) or l.count(ls[1]) == 3:\n",
        "        if l.count(ls[0]) == 3:\n",
        "          answer = (ls[0] * 10 + ls[1]) ** 2\n",
        "        elif l.count(ls[1]) == 3:\n",
        "          answer = (ls[1] * 10 + ls[0]) ** 2\n",
        "\n",
        "\n",
        "    elif len(s) == 1:\n",
        "      answer = int(f'{a}{b}{c}{d}')\n",
        "\n",
        "    return answer"
      ],
      "metadata": {
        "id": "UGrzFVrfMxyW"
      },
      "execution_count": 78,
      "outputs": []
    },
    {
      "cell_type": "code",
      "source": [
        "a = 2\n",
        "b = 2\n",
        "c = 2\n",
        "d = 2\n",
        "solution(a, b, c, d)"
      ],
      "metadata": {
        "colab": {
          "base_uri": "https://localhost:8080/"
        },
        "id": "gB6wuBM6Mzy9",
        "outputId": "31b9d69c-f1a6-4625-97ce-02a13d353ce5"
      },
      "execution_count": 79,
      "outputs": [
        {
          "output_type": "execute_result",
          "data": {
            "text/plain": [
              "2222"
            ]
          },
          "metadata": {},
          "execution_count": 79
        }
      ]
    },
    {
      "cell_type": "code",
      "source": [
        "a = 4\n",
        "b = 1\n",
        "c = 4\n",
        "d = 4\n",
        "solution(a, b, c, d)"
      ],
      "metadata": {
        "colab": {
          "base_uri": "https://localhost:8080/"
        },
        "id": "2ipPq4NbM7ak",
        "outputId": "5dd6bcac-074a-48bc-fb04-a5eda0632a88"
      },
      "execution_count": 91,
      "outputs": [
        {
          "output_type": "execute_result",
          "data": {
            "text/plain": [
              "1681"
            ]
          },
          "metadata": {},
          "execution_count": 91
        }
      ]
    },
    {
      "cell_type": "code",
      "source": [
        "a = 6\n",
        "b = 3\n",
        "c = 3\n",
        "d = 6\n",
        "solution(a, b, c, d)"
      ],
      "metadata": {
        "colab": {
          "base_uri": "https://localhost:8080/"
        },
        "id": "BBCfUY_iM7W7",
        "outputId": "5cc9b181-ec2a-4ee4-e64d-55ed3656df8d"
      },
      "execution_count": 92,
      "outputs": [
        {
          "output_type": "execute_result",
          "data": {
            "text/plain": [
              "27"
            ]
          },
          "metadata": {},
          "execution_count": 92
        }
      ]
    },
    {
      "cell_type": "code",
      "source": [
        "a = 2\n",
        "b = 5\n",
        "c = 2\n",
        "d = 6\n",
        "solution(a, b, c, d)"
      ],
      "metadata": {
        "colab": {
          "base_uri": "https://localhost:8080/"
        },
        "id": "WSzB0U8UM7TZ",
        "outputId": "82dbad21-0142-417f-831a-7f906bca30c3"
      },
      "execution_count": 93,
      "outputs": [
        {
          "output_type": "execute_result",
          "data": {
            "text/plain": [
              "30"
            ]
          },
          "metadata": {},
          "execution_count": 93
        }
      ]
    },
    {
      "cell_type": "code",
      "source": [
        "a = 6\n",
        "b = 4\n",
        "c = 2\n",
        "d = 5\n",
        "solution(a, b, c, d)"
      ],
      "metadata": {
        "colab": {
          "base_uri": "https://localhost:8080/"
        },
        "id": "18sQRl3oM7Po",
        "outputId": "f82a252c-d83b-44fd-b661-f7307f9cd843"
      },
      "execution_count": 94,
      "outputs": [
        {
          "output_type": "execute_result",
          "data": {
            "text/plain": [
              "2"
            ]
          },
          "metadata": {},
          "execution_count": 94
        }
      ]
    },
    {
      "cell_type": "code",
      "source": [
        "# 다른 사람 풀이"
      ],
      "metadata": {
        "id": "2kepHQ_MM7NF"
      },
      "execution_count": 2,
      "outputs": []
    },
    {
      "cell_type": "code",
      "source": [
        "# 나와 비슷한 사람 ㅋㅋㅋㅋ\n",
        "def solution(a, b, c, d):\n",
        "    answer = 0\n",
        "    if a==b==c==d:\n",
        "        answer=1111*a\n",
        "    elif a==b==c:\n",
        "        answer=(10*a+d)**2\n",
        "    elif a==b==d:\n",
        "        answer=(10*a+c)**2\n",
        "    elif a==c==d:\n",
        "        answer=(10*a+b)**2\n",
        "    elif b==c==d:\n",
        "        answer=(10*d+a)**2\n",
        "    elif a==b and c==d:\n",
        "        answer=(a+c)*abs(a-c)\n",
        "    elif a==c and b==d:\n",
        "        answer=(a+b)*abs(a-b)\n",
        "    elif a==d and b==c:\n",
        "        answer=(a+b)*abs(a-b)\n",
        "    elif a==b:\n",
        "        answer=c*d\n",
        "    elif a==c:\n",
        "        answer=b*d\n",
        "    elif a==d:\n",
        "        answer=b*c\n",
        "    elif b==c:\n",
        "        answer=a*d\n",
        "    elif b==d:\n",
        "        answer=a*c\n",
        "    elif c==d:\n",
        "        answer=a*b\n",
        "    else:\n",
        "        answer=min(a,b,c,d)\n",
        "\n",
        "    return answer"
      ],
      "metadata": {
        "id": "GR_h34f4NHR4"
      },
      "execution_count": 84,
      "outputs": []
    },
    {
      "cell_type": "code",
      "source": [
        "# 이걸 보면서 아직 갈 길이 멀다 생각함\n",
        "# 이런 코드를 원했지만 만들수는 없었음\n",
        "def solution(a, b, c, d):\n",
        "    l = [a,b,c,d]\n",
        "    c = [l.count(x) for x in l]\n",
        "    if max(c) == 4:\n",
        "        return 1111*a\n",
        "    elif max(c) == 3:\n",
        "        return (10*l[c.index(3)]+l[c.index(1)])**2\n",
        "    elif max(c) == 2:\n",
        "        if min(c) == 1:\n",
        "            return eval('*'.join([str(l[i]) for i, x in enumerate(c) if x == 1]))\n",
        "        else:\n",
        "            return (max(l) + min(l)) * abs(max(l) - min(l))\n",
        "    else:\n",
        "        return min(l)\n",
        "\n",
        "# l = [a,b,c,d]\n",
        "# f = [l.count(x) for x in l]\n",
        "# l[f.index(3)]"
      ],
      "metadata": {
        "id": "sFrEm65jbimk"
      },
      "execution_count": 95,
      "outputs": []
    },
    {
      "cell_type": "code",
      "source": [
        "# 이 코드가 더 쉬운듯\n",
        "def solution(a, b, c, d):\n",
        "    nums = [a, b, c, d]\n",
        "    counts = [nums.count(i) for i in nums]\n",
        "    if max(counts) == 4:\n",
        "        return a * 1111\n",
        "    elif max(counts) == 3:\n",
        "        p = nums[counts.index(3)]\n",
        "        q = nums[counts.index(1)]\n",
        "        return (10 * p + q) ** 2\n",
        "    elif max(counts) == 2:\n",
        "        if min(counts) == 2:\n",
        "            return (a + c) * abs(a - c) if a == b else (a + b) * abs(a - b)\n",
        "        else:\n",
        "            p = nums[counts.index(2)]\n",
        "            return (a * b * c * d) / p**2\n",
        "    else:\n",
        "        return min(nums)"
      ],
      "metadata": {
        "id": "c5vhyKBdcvbM"
      },
      "execution_count": 96,
      "outputs": []
    },
    {
      "cell_type": "code",
      "source": [
        "# 방법은 많다.\n",
        "def solution(a, b, c, d):\n",
        "    dice=[a,b,c,d]\n",
        "    dice.sort()\n",
        "    a,b,c,d=dice\n",
        "    s=set(dice)\n",
        "    if len(s)==1:\n",
        "        return 1111*a\n",
        "    elif len(s)==4:\n",
        "        return min(a,b,c,d)\n",
        "    elif len(s)==2:\n",
        "        if a==b==c:\n",
        "            return (10*a+d)**2\n",
        "        elif b==c==d:\n",
        "            return (10*b+a)**2\n",
        "        else:\n",
        "            return (b+c)*(abs(b-c))\n",
        "    else:\n",
        "        if a==b: return c*d\n",
        "        elif b==c: return a*d\n",
        "        else: return a*b\n",
        "\n",
        "    answer = 0\n",
        "    return answer"
      ],
      "metadata": {
        "id": "DPa-EhtydB_M"
      },
      "execution_count": 97,
      "outputs": []
    },
    {
      "cell_type": "code",
      "source": [],
      "metadata": {
        "id": "1WolfCxzdGuz"
      },
      "execution_count": null,
      "outputs": []
    }
  ]
}