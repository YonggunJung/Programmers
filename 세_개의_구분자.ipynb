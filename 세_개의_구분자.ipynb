{
  "nbformat": 4,
  "nbformat_minor": 0,
  "metadata": {
    "colab": {
      "provenance": [],
      "authorship_tag": "ABX9TyM0VQwACPnoS+LAOXXwolGQ",
      "include_colab_link": true
    },
    "kernelspec": {
      "name": "python3",
      "display_name": "Python 3"
    },
    "language_info": {
      "name": "python"
    }
  },
  "cells": [
    {
      "cell_type": "markdown",
      "metadata": {
        "id": "view-in-github",
        "colab_type": "text"
      },
      "source": [
        "<a href=\"https://colab.research.google.com/github/YonggunJung/Programmers/blob/main/%EC%84%B8_%EA%B0%9C%EC%9D%98_%EA%B5%AC%EB%B6%84%EC%9E%90.ipynb\" target=\"_parent\"><img src=\"https://colab.research.google.com/assets/colab-badge.svg\" alt=\"Open In Colab\"/></a>"
      ]
    },
    {
      "cell_type": "code",
      "execution_count": 1,
      "metadata": {
        "id": "sG_tUOWBzi87"
      },
      "outputs": [],
      "source": [
        "# 문제 설명\n",
        "# 임의의 문자열이 주어졌을 때 문자 \"a\", \"b\", \"c\"를 구분자로 사용해\n",
        "# 문자열을 나누고자 합니다.\n",
        "\n",
        "# 예를 들어 주어진 문자열이 \"baconlettucetomato\"라면\n",
        "# 나눠진 문자열 목록은 [\"onlettu\", \"etom\", \"to\"] 가 됩니다.\n",
        "\n",
        "# 문자열 myStr이 주어졌을 때 위 예시와 같이 \"a\", \"b\", \"c\"를 사용해\n",
        "# 나눠진 문자열을 순서대로 저장한 배열을 return 하는 solution 함수를 완성해 주세요.\n",
        "\n",
        "# 단, 두 구분자 사이에 다른 문자가 없을 경우에는 아무것도 저장하지 않으며,\n",
        "# return할 배열이 빈 배열이라면 [\"EMPTY\"]를 return 합니다.\n",
        "\n",
        "# 제한사항\n",
        "# 1 ≤ myStr의 길이 ≤ 1,000,000\n",
        "# myStr은 알파벳 소문자로 이루어진 문자열 입니다.\n",
        "\n",
        "# 입출력 예\n",
        "# myStr\t                        result\n",
        "# \"baconlettucetomato\"\t        [\"onlettu\", \"etom\", \"to\"]\n",
        "# \"abcd\"\t                      [\"d\"]\n",
        "# \"cabab\"\t                      [\"EMPTY\"]\n",
        "\n",
        "# 입출력 예 설명\n",
        "# 입출력 예 #1\n",
        "# 문제 설명의 예시와 같습니다.\n",
        "\n",
        "# 입출력 예 #2\n",
        "# \"c\" 이전에는 \"a\", \"b\", \"c\" 이외의 문자가 없습니다.\n",
        "# \"c\" 이후에 문자열 \"d\"가 있으므로 \"d\"를 저장합니다.\n",
        "# 따라서 [\"d\"]를 return 합니다.\n",
        "\n",
        "# 입출력 예 #3\n",
        "# \"a\", \"b\", \"c\" 이외의 문자가 존재하지 않습니다.\n",
        "# 따라서 저장할 문자열이 없습니다.\n",
        "# 따라서 [\"EMPTY\"]를 return 합니다."
      ]
    },
    {
      "cell_type": "code",
      "source": [
        "def solution(myStr):\n",
        "    answer = []\n",
        "    myStr = myStr.replace('a', 'A').replace('b', 'A').replace('c', 'A')\n",
        "    myStr = myStr.split('A')\n",
        "\n",
        "    for s in myStr:\n",
        "        if len(s) == 0:\n",
        "          pass\n",
        "        elif len(s) != 0:\n",
        "          answer.append(s)\n",
        "    if len(answer) == 0:\n",
        "      answer = [\"EMPTY\"]\n",
        "\n",
        "    return answer"
      ],
      "metadata": {
        "id": "Oyugc7gLzueu"
      },
      "execution_count": 29,
      "outputs": []
    },
    {
      "cell_type": "code",
      "source": [
        "myStr = \"baconlettucetomato\"\n",
        "solution(myStr)"
      ],
      "metadata": {
        "colab": {
          "base_uri": "https://localhost:8080/"
        },
        "id": "rrFt9UMNzwtd",
        "outputId": "02f2805e-3d05-4a55-bd3e-014e00481476"
      },
      "execution_count": 30,
      "outputs": [
        {
          "output_type": "execute_result",
          "data": {
            "text/plain": [
              "['onlettu', 'etom', 'to']"
            ]
          },
          "metadata": {},
          "execution_count": 30
        }
      ]
    },
    {
      "cell_type": "code",
      "source": [
        "myStr = \"abcd\"\n",
        "solution(myStr)"
      ],
      "metadata": {
        "colab": {
          "base_uri": "https://localhost:8080/"
        },
        "id": "aR2SjofJzybh",
        "outputId": "a1a8dbcb-512b-41e3-c5bd-e24f82cb37a6"
      },
      "execution_count": 31,
      "outputs": [
        {
          "output_type": "execute_result",
          "data": {
            "text/plain": [
              "['d']"
            ]
          },
          "metadata": {},
          "execution_count": 31
        }
      ]
    },
    {
      "cell_type": "code",
      "source": [
        "myStr = \"cabab\"\n",
        "solution(myStr)"
      ],
      "metadata": {
        "colab": {
          "base_uri": "https://localhost:8080/"
        },
        "id": "luSCVGRlzyXz",
        "outputId": "805aff0c-4bb6-4a02-c7e8-5343534aac84"
      },
      "execution_count": 32,
      "outputs": [
        {
          "output_type": "execute_result",
          "data": {
            "text/plain": [
              "['EMPTY']"
            ]
          },
          "metadata": {},
          "execution_count": 32
        }
      ]
    },
    {
      "cell_type": "code",
      "source": [
        "# 다른 사람 풀이"
      ],
      "metadata": {
        "id": "8-EsdgJ4zyDX"
      },
      "execution_count": 22,
      "outputs": []
    },
    {
      "cell_type": "code",
      "source": [
        "# 같은 방법인데 훨씬 간단함\n",
        "def solution(myStr):\n",
        "    answer = [x for x in myStr.replace('a', ' ').replace('b', ' ').replace('c', ' ').split() if x]\n",
        "    return answer if answer else ['EMPTY']"
      ],
      "metadata": {
        "id": "spCbIdojz4o4"
      },
      "execution_count": 33,
      "outputs": []
    },
    {
      "cell_type": "code",
      "source": [
        "# re() 사용\n",
        "import re\n",
        "def solution(myStr):\n",
        "    answer = [m for m in re.split('a|b|c',myStr) if m]\n",
        "    if len(answer)==0:\n",
        "        answer=[\"EMPTY\"]\n",
        "\n",
        "    return answer"
      ],
      "metadata": {
        "id": "1v67l1ho31TB"
      },
      "execution_count": 35,
      "outputs": []
    },
    {
      "cell_type": "code",
      "source": [
        "# 와 이건 진짜 생각도 못함\n",
        "def solution(myStr):\n",
        "    return re.findall(r\"[^abc]+\", myStr) or [\"EMPTY\"]"
      ],
      "metadata": {
        "id": "y2_KROea39Q2"
      },
      "execution_count": null,
      "outputs": []
    }
  ]
}