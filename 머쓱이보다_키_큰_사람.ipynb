{
  "nbformat": 4,
  "nbformat_minor": 0,
  "metadata": {
    "colab": {
      "provenance": [],
      "authorship_tag": "ABX9TyO+qKEU5+Zy3lncQY0Orhha",
      "include_colab_link": true
    },
    "kernelspec": {
      "name": "python3",
      "display_name": "Python 3"
    },
    "language_info": {
      "name": "python"
    }
  },
  "cells": [
    {
      "cell_type": "markdown",
      "metadata": {
        "id": "view-in-github",
        "colab_type": "text"
      },
      "source": [
        "<a href=\"https://colab.research.google.com/github/YonggunJung/Programmers/blob/main/%EB%A8%B8%EC%93%B1%EC%9D%B4%EB%B3%B4%EB%8B%A4_%ED%82%A4_%ED%81%B0_%EC%82%AC%EB%9E%8C.ipynb\" target=\"_parent\"><img src=\"https://colab.research.google.com/assets/colab-badge.svg\" alt=\"Open In Colab\"/></a>"
      ]
    },
    {
      "cell_type": "code",
      "execution_count": 1,
      "metadata": {
        "id": "wX0LtMZVFb9j"
      },
      "outputs": [],
      "source": [
        "# 문제 설명\n",
        "# 머쓱이는 학교에서 키 순으로 줄을 설 때 몇 번째로 서야 하는지 궁금해졌습니다.\n",
        "# 머쓱이네 반 친구들의 키가 담긴 정수 배열 array와 머쓱이의 키 height가 매개변수로 주어질 때,\n",
        "# 머쓱이보다 키 큰 사람 수를 return 하도록 solution 함수를 완성해보세요.\n",
        "\n",
        "# 제한사항\n",
        "# 1 ≤ array의 길이 ≤ 100\n",
        "# 1 ≤ height ≤ 200\n",
        "# 1 ≤ array의 원소 ≤ 200\n",
        "\n",
        "# 입출력 예\n",
        "# array\t                    height\t            result\n",
        "# [149, 180, 192, 170]\t    167\t                  3\n",
        "# [180, 120, 140]\t          190\t                  0\n",
        "\n",
        "# 입출력 예 설명\n",
        "# 입출력 예 #1\n",
        "# 149, 180, 192, 170 중 머쓱이보다 키가 큰 사람은 180, 192, 170으로 세 명입니다.\n",
        "\n",
        "# 입출력 예 #2\n",
        "# 180, 120, 140 중 190보다 큰 수는 없으므로 0명입니다."
      ]
    },
    {
      "cell_type": "code",
      "source": [
        "def solution(array, height):\n",
        "    answer = 0\n",
        "    for i in array:\n",
        "      if i > height:\n",
        "        answer += 1\n",
        "    return answer"
      ],
      "metadata": {
        "id": "ZFJfz6trFuPi"
      },
      "execution_count": 5,
      "outputs": []
    },
    {
      "cell_type": "code",
      "source": [
        "array = [149, 180, 192, 170]\n",
        "height = 167\n",
        "\n",
        "solution(array, height)"
      ],
      "metadata": {
        "colab": {
          "base_uri": "https://localhost:8080/"
        },
        "id": "7GB0pniXF1jY",
        "outputId": "91548ee5-4c05-4978-e676-182f9240fdac"
      },
      "execution_count": 6,
      "outputs": [
        {
          "output_type": "execute_result",
          "data": {
            "text/plain": [
              "3"
            ]
          },
          "metadata": {},
          "execution_count": 6
        }
      ]
    },
    {
      "cell_type": "code",
      "source": [
        "array = [180, 120, 140]\n",
        "height = 190\n",
        "\n",
        "solution(array, height)"
      ],
      "metadata": {
        "colab": {
          "base_uri": "https://localhost:8080/"
        },
        "id": "ktTi9rAIF7nA",
        "outputId": "8d2299a0-5f5a-4714-c9ac-a3d1c11d13bf"
      },
      "execution_count": 7,
      "outputs": [
        {
          "output_type": "execute_result",
          "data": {
            "text/plain": [
              "0"
            ]
          },
          "metadata": {},
          "execution_count": 7
        }
      ]
    },
    {
      "cell_type": "code",
      "source": [
        "# 다른사람 풀이 보기"
      ],
      "metadata": {
        "id": "Axx-0I1ZHLuI"
      },
      "execution_count": 8,
      "outputs": []
    },
    {
      "cell_type": "code",
      "source": [
        "# 배열만을 사용한 신박한 방법\n",
        "def solution(array, height):\n",
        "    array.append(height)\n",
        "    array.sort(reverse=True)\n",
        "    return array.index(height)"
      ],
      "metadata": {
        "id": "hZgKUe8nHkeI"
      },
      "execution_count": 9,
      "outputs": []
    },
    {
      "cell_type": "code",
      "source": [
        "# 이런 한줄 코드 너무 신기함\n",
        "# 보면 이해는 가는데 떠오르진 않음\n",
        "def solution(array, height):\n",
        "    return sum(1 for a in array if a > height)"
      ],
      "metadata": {
        "id": "fi6QUFGmHodI"
      },
      "execution_count": 10,
      "outputs": []
    },
    {
      "cell_type": "code",
      "source": [
        "# 이게 더 이해하기 좋음\n",
        "def solution(array, height):\n",
        "    return len([i for i in array if i>height])"
      ],
      "metadata": {
        "id": "20qOsPOyH8Xg"
      },
      "execution_count": null,
      "outputs": []
    }
  ]
}