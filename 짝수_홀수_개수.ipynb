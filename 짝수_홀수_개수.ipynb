{
  "nbformat": 4,
  "nbformat_minor": 0,
  "metadata": {
    "colab": {
      "provenance": [],
      "authorship_tag": "ABX9TyNFQKN8OdSpAS5SR+uzwXnu",
      "include_colab_link": true
    },
    "kernelspec": {
      "name": "python3",
      "display_name": "Python 3"
    },
    "language_info": {
      "name": "python"
    }
  },
  "cells": [
    {
      "cell_type": "markdown",
      "metadata": {
        "id": "view-in-github",
        "colab_type": "text"
      },
      "source": [
        "<a href=\"https://colab.research.google.com/github/YonggunJung/Programmers/blob/main/%EC%A7%9D%EC%88%98_%ED%99%80%EC%88%98_%EA%B0%9C%EC%88%98.ipynb\" target=\"_parent\"><img src=\"https://colab.research.google.com/assets/colab-badge.svg\" alt=\"Open In Colab\"/></a>"
      ]
    },
    {
      "cell_type": "code",
      "execution_count": 1,
      "metadata": {
        "id": "P69w4EcA5imZ"
      },
      "outputs": [],
      "source": [
        "# 문제 설명\n",
        "# 정수가 담긴 리스트 num_list가 주어질 때,\n",
        "# num_list의 원소 중 짝수와 홀수의 개수를 담은 배열을 return 하도록 solution 함수를 완성해보세요.\n",
        "\n",
        "# 제한사항\n",
        "# 1 ≤ num_list의 길이 ≤ 100\n",
        "# 0 ≤ num_list의 원소 ≤ 1,000\n",
        "\n",
        "# 입출력 예\n",
        "# num_list\t            result\n",
        "# [1, 2, 3, 4, 5]\t      [2, 3]\n",
        "# [1, 3, 5, 7]\t        [0, 4]\n",
        "\n",
        "# 입출력 예 설명\n",
        "# 입출력 예 #1\n",
        "# [1, 2, 3, 4, 5]에는 짝수가 2, 4로 두 개, 홀수가 1, 3, 5로 세 개 있습니다.\n",
        "\n",
        "# 입출력 예 #2\n",
        "# [1, 3, 5, 7]에는 짝수가 없고 홀수가 네 개 있습니다."
      ]
    },
    {
      "cell_type": "code",
      "source": [
        "def solution(num_list):\n",
        "    e = 0\n",
        "    o = 0\n",
        "    for i in num_list:\n",
        "      if i % 2 == 0:\n",
        "        e += 1\n",
        "      else :\n",
        "        o += 1\n",
        "    answer = [e, o]\n",
        "    return answer\n",
        "\n",
        "# i 가 num_list로 들어가서 i 가 num_list의 숫자가 된다"
      ],
      "metadata": {
        "id": "tQH6kTBS5rwN"
      },
      "execution_count": 12,
      "outputs": []
    },
    {
      "cell_type": "code",
      "source": [
        "num_list = [1, 2, 3, 4, 5]\n",
        "solution(num_list)"
      ],
      "metadata": {
        "colab": {
          "base_uri": "https://localhost:8080/"
        },
        "id": "YfLodand7NiH",
        "outputId": "3ed6316f-bd99-4c46-8c57-73241d3eb18c"
      },
      "execution_count": 13,
      "outputs": [
        {
          "output_type": "execute_result",
          "data": {
            "text/plain": [
              "[2, 3]"
            ]
          },
          "metadata": {},
          "execution_count": 13
        }
      ]
    },
    {
      "cell_type": "code",
      "source": [
        "num_list = [1, 3, 5, 7]\n",
        "solution(num_list)"
      ],
      "metadata": {
        "colab": {
          "base_uri": "https://localhost:8080/"
        },
        "id": "_fJrndsj7W6N",
        "outputId": "dce915e6-9b64-488e-a530-09c9e5a99b14"
      },
      "execution_count": 14,
      "outputs": [
        {
          "output_type": "execute_result",
          "data": {
            "text/plain": [
              "[0, 4]"
            ]
          },
          "metadata": {},
          "execution_count": 14
        }
      ]
    },
    {
      "cell_type": "code",
      "source": [
        "# 다른사람 풀이"
      ],
      "metadata": {
        "id": "bSW-p7Ig8yME"
      },
      "execution_count": 15,
      "outputs": []
    },
    {
      "cell_type": "code",
      "source": [
        "# 완벽히 이해는 안가지만 내가이해한게 맞다면 제일 간단한 코드\n",
        "def solution(num_list):\n",
        "    answer = [0,0]\n",
        "    for n in num_list:\n",
        "        answer[n%2]+=1\n",
        "    return answer"
      ],
      "metadata": {
        "id": "u4Ya2wQO9M4l"
      },
      "execution_count": 16,
      "outputs": []
    },
    {
      "cell_type": "code",
      "source": [
        "# 변수없이 바로 넣은거\n",
        "def solution(num_list):\n",
        "    answer = [0,0]\n",
        "\n",
        "    for num in num_list:\n",
        "        if num % 2 == 0:\n",
        "            answer[0] += 1\n",
        "        else:\n",
        "            answer[1] += 1\n",
        "\n",
        "    return answer"
      ],
      "metadata": {
        "id": "IzLXrMRP9_D6"
      },
      "execution_count": 17,
      "outputs": []
    },
    {
      "cell_type": "code",
      "source": [
        "# append() 활용\n",
        "def solution(num_list):\n",
        "    a = []\n",
        "    b = []\n",
        "    for i in range(len(num_list)):\n",
        "        if num_list[i] % 2 == 0 :\n",
        "            a.append(i)\n",
        "        else:\n",
        "            b.append(i)\n",
        "\n",
        "    return [len(a),len(b)]"
      ],
      "metadata": {
        "id": "v1pudrBU-LoD"
      },
      "execution_count": null,
      "outputs": []
    }
  ]
}