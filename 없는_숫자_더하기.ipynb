{
  "nbformat": 4,
  "nbformat_minor": 0,
  "metadata": {
    "colab": {
      "provenance": [],
      "authorship_tag": "ABX9TyMu8THKijGXRwsZ35s8D0kC",
      "include_colab_link": true
    },
    "kernelspec": {
      "name": "python3",
      "display_name": "Python 3"
    },
    "language_info": {
      "name": "python"
    }
  },
  "cells": [
    {
      "cell_type": "markdown",
      "metadata": {
        "id": "view-in-github",
        "colab_type": "text"
      },
      "source": [
        "<a href=\"https://colab.research.google.com/github/YonggunJung/Programmers/blob/main/%EC%97%86%EB%8A%94_%EC%88%AB%EC%9E%90_%EB%8D%94%ED%95%98%EA%B8%B0.ipynb\" target=\"_parent\"><img src=\"https://colab.research.google.com/assets/colab-badge.svg\" alt=\"Open In Colab\"/></a>"
      ]
    },
    {
      "cell_type": "code",
      "execution_count": 3,
      "metadata": {
        "id": "hrMClp58d9Be"
      },
      "outputs": [],
      "source": [
        "# 문제 설명\n",
        "# 0부터 9까지의 숫자 중 일부가 들어있는 정수 배열 numbers가\n",
        "# 매개변수로 주어집니다.\n",
        "# numbers에서 찾을 수 없는 0부터 9까지의 숫자를 모두 찾아 더한 수를\n",
        "# return 하도록 solution 함수를 완성해주세요.\n",
        "\n",
        "# 제한사항\n",
        "# 1 ≤ numbers의 길이 ≤ 9\n",
        "# 0 ≤ numbers의 모든 원소 ≤ 9\n",
        "# numbers의 모든 원소는 서로 다릅니다.\n",
        "\n",
        "# 입출력 예\n",
        "# numbers\t              result\n",
        "# [1,2,3,4,6,7,8,0]\t      14\n",
        "# [5,8,4,0,6,7,9]\t        6\n",
        "\n",
        "# 입출력 예 설명\n",
        "# 입출력 예 #1\n",
        "# 5, 9가 numbers에 없으므로, 5 + 9 = 14를 return 해야 합니다.\n",
        "\n",
        "# 입출력 예 #2\n",
        "# 1, 2, 3이 numbers에 없으므로, 1 + 2 + 3 = 6을 return 해야 합니다."
      ]
    },
    {
      "cell_type": "code",
      "source": [
        "def solution(numbers):\n",
        "    answer = 45-sum(numbers)\n",
        "\n",
        "    return answer"
      ],
      "metadata": {
        "id": "NXkvfZLLeD3L"
      },
      "execution_count": 2,
      "outputs": []
    },
    {
      "cell_type": "code",
      "source": [],
      "metadata": {
        "id": "RTWnoFvaeF2A"
      },
      "execution_count": null,
      "outputs": []
    }
  ]
}