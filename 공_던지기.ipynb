{
  "nbformat": 4,
  "nbformat_minor": 0,
  "metadata": {
    "colab": {
      "provenance": [],
      "authorship_tag": "ABX9TyNArGEqUgl3FcjrmLF1f8gt",
      "include_colab_link": true
    },
    "kernelspec": {
      "name": "python3",
      "display_name": "Python 3"
    },
    "language_info": {
      "name": "python"
    }
  },
  "cells": [
    {
      "cell_type": "markdown",
      "metadata": {
        "id": "view-in-github",
        "colab_type": "text"
      },
      "source": [
        "<a href=\"https://colab.research.google.com/github/YonggunJung/Programmers/blob/main/%EA%B3%B5_%EB%8D%98%EC%A7%80%EA%B8%B0.ipynb\" target=\"_parent\"><img src=\"https://colab.research.google.com/assets/colab-badge.svg\" alt=\"Open In Colab\"/></a>"
      ]
    },
    {
      "cell_type": "code",
      "execution_count": 1,
      "metadata": {
        "id": "AU3KfupjYDBW"
      },
      "outputs": [],
      "source": [
        "# 문제 설명\n",
        "# 머쓱이는 친구들과 동그랗게 서서 공 던지기 게임을 하고 있습니다.\n",
        "# 공은 1번부터 던지며 오른쪽으로 한 명을 건너뛰고 그다음 사람에게만 던질 수 있습니다.\n",
        "# 친구들의 번호가 들어있는 정수 배열 numbers와 정수 K가 주어질 때,\n",
        "# k번째로 공을 던지는 사람의 번호는 무엇인지 return 하도록 solution 함수를 완성해보세요.\n",
        "\n",
        "# 제한사항\n",
        "# 2 < numbers의 길이 < 100\n",
        "# 0 < k < 1,000\n",
        "# numbers의 첫 번째와 마지막 번호는 실제로 바로 옆에 있습니다.\n",
        "# numbers는 1부터 시작하며 번호는 순서대로 올라갑니다.\n",
        "\n",
        "# 입출력 예\n",
        "# numbers\t                  k\t      result\n",
        "# [1, 2, 3, 4]\t            2\t        3\n",
        "# [1, 2, 3, 4, 5, 6]\t      5\t        3\n",
        "# [1, 2, 3]\t                3\t        2\n",
        "\n",
        "# 입출력 예 설명\n",
        "# 입출력 예 #1\n",
        "# 1번은 첫 번째로 3번에게 공을 던집니다.\n",
        "# 3번은 두 번째로 1번에게 공을 던집니다.\n",
        "\n",
        "# 입출력 예 #2\n",
        "# 1번은 첫 번째로 3번에게 공을 던집니다.\n",
        "# 3번은 두 번째로 5번에게 공을 던집니다.\n",
        "# 5번은 세 번째로 1번에게 공을 던집니다.\n",
        "# 1번은 네 번째로 3번에게 공을 던집니다.\n",
        "# 3번은 다섯 번째로 5번에게 공을 던집니다.\n",
        "\n",
        "# 입출력 예 #3\n",
        "# 1번은 첫 번째로 3번에게 공을 던집니다.\n",
        "# 3번은 두 번째로 2번에게 공을 던집니다.\n",
        "# 2번은 세 번째로 1번에게 공을 던집니다."
      ]
    },
    {
      "cell_type": "code",
      "source": [
        "# 왜 k-1인지 모르겠음\n",
        "def solution(numbers, k):\n",
        "    answer = 0\n",
        "    for i in range(k-1):\n",
        "      answer = (answer+2) % len(numbers)\n",
        "    return numbers[answer]"
      ],
      "metadata": {
        "id": "OjopaYEvYSZ9"
      },
      "execution_count": 43,
      "outputs": []
    },
    {
      "cell_type": "code",
      "source": [
        "numbers = [1, 2, 3, 4]\n",
        "k = 2\n",
        "solution(numbers, k)"
      ],
      "metadata": {
        "colab": {
          "base_uri": "https://localhost:8080/"
        },
        "id": "VOOOoJNyYURL",
        "outputId": "71bdce29-0150-4189-b452-c1fefe31babb"
      },
      "execution_count": 44,
      "outputs": [
        {
          "output_type": "execute_result",
          "data": {
            "text/plain": [
              "3"
            ]
          },
          "metadata": {},
          "execution_count": 44
        }
      ]
    },
    {
      "cell_type": "code",
      "source": [
        "numbers = [1, 2, 3, 4, 5, 6]\n",
        "k = 5\n",
        "solution(numbers, k)"
      ],
      "metadata": {
        "colab": {
          "base_uri": "https://localhost:8080/"
        },
        "id": "wgimNtDQYZTJ",
        "outputId": "b5fcc9c5-9bc4-466b-9105-005897c4baee"
      },
      "execution_count": 45,
      "outputs": [
        {
          "output_type": "execute_result",
          "data": {
            "text/plain": [
              "6"
            ]
          },
          "metadata": {},
          "execution_count": 45
        }
      ]
    },
    {
      "cell_type": "code",
      "source": [
        "numbers = [1, 2, 3]\n",
        "k = 3\n",
        "solution(numbers, k)"
      ],
      "metadata": {
        "colab": {
          "base_uri": "https://localhost:8080/"
        },
        "id": "E3o7PjG5YZQd",
        "outputId": "65dc8a9b-c889-4c72-8677-7221dc30a294"
      },
      "execution_count": 46,
      "outputs": [
        {
          "output_type": "execute_result",
          "data": {
            "text/plain": [
              "1"
            ]
          },
          "metadata": {},
          "execution_count": 46
        }
      ]
    },
    {
      "cell_type": "code",
      "source": [
        "# 다른 사람 풀이"
      ],
      "metadata": {
        "id": "L2JwLhhXYYJ0"
      },
      "execution_count": 47,
      "outputs": []
    },
    {
      "cell_type": "code",
      "source": [
        "# 시작이 0부터니깐 0 빼고 2부터 시작해서 k-1인거 같긴 한데 확신은 아님\n",
        "def solution(numbers, k):\n",
        "    return numbers[2 * (k - 1) % len(numbers)]"
      ],
      "metadata": {
        "id": "5azuafu1djAO"
      },
      "execution_count": 48,
      "outputs": []
    },
    {
      "cell_type": "code",
      "source": [
        "# 신기한 수학적 코드 많음\n",
        "def solution(numbers, k):\n",
        "    return numbers[(2*k-2)%len(numbers)]"
      ],
      "metadata": {
        "id": "IDkems7Bd8er"
      },
      "execution_count": null,
      "outputs": []
    }
  ]
}