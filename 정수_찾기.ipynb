{
  "nbformat": 4,
  "nbformat_minor": 0,
  "metadata": {
    "colab": {
      "provenance": [],
      "authorship_tag": "ABX9TyO/tlDotc6n9CIKgYIXOSkS",
      "include_colab_link": true
    },
    "kernelspec": {
      "name": "python3",
      "display_name": "Python 3"
    },
    "language_info": {
      "name": "python"
    }
  },
  "cells": [
    {
      "cell_type": "markdown",
      "metadata": {
        "id": "view-in-github",
        "colab_type": "text"
      },
      "source": [
        "<a href=\"https://colab.research.google.com/github/YonggunJung/Programmers/blob/main/%EC%A0%95%EC%88%98_%EC%B0%BE%EA%B8%B0.ipynb\" target=\"_parent\"><img src=\"https://colab.research.google.com/assets/colab-badge.svg\" alt=\"Open In Colab\"/></a>"
      ]
    },
    {
      "cell_type": "code",
      "execution_count": 1,
      "metadata": {
        "id": "fYMsPILBWEKF"
      },
      "outputs": [],
      "source": [
        "# 문제 설명\n",
        "# 정수 리스트 num_list와 찾으려는 정수 n이 주어질 때,\n",
        "# num_list안에 n이 있으면 1을 없으면 0을 return하도록 solution 함수를 완성해주세요.\n",
        "\n",
        "# 제한사항\n",
        "# 3 ≤ num_list의 길이 ≤ 100\n",
        "# 1 ≤ num_list의 원소 ≤ 100\n",
        "# 1 ≤ n ≤ 100\n",
        "\n",
        "# 입출력 예\n",
        "# num_list\t              n\t        result\n",
        "# [1, 2, 3, 4, 5]\t        3\t          1\n",
        "# [15, 98, 23, 2, 15]\t    20\t        0\n",
        "\n",
        "# 입출력 예 설명\n",
        "# 입출력 예 #1\n",
        "# [1, 2, 3, 4, 5] 안에 3이 있으므로 1을 return합니다.\n",
        "\n",
        "# 입출력 예 #2\n",
        "# [15, 98, 23, 2, 15] 안에 20이 없으므로 0을 return합니다."
      ]
    },
    {
      "cell_type": "code",
      "source": [
        "def solution(num_list, n):\n",
        "    answer = 0\n",
        "    if n in num_list:\n",
        "      answer = 1\n",
        "    return answer"
      ],
      "metadata": {
        "id": "-rAxppnSWLDx"
      },
      "execution_count": 2,
      "outputs": []
    },
    {
      "cell_type": "code",
      "source": [
        "num_list = [1, 2, 3, 4, 5]\n",
        "n = 3\n",
        "solution(num_list, n)"
      ],
      "metadata": {
        "colab": {
          "base_uri": "https://localhost:8080/"
        },
        "id": "ynt47gxCWNRe",
        "outputId": "1c625b40-1bbf-47cc-f042-e5b5b09eac38"
      },
      "execution_count": 3,
      "outputs": [
        {
          "output_type": "execute_result",
          "data": {
            "text/plain": [
              "1"
            ]
          },
          "metadata": {},
          "execution_count": 3
        }
      ]
    },
    {
      "cell_type": "code",
      "source": [
        "num_list = [15, 98, 23, 2, 15]\n",
        "n = 20\n",
        "solution(num_list, n)"
      ],
      "metadata": {
        "colab": {
          "base_uri": "https://localhost:8080/"
        },
        "id": "yn5xJw7oWNLz",
        "outputId": "c304f435-980d-4168-e90b-265fadcb0c31"
      },
      "execution_count": 4,
      "outputs": [
        {
          "output_type": "execute_result",
          "data": {
            "text/plain": [
              "0"
            ]
          },
          "metadata": {},
          "execution_count": 4
        }
      ]
    },
    {
      "cell_type": "code",
      "source": [
        "# 다른 사람 풀이"
      ],
      "metadata": {
        "id": "OFQG6AsDWQG6"
      },
      "execution_count": 5,
      "outputs": []
    },
    {
      "cell_type": "code",
      "source": [
        "def solution(num_list, n):\n",
        "    return int(n in num_list)"
      ],
      "metadata": {
        "id": "H1_TTQpmWjIC"
      },
      "execution_count": 6,
      "outputs": []
    },
    {
      "cell_type": "code",
      "source": [
        "def solution(num_list, n):\n",
        "    if n in num_list: return 1\n",
        "    return 0"
      ],
      "metadata": {
        "id": "DjQjExQEWlIH"
      },
      "execution_count": 7,
      "outputs": []
    },
    {
      "cell_type": "code",
      "source": [],
      "metadata": {
        "id": "lwFhnFjQWmhH"
      },
      "execution_count": null,
      "outputs": []
    }
  ]
}