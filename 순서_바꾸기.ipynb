{
  "nbformat": 4,
  "nbformat_minor": 0,
  "metadata": {
    "colab": {
      "provenance": [],
      "authorship_tag": "ABX9TyOgLWJUmev7Z1MalxhvYhid",
      "include_colab_link": true
    },
    "kernelspec": {
      "name": "python3",
      "display_name": "Python 3"
    },
    "language_info": {
      "name": "python"
    }
  },
  "cells": [
    {
      "cell_type": "markdown",
      "metadata": {
        "id": "view-in-github",
        "colab_type": "text"
      },
      "source": [
        "<a href=\"https://colab.research.google.com/github/YonggunJung/Programmers/blob/main/%EC%88%9C%EC%84%9C_%EB%B0%94%EA%BE%B8%EA%B8%B0.ipynb\" target=\"_parent\"><img src=\"https://colab.research.google.com/assets/colab-badge.svg\" alt=\"Open In Colab\"/></a>"
      ]
    },
    {
      "cell_type": "code",
      "execution_count": 1,
      "metadata": {
        "id": "c1bT6lEy2pg1"
      },
      "outputs": [],
      "source": [
        "# 문제 설명\n",
        "# 정수 리스트 num_list와 정수 n이 주어질 때,\n",
        "# num_list를 n 번째 원소 이후의 원소들과 n 번째까지의 원소들로 나눠\n",
        "# n 번째 원소 이후의 원소들을 n 번째까지의 원소들 앞에 붙인 리스트를\n",
        "# return하도록 solution 함수를 완성해주세요.\n",
        "\n",
        "# 제한사항\n",
        "# 2 ≤ num_list의 길이 ≤ 30\n",
        "# 1 ≤ num_list의 원소 ≤ 9\n",
        "# 1 ≤ n ≤ num_list의 길이\n",
        "\n",
        "# 입출력 예\n",
        "# num_list\t          n\t    result\n",
        "# [2, 1, 6]\t          1\t    [1, 6, 2]\n",
        "# [5, 2, 1, 7, 5]   \t3\t    [7, 5, 5, 2, 1]\n",
        "\n",
        "# 입출력 예 설명\n",
        "# 입출력 예 #1\n",
        "# [2, 1, 6]에서 첫 번째 이후의 원소는 [1, 6]이고\n",
        "# 첫 번째까지의 원소는 [2]입니다. 두 리스트를 이어 붙이면 [1, 6, 2]가 됩니다.\n",
        "\n",
        "# 입출력 예 #2\n",
        "# [5, 2, 1, 7, 5]에서 세 번째 이후의 원소는 [7, 5]이고\n",
        "# 세 번째까지의 원소는 [5, 2, 1]입니다. 두 리스트를 이어 붙이면 [7, 5, 5, 2, 1]가 됩니다."
      ]
    },
    {
      "cell_type": "code",
      "source": [
        "# 허허 간단한 문제군 기초 다지고 좋군..\n",
        "def solution(num_list, n):\n",
        "    answer = num_list[n:] + num_list[:n]\n",
        "\n",
        "    return answer"
      ],
      "metadata": {
        "id": "DvX6b30x20AH"
      },
      "execution_count": 2,
      "outputs": []
    },
    {
      "cell_type": "code",
      "source": [
        "num_list = [2, 1, 6]\n",
        "n = 1\n",
        "solution(num_list, n)"
      ],
      "metadata": {
        "colab": {
          "base_uri": "https://localhost:8080/"
        },
        "id": "5P8dmi3r23rp",
        "outputId": "831f0cc8-15d4-4d6c-c180-033c974ff041"
      },
      "execution_count": 3,
      "outputs": [
        {
          "output_type": "execute_result",
          "data": {
            "text/plain": [
              "[1, 6, 2]"
            ]
          },
          "metadata": {},
          "execution_count": 3
        }
      ]
    },
    {
      "cell_type": "code",
      "source": [
        "num_list = [5, 2, 1, 7, 5]\n",
        "n = 3\n",
        "solution(num_list, n)"
      ],
      "metadata": {
        "colab": {
          "base_uri": "https://localhost:8080/"
        },
        "id": "kwb-7SaN23pX",
        "outputId": "43f56cef-1c56-4f8d-cf46-189db2491e93"
      },
      "execution_count": 4,
      "outputs": [
        {
          "output_type": "execute_result",
          "data": {
            "text/plain": [
              "[7, 5, 5, 2, 1]"
            ]
          },
          "metadata": {},
          "execution_count": 4
        }
      ]
    },
    {
      "cell_type": "code",
      "source": [
        "# 다른 사람 코드"
      ],
      "metadata": {
        "id": "Saa8LxRd23Rg"
      },
      "execution_count": 5,
      "outputs": []
    },
    {
      "cell_type": "code",
      "source": [
        "# ㅋㅋㅋㅋㅋㅋㅋㅋㅋㅋㅋ\n",
        "def solution(num_list, n):\n",
        "    if not isinstance(num_list, list) : raise TypeError(num_list)\n",
        "    if not isinstance(n, int) : raise TypeError(n)\n",
        "\n",
        "    if not (2 <= len(num_list) <= 30) : raise ValueError(num_list)\n",
        "    if not (1 <= n <= len(num_list)) : raise ValueError(num_list, n)\n",
        "\n",
        "    if not all(isinstance(num, int) for num in num_list) : raise TypeError(num_list)\n",
        "    if not all(1 <= num <= 9 for num in num_list) : raise ValueError(num_list)\n",
        "\n",
        "    return num_list[n:] + num_list[:n]"
      ],
      "metadata": {
        "id": "RvSuhXoi3thI"
      },
      "execution_count": 6,
      "outputs": []
    },
    {
      "cell_type": "code",
      "source": [
        "\n",
        "from collections import deque\n",
        "\n",
        "def solution(num_list, n):\n",
        "    num_list = deque(num_list)\n",
        "    num_list.rotate(-n)\n",
        "    return list(num_list)"
      ],
      "metadata": {
        "id": "grM26PLo3wfH"
      },
      "execution_count": null,
      "outputs": []
    }
  ]
}