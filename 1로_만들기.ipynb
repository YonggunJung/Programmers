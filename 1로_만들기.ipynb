{
  "nbformat": 4,
  "nbformat_minor": 0,
  "metadata": {
    "colab": {
      "provenance": [],
      "authorship_tag": "ABX9TyNr1OxjVybFoPuWMQXPeVLh",
      "include_colab_link": true
    },
    "kernelspec": {
      "name": "python3",
      "display_name": "Python 3"
    },
    "language_info": {
      "name": "python"
    }
  },
  "cells": [
    {
      "cell_type": "markdown",
      "metadata": {
        "id": "view-in-github",
        "colab_type": "text"
      },
      "source": [
        "<a href=\"https://colab.research.google.com/github/YonggunJung/Programmers/blob/main/1%EB%A1%9C_%EB%A7%8C%EB%93%A4%EA%B8%B0.ipynb\" target=\"_parent\"><img src=\"https://colab.research.google.com/assets/colab-badge.svg\" alt=\"Open In Colab\"/></a>"
      ]
    },
    {
      "cell_type": "code",
      "execution_count": 1,
      "metadata": {
        "id": "TGT6dlaY35LB"
      },
      "outputs": [],
      "source": [
        "# 문제 설명\n",
        "# 정수가 있을 때, 짝수라면 반으로 나누고,\n",
        "# 홀수라면 1을 뺀 뒤 반으로 나누면, 마지막엔 1이 됩니다.\n",
        "# 예를 들어 10이 있다면 다음과 같은 과정으로 1이 됩니다.\n",
        "\n",
        "# 10 / 2 = 5\n",
        "# (5 - 1) / 2 = 4\n",
        "# 4 / 2 = 2\n",
        "# 2 / 2 = 1\n",
        "# 위와 같이 4번의 나누기 연산으로 1이 되었습니다.\n",
        "\n",
        "# 정수들이 담긴 리스트 num_list가 주어질 때,\n",
        "# num_list의 모든 원소를 1로 만들기 위해서 필요한 나누기 연산의 횟수를\n",
        "# return하도록 solution 함수를 완성해주세요.\n",
        "\n",
        "# 제한사항\n",
        "# 3 ≤ num_list의 길이 ≤ 15\n",
        "# 1 ≤ num_list의 원소 ≤ 30\n",
        "\n",
        "# 입출력 예\n",
        "# num_list\t              result\n",
        "# [12, 4, 15, 1, 14]\t      11\n",
        "\n",
        "# 입출력 예 설명\n",
        "# 입출력 예 #1\n",
        "# 12는 3번, 4는 2번, 15는 3번, 1은 0번, 14는 3번의 연산이 필요하기 때문에\n",
        "# 총 11번의 연산이 필요합니다."
      ]
    },
    {
      "cell_type": "code",
      "source": [
        "def solution(num_list):\n",
        "    answer = 0\n",
        "    for num in num_list:\n",
        "      while num != 1:\n",
        "        num //= 2\n",
        "        answer += 1\n",
        "\n",
        "    return answer"
      ],
      "metadata": {
        "id": "UV7zvecI4Da2"
      },
      "execution_count": 7,
      "outputs": []
    },
    {
      "cell_type": "code",
      "source": [
        "num_list = [12, 4, 15, 1, 14]\n",
        "solution(num_list)"
      ],
      "metadata": {
        "colab": {
          "base_uri": "https://localhost:8080/"
        },
        "id": "JAgf-HNp4Gi1",
        "outputId": "467c6337-ad63-47db-d657-9bd7b116aa5e"
      },
      "execution_count": 8,
      "outputs": [
        {
          "output_type": "execute_result",
          "data": {
            "text/plain": [
              "11"
            ]
          },
          "metadata": {},
          "execution_count": 8
        }
      ]
    },
    {
      "cell_type": "code",
      "source": [
        "# 다른 사람 풀이"
      ],
      "metadata": {
        "id": "C5ycgQwo4-7E"
      },
      "execution_count": 9,
      "outputs": []
    },
    {
      "cell_type": "code",
      "source": [
        "#  와우 신박한 방법. 봐도 이해 안감\n",
        "def solution(num_list):\n",
        "    return sum(len(bin(i)) - 3 for i in num_list)\n",
        "\n",
        "# 설명 :예를 들어 i=12 일때, bin(i) 를 하면 '0b1100' 이 됩니다.\n",
        "# 여기서 우리는 마지막으로 남겨야 하는 1;\n",
        "# 즉 2^0인 맨끝의 '0'과 과\n",
        "# 이진수를 나타내는 앞의 '0b' 총 길이 3을 제외한 나머지 숫자들인 \"110\" 을\n",
        "# 없애는 것이 목표값이 되는데,\n",
        "# 이는 각 자리마다 2를 나누는 횟수기 때문에 \"110\"의 길이인 3이 됩니다.\n",
        "# 홀 수 일 때는 어차피 -1을 해서 짝수로 만들기 때문에 가능합니다.\n",
        "\n",
        "# # len(bin(i)) - 3을 통해 '0b'의 길이 2와 마지막 비트(1)의 길이 1을 뺍니다.\n",
        "# 이는 정수 i를 1로 만드는데 필요한 연산 횟수와 일치합니다.\n",
        "# 예를 들어, 10은 이진수로 1010이고, 3번의 연산이 필요합니다 (첫 번째 '1'은 무시됩니다)."
      ],
      "metadata": {
        "id": "p5iTz0tt5rH4"
      },
      "execution_count": null,
      "outputs": []
    }
  ]
}