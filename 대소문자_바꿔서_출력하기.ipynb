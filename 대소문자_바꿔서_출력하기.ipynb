{
  "nbformat": 4,
  "nbformat_minor": 0,
  "metadata": {
    "colab": {
      "provenance": [],
      "authorship_tag": "ABX9TyM7h70PwdLNMcKO9IMgVzPz",
      "include_colab_link": true
    },
    "kernelspec": {
      "name": "python3",
      "display_name": "Python 3"
    },
    "language_info": {
      "name": "python"
    }
  },
  "cells": [
    {
      "cell_type": "markdown",
      "metadata": {
        "id": "view-in-github",
        "colab_type": "text"
      },
      "source": [
        "<a href=\"https://colab.research.google.com/github/YonggunJung/Programmers/blob/main/%EB%8C%80%EC%86%8C%EB%AC%B8%EC%9E%90_%EB%B0%94%EA%BF%94%EC%84%9C_%EC%B6%9C%EB%A0%A5%ED%95%98%EA%B8%B0.ipynb\" target=\"_parent\"><img src=\"https://colab.research.google.com/assets/colab-badge.svg\" alt=\"Open In Colab\"/></a>"
      ]
    },
    {
      "cell_type": "code",
      "execution_count": 1,
      "metadata": {
        "id": "GYYp4h0MVwpB"
      },
      "outputs": [],
      "source": [
        "# 문제 설명\n",
        "# 영어 알파벳으로 이루어진 문자열 str이 주어집니다.\n",
        "# 각 알파벳을 대문자는 소문자로 소문자는 대문자로 변환해서 출력하는 코드를 작성해 보세요.\n",
        "\n",
        "# 제한사항\n",
        "# 1 ≤ str의 길이 ≤ 20\n",
        "# str은 알파벳으로 이루어진 문자열입니다.\n",
        "\n",
        "# 입출력 예\n",
        "# 입력 #1\n",
        "# aBcDeFg\n",
        "\n",
        "# 출력 #1\n",
        "# AbCdEfG"
      ]
    },
    {
      "cell_type": "code",
      "source": [
        "# 문제\n",
        "# str = input()"
      ],
      "metadata": {
        "id": "SqpjyQUOV1ZD"
      },
      "execution_count": 2,
      "outputs": []
    },
    {
      "cell_type": "code",
      "source": [
        "str = input()\n",
        "answer = ''\n",
        "for char in str:\n",
        "  if char.isupper():\n",
        "    answer += char.lower()\n",
        "  elif char.islower():\n",
        "    answer += char.upper()\n",
        "print(answer)"
      ],
      "metadata": {
        "colab": {
          "base_uri": "https://localhost:8080/"
        },
        "id": "oeGFcxd6V6QT",
        "outputId": "cde80152-3fdc-45bf-ebe3-d78b474e05e6"
      },
      "execution_count": 4,
      "outputs": [
        {
          "output_type": "stream",
          "name": "stdout",
          "text": [
            "aBcDeFg\n",
            "AbCdEfG\n"
          ]
        }
      ]
    },
    {
      "cell_type": "code",
      "source": [
        "# 다른사람 풀이"
      ],
      "metadata": {
        "id": "TO97zm-OWiX2"
      },
      "execution_count": 5,
      "outputs": []
    },
    {
      "cell_type": "code",
      "source": [
        "# 이거 저번에 봤는데 ㅠㅠ 기억 못함 swapcase() 기억하자\n",
        "print(input().swapcase())"
      ],
      "metadata": {
        "id": "i5naTUXFWrz8"
      },
      "execution_count": null,
      "outputs": []
    },
    {
      "cell_type": "code",
      "source": [
        "# 이건 완벽히 이해는 안가지만 알거 같음\n",
        "print(''.join(x.upper() if x == x.lower() else x.lower() for x in input()))"
      ],
      "metadata": {
        "id": "INpgVXLNXFgf"
      },
      "execution_count": null,
      "outputs": []
    }
  ]
}