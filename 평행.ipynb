{
  "nbformat": 4,
  "nbformat_minor": 0,
  "metadata": {
    "colab": {
      "provenance": [],
      "authorship_tag": "ABX9TyP3N1BWZvVTWJBFqsAOKFo8",
      "include_colab_link": true
    },
    "kernelspec": {
      "name": "python3",
      "display_name": "Python 3"
    },
    "language_info": {
      "name": "python"
    }
  },
  "cells": [
    {
      "cell_type": "markdown",
      "metadata": {
        "id": "view-in-github",
        "colab_type": "text"
      },
      "source": [
        "<a href=\"https://colab.research.google.com/github/YonggunJung/Programmers/blob/main/%ED%8F%89%ED%96%89.ipynb\" target=\"_parent\"><img src=\"https://colab.research.google.com/assets/colab-badge.svg\" alt=\"Open In Colab\"/></a>"
      ]
    },
    {
      "cell_type": "code",
      "execution_count": 1,
      "metadata": {
        "id": "jCa3g0bC3vFi"
      },
      "outputs": [],
      "source": [
        "# 문제 설명\n",
        "# 점 네 개의 좌표를 담은 이차원 배열  dots가 다음과 같이 매개변수로 주어집니다.\n",
        "# [[x1, y1], [x2, y2], [x3, y3], [x4, y4]]\n",
        "# 주어진 네 개의 점을 두 개씩 이었을 때,\n",
        "# 두 직선이 평행이 되는 경우가 있으면 1을 없으면 0을 return 하도록\n",
        "# solution 함수를 완성해보세요.\n",
        "\n",
        "# 제한사항\n",
        "# dots의 길이 = 4\n",
        "# dots의 원소는 [x, y] 형태이며 x, y는 정수입니다.\n",
        "# 0 ≤ x, y ≤ 100\n",
        "# 서로 다른 두개 이상의 점이 겹치는 경우는 없습니다.\n",
        "# 두 직선이 겹치는 경우(일치하는 경우)에도 1을 return 해주세요.\n",
        "# 임의의 두 점을 이은 직선이 x축 또는 y축과 평행한 경우는 주어지지 않습니다.\n",
        "\n",
        "# 입출력 예\n",
        "# dots\t                                  result\n",
        "# [[1, 4], [9, 2], [3, 8], [11, 6]]\t        1\n",
        "# [[3, 5], [4, 1], [2, 4], [5, 10]]\t        0\n",
        "\n",
        "# 입출력 예 설명\n",
        "# 입출력 예 #1\n",
        "# 점 [1, 4], [3, 8]을 잇고 [9, 2], [11, 6]를 이으면 두 선분은 평행합니다.\n",
        "\n",
        "# 입출력 예 #2\n",
        "# 점을 어떻게 연결해도 평행하지 않습니다."
      ]
    },
    {
      "cell_type": "code",
      "source": [
        "# 하나하나 다 했어도 되는데 왜 이 생각 조차 안날까 ㅠㅠ\n",
        "def solution(dots):\n",
        "\n",
        "    #dots의 숫자를 직접 변수에 대입\n",
        "    [[x1, y1], [x2, y2], [x3, y3], [x4, y4]] = dots\n",
        "\n",
        "    # 기울기가 같으면 평행\n",
        "    # 기울기 = |(y2 - y1) / (x2 - x1)|\n",
        "\n",
        "    # 선분 12, 선분 34\n",
        "    gradient_12 = abs((y2 - y1) / (x2 - x1))\n",
        "    gradient_34 = abs((y4 - y3) / (x4 - x3))\n",
        "\n",
        "    # 선분 13, 선분 24\n",
        "    gradient_13 = abs((y3 - y1) / (x3 - x1))\n",
        "    gradient_24 = abs((y4 - y2) / (x4 - x2))\n",
        "\n",
        "    # 선분23, 선분 14\n",
        "    gradient_23 = abs((y3 - y2) / (x3 - x2))\n",
        "    gradient_14 = abs((y4 - y1) / (x4 - x1))\n",
        "\n",
        "    # 셋 중 하나라도 같으면 평행\n",
        "    if gradient_12 == gradient_34 or gradient_23 == gradient_14 or gradient_13 == gradient_24:\n",
        "        return 1\n",
        "\n",
        "    return 0\n"
      ],
      "metadata": {
        "id": "360IEna85NeL"
      },
      "execution_count": 8,
      "outputs": []
    },
    {
      "cell_type": "code",
      "source": [
        "dots = [[1, 4], [9, 2], [3, 8], [11, 6]]\n",
        "solution(dots)"
      ],
      "metadata": {
        "colab": {
          "base_uri": "https://localhost:8080/"
        },
        "id": "Hoz6EbaC5PRx",
        "outputId": "56e7c454-7df7-440f-fc5a-e8a1c08e8980"
      },
      "execution_count": 9,
      "outputs": [
        {
          "output_type": "execute_result",
          "data": {
            "text/plain": [
              "1"
            ]
          },
          "metadata": {},
          "execution_count": 9
        }
      ]
    },
    {
      "cell_type": "code",
      "source": [
        "dots = [[3, 5], [4, 1], [2, 4], [5, 10]]\n",
        "solution(dots)"
      ],
      "metadata": {
        "colab": {
          "base_uri": "https://localhost:8080/"
        },
        "id": "z8sY3-yE5SWA",
        "outputId": "38bd9ae2-80dc-475d-90ec-230a824251fc"
      },
      "execution_count": 10,
      "outputs": [
        {
          "output_type": "execute_result",
          "data": {
            "text/plain": [
              "0"
            ]
          },
          "metadata": {},
          "execution_count": 10
        }
      ]
    },
    {
      "cell_type": "code",
      "source": [
        "# 다른 사람 풀이"
      ],
      "metadata": {
        "id": "U40m8CK35SQX"
      },
      "execution_count": 3,
      "outputs": []
    },
    {
      "cell_type": "code",
      "source": [
        "# 크게 어려운건 아니었다. 내가 너무 쪼렙이다\n",
        "def solution(dots):\n",
        "    [[x1, y1], [x2, y2], [x3, y3], [x4, y4]]=dots\n",
        "    answer1 = ((y1-y2)*(x3-x4) == (y3-y4)*(x1-x2))\n",
        "    answer2 = ((y1-y3)*(x2-x4) == (y2-y4)*(x1-x3))\n",
        "    answer3 = ((y1-y4)*(x2-x3) == (y2-y3)*(x1-x4))\n",
        "    return 1 if answer1 or answer2 or answer3 else 0"
      ],
      "metadata": {
        "id": "v0qYMdhl5X-8"
      },
      "execution_count": 11,
      "outputs": []
    },
    {
      "cell_type": "code",
      "source": [
        "# combinations()함수 등장, 알아서 요래 조래 계산 해주는거 같은데 찾아 봐야함\n",
        "from itertools import combinations\n",
        "\n",
        "def solution(dots):\n",
        "    a = []\n",
        "    for (x1,y1),(x2,y2) in combinations(dots,2):\n",
        "        a.append((y2-y1,x2-x1))\n",
        "\n",
        "    for (x1,y1),(x2,y2) in combinations(a,2):\n",
        "        if x1*y2==x2*y1:\n",
        "            return 1\n",
        "    return 0"
      ],
      "metadata": {
        "id": "6g41QnToKIcA"
      },
      "execution_count": null,
      "outputs": []
    }
  ]
}