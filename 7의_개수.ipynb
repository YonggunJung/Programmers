{
  "nbformat": 4,
  "nbformat_minor": 0,
  "metadata": {
    "colab": {
      "provenance": [],
      "authorship_tag": "ABX9TyMsiOQTgEZ/SQD7HaXQZsr0",
      "include_colab_link": true
    },
    "kernelspec": {
      "name": "python3",
      "display_name": "Python 3"
    },
    "language_info": {
      "name": "python"
    }
  },
  "cells": [
    {
      "cell_type": "markdown",
      "metadata": {
        "id": "view-in-github",
        "colab_type": "text"
      },
      "source": [
        "<a href=\"https://colab.research.google.com/github/YonggunJung/Programmers/blob/main/7%EC%9D%98_%EA%B0%9C%EC%88%98.ipynb\" target=\"_parent\"><img src=\"https://colab.research.google.com/assets/colab-badge.svg\" alt=\"Open In Colab\"/></a>"
      ]
    },
    {
      "cell_type": "code",
      "execution_count": 1,
      "metadata": {
        "id": "fQ93Dah7dKBz"
      },
      "outputs": [],
      "source": [
        "# 문제 설명\n",
        "# 머쓱이는 행운의 숫자 7을 가장 좋아합니다.\n",
        "# 정수 배열 array가 매개변수로 주어질 때,\n",
        "# 7이 총 몇 개 있는지 return 하도록 solution 함수를 완성해보세요.\n",
        "\n",
        "# 제한사항\n",
        "# 1 ≤ array의 길이 ≤ 100\n",
        "# 0 ≤ array의 원소 ≤ 100,000\n",
        "\n",
        "# 입출력 예\n",
        "# array\t        result\n",
        "# [7, 77, 17]\t    4\n",
        "# [10, 29]\t      0\n",
        "\n",
        "# 입출력 예 설명\n",
        "# 입출력 예 #1\n",
        "# [7, 77, 17]에는 7이 4개 있으므로 4를 return 합니다.\n",
        "\n",
        "# 입출력 예 #2\n",
        "# [10, 29]에는 7이 없으므로 0을 return 합니다."
      ]
    },
    {
      "cell_type": "code",
      "source": [
        "# 어제랑 비슷한문제 (k의 개수)\n",
        "# 어제보다 이해가 많이 됨 근데 while 문이 들어가는게 맞는지에 대한 의문이 있음\n",
        "def solution(array):\n",
        "    answer = 0\n",
        "    for i in array:\n",
        "      while i:\n",
        "        if i % 10 == 7:\n",
        "          answer += 1\n",
        "        i //= 10\n",
        "    return answer"
      ],
      "metadata": {
        "id": "ka_q4p-PdXcp"
      },
      "execution_count": 4,
      "outputs": []
    },
    {
      "cell_type": "code",
      "source": [
        "array = [7, 77, 17]\n",
        "solution(array)"
      ],
      "metadata": {
        "colab": {
          "base_uri": "https://localhost:8080/"
        },
        "id": "nQUMkq_NeGpq",
        "outputId": "34b303eb-9338-45fd-8811-6a60d7ee3818"
      },
      "execution_count": 5,
      "outputs": [
        {
          "output_type": "execute_result",
          "data": {
            "text/plain": [
              "4"
            ]
          },
          "metadata": {},
          "execution_count": 5
        }
      ]
    },
    {
      "cell_type": "code",
      "source": [
        "array = [10, 29]\n",
        "solution(array)"
      ],
      "metadata": {
        "colab": {
          "base_uri": "https://localhost:8080/"
        },
        "id": "uFZHguRNeKeA",
        "outputId": "140d7eb5-7421-41be-f6a6-e64a90b1890a"
      },
      "execution_count": 6,
      "outputs": [
        {
          "output_type": "execute_result",
          "data": {
            "text/plain": [
              "0"
            ]
          },
          "metadata": {},
          "execution_count": 6
        }
      ]
    },
    {
      "cell_type": "code",
      "source": [
        "# 다른 사람 풀이"
      ],
      "metadata": {
        "id": "PZlPVMxreN7Z"
      },
      "execution_count": 7,
      "outputs": []
    },
    {
      "cell_type": "code",
      "source": [
        "# 현타 오지게 오네 ㅋㅋㅋㅋㅋ\n",
        "def solution(array):\n",
        "    return str(array).count('7')\n",
        "# 다른 풀이들은 이걸 다 어렵게 해놓은 느낌"
      ],
      "metadata": {
        "id": "Jb7yCgCHhMq6"
      },
      "execution_count": null,
      "outputs": []
    }
  ]
}