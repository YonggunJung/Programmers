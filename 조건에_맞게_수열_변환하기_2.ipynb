{
  "nbformat": 4,
  "nbformat_minor": 0,
  "metadata": {
    "colab": {
      "provenance": [],
      "authorship_tag": "ABX9TyNHqiv88Fjoc/FpHexwo8QY",
      "include_colab_link": true
    },
    "kernelspec": {
      "name": "python3",
      "display_name": "Python 3"
    },
    "language_info": {
      "name": "python"
    }
  },
  "cells": [
    {
      "cell_type": "markdown",
      "metadata": {
        "id": "view-in-github",
        "colab_type": "text"
      },
      "source": [
        "<a href=\"https://colab.research.google.com/github/YonggunJung/Programmers/blob/main/%EC%A1%B0%EA%B1%B4%EC%97%90_%EB%A7%9E%EA%B2%8C_%EC%88%98%EC%97%B4_%EB%B3%80%ED%99%98%ED%95%98%EA%B8%B0_2.ipynb\" target=\"_parent\"><img src=\"https://colab.research.google.com/assets/colab-badge.svg\" alt=\"Open In Colab\"/></a>"
      ]
    },
    {
      "cell_type": "code",
      "execution_count": 1,
      "metadata": {
        "id": "jo8pDlzfBV-n"
      },
      "outputs": [],
      "source": [
        "# 문제 설명\n",
        "# 정수 배열 arr가 주어집니다.\n",
        "# arr의 각 원소에 대해 값이 50보다 크거나 같은 짝수라면 2로 나누고,\n",
        "# 50보다 작은 홀수라면 2를 곱하고 다시 1을 더합니다.\n",
        "\n",
        "# 이러한 작업을 x번 반복한 결과인 배열을 arr(x)라고 표현했을 때,\n",
        "# arr(x) = arr(x + 1)인 x가 항상 존재합니다.\n",
        "# 이러한 x 중 가장 작은 값을 return 하는 solution 함수를 완성해 주세요.\n",
        "\n",
        "# 단, 두 배열에 대한 \"=\"는 두 배열의 크기가 서로 같으며,\n",
        "# 같은 인덱스의 원소가 각각 서로 같음을 의미합니다.\n",
        "\n",
        "# 제한사항\n",
        "# 1 ≤ arr의 길이 ≤ 1,000,000\n",
        "# 1 ≤ arr의 원소의 값 ≤ 100\n",
        "\n",
        "# 입출력 예\n",
        "# arr\t                          result\n",
        "# [1, 2, 3, 100, 99, 98]\t        5\n",
        "\n",
        "# 입출력 예 설명\n",
        "# 입출력 예 #1\n",
        "# 위 작업을 반복하면 다음과 같이 arr가 변합니다.\n",
        "# 반복 횟수\tarr\n",
        "# 0\t[1, 2, 3, 100, 99, 98]\n",
        "# 1\t[3, 2, 7, 50, 99, 49]\n",
        "# 2\t[7, 2, 15, 25, 99, 99]\n",
        "# 3\t[15, 2, 31, 51, 99, 99]\n",
        "# 4\t[31, 2, 63, 51, 99, 99]\n",
        "# 5\t[63, 2, 63, 51, 99, 99]\n",
        "# 6\t[63, 2, 63, 51, 99, 99]\n",
        "# 이후로 arr가 변하지 않으며, arr(5) = arr(6)이므로 5를 return 합니다."
      ]
    },
    {
      "cell_type": "code",
      "source": [
        "# 쉽지 않았다 while()문 그리고 copy()힌트 안봤으면 못풀었을듯\n",
        "# arr1 = arr 이거는 같은 리스트를 공유한다 arr 원소가 바뀌면 arr1 원소도 함께 바뀐다\n",
        "# 그래서 copy() 를 써준다. 그러면 다른 주소의 카피가 생기는 것이다.\n",
        "def solution(arr):\n",
        "    answer = -1\n",
        "    arr1 = []\n",
        "    while arr1 != arr:\n",
        "      arr1 = arr.copy()\n",
        "\n",
        "      for idx, num in enumerate(arr):\n",
        "        if num < 50 and num % 2 == 1:\n",
        "          arr[idx] = num * 2 + 1\n",
        "        elif num >= 50 and num % 2 == 0:\n",
        "          arr[idx] =  num // 2\n",
        "      answer += 1\n",
        "\n",
        "\n",
        "    return answer\n",
        "\n",
        "# 이건 한줄로 하기 어렵네 ㅠㅠ 연습중\n",
        "# arr = [num * 2 + 1 if num < 50 and num % 2 == 1 else (num // 2 if num >= 50 and num % 2 == 0 else num) for num in arr]"
      ],
      "metadata": {
        "id": "aubP09JhBdqS"
      },
      "execution_count": 53,
      "outputs": []
    },
    {
      "cell_type": "code",
      "source": [
        "arr = [1, 2, 3, 100, 99, 98]\n",
        "solution(arr)"
      ],
      "metadata": {
        "colab": {
          "base_uri": "https://localhost:8080/"
        },
        "id": "ST-jG9HYBenZ",
        "outputId": "d2cf6bf0-6e45-4e78-cba4-ce00a4cf68b0"
      },
      "execution_count": 54,
      "outputs": [
        {
          "output_type": "execute_result",
          "data": {
            "text/plain": [
              "6"
            ]
          },
          "metadata": {},
          "execution_count": 54
        }
      ]
    },
    {
      "cell_type": "code",
      "source": [
        "# 다른 사람 풀이"
      ],
      "metadata": {
        "id": "uad6IpixDnSS"
      },
      "execution_count": 55,
      "outputs": []
    },
    {
      "cell_type": "code",
      "source": [
        "# 내꺼를 더 알기 쉽게 풀어쓴 느낌\n",
        "def solution(arr):\n",
        "    answer = 0\n",
        "    old = arr\n",
        "    while(True):\n",
        "        new = []\n",
        "        for i in old:\n",
        "            if i>=50 and i%2 == 0:\n",
        "                i = i/2\n",
        "            elif i<50 and i%2 == 1:\n",
        "                i = i*2 + 1\n",
        "            new.append(int(i))\n",
        "        if old == new:\n",
        "            break\n",
        "        else:\n",
        "            old = new\n",
        "            answer += 1\n",
        "    return answer"
      ],
      "metadata": {
        "id": "KAcy9OW3RrMa"
      },
      "execution_count": 56,
      "outputs": []
    },
    {
      "cell_type": "code",
      "source": [
        "# 거의 같지만 조금씩은 다 다름\n",
        "def solution(arr):\n",
        "    answer = 0\n",
        "\n",
        "    while True:\n",
        "\n",
        "        arr_trans = []\n",
        "\n",
        "        for i in arr:\n",
        "            if i >= 50 and i % 2 == 0:\n",
        "                arr_trans.append(i//2)\n",
        "            elif i < 50 and i % 2 == 1:\n",
        "                arr_trans.append(i*2 + 1)\n",
        "            else:\n",
        "                arr_trans.append(i)\n",
        "\n",
        "        if arr == arr_trans:\n",
        "            return answer\n",
        "\n",
        "        answer += 1\n",
        "        arr = arr_trans"
      ],
      "metadata": {
        "id": "ELtDV31OR3hg"
      },
      "execution_count": null,
      "outputs": []
    }
  ]
}