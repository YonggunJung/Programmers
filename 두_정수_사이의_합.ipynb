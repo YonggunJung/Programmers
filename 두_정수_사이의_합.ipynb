{
  "nbformat": 4,
  "nbformat_minor": 0,
  "metadata": {
    "colab": {
      "provenance": [],
      "authorship_tag": "ABX9TyOYlIAoJoecRgIqK6v8h27T",
      "include_colab_link": true
    },
    "kernelspec": {
      "name": "python3",
      "display_name": "Python 3"
    },
    "language_info": {
      "name": "python"
    }
  },
  "cells": [
    {
      "cell_type": "markdown",
      "metadata": {
        "id": "view-in-github",
        "colab_type": "text"
      },
      "source": [
        "<a href=\"https://colab.research.google.com/github/YonggunJung/Programmers/blob/main/%EB%91%90_%EC%A0%95%EC%88%98_%EC%82%AC%EC%9D%B4%EC%9D%98_%ED%95%A9.ipynb\" target=\"_parent\"><img src=\"https://colab.research.google.com/assets/colab-badge.svg\" alt=\"Open In Colab\"/></a>"
      ]
    },
    {
      "cell_type": "code",
      "execution_count": 1,
      "metadata": {
        "id": "JiuB9XwDH4ia"
      },
      "outputs": [],
      "source": [
        "# 문제 설명\n",
        "# 두 정수 a, b가 주어졌을 때 a와 b 사이에 속한 모든 정수의 합을 리턴하는 함수,\n",
        "# solution을 완성하세요.\n",
        "# 예를 들어 a = 3, b = 5인 경우, 3 + 4 + 5 = 12이므로 12를 리턴합니다.\n",
        "\n",
        "# 제한 조건\n",
        "# a와 b가 같은 경우는 둘 중 아무 수나 리턴하세요.\n",
        "# a와 b는 -10,000,000 이상 10,000,000 이하인 정수입니다.\n",
        "# a와 b의 대소관계는 정해져있지 않습니다.\n",
        "\n",
        "# 입출력 예\n",
        "# a\t  b\t  return\n",
        "# 3\t  5\t  12\n",
        "# 3\t  3\t  3\n",
        "# 5\t  3\t  12"
      ]
    },
    {
      "cell_type": "code",
      "source": [
        "def solution(a, b):\n",
        "    answer = 0\n",
        "    for i in range(min(a, b), max(a, b)+1):\n",
        "        answer += i\n",
        "    return answer"
      ],
      "metadata": {
        "id": "4qeSAnp1IAcU"
      },
      "execution_count": 2,
      "outputs": []
    },
    {
      "cell_type": "code",
      "source": [],
      "metadata": {
        "id": "lwP9SiRiIYO_"
      },
      "execution_count": null,
      "outputs": []
    }
  ]
}