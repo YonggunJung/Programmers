{
  "nbformat": 4,
  "nbformat_minor": 0,
  "metadata": {
    "colab": {
      "provenance": [],
      "authorship_tag": "ABX9TyP8DfqJS1FZtHcFbFEe/xLI",
      "include_colab_link": true
    },
    "kernelspec": {
      "name": "python3",
      "display_name": "Python 3"
    },
    "language_info": {
      "name": "python"
    }
  },
  "cells": [
    {
      "cell_type": "markdown",
      "metadata": {
        "id": "view-in-github",
        "colab_type": "text"
      },
      "source": [
        "<a href=\"https://colab.research.google.com/github/YonggunJung/Programmers/blob/main/N%EA%B0%9C%EC%9D%98_%EC%B5%9C%EC%86%8C%EA%B3%B5%EB%B0%B0%EC%88%98.ipynb\" target=\"_parent\"><img src=\"https://colab.research.google.com/assets/colab-badge.svg\" alt=\"Open In Colab\"/></a>"
      ]
    },
    {
      "cell_type": "code",
      "execution_count": 1,
      "metadata": {
        "id": "EOLDv7poo0lX"
      },
      "outputs": [],
      "source": [
        "# 문제 설명\n",
        "# 두 수의 최소공배수(Least Common Multiple)란\n",
        "# 입력된 두 수의 배수 중 공통이 되는 가장 작은 숫자를 의미합니다.\n",
        "# 예를 들어 2와 7의 최소공배수는 14가 됩니다.\n",
        "# 정의를 확장해서,\n",
        "# n개의 수의 최소공배수는 n 개의 수들의 배수 중 공통이 되는 가장 작은 숫자가 됩니다.\n",
        "# n개의 숫자를 담은 배열 arr이 입력되었을 때\n",
        "# 이 수들의 최소공배수를 반환하는 함수, solution을 완성해 주세요.\n",
        "\n",
        "# 제한 사항\n",
        "# arr은 길이 1이상, 15이하인 배열입니다.\n",
        "# arr의 원소는 100 이하인 자연수입니다.\n",
        "\n",
        "# 입출력 예\n",
        "# arr\t            result\n",
        "# [2,6,8,14]\t      168\n",
        "# [1,2,3]           \t6"
      ]
    },
    {
      "cell_type": "code",
      "source": [
        "def solution(arr):\n",
        "    answer = 0\n",
        "    co = 0;\n",
        "    m = max(arr)\n",
        "    mx = max(arr)\n",
        "    while co != len(arr):\n",
        "      for idx, n in enumerate(arr):\n",
        "        if mx % n == 0:\n",
        "          co += 1\n",
        "        else:\n",
        "          co = 0\n",
        "          mx += m\n",
        "          break\n",
        "      answer = mx\n",
        "    return answer"
      ],
      "metadata": {
        "id": "slOkGLgao9x_"
      },
      "execution_count": null,
      "outputs": []
    },
    {
      "cell_type": "code",
      "source": [
        "# 다른 사람 풀이\n",
        "# gcd(n, answer) 이 함수가 있는걸 알고는 있었지만\n",
        "# 기억은 나지 않았다는거\n",
        "from fractions import gcd\n",
        "def nlcm(num):\n",
        "    answer = num[0]\n",
        "    for n in num:\n",
        "        answer = n * answer / gcd(n, answer)\n",
        "\n",
        "    return answer\n",
        "\n",
        "print(nlcm([2,6,8,14]));"
      ],
      "metadata": {
        "id": "EN9N5xLKpzAR"
      },
      "execution_count": null,
      "outputs": []
    }
  ]
}