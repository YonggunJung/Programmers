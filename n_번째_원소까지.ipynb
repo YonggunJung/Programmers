{
  "nbformat": 4,
  "nbformat_minor": 0,
  "metadata": {
    "colab": {
      "provenance": [],
      "authorship_tag": "ABX9TyMtqJUj9Df58gijdvDMrCNq",
      "include_colab_link": true
    },
    "kernelspec": {
      "name": "python3",
      "display_name": "Python 3"
    },
    "language_info": {
      "name": "python"
    }
  },
  "cells": [
    {
      "cell_type": "markdown",
      "metadata": {
        "id": "view-in-github",
        "colab_type": "text"
      },
      "source": [
        "<a href=\"https://colab.research.google.com/github/YonggunJung/Programmers/blob/main/n_%EB%B2%88%EC%A7%B8_%EC%9B%90%EC%86%8C%EA%B9%8C%EC%A7%80.ipynb\" target=\"_parent\"><img src=\"https://colab.research.google.com/assets/colab-badge.svg\" alt=\"Open In Colab\"/></a>"
      ]
    },
    {
      "cell_type": "code",
      "execution_count": 1,
      "metadata": {
        "id": "R7pk8Ez8kvEv"
      },
      "outputs": [],
      "source": [
        "# 문제 설명\n",
        "# 정수 리스트 num_list와 정수 n이 주어질 때,\n",
        "# num_list의 첫 번째 원소부터 n 번째 원소까지의 모든 원소를 담은 리스트를\n",
        "# return하도록 solution 함수를 완성해주세요.\n",
        "\n",
        "# 제한사항\n",
        "# 2 ≤ num_list의 길이 ≤ 30\n",
        "# 1 ≤ num_list의 원소 ≤ 9\n",
        "# 1 ≤ n ≤ num_list의 길이 ___\n",
        "\n",
        "# 입출력 예\n",
        "# num_list\t        n\t      result\n",
        "# [2, 1, 6]\t        1\t      [2]\n",
        "# [5, 2, 1, 7, 5]\t  3\t      [5, 2, 1]\n",
        "\n",
        "# 입출력 예 설명\n",
        "# 입출력 예 #1\n",
        "# [2, 1, 6]의 첫 번째 원소부터 첫 번째 원소까지의 모든 원소는 [2]입니다.\n",
        "\n",
        "# 입출력 예 #2\n",
        "# [5, 2, 1, 7, 5]의 첫 번째 원소부터 세 번째 원소까지의 모든 원소는 [5, 2, 1]입니다."
      ]
    },
    {
      "cell_type": "code",
      "source": [
        "# 이런게 지금 나오는거 신기하네\n",
        "def solution(num_list, n):\n",
        "    answer = num_list[:n]\n",
        "\n",
        "    return answer"
      ],
      "metadata": {
        "id": "hV13TUDNk1QI"
      },
      "execution_count": 3,
      "outputs": []
    },
    {
      "cell_type": "code",
      "source": [
        "num_list = [2, 1, 6]\n",
        "n = 1\n",
        "solution(num_list, n)"
      ],
      "metadata": {
        "colab": {
          "base_uri": "https://localhost:8080/"
        },
        "id": "vj63_r-hk2Iv",
        "outputId": "392d2496-a1ac-43c8-a678-68fda268fa11"
      },
      "execution_count": 4,
      "outputs": [
        {
          "output_type": "execute_result",
          "data": {
            "text/plain": [
              "[2]"
            ]
          },
          "metadata": {},
          "execution_count": 4
        }
      ]
    },
    {
      "cell_type": "code",
      "source": [
        "num_list = [5, 2, 1, 7, 5]\n",
        "n = 3\n",
        "solution(num_list, n)"
      ],
      "metadata": {
        "colab": {
          "base_uri": "https://localhost:8080/"
        },
        "id": "zln8Ysj5k66p",
        "outputId": "a904c8ce-db82-417b-b8ee-35dd23d11dcb"
      },
      "execution_count": 5,
      "outputs": [
        {
          "output_type": "execute_result",
          "data": {
            "text/plain": [
              "[5, 2, 1]"
            ]
          },
          "metadata": {},
          "execution_count": 5
        }
      ]
    },
    {
      "cell_type": "code",
      "source": [
        "# 다른 사람 풀이"
      ],
      "metadata": {
        "id": "mK1w7Of0k64s"
      },
      "execution_count": 6,
      "outputs": []
    },
    {
      "cell_type": "code",
      "source": [
        "def solution(num_list, n):\n",
        "    answer = []\n",
        "    for i in range(n):\n",
        "        answer.append(num_list[i])\n",
        "    return answer"
      ],
      "metadata": {
        "id": "PX5G3rd-lTCZ"
      },
      "execution_count": null,
      "outputs": []
    }
  ]
}