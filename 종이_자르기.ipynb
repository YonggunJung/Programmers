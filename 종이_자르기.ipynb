{
  "nbformat": 4,
  "nbformat_minor": 0,
  "metadata": {
    "colab": {
      "provenance": [],
      "authorship_tag": "ABX9TyMuH6Hmk086QmCZFKSva9eh",
      "include_colab_link": true
    },
    "kernelspec": {
      "name": "python3",
      "display_name": "Python 3"
    },
    "language_info": {
      "name": "python"
    }
  },
  "cells": [
    {
      "cell_type": "markdown",
      "metadata": {
        "id": "view-in-github",
        "colab_type": "text"
      },
      "source": [
        "<a href=\"https://colab.research.google.com/github/YonggunJung/Programmers/blob/main/%EC%A2%85%EC%9D%B4_%EC%9E%90%EB%A5%B4%EA%B8%B0.ipynb\" target=\"_parent\"><img src=\"https://colab.research.google.com/assets/colab-badge.svg\" alt=\"Open In Colab\"/></a>"
      ]
    },
    {
      "cell_type": "code",
      "execution_count": 2,
      "metadata": {
        "colab": {
          "base_uri": "https://localhost:8080/",
          "height": 435
        },
        "id": "bRn_sUFViFac",
        "outputId": "d44d2f0a-2f0d-43c6-e6fd-b5bc4149813c"
      },
      "outputs": [
        {
          "output_type": "display_data",
          "data": {
            "text/plain": [
              "<Figure size 640x480 with 1 Axes>"
            ],
            "image/png": "[encoded data removed]"
          },
          "metadata": {}
        }
      ],
      "source": [
        "# 문제 설명\n",
        "# 머쓱이는 큰 종이를 1 x 1 크기\b로 자르려고 합니다.\n",
        "# 예를 들어 2 x 2 크기의 종이를 1 x 1 크기로 자르려면 최소 가위질 세 번이 필요합니다.\n",
        "\n",
        "# 정수 M, N이 매개변수로 주어질 때,\n",
        "# M x N 크기의 종이를 최소로 가위질 해야하는 횟수를\n",
        "# return 하도록 solution 함수를 완성해보세요.\n",
        "\n",
        "# 제한사항\n",
        "# 0 < M, N < 100\n",
        "# 종이를 겹쳐서 자를 수 없습니다.\n",
        "\n",
        "# 입출력 예\n",
        "# M     \tN\t      result\n",
        "# 2\t      2\t        3\n",
        "# 2\t      5\t        9\n",
        "# 1\t      1\t        0\n",
        "\n",
        "# 입출력 예 설명\n",
        "# 입출력 예 #1\n",
        "# 본문과 동일합니다.\n",
        "\n",
        "# 입출력 예 #2\n",
        "# 가로 2 세로 5인 종이는 가로로 1번 세로로 8번 총 가위질 9번이 필요합니다.\n",
        "\n",
        "# 입출력 예 #3\n",
        "# 이미 1 * 1 크기이므로 0을 return 합니다.\n",
        "\n",
        "import matplotlib.pyplot as plt\n",
        "import cv2\n",
        "\n",
        "imgBGR = cv2.imread('/content/종이접기예.png')\n",
        "\n",
        "img = cv2.cvtColor(imgBGR, cv2.COLOR_BGR2RGB)\n",
        "plt.imshow(img)\n",
        "plt.show()"
      ]
    },
    {
      "cell_type": "code",
      "source": [
        "# 그냥 규칙이 눈에 보였음\n",
        "# 혹시나 해서 해봤는데 맞음 ㅋㅋㅋ\n",
        "def solution(M, N):\n",
        "    answer = M * N -1\n",
        "\n",
        "    return answer"
      ],
      "metadata": {
        "id": "eDy3wcYVkAn5"
      },
      "execution_count": 4,
      "outputs": []
    },
    {
      "cell_type": "code",
      "source": [
        "M = 2\n",
        "N = 2\n",
        "solution(M, N)"
      ],
      "metadata": {
        "colab": {
          "base_uri": "https://localhost:8080/"
        },
        "id": "sfGGrbjIktBS",
        "outputId": "a1de2d94-f53e-4fec-8ed0-7bc2f75f5023"
      },
      "execution_count": 5,
      "outputs": [
        {
          "output_type": "execute_result",
          "data": {
            "text/plain": [
              "3"
            ]
          },
          "metadata": {},
          "execution_count": 5
        }
      ]
    },
    {
      "cell_type": "code",
      "source": [
        "M = 2\n",
        "N = 5\n",
        "solution(M, N)"
      ],
      "metadata": {
        "colab": {
          "base_uri": "https://localhost:8080/"
        },
        "id": "oWbi2XUakw_U",
        "outputId": "f549a999-fcb7-49dd-a3e8-16242523bd4f"
      },
      "execution_count": 6,
      "outputs": [
        {
          "output_type": "execute_result",
          "data": {
            "text/plain": [
              "9"
            ]
          },
          "metadata": {},
          "execution_count": 6
        }
      ]
    },
    {
      "cell_type": "code",
      "source": [
        "M = 1\n",
        "N = 1\n",
        "solution(M, N)"
      ],
      "metadata": {
        "colab": {
          "base_uri": "https://localhost:8080/"
        },
        "id": "t3Tx9wFpkw8u",
        "outputId": "2126e863-6750-4676-de11-695a9adc0640"
      },
      "execution_count": 7,
      "outputs": [
        {
          "output_type": "execute_result",
          "data": {
            "text/plain": [
              "0"
            ]
          },
          "metadata": {},
          "execution_count": 7
        }
      ]
    },
    {
      "cell_type": "code",
      "source": [
        "# 다른 사람 풀이"
      ],
      "metadata": {
        "id": "zXREi9fXkw6I"
      },
      "execution_count": null,
      "outputs": []
    },
    {
      "cell_type": "code",
      "source": [
        "# 복잡하고 신기한 풀이 많음\n",
        "def solution(M, N):\n",
        "    answer = 0\n",
        "    if M == 1 and N == 1:\n",
        "        return 0\n",
        "    elif M == 1 or N == 1:\n",
        "        return M + N - 2\n",
        "    if M > N:\n",
        "        temp = M\n",
        "        M = N\n",
        "        N = temp\n",
        "    return M-1 + (M*(N-1))\n",
        "    return answer"
      ],
      "metadata": {
        "id": "cPfhta2EmPmm"
      },
      "execution_count": null,
      "outputs": []
    }
  ]
}