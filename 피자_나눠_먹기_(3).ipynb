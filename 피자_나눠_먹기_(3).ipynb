{
  "nbformat": 4,
  "nbformat_minor": 0,
  "metadata": {
    "colab": {
      "provenance": [],
      "authorship_tag": "ABX9TyOLGSVfvlJ6sqAoNx1rfvDi",
      "include_colab_link": true
    },
    "kernelspec": {
      "name": "python3",
      "display_name": "Python 3"
    },
    "language_info": {
      "name": "python"
    }
  },
  "cells": [
    {
      "cell_type": "markdown",
      "metadata": {
        "id": "view-in-github",
        "colab_type": "text"
      },
      "source": [
        "<a href=\"https://colab.research.google.com/github/YonggunJung/Programmers/blob/main/%ED%94%BC%EC%9E%90_%EB%82%98%EB%88%A0_%EB%A8%B9%EA%B8%B0_(3).ipynb\" target=\"_parent\"><img src=\"https://colab.research.google.com/assets/colab-badge.svg\" alt=\"Open In Colab\"/></a>"
      ]
    },
    {
      "cell_type": "code",
      "execution_count": 1,
      "metadata": {
        "id": "k9qtePrEexxV"
      },
      "outputs": [],
      "source": [
        "# 문제 설명\n",
        "# 머쓱이네 피자가게는 피자를 두 조각에서 열 조각까지 원하는 조각 수로 잘라줍니다.\n",
        "# 피자 조각 수 slice와 피자를 먹는 사람의 수 n이 매개변수로 주어질 때,\n",
        "# n명의 사람이 최소 한 조각 이상 피자를 먹으려면 최소 몇 판의 피자를 시켜야 하는지를\n",
        "# return 하도록 solution 함수를 완성해보세요.\n",
        "\n",
        "# 제한사항\n",
        "# 2 ≤ slice ≤ 10\n",
        "# 1 ≤ n ≤ 100\n",
        "\n",
        "# 입출력 예\n",
        "# slice     \tn\t          result\n",
        "# 7\t          10\t          2\n",
        "# 4\t          12\t          3\n",
        "\n",
        "# 입출력 예 설명\n",
        "# 입출력 예 #1\n",
        "# 10명이 7조각으로 자른 피자를 한 조각 이상씩 먹으려면 최소 2판을 시켜야 합니다.\n",
        "\n",
        "# 입출력 예 #2\n",
        "# 12명이 4조각으로 자른 피자를 한 조각 이상씩 먹으려면 최소 3판을 시켜야 합니다."
      ]
    },
    {
      "cell_type": "code",
      "source": [
        "# while 문 개념이 살짝 헷갈려서 시간 걸림\n",
        "def solution(slice, n):\n",
        "    # answer = answer * slice >= n\n",
        "    answer = 1\n",
        "    while answer * slice < n:\n",
        "      answer += 1\n",
        "    return answer"
      ],
      "metadata": {
        "id": "0HW4mpxzfA6b"
      },
      "execution_count": 20,
      "outputs": []
    },
    {
      "cell_type": "code",
      "source": [
        "slice = 7\n",
        "n = 10\n",
        "solution(slice, n)"
      ],
      "metadata": {
        "colab": {
          "base_uri": "https://localhost:8080/"
        },
        "id": "sPFIitsbfMLp",
        "outputId": "f2edc042-36ec-4cb9-c702-e4b2b7b325b3"
      },
      "execution_count": 21,
      "outputs": [
        {
          "output_type": "execute_result",
          "data": {
            "text/plain": [
              "2"
            ]
          },
          "metadata": {},
          "execution_count": 21
        }
      ]
    },
    {
      "cell_type": "code",
      "source": [
        "slice = 4\n",
        "n = 12\n",
        "solution(slice, n)"
      ],
      "metadata": {
        "colab": {
          "base_uri": "https://localhost:8080/"
        },
        "id": "zTZdXieFfVmy",
        "outputId": "13b1990d-59ff-425c-a7df-d1923896c0ee"
      },
      "execution_count": 22,
      "outputs": [
        {
          "output_type": "execute_result",
          "data": {
            "text/plain": [
              "3"
            ]
          },
          "metadata": {},
          "execution_count": 22
        }
      ]
    },
    {
      "cell_type": "code",
      "source": [
        "# 다른 사람 풀이"
      ],
      "metadata": {
        "id": "xEf9nyBFgxOZ"
      },
      "execution_count": 23,
      "outputs": []
    },
    {
      "cell_type": "code",
      "source": [
        "# 이런 수학적 풀이 좋아요\n",
        "def solution(slice, n):\n",
        "    return ((n - 1) // slice) + 1"
      ],
      "metadata": {
        "id": "SmrIS6j_hvg5"
      },
      "execution_count": 24,
      "outputs": []
    },
    {
      "cell_type": "code",
      "source": [
        "# 전혀 이해 할수 없는 신기한 코드\n",
        "def solution(slice, n):\n",
        "    d, m = divmod(n, slice)\n",
        "    return d + int(m != 0)"
      ],
      "metadata": {
        "id": "WLUvXEvCiOET"
      },
      "execution_count": 25,
      "outputs": []
    },
    {
      "cell_type": "code",
      "source": [
        "# 신기한 코드 많음, 수학공부 느낌\n",
        "def solution(slice, n):\n",
        "    return (n + slice - 1) // slice"
      ],
      "metadata": {
        "id": "KuZiWongiYGI"
      },
      "execution_count": null,
      "outputs": []
    }
  ]
}