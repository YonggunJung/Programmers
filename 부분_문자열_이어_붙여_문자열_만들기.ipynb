{
  "nbformat": 4,
  "nbformat_minor": 0,
  "metadata": {
    "colab": {
      "provenance": [],
      "authorship_tag": "ABX9TyPUPtw0BgL35HtTrE7Gwxan",
      "include_colab_link": true
    },
    "kernelspec": {
      "name": "python3",
      "display_name": "Python 3"
    },
    "language_info": {
      "name": "python"
    }
  },
  "cells": [
    {
      "cell_type": "markdown",
      "metadata": {
        "id": "view-in-github",
        "colab_type": "text"
      },
      "source": [
        "<a href=\"https://colab.research.google.com/github/YonggunJung/Programmers/blob/main/%EB%B6%80%EB%B6%84_%EB%AC%B8%EC%9E%90%EC%97%B4_%EC%9D%B4%EC%96%B4_%EB%B6%99%EC%97%AC_%EB%AC%B8%EC%9E%90%EC%97%B4_%EB%A7%8C%EB%93%A4%EA%B8%B0.ipynb\" target=\"_parent\"><img src=\"https://colab.research.google.com/assets/colab-badge.svg\" alt=\"Open In Colab\"/></a>"
      ]
    },
    {
      "cell_type": "code",
      "execution_count": 1,
      "metadata": {
        "id": "hZMkmmPuSqjb"
      },
      "outputs": [],
      "source": [
        "# 문제 설명\n",
        "# 길이가 같은 문자열 배열 my_strings와 이차원 정수 배열 parts가 매개변수로 주어집니다.\n",
        "# parts[i]는 [s, e] 형태로,\n",
        "# my_string[i]의 인덱스 s부터 인덱스 e까지의 부분 문자열을 의미합니다.\n",
        "# 각 my_strings의 원소의 parts에 해당하는 부분 문자열을 순서대로 이어 붙인 문자열을\n",
        "# return 하는 solution 함수를 작성해 주세요.\n",
        "\n",
        "# 제한사항\n",
        "# 1 ≤ my_strings의 길이 = parts의 길이 ≤ 100\n",
        "# 1 ≤ my_strings의 원소의 길이 ≤ 100\n",
        "# parts[i]를 [s, e]라 할 때, 다음을 만족합니다.\n",
        "# 0 ≤ s ≤ e < my_strings[i]의 길이\n",
        "\n",
        "# 입출력 예\n",
        "# my_strings\t                                           parts\n",
        "# [\"progressive\", \"hamburger\", \"hammer\", \"ahocorasick\"]\t[[0, 4], [1, 2], [3, 5], [7, 7]]\n",
        "\n",
        "# result\n",
        "# \"programmers\"\n",
        "\n",
        "# 입출력 예 설명\n",
        "# 입출력 예 #1\n",
        "# 예제 1번의 입력을 보기 좋게 표로 나타내면 다음과 같습니다.\n",
        "\n",
        "# i\tmy_strings[i]\tparts[i]\t부분 문자열\n",
        "# 0\t\"progressive\"\t[0, 4]\t\"progr\"\n",
        "# 1\t\"hamburger\"\t[1, 2]\t\"am\"\n",
        "# 2\t\"hammer\"\t[3, 5]\t\"mer\"\n",
        "# 3\t\"ahocorasick\"\t[7, 7]\t\"s\"\n",
        "# 각 부분 문자열을 순서대로 이어 붙인 문자열은 \"programmers\"입니다.\n",
        "# 따라서 \"programmers\"를 return 합니다."
      ]
    },
    {
      "cell_type": "code",
      "source": [
        "# enumerate() 를 쓰는 이유, 이거 못찾아서 조금 헤맴\n",
        "def solution(my_strings, parts):\n",
        "    answer = ''\n",
        "    for idx, query in enumerate(parts):\n",
        "      answer += my_strings[idx][query[0]: query[1]+1]\n",
        "    return answer"
      ],
      "metadata": {
        "id": "ZYT3nXsqS-Ou"
      },
      "execution_count": 17,
      "outputs": []
    },
    {
      "cell_type": "code",
      "source": [
        "my_strings = [\"progressive\", \"hamburger\", \"hammer\", \"ahocorasick\"]\n",
        "parts = [[0, 4], [1, 2], [3, 5], [7, 7]]\n",
        "solution(my_strings, parts)"
      ],
      "metadata": {
        "colab": {
          "base_uri": "https://localhost:8080/",
          "height": 35
        },
        "id": "TteEz1zmTAC6",
        "outputId": "a43943a1-f124-4236-cc62-39b5f9c755b2"
      },
      "execution_count": 18,
      "outputs": [
        {
          "output_type": "execute_result",
          "data": {
            "text/plain": [
              "'programmers'"
            ],
            "application/vnd.google.colaboratory.intrinsic+json": {
              "type": "string"
            }
          },
          "metadata": {},
          "execution_count": 18
        }
      ]
    },
    {
      "cell_type": "code",
      "source": [
        "# 이렇게 하니 훨씬 이해하기 쉬움\n",
        "def solution(my_strings, parts):\n",
        "    answer = \"\"\n",
        "    for i, (s, e) in enumerate(parts):\n",
        "        answer += my_strings[i][s:e+1]\n",
        "    return answer"
      ],
      "metadata": {
        "id": "ZVsc-ptTTHXV"
      },
      "execution_count": 19,
      "outputs": []
    },
    {
      "cell_type": "code",
      "source": [
        "# 방법은 여러가지\n",
        "def solution(my_strings, parts):\n",
        "    return ''.join([x[y[0]:y[1]+1] for x,y in zip(my_strings, parts)])"
      ],
      "metadata": {
        "id": "eTsDwjNTZYYS"
      },
      "execution_count": null,
      "outputs": []
    }
  ]
}