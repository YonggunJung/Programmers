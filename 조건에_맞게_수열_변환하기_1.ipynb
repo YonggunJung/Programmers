{
  "nbformat": 4,
  "nbformat_minor": 0,
  "metadata": {
    "colab": {
      "provenance": [],
      "authorship_tag": "ABX9TyNuo1rCth82zHeD+96/YjNw",
      "include_colab_link": true
    },
    "kernelspec": {
      "name": "python3",
      "display_name": "Python 3"
    },
    "language_info": {
      "name": "python"
    }
  },
  "cells": [
    {
      "cell_type": "markdown",
      "metadata": {
        "id": "view-in-github",
        "colab_type": "text"
      },
      "source": [
        "<a href=\"https://colab.research.google.com/github/YonggunJung/Programmers/blob/main/%EC%A1%B0%EA%B1%B4%EC%97%90_%EB%A7%9E%EA%B2%8C_%EC%88%98%EC%97%B4_%EB%B3%80%ED%99%98%ED%95%98%EA%B8%B0_1.ipynb\" target=\"_parent\"><img src=\"https://colab.research.google.com/assets/colab-badge.svg\" alt=\"Open In Colab\"/></a>"
      ]
    },
    {
      "cell_type": "code",
      "execution_count": 1,
      "metadata": {
        "id": "fSXw3Z35_alD"
      },
      "outputs": [],
      "source": [
        "# 문제 설명\n",
        "# 정수 배열 arr가 주어집니다.\n",
        "# rr의 각 원소에 대해 값이 50보다 크거나 같은 짝수라면 2로 나누고,\n",
        "# 50보다 작은 홀수라면 2를 곱합니다.\n",
        "# 그 결과인 정수 배열을 return 하는 solution 함수를 완성해 주세요.\n",
        "\n",
        "# 제한사항\n",
        "# 1 ≤ arr의 길이 ≤ 1,000,000\n",
        "# 1 ≤ arr의 원소의 값 ≤ 100\n",
        "\n",
        "# 입출력 예\n",
        "# arr\t                          result\n",
        "# [1, 2, 3, 100, 99, 98]\t      [2, 2, 6, 50, 99, 49]\n",
        "\n",
        "# 입출력 예 설명\n",
        "# 입출력 예 #1\n",
        "# 1, 3은 50 미만의 홀수 이므로 2를 곱하고, 100, 98은 50 이상의 짝수이므로 2로 나눕니다.\n",
        "# 나머지 값들은 변경 조건에 해당하지 않으므로 바꾸지 않습니다.\n",
        "# 따라서 [2, 2, 6, 50, 99, 49]를 return 합니다."
      ]
    },
    {
      "cell_type": "code",
      "source": [
        "def solution(arr):\n",
        "    answer = []\n",
        "    for i in arr:\n",
        "      if i < 50 and i % 2 == 1:\n",
        "        answer.append(i * 2)\n",
        "      elif i >= 50 and i % 2 == 0:\n",
        "        answer.append(i // 2)\n",
        "      else:\n",
        "        answer.append(i)\n",
        "\n",
        "    return answer"
      ],
      "metadata": {
        "id": "0GiTGoQm_pQK"
      },
      "execution_count": 3,
      "outputs": []
    },
    {
      "cell_type": "code",
      "source": [
        "arr = [1, 2, 3, 100, 99, 98]\n",
        "solution(arr)"
      ],
      "metadata": {
        "colab": {
          "base_uri": "https://localhost:8080/"
        },
        "id": "D9_DjGu5_qzB",
        "outputId": "e0541ca6-c9e5-4083-a39b-275798a3afc1"
      },
      "execution_count": 4,
      "outputs": [
        {
          "output_type": "execute_result",
          "data": {
            "text/plain": [
              "[2, 2, 6, 50, 99, 49]"
            ]
          },
          "metadata": {},
          "execution_count": 4
        }
      ]
    },
    {
      "cell_type": "code",
      "source": [
        "# 다른 사람 풀이"
      ],
      "metadata": {
        "id": "7hu9NA5CAtmL"
      },
      "execution_count": null,
      "outputs": []
    },
    {
      "cell_type": "code",
      "source": [
        "# ㅇ이렇게 하면 되는군\n",
        "# 한줄 코드 짜보려 노력중\n",
        "def solution(arr):\n",
        "    return [num/2 if num>=50 and num%2==0 else (num*2 if num<50 and num%2==1 else num) for num in arr]"
      ],
      "metadata": {
        "id": "4o9vPMsRA4Sr"
      },
      "execution_count": 5,
      "outputs": []
    },
    {
      "cell_type": "code",
      "source": [],
      "metadata": {
        "id": "S6jjzcrBA-P9"
      },
      "execution_count": null,
      "outputs": []
    }
  ]
}