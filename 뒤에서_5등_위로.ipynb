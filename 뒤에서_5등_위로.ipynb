{
  "nbformat": 4,
  "nbformat_minor": 0,
  "metadata": {
    "colab": {
      "provenance": [],
      "authorship_tag": "ABX9TyMQB2qdVD14pWQ/Au3Qycur",
      "include_colab_link": true
    },
    "kernelspec": {
      "name": "python3",
      "display_name": "Python 3"
    },
    "language_info": {
      "name": "python"
    }
  },
  "cells": [
    {
      "cell_type": "markdown",
      "metadata": {
        "id": "view-in-github",
        "colab_type": "text"
      },
      "source": [
        "<a href=\"https://colab.research.google.com/github/YonggunJung/Programmers/blob/main/%EB%92%A4%EC%97%90%EC%84%9C_5%EB%93%B1_%EC%9C%84%EB%A1%9C.ipynb\" target=\"_parent\"><img src=\"https://colab.research.google.com/assets/colab-badge.svg\" alt=\"Open In Colab\"/></a>"
      ]
    },
    {
      "cell_type": "code",
      "execution_count": 1,
      "metadata": {
        "id": "2zvi1YqWntEv"
      },
      "outputs": [],
      "source": [
        "# 문제 설명\n",
        "# 정수로 이루어진 리스트 num_list가 주어집니다.\n",
        "# num_list에서 가장 작은 5개의 수를 제외한 수들을 오름차순으로 담은 리스트를\n",
        "# return하도록 solution 함수를 완성해주세요.\n",
        "\n",
        "# 제한사항\n",
        "# 6 ≤ num_list의 길이 ≤ 30\n",
        "# 1 ≤ num_list의 원소 ≤ 100\n",
        "\n",
        "# 입출력 예\n",
        "# num_list\t                                      result\n",
        "# [12, 4, 15, 46, 38, 1, 14, 56, 32, 10]\t        [15, 32, 38, 46, 56]\n",
        "\n",
        "# 입출력 예 설명\n",
        "# 입출력 예 #1\n",
        "# [12, 4, 15, 46, 38, 1, 14, 56, 32, 10]를 정렬하면\n",
        "#  [1, 4, 10, 12, 14, 15, 32, 38, 46, 56]이 되고,\n",
        "#  앞에서 부터 6번째 이후의 수들을 고르면 [15, 32, 38, 46, 56]가 됩니다."
      ]
    },
    {
      "cell_type": "code",
      "source": [
        "def solution(num_list):\n",
        "    num_list.sort()\n",
        "    answer = num_list[5:]\n",
        "\n",
        "    return answer"
      ],
      "metadata": {
        "id": "Dt3rwGoln1Wc"
      },
      "execution_count": 6,
      "outputs": []
    },
    {
      "cell_type": "code",
      "source": [
        "num_list = [12, 4, 15, 46, 38, 1, 14, 56, 32, 10]\n",
        "solution(num_list)"
      ],
      "metadata": {
        "colab": {
          "base_uri": "https://localhost:8080/"
        },
        "id": "WtkIJqP4n3pq",
        "outputId": "e29d39ca-183b-4888-88c9-6289d422f75a"
      },
      "execution_count": 7,
      "outputs": [
        {
          "output_type": "execute_result",
          "data": {
            "text/plain": [
              "[15, 32, 38, 46, 56]"
            ]
          },
          "metadata": {},
          "execution_count": 7
        }
      ]
    },
    {
      "cell_type": "code",
      "source": [
        "# 다른 사람 풀이"
      ],
      "metadata": {
        "id": "E0cmYYLin7ud"
      },
      "execution_count": 8,
      "outputs": []
    },
    {
      "cell_type": "code",
      "source": [
        "def solution(num_list):\n",
        "    return sorted(num_list)[5:]"
      ],
      "metadata": {
        "id": "j0Y2Sejgofjs"
      },
      "execution_count": 9,
      "outputs": []
    },
    {
      "cell_type": "code",
      "source": [],
      "metadata": {
        "id": "vuuWlM7bokJq"
      },
      "execution_count": null,
      "outputs": []
    }
  ]
}