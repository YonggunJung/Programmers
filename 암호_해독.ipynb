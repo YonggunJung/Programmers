{
  "nbformat": 4,
  "nbformat_minor": 0,
  "metadata": {
    "colab": {
      "provenance": [],
      "authorship_tag": "ABX9TyMujzMxNcg0HbJRJ89OYRoC",
      "include_colab_link": true
    },
    "kernelspec": {
      "name": "python3",
      "display_name": "Python 3"
    },
    "language_info": {
      "name": "python"
    }
  },
  "cells": [
    {
      "cell_type": "markdown",
      "metadata": {
        "id": "view-in-github",
        "colab_type": "text"
      },
      "source": [
        "<a href=\"https://colab.research.google.com/github/YonggunJung/Programmers/blob/main/%EC%95%94%ED%98%B8_%ED%95%B4%EB%8F%85.ipynb\" target=\"_parent\"><img src=\"https://colab.research.google.com/assets/colab-badge.svg\" alt=\"Open In Colab\"/></a>"
      ]
    },
    {
      "cell_type": "code",
      "execution_count": 1,
      "metadata": {
        "id": "DB5gjqE21bVv"
      },
      "outputs": [],
      "source": [
        "# 문제 설명\n",
        "# 군 전략가 머쓱이는 전쟁 중 적군이 다음과 같은 암호 체계를 사용한다는 것을 알아냈습니다.\n",
        "\n",
        "# 암호화된 문자열 cipher를 주고받습니다.\n",
        "# 그 문자열에서 code의 배수 번째 글자만 진짜 암호입니다.\n",
        "# 문자열 cipher와 정수 code가 매개변수로 주어질 때\n",
        "# 해독된 암호 문자열을 return하도록 solution 함수를 완성해주세요.\n",
        "\n",
        "# 제한사항\n",
        "# 1 ≤ cipher의 길이 ≤ 1,000\n",
        "# 1 ≤ code ≤ cipher의 길이\n",
        "# cipher는 소문자와 공백으로만 구성되어 있습니다.\n",
        "# 공백도 하나의 문자로 취급합니다.\n",
        "\n",
        "# 입출력 예\n",
        "# cipher\t                          code\t            result\n",
        "# \"dfjardstddetckdaccccdegk\"\t        4\t              \"attack\"\n",
        "# \"pfqallllabwaoclk\"\t                2\t              \"fallback\"\n",
        "\n",
        "# 입출력 예 설명\n",
        "# 입출력 예 #1\n",
        "# \"dfjardstddetckdaccccdegk\" 의 4번째, 8번째, 12번째, 16번째, 20번째, 24번째 글자를 합친 \"attack\"을\n",
        "# return합니다.\n",
        "\n",
        "# 입출력 예 #2\n",
        "# \"pfqallllabwaoclk\" 의 2번째, 4번째, 6번째, 8번째, 10번째, 12번째, 14번째, 16번째 글자를 합친 \"fallback\"을\n",
        "# return합니다."
      ]
    },
    {
      "cell_type": "code",
      "source": [
        "# join()함수 처음 사용해봄, 이게 되네 ㅋㅋㅋㅋ\n",
        "def solution(cipher, code):\n",
        "    answer = ''.join(cipher[code-1: : code])\n",
        "    return answer"
      ],
      "metadata": {
        "id": "8N6yPdxA2Ii6"
      },
      "execution_count": 9,
      "outputs": []
    },
    {
      "cell_type": "code",
      "source": [
        "cipher = \"dfjardstddetckdaccccdegk\"\n",
        "code = 4\n",
        "solution(cipher, code)"
      ],
      "metadata": {
        "colab": {
          "base_uri": "https://localhost:8080/",
          "height": 35
        },
        "id": "YZOIod_R2KH5",
        "outputId": "ae9ce736-1d29-4fba-f30e-4eeb76bdb8ce"
      },
      "execution_count": 10,
      "outputs": [
        {
          "output_type": "execute_result",
          "data": {
            "text/plain": [
              "'attack'"
            ],
            "application/vnd.google.colaboratory.intrinsic+json": {
              "type": "string"
            }
          },
          "metadata": {},
          "execution_count": 10
        }
      ]
    },
    {
      "cell_type": "code",
      "source": [
        "cipher = \"pfqallllabwaoclk\"\n",
        "code = 2\n",
        "solution(cipher, code)"
      ],
      "metadata": {
        "colab": {
          "base_uri": "https://localhost:8080/",
          "height": 35
        },
        "id": "7ODTzR0Q2QPT",
        "outputId": "db02b4fb-8c48-42e8-cb20-295cda396a8f"
      },
      "execution_count": 11,
      "outputs": [
        {
          "output_type": "execute_result",
          "data": {
            "text/plain": [
              "'fallback'"
            ],
            "application/vnd.google.colaboratory.intrinsic+json": {
              "type": "string"
            }
          },
          "metadata": {},
          "execution_count": 11
        }
      ]
    },
    {
      "cell_type": "code",
      "source": [
        "# 다른사람 풀이"
      ],
      "metadata": {
        "id": "LLXRRU1A6l8w"
      },
      "execution_count": 12,
      "outputs": []
    },
    {
      "cell_type": "code",
      "source": [
        "# join()이 없어도 되네??\n",
        "def solution(cipher, code):\n",
        "    answer = cipher[code-1::code]\n",
        "    return answer"
      ],
      "metadata": {
        "id": "Bulkcbwt68Mh"
      },
      "execution_count": 13,
      "outputs": []
    },
    {
      "cell_type": "code",
      "source": [
        "# 원래 나라면 이렇게 했을듯\n",
        "def solution(cipher, code):\n",
        "    answer = ''\n",
        "\n",
        "    for i in range(code-1,len(cipher),code):\n",
        "        answer += cipher[i]"
      ],
      "metadata": {
        "id": "bYsgCuF97Jdu"
      },
      "execution_count": null,
      "outputs": []
    }
  ]
}