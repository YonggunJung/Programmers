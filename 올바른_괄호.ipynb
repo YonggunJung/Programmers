{
  "nbformat": 4,
  "nbformat_minor": 0,
  "metadata": {
    "colab": {
      "provenance": [],
      "authorship_tag": "ABX9TyNVwo9K3R3kBq7GTwo/3hZz",
      "include_colab_link": true
    },
    "kernelspec": {
      "name": "python3",
      "display_name": "Python 3"
    },
    "language_info": {
      "name": "python"
    }
  },
  "cells": [
    {
      "cell_type": "markdown",
      "metadata": {
        "id": "view-in-github",
        "colab_type": "text"
      },
      "source": [
        "<a href=\"https://colab.research.google.com/github/YonggunJung/Programmers/blob/main/%EC%98%AC%EB%B0%94%EB%A5%B8_%EA%B4%84%ED%98%B8.ipynb\" target=\"_parent\"><img src=\"https://colab.research.google.com/assets/colab-badge.svg\" alt=\"Open In Colab\"/></a>"
      ]
    },
    {
      "cell_type": "code",
      "execution_count": 1,
      "metadata": {
        "id": "sXtzcCkQyWq8"
      },
      "outputs": [],
      "source": [
        "# 문제 설명\n",
        "# 괄호가 바르게 짝지어졌다는 것은 '(' 문자로 열렸으면\n",
        "# 반드시 짝지어서 ')' 문자로 닫혀야 한다는 뜻입니다. 예를 들어\n",
        "\n",
        "# \"()()\" 또는 \"(())()\" 는 올바른 괄호입니다.\n",
        "# \")()(\" 또는 \"(()(\" 는 올바르지 않은 괄호입니다.\n",
        "# '(' 또는 ')' 로만 이루어진 문자열 s가 주어졌을 때,\n",
        "# 문자열 s가 올바른 괄호이면 true를 return 하고,\n",
        "# 올바르지 않은 괄호이면 false를 return 하는 solution 함수를 완성해 주세요.\n",
        "\n",
        "# 제한사항\n",
        "# 문자열 s의 길이 : 100,000 이하의 자연수\n",
        "# 문자열 s는 '(' 또는 ')' 로만 이루어져 있습니다.\n",
        "\n",
        "# 입출력 예\n",
        "# s\t          answer\n",
        "# \"()()\"\t    true\n",
        "# \"(())()\"\t  true\n",
        "# \")()(\"\t    false\n",
        "# \"(()(\"\t    false\n",
        "\n",
        "# 입출력 예 설명\n",
        "# 입출력 예 #1,2,3,4\n",
        "# 문제의 예시와 같습니다."
      ]
    },
    {
      "cell_type": "code",
      "source": [
        "def solution(s):\n",
        "    answer = True\n",
        "    c = [0, 0]\n",
        "    if s[0] == ')' or s[-1] == '(':\n",
        "      answer = False\n",
        "    else:\n",
        "      if s.count('(') != s.count(')'):\n",
        "        answer = False\n",
        "      else:\n",
        "        for i in range(len(s)):\n",
        "          if s[i] == '(':\n",
        "            c[0] += 1\n",
        "          else:\n",
        "            c[1] += 1\n",
        "          if c[1] > c[0]:\n",
        "            answer = False\n",
        "            break\n",
        "\n",
        "\n",
        "    # [실행] 버튼을 누르면 출력 값을 볼 수 있습니다.\n",
        "    print('Hello Python')\n",
        "\n",
        "    return True"
      ],
      "metadata": {
        "id": "Wr3_l0hjycuS"
      },
      "execution_count": null,
      "outputs": []
    }
  ]
}