{
  "nbformat": 4,
  "nbformat_minor": 0,
  "metadata": {
    "colab": {
      "provenance": [],
      "authorship_tag": "ABX9TyOXsisJKen//4xRVyh0Vo0a",
      "include_colab_link": true
    },
    "kernelspec": {
      "name": "python3",
      "display_name": "Python 3"
    },
    "language_info": {
      "name": "python"
    }
  },
  "cells": [
    {
      "cell_type": "markdown",
      "metadata": {
        "id": "view-in-github",
        "colab_type": "text"
      },
      "source": [
        "<a href=\"https://colab.research.google.com/github/YonggunJung/Programmers/blob/main/%EC%8B%9C%EC%A0%80_%EC%95%94%ED%98%B8.ipynb\" target=\"_parent\"><img src=\"https://colab.research.google.com/assets/colab-badge.svg\" alt=\"Open In Colab\"/></a>"
      ]
    },
    {
      "cell_type": "code",
      "execution_count": null,
      "metadata": {
        "id": "Sixx5XuwDg5w"
      },
      "outputs": [],
      "source": [
        "# 문제 설명\n",
        "# 어떤 문장의 각 알파벳을 일정한 거리만큼 밀어서\n",
        "# 다른 알파벳으로 바꾸는 암호화 방식을 시저 암호라고 합니다.\n",
        "# 예를 들어 \"AB\"는 1만큼 밀면 \"BC\"가 되고, 3만큼 밀면 \"DE\"가 됩니다.\n",
        "# \"z\"는 1만큼 밀면 \"a\"가 됩니다.\n",
        "# 문자열 s와 거리 n을 입력받아 s를 n만큼 민 암호문을 만드는 함수, solution을 완성해 보세요.\n",
        "\n",
        "# 제한 조건\n",
        "# 공백은 아무리 밀어도 공백입니다.\n",
        "# s는 알파벳 소문자, 대문자, 공백으로만 이루어져 있습니다.\n",
        "# s의 길이는 8000이하입니다.\n",
        "# n은 1 이상, 25이하인 자연수입니다.\n",
        "\n",
        "# 입출력 예\n",
        "# s\t        n\t        result\n",
        "# \"AB\"\t    1\t        \"BC\"\n",
        "# \"z\"\t      1\t        \"a\"\n",
        "# \"a B z\" \t4\t        \"e F d\""
      ]
    },
    {
      "cell_type": "code",
      "source": [
        "\n",
        "def solution(s, n):\n",
        "    answer = ''\n",
        "    for i in range(len(s)):\n",
        "      if s[i] == ' ':\n",
        "        answer += ' ';\n",
        "      elif s[i].isupper():\n",
        "        if ord(s[i]) + n > 90:\n",
        "          answer += chr(ord(s[i]) + n - 26)\n",
        "        else:\n",
        "          answer += chr(ord(s[i]) + n)\n",
        "\n",
        "      elif s[i].islower:\n",
        "        if ord(s[i]) + n > 122:\n",
        "          answer.append(chr(ord(s[i]) + n - 26))\n",
        "        else:\n",
        "          answer += chr(ord(s[i]) + n)\n",
        "\n",
        "    return answer"
      ],
      "metadata": {
        "id": "7ZwmbiZnDx5G"
      },
      "execution_count": 18,
      "outputs": []
    },
    {
      "cell_type": "code",
      "source": [
        "print((chr(65)),(ord('A')))\n",
        "print((chr(90)),(ord('Z')))\n",
        "print((chr(97)),(ord('a')))\n",
        "print((chr(122)),(ord('z')))"
      ],
      "metadata": {
        "colab": {
          "base_uri": "https://localhost:8080/"
        },
        "id": "xKp6Jct_D5Z1",
        "outputId": "9b849cab-a199-4635-fbe1-869f2dee07c1"
      },
      "execution_count": 17,
      "outputs": [
        {
          "output_type": "stream",
          "name": "stdout",
          "text": [
            "A 65\n",
            "Z 90\n",
            "a 97\n",
            "z 122\n"
          ]
        }
      ]
    },
    {
      "cell_type": "code",
      "source": [
        "solution(\"A\", 1)"
      ],
      "metadata": {
        "colab": {
          "base_uri": "https://localhost:8080/",
          "height": 35
        },
        "id": "yUo1zydsEBOc",
        "outputId": "dbdd8127-6ae5-4a83-a36c-4ac5b59fabca"
      },
      "execution_count": 19,
      "outputs": [
        {
          "output_type": "execute_result",
          "data": {
            "text/plain": [
              "'B'"
            ],
            "application/vnd.google.colaboratory.intrinsic+json": {
              "type": "string"
            }
          },
          "metadata": {},
          "execution_count": 19
        }
      ]
    },
    {
      "cell_type": "code",
      "source": [],
      "metadata": {
        "id": "8xQbUlK4JF9n"
      },
      "execution_count": null,
      "outputs": []
    }
  ]
}