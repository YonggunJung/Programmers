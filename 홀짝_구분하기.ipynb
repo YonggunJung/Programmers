{
  "nbformat": 4,
  "nbformat_minor": 0,
  "metadata": {
    "colab": {
      "provenance": [],
      "authorship_tag": "ABX9TyOb3pJpyL91S2GXPZ1yNkfK",
      "include_colab_link": true
    },
    "kernelspec": {
      "name": "python3",
      "display_name": "Python 3"
    },
    "language_info": {
      "name": "python"
    }
  },
  "cells": [
    {
      "cell_type": "markdown",
      "metadata": {
        "id": "view-in-github",
        "colab_type": "text"
      },
      "source": [
        "<a href=\"https://colab.research.google.com/github/YonggunJung/Programmers/blob/main/%ED%99%80%EC%A7%9D_%EA%B5%AC%EB%B6%84%ED%95%98%EA%B8%B0.ipynb\" target=\"_parent\"><img src=\"https://colab.research.google.com/assets/colab-badge.svg\" alt=\"Open In Colab\"/></a>"
      ]
    },
    {
      "cell_type": "code",
      "execution_count": 1,
      "metadata": {
        "id": "-tGGx1uJhg3r"
      },
      "outputs": [],
      "source": [
        "# 문제 설명\n",
        "# 자연수 n이 입력으로 주어졌을 때 만약 n이 짝수이면 \"n is even\"을,\n",
        "# 홀수이면 \"n is odd\"를 출력하는 코드를 작성해 보세요.\n",
        "\n",
        "# 제한사항\n",
        "# 1 ≤ n ≤ 1,000\n",
        "\n",
        "# 입출력 예\n",
        "# 입력 #1\n",
        "# 100\n",
        "\n",
        "# 출력 #1\n",
        "# 100 is even\n",
        "\n",
        "# 입력 #2\n",
        "# 1\n",
        "\n",
        "# 출력 #2\n",
        "# 1 is odd"
      ]
    },
    {
      "cell_type": "code",
      "source": [
        "# 문제\n",
        "# a = int(input())"
      ],
      "metadata": {
        "id": "ZvlkA_TFhnhF"
      },
      "execution_count": 2,
      "outputs": []
    },
    {
      "cell_type": "code",
      "source": [
        "a = int(input())\n",
        "if a % 2 == 0:\n",
        "  print(f'{a} is even')\n",
        "else:\n",
        "  print(f'{a} is odd')"
      ],
      "metadata": {
        "colab": {
          "base_uri": "https://localhost:8080/"
        },
        "id": "KE1nLY_QhpgD",
        "outputId": "44bab194-2153-46db-ad6e-4279fecaed98"
      },
      "execution_count": 3,
      "outputs": [
        {
          "output_type": "stream",
          "name": "stdout",
          "text": [
            "100\n",
            "100 is even\n"
          ]
        }
      ]
    },
    {
      "cell_type": "code",
      "source": [
        "a = int(input())\n",
        "if a % 2 == 0:\n",
        "  print(f'{a} is even')\n",
        "else:\n",
        "  print(f'{a} is odd')"
      ],
      "metadata": {
        "colab": {
          "base_uri": "https://localhost:8080/"
        },
        "id": "G4KTN2kkiLAE",
        "outputId": "b22abcd5-23db-4a90-8c7e-92ee6f00fb25"
      },
      "execution_count": 4,
      "outputs": [
        {
          "output_type": "stream",
          "name": "stdout",
          "text": [
            "1\n",
            "1 is odd\n"
          ]
        }
      ]
    },
    {
      "cell_type": "code",
      "source": [
        "# 다른사람 풀이"
      ],
      "metadata": {
        "id": "ecO0YnpCiNEE"
      },
      "execution_count": 5,
      "outputs": []
    },
    {
      "cell_type": "code",
      "source": [
        "# 신박한 코드\n",
        "n=int(input())\n",
        "print(f\"{n} is {'eovdedn'[n&1::2]}\")\n",
        "# n is 까진 똑같고 뒤에 even인지 odd인지 출력해야하는데\n",
        "# n&1했을 때 1이면 홀수고 0이면 짝수이니까\n",
        "# 만약 짝수라면 0번째자리인 e부터 시작해서 2칸씩 띄워서 even이 나오게 되는겁니다."
      ],
      "metadata": {
        "id": "1eHuNVgFicfG"
      },
      "execution_count": null,
      "outputs": []
    },
    {
      "cell_type": "code",
      "source": [
        "# 거의 비슷함\n",
        "N = int(input())\n",
        "print(f\"{N} is {'even' if N % 2 == 0 else 'odd'}\")"
      ],
      "metadata": {
        "id": "JNAWvTqfiu_L"
      },
      "execution_count": null,
      "outputs": []
    }
  ]
}