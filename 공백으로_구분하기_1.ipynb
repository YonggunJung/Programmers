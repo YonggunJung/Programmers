{
  "nbformat": 4,
  "nbformat_minor": 0,
  "metadata": {
    "colab": {
      "provenance": [],
      "authorship_tag": "ABX9TyObwTPWTApK/uYeUtb/RDdE",
      "include_colab_link": true
    },
    "kernelspec": {
      "name": "python3",
      "display_name": "Python 3"
    },
    "language_info": {
      "name": "python"
    }
  },
  "cells": [
    {
      "cell_type": "markdown",
      "metadata": {
        "id": "view-in-github",
        "colab_type": "text"
      },
      "source": [
        "<a href=\"https://colab.research.google.com/github/YonggunJung/Programmers/blob/main/%EA%B3%B5%EB%B0%B1%EC%9C%BC%EB%A1%9C_%EA%B5%AC%EB%B6%84%ED%95%98%EA%B8%B0_1.ipynb\" target=\"_parent\"><img src=\"https://colab.research.google.com/assets/colab-badge.svg\" alt=\"Open In Colab\"/></a>"
      ]
    },
    {
      "cell_type": "code",
      "execution_count": 1,
      "metadata": {
        "id": "dLC4GSuxaq4q"
      },
      "outputs": [],
      "source": [
        "# 문제 설명\n",
        "# 단어가 공백 한 개로 구분되어 있는 문자열 my_string이 매개변수로 주어질 때,\n",
        "# my_string에 나온 단어를 앞에서부터 순서대로 담은 문자열 배열을\n",
        "# return 하는 solution 함수를 작성해 주세요.\n",
        "\n",
        "# 제한사항\n",
        "# my_string은 영소문자와 공백으로만 이루어져 있습니다.\n",
        "# 1 ≤ my_string의 길이 ≤ 1,000\n",
        "# my_string의 맨 앞과 맨 뒤에 글자는 공백이 아닙니다.\n",
        "\n",
        "# 입출력 예\n",
        "# my_string\t            result\n",
        "# \"i love you\"\t        [\"i\", \"love\", \"you\"]\n",
        "# \"programmers\"\t        [\"programmers\"]\n",
        "\n",
        "# 입출력 예 설명\n",
        "# 입출력 예 #1\n",
        "# 예제 1번의 my_string은 \"i love you\"로 공백 한 칸으로 나누어진 단어들은\n",
        "# 앞에서부터 순서대로 \"i\", \"love\", \"you\" 이므로 [\"i\", \"love\", \"you\"]를 return 합니다.\n",
        "\n",
        "# 입출력 예 #2\n",
        "# 예제 2번의 my_string은 \"programmers\"로 단어가 하나만 있습니다.\n",
        "# 따라서 [\"programmers\"]를 return 합니다."
      ]
    },
    {
      "cell_type": "code",
      "source": [
        "def solution(my_string):\n",
        "    answer = my_string.split(' ')\n",
        "\n",
        "    return answer"
      ],
      "metadata": {
        "id": "7ayb9TVQa2wc"
      },
      "execution_count": 5,
      "outputs": []
    },
    {
      "cell_type": "code",
      "source": [
        "my_string = \"i love you\"\n",
        "solution(my_string)"
      ],
      "metadata": {
        "colab": {
          "base_uri": "https://localhost:8080/"
        },
        "id": "qUoigNg8a4rD",
        "outputId": "403fee97-ef23-4a34-aea3-40619a479b4f"
      },
      "execution_count": 6,
      "outputs": [
        {
          "output_type": "execute_result",
          "data": {
            "text/plain": [
              "['i', 'love', 'you']"
            ]
          },
          "metadata": {},
          "execution_count": 6
        }
      ]
    },
    {
      "cell_type": "code",
      "source": [
        "my_string = \"programmers\"\n",
        "solution(my_string)"
      ],
      "metadata": {
        "colab": {
          "base_uri": "https://localhost:8080/"
        },
        "id": "j6iBhKTya8kr",
        "outputId": "67caa57d-f290-4d79-c558-f9884243c6ea"
      },
      "execution_count": 7,
      "outputs": [
        {
          "output_type": "execute_result",
          "data": {
            "text/plain": [
              "['programmers']"
            ]
          },
          "metadata": {},
          "execution_count": 7
        }
      ]
    },
    {
      "cell_type": "code",
      "source": [
        "# 다른 사람 코드"
      ],
      "metadata": {
        "id": "E66z2O-ka9BY"
      },
      "execution_count": 8,
      "outputs": []
    },
    {
      "cell_type": "code",
      "source": [
        "def solution(my_string):\n",
        "    answer = []\n",
        "    return my_string.split()"
      ],
      "metadata": {
        "id": "aYhoDAyLbMUl"
      },
      "execution_count": null,
      "outputs": []
    }
  ]
}