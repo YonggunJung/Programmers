{
  "nbformat": 4,
  "nbformat_minor": 0,
  "metadata": {
    "colab": {
      "provenance": [],
      "authorship_tag": "ABX9TyPIzycZVQgVCR6FyCeROiRA",
      "include_colab_link": true
    },
    "kernelspec": {
      "name": "python3",
      "display_name": "Python 3"
    },
    "language_info": {
      "name": "python"
    }
  },
  "cells": [
    {
      "cell_type": "markdown",
      "metadata": {
        "id": "view-in-github",
        "colab_type": "text"
      },
      "source": [
        "<a href=\"https://colab.research.google.com/github/YonggunJung/Programmers/blob/main/%EA%B8%80%EC%9E%90_%EC%9D%B4%EC%96%B4_%EB%B6%99%EC%97%AC_%EB%AC%B8%EC%9E%90%EC%97%B4_%EB%A7%8C%EB%93%A4%EA%B8%B0.ipynb\" target=\"_parent\"><img src=\"https://colab.research.google.com/assets/colab-badge.svg\" alt=\"Open In Colab\"/></a>"
      ]
    },
    {
      "cell_type": "code",
      "execution_count": 1,
      "metadata": {
        "id": "cXru2SZZdAxu"
      },
      "outputs": [],
      "source": [
        "# 문제 설명\n",
        "# 문자열 my_string과 정수 배열 index_list가 매개변수로 주어집니다.\n",
        "# my_string의 index_list의 원소들에 해당하는 인덱스의 글자들을 순서대로\n",
        "# 이어 붙인 문자열을 return 하는 solution 함수를 작성해 주세요.\n",
        "\n",
        "# 제한사항\n",
        "# 1 ≤ my_string의 길이 ≤ 1,000\n",
        "# my_string의 원소는 영소문자로 이루어져 있습니다.\n",
        "# 1 ≤ index_list의 길이 ≤ 1,000\n",
        "# 0 ≤ index_list의 원소 < my_string의 길이\n",
        "\n",
        "# 입출력 예\n",
        "# my_string\t              index_list\t                                result\n",
        "# \"cvsgiorszzzmrpaqpe\"\t  [16, 6, 5, 3, 12, 14, 11, 11, 17, 12, 7]\t  \"programmers\"\n",
        "# \"zpiaz\"\t                [1, 2, 0, 0, 3]\t                            \"pizza\"\n",
        "\n",
        "# 입출력 예 설명\n",
        "# 입출력 예 #1\n",
        "# 예제 1번의 my_string에서 인덱스 3, 5, 6, 11, 12, 14, 16, 17에 해당하는\n",
        "# 글자는 각각 g, o, r, m, r, a, p, e이므로\n",
        "# my_string에서 index_list에 들어있는 원소에 해당하는\n",
        "# 인덱스의 글자들은 각각 순서대로 p, r, o, g, r, a, m, m, e, r, s입니다.\n",
        "# 따라서 \"programmers\"를 return 합니다.\n",
        "\n",
        "# 입출력 예 #2\n",
        "# 예제 2번의 my_string에서 인덱스 0, 1, 2, 3에 해당하는\n",
        "# 글자는 각각 z, p, i, a이므로\n",
        "# my_string에서 index_list에 들어있는 원소에 해당하는\n",
        "# 인덱스의 글자들은 각각 순서대로 p, i, z, z, a입니다.\n",
        "# 따라서 \"pizza\"를 return 합니다."
      ]
    },
    {
      "cell_type": "code",
      "source": [
        "def solution(my_string, index_list):\n",
        "    answer = ''\n",
        "    for i in index_list:\n",
        "      answer += my_string[i]\n",
        "    return answer"
      ],
      "metadata": {
        "id": "J9_1sqrrdeM0"
      },
      "execution_count": 3,
      "outputs": []
    },
    {
      "cell_type": "code",
      "source": [
        "my_string = \"cvsgiorszzzmrpaqpe\"\n",
        "index_list = [16, 6, 5, 3, 12, 14, 11, 11, 17, 12, 7]\n",
        "solution(my_string, index_list)"
      ],
      "metadata": {
        "colab": {
          "base_uri": "https://localhost:8080/",
          "height": 35
        },
        "id": "B3gg4NMLdgrS",
        "outputId": "6e77a993-39b5-48d6-838f-631681f0adf5"
      },
      "execution_count": 4,
      "outputs": [
        {
          "output_type": "execute_result",
          "data": {
            "text/plain": [
              "'programmers'"
            ],
            "application/vnd.google.colaboratory.intrinsic+json": {
              "type": "string"
            }
          },
          "metadata": {},
          "execution_count": 4
        }
      ]
    },
    {
      "cell_type": "code",
      "source": [
        "my_string = \"zpiaz\"\n",
        "index_list = [1, 2, 0, 0, 3]\n",
        "solution(my_string, index_list)"
      ],
      "metadata": {
        "colab": {
          "base_uri": "https://localhost:8080/",
          "height": 35
        },
        "id": "6RtQCMVjdl7O",
        "outputId": "1ab05219-44c1-4a6d-d4f6-902349aeadd1"
      },
      "execution_count": 5,
      "outputs": [
        {
          "output_type": "execute_result",
          "data": {
            "text/plain": [
              "'pizza'"
            ],
            "application/vnd.google.colaboratory.intrinsic+json": {
              "type": "string"
            }
          },
          "metadata": {},
          "execution_count": 5
        }
      ]
    },
    {
      "cell_type": "code",
      "source": [
        "# 다른 사람 풀이"
      ],
      "metadata": {
        "id": "bLuzv9fbdl5I"
      },
      "execution_count": 6,
      "outputs": []
    },
    {
      "cell_type": "code",
      "source": [
        "def solution(my_string, index_list):\n",
        "    return ''.join([my_string[idx] for idx in index_list])"
      ],
      "metadata": {
        "id": "ryPcpxy7eu38"
      },
      "execution_count": 7,
      "outputs": []
    },
    {
      "cell_type": "code",
      "source": [
        "def solution(my_string, index_list):\n",
        "    return ''.join(map(lambda x: my_string[x], index_list))"
      ],
      "metadata": {
        "id": "Ue2krHNBeyTj"
      },
      "execution_count": 8,
      "outputs": []
    }
  ]
}