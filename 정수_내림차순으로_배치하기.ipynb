{
  "nbformat": 4,
  "nbformat_minor": 0,
  "metadata": {
    "colab": {
      "provenance": [],
      "authorship_tag": "ABX9TyObyn1V243miil/U5WFvFSa",
      "include_colab_link": true
    },
    "kernelspec": {
      "name": "python3",
      "display_name": "Python 3"
    },
    "language_info": {
      "name": "python"
    }
  },
  "cells": [
    {
      "cell_type": "markdown",
      "metadata": {
        "id": "view-in-github",
        "colab_type": "text"
      },
      "source": [
        "<a href=\"https://colab.research.google.com/github/YonggunJung/Programmers/blob/main/%EC%A0%95%EC%88%98_%EB%82%B4%EB%A6%BC%EC%B0%A8%EC%88%9C%EC%9C%BC%EB%A1%9C_%EB%B0%B0%EC%B9%98%ED%95%98%EA%B8%B0.ipynb\" target=\"_parent\"><img src=\"https://colab.research.google.com/assets/colab-badge.svg\" alt=\"Open In Colab\"/></a>"
      ]
    },
    {
      "cell_type": "code",
      "execution_count": 1,
      "metadata": {
        "id": "_ACZGcu--jQM"
      },
      "outputs": [],
      "source": [
        "# 문제 설명\n",
        "# 함수 solution은 정수 n을 매개변수로 입력받습니다.\n",
        "# n의 각 자릿수를 큰것부터 작은 순으로 정렬한 새로운 정수를 리턴해주세요.\n",
        "# 예를들어 n이 118372면 873211을 리턴하면 됩니다.\n",
        "\n",
        "# 제한 조건\n",
        "# n은 1이상 8000000000 이하인 자연수입니다.\n",
        "\n",
        "# 입출력 예\n",
        "# n\t        return\n",
        "# 118372\t  873211"
      ]
    },
    {
      "cell_type": "code",
      "source": [
        "def solution(n):\n",
        "    l = list(str(n))\n",
        "    l.sort(reverse= True)\n",
        "    answer = int(''.join(l))\n",
        "\n",
        "    return answer"
      ],
      "metadata": {
        "id": "eE6u7TM2-n67"
      },
      "execution_count": 2,
      "outputs": []
    },
    {
      "cell_type": "code",
      "source": [],
      "metadata": {
        "id": "F3_ZQxwzAg1N"
      },
      "execution_count": null,
      "outputs": []
    }
  ]
}