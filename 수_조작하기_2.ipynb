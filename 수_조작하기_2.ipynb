{
  "nbformat": 4,
  "nbformat_minor": 0,
  "metadata": {
    "colab": {
      "provenance": [],
      "authorship_tag": "ABX9TyPoUhjQHUJm7YhgbM70Pk+M",
      "include_colab_link": true
    },
    "kernelspec": {
      "name": "python3",
      "display_name": "Python 3"
    },
    "language_info": {
      "name": "python"
    }
  },
  "cells": [
    {
      "cell_type": "markdown",
      "metadata": {
        "id": "view-in-github",
        "colab_type": "text"
      },
      "source": [
        "<a href=\"https://colab.research.google.com/github/YonggunJung/Programmers/blob/main/%EC%88%98_%EC%A1%B0%EC%9E%91%ED%95%98%EA%B8%B0_2.ipynb\" target=\"_parent\"><img src=\"https://colab.research.google.com/assets/colab-badge.svg\" alt=\"Open In Colab\"/></a>"
      ]
    },
    {
      "cell_type": "code",
      "execution_count": 1,
      "metadata": {
        "id": "hxNWTp8l2mPu"
      },
      "outputs": [],
      "source": [
        "# 문제 설명\n",
        "# 정수 배열 numLog가 주어집니다.\n",
        "# 처음에 numLog[0]에서 부터 시작해 \"w\", \"a\", \"s\", \"d\"로 이루어진\n",
        "# 문자열을 입력으로 받아 순서대로 다음과 같은 조작을 했다고 합시다.\n",
        "\n",
        "# \"w\" : 수에 1을 더한다.\n",
        "# \"s\" : 수에 1을 뺀다.\n",
        "# \"d\" : 수에 10을 더한다.\n",
        "# \"a\" : 수에 10을 뺀다.\n",
        "# 그리고 매번 조작을 할 때마다 결괏값을 기록한 정수 배열이 numLog입니다.\n",
        "# 즉, numLog[i]는 numLog[0]로부터 총 i번의 조작을 가한 결과가 저장되어 있습니다.\n",
        "\n",
        "# 주어진 정수 배열 numLog에 대해 조작을 위해 입력받은 문자열을\n",
        "# return 하는 solution 함수를 완성해 주세요.\n",
        "\n",
        "# 제한사항\n",
        "# 2 ≤ numLog의 길이 ≤ 100,000\n",
        "# -100,000 ≤ numLog[0] ≤ 100,000\n",
        "# 1 ≤ i ≤ numLog의 길이인 모든 i에 대해\n",
        "# |numLog[i] - numLog[i - 1]|의 값은 1 또는 10입니다.\n",
        "\n",
        "# 입출력 예\n",
        "# numLog\t                                            result\n",
        "# [0, 1, 0, 10, 0, 1, 0, 10, 0, -1, -2, -1]\t          \"wsdawsdassw\"\n",
        "\n",
        "# 입출력 예 설명\n",
        "# 입출력 예 #1\n",
        "# result인 \"wsdawsdassw\"를 따라 numLog[0]에서부터 시작해\n",
        "# 조작을 하면 numLog의 값과 순서대로 일치합니다. 따라서 \"wsdawsdassw\"를 return 합니다.\n",
        "\n",
        "# Hint\n",
        "# \"수 조작하기 1\" 문제의 n값이 numLog[0]에 해당하며,\n",
        "# 이 문제에서 주어진 numLog에 따라\n",
        "# \"수 조작하기 1\" 문제의 control을 구하는 문제라고 이해할 수 있습니다.\n",
        "# 입출력 예 #1은 \"수 조작하기 1\"\n",
        "# 문제의 입출력 예 #1과 같은 예시이므로 참고하시기 바랍니다."
      ]
    },
    {
      "cell_type": "code",
      "source": [
        "def solution(numLog):\n",
        "    answer = ''\n",
        "    for i in range(len(numLog)-1):\n",
        "      if numLog[i+1] - numLog[i] == 1:\n",
        "        answer += \"w\"\n",
        "      elif numLog[i+1] - numLog[i] == -1:\n",
        "        answer += \"s\"\n",
        "      elif numLog[i+1] - numLog[i] == 10:\n",
        "        answer += \"d\"\n",
        "      elif numLog[i+1] - numLog[i] == -10:\n",
        "        answer += \"a\"\n",
        "    return answer"
      ],
      "metadata": {
        "id": "dV3_nVl53F2H"
      },
      "execution_count": 13,
      "outputs": []
    },
    {
      "cell_type": "code",
      "source": [
        "numLog = [0, 1, 0, 10, 0, 1, 0, 10, 0, -1, -2, -1]\n",
        "solution(numLog)"
      ],
      "metadata": {
        "colab": {
          "base_uri": "https://localhost:8080/",
          "height": 35
        },
        "id": "zhXtCdJ-3IZ-",
        "outputId": "9784b1d7-fe0a-4e6d-fef7-014881547c66"
      },
      "execution_count": 14,
      "outputs": [
        {
          "output_type": "execute_result",
          "data": {
            "text/plain": [
              "'wsdawsdassw'"
            ],
            "application/vnd.google.colaboratory.intrinsic+json": {
              "type": "string"
            }
          },
          "metadata": {},
          "execution_count": 14
        }
      ]
    },
    {
      "cell_type": "code",
      "source": [
        "# 다른 사람 풀이"
      ],
      "metadata": {
        "id": "A4AdwU063-UG"
      },
      "execution_count": 15,
      "outputs": []
    },
    {
      "cell_type": "code",
      "source": [
        "def solution(log):\n",
        "    res=''\n",
        "    joystick=dict(zip([1,-1,10,-10],['w','s','d','a']))\n",
        "    for i in range(1,len(log)):\n",
        "        res+=joystick[log[i]-log[i-1]]\n",
        "    return res"
      ],
      "metadata": {
        "id": "CGpE72xK5Dgw"
      },
      "execution_count": 16,
      "outputs": []
    },
    {
      "cell_type": "code",
      "source": [],
      "metadata": {
        "id": "1mXxrSau5EBW"
      },
      "execution_count": null,
      "outputs": []
    }
  ]
}