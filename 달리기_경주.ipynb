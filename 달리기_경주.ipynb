{
  "nbformat": 4,
  "nbformat_minor": 0,
  "metadata": {
    "colab": {
      "provenance": [],
      "authorship_tag": "ABX9TyPUtfVe+cmJ47b4ycwVA6qu",
      "include_colab_link": true
    },
    "kernelspec": {
      "name": "python3",
      "display_name": "Python 3"
    },
    "language_info": {
      "name": "python"
    }
  },
  "cells": [
    {
      "cell_type": "markdown",
      "metadata": {
        "id": "view-in-github",
        "colab_type": "text"
      },
      "source": [
        "<a href=\"https://colab.research.google.com/github/YonggunJung/Programmers/blob/main/%EB%8B%AC%EB%A6%AC%EA%B8%B0_%EA%B2%BD%EC%A3%BC.ipynb\" target=\"_parent\"><img src=\"https://colab.research.google.com/assets/colab-badge.svg\" alt=\"Open In Colab\"/></a>"
      ]
    },
    {
      "cell_type": "code",
      "execution_count": 1,
      "metadata": {
        "id": "a74BR-GBykDu"
      },
      "outputs": [],
      "source": [
        "# 문제 설명\n",
        "# 얀에서는 매년 달리기 경주가 열립니다.\n",
        "# 해설진들은 선수들이 자기 바로 앞의 선수를 추월할 때 추월한 선수의 이름을 부릅니다.\n",
        "# 예를 들어 1등부터 3등까지 \"mumu\", \"soe\", \"poe\" 선수들이 순서대로 달리고 있을 때,\n",
        "# 해설진이 \"soe\"선수를 불렀다면 2등인 \"soe\" 선수가 1등인 \"mumu\" 선수를 추월했다는 것입니다.\n",
        "# 즉 \"soe\" 선수가 1등, \"mumu\" 선수가 2등으로 바뀝니다.\n",
        "\n",
        "# 선수들의 이름이 1등부터 현재 등수 순서대로 담긴 문자열 배열 players와\n",
        "# 해설진이 부른 이름을 담은 문자열 배열 callings가 매개변수로 주어질 때,\n",
        "# 경주가 끝났을 때 선수들의 이름을 1등부터 등수 순서대로 배열에 담아\n",
        "# return 하는 solution 함수를 완성해주세요.\n",
        "\n",
        "# 제한사항\n",
        "# 5 ≤ players의 길이 ≤ 50,000\n",
        "# players[i]는 i번째 선수의 이름을 의미합니다.\n",
        "# players의 원소들은 알파벳 소문자로만 이루어져 있습니다.\n",
        "# players에는 중복된 값이 들어가 있지 않습니다.\n",
        "# 3 ≤ players[i]의 길이 ≤ 10\n",
        "# 2 ≤ callings의 길이 ≤ 1,000,000\n",
        "# callings는 players의 원소들로만 이루어져 있습니다.\n",
        "# 경주 진행중 1등인 선수의 이름은 불리지 않습니다.\n",
        "\n",
        "# 입출력 예\n",
        "# players\t                                callings\t                        result\n",
        "# [\"mumu\", \"soe\", \"poe\", \"kai\", \"mine\"]\t  [\"kai\", \"kai\", \"mine\", \"mine\"]\t  [\"mumu\", \"kai\", \"mine\", \"soe\", \"poe\"]\n",
        "\n",
        "# 입출력 예 설명\n",
        "# 입출력 예 #1\n",
        "# 4등인 \"kai\" 선수가 2번 추월하여 2등이 되고 앞서 3등, 2등인 \"poe\", \"soe\" 선수는 4등, 3등이 됩니다.\n",
        "# 5등인 \"mine\" 선수가 2번 추월하여 4등, 3등인 \"poe\", \"soe\" 선수가 5등, 4등이 되고 경주가 끝납니다.\n",
        "# 1등부터 배열에 담으면 [\"mumu\", \"kai\", \"mine\", \"soe\", \"poe\"]이 됩니다.\n"
      ]
    },
    {
      "cell_type": "code",
      "source": [
        "def solution(players, callings):\n",
        "    answer = []\n",
        "    dic = {}\n",
        "    for idx, name in enumerate(players):\n",
        "      dic[name] = idx\n",
        "    for call in callings:\n",
        "      rank = dic[call]\n",
        "      p = players[rank-1]\n",
        "\n",
        "      players[rank-1] = call\n",
        "      players[rank] = p\n",
        "\n",
        "      dic[call] -= 1\n",
        "      dic[p] += 1\n",
        "    answer = players\n",
        "    return answer"
      ],
      "metadata": {
        "id": "PM_iSqsh0P3S"
      },
      "execution_count": null,
      "outputs": []
    },
    {
      "cell_type": "code",
      "source": [
        "# 이건 시간 초과 파이썬도 똑같군\n",
        "def solution(players, callings):\n",
        "    answer = []\n",
        "    for idx, call in enumerate(callings):\n",
        "      i = players.index(call)\n",
        "      players[i-1], players[i] = players[i], players[i-1]\n",
        "    answer = players\n",
        "    return answer"
      ],
      "metadata": {
        "id": "X6Vx411Qy1Jc"
      },
      "execution_count": null,
      "outputs": []
    }
  ]
}