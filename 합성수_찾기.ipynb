{
  "nbformat": 4,
  "nbformat_minor": 0,
  "metadata": {
    "colab": {
      "provenance": [],
      "authorship_tag": "ABX9TyM9MXRa6AhO4FituPhHvJQi",
      "include_colab_link": true
    },
    "kernelspec": {
      "name": "python3",
      "display_name": "Python 3"
    },
    "language_info": {
      "name": "python"
    }
  },
  "cells": [
    {
      "cell_type": "markdown",
      "metadata": {
        "id": "view-in-github",
        "colab_type": "text"
      },
      "source": [
        "<a href=\"https://colab.research.google.com/github/YonggunJung/Programmers/blob/main/%ED%95%A9%EC%84%B1%EC%88%98_%EC%B0%BE%EA%B8%B0.ipynb\" target=\"_parent\"><img src=\"https://colab.research.google.com/assets/colab-badge.svg\" alt=\"Open In Colab\"/></a>"
      ]
    },
    {
      "cell_type": "code",
      "execution_count": null,
      "metadata": {
        "id": "1KJnRk1NHIlr"
      },
      "outputs": [],
      "source": [
        "# 문제 설명\n",
        "# 약수의 개수가 세 개 이상인 수를 합성수라고 합니다.\n",
        "# 자연수 n이 매개변수로 주어질 때 n이하의 합성수의 개수를 return하도록\n",
        "# solution 함수를 완성해주세요.\n",
        "\n",
        "# 제한사항\n",
        "# 1 ≤ n ≤ 100\n",
        "\n",
        "# 입출력 예\n",
        "# n\t      result\n",
        "# 10\t      5\n",
        "# 15\t      8\n",
        "\n",
        "# 입출력 예 설명\n",
        "# 입출력 예 #1\n",
        "# 10 이하 합성수는 4, 6, 8, 9, 10 로 5개입니다. 따라서 5를 return합니다.\n",
        "\n",
        "# 입출력 예 #1\n",
        "# 15 이하 합성수는 4, 6, 8, 9, 10, 12, 14, 15 로 8개입니다. 따라서 8을 return합니다."
      ]
    },
    {
      "cell_type": "code",
      "source": [
        "# 뭔가 어렵게 가려 하는걸 break로 쉬워졌음\n",
        "# 풀이봄 거의 비슷하게 오는게 마무리가 안됨\n",
        "def solution(n):\n",
        "    answer = 0\n",
        "    for i in range(2, n+1):\n",
        "      for j in range(2, i):\n",
        "        if i % j == 0:\n",
        "          answer += 1\n",
        "          break\n",
        "\n",
        "\n",
        "    return answer"
      ],
      "metadata": {
        "id": "ex89Nd_iHRSa"
      },
      "execution_count": 27,
      "outputs": []
    },
    {
      "cell_type": "code",
      "source": [
        "n = 10\n",
        "solution(n)"
      ],
      "metadata": {
        "colab": {
          "base_uri": "https://localhost:8080/"
        },
        "id": "Byh2MViEHSov",
        "outputId": "4d90486a-fa05-4a1a-bbc5-9f00e692e26d"
      },
      "execution_count": 28,
      "outputs": [
        {
          "output_type": "execute_result",
          "data": {
            "text/plain": [
              "5"
            ]
          },
          "metadata": {},
          "execution_count": 28
        }
      ]
    },
    {
      "cell_type": "code",
      "source": [
        "n = 15\n",
        "solution(n)"
      ],
      "metadata": {
        "colab": {
          "base_uri": "https://localhost:8080/"
        },
        "id": "0NUovafOHSml",
        "outputId": "79c56044-6159-4e2c-ec2d-86e0674ea90f"
      },
      "execution_count": 29,
      "outputs": [
        {
          "output_type": "execute_result",
          "data": {
            "text/plain": [
              "8"
            ]
          },
          "metadata": {},
          "execution_count": 29
        }
      ]
    },
    {
      "cell_type": "code",
      "source": [
        "# 다른사람 풀이"
      ],
      "metadata": {
        "id": "CLrwcPRwHSkg"
      },
      "execution_count": 30,
      "outputs": []
    },
    {
      "cell_type": "code",
      "source": [
        "# 제곱근 활용\n",
        "def solution(n):\n",
        "    output = 0\n",
        "    for i in range(4, n + 1):\n",
        "        for j in range(2, int(i ** 0.5) + 1):\n",
        "            if i % j == 0:\n",
        "                output += 1\n",
        "                break\n",
        "    return output"
      ],
      "metadata": {
        "id": "FFUlrnfZK_GH"
      },
      "execution_count": 31,
      "outputs": []
    },
    {
      "cell_type": "code",
      "source": [
        "# 신기하구만 이렇게도 구성이 가능하네\n",
        "def get_divisors(n):\n",
        "    return list(filter(lambda v: n % v ==0, range(1, n+1)))\n",
        "\n",
        "def solution(n):\n",
        "    return len(list(filter(lambda v: len(get_divisors(v)) >= 3, range(1, n+1))))"
      ],
      "metadata": {
        "id": "ntO7n-3HLKQb"
      },
      "execution_count": 32,
      "outputs": []
    },
    {
      "cell_type": "code",
      "source": [
        "# 이건 좀 멍해지네\n",
        "def solution(n):\n",
        "    return len([i for i in range(2, n + 1) if not all(i % j for j in range(2, i))])"
      ],
      "metadata": {
        "id": "TR3X9jd0LRl6"
      },
      "execution_count": null,
      "outputs": []
    }
  ]
}