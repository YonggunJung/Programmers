{
  "nbformat": 4,
  "nbformat_minor": 0,
  "metadata": {
    "colab": {
      "provenance": [],
      "authorship_tag": "ABX9TyPzPMjcrxad42p4DRFkxHU6",
      "include_colab_link": true
    },
    "kernelspec": {
      "name": "python3",
      "display_name": "Python 3"
    },
    "language_info": {
      "name": "python"
    }
  },
  "cells": [
    {
      "cell_type": "markdown",
      "metadata": {
        "id": "view-in-github",
        "colab_type": "text"
      },
      "source": [
        "<a href=\"https://colab.research.google.com/github/YonggunJung/Programmers/blob/main/%EB%B0%B0%EC%97%B4_%EC%9B%90%EC%86%8C%EC%9D%98_%EA%B8%B8%EC%9D%B4.ipynb\" target=\"_parent\"><img src=\"https://colab.research.google.com/assets/colab-badge.svg\" alt=\"Open In Colab\"/></a>"
      ]
    },
    {
      "cell_type": "code",
      "execution_count": 1,
      "metadata": {
        "id": "CSv95dPGTIiM"
      },
      "outputs": [],
      "source": [
        "# 문제 설명\n",
        "# 문자열 배열 strlist가 매개변수로 주어집니다.\n",
        "# strlist 각 원소의 길이를 담은 배열을 retrun하도록 solution 함수를 완성해주세요.\n",
        "\n",
        "# 제한사항\n",
        "# 1 ≤ strlist 원소의 길이 ≤ 100\n",
        "# strlist는 알파벳 소문자, 대문자, 특수문자로 구성되어 있습니다.\n",
        "\n",
        "# 입출력 예\n",
        "# strlist\t                              result\n",
        "# [\"We\", \"are\", \"the\", \"world!\"]\t      [2, 3, 3, 6]\n",
        "# [\"I\", \"Love\", \"Programmers.\"]\t        [1, 4, 12]\n",
        "\n",
        "# 입출력 예 설명\n",
        "# 입출력 예 #1\n",
        "# [\"We\", \"are\", \"the\", \"world!\"]의 각 원소의 길이인 [2, 3, 3, 6]을 return합니다.\n",
        "\n",
        "# 입출력 예 #2\n",
        "# [\"I\", \"Love\", \"Programmers.\"]의 각 원소의 길이인 [1, 4, 12]을 return합니다."
      ]
    },
    {
      "cell_type": "code",
      "source": [
        "def solution(strlist):\n",
        "    answer = []\n",
        "    for i in range(len(strlist)):\n",
        "      answer.append(len(strlist[i]))\n",
        "    return answer"
      ],
      "metadata": {
        "id": "3ukxQwF7TVzo"
      },
      "execution_count": 7,
      "outputs": []
    },
    {
      "cell_type": "code",
      "source": [
        "strlist = [\"We\", \"are\", \"the\", \"world!\"]\n",
        "solution(strlist)"
      ],
      "metadata": {
        "colab": {
          "base_uri": "https://localhost:8080/"
        },
        "id": "6c6cQmYaTcOf",
        "outputId": "b0ea1e7e-338e-44f7-d4a4-ad0d21b57bb5"
      },
      "execution_count": 8,
      "outputs": [
        {
          "output_type": "execute_result",
          "data": {
            "text/plain": [
              "[2, 3, 3, 6]"
            ]
          },
          "metadata": {},
          "execution_count": 8
        }
      ]
    },
    {
      "cell_type": "code",
      "source": [
        "strlist = [\"I\", \"Love\", \"Programmers.\"]\n",
        "solution(strlist)\n",
        "\n",
        "# 한번에 안풀림"
      ],
      "metadata": {
        "colab": {
          "base_uri": "https://localhost:8080/"
        },
        "id": "ODlh1HpNTkIV",
        "outputId": "c3fa53e2-9523-4bf9-814a-a2c70c1a1c21"
      },
      "execution_count": 9,
      "outputs": [
        {
          "output_type": "execute_result",
          "data": {
            "text/plain": [
              "[1, 4, 12]"
            ]
          },
          "metadata": {},
          "execution_count": 9
        }
      ]
    },
    {
      "cell_type": "code",
      "source": [
        "# 다른 사람들 풀이"
      ],
      "metadata": {
        "id": "vDBt3asOVHuw"
      },
      "execution_count": 10,
      "outputs": []
    },
    {
      "cell_type": "code",
      "source": [
        "# 깔끔하고 보기 좋은\n",
        "# 내가 map를 모름 공부 ㄱㄱ\n",
        "def solution(strlist):\n",
        "    answer = list(map(len, strlist))\n",
        "    return answer"
      ],
      "metadata": {
        "id": "XNs6FwaHVeyX"
      },
      "execution_count": 11,
      "outputs": []
    },
    {
      "cell_type": "code",
      "source": [
        "#  와우 정말 간단함\n",
        "def solution(strlist):\n",
        "    return [len(str) for str in strlist]"
      ],
      "metadata": {
        "id": "io7WO1e-VjUX"
      },
      "execution_count": 12,
      "outputs": []
    },
    {
      "cell_type": "code",
      "source": [
        "# 내걸 더 간단히함\n",
        "def solution(strlist):\n",
        "    answer =[]\n",
        "    for i in strlist:\n",
        "        answer.append(len(i))\n",
        "    return answer"
      ],
      "metadata": {
        "id": "Sl256fCgVvLn"
      },
      "execution_count": null,
      "outputs": []
    }
  ]
}