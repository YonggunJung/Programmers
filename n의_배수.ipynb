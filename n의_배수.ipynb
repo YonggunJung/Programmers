{
  "nbformat": 4,
  "nbformat_minor": 0,
  "metadata": {
    "colab": {
      "provenance": [],
      "authorship_tag": "ABX9TyO63CV7VK/WyDFqUVyhdUWz",
      "include_colab_link": true
    },
    "kernelspec": {
      "name": "python3",
      "display_name": "Python 3"
    },
    "language_info": {
      "name": "python"
    }
  },
  "cells": [
    {
      "cell_type": "markdown",
      "metadata": {
        "id": "view-in-github",
        "colab_type": "text"
      },
      "source": [
        "<a href=\"https://colab.research.google.com/github/YonggunJung/Programmers/blob/main/n%EC%9D%98_%EB%B0%B0%EC%88%98.ipynb\" target=\"_parent\"><img src=\"https://colab.research.google.com/assets/colab-badge.svg\" alt=\"Open In Colab\"/></a>"
      ]
    },
    {
      "cell_type": "code",
      "execution_count": 1,
      "metadata": {
        "id": "lLjHo7ZvgyYu"
      },
      "outputs": [],
      "source": [
        "# 문제 설명\n",
        "# 정수 num과 n이 매개 변수로 주어질 때,\n",
        "# num이 n의 배수이면 1을 return n의 배수가 아니라면 0을 return하도록\n",
        "# solution 함수를 완성해주세요.\n",
        "\n",
        "# 제한사항\n",
        "# 2 ≤ num ≤ 100\n",
        "# 2 ≤ n ≤ 9\n",
        "\n",
        "# 입출력 예\n",
        "# num\t    n\t    result\n",
        "# 98\t    2\t      1\n",
        "# 34\t    3\t      0\n",
        "\n",
        "# 입출력 예 설명\n",
        "# 입출력 예 #1\n",
        "# 98은 2의 배수이므로 1을 return합니다.\n",
        "\n",
        "# 입출력 예 #2\n",
        "# 32는 3의 배수가 아니므로 0을 return합니다."
      ]
    },
    {
      "cell_type": "code",
      "source": [
        "def solution(num, n):\n",
        "    if num % n == 0:\n",
        "      answer = 1\n",
        "    else:\n",
        "      answer = 0\n",
        "    return answer"
      ],
      "metadata": {
        "id": "vTfkfcaEg8IM"
      },
      "execution_count": 6,
      "outputs": []
    },
    {
      "cell_type": "code",
      "source": [
        "num = 98\n",
        "n = 2\n",
        "solution(num, n)"
      ],
      "metadata": {
        "colab": {
          "base_uri": "https://localhost:8080/"
        },
        "id": "dx54Caqtg9RC",
        "outputId": "91494a6b-4578-4335-9cb6-08839898b24e"
      },
      "execution_count": 7,
      "outputs": [
        {
          "output_type": "execute_result",
          "data": {
            "text/plain": [
              "1"
            ]
          },
          "metadata": {},
          "execution_count": 7
        }
      ]
    },
    {
      "cell_type": "code",
      "source": [
        "num = 34\n",
        "n = 3\n",
        "solution(num, n)"
      ],
      "metadata": {
        "colab": {
          "base_uri": "https://localhost:8080/"
        },
        "id": "OLShqii5hAUI",
        "outputId": "3f752146-b0b9-4ff7-8119-f4c91008dc83"
      },
      "execution_count": 8,
      "outputs": [
        {
          "output_type": "execute_result",
          "data": {
            "text/plain": [
              "0"
            ]
          },
          "metadata": {},
          "execution_count": 8
        }
      ]
    },
    {
      "cell_type": "code",
      "source": [
        "# 다른 사람 풀이"
      ],
      "metadata": {
        "id": "x_gGfO1uhARy"
      },
      "execution_count": 9,
      "outputs": []
    },
    {
      "cell_type": "code",
      "source": [
        "# num%n은 int 값이지만,\n",
        "# 이를 not() 함수 안에 넣으면 int가 bool로 해석되어서\n",
        "# num%n이 0이면 False로,\n",
        "# 0이 아니면 True로 해석됩니다\n",
        "# 신박하네\n",
        "def solution(num, n):\n",
        "    return int(not(num % n))"
      ],
      "metadata": {
        "id": "pZ7_voW1hWYF"
      },
      "execution_count": null,
      "outputs": []
    }
  ]
}