{
  "nbformat": 4,
  "nbformat_minor": 0,
  "metadata": {
    "colab": {
      "provenance": [],
      "authorship_tag": "ABX9TyOxmLl75AWjI+SQGMx7lrs0",
      "include_colab_link": true
    },
    "kernelspec": {
      "name": "python3",
      "display_name": "Python 3"
    },
    "language_info": {
      "name": "python"
    }
  },
  "cells": [
    {
      "cell_type": "markdown",
      "metadata": {
        "id": "view-in-github",
        "colab_type": "text"
      },
      "source": [
        "<a href=\"https://colab.research.google.com/github/YonggunJung/Programmers/blob/main/%EC%88%9C%EC%84%9C%EC%8C%8D%EC%9D%98_%EA%B0%9C%EC%88%98.ipynb\" target=\"_parent\"><img src=\"https://colab.research.google.com/assets/colab-badge.svg\" alt=\"Open In Colab\"/></a>"
      ]
    },
    {
      "cell_type": "code",
      "execution_count": 1,
      "metadata": {
        "id": "iTG44IdspmZa"
      },
      "outputs": [],
      "source": [
        "# 문제 설명\n",
        "# 순서쌍이란 두 개의 숫자를 순서를 정하여 짝지어 나타낸 쌍으로 (a, b)로 표기합니다.\n",
        "# 자연수 n이 매개변수로 주어질 때 두 숫자의 곱이 n인 자연수 순서쌍의 개수를\n",
        "# return하도록 solution 함수를 완성해주세요.\n",
        "\n",
        "# 제한사항\n",
        "# 1 ≤ n ≤ 1,000,000\n",
        "\n",
        "# 입출력 예\n",
        "# n\t      result\n",
        "# 20\t      6\n",
        "# 100\t      9\n",
        "\n",
        "# 입출력 예 설명\n",
        "# 입출력 예 #1\n",
        "# n이 20 이므로 곱이 20인 순서쌍은 (1, 20), (2, 10), (4, 5), (5, 4), (10, 2), (20, 1) 이므로 6을\n",
        "# return합니다.\n",
        "\n",
        "# 입출력 예 #2\n",
        "# n이 100 이므로 곱이 100인 순서쌍은\n",
        "# (1, 100), (2, 50), (4, 25), (5, 20), (10, 10), (20, 5), (25, 4), (50, 2), (100, 1) 이므로 9를\n",
        "# return합니다."
      ]
    },
    {
      "cell_type": "code",
      "source": [
        "# 이게 왜 틀린건지 모르겠네 ㅠㅠ\n",
        "# 답은 제대로 나오는데 프로그래머스에서 50점으로 탈락함.\n",
        "def solution(n):\n",
        "    answer = 0\n",
        "    for i in range(1, n+1):\n",
        "      for j in range(1, n+1):\n",
        "        if i * j == n:\n",
        "          answer += 1\n",
        "    return answer"
      ],
      "metadata": {
        "id": "vkOhpQULp3W9"
      },
      "execution_count": 12,
      "outputs": []
    },
    {
      "cell_type": "code",
      "source": [
        "n = 20\n",
        "solution(n)"
      ],
      "metadata": {
        "colab": {
          "base_uri": "https://localhost:8080/"
        },
        "id": "C4AkgiIop4bs",
        "outputId": "050f73d6-71d7-462e-f9af-97b628f3d350"
      },
      "execution_count": 13,
      "outputs": [
        {
          "output_type": "execute_result",
          "data": {
            "text/plain": [
              "6"
            ]
          },
          "metadata": {},
          "execution_count": 13
        }
      ]
    },
    {
      "cell_type": "code",
      "source": [
        "n = 100\n",
        "solution(n)"
      ],
      "metadata": {
        "colab": {
          "base_uri": "https://localhost:8080/"
        },
        "id": "b7jHO4r_p4Zr",
        "outputId": "633e9817-b0a5-4682-a599-c1ad21cc63bd"
      },
      "execution_count": 14,
      "outputs": [
        {
          "output_type": "execute_result",
          "data": {
            "text/plain": [
              "9"
            ]
          },
          "metadata": {},
          "execution_count": 14
        }
      ]
    },
    {
      "cell_type": "code",
      "source": [
        "def solution(n):\n",
        "    answer = 0\n",
        "    for i in range(1, n+1):\n",
        "      if n % i == 0:\n",
        "        answer += 1\n",
        "    return answer"
      ],
      "metadata": {
        "id": "PQx8igx8tqMl"
      },
      "execution_count": 25,
      "outputs": []
    },
    {
      "cell_type": "code",
      "source": [
        "n = 20\n",
        "solution(n)"
      ],
      "metadata": {
        "colab": {
          "base_uri": "https://localhost:8080/"
        },
        "id": "yLioLt09v3yj",
        "outputId": "afb440da-b83a-4ad7-bfb0-e3913db0e28b"
      },
      "execution_count": 26,
      "outputs": [
        {
          "output_type": "execute_result",
          "data": {
            "text/plain": [
              "6"
            ]
          },
          "metadata": {},
          "execution_count": 26
        }
      ]
    },
    {
      "cell_type": "code",
      "source": [
        "n = 100\n",
        "solution(n)"
      ],
      "metadata": {
        "id": "qIRZOarYv3wd"
      },
      "execution_count": null,
      "outputs": []
    },
    {
      "cell_type": "code",
      "source": [
        "# 다른 사람 풀이"
      ],
      "metadata": {
        "id": "O4Qc3gLJp4XX"
      },
      "execution_count": 19,
      "outputs": []
    },
    {
      "cell_type": "code",
      "source": [
        "# filter()함수 적용, 신박한 한줄 코드\n",
        "def solution(n):\n",
        "    return len(list(filter(lambda v: n % (v+1) == 0, range(n))))"
      ],
      "metadata": {
        "id": "xxu-NkNZtV1l"
      },
      "execution_count": null,
      "outputs": []
    },
    {
      "cell_type": "code",
      "source": [
        "# 왜 range(n) 이 가능한지 모르겠음 내가 하면 에러남\n",
        "# 그리고 range(n) 이면 n-1 까지 일텐데 n = 20 이면 (20, 1)이 빠지는거 아닌가?\n",
        "def solution(n):\n",
        "    answer =0\n",
        "    for i in range(n):\n",
        "        if n % (i+1) ==0:\n",
        "            answer +=1\n",
        "    return answer"
      ],
      "metadata": {
        "id": "D-L6dWY7ygfe"
      },
      "execution_count": null,
      "outputs": []
    },
    {
      "cell_type": "code",
      "source": [
        "# 또하나 신기한코드 루트 생각해서 만든 코드\n",
        "def solution(n):\n",
        "    answer = 0\n",
        "    for i in range(1, int(n ** 0.5) + 1):\n",
        "        if n % i == 0:\n",
        "            answer += 2\n",
        "\n",
        "            if i * i == n:\n",
        "                answer -= 1\n",
        "\n",
        "    return answer"
      ],
      "metadata": {
        "id": "XlK7YURO0ncE"
      },
      "execution_count": null,
      "outputs": []
    }
  ]
}