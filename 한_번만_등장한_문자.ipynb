{
  "nbformat": 4,
  "nbformat_minor": 0,
  "metadata": {
    "colab": {
      "provenance": [],
      "authorship_tag": "ABX9TyMbD2YyZVYREN+GBuwCKL6h",
      "include_colab_link": true
    },
    "kernelspec": {
      "name": "python3",
      "display_name": "Python 3"
    },
    "language_info": {
      "name": "python"
    }
  },
  "cells": [
    {
      "cell_type": "markdown",
      "metadata": {
        "id": "view-in-github",
        "colab_type": "text"
      },
      "source": [
        "<a href=\"https://colab.research.google.com/github/YonggunJung/Programmers/blob/main/%ED%95%9C_%EB%B2%88%EB%A7%8C_%EB%93%B1%EC%9E%A5%ED%95%9C_%EB%AC%B8%EC%9E%90.ipynb\" target=\"_parent\"><img src=\"https://colab.research.google.com/assets/colab-badge.svg\" alt=\"Open In Colab\"/></a>"
      ]
    },
    {
      "cell_type": "code",
      "execution_count": 1,
      "metadata": {
        "id": "wjpScDNGZKom"
      },
      "outputs": [],
      "source": [
        "# 문제 설명\n",
        "# 문자열 s가 매개변수로 주어집니다.\n",
        "# s에서 한 번만 등장하는 문자를 사전 순으로 정렬한 문자열을\n",
        "# return 하도록 solution 함수를 완성해보세요.\n",
        "# 한 번만 등장하는 문자가 없을 경우 빈 문자열을 return 합니다.\n",
        "\n",
        "# 제한사항\n",
        "# 0 < \bs의 길이 < 1,000\n",
        "# s는 소문자로만 이루어져 있습니다.\n",
        "\n",
        "# 입출력 예\n",
        "# s\t                        result\n",
        "# \"abcabcadc\"\t              \"d\"\n",
        "# \"abdc\"\t                  \"abcd\"\n",
        "# \"hello\"\t                  \"eho\"\n",
        "\n",
        "# 입출력 예 설명\n",
        "# 입출력 예 #1\n",
        "# \"abcabcadc\"에서 하나만 등장하는 문자는 \"d\"입니다.\n",
        "\n",
        "# 입출력 예 #2\n",
        "# \"abdc\"에서 모든 문자가 한 번씩 등장하므로 사전 순으로 정렬한 \"abcd\"를 return 합니다.\n",
        "\n",
        "# 입출력 예 #3\n",
        "# \"hello\"에서 한 번씩 등장한 문자는 \"heo\"이고 이를 사전 순으로 정렬한 \"eho\"를 return 합니다."
      ]
    },
    {
      "cell_type": "code",
      "source": [
        "# sort가 왜 필요 없는건지 조금 긴가민가함\n",
        "def solution(s):\n",
        "    answer = ''\n",
        "    a = 'abcdefghijklmnopqrstuvwxyz'\n",
        "    for char in a:\n",
        "      if s.count(char) == 1:\n",
        "        answer += char\n",
        "\n",
        "\n",
        "    return answer"
      ],
      "metadata": {
        "id": "M-H2GBSJZYvZ"
      },
      "execution_count": 20,
      "outputs": []
    },
    {
      "cell_type": "code",
      "source": [
        "s = \"abcabcadc\"\n",
        "\n",
        "solution(s)"
      ],
      "metadata": {
        "colab": {
          "base_uri": "https://localhost:8080/",
          "height": 35
        },
        "id": "pYVQZf5hZZeI",
        "outputId": "828aabe7-6cd2-45dc-fd88-122d0733595c"
      },
      "execution_count": 21,
      "outputs": [
        {
          "output_type": "execute_result",
          "data": {
            "text/plain": [
              "'d'"
            ],
            "application/vnd.google.colaboratory.intrinsic+json": {
              "type": "string"
            }
          },
          "metadata": {},
          "execution_count": 21
        }
      ]
    },
    {
      "cell_type": "code",
      "source": [
        "s = \"abdc\"\n",
        "solution(s)"
      ],
      "metadata": {
        "colab": {
          "base_uri": "https://localhost:8080/",
          "height": 35
        },
        "id": "xpcJAOgSZZZZ",
        "outputId": "bc643b3c-070a-4d1d-cf33-31a3ca36bd6d"
      },
      "execution_count": 22,
      "outputs": [
        {
          "output_type": "execute_result",
          "data": {
            "text/plain": [
              "'abcd'"
            ],
            "application/vnd.google.colaboratory.intrinsic+json": {
              "type": "string"
            }
          },
          "metadata": {},
          "execution_count": 22
        }
      ]
    },
    {
      "cell_type": "code",
      "source": [
        "s = \"hello\"\n",
        "solution(s)"
      ],
      "metadata": {
        "colab": {
          "base_uri": "https://localhost:8080/",
          "height": 35
        },
        "id": "U6RpHittZZVy",
        "outputId": "7aa1a3eb-7564-43be-d711-41e62f3923cc"
      },
      "execution_count": 23,
      "outputs": [
        {
          "output_type": "execute_result",
          "data": {
            "text/plain": [
              "'eho'"
            ],
            "application/vnd.google.colaboratory.intrinsic+json": {
              "type": "string"
            }
          },
          "metadata": {},
          "execution_count": 23
        }
      ]
    },
    {
      "cell_type": "code",
      "source": [
        "# 다른사람 풀이"
      ],
      "metadata": {
        "id": "-0yS9QEEZZTQ"
      },
      "execution_count": 24,
      "outputs": []
    },
    {
      "cell_type": "code",
      "source": [
        "# 이렇게도 되는군 죠아써\n",
        "def solution(s):\n",
        "    answer = \"\".join(sorted([ ch for ch in s if s.count(ch) == 1]))\n",
        "    return answer"
      ],
      "metadata": {
        "id": "q-2cET1Sck-K"
      },
      "execution_count": 25,
      "outputs": []
    },
    {
      "cell_type": "code",
      "source": [
        "# 새로운 함수지만 더 복잡함\n",
        "from collections import Counter\n",
        "\n",
        "def solution(s):\n",
        "    counter = Counter(s)\n",
        "    unqiue_alphabets = filter(lambda alphabet: counter[alphabet] == 1, counter.keys())\n",
        "    return ''.join(sorted(unqiue_alphabets))"
      ],
      "metadata": {
        "id": "Ez6FtWoVc1bK"
      },
      "execution_count": null,
      "outputs": []
    }
  ]
}