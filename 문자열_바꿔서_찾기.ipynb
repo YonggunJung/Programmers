{
  "nbformat": 4,
  "nbformat_minor": 0,
  "metadata": {
    "colab": {
      "provenance": [],
      "authorship_tag": "ABX9TyOg5XK9p6rRqFb5VQuzMOZ6",
      "include_colab_link": true
    },
    "kernelspec": {
      "name": "python3",
      "display_name": "Python 3"
    },
    "language_info": {
      "name": "python"
    }
  },
  "cells": [
    {
      "cell_type": "markdown",
      "metadata": {
        "id": "view-in-github",
        "colab_type": "text"
      },
      "source": [
        "<a href=\"https://colab.research.google.com/github/YonggunJung/Programmers/blob/main/%EB%AC%B8%EC%9E%90%EC%97%B4_%EB%B0%94%EA%BF%94%EC%84%9C_%EC%B0%BE%EA%B8%B0.ipynb\" target=\"_parent\"><img src=\"https://colab.research.google.com/assets/colab-badge.svg\" alt=\"Open In Colab\"/></a>"
      ]
    },
    {
      "cell_type": "code",
      "execution_count": 1,
      "metadata": {
        "id": "8phu2G76pdCB"
      },
      "outputs": [],
      "source": [
        "# 문제 설명\n",
        "# 문자 \"A\"와 \"B\"로 이루어진 문자열 myString과 pat가 주어집니다.\n",
        "# myString의 \"A\"를 \"B\"로, \"B\"를 \"A\"로 바꾼 문자열의 연속하는 부분 문자열 중\n",
        "# pat이 있으면 1을 아니면 0을 return 하는 solution 함수를 완성하세요.\n",
        "\n",
        "# 제한사항\n",
        "# 1 ≤ myString의 길이 ≤ 100\n",
        "# 1 ≤ pat의 길이 ≤ 10\n",
        "# myString과 pat는 문자 \"A\"와 \"B\"로만 이루어진 문자열입니다.\n",
        "\n",
        "# 입출력 예\n",
        "# myString\t        pat\t        result\n",
        "# \"ABBAA\"\t          \"AABB\"\t      1\n",
        "# \"ABAB\"\t          \"ABAB\"\t      0\n",
        "\n",
        "# 입출력 예 설명\n",
        "# 입출력 예 #1\n",
        "# \"ABBAA\"에서 \"A\"와 \"B\"를 서로 바꾸면 \"BAABB\"입니다.\n",
        "# 여기에는 부분문자열 \"AABB\"가 있기 때문에 1을 return 합니다.\n",
        "\n",
        "# 입출력 예 #2\n",
        "# \"ABAB\"에서 \"A\"와 \"B\"를 서로 바꾸면 \"BABA\"입니다.\n",
        "# 여기에는 부분문자열 \"BABA\"가 없기 때문에 0을 return 합니다."
      ]
    },
    {
      "cell_type": "code",
      "source": [
        "def solution(myString, pat):\n",
        "    answer = 0\n",
        "    nms = \"\"\n",
        "    for idx, char in enumerate(myString):\n",
        "      if char == 'A':\n",
        "        char = 'B'\n",
        "      else:\n",
        "        char = 'A'\n",
        "      nms += char\n",
        "    if pat in nms:\n",
        "      answer = 1\n",
        "    return answer"
      ],
      "metadata": {
        "id": "J4KaJL6ipo3c"
      },
      "execution_count": 29,
      "outputs": []
    },
    {
      "cell_type": "code",
      "source": [
        "myString = \"ABBAA\"\n",
        "pat = \"AABB\"\n",
        "solution(myString, pat)"
      ],
      "metadata": {
        "colab": {
          "base_uri": "https://localhost:8080/"
        },
        "id": "L5O7Ir7Ypq1j",
        "outputId": "00bb5b48-3beb-4f70-e675-dfcf3269ca58"
      },
      "execution_count": 30,
      "outputs": [
        {
          "output_type": "execute_result",
          "data": {
            "text/plain": [
              "1"
            ]
          },
          "metadata": {},
          "execution_count": 30
        }
      ]
    },
    {
      "cell_type": "code",
      "source": [
        "myString = \"ABAB\"\n",
        "pat = \"ABAB\"\n",
        "solution(myString, pat)"
      ],
      "metadata": {
        "colab": {
          "base_uri": "https://localhost:8080/"
        },
        "id": "p4vTJejiptow",
        "outputId": "3ffcc78b-baec-41e4-8b3c-2f75cf293439"
      },
      "execution_count": 31,
      "outputs": [
        {
          "output_type": "execute_result",
          "data": {
            "text/plain": [
              "0"
            ]
          },
          "metadata": {},
          "execution_count": 31
        }
      ]
    },
    {
      "cell_type": "code",
      "source": [
        "# 다른 사람 풀이"
      ],
      "metadata": {
        "id": "r1megeUHptmc"
      },
      "execution_count": 32,
      "outputs": []
    },
    {
      "cell_type": "code",
      "source": [
        "# A를 다른 문자로 치환한다 좋은 생각이군\n",
        "def solution(myString, pat):\n",
        "    return int(pat in myString.replace('A', 'C').replace('B', 'A').replace('C', 'B'))"
      ],
      "metadata": {
        "id": "agbuh3ozsqLl"
      },
      "execution_count": 33,
      "outputs": []
    },
    {
      "cell_type": "code",
      "source": [
        "# pat를 치환한다 이것도 좋은 생각이군\n",
        "def solution(myString, pat):\n",
        "    return int(''.join(['A' if i == 'B' else 'B' for i in pat]) in myString)"
      ],
      "metadata": {
        "id": "PiOQ8zDrsvNE"
      },
      "execution_count": 34,
      "outputs": []
    },
    {
      "cell_type": "code",
      "source": [
        "def solution(myString, pat):\n",
        "    pat=list(pat)\n",
        "    for i in range(len(pat)):\n",
        "        if pat[i]=='B':\n",
        "            pat[i]='A'\n",
        "        else: pat[i]='B'\n",
        "    if ''.join(pat) in myString: return 1\n",
        "    return 0"
      ],
      "metadata": {
        "id": "7NHaUOmvs8sb"
      },
      "execution_count": 35,
      "outputs": []
    },
    {
      "cell_type": "code",
      "source": [
        "# 여러 방법이 있다\n",
        "def solution(myString, pat):\n",
        "    answer=''\n",
        "    for m in myString:\n",
        "        if m=='A':\n",
        "            answer+='B'\n",
        "        elif m=='B':\n",
        "            answer+='A'\n",
        "        else:\n",
        "            answer+=m\n",
        "\n",
        "    return int(pat in answer)"
      ],
      "metadata": {
        "id": "ULdH3Q--tMQL"
      },
      "execution_count": null,
      "outputs": []
    }
  ]
}