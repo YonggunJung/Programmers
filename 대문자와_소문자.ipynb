{
  "nbformat": 4,
  "nbformat_minor": 0,
  "metadata": {
    "colab": {
      "provenance": [],
      "authorship_tag": "ABX9TyPp69+gJv++9CEWmmb+tzpp",
      "include_colab_link": true
    },
    "kernelspec": {
      "name": "python3",
      "display_name": "Python 3"
    },
    "language_info": {
      "name": "python"
    }
  },
  "cells": [
    {
      "cell_type": "markdown",
      "metadata": {
        "id": "view-in-github",
        "colab_type": "text"
      },
      "source": [
        "<a href=\"https://colab.research.google.com/github/YonggunJung/Programmers/blob/main/%EB%8C%80%EB%AC%B8%EC%9E%90%EC%99%80_%EC%86%8C%EB%AC%B8%EC%9E%90.ipynb\" target=\"_parent\"><img src=\"https://colab.research.google.com/assets/colab-badge.svg\" alt=\"Open In Colab\"/></a>"
      ]
    },
    {
      "cell_type": "code",
      "execution_count": 1,
      "metadata": {
        "id": "PWNt9JXqziPF"
      },
      "outputs": [],
      "source": [
        "# 문제 설명\n",
        "# 문자열 my_string이 매개변수로 주어질 때,\n",
        "# 대문자는 소문자로 소문자는 대문자로 변환한 문자열을 return하도록 solution 함수를 완성해주세요.\n",
        "\n",
        "# 제한사항\n",
        "# 1 ≤ my_string의 길이 ≤ 1,000\n",
        "# my_string은 영어 대문자와 소문자로만 구성되어 있습니다.\n",
        "\n",
        "# 입출력 예\n",
        "# my_string\t          result\n",
        "# \"cccCCC\"\t          \"CCCccc\"\n",
        "# \"abCdEfghIJ\"\t      \"ABcDeFGHij\"\n",
        "\n",
        "# 입출력 예 설명\n",
        "# 입출력 예 #1\n",
        "# 소문자는 대문자로 대문자는 소문자로 바꾼 \"CCCccc\"를 return합니다.\n",
        "\n",
        "# 입출력 예 #2\n",
        "# 소문자는 대문자로 대문자는 소문자로 바꾼 \"ABcDeFGHij\"를 return합니다."
      ]
    },
    {
      "cell_type": "code",
      "source": [
        "def solution(my_string):\n",
        "    answer = ''\n",
        "    for char in my_string:\n",
        "      if char.isupper():\n",
        "        answer += char.lower()\n",
        "      elif char.islower():\n",
        "        answer += char.upper()\n",
        "    return answer"
      ],
      "metadata": {
        "id": "KHuUtOXuzuza"
      },
      "execution_count": 3,
      "outputs": []
    },
    {
      "cell_type": "code",
      "source": [
        "my_string = \"cccCCC\"\n",
        "solution(my_string)"
      ],
      "metadata": {
        "colab": {
          "base_uri": "https://localhost:8080/",
          "height": 35
        },
        "id": "_XB_0LHP0nTN",
        "outputId": "7c2cc4e7-4148-462d-c3d1-4d374927ec85"
      },
      "execution_count": 4,
      "outputs": [
        {
          "output_type": "execute_result",
          "data": {
            "text/plain": [
              "'CCCccc'"
            ],
            "application/vnd.google.colaboratory.intrinsic+json": {
              "type": "string"
            }
          },
          "metadata": {},
          "execution_count": 4
        }
      ]
    },
    {
      "cell_type": "code",
      "source": [
        "my_string = \"abCdEfghIJ\"\n",
        "solution(my_string)"
      ],
      "metadata": {
        "colab": {
          "base_uri": "https://localhost:8080/",
          "height": 35
        },
        "id": "nPCdpqq90tRq",
        "outputId": "e5cf1aac-318b-4dd2-a0dd-e235a95cfc92"
      },
      "execution_count": 5,
      "outputs": [
        {
          "output_type": "execute_result",
          "data": {
            "text/plain": [
              "'ABcDeFGHij'"
            ],
            "application/vnd.google.colaboratory.intrinsic+json": {
              "type": "string"
            }
          },
          "metadata": {},
          "execution_count": 5
        }
      ]
    },
    {
      "cell_type": "code",
      "source": [
        "# 다른 사람 풀이"
      ],
      "metadata": {
        "id": "b24LtxW-0wBJ"
      },
      "execution_count": 6,
      "outputs": []
    },
    {
      "cell_type": "code",
      "source": [
        "# 이건 뭐야? 처음 봄는거임\n",
        "# swapcase()\n",
        "def solution(my_string):\n",
        "    return my_string.swapcase()"
      ],
      "metadata": {
        "id": "QDGkLi2X1AJy"
      },
      "execution_count": 7,
      "outputs": []
    },
    {
      "cell_type": "code",
      "source": [
        "# 이렇게 지정해주고도 가능\n",
        "def solution(my_string):\n",
        "    answer = ''\n",
        "    upper = 'ABCDEFGHIJKLMNOPQRSTUVWXYZ'\n",
        "    lower = 'abcdefghijklmnopqrstuvwxyz'\n",
        "    for c in my_string:\n",
        "        if c in upper:\n",
        "            answer+=c.lower()\n",
        "        elif c in lower:\n",
        "            answer+=c.upper()\n",
        "    return answer"
      ],
      "metadata": {
        "id": "YFuuVuNi1GJY"
      },
      "execution_count": 8,
      "outputs": []
    },
    {
      "cell_type": "code",
      "source": [
        "# 참 신기한 코드 많음\n",
        "def solution(my_string):\n",
        "    return ''.join([x.lower() if x.isupper() else x.upper() for x in my_string])"
      ],
      "metadata": {
        "id": "0SurxzUs1NQh"
      },
      "execution_count": null,
      "outputs": []
    }
  ]
}