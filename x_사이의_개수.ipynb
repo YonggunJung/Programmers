{
  "nbformat": 4,
  "nbformat_minor": 0,
  "metadata": {
    "colab": {
      "provenance": [],
      "authorship_tag": "ABX9TyMktTQKR3AV6ZC8+CU3hnEp",
      "include_colab_link": true
    },
    "kernelspec": {
      "name": "python3",
      "display_name": "Python 3"
    },
    "language_info": {
      "name": "python"
    }
  },
  "cells": [
    {
      "cell_type": "markdown",
      "metadata": {
        "id": "view-in-github",
        "colab_type": "text"
      },
      "source": [
        "<a href=\"https://colab.research.google.com/github/YonggunJung/Programmers/blob/main/x_%EC%82%AC%EC%9D%B4%EC%9D%98_%EA%B0%9C%EC%88%98.ipynb\" target=\"_parent\"><img src=\"https://colab.research.google.com/assets/colab-badge.svg\" alt=\"Open In Colab\"/></a>"
      ]
    },
    {
      "cell_type": "code",
      "execution_count": 1,
      "metadata": {
        "id": "6GuM-l3SORyX"
      },
      "outputs": [],
      "source": [
        "# 문제 설명\n",
        "# 문자열 myString이 주어집니다.\n",
        "# myString을 문자 \"x\"를 기준으로 나눴을 때\n",
        "# 나눠진 문자열 각각의 길이를 순서대로 저장한 배열을\n",
        "# return 하는 solution 함수를 완성해 주세요.\n",
        "\n",
        "# 제한사항\n",
        "# 1 ≤ myString의 길이 ≤ 100,000\n",
        "# myString은 알파벳 소문자로 이루어진 문자열입니다.\n",
        "\n",
        "# 입출력 예\n",
        "# myString\t            result\n",
        "# \"oxooxoxxox\"\t        [1, 2, 1, 0, 1, 0]\n",
        "# \"xabcxdefxghi\"\t      [0, 3, 3, 3]\n",
        "\n",
        "# 입출력 예 설명\n",
        "# 입출력 예 #1\n",
        "# \"x\"를 기준으로 문자열을 나누면 [\"o\", \"oo\", \"o\", \"\", \"o\", \"\"]가 됩니다.\n",
        "# 각각의 길이로 배열을 만들면 [1, 2, 1, 0, 1, 0]입니다.\n",
        "# 따라서 [1, 2, 1, 0, 1, 0]을 return 합니다.\n",
        "\n",
        "# 입출력 예 #2\n",
        "# \"x\"를 기준으로 문자열을 나누면 [\"\", \"abc\", \"def\", \"ghi\"]가 됩니다.\n",
        "# 각각의 길이로 배열을 만들면 [0, 3, 3, 3]입니다.\n",
        "# 따라서 [0, 3, 3, 3]을 return 합니다."
      ]
    },
    {
      "cell_type": "code",
      "source": [
        "def solution(myString):\n",
        "    answer = []\n",
        "    sms = myString.split(\"x\")\n",
        "    for s in sms:\n",
        "      answer.append(len(s))\n",
        "    return answer"
      ],
      "metadata": {
        "id": "0GuskhZmOlOs"
      },
      "execution_count": 7,
      "outputs": []
    },
    {
      "cell_type": "code",
      "source": [
        "myString = \"oxooxoxxox\"\n",
        "solution(myString)\n"
      ],
      "metadata": {
        "colab": {
          "base_uri": "https://localhost:8080/"
        },
        "id": "nfOiPdCHOpnK",
        "outputId": "b3d4873c-7a79-486a-809c-7eac9bf4a346"
      },
      "execution_count": 8,
      "outputs": [
        {
          "output_type": "execute_result",
          "data": {
            "text/plain": [
              "[1, 2, 1, 0, 1, 0]"
            ]
          },
          "metadata": {},
          "execution_count": 8
        }
      ]
    },
    {
      "cell_type": "code",
      "source": [
        "myString = \"xabcxdefxghi\"\n",
        "solution(myString)"
      ],
      "metadata": {
        "colab": {
          "base_uri": "https://localhost:8080/"
        },
        "id": "jkoPzSopOru-",
        "outputId": "d708278f-bec0-458d-cc98-3e73ae0678c9"
      },
      "execution_count": 9,
      "outputs": [
        {
          "output_type": "execute_result",
          "data": {
            "text/plain": [
              "[0, 3, 3, 3]"
            ]
          },
          "metadata": {},
          "execution_count": 9
        }
      ]
    },
    {
      "cell_type": "code",
      "source": [
        "# 다른 사람 풀이"
      ],
      "metadata": {
        "id": "tlU7U9lqOrs2"
      },
      "execution_count": 10,
      "outputs": []
    },
    {
      "cell_type": "code",
      "source": [
        "# 이렇게 한방에 가능\n",
        "def solution(myString):\n",
        "    return [len(w) for w in myString.split('x')]"
      ],
      "metadata": {
        "id": "L4m9iZ4iP0A8"
      },
      "execution_count": 11,
      "outputs": []
    },
    {
      "cell_type": "code",
      "source": [
        "def solution(myString):\n",
        "    return list(map(lambda x: len(x), myString.split('x')))"
      ],
      "metadata": {
        "id": "R2Z1ZreiP5iL"
      },
      "execution_count": null,
      "outputs": []
    }
  ]
}