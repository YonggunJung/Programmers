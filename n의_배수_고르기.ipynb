{
  "nbformat": 4,
  "nbformat_minor": 0,
  "metadata": {
    "colab": {
      "provenance": [],
      "authorship_tag": "ABX9TyPokq0f48FpN8P7EALbObDX",
      "include_colab_link": true
    },
    "kernelspec": {
      "name": "python3",
      "display_name": "Python 3"
    },
    "language_info": {
      "name": "python"
    }
  },
  "cells": [
    {
      "cell_type": "markdown",
      "metadata": {
        "id": "view-in-github",
        "colab_type": "text"
      },
      "source": [
        "<a href=\"https://colab.research.google.com/github/YonggunJung/Programmers/blob/main/n%EC%9D%98_%EB%B0%B0%EC%88%98_%EA%B3%A0%EB%A5%B4%EA%B8%B0.ipynb\" target=\"_parent\"><img src=\"https://colab.research.google.com/assets/colab-badge.svg\" alt=\"Open In Colab\"/></a>"
      ]
    },
    {
      "cell_type": "code",
      "execution_count": 1,
      "metadata": {
        "id": "Rrbg5vtduzfE"
      },
      "outputs": [],
      "source": [
        "# 문제 설명\n",
        "# 정수 n과 정수 배열 numlist가 매개변수로 주어질 때,\n",
        "# numlist에서 n의 배수가 아닌 수들을 제거한 배열을 return하도록 solution 함수를 완성해주세요.\n",
        "\n",
        "# 제한사항\n",
        "# 1 ≤ n ≤ 10,000\n",
        "# 1 ≤ numlist의 크기 ≤ 100\n",
        "# 1 ≤ numlist의 원소 ≤ 100,000\n",
        "\n",
        "# 입출력 예\n",
        "# n\t        numlist\t                                  result\n",
        "# 3\t        [4, 5, 6, 7, 8, 9, 10, 11, 12]\t          [6, 9, 12]\n",
        "# 5\t        [1, 9, 3, 10, 13, 5]\t                    [10, 5]\n",
        "# 12\t      [2, 100, 120, 600, 12, 12]\t              [120, 600, 12, 12]\n",
        "\n",
        "# 입출력 예 설명\n",
        "# 입출력 예 #1\n",
        "# numlist에서 3의 배수만을 남긴 [6, 9, 12]를 return합니다.\n",
        "\n",
        "# 입출력 예 #2\n",
        "# numlist에서 5의 배수만을 남긴 [10, 5]를 return합니다.\n",
        "\n",
        "# 입출력 예 #3\n",
        "# numlist에서 12의 배수만을 남긴 [120, 600, 12, 12]를 return합니다."
      ]
    },
    {
      "cell_type": "code",
      "source": [
        "def solution(n, numlist):\n",
        "    answer = []\n",
        "    for i in numlist:\n",
        "      if i % n == 0:\n",
        "        answer.append(i)\n",
        "\n",
        "    return answer"
      ],
      "metadata": {
        "id": "1JCPt1gbvET1"
      },
      "execution_count": 2,
      "outputs": []
    },
    {
      "cell_type": "code",
      "source": [
        "n = 3\n",
        "numlist = [4, 5, 6, 7, 8, 9, 10, 11, 12]\n",
        "solution(n, numlist)"
      ],
      "metadata": {
        "colab": {
          "base_uri": "https://localhost:8080/"
        },
        "id": "umdus_nHy2Ab",
        "outputId": "fa2f43d6-607a-4b8c-8ce1-4d88c158743d"
      },
      "execution_count": 3,
      "outputs": [
        {
          "output_type": "execute_result",
          "data": {
            "text/plain": [
              "[6, 9, 12]"
            ]
          },
          "metadata": {},
          "execution_count": 3
        }
      ]
    },
    {
      "cell_type": "code",
      "source": [
        "n = 5\n",
        "numlist = [1, 9, 3, 10, 13, 5]\n",
        "solution(n, numlist)"
      ],
      "metadata": {
        "colab": {
          "base_uri": "https://localhost:8080/"
        },
        "id": "8PMUmARRy6x2",
        "outputId": "d775c685-c424-4876-f1a2-e4bf4672ad59"
      },
      "execution_count": 4,
      "outputs": [
        {
          "output_type": "execute_result",
          "data": {
            "text/plain": [
              "[10, 5]"
            ]
          },
          "metadata": {},
          "execution_count": 4
        }
      ]
    },
    {
      "cell_type": "code",
      "source": [
        "n = 12\n",
        "numlist = [2, 100, 120, 600, 12, 12]\n",
        "solution(n, numlist)"
      ],
      "metadata": {
        "colab": {
          "base_uri": "https://localhost:8080/"
        },
        "id": "3v8Juv3yy6wG",
        "outputId": "da61d983-d716-4672-83e0-4d499de9b927"
      },
      "execution_count": 5,
      "outputs": [
        {
          "output_type": "execute_result",
          "data": {
            "text/plain": [
              "[120, 600, 12, 12]"
            ]
          },
          "metadata": {},
          "execution_count": 5
        }
      ]
    },
    {
      "cell_type": "code",
      "source": [
        "# 다른사람 풀이"
      ],
      "metadata": {
        "id": "kjZAUCJazBhB"
      },
      "execution_count": 6,
      "outputs": []
    },
    {
      "cell_type": "code",
      "source": [
        "# 이런거도 가능\n",
        "def solution(n, numlist):\n",
        "    return list(filter(lambda v: v%n==0, numlist))"
      ],
      "metadata": {
        "id": "QmUKwKvwzM4c"
      },
      "execution_count": 7,
      "outputs": []
    },
    {
      "cell_type": "code",
      "source": [
        "# 바로 넣기\n",
        "def solution(n, numlist):\n",
        "    answer = [i for i in numlist if i%n==0]\n",
        "    return answer"
      ],
      "metadata": {
        "id": "ZeowYobmzOvw"
      },
      "execution_count": 8,
      "outputs": []
    },
    {
      "cell_type": "code",
      "source": [],
      "metadata": {
        "id": "X7LYUZWqzWir"
      },
      "execution_count": null,
      "outputs": []
    }
  ]
}