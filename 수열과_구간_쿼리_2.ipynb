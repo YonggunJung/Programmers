{
  "nbformat": 4,
  "nbformat_minor": 0,
  "metadata": {
    "colab": {
      "provenance": [],
      "authorship_tag": "ABX9TyOJbmxYNUEyTOeZqx0lZ2iS",
      "include_colab_link": true
    },
    "kernelspec": {
      "name": "python3",
      "display_name": "Python 3"
    },
    "language_info": {
      "name": "python"
    }
  },
  "cells": [
    {
      "cell_type": "markdown",
      "metadata": {
        "id": "view-in-github",
        "colab_type": "text"
      },
      "source": [
        "<a href=\"https://colab.research.google.com/github/YonggunJung/Programmers/blob/main/%EC%88%98%EC%97%B4%EA%B3%BC_%EA%B5%AC%EA%B0%84_%EC%BF%BC%EB%A6%AC_2.ipynb\" target=\"_parent\"><img src=\"https://colab.research.google.com/assets/colab-badge.svg\" alt=\"Open In Colab\"/></a>"
      ]
    },
    {
      "cell_type": "code",
      "execution_count": 1,
      "metadata": {
        "id": "C5sInrFDE2TY"
      },
      "outputs": [],
      "source": [
        "# 문제 설명\n",
        "# 정수 배열 arr와 2차원 정수 배열 queries이 주어집니다.\n",
        "# queries의 원소는 각각 하나의 query를 나타내며, [s, e, k] 꼴입니다.\n",
        "\n",
        "# 각 query마다 순서대로 s ≤ i ≤ e인 모든 i에 대해\n",
        "# k보다 크면서 가장 작은 arr[i]를 찾습니다.\n",
        "\n",
        "# 각 쿼리의 순서에 맞게 답을 저장한 배열을 반환하는 solution 함수를 완성해 주세요.\n",
        "# 단, 특정 쿼리의 답이 존재하지 않으면 -1을 저장합니다.\n",
        "\n",
        "# 제한사항\n",
        "# 1 ≤ arr의 길이 ≤ 1,000\n",
        "# 0 ≤ arr의 원소 ≤ 1,000,000\n",
        "# 1 ≤ queries의 길이 ≤ 1,000\n",
        "# 0 ≤ s ≤ e < arr의 길이\n",
        "# 0 ≤ k ≤ 1,000,000\n",
        "\n",
        "# 입출력 예\n",
        "# arr\t                  queries\t                                result\n",
        "# [0, 1, 2, 4, 3]\t      [[0, 4, 2],[0, 3, 2],[0, 2, 2]]\t        [3, 4, -1]\n",
        "\n",
        "# 입출력 예 설명\n",
        "# 입출력 예 #1\n",
        "# 첫 번째 쿼리의 범위에는 0, 1, 2, 4, 3이 있으며\n",
        "# 이 중 2보다 크면서 가장 작은 값은 3입니다.\n",
        "# 두 번째 쿼리의 범위에는 0, 1, 2, 4가 있으며\n",
        "# 이 중 2보다 크면서 가장 작은 값은 4입니다.\n",
        "# 세 번째 쿼리의 범위에는 0, 1, 2가 있으며 여기에는 2보다 큰 값이 없습니다.\n",
        "# 따라서 [3, 4, -1]을 return 합니다."
      ]
    },
    {
      "cell_type": "code",
      "source": [
        "# 답이 안나옴 ㅠㅠ 이렇게 헤맨적 처음이다 와 쉬고 다시온다\n",
        "# def solution(arr, queries):\n",
        "#     answer = []\n",
        "#     for s, e, k in queries:\n",
        "#       m = []\n",
        "#       for i in range(s, e+1):\n",
        "#         if arr[i] > k:\n",
        "#           m.append(arr[i])\n",
        "#           if len(m) == 0:\n",
        "#             answer.append(-1)\n",
        "#           answer.append(min(m))\n",
        "\n",
        "    # return answer"
      ],
      "metadata": {
        "id": "FKsdh7GjFGgG"
      },
      "execution_count": 53,
      "outputs": []
    },
    {
      "cell_type": "code",
      "source": [
        "# 풀이 봄\n",
        "# 이해는 했는데 내께 왜 안되는지는 아직 모르겠음. 그럼 이해한게 아닌건가??\n",
        "def solution(arr, queries):\n",
        "    answer = []\n",
        "    for s, e, k in queries:\n",
        "        sub_arr = arr[s:e+1]\n",
        "        sub_arr.sort()\n",
        "\n",
        "        a = -1\n",
        "        for i in sub_arr:\n",
        "            if i > k:\n",
        "                a = i\n",
        "                break\n",
        "\n",
        "        answer.append(a)\n",
        "\n",
        "    return answer"
      ],
      "metadata": {
        "id": "vz-fqjGemNXh"
      },
      "execution_count": 70,
      "outputs": []
    },
    {
      "cell_type": "code",
      "source": [
        "arr = [0, 1, 2, 4, 3]\n",
        "queries = [[0, 4, 2],[0, 3, 2],[0, 2, 2]]\n",
        "solution(arr, queries)"
      ],
      "metadata": {
        "colab": {
          "base_uri": "https://localhost:8080/"
        },
        "id": "qdlxOUTZFIUk",
        "outputId": "d7b1b647-aed1-4b31-ee7c-b57776fd4474"
      },
      "execution_count": 71,
      "outputs": [
        {
          "output_type": "execute_result",
          "data": {
            "text/plain": [
              "[3, 4, -1]"
            ]
          },
          "metadata": {},
          "execution_count": 71
        }
      ]
    },
    {
      "cell_type": "code",
      "source": [
        "# 다른 사람 풀이"
      ],
      "metadata": {
        "id": "MjZlw4afFL3-"
      },
      "execution_count": 72,
      "outputs": []
    },
    {
      "cell_type": "code",
      "source": [
        "# 이거 보고 내꺼 틀린 이유 알겠음\n",
        "def solution(arr, queries):\n",
        "    answer = []\n",
        "    for (s, e, k) in queries:\n",
        "        num = int(1e9)\n",
        "        for i in range(s, e + 1):\n",
        "            if arr[i] > k:\n",
        "                num = min(num, arr[i])\n",
        "        answer.append(num if num != int(1e9) else -1)\n",
        "    return answer"
      ],
      "metadata": {
        "id": "aMKdin-xn-tb"
      },
      "execution_count": null,
      "outputs": []
    }
  ]
}