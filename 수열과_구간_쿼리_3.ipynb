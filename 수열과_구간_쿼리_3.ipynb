{
  "nbformat": 4,
  "nbformat_minor": 0,
  "metadata": {
    "colab": {
      "provenance": [],
      "authorship_tag": "ABX9TyMvi0Q3WzmyigfRrqmAMlN6",
      "include_colab_link": true
    },
    "kernelspec": {
      "name": "python3",
      "display_name": "Python 3"
    },
    "language_info": {
      "name": "python"
    }
  },
  "cells": [
    {
      "cell_type": "markdown",
      "metadata": {
        "id": "view-in-github",
        "colab_type": "text"
      },
      "source": [
        "<a href=\"https://colab.research.google.com/github/YonggunJung/Programmers/blob/main/%EC%88%98%EC%97%B4%EA%B3%BC_%EA%B5%AC%EA%B0%84_%EC%BF%BC%EB%A6%AC_3.ipynb\" target=\"_parent\"><img src=\"https://colab.research.google.com/assets/colab-badge.svg\" alt=\"Open In Colab\"/></a>"
      ]
    },
    {
      "cell_type": "code",
      "execution_count": 1,
      "metadata": {
        "id": "VMU2BWq_7S_1"
      },
      "outputs": [],
      "source": [
        "# 문제 설명\n",
        "# 정수 배열 arr와 2차원 정수 배열 queries이 주어집니다.\n",
        "# queries의 원소는 각각 하나의 query를 나타내며, [i, j] 꼴입니다.\n",
        "\n",
        "# 각 query마다 순서대로 arr[i]의 값과 arr[j]의 값을 서로 바꿉니다.\n",
        "\n",
        "# 위 규칙에 따라 queries를 처리한 이후의 arr를 return 하는\n",
        "# solution 함수를 완성해 주세요.\n",
        "\n",
        "# 제한사항\n",
        "# 1 ≤ arr의 길이 ≤ 1,000\n",
        "# 0 ≤ arr의 원소 ≤ 1,000,000\n",
        "# 1 ≤ queries의 길이 ≤ 1,000\n",
        "# 0 ≤ i < j < arr의 길이\n",
        "\n",
        "# 입출력 예\n",
        "# arr\t                queries\t                    result\n",
        "# [0, 1, 2, 3, 4]\t    [[0, 3],[1, 2],[1, 4]]\t    [3, 4, 1, 0, 2]\n",
        "\n",
        "# 입출력 예 설명\n",
        "# 입출력 예 #1\n",
        "# 각 쿼리에 따라 arr가 다음과 같이 변합니다.\n",
        "# arr\n",
        "# [0, 1, 2, 3, 4]\n",
        "# [3, 1, 2, 0, 4]\n",
        "# [3, 2, 1, 0, 4]\n",
        "# [3, 4, 1, 0, 2]\n",
        "# 따라서 [3, 4, 1, 0, 2]를 return 합니다."
      ]
    },
    {
      "cell_type": "code",
      "source": [
        "def solution(arr, queries):\n",
        "    answer = []\n",
        "    for i, j in queries:\n",
        "      a = arr[i]\n",
        "      arr[i] = arr[j]\n",
        "      arr[j] = a\n",
        "    answer = arr\n",
        "    return answer"
      ],
      "metadata": {
        "id": "lJUBfcZ08IJA"
      },
      "execution_count": 12,
      "outputs": []
    },
    {
      "cell_type": "code",
      "source": [
        "arr = [0, 1, 2, 3, 4]\n",
        "queries = [[0, 3],[1, 2],[1, 4]]\n",
        "solution(arr, queries)"
      ],
      "metadata": {
        "colab": {
          "base_uri": "https://localhost:8080/"
        },
        "id": "k6NJf-9e8Jx9",
        "outputId": "95e4525c-6930-4d5a-efdf-79b4f42b1227"
      },
      "execution_count": 13,
      "outputs": [
        {
          "output_type": "execute_result",
          "data": {
            "text/plain": [
              "[3, 4, 1, 0, 2]"
            ]
          },
          "metadata": {},
          "execution_count": 13
        }
      ]
    },
    {
      "cell_type": "code",
      "source": [
        "# 다른 사람 풀이"
      ],
      "metadata": {
        "id": "8q1bNTMA8Jth"
      },
      "execution_count": 14,
      "outputs": []
    },
    {
      "cell_type": "code",
      "source": [
        "# 이 쉬운걸 돌아 왔네\n",
        "def solution(arr, queries):\n",
        "    for a,b in queries:\n",
        "        arr[a],arr[b]=arr[b],arr[a]\n",
        "    return arr"
      ],
      "metadata": {
        "id": "sZNHnohIAuDf"
      },
      "execution_count": 15,
      "outputs": []
    },
    {
      "cell_type": "code",
      "source": [],
      "metadata": {
        "id": "mJDFS2sqA9Ge"
      },
      "execution_count": null,
      "outputs": []
    }
  ]
}