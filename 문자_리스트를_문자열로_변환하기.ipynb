{
  "nbformat": 4,
  "nbformat_minor": 0,
  "metadata": {
    "colab": {
      "provenance": [],
      "authorship_tag": "ABX9TyObUo+TT5E56Ox4wlwTq+Wx",
      "include_colab_link": true
    },
    "kernelspec": {
      "name": "python3",
      "display_name": "Python 3"
    },
    "language_info": {
      "name": "python"
    }
  },
  "cells": [
    {
      "cell_type": "markdown",
      "metadata": {
        "id": "view-in-github",
        "colab_type": "text"
      },
      "source": [
        "<a href=\"https://colab.research.google.com/github/YonggunJung/Programmers/blob/main/%EB%AC%B8%EC%9E%90_%EB%A6%AC%EC%8A%A4%ED%8A%B8%EB%A5%BC_%EB%AC%B8%EC%9E%90%EC%97%B4%EB%A1%9C_%EB%B3%80%ED%99%98%ED%95%98%EA%B8%B0.ipynb\" target=\"_parent\"><img src=\"https://colab.research.google.com/assets/colab-badge.svg\" alt=\"Open In Colab\"/></a>"
      ]
    },
    {
      "cell_type": "code",
      "execution_count": 1,
      "metadata": {
        "id": "PtzsvFPqw9cq"
      },
      "outputs": [],
      "source": [
        "# 문제 설명\n",
        "# 문자들이 담겨있는 배열 arr가 주어집니다.\n",
        "# arr의 원소들을 순서대로 이어 붙인 문자열을 return 하는 solution함수를 작성해 주세요.\n",
        "\n",
        "# 제한사항\n",
        "# 1 ≤ arr의 길이 ≤ 200\n",
        "# arr의 원소는 전부 알파벳 소문자로 이루어진 길이가 1인 문자열입니다.\n",
        "\n",
        "# 입출력 예\n",
        "# arr\t            result\n",
        "# [\"a\",\"b\",\"c\"]\t  \"abc\""
      ]
    },
    {
      "cell_type": "code",
      "source": [
        "# 5초컷\n",
        "def solution(arr):\n",
        "    answer = ''\n",
        "    for char in arr:\n",
        "      answer += char\n",
        "    return answer"
      ],
      "metadata": {
        "id": "EGEu2PS2xCmO"
      },
      "execution_count": 3,
      "outputs": []
    },
    {
      "cell_type": "code",
      "source": [
        "arr = [\"a\",\"b\",\"c\"]\n",
        "solution(arr)"
      ],
      "metadata": {
        "colab": {
          "base_uri": "https://localhost:8080/",
          "height": 35
        },
        "id": "cj8n62f4xD01",
        "outputId": "2a9ef73a-c33b-472e-a4cc-e569f57f55e0"
      },
      "execution_count": 4,
      "outputs": [
        {
          "output_type": "execute_result",
          "data": {
            "text/plain": [
              "'abc'"
            ],
            "application/vnd.google.colaboratory.intrinsic+json": {
              "type": "string"
            }
          },
          "metadata": {},
          "execution_count": 4
        }
      ]
    },
    {
      "cell_type": "code",
      "source": [
        "# 다른 사람 풀이"
      ],
      "metadata": {
        "id": "6fyEBmM7xQ0F"
      },
      "execution_count": 5,
      "outputs": []
    },
    {
      "cell_type": "code",
      "source": [
        "def solution(arr):\n",
        "    return ''.join(arr)"
      ],
      "metadata": {
        "id": "V4Di7pgmxXl1"
      },
      "execution_count": 6,
      "outputs": []
    },
    {
      "cell_type": "code",
      "source": [
        "solution = lambda l: ''.join(l)"
      ],
      "metadata": {
        "id": "3O0lI1uLxZlV"
      },
      "execution_count": 7,
      "outputs": []
    },
    {
      "cell_type": "code",
      "source": [],
      "metadata": {
        "id": "ExbUhFqIxbas"
      },
      "execution_count": null,
      "outputs": []
    }
  ]
}