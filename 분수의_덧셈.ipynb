{
  "nbformat": 4,
  "nbformat_minor": 0,
  "metadata": {
    "colab": {
      "provenance": [],
      "authorship_tag": "ABX9TyNhJl0Pj1MN5OMX90L12TgK",
      "include_colab_link": true
    },
    "kernelspec": {
      "name": "python3",
      "display_name": "Python 3"
    },
    "language_info": {
      "name": "python"
    }
  },
  "cells": [
    {
      "cell_type": "markdown",
      "metadata": {
        "id": "view-in-github",
        "colab_type": "text"
      },
      "source": [
        "<a href=\"https://colab.research.google.com/github/YonggunJung/Programmers/blob/main/%EB%B6%84%EC%88%98%EC%9D%98_%EB%8D%A7%EC%85%88.ipynb\" target=\"_parent\"><img src=\"https://colab.research.google.com/assets/colab-badge.svg\" alt=\"Open In Colab\"/></a>"
      ]
    },
    {
      "cell_type": "code",
      "execution_count": null,
      "metadata": {
        "id": "1p-KfzGcJBNJ"
      },
      "outputs": [],
      "source": [
        "# 문제 설명\n",
        "# 첫 번째 분수의 분자와 분모를 뜻하는 numer1, denom1,\n",
        "# 두 번째 분수의 분자와 분모를 뜻하는 numer2, denom2가 매개변수로 주어집니다.\n",
        "# 두 분수를 더한 값을 기약 분수로 나타냈을 때 분자와 분모를 순서대로 담은 배열을\n",
        "# return 하도록 solution 함수를 완성해보세요.\n",
        "\n",
        "# 제한사항\n",
        "# 0 <numer1, denom1, numer2, denom2 < 1,000\n",
        "\n",
        "# 입출력 예\n",
        "# numer1\tdenom1\tnumer2\tdenom2\t  result\n",
        "# 1\t        2\t      3\t      4\t      [5, 4]\n",
        "# 9\t        2\t      1\t      3\t      [29, 6]\n",
        "\n",
        "# 입출력 예 설명\n",
        "# 입출력 예 #1\n",
        "# 1 / 2 + 3 / 4 = 5 / 4입니다. 따라서 [5, 4]를 return 합니다.\n",
        "\n",
        "# 입출력 예 #2\n",
        "# 9 / 2 + 1 / 3 = 29 / 6입니다. 따라서 [29, 6]을 return 합니다."
      ]
    },
    {
      "cell_type": "code",
      "source": [
        "def solution(numer1, denom1, numer2, denom2):\n",
        "    a = (numer1 * denom2) + (numer2 * denom1)\n",
        "    b = denom1 * denom2\n",
        "    for i in reversed(range(1, min(a, b)+1)):\n",
        "      if a % i == 0 and b % i == 0:\n",
        "        a, b = a // i, b // i\n",
        "        break\n",
        "\n",
        "    answer = [a, b]\n",
        "    return answer\n",
        "\n",
        "# reversed(range(1, min(a, b)+1)) 이거랑\n",
        "# range(min(a, b), 0) 이게 어떻게 다른지 모르겠음"
      ],
      "metadata": {
        "id": "13MMq8pxJ7et"
      },
      "execution_count": 9,
      "outputs": []
    },
    {
      "cell_type": "code",
      "source": [
        "numer1 = 1\n",
        "denom1 = 2\n",
        "numer2 = 3\n",
        "denom2 = 4\n",
        "solution(numer1, denom1, numer2, denom2)"
      ],
      "metadata": {
        "colab": {
          "base_uri": "https://localhost:8080/"
        },
        "id": "XkR6XCP3LzZh",
        "outputId": "2981fdc4-8f07-4631-e6b9-e7f5d782f635"
      },
      "execution_count": 10,
      "outputs": [
        {
          "output_type": "execute_result",
          "data": {
            "text/plain": [
              "[5, 4]"
            ]
          },
          "metadata": {},
          "execution_count": 10
        }
      ]
    },
    {
      "cell_type": "code",
      "source": [
        "numer1 = 9\n",
        "denom1 = 2\n",
        "numer2 = 1\n",
        "denom2 = 3\n",
        "solution(numer1, denom1, numer2, denom2)"
      ],
      "metadata": {
        "colab": {
          "base_uri": "https://localhost:8080/"
        },
        "id": "kkCaxdwwMARR",
        "outputId": "81aebef2-b1d8-4069-c63c-5effb511c64a"
      },
      "execution_count": 11,
      "outputs": [
        {
          "output_type": "execute_result",
          "data": {
            "text/plain": [
              "[29, 6]"
            ]
          },
          "metadata": {},
          "execution_count": 11
        }
      ]
    },
    {
      "cell_type": "code",
      "source": [
        "# 다른 사람 풀이"
      ],
      "metadata": {
        "id": "6mq0bRN-MAyy"
      },
      "execution_count": 15,
      "outputs": []
    },
    {
      "cell_type": "code",
      "source": [
        "# 최소 공배수 이용해서 조아써\n",
        "import math\n",
        "\n",
        "def solution(denum1, num1, denum2, num2):\n",
        "    denum = denum1 * num2 + denum2 * num1\n",
        "    num = num1 * num2\n",
        "    gcd = math.gcd(denum, num)\n",
        "    return [denum//gcd, num//gcd]"
      ],
      "metadata": {
        "id": "ToK79VtTcRbk"
      },
      "execution_count": 16,
      "outputs": []
    },
    {
      "cell_type": "code",
      "source": [
        "# 신기한 Fraction()함수 등장\n",
        "from fractions import Fraction\n",
        "\n",
        "def solution(denum1, num1, denum2, num2):\n",
        "    answer = Fraction(denum1, num1) + Fraction(denum2, num2)\n",
        "    return [answer.numerator, answer.denominator]"
      ],
      "metadata": {
        "id": "ZWWV4PiqcXQT"
      },
      "execution_count": 17,
      "outputs": []
    },
    {
      "cell_type": "code",
      "source": [],
      "metadata": {
        "id": "9WyiktSbclUS"
      },
      "execution_count": null,
      "outputs": []
    }
  ]
}