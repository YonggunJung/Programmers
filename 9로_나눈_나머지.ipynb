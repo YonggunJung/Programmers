{
  "nbformat": 4,
  "nbformat_minor": 0,
  "metadata": {
    "colab": {
      "provenance": [],
      "authorship_tag": "ABX9TyMq98CBbm7CB7tj/8MgXm7h",
      "include_colab_link": true
    },
    "kernelspec": {
      "name": "python3",
      "display_name": "Python 3"
    },
    "language_info": {
      "name": "python"
    }
  },
  "cells": [
    {
      "cell_type": "markdown",
      "metadata": {
        "id": "view-in-github",
        "colab_type": "text"
      },
      "source": [
        "<a href=\"https://colab.research.google.com/github/YonggunJung/Programmers/blob/main/9%EB%A1%9C_%EB%82%98%EB%88%88_%EB%82%98%EB%A8%B8%EC%A7%80.ipynb\" target=\"_parent\"><img src=\"https://colab.research.google.com/assets/colab-badge.svg\" alt=\"Open In Colab\"/></a>"
      ]
    },
    {
      "cell_type": "code",
      "execution_count": 1,
      "metadata": {
        "id": "s9EZBLjofBt2"
      },
      "outputs": [],
      "source": [
        "# 문제 설명\n",
        "# 음이 아닌 정수를 9로 나눈 나머지는\n",
        "# 그 정수의 각 자리 숫자의 합을 9로 나눈 나머지와 같은 것이 알려져 있습니다.\n",
        "# 이 사실을 이용하여 음이 아닌 정수가 문자열 number로 주어질 때,\n",
        "# 이 정수를 9로 나눈 나머지를 return 하는 solution 함수를 작성해주세요.\n",
        "\n",
        "# 제한사항\n",
        "# 1 ≤ number의 길이 ≤ 100,000\n",
        "# number의 원소는 숫자로만 이루어져 있습니다.\n",
        "# number는 정수 0이 아니라면 숫자 '0'으로 시작하지 않습니다.\n",
        "\n",
        "# 입출력 예\n",
        "# number\t                          result\n",
        "# \"123\"\t                              6\n",
        "# \"78720646226947352489\"\t            2\n",
        "\n",
        "# 입출력 예 설명\n",
        "# 입출력 예 #1\n",
        "# 예제 1번의 number는 123으로 각 자리 숫자의 합은 6입니다.\n",
        "# 6을 9로 나눈 나머지는 6이고, 실제로 123 = 9 × 13 + 6입니다.\n",
        "# 따라서 6을 return 합니다.\n",
        "\n",
        "# 입출력 예 #2\n",
        "# 예제 2번의 number는 78720646226947352489으로 각자리 숫자의 합은 101입니다.\n",
        "# 101을 9로 나눈 나머지는 2이고,\n",
        "# 실제로 78720646226947352489 = 9 × 8746738469660816943 + 2입니다.\n",
        "# 따라서 2를 return 합니다."
      ]
    },
    {
      "cell_type": "code",
      "source": [
        "# 원한게 이건 아니겠지만 됐네 ㅋㅋㅋ\n",
        "def solution(number):\n",
        "    answer = int(number) % 9\n",
        "    return answer"
      ],
      "metadata": {
        "id": "dkUwUD3_fOnE"
      },
      "execution_count": 8,
      "outputs": []
    },
    {
      "cell_type": "code",
      "source": [
        "# 원하는대로 풀어봄\n",
        "def solution(number):\n",
        "    s = 0\n",
        "    for i in number:\n",
        "      s += int(i)\n",
        "    answer = s % 9\n",
        "    return answer"
      ],
      "metadata": {
        "id": "-r3IFUzXgMNZ"
      },
      "execution_count": 13,
      "outputs": []
    },
    {
      "cell_type": "code",
      "source": [
        "number = \"123\"\n",
        "solution(number)"
      ],
      "metadata": {
        "colab": {
          "base_uri": "https://localhost:8080/"
        },
        "id": "R9HVy3aXfPw6",
        "outputId": "1bca7dd9-f494-4db6-9e90-0dfbc5debecf"
      },
      "execution_count": 14,
      "outputs": [
        {
          "output_type": "execute_result",
          "data": {
            "text/plain": [
              "6"
            ]
          },
          "metadata": {},
          "execution_count": 14
        }
      ]
    },
    {
      "cell_type": "code",
      "source": [
        "number = \"78720646226947352489\"\n",
        "solution(number)"
      ],
      "metadata": {
        "colab": {
          "base_uri": "https://localhost:8080/"
        },
        "id": "1Odftt7qfS7A",
        "outputId": "08554822-be0f-4b9d-ba3c-60d04094e5de"
      },
      "execution_count": 15,
      "outputs": [
        {
          "output_type": "execute_result",
          "data": {
            "text/plain": [
              "2"
            ]
          },
          "metadata": {},
          "execution_count": 15
        }
      ]
    },
    {
      "cell_type": "code",
      "source": [
        "# 다른 사람 풀이"
      ],
      "metadata": {
        "id": "FPGUbQQ7fS28"
      },
      "execution_count": 16,
      "outputs": []
    },
    {
      "cell_type": "code",
      "source": [
        "# 신박한건 안보임"
      ],
      "metadata": {
        "id": "RCPyoMcUg1uc"
      },
      "execution_count": null,
      "outputs": []
    }
  ]
}