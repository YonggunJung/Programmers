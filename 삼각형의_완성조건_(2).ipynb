{
  "nbformat": 4,
  "nbformat_minor": 0,
  "metadata": {
    "colab": {
      "provenance": [],
      "authorship_tag": "ABX9TyOQJXFE1aGSZxAbiVO0x2aF",
      "include_colab_link": true
    },
    "kernelspec": {
      "name": "python3",
      "display_name": "Python 3"
    },
    "language_info": {
      "name": "python"
    }
  },
  "cells": [
    {
      "cell_type": "markdown",
      "metadata": {
        "id": "view-in-github",
        "colab_type": "text"
      },
      "source": [
        "<a href=\"https://colab.research.google.com/github/YonggunJung/Programmers/blob/main/%EC%82%BC%EA%B0%81%ED%98%95%EC%9D%98_%EC%99%84%EC%84%B1%EC%A1%B0%EA%B1%B4_(2).ipynb\" target=\"_parent\"><img src=\"https://colab.research.google.com/assets/colab-badge.svg\" alt=\"Open In Colab\"/></a>"
      ]
    },
    {
      "cell_type": "code",
      "execution_count": 1,
      "metadata": {
        "id": "I0E6Y41y39Pz"
      },
      "outputs": [],
      "source": [
        "# 문제 설명\n",
        "# 선분 세 개로 삼각형을 만들기 위해서는 다음과 같은 조건을 만족해야 합니다.\n",
        "# 가장 긴 변의 길이는 다른 두 변의 길이의 합보다 작아야 합니다.\n",
        "# 삼각형의 두 변의 길이가 담긴 배열 sides이 매개변수로 주어집니다.\n",
        "# 나머지 한 변이 될 수 있는 정수의 개수를 return하도록 solution 함수를 완성해주세요.\n",
        "\n",
        "# 제한사항\n",
        "# sides의 원소는 자연수입니다.\n",
        "# sides의 길이는 2입니다.\n",
        "# 1 ≤ sides의 원소 ≤ 1,000\n",
        "\n",
        "# 입출력 예\n",
        "# sides\t      result\n",
        "# [1, 2]\t      1\n",
        "# [3, 6]\t      5\n",
        "# [11, 7]\t      13\n",
        "\n",
        "# 입출력 예 설명\n",
        "# 입출력 예 #1\n",
        "# 두 변이 1, 2 인 경우 삼각형을 완성시키려면 나머지 한 변이 2여야 합니다. 따라서 1을 return합니다.\n",
        "\n",
        "# 입출력 예 #2\n",
        "# 가장 긴 변이 6인 경우\n",
        "# 될 수 있는 나머지 한 변은 4, 5, 6 로 3개입니다.\n",
        "# 나머지 한 변이 가장 긴 변인 경우\n",
        "# 될 수 있는 한 변은 7, 8 로 2개입니다.\n",
        "# 따라서 3 + 2 = 5를 return합니다.\n",
        "\n",
        "# 입출력 예 #3\n",
        "# 가장 긴 변이 11인 경우\n",
        "# 될 수 있는 나머지 한 변은 5, 6, 7, 8, 9, 10, 11 로 7개입니다.\n",
        "# 나머지 한 변이 가장 긴 변인 경우\n",
        "# 될 수 있는 한 변은 12, 13, 14, 15, 16, 17 로 6개입니다.\n",
        "# 따라서 7 + 6 = 13을 return합니다."
      ]
    },
    {
      "cell_type": "code",
      "source": [
        "# 간만에 혼자 품\n",
        "# 조금 조잡하긴 하지만, 그래도 뿌듯\n",
        "def solution(sides):\n",
        "    answer = 0\n",
        "    for i in range(1, min(sides)+max(sides)):\n",
        "      if max(sides) >= i:\n",
        "        if min(sides) + i > max(sides):\n",
        "          answer += 1\n",
        "      elif max(sides) < i:\n",
        "        if min(sides) + max(sides) > i:\n",
        "          answer += 1\n",
        "\n",
        "\n",
        "    return answer"
      ],
      "metadata": {
        "id": "hkfyzJAC4Ho9"
      },
      "execution_count": 42,
      "outputs": []
    },
    {
      "cell_type": "code",
      "source": [
        "sides = [1, 2]\n",
        "solution(sides)"
      ],
      "metadata": {
        "colab": {
          "base_uri": "https://localhost:8080/"
        },
        "id": "659Oys3p4JnH",
        "outputId": "e46a4e84-5f5d-48da-d690-6aeb72f51389"
      },
      "execution_count": 43,
      "outputs": [
        {
          "output_type": "execute_result",
          "data": {
            "text/plain": [
              "1"
            ]
          },
          "metadata": {},
          "execution_count": 43
        }
      ]
    },
    {
      "cell_type": "code",
      "source": [
        "sides = [3, 6]\n",
        "solution(sides)"
      ],
      "metadata": {
        "colab": {
          "base_uri": "https://localhost:8080/"
        },
        "id": "919Q_1rH4Jkw",
        "outputId": "fd0696bd-27a7-455d-8fda-91a4db8d3f00"
      },
      "execution_count": 44,
      "outputs": [
        {
          "output_type": "execute_result",
          "data": {
            "text/plain": [
              "5"
            ]
          },
          "metadata": {},
          "execution_count": 44
        }
      ]
    },
    {
      "cell_type": "code",
      "source": [
        "sides = [11, 7]\n",
        "answer = 0\n",
        "\n",
        "solution(sides)"
      ],
      "metadata": {
        "colab": {
          "base_uri": "https://localhost:8080/"
        },
        "id": "2j-8vle-4K7b",
        "outputId": "87bf85e3-9553-448e-94b7-258a577c8f5f"
      },
      "execution_count": 45,
      "outputs": [
        {
          "output_type": "execute_result",
          "data": {
            "text/plain": [
              "13"
            ]
          },
          "metadata": {},
          "execution_count": 45
        }
      ]
    },
    {
      "cell_type": "code",
      "source": [
        "# 다른사람 풀이"
      ],
      "metadata": {
        "id": "OiPZ7YC64Jih"
      },
      "execution_count": 46,
      "outputs": []
    },
    {
      "cell_type": "code",
      "source": [
        "# 약간 현타 오지만 이렇게도 되는구나\n",
        "# 공식 같은 느낌이네\n",
        "def solution(sides):\n",
        "    return sum(sides) - max(sides) + min(sides) - 1"
      ],
      "metadata": {
        "id": "c-A252aQFfIh"
      },
      "execution_count": 47,
      "outputs": []
    },
    {
      "cell_type": "code",
      "source": [
        "# 이거도 공식 같은 느낌\n",
        "# 수학시간이 생각나네\n",
        "def solution(sides):\n",
        "    return 2 * min(sides) - 1"
      ],
      "metadata": {
        "id": "kfWmNS9hF6uh"
      },
      "execution_count": 48,
      "outputs": []
    },
    {
      "cell_type": "code",
      "source": [],
      "metadata": {
        "id": "BsUH-BI9GC7e"
      },
      "execution_count": null,
      "outputs": []
    }
  ]
}