{
  "nbformat": 4,
  "nbformat_minor": 0,
  "metadata": {
    "colab": {
      "provenance": [],
      "authorship_tag": "ABX9TyOo31EL6odG4dK8eRCpr8Xi",
      "include_colab_link": true
    },
    "kernelspec": {
      "name": "python3",
      "display_name": "Python 3"
    },
    "language_info": {
      "name": "python"
    }
  },
  "cells": [
    {
      "cell_type": "markdown",
      "metadata": {
        "id": "view-in-github",
        "colab_type": "text"
      },
      "source": [
        "<a href=\"https://colab.research.google.com/github/YonggunJung/Programmers/blob/main/%ED%96%84%EB%B2%84%EA%B1%B0_%EB%A7%8C%EB%93%A4%EA%B8%B0.ipynb\" target=\"_parent\"><img src=\"https://colab.research.google.com/assets/colab-badge.svg\" alt=\"Open In Colab\"/></a>"
      ]
    },
    {
      "cell_type": "code",
      "execution_count": 1,
      "metadata": {
        "id": "jvx1GJt_dxMp"
      },
      "outputs": [],
      "source": [
        "# 문제 설명\n",
        "# 햄버거 가게에서 일을 하는 상수는 햄버거를 포장하는 일을 합니다.\n",
        "# 함께 일을 하는 다른 직원들이 햄버거에 들어갈 재료를 조리해 주면\n",
        "# 조리된 순서대로 상수의 앞에 아래서부터 위로 쌓이게 되고,\n",
        "# 상수는 순서에 맞게 쌓여서 완성된 햄버거를 따로 옮겨 포장을 하게 됩니다.\n",
        "# 상수가 일하는 가게는 정해진 순서(아래서부터, 빵 – 야채 – 고기 - 빵)로\n",
        "# 쌓인 햄버거만 포장을 합니다.\n",
        "# 상수는 손이 굉장히 빠르기 때문에\n",
        "# 상수가 포장하는 동안 속 재료가 추가적으로 들어오는 일은 없으며,\n",
        "# 재료의 높이는 무시하여 재료가 높이 쌓여서 일이 힘들어지는 경우는 없습니다.\n",
        "\n",
        "# 예를 들어, 상수의 앞에 쌓이는 재료의 순서가 [야채, 빵, 빵, 야채, 고기, 빵, 야채, 고기, 빵]일 때,\n",
        "# 상수는 여섯 번째 재료가 쌓였을 때,\n",
        "# 세 번째 재료부터 여섯 번째 재료를 이용하여 햄버거를 포장하고,\n",
        "# 아홉 번째 재료가 쌓였을 때, 두 번째 재료와 일곱 번째 재료부터\n",
        "# 아홉 번째 재료를 이용하여 햄버거를 포장합니다.\n",
        "# 즉, 2개의 햄버거를 포장하게 됩니다.\n",
        "\n",
        "# 상수에게 전해지는 재료의 정보를 나타내는 정수 배열 ingredient가 주어졌을 때,\n",
        "# 상수가 포장하는 햄버거의 개수를 return 하도록 solution 함수를 완성하시오.\n",
        "\n",
        "# 제한사항\n",
        "# 1 ≤ ingredient의 길이 ≤ 1,000,000\n",
        "# ingredient의 원소는 1, 2, 3 중 하나의 값이며,\n",
        "# 순서대로 빵, 야채, 고기를 의미합니다.\n",
        "\n",
        "# 입출력 예\n",
        "# ingredient\t                    result\n",
        "# [2, 1, 1, 2, 3, 1, 2, 3, 1]\t      2\n",
        "# [1, 3, 2, 1, 2, 1, 3, 1, 2]\t      0\n",
        "\n",
        "# 입출력 예 설명\n",
        "# 입출력 예 #1\n",
        "# 문제 예시와 같습니다.\n",
        "\n",
        "# 입출력 예 #2\n",
        "# 상수가 포장할 수 있는 햄버거가 없습니다."
      ]
    },
    {
      "cell_type": "code",
      "source": [
        "def solution(ingredient):\n",
        "    answer = 0\n",
        "    a = []\n",
        "    for num in ingredient:\n",
        "        a.append(num)\n",
        "        if len(a) >=4 and a[-1] == 1 and a[-2] == 3 and a[-3] == 2 and a[-4] == 1:\n",
        "            a.pop()\n",
        "            a.pop()\n",
        "            a.pop()\n",
        "            a.pop()\n",
        "            answer += 1\n",
        "    return answer"
      ],
      "metadata": {
        "id": "Q8DaSEZhd93E"
      },
      "execution_count": 4,
      "outputs": []
    },
    {
      "cell_type": "code",
      "source": [
        "\n",
        "# 다른사람 풀이\n",
        "#  이렇게가 되는구나 하나 배워쓰\n",
        "def solution(ingredient):\n",
        "    s = []\n",
        "    cnt = 0\n",
        "    for i in ingredient:\n",
        "        s.append(i)\n",
        "        if s[-4:] == [1, 2, 3, 1]:\n",
        "            cnt += 1\n",
        "            for i in range(4):\n",
        "                s.pop()\n",
        "    return cnt"
      ],
      "metadata": {
        "id": "Ta6kFzboeKU2"
      },
      "execution_count": null,
      "outputs": []
    }
  ]
}