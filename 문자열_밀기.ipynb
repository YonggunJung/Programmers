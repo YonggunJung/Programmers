{
  "nbformat": 4,
  "nbformat_minor": 0,
  "metadata": {
    "colab": {
      "provenance": [],
      "authorship_tag": "ABX9TyOD23dSKB2j+NXvUMWQCpSP",
      "include_colab_link": true
    },
    "kernelspec": {
      "name": "python3",
      "display_name": "Python 3"
    },
    "language_info": {
      "name": "python"
    }
  },
  "cells": [
    {
      "cell_type": "markdown",
      "metadata": {
        "id": "view-in-github",
        "colab_type": "text"
      },
      "source": [
        "<a href=\"https://colab.research.google.com/github/YonggunJung/Programmers/blob/main/%EB%AC%B8%EC%9E%90%EC%97%B4_%EB%B0%80%EA%B8%B0.ipynb\" target=\"_parent\"><img src=\"https://colab.research.google.com/assets/colab-badge.svg\" alt=\"Open In Colab\"/></a>"
      ]
    },
    {
      "cell_type": "code",
      "execution_count": 1,
      "metadata": {
        "id": "y8l9bA6MKdVn"
      },
      "outputs": [],
      "source": [
        "# 문제 설명\n",
        "# 문자열 \"hello\"에서 각 문자를 오른쪽으로 한 칸씩 밀고\n",
        "# 마지막 문자는 맨 앞으로 이동시키면 \"ohell\"이 됩니다.\n",
        "# 이것을 문자열을 민다고 정의한다면 문자열 A와 B가 매개변수로 주어질 때,\n",
        "# A를 밀어서 B가 될 수 있다면 밀어야 하는 최소 횟수를 return하고\n",
        "# 밀어서 B가 될 수 없으면 -1을 return 하도록 solution 함수를 완성해보세요.\n",
        "\n",
        "# 제한사항\n",
        "# 0 < A의 길이 = B의 길이 < 100\n",
        "# A, B는 알파벳 소문자로 이루어져 있습니다.\n",
        "\n",
        "# 입출력 예\n",
        "# A\t          B\t           result\n",
        "# \"hello\"\t    \"ohell\"     \t 1\n",
        "# \"apple\"\t    \"elppa\"     \t-1\n",
        "# \"atat\"\t    \"tata\"\t       1\n",
        "# \"abc\"\t      \"abc\"\t         0\n",
        "\n",
        "# 입출력 예 설명\n",
        "# 입출력 예 #1\n",
        "# \"hello\"를 오른쪽으로 한 칸 밀면 \"ohell\"가 됩니다.\n",
        "\n",
        "# 입출력 예 #2\n",
        "# \"apple\"은 몇 번을 밀어도 \"elppa\"가 될 수 없습니다.\n",
        "\n",
        "# 입출력 예 #3\n",
        "# \"atat\"는 오른쪽으로 한 칸, 세 칸을 밀면 \"tata\"가 되므로 최소 횟수인 1을 반환합니다.\n",
        "\n",
        "# 입출력 예 #4\n",
        "# \"abc\"는 밀지 않아도 \"abc\"이므로 0을 반환합니다."
      ]
    },
    {
      "cell_type": "code",
      "source": [
        "# 와 이 간단한 코드로 생 쑈를했네\n",
        "# 그래도 내가 생각하지 못했던 부분을 알게 됨\n",
        "def solution(A, B):\n",
        "    for i in range(len(A)):\n",
        "      if A == B:\n",
        "        return i\n",
        "      A = A[-1] + A[:-1]\n",
        "    return -1"
      ],
      "metadata": {
        "id": "TDUqri7hK1KO"
      },
      "execution_count": 133,
      "outputs": []
    },
    {
      "cell_type": "code",
      "source": [
        "A = \"hello\"\n",
        "B = \"ohell\"\n",
        "solution(A, B)"
      ],
      "metadata": {
        "colab": {
          "base_uri": "https://localhost:8080/"
        },
        "id": "XDsDAQoYK5V1",
        "outputId": "45956b9a-a381-4bcc-fd10-e4f9204ac835"
      },
      "execution_count": 134,
      "outputs": [
        {
          "output_type": "execute_result",
          "data": {
            "text/plain": [
              "1"
            ]
          },
          "metadata": {},
          "execution_count": 134
        }
      ]
    },
    {
      "cell_type": "code",
      "source": [
        "A = \"apple\"\n",
        "B = \"elppa\"\n",
        "solution(A, B)"
      ],
      "metadata": {
        "colab": {
          "base_uri": "https://localhost:8080/"
        },
        "id": "_5-EZnaeK9nK",
        "outputId": "ac1dc339-fe28-4610-d22a-090c9c0fa698"
      },
      "execution_count": 135,
      "outputs": [
        {
          "output_type": "execute_result",
          "data": {
            "text/plain": [
              "-1"
            ]
          },
          "metadata": {},
          "execution_count": 135
        }
      ]
    },
    {
      "cell_type": "code",
      "source": [
        "A = \"atat\"\n",
        "B = \"tata\"\n",
        "solution(A, B)"
      ],
      "metadata": {
        "colab": {
          "base_uri": "https://localhost:8080/"
        },
        "id": "fVj6KhATK9jX",
        "outputId": "31ccf0cb-1985-4ada-a705-04af877d6886"
      },
      "execution_count": 136,
      "outputs": [
        {
          "output_type": "execute_result",
          "data": {
            "text/plain": [
              "1"
            ]
          },
          "metadata": {},
          "execution_count": 136
        }
      ]
    },
    {
      "cell_type": "code",
      "source": [
        "A = \"abc\"\n",
        "B = \"abc\"\n",
        "solution(A, B)"
      ],
      "metadata": {
        "colab": {
          "base_uri": "https://localhost:8080/"
        },
        "id": "jHGFDkWbK9fO",
        "outputId": "a1af0885-234b-4b8e-d5c1-fbfe217ec57c"
      },
      "execution_count": 137,
      "outputs": [
        {
          "output_type": "execute_result",
          "data": {
            "text/plain": [
              "0"
            ]
          },
          "metadata": {},
          "execution_count": 137
        }
      ]
    },
    {
      "cell_type": "code",
      "source": [
        "# 다른 사람 풀이"
      ],
      "metadata": {
        "id": "DROFUk0cK9cp"
      },
      "execution_count": 138,
      "outputs": []
    },
    {
      "cell_type": "code",
      "source": [
        "# 뭔지도 모를 전혀 이해안가는 한줄 코드 ...\n",
        "solution=lambda a,b:(b*2).find(a)"
      ],
      "metadata": {
        "id": "bvI5RFWRbm3s"
      },
      "execution_count": 139,
      "outputs": []
    },
    {
      "cell_type": "code",
      "source": [
        "# deque()함수 알아야 더 잘푼다\n",
        "# 파이썬이든 수학이든 화이팅하자\n",
        "from collections import deque\n",
        "\n",
        "def solution(A, B):\n",
        "    a, b = deque(A), deque(B)\n",
        "    for cnt in range(0, len(A)):\n",
        "        if a == b:\n",
        "            return cnt\n",
        "        a.rotate(1)\n",
        "    return -1"
      ],
      "metadata": {
        "id": "Uo5poAP1bq7K"
      },
      "execution_count": null,
      "outputs": []
    }
  ]
}