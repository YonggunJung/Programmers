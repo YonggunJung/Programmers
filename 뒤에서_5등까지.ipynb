{
  "nbformat": 4,
  "nbformat_minor": 0,
  "metadata": {
    "colab": {
      "provenance": [],
      "authorship_tag": "ABX9TyPwe6EcBZWh5tE9F3fLu4uC",
      "include_colab_link": true
    },
    "kernelspec": {
      "name": "python3",
      "display_name": "Python 3"
    },
    "language_info": {
      "name": "python"
    }
  },
  "cells": [
    {
      "cell_type": "markdown",
      "metadata": {
        "id": "view-in-github",
        "colab_type": "text"
      },
      "source": [
        "<a href=\"https://colab.research.google.com/github/YonggunJung/Programmers/blob/main/%EB%92%A4%EC%97%90%EC%84%9C_5%EB%93%B1%EA%B9%8C%EC%A7%80.ipynb\" target=\"_parent\"><img src=\"https://colab.research.google.com/assets/colab-badge.svg\" alt=\"Open In Colab\"/></a>"
      ]
    },
    {
      "cell_type": "code",
      "execution_count": 1,
      "metadata": {
        "id": "MsLOx_QDjSF1"
      },
      "outputs": [],
      "source": [
        "# 문제 설명\n",
        "# 정수로 이루어진 리스트 num_list가 주어집니다.\n",
        "# num_list에서 가장 작은 5개의 수를 오름차순으로 담은 리스트를\n",
        "# return하도록 solution 함수를 완성해주세요.\n",
        "\n",
        "# 제한사항\n",
        "# 6 ≤ num_list의 길이 ≤ 30\n",
        "# 1 ≤ num_list의 원소 ≤ 100\n",
        "\n",
        "# 입출력 예\n",
        "# num_list\t                          result\n",
        "# [12, 4, 15, 46, 38, 1, 14]\t        [1, 4, 12, 14, 15]\n",
        "\n",
        "# 입출력 예 설명\n",
        "# 입출력 예 #1\n",
        "# [12, 4, 15, 46, 38, 1, 14]를 정렬하면 [1, 4, 12, 14, 15, 38, 46]이 되고,\n",
        "# 앞에서 부터 5개를 고르면 [1, 4, 12, 14, 15]가 됩니다."
      ]
    },
    {
      "cell_type": "code",
      "source": [
        "# 갑자기 너무 쉬워짐\n",
        "def solution(num_list):\n",
        "    num_list.sort()\n",
        "    answer = num_list[:5]\n",
        "\n",
        "    return answer"
      ],
      "metadata": {
        "id": "qKxFXZaZjdfb"
      },
      "execution_count": 3,
      "outputs": []
    },
    {
      "cell_type": "code",
      "source": [
        "num_list = [12, 4, 15, 46, 38, 1, 14]\n",
        "solution(num_list)"
      ],
      "metadata": {
        "colab": {
          "base_uri": "https://localhost:8080/"
        },
        "id": "fQ-slqA6jgbR",
        "outputId": "a3d97c29-adb7-4b31-9326-ee538d278e29"
      },
      "execution_count": 4,
      "outputs": [
        {
          "output_type": "execute_result",
          "data": {
            "text/plain": [
              "[1, 4, 12, 14, 15]"
            ]
          },
          "metadata": {},
          "execution_count": 4
        }
      ]
    },
    {
      "cell_type": "code",
      "source": [
        "# 다른 사람 풀이"
      ],
      "metadata": {
        "id": "UDMxD4EojyC8"
      },
      "execution_count": 5,
      "outputs": []
    },
    {
      "cell_type": "code",
      "source": [
        "# 이렇게도 가능\n",
        "def solution(num_list):\n",
        "    return sorted(num_list)[:5]"
      ],
      "metadata": {
        "id": "GG7eMXYGj5Bb"
      },
      "execution_count": 6,
      "outputs": []
    },
    {
      "cell_type": "code",
      "source": [],
      "metadata": {
        "id": "-apMkIJnj6w6"
      },
      "execution_count": null,
      "outputs": []
    }
  ]
}