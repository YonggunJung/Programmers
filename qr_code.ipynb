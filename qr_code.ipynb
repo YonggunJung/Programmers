{
  "nbformat": 4,
  "nbformat_minor": 0,
  "metadata": {
    "colab": {
      "provenance": [],
      "authorship_tag": "ABX9TyOJlH+ItIUR+JBjl0Brmp34",
      "include_colab_link": true
    },
    "kernelspec": {
      "name": "python3",
      "display_name": "Python 3"
    },
    "language_info": {
      "name": "python"
    }
  },
  "cells": [
    {
      "cell_type": "markdown",
      "metadata": {
        "id": "view-in-github",
        "colab_type": "text"
      },
      "source": [
        "<a href=\"https://colab.research.google.com/github/YonggunJung/Programmers/blob/main/qr_code.ipynb\" target=\"_parent\"><img src=\"https://colab.research.google.com/assets/colab-badge.svg\" alt=\"Open In Colab\"/></a>"
      ]
    },
    {
      "cell_type": "code",
      "execution_count": 1,
      "metadata": {
        "id": "mcbShUyVCHB9"
      },
      "outputs": [],
      "source": [
        "# 문제 설명\n",
        "# 두 정수 q, r과 문자열 code가 주어질 때,\n",
        "# code의 각 인덱스를 q로 나누었을 때 나머지가 r인 위치의 문자를 앞에서부터\n",
        "# 순서대로 이어 붙인 문자열을 return 하는 solution 함수를 작성해 주세요.\n",
        "\n",
        "# 제한사항\n",
        "# 0 ≤ r < q ≤ 20\n",
        "# r < code의 길이 ≤ 1,000\n",
        "# code는 영소문자로만 이루어져 있습니다.\n",
        "\n",
        "# 입출력 예\n",
        "# q\t    r\t    code\t                    result\n",
        "# 3\t    1\t    \"qjnwezgrpirldywt\"\t      \"jerry\"\n",
        "# 1\t    0\t    \"programmers\"\t            \"programmers\"\n",
        "\n",
        "# 입출력 예 설명\n",
        "# 입출력 예 #1\n",
        "# 예제 1번의 q와 r은 각각 3, 1이고\n",
        "# 인덱스와 그 값을 q로 나눈 나머지가 잘 보이도록 표로 만들면 다음과 같습니다.\n",
        "# code\t            q\t j\tn\t w\te\t z\t g\tr\t p\ti\t r\t l\t d\t y\t w\t t\n",
        "# index\t            0\t 1\t2\t 3\t4\t 5\t 6\t7\t 8\t9\t 10\t 11\t 12\t 13\t 14\t 15\n",
        "# q로 나눈 나머지\t  0  1\t2\t 0\t1\t 2\t 0\t1\t 2\t0\t 1\t 2\t 0\t 1\t 2\t 0\n",
        "# q로 나눈 나머지가 1인 인덱스의 문자들을\n",
        "# 앞에서부터 순서대로 이어 붙이면 \"jerry\"가 되므로 이를 return 합니다.\n",
        "\n",
        "# 입출력 예 #2\n",
        "# 예제 2번의 q와 r은 각각 1, 0이고\n",
        "# 인덱스와 그 값을 q로 나눈 나머지가 잘 보이도록 표로 만들면 다음과 같습니다.\n",
        "\n",
        "# code\t                p\tr\to\tg\tr\ta\tm\tm\te\tr\ts\n",
        "# index\t                0\t1\t2\t3\t4\t5\t6\t7\t8\t9\t10\n",
        "# q로 나눈 나머지\t      0\t0\t0\t0\t0\t0\t0\t0\t0\t0\t0\n",
        "# q로 나눈 나머지가 1인 인덱스의 문자들을\n",
        "# 앞에서부터 순서대로 이어 붙이면 \"programmers\"가 되므로 이를 return 합니다."
      ]
    },
    {
      "cell_type": "code",
      "source": [
        "def solution(q, r, code):\n",
        "    answer = ''\n",
        "    for i in range(len(code)):\n",
        "      if i % q == r:\n",
        "        answer += code[i]\n",
        "    return answer"
      ],
      "metadata": {
        "id": "xqABaZ2WDkZX"
      },
      "execution_count": 2,
      "outputs": []
    },
    {
      "cell_type": "code",
      "source": [
        "q = 3\n",
        "r = 1\n",
        "code = \t\"qjnwezgrpirldywt\"\n",
        "solution(q, r, code)"
      ],
      "metadata": {
        "colab": {
          "base_uri": "https://localhost:8080/",
          "height": 35
        },
        "id": "WsjpugVHC5fG",
        "outputId": "6738acbc-8c64-4c85-f9f2-7a204694850f"
      },
      "execution_count": 3,
      "outputs": [
        {
          "output_type": "execute_result",
          "data": {
            "text/plain": [
              "'jerry'"
            ],
            "application/vnd.google.colaboratory.intrinsic+json": {
              "type": "string"
            }
          },
          "metadata": {},
          "execution_count": 3
        }
      ]
    },
    {
      "cell_type": "code",
      "source": [
        "q = 1\n",
        "r = 0\n",
        "code = \"programmers\"\n",
        "solution(q, r, code)"
      ],
      "metadata": {
        "colab": {
          "base_uri": "https://localhost:8080/",
          "height": 35
        },
        "id": "6NOExD6ADbFM",
        "outputId": "0a44f6be-eeb6-4b93-868b-572d64c2e3c9"
      },
      "execution_count": 4,
      "outputs": [
        {
          "output_type": "execute_result",
          "data": {
            "text/plain": [
              "'programmers'"
            ],
            "application/vnd.google.colaboratory.intrinsic+json": {
              "type": "string"
            }
          },
          "metadata": {},
          "execution_count": 4
        }
      ]
    },
    {
      "cell_type": "code",
      "source": [
        "# 또 이걸 생각못했네\n",
        "# 내 방식이 너무 익숙해 져 있어서 이걸 생각 못하는듯\n",
        "# 이 문제 푸는데 바로 떠올라서 쓴거라 다른 방식은 생각도 안함\n",
        "def solution(q, r, code):\n",
        "    return code[r::q]"
      ],
      "metadata": {
        "id": "KNzMcD1TDbDA"
      },
      "execution_count": 6,
      "outputs": []
    },
    {
      "cell_type": "code",
      "source": [],
      "metadata": {
        "id": "KAPAVZruGgSA"
      },
      "execution_count": null,
      "outputs": []
    }
  ]
}