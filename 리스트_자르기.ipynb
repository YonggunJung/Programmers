{
  "nbformat": 4,
  "nbformat_minor": 0,
  "metadata": {
    "colab": {
      "provenance": [],
      "authorship_tag": "ABX9TyN7SayFzxAFBnUH0Cu1mE7u",
      "include_colab_link": true
    },
    "kernelspec": {
      "name": "python3",
      "display_name": "Python 3"
    },
    "language_info": {
      "name": "python"
    }
  },
  "cells": [
    {
      "cell_type": "markdown",
      "metadata": {
        "id": "view-in-github",
        "colab_type": "text"
      },
      "source": [
        "<a href=\"https://colab.research.google.com/github/YonggunJung/Programmers/blob/main/%EB%A6%AC%EC%8A%A4%ED%8A%B8_%EC%9E%90%EB%A5%B4%EA%B8%B0.ipynb\" target=\"_parent\"><img src=\"https://colab.research.google.com/assets/colab-badge.svg\" alt=\"Open In Colab\"/></a>"
      ]
    },
    {
      "cell_type": "code",
      "execution_count": 1,
      "metadata": {
        "id": "Q-6w9kBBY4Ek"
      },
      "outputs": [],
      "source": [
        "# 문제 설명\n",
        "# 정수 n과 정수 3개가 담긴 리스트 slicer 그리고 정수 여러 개가 담긴 리스트 num_list가 주어집니다.\n",
        "# slicer에 담긴 정수를 차례대로 a, b, c라고 할 때,\n",
        "# n에 따라 다음과 같이 num_list를 슬라이싱 하려고 합니다.\n",
        "\n",
        "# n = 1 : num_list의 0번 인덱스부터 b번 인덱스까지\n",
        "# n = 2 : num_list의 a번 인덱스부터 마지막 인덱스까지\n",
        "# n = 3 : num_list의 a번 인덱스부터 b번 인덱스까지\n",
        "# n = 4 : num_list의 a번 인덱스부터 b번 인덱스까지 c 간격으로\n",
        "# 올바르게 슬라이싱한 리스트를 return하도록 solution 함수를 완성해주세요.\n",
        "\n",
        "# 제한사항\n",
        "# n 은 1, 2, 3, 4 중 하나입니다.\n",
        "# slicer의 길이 = 3\n",
        "# slicer에 담긴 정수를 차례대로 a, b, c라고 할 때\n",
        "\n",
        "# 0 ≤ a ≤ b ≤ num_list의 길이 - 1\n",
        "# 1 ≤ c ≤ 3\n",
        "# 5 ≤ num_list의 길이 ≤ 30\n",
        "\n",
        "# 0 ≤ num_list의 원소 ≤ 100\n",
        "\n",
        "# 입출력 예\n",
        "# n\t    slicer\t      num_list\t                      result\n",
        "# 3\t    [1, 5, 2]\t    [1, 2, 3, 4, 5, 6, 7, 8, 9]\t    [2, 3, 4, 5, 6]\n",
        "# 4\t    [1, 5, 2]\t    [1, 2, 3, 4, 5, 6, 7, 8, 9]\t    [2, 4, 6]\n",
        "\n",
        "# 입출력 예 설명\n",
        "# 입출력 예 #1\n",
        "# [1, 2, 3, 4, 5, 6, 7, 8, 9]에서\n",
        "# 1번 인덱스부터 5번 인덱스까지 자른 리스트는 [2, 3, 4, 5, 6]입니다.\n",
        "\n",
        "# 입출력 예 #2\n",
        "# [1, 2, 3, 4, 5, 6, 7, 8, 9]에서\n",
        "# 1번 인덱스부터 5번 인덱스까지 2개 간격으로 자른 리스트는 [2, 4, 6]입니다."
      ]
    },
    {
      "cell_type": "code",
      "source": [
        "def solution(n, slicer, num_list):\n",
        "    answer = []\n",
        "    if n == 1:\n",
        "      answer = num_list[:slicer[1] +1]\n",
        "    elif n == 2:\n",
        "      answer = num_list[slicer[0]:]\n",
        "    elif n == 3:\n",
        "      answer = num_list[slicer[0]:slicer[1] +1]\n",
        "    else:\n",
        "      answer = num_list[slicer[0]:slicer[1] +1:slicer[2]]\n",
        "    return answer"
      ],
      "metadata": {
        "id": "vOPJ_auQZMhz"
      },
      "execution_count": 6,
      "outputs": []
    },
    {
      "cell_type": "code",
      "source": [
        "n = 3\n",
        "slicer = [1, 5, 2]\n",
        "num_list = [1, 2, 3, 4, 5, 6, 7, 8, 9]\n",
        "solution(n, slicer, num_list)"
      ],
      "metadata": {
        "colab": {
          "base_uri": "https://localhost:8080/"
        },
        "id": "L52AMCdfZOWa",
        "outputId": "4e5e1ca6-c2c4-4e22-be87-4459e54fdacb"
      },
      "execution_count": 7,
      "outputs": [
        {
          "output_type": "execute_result",
          "data": {
            "text/plain": [
              "[2, 3, 4, 5, 6]"
            ]
          },
          "metadata": {},
          "execution_count": 7
        }
      ]
    },
    {
      "cell_type": "code",
      "source": [
        "n = 4\n",
        "slicer = [1, 5, 2]\n",
        "num_list = [1, 2, 3, 4, 5, 6, 7, 8, 9]\n",
        "solution(n, slicer, num_list)"
      ],
      "metadata": {
        "colab": {
          "base_uri": "https://localhost:8080/"
        },
        "id": "9OSeKmjoZSUp",
        "outputId": "b4aad6cb-9dcf-4c4c-8d8f-7741225caeee"
      },
      "execution_count": 8,
      "outputs": [
        {
          "output_type": "execute_result",
          "data": {
            "text/plain": [
              "[2, 4, 6]"
            ]
          },
          "metadata": {},
          "execution_count": 8
        }
      ]
    },
    {
      "cell_type": "code",
      "source": [
        "# 다른 사람 풀이"
      ],
      "metadata": {
        "id": "gfPkW_1uZSSl"
      },
      "execution_count": 9,
      "outputs": []
    },
    {
      "cell_type": "code",
      "source": [
        "# 이거 이해가 안가네\n",
        "def solution(n, slicer, num_list):\n",
        "    a, b, c = slicer\n",
        "    return [num_list[:b + 1], num_list[a:], num_list[a:b + 1], num_list[a:b + 1:c]][n - 1]"
      ],
      "metadata": {
        "id": "9E5NnS-LcPxN"
      },
      "execution_count": null,
      "outputs": []
    }
  ]
}