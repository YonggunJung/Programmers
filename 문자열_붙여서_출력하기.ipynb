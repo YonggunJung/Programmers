{
  "nbformat": 4,
  "nbformat_minor": 0,
  "metadata": {
    "colab": {
      "provenance": [],
      "authorship_tag": "ABX9TyOGTuH9DRk/RmAwsFErWPbx",
      "include_colab_link": true
    },
    "kernelspec": {
      "name": "python3",
      "display_name": "Python 3"
    },
    "language_info": {
      "name": "python"
    }
  },
  "cells": [
    {
      "cell_type": "markdown",
      "metadata": {
        "id": "view-in-github",
        "colab_type": "text"
      },
      "source": [
        "<a href=\"https://colab.research.google.com/github/YonggunJung/Programmers/blob/main/%EB%AC%B8%EC%9E%90%EC%97%B4_%EB%B6%99%EC%97%AC%EC%84%9C_%EC%B6%9C%EB%A0%A5%ED%95%98%EA%B8%B0.ipynb\" target=\"_parent\"><img src=\"https://colab.research.google.com/assets/colab-badge.svg\" alt=\"Open In Colab\"/></a>"
      ]
    },
    {
      "cell_type": "code",
      "execution_count": 1,
      "metadata": {
        "id": "cPHdlK5tfN2I"
      },
      "outputs": [],
      "source": [
        "# 문제 설명\n",
        "# 두 개의 문자열 str1, str2가 공백으로 구분되어 입력으로 주어집니다.\n",
        "# 입출력 예와 같이 str1과 str2을 이어서 출력하는 코드를 작성해 보세요.\n",
        "\n",
        "# 제한사항\n",
        "# 1 ≤ str1, str2의 길이 ≤ 10\n",
        "\n",
        "# 입출력 예\n",
        "# 입력 #1\n",
        "# apple pen\n",
        "\n",
        "# 출력 #1\n",
        "# applepen\n",
        "\n",
        "# 입력 #2\n",
        "# Hello World!\n",
        "\n",
        "# 출력 #2\n",
        "# HelloWorld!"
      ]
    },
    {
      "cell_type": "code",
      "source": [
        "# 문제\n",
        "# str1, str2 = input().strip().split(' ')"
      ],
      "metadata": {
        "id": "s70WnteGfUSd"
      },
      "execution_count": 2,
      "outputs": []
    },
    {
      "cell_type": "code",
      "source": [
        "str1, str2 = input().strip().split(' ')\n",
        "print(str1+str2)"
      ],
      "metadata": {
        "colab": {
          "base_uri": "https://localhost:8080/"
        },
        "id": "P5kf2CSvfWCj",
        "outputId": "5d8d09a9-3160-448f-90a0-b3e420979741"
      },
      "execution_count": 3,
      "outputs": [
        {
          "output_type": "stream",
          "name": "stdout",
          "text": [
            "apple pen\n",
            "applepen\n"
          ]
        }
      ]
    },
    {
      "cell_type": "code",
      "source": [
        "str1, str2 = input().strip().split(' ')\n",
        "print(str1+str2)"
      ],
      "metadata": {
        "colab": {
          "base_uri": "https://localhost:8080/"
        },
        "id": "rEp-C_cYfeXL",
        "outputId": "6bddb6a3-06b9-474c-c253-07409143d693"
      },
      "execution_count": 4,
      "outputs": [
        {
          "output_type": "stream",
          "name": "stdout",
          "text": [
            "Hello World!\n",
            "HelloWorld!\n"
          ]
        }
      ]
    },
    {
      "cell_type": "code",
      "source": [
        "# 다른 사람 풀이"
      ],
      "metadata": {
        "id": "_36J8EA9fjuz"
      },
      "execution_count": 5,
      "outputs": []
    },
    {
      "cell_type": "code",
      "source": [
        "# replace()사용\n",
        "print(input().strip().replace(' ', ''))"
      ],
      "metadata": {
        "id": "txiMfBkufrct"
      },
      "execution_count": null,
      "outputs": []
    },
    {
      "cell_type": "code",
      "source": [
        "# sep= 사용\n",
        "str1, str2 = input().strip().split(' ')\n",
        "print(str1, str2, sep='')"
      ],
      "metadata": {
        "id": "Tf_jdqcGf_HZ"
      },
      "execution_count": null,
      "outputs": []
    },
    {
      "cell_type": "code",
      "source": [
        "# ''.join() 사용\n",
        "print(''.join(input().strip().split(' ')))"
      ],
      "metadata": {
        "id": "IMPZiBuKgDbF"
      },
      "execution_count": null,
      "outputs": []
    }
  ]
}