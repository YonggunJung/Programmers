{
  "nbformat": 4,
  "nbformat_minor": 0,
  "metadata": {
    "colab": {
      "provenance": [],
      "authorship_tag": "ABX9TyOM+M/sVmWkPYkLdDHBz2vx",
      "include_colab_link": true
    },
    "kernelspec": {
      "name": "python3",
      "display_name": "Python 3"
    },
    "language_info": {
      "name": "python"
    }
  },
  "cells": [
    {
      "cell_type": "markdown",
      "metadata": {
        "id": "view-in-github",
        "colab_type": "text"
      },
      "source": [
        "<a href=\"https://colab.research.google.com/github/YonggunJung/Programmers/blob/main/%EC%8B%A0%EA%B3%A0_%EA%B2%B0%EA%B3%BC_%EB%B0%9B%EA%B8%B0.ipynb\" target=\"_parent\"><img src=\"https://colab.research.google.com/assets/colab-badge.svg\" alt=\"Open In Colab\"/></a>"
      ]
    },
    {
      "cell_type": "code",
      "execution_count": 1,
      "metadata": {
        "id": "SpY20FTE7e5e"
      },
      "outputs": [],
      "source": [
        "# 문제 설명\n",
        "# 문제 설명\n",
        "# 신입사원 무지는 게시판 불량 이용자를 신고하고 처리 결과를\n",
        "# 메일로 발송하는 시스템을 개발하려 합니다.\n",
        "# 무지가 개발하려는 시스템은 다음과 같습니다.\n",
        "\n",
        "# 각 유저는 한 번에 한 명의 유저를 신고할 수 있습니다.\n",
        "# 신고 횟수에 제한은 없습니다. 서로 다른 유저를 계속해서 신고할 수 있습니다.\n",
        "# 한 유저를 여러 번 신고할 수도 있지만, 동일한 유저에 대한 신고 횟수는 1회로 처리됩니다.\n",
        "# k번 이상 신고된 유저는 게시판 이용이 정지되며,\n",
        "# 해당 유저를 신고한 모든 유저에게 정지 사실을 메일로 발송합니다.\n",
        "# 유저가 신고한 모든 내용을 취합하여 마지막에 한꺼번에\n",
        "# 게시판 이용 정지를 시키면서 정지 메일을 발송합니다.\n",
        "# 다음은 전체 유저 목록이 [\"muzi\", \"frodo\", \"apeach\", \"neo\"]이고,\n",
        "# k = 2(즉, 2번 이상 신고당하면 이용 정지)인 경우의 예시입니다.\n",
        "\n",
        "# 유저 ID\t유저가 신고한 ID\t설명\n",
        "# \"muzi\"\t\"frodo\"\t\"muzi\"가 \"frodo\"를 신고했습니다.\n",
        "# \"apeach\"\t\"frodo\"\t\"apeach\"가 \"frodo\"를 신고했습니다.\n",
        "# \"frodo\"\t\"neo\"\t\"frodo\"가 \"neo\"를 신고했습니다.\n",
        "# \"muzi\"\t\"neo\"\t\"muzi\"가 \"neo\"를 신고했습니다.\n",
        "# \"apeach\"\t\"muzi\"\t\"apeach\"가 \"muzi\"를 신고했습니다.\n",
        "# 각 유저별로 신고당한 횟수는 다음과 같습니다.\n",
        "\n",
        "# 유저 ID\t      신고당한 횟수\n",
        "# \"muzi\"\t            1\n",
        "# \"frodo\"\t            2\n",
        "# \"apeach\"\t          0\n",
        "# \"neo\"\t              2\n",
        "# 위 예시에서는 2번 이상 신고당한 \"frodo\"와 \"neo\"의 게시판 이용이 정지됩니다.\n",
        "# 이때, 각 유저별로 신고한 아이디와 정지된 아이디를 정리하면 다음과 같습니다.\n",
        "\n",
        "# 유저 ID\t    유저가 신고한 ID\t      정지된 ID\n",
        "# \"muzi\"\t    [\"frodo\", \"neo\"]\t      [\"frodo\", \"neo\"]\n",
        "# \"frodo\"\t    [\"neo\"]\t                [\"neo\"]\n",
        "# \"apeach\"\t  [\"muzi\", \"frodo\"]\t      [\"frodo\"]\n",
        "# \"neo\"\t없음\t없음\n",
        "# 따라서 \"muzi\"는 처리 결과 메일을 2회,\n",
        "# \"frodo\"와 \"apeach\"는 각각 처리 결과 메일을 1회 받게 됩니다.\n",
        "\n",
        "# 이용자의 ID가 담긴 문자열 배열 id_list,\n",
        "# 각 이용자가 신고한 이용자의 ID 정보가 담긴 문자열 배열 report,\n",
        "# 정지 기준이 되는 신고 횟수 k가 매개변수로 주어질 때,\n",
        "# 각 유저별로 처리 결과 메일을 받은 횟수를 배열에 담아\n",
        "# return 하도록 solution 함수를 완성해주세요.\n",
        "\n",
        "# 제한사항\n",
        "# 2 ≤ id_list의 길이 ≤ 1,000\n",
        "# 1 ≤ id_list의 원소 길이 ≤ 10\n",
        "# id_list의 원소는 이용자의 id를 나타내는 문자열이며\n",
        "# 알파벳 소문자로만 이루어져 있습니다.\n",
        "# id_list에는 같은 아이디가 중복해서 들어있지 않습니다.\n",
        "# 1 ≤ report의 길이 ≤ 200,000\n",
        "# 3 ≤ report의 원소 길이 ≤ 21\n",
        "# report의 원소는 \"이용자id 신고한id\"형태의 문자열입니다.\n",
        "# 예를 들어 \"muzi frodo\"의 경우 \"muzi\"가 \"frodo\"를 신고했다는 의미입니다.\n",
        "# id는 알파벳 소문자로만 이루어져 있습니다.\n",
        "# 이용자id와 신고한id는 공백(스페이스)하나로 구분되어 있습니다.\n",
        "# 자기 자신을 신고하는 경우는 없습니다.\n",
        "# 1 ≤ k ≤ 200, k는 자연수입니다.\n",
        "# return 하는 배열은 id_list에 담긴 id 순서대로\n",
        "# 각 유저가 받은 결과 메일 수를 담으면 됩니다.\n",
        "\n",
        "# 입출력 예\n",
        "# id_list\t                                report\t                                                              k\t      result\n",
        "# [\"muzi\", \"frodo\", \"apeach\", \"neo\"]\t    [\"muzi frodo\",\"apeach frodo\",\"frodo neo\",\"muzi neo\",\"apeach muzi\"]\t  2\t      [2,1,1,0]\n",
        "# [\"con\", \"ryan\"]\t                        [\"ryan con\", \"ryan con\", \"ryan con\", \"ryan con\"]\t                    3\t      [0,0]\n",
        "\n",
        "# 입출력 예 설명\n",
        "# 입출력 예 #1\n",
        "# 문제의 예시와 같습니다.\n",
        "\n",
        "# 입출력 예 #2\n",
        "# \"ryan\"이 \"con\"을 4번 신고했으나,\n",
        "# 주어진 조건에 따라 한 유저가 같은 유저를\n",
        "# 여러 번 신고한 경우는 신고 횟수 1회로 처리합니다.\n",
        "# 따라서 \"con\"은 1회 신고당했습니다. 3번 이상 신고당한 이용자는 없으며,\n",
        "# \"con\"과 \"ryan\"은 결과 메일을 받지 않습니다. 따라서 [0, 0]을 return 합니다.\n",
        "\n",
        "# 제한시간 안내\n",
        "# 정확성 테스트 : 10초"
      ]
    },
    {
      "cell_type": "code",
      "source": [
        "def solution(id_list, report, k):\n",
        "    answer = []\n",
        "    reid_li = {}\n",
        "    rcount = {}\n",
        "    report = list(set(report))\n",
        "    for idx, id in enumerate(id_list):\n",
        "      rcount[id] = 0\n",
        "      answer.append(0)\n",
        "\n",
        "    for idx, r in enumerate(report):\n",
        "      re = r.split(' ')\n",
        "      reid_li[re[0]] += [re[1]]\n",
        "      rcount[re[1]] += 1\n",
        "\n",
        "    for rc in rcount:\n",
        "      if rcount[rc] >= k:\n",
        "        for re in reid_li:\n",
        "          if rc in reid_li[re]:\n",
        "            answer[id_list.index(re)] += 1\n",
        "\n",
        "\n",
        "\n",
        "\n",
        "\n",
        "    return answer"
      ],
      "metadata": {
        "id": "SP6MRtyg9rzA"
      },
      "execution_count": 2,
      "outputs": []
    },
    {
      "cell_type": "code",
      "source": [
        "def solution(id_list, report, k):\n",
        "    answer = [0 for _ in range(len(id_list))]\n",
        "    report = list(set(report))\n",
        "    rcount = []\n",
        "    rek = []\n",
        "    for name in report:\n",
        "      names = name.split(' ')\n",
        "      rcount.append(names[1])\n",
        "\n",
        "    for id in id_list:\n",
        "      if rcount.count(id) >= k:\n",
        "        rek.append(id)\n",
        "\n",
        "    for re in report:\n",
        "      names = re.split(' ')\n",
        "      if names[1] in rek:\n",
        "        answer[id_list.index(names[0])] += 1\n",
        "    return answer"
      ],
      "metadata": {
        "colab": {
          "base_uri": "https://localhost:8080/"
        },
        "id": "vAEQB_wRDHg_",
        "outputId": "2805c166-d435-4ce1-d6c5-4213cab03915"
      },
      "execution_count": 3,
      "outputs": [
        {
          "output_type": "execute_result",
          "data": {
            "text/plain": [
              "['2', '4']"
            ]
          },
          "metadata": {},
          "execution_count": 3
        }
      ]
    },
    {
      "cell_type": "code",
      "source": [
        "# 다른사람 풀이\n",
        "# 이래 간단한 거였나? ㅋㅋㅋㅋ\n",
        "def solution(id_list, report, k):\n",
        "    answer = [0] * len(id_list)\n",
        "    reports = {x : 0 for x in id_list}\n",
        "\n",
        "    for r in set(report):\n",
        "        reports[r.split()[1]] += 1\n",
        "\n",
        "    for r in set(report):\n",
        "        if reports[r.split()[1]] >= k:\n",
        "            answer[id_list.index(r.split()[0])] += 1\n",
        "\n",
        "    return answer"
      ],
      "metadata": {
        "id": "CK-3ktF2DL5b"
      },
      "execution_count": null,
      "outputs": []
    }
  ]
}