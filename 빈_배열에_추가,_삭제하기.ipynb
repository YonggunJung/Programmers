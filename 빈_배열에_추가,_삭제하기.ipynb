{
  "nbformat": 4,
  "nbformat_minor": 0,
  "metadata": {
    "colab": {
      "provenance": [],
      "authorship_tag": "ABX9TyOt/f7/YvRF3SeYw6GDyGcl",
      "include_colab_link": true
    },
    "kernelspec": {
      "name": "python3",
      "display_name": "Python 3"
    },
    "language_info": {
      "name": "python"
    }
  },
  "cells": [
    {
      "cell_type": "markdown",
      "metadata": {
        "id": "view-in-github",
        "colab_type": "text"
      },
      "source": [
        "<a href=\"https://colab.research.google.com/github/YonggunJung/Programmers/blob/main/%EB%B9%88_%EB%B0%B0%EC%97%B4%EC%97%90_%EC%B6%94%EA%B0%80%2C_%EC%82%AD%EC%A0%9C%ED%95%98%EA%B8%B0.ipynb\" target=\"_parent\"><img src=\"https://colab.research.google.com/assets/colab-badge.svg\" alt=\"Open In Colab\"/></a>"
      ]
    },
    {
      "cell_type": "code",
      "execution_count": 1,
      "metadata": {
        "id": "3yyXIH-esfgu"
      },
      "outputs": [],
      "source": [
        "# 문제 설명\n",
        "# 아무 원소도 들어있지 않은 빈 배열 X가 있습니다.\n",
        "# 길이가 같은 정수 배열 arr과 boolean 배열 flag가 매개변수로 주어질 때,\n",
        "# flag를 차례대로 순회하며 flag[i]가 true라면 X의 뒤에 arr[i]를 arr[i] × 2 번 추가하고,\n",
        "# flag[i]가 false라면 X에서 마지막 arr[i]개의 원소를 제거한 뒤 X를\n",
        "# return 하는 solution 함수를 작성해 주세요.\n",
        "\n",
        "# 제한사항\n",
        "# 1 ≤ arr의 길이 = flag의 길이 ≤ 100\n",
        "# arr의 모든 원소는 1 이상 9 이하의 정수입니다.\n",
        "# 현재 X의 길이보다 더 많은 원소를 빼는 입력은 주어지지 않습니다.\n",
        "\n",
        "# 입출력 예\n",
        "# arr\t                flag\t                                result\n",
        "# [3, 2, 4, 1, 3]\t    [true, false, true, false, false]\t    [3, 3, 3, 3, 4, 4, 4, 4]\n",
        "\n",
        "# 입출력 예 설명\n",
        "# 입출력 예 #1\n",
        "# 예제 1번에서 X의 변화를 표로 나타내면 다음과 같습니다\n",
        "# i\t    flag[i]   \tarr[i]     \t              X\n",
        "#                                             []\n",
        "# 0\t    true\t        3\t                      [3, 3, 3, 3, 3, 3]\n",
        "# 1\t    false\t        2\t                      [3, 3, 3, 3]\n",
        "# 2\t    true\t        4\t                      [3, 3, 3, 3, 4, 4, 4, 4, 4, 4, 4, 4]\n",
        "# 3\t    false\t        1\t                      [3, 3, 3, 3, 4, 4, 4, 4, 4, 4, 4]\n",
        "# 4   \tfalse\t        3\t                      [3, 3, 3, 3, 4, 4, 4, 4]\n",
        "# 따라서 [3, 3, 3, 3, 4, 4, 4, 4]를 return 합니다."
      ]
    },
    {
      "cell_type": "code",
      "source": [
        "# 이거도 만만치 않았음\n",
        "def solution(arr, flag):\n",
        "    answer = []\n",
        "    for idx, num in enumerate(arr):\n",
        "      if flag[idx] == 1:\n",
        "        answer += [num] * (num * 2)\n",
        "      elif flag[idx] == 0:   # else: 도 가능\n",
        "         del answer[len(answer)-num:]\n",
        "    return answer"
      ],
      "metadata": {
        "id": "JGUDyBqLs7BM"
      },
      "execution_count": 31,
      "outputs": []
    },
    {
      "cell_type": "code",
      "source": [
        "arr = [3, 2, 4, 1, 3]\n",
        "flag = [True, False, True, False, False]\n",
        "solution(arr, flag)"
      ],
      "metadata": {
        "colab": {
          "base_uri": "https://localhost:8080/"
        },
        "id": "A3WLkQses9vR",
        "outputId": "43bc8a15-f836-4b76-ccc2-cfe4e3100033"
      },
      "execution_count": 32,
      "outputs": [
        {
          "output_type": "execute_result",
          "data": {
            "text/plain": [
              "[3, 3, 3, 3, 4, 4, 4, 4]"
            ]
          },
          "metadata": {},
          "execution_count": 32
        }
      ]
    },
    {
      "cell_type": "code",
      "source": [
        "# 다른 사람 풀이"
      ],
      "metadata": {
        "id": "t_OGD8_OtAXN"
      },
      "execution_count": 8,
      "outputs": []
    },
    {
      "cell_type": "code",
      "source": [
        "# pop()을 저렇게 써주면 되는 구나\n",
        "def solution(arr, flag):\n",
        "    X = []\n",
        "    for i, f in enumerate(flag):\n",
        "        if f:\n",
        "            X += [arr[i]] * (arr[i]*2)\n",
        "        else:\n",
        "            for _ in range(arr[i]):\n",
        "                X.pop()\n",
        "    return X"
      ],
      "metadata": {
        "id": "Hm3ctyCfu9RM"
      },
      "execution_count": 33,
      "outputs": []
    },
    {
      "cell_type": "code",
      "source": [
        "# else: arr1 = arr1[:-i] 이걸 왜 생각 못했지?? 까비\n",
        "def solution(arr, flag):\n",
        "    arr1 = []\n",
        "    for i, j in zip(arr, flag):\n",
        "        if j:\n",
        "            arr1 += [i] * i * 2\n",
        "        else:\n",
        "            arr1 = arr1[:-i]\n",
        "    return arr1"
      ],
      "metadata": {
        "id": "qmb0YlIpyDwd"
      },
      "execution_count": 34,
      "outputs": []
    },
    {
      "cell_type": "code",
      "source": [],
      "metadata": {
        "id": "F7a2Cg16ytoK"
      },
      "execution_count": null,
      "outputs": []
    }
  ]
}