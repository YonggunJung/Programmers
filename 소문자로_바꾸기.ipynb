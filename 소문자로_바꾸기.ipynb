{
  "nbformat": 4,
  "nbformat_minor": 0,
  "metadata": {
    "colab": {
      "provenance": [],
      "authorship_tag": "ABX9TyP+Na/tnG4E7szBlkp+AlTE",
      "include_colab_link": true
    },
    "kernelspec": {
      "name": "python3",
      "display_name": "Python 3"
    },
    "language_info": {
      "name": "python"
    }
  },
  "cells": [
    {
      "cell_type": "markdown",
      "metadata": {
        "id": "view-in-github",
        "colab_type": "text"
      },
      "source": [
        "<a href=\"https://colab.research.google.com/github/YonggunJung/Programmers/blob/main/%EC%86%8C%EB%AC%B8%EC%9E%90%EB%A1%9C_%EB%B0%94%EA%BE%B8%EA%B8%B0.ipynb\" target=\"_parent\"><img src=\"https://colab.research.google.com/assets/colab-badge.svg\" alt=\"Open In Colab\"/></a>"
      ]
    },
    {
      "cell_type": "code",
      "execution_count": 1,
      "metadata": {
        "id": "JeRCcE7aZckz"
      },
      "outputs": [],
      "source": [
        "# 문제 설명\n",
        "# 알파벳으로 이루어진 문자열 myString이 주어집니다.\n",
        "# 모든 알파벳을 소문자로 변환하여 return 하는 solution 함수를 완성해 주세요.\n",
        "\n",
        "# 제한사항\n",
        "# 1 ≤ myString의 길이 ≤ 100,000\n",
        "# myString은 알파벳으로 이루어진 문자열입니다.\n",
        "\n",
        "# 입출력 예\n",
        "# myString\t      result\n",
        "# \"aBcDeFg\"\t      \"abcdefg\"\n",
        "# \"aaa\"\t          \"aaa\""
      ]
    },
    {
      "cell_type": "code",
      "source": [
        "def solution(myString):\n",
        "    answer = myString.lower()\n",
        "    return answer"
      ],
      "metadata": {
        "id": "CzQxNM3OZgf_"
      },
      "execution_count": 3,
      "outputs": []
    },
    {
      "cell_type": "code",
      "source": [
        "myString = \"aBcDeFg\"\n",
        "solution(myString)"
      ],
      "metadata": {
        "colab": {
          "base_uri": "https://localhost:8080/",
          "height": 35
        },
        "id": "YLme_1hiZj2w",
        "outputId": "afa97c13-0d9e-4ac0-947b-fac3834d1187"
      },
      "execution_count": 4,
      "outputs": [
        {
          "output_type": "execute_result",
          "data": {
            "text/plain": [
              "'abcdefg'"
            ],
            "application/vnd.google.colaboratory.intrinsic+json": {
              "type": "string"
            }
          },
          "metadata": {},
          "execution_count": 4
        }
      ]
    },
    {
      "cell_type": "code",
      "source": [
        "myString = \"aaa\"\n",
        "solution(myString)"
      ],
      "metadata": {
        "colab": {
          "base_uri": "https://localhost:8080/",
          "height": 35
        },
        "id": "FfzgOLyHZl4E",
        "outputId": "2217066e-1e55-4e61-906d-8ad41934c08d"
      },
      "execution_count": 5,
      "outputs": [
        {
          "output_type": "execute_result",
          "data": {
            "text/plain": [
              "'aaa'"
            ],
            "application/vnd.google.colaboratory.intrinsic+json": {
              "type": "string"
            }
          },
          "metadata": {},
          "execution_count": 5
        }
      ]
    },
    {
      "cell_type": "code",
      "source": [
        "# 다른 사람 풀이"
      ],
      "metadata": {
        "id": "36uuyMZKZl1w"
      },
      "execution_count": 6,
      "outputs": []
    },
    {
      "cell_type": "code",
      "source": [
        "# 노동자\n",
        "def solution(myString):\n",
        "    myString = myString.replace(\"A\",'a')\n",
        "    myString =myString.replace(\"B\",'b')\n",
        "    myString =myString.replace(\"C\",'c')\n",
        "    myString =myString.replace(\"D\",'d')\n",
        "    myString =myString.replace(\"E\",'e')\n",
        "    myString =myString.replace(\"F\",'f')\n",
        "    myString =myString.replace(\"G\",'g')\n",
        "    myString =myString.replace(\"H\",'h')\n",
        "    myString =myString.replace(\"I\",'i')\n",
        "    myString =myString.replace(\"J\",'j')\n",
        "    myString =myString.replace(\"K\",'k')\n",
        "    myString =myString.replace(\"L\",'l')\n",
        "    myString =myString.replace(\"M\",'m')\n",
        "    myString =myString.replace(\"N\",'n')\n",
        "    myString =myString.replace(\"O\",'o')\n",
        "    myString =myString.replace(\"P\",'p')\n",
        "    myString =myString.replace(\"Q\",'q')\n",
        "    myString =myString.replace(\"R\",'r')\n",
        "    myString =myString.replace(\"S\",'s')\n",
        "    myString =myString.replace(\"T\",'t')\n",
        "    myString =myString.replace(\"U\",'u')\n",
        "    myString =myString.replace(\"V\",'v')\n",
        "    myString =myString.replace(\"W\",'w')\n",
        "    myString =myString.replace(\"X\",'x')\n",
        "    myString =myString.replace(\"Y\",'y')\n",
        "    myString =myString.replace(\"Z\",'z')\n",
        "\n",
        "    return myString"
      ],
      "metadata": {
        "id": "PurPXvcgZyNe"
      },
      "execution_count": null,
      "outputs": []
    }
  ]
}