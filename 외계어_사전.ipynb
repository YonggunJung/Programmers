{
  "nbformat": 4,
  "nbformat_minor": 0,
  "metadata": {
    "colab": {
      "provenance": [],
      "authorship_tag": "ABX9TyN4mBMLh1XLxy5Cx0W2IFPE",
      "include_colab_link": true
    },
    "kernelspec": {
      "name": "python3",
      "display_name": "Python 3"
    },
    "language_info": {
      "name": "python"
    }
  },
  "cells": [
    {
      "cell_type": "markdown",
      "metadata": {
        "id": "view-in-github",
        "colab_type": "text"
      },
      "source": [
        "<a href=\"https://colab.research.google.com/github/YonggunJung/Programmers/blob/main/%EC%99%B8%EA%B3%84%EC%96%B4_%EC%82%AC%EC%A0%84.ipynb\" target=\"_parent\"><img src=\"https://colab.research.google.com/assets/colab-badge.svg\" alt=\"Open In Colab\"/></a>"
      ]
    },
    {
      "cell_type": "code",
      "execution_count": 2,
      "metadata": {
        "id": "8rx0W8lYGbuO"
      },
      "outputs": [],
      "source": [
        "# 문제 설명\n",
        "# PROGRAMMERS-962 행성에 불시착한 우주비행사 머쓱이는 외계행성의 언어를 공부하려고 합니다.\n",
        "# 알파벳이 담긴 배열 spell과 외계어 사전 dic이 매개변수로 주어집니다.\n",
        "# spell에 담긴 알파벳을 한번씩만 모두 사용한 단어가 dic에 존재한다면 1,\n",
        "# 존재하지 않는다면 2를 return하도록 solution 함수를 완성해주세요.\n",
        "\n",
        "# 제한사항\n",
        "# spell과 dic의 원소는 알파벳 소문자로만 이루어져있습니다.\n",
        "# 2 ≤ spell의 크기 ≤ 10\n",
        "# spell의 원소의 길이는 1입니다.\n",
        "# 1 ≤ dic의 크기 ≤ 10\n",
        "# 1 ≤ dic의 원소의 길이 ≤ 10\n",
        "# spell의 원소를 모두 사용해 단어를 만들어야 합니다.\n",
        "# spell의 원소를 모두 사용해 만들 수 있는 단어는 dic에 두 개 이상 존재하지 않습니다.\n",
        "# dic과 spell 모두 중복된 원소를 갖지 않습니다.\n",
        "\n",
        "# 입출력 예\n",
        "# spell\t                  dic\t                                                    result\n",
        "# [\"p\", \"o\", \"s\"]\t        [\"sod\", \"eocd\", \"qixm\", \"adio\", \"soo\"]\t                  2\n",
        "# [\"z\", \"d\", \"x\"]\t        [\"def\", \"dww\", \"dzx\", \"loveaw\"]\t                          1\n",
        "# [\"s\", \"o\", \"m\", \"d\"]\t  [\"moos\", \"dzx\", \"smm\", \"sunmmo\", \"som\"]\t                  2\n",
        "# 입출력 예 설명\n",
        "# 입출력 예 #1\n",
        "# \"p\", \"o\", \"s\" 를 조합해 만들 수 있는 단어가 dic에 존재하지 않습니다. 따라서 2를 return합니다.\n",
        "\n",
        "# 입출력 예 #2\n",
        "# \"z\", \"d\", \"x\" 를 조합해 만들 수 있는 단어 \"dzx\"가 dic에 존재합니다. 따라서 1을 return합니다.\n",
        "\n",
        "# 입출력 예 #3\n",
        "# \"s\", \"o\", \"m\", \"d\" 를 조합해 만들 수 있는 단어가 dic에 존재하지 않습니다.\n",
        "# 따라서 2을 return합니다.\n",
        "\n",
        "# 유의사항\n",
        "# 입출력 예 #3 에서 \"moos\", \"smm\", \"som\"도 \"s\", \"o\", \"m\", \"d\" 를 조합해 만들 수 있지만\n",
        "# spell의 원소를 모두 사용해야 하기 때문에 정답이 아닙니다."
      ]
    },
    {
      "cell_type": "code",
      "source": [
        "# 이건 전혀 감이 안잡히네 ㅠㅠ\n",
        "def solution(spell, dic):\n",
        "    for char in dic:\n",
        "      # 한번씩 사용했으면 길이가 같아야함\n",
        "      if len(char) == len(spell):\n",
        "        valid = True\n",
        "      else:\n",
        "        valid = False\n",
        "      # 길이가 같을 경우 실제로 한번씩 사용했는지 확인\n",
        "      for c in spell:\n",
        "        if char.count(c) == 1:\n",
        "          pass\n",
        "        else:\n",
        "          valid = False\n",
        "      if valid:\n",
        "        return 1\n",
        "    return 2"
      ],
      "metadata": {
        "id": "OBQbGKLRGe2Q"
      },
      "execution_count": 14,
      "outputs": []
    },
    {
      "cell_type": "code",
      "source": [
        "spell = [\"p\", \"o\", \"s\"]\n",
        "dic = [\"sod\", \"eocd\", \"qixm\", \"adio\", \"soo\"]\n",
        "solution(spell, dic)"
      ],
      "metadata": {
        "colab": {
          "base_uri": "https://localhost:8080/"
        },
        "id": "dxr67qqdG0hG",
        "outputId": "0602685a-c758-4933-bcb7-2af244e29b58"
      },
      "execution_count": 15,
      "outputs": [
        {
          "output_type": "execute_result",
          "data": {
            "text/plain": [
              "2"
            ]
          },
          "metadata": {},
          "execution_count": 15
        }
      ]
    },
    {
      "cell_type": "code",
      "source": [
        "spell = [\"z\", \"d\", \"x\"]\n",
        "dic = [\"def\", \"dww\", \"dzx\", \"loveaw\"]\n",
        "solution(spell, dic)"
      ],
      "metadata": {
        "colab": {
          "base_uri": "https://localhost:8080/"
        },
        "id": "J_CwRKXVG4XT",
        "outputId": "0720dfc6-a8a6-4e2f-8ef0-5101f9a6a00a"
      },
      "execution_count": 16,
      "outputs": [
        {
          "output_type": "execute_result",
          "data": {
            "text/plain": [
              "1"
            ]
          },
          "metadata": {},
          "execution_count": 16
        }
      ]
    },
    {
      "cell_type": "code",
      "source": [
        "spell = [\"s\", \"o\", \"m\", \"d\"]\n",
        "dic = [\"moos\", \"dzx\", \"smm\", \"sunmmo\", \"som\"]\n",
        "solution(spell, dic)"
      ],
      "metadata": {
        "colab": {
          "base_uri": "https://localhost:8080/"
        },
        "id": "iStOICfJG4Ux",
        "outputId": "e47741d5-0f84-4cfb-fd75-e2c32b3fa12c"
      },
      "execution_count": 17,
      "outputs": [
        {
          "output_type": "execute_result",
          "data": {
            "text/plain": [
              "2"
            ]
          },
          "metadata": {},
          "execution_count": 17
        }
      ]
    },
    {
      "cell_type": "code",
      "source": [
        "# 다른 사람 풀이"
      ],
      "metadata": {
        "id": "c-MMs5hqG4SX"
      },
      "execution_count": 18,
      "outputs": []
    },
    {
      "cell_type": "code",
      "source": [
        "# 와우 쉽다 쉬워 이해도 빠르고\n",
        "def solution(spell, dic):\n",
        "    spell = set(spell)\n",
        "    for s in dic:\n",
        "        if not spell-set(s):\n",
        "            return 1\n",
        "    return 2\n",
        "\n",
        "# 이 풀이에 대한 반박글이 많음\\\n",
        "# if (len(spell) == len(s)) and (not spell-set(s)) 이 식을 넣어야 한다는 말도 있고\n",
        "# set()함수에서 이미 중복은 신경 안쓴다는 말도 있고"
      ],
      "metadata": {
        "id": "cyH1bmYfLQLl"
      },
      "execution_count": 19,
      "outputs": []
    },
    {
      "cell_type": "code",
      "source": [
        "#  나는 이게 제일 보기 좋은거 같음, 이해도 젤 쉬움\n",
        "# 이 코드도 반박 글이 있긴함\n",
        "def solution(spell, dic):\n",
        "    for d in dic:\n",
        "        if sorted(d) == sorted(spell):\n",
        "            return 1\n",
        "    return 2"
      ],
      "metadata": {
        "id": "qS6YPxwhLogN"
      },
      "execution_count": null,
      "outputs": []
    }
  ]
}