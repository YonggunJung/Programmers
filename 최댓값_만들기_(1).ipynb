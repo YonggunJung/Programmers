{
  "nbformat": 4,
  "nbformat_minor": 0,
  "metadata": {
    "colab": {
      "provenance": [],
      "authorship_tag": "ABX9TyOETUmb3GroSDUlguZr0zHG",
      "include_colab_link": true
    },
    "kernelspec": {
      "name": "python3",
      "display_name": "Python 3"
    },
    "language_info": {
      "name": "python"
    }
  },
  "cells": [
    {
      "cell_type": "markdown",
      "metadata": {
        "id": "view-in-github",
        "colab_type": "text"
      },
      "source": [
        "<a href=\"https://colab.research.google.com/github/YonggunJung/Programmers/blob/main/%EC%B5%9C%EB%8C%93%EA%B0%92_%EB%A7%8C%EB%93%A4%EA%B8%B0_(1).ipynb\" target=\"_parent\"><img src=\"https://colab.research.google.com/assets/colab-badge.svg\" alt=\"Open In Colab\"/></a>"
      ]
    },
    {
      "cell_type": "code",
      "execution_count": 1,
      "metadata": {
        "id": "fymtmcRZ0cbW"
      },
      "outputs": [],
      "source": [
        "# 문제 설명\n",
        "# 정수 배열 numbers가 매개변수로 주어집니다.\n",
        "# numbers의 원소 중 두 개를 곱해 만들 수 있는 최댓값을 return하도록 solution 함수를 완성해주세요.\n",
        "\n",
        "# 제한사항\n",
        "# 0 ≤ numbers의 원소 ≤ 10,000\n",
        "# 2 ≤ numbers의 길이 ≤ 100\n",
        "\n",
        "# 입출력 예\n",
        "# numbers\t                 result\n",
        "# [1, 2, 3, 4, 5]\t           20\n",
        "# [0, 31, 24, 10, 1, 9]\t    744\n",
        "\n",
        "# 입출력 예 설명\n",
        "# 입출력 예 #1\n",
        "# 두 수의 곱중 최댓값은 4 * 5 = 20 입니다.\n",
        "\n",
        "# 입출력 예 #1\n",
        "# 두 수의 곱중 최댓값은 31 * 24 = 744 입니다."
      ]
    },
    {
      "cell_type": "code",
      "source": [
        "def solution(numbers):\n",
        "    numbers.sort()\n",
        "    answer = numbers[-1] * numbers[-2]\n",
        "    return answer\n",
        "    # max()만 생각하다 시간 보냄. 보다 넓게 생각 해야함"
      ],
      "metadata": {
        "id": "pHmgd_VH1fhP"
      },
      "execution_count": 8,
      "outputs": []
    },
    {
      "cell_type": "code",
      "source": [
        "numbers = [1, 2, 3, 4, 5]\n",
        "solution(numbers)"
      ],
      "metadata": {
        "colab": {
          "base_uri": "https://localhost:8080/"
        },
        "id": "pvFAaw4K185-",
        "outputId": "32122afe-f0e8-4ad5-8c91-870073cc7230"
      },
      "execution_count": 9,
      "outputs": [
        {
          "output_type": "execute_result",
          "data": {
            "text/plain": [
              "20"
            ]
          },
          "metadata": {},
          "execution_count": 9
        }
      ]
    },
    {
      "cell_type": "code",
      "source": [
        "numbers = [0, 31, 24, 10, 1, 9]\n",
        "solution(numbers)"
      ],
      "metadata": {
        "colab": {
          "base_uri": "https://localhost:8080/"
        },
        "id": "7PgrR7V22CJe",
        "outputId": "297d572e-7b88-44dd-f5d9-2b4f36f54372"
      },
      "execution_count": 10,
      "outputs": [
        {
          "output_type": "execute_result",
          "data": {
            "text/plain": [
              "744"
            ]
          },
          "metadata": {},
          "execution_count": 10
        }
      ]
    },
    {
      "cell_type": "code",
      "source": [
        "# 다른사람 풀이"
      ],
      "metadata": {
        "id": "kCoU15xk4tBG"
      },
      "execution_count": 20,
      "outputs": []
    },
    {
      "cell_type": "code",
      "source": [
        "# pop()으로 뽑아내기\n",
        "def solution(numbers):\n",
        "\n",
        "    numbers.sort()\n",
        "\n",
        "    num1 = numbers.pop()\n",
        "    num2 = numbers.pop()\n",
        "    answer = num1 * num2\n",
        "\n",
        "    return answer"
      ],
      "metadata": {
        "id": "RUlDArlZ3r1m"
      },
      "execution_count": 21,
      "outputs": []
    },
    {
      "cell_type": "code",
      "source": [
        "# 정렬을 내림차순으로 해서 앞에꺼 찾기\n",
        "def solution(numbers):\n",
        "    numbers.sort(reverse=True)\n",
        "    return numbers[0]*numbers[1]"
      ],
      "metadata": {
        "id": "MFpbEtR64MA9"
      },
      "execution_count": 22,
      "outputs": []
    },
    {
      "cell_type": "code",
      "source": [
        "# 이렇게도 정렬 가능\n",
        "def solution(numbers):\n",
        "    numbers = sorted(numbers, reverse=True)\n",
        "    return numbers[0]*numbers[1]"
      ],
      "metadata": {
        "id": "X8u1A0B25GDW"
      },
      "execution_count": 23,
      "outputs": []
    },
    {
      "cell_type": "code",
      "source": [],
      "metadata": {
        "id": "kYVsqyGM5UDN"
      },
      "execution_count": null,
      "outputs": []
    }
  ]
}