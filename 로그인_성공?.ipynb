{
  "nbformat": 4,
  "nbformat_minor": 0,
  "metadata": {
    "colab": {
      "provenance": [],
      "authorship_tag": "ABX9TyMYh6Do/EXL5g9u2lX84bRT",
      "include_colab_link": true
    },
    "kernelspec": {
      "name": "python3",
      "display_name": "Python 3"
    },
    "language_info": {
      "name": "python"
    }
  },
  "cells": [
    {
      "cell_type": "markdown",
      "metadata": {
        "id": "view-in-github",
        "colab_type": "text"
      },
      "source": [
        "<a href=\"https://colab.research.google.com/github/YonggunJung/Programmers/blob/main/%EB%A1%9C%EA%B7%B8%EC%9D%B8_%EC%84%B1%EA%B3%B5%3F.ipynb\" target=\"_parent\"><img src=\"https://colab.research.google.com/assets/colab-badge.svg\" alt=\"Open In Colab\"/></a>"
      ]
    },
    {
      "cell_type": "code",
      "execution_count": 47,
      "metadata": {
        "id": "BLimPs90CaFH"
      },
      "outputs": [],
      "source": [
        "# 문제 설명\n",
        "# 머쓱이는 프로그래머스에 로그인하려고 합니다.\n",
        "# 머쓱이가 입력한 아이디와 패스워드가 담긴 배열 id_pw와\n",
        "# 회원들의 정보가 담긴 2차원 배열 db가 주어질 때,\n",
        "# 다음과 같이 로그인 성공, 실패에 따른 메시지를 return하도록 solution 함수를 완성해주세요.\n",
        "\n",
        "# 아이디와 비밀번호가 모두 일치하는 회원정보가 있으면 \"login\"을 return합니다.\n",
        "# 로그인이 실패했을 때 아이디가 일치하는 회원이 없다면 “fail”를,\n",
        "# 아이디는 일치하지만 비밀번호가 일치하는 회원이 없다면 “wrong pw”를 return 합니다.\n",
        "\n",
        "# 제한사항\n",
        "# 회원들의 아이디는 문자열입니다.\n",
        "# 회원들의 아이디는 알파벳 소문자와 숫자로만 이루어져 있습니다.\n",
        "# 회원들의 패스워드는 숫자로 구성된 문자열입니다.\n",
        "# 회원들의 비밀번호는 같을 수 있지만 아이디는 같을 수 없습니다.\n",
        "# id_pw의 길이는 2입니다.\n",
        "# id_pw와 db의 원소는 [아이디, 패스워드] 형태입니다.\n",
        "# 1 ≤ 아이디의 길이 ≤ 15\n",
        "# 1 ≤ 비밀번호의 길이 ≤ 6\n",
        "# 1 ≤ db의 길이 ≤ 10\n",
        "# db의 원소의 길이는 2입니다.\n",
        "\n",
        "# 입출력 예\n",
        "# id_pw\t                         db\t                                                                                        result\n",
        "# [\"meosseugi\", \"1234\"]\t         [[\"rardss\", \"123\"], [\"yyoom\", \"1234\"], [\"meosseugi\", \"1234\"]]\t                            \"login\"\n",
        "# [\"programmer01\", \"15789\"]\t     [[\"programmer02\", \"111111\"], [\"programmer00\", \"134\"], [\"programmer01\", \"1145\"]]\t          \"wrong pw\"\n",
        "# [\"rabbit04\", \"98761\"]\t         [[\"jaja11\", \"98761\"], [\"krong0313\", \"29440\"], [\"rabbit00\", \"111333\"]]\t                    \"fail\"\n",
        "\n",
        "# 입출력 예 설명\n",
        "# 입출력 예 #1\n",
        "# db에 같은 정보의 계정이 있으므로 \"login\"을 return합니다.\n",
        "\n",
        "# 입출력 예 #2\n",
        "# db에 아이디는 같지만 패스워드가 다른 계정이 있으므로 \"wrong pw\"를 return합니다.\n",
        "\n",
        "# 입출력 예 #3\n",
        "# db에 아이디가 맞는 계정이 없으므로 \"fail\"을 return합니다."
      ]
    },
    {
      "cell_type": "code",
      "source": [
        "# 이 코드가 왜 틀린건지 모르겠음\n",
        "# 코드 실행도 다 나오는데\n",
        "# 채점하면 테스트 결과 1에서  실패뜸 이유도 안알려줌\n",
        "# def solution(id_pw, db):\n",
        "#     answer = \"\"\n",
        "#     for i in db:\n",
        "#       if i[0] == id_pw[0]:\n",
        "#         pass\n",
        "#         if i[1] == id_pw[1]:\n",
        "#           answer = \"login\"\n",
        "#         else:\n",
        "#           answer = \"wrong pw\"\n",
        "#       else:\n",
        "#         answer = \"fail\"\n",
        "\n",
        "#     return answer"
      ],
      "metadata": {
        "id": "LCsDA7IPDJaR"
      },
      "execution_count": 48,
      "outputs": []
    },
    {
      "cell_type": "code",
      "source": [
        "# 풀이\n",
        "# 내거랑 뭐가 다른지 모르겠는데 이건 통과\n",
        "def solution(id_pw, db):\n",
        "    myid, mypw = id_pw\n",
        "    answer = \"fail\"\n",
        "    for dbid, dbpw in db:\n",
        "      if myid == dbid:\n",
        "        if mypw == dbpw:\n",
        "          answer = \"login\"\n",
        "        else:\n",
        "          answer = \"wrong pw\"\n",
        "\n",
        "\n",
        "\n",
        "\n",
        "    return answer"
      ],
      "metadata": {
        "id": "H4VrVa_hHxRk"
      },
      "execution_count": 49,
      "outputs": []
    },
    {
      "cell_type": "code",
      "source": [
        "id_pw = [\"meosseugi\", \"1234\"]\n",
        "db = [[\"rardss\", \"123\"], [\"yyoom\", \"1234\"], [\"meosseugi\", \"1234\"]]\n",
        "solution(id_pw, db)"
      ],
      "metadata": {
        "colab": {
          "base_uri": "https://localhost:8080/",
          "height": 35
        },
        "id": "3HsmwJFsE8gQ",
        "outputId": "4fae7992-8bd8-4dcf-bb3a-b68e48db9ab1"
      },
      "execution_count": 50,
      "outputs": [
        {
          "output_type": "execute_result",
          "data": {
            "text/plain": [
              "'login'"
            ],
            "application/vnd.google.colaboratory.intrinsic+json": {
              "type": "string"
            }
          },
          "metadata": {},
          "execution_count": 50
        }
      ]
    },
    {
      "cell_type": "code",
      "source": [
        "id_pw = [\"programmer01\", \"15789\"]\n",
        "db = [[\"programmer02\", \"111111\"], [\"programmer00\", \"134\"], [\"programmer01\", \"1145\"]]\n",
        "solution(id_pw, db)"
      ],
      "metadata": {
        "colab": {
          "base_uri": "https://localhost:8080/",
          "height": 35
        },
        "id": "MC9Zhy2mFBb7",
        "outputId": "52771c3d-721d-4e07-c060-a3aaeb5c1ab0"
      },
      "execution_count": 51,
      "outputs": [
        {
          "output_type": "execute_result",
          "data": {
            "text/plain": [
              "'wrong pw'"
            ],
            "application/vnd.google.colaboratory.intrinsic+json": {
              "type": "string"
            }
          },
          "metadata": {},
          "execution_count": 51
        }
      ]
    },
    {
      "cell_type": "code",
      "source": [
        "id_pw = [\"rabbit04\", \"98761\"]\n",
        "db = [[\"jaja11\", \"98761\"], [\"krong0313\", \"29440\"], [\"rabbit00\", \"111333\"]]\n",
        "solution(id_pw, db)"
      ],
      "metadata": {
        "colab": {
          "base_uri": "https://localhost:8080/",
          "height": 35
        },
        "id": "HYKRfXeOFBei",
        "outputId": "971a4f7c-7fed-47f7-a615-e25fb2ad4665"
      },
      "execution_count": 52,
      "outputs": [
        {
          "output_type": "execute_result",
          "data": {
            "text/plain": [
              "'fail'"
            ],
            "application/vnd.google.colaboratory.intrinsic+json": {
              "type": "string"
            }
          },
          "metadata": {},
          "execution_count": 52
        }
      ]
    },
    {
      "cell_type": "code",
      "source": [
        "# 다른 사람 풀이"
      ],
      "metadata": {
        "id": "RsyRh0l5FBhb"
      },
      "execution_count": null,
      "outputs": []
    },
    {
      "cell_type": "code",
      "source": [
        "# := 처음 보는 연산자. 할당과 비교까지 같이 할 수 있어서 조금은 코드 길이가 짧아지리라 기대한다.\n",
        "#  dict(db). 리스트의 값들이 key/value 쌍을 맞출 수 있는 2개로 구성되어 있으면, dictionary 형태로 변경이 가능합니다.\n",
        "def solution(id_pw, db):\n",
        "    if db_pw := dict(db).get(id_pw[0]):\n",
        "        return \"login\" if db_pw == id_pw[1] else \"wrong pw\"\n",
        "    return \"fail\"\n",
        "# 나머진 거의 비슷"
      ],
      "metadata": {
        "id": "dNd-q5XJJyO9"
      },
      "execution_count": null,
      "outputs": []
    }
  ]
}