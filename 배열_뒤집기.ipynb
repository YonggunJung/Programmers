{
  "nbformat": 4,
  "nbformat_minor": 0,
  "metadata": {
    "colab": {
      "provenance": [],
      "authorship_tag": "ABX9TyM4Lal+ic0NJ9t7TqVzITUy",
      "include_colab_link": true
    },
    "kernelspec": {
      "name": "python3",
      "display_name": "Python 3"
    },
    "language_info": {
      "name": "python"
    }
  },
  "cells": [
    {
      "cell_type": "markdown",
      "metadata": {
        "id": "view-in-github",
        "colab_type": "text"
      },
      "source": [
        "<a href=\"https://colab.research.google.com/github/YonggunJung/Programmers/blob/main/%EB%B0%B0%EC%97%B4_%EB%92%A4%EC%A7%91%EA%B8%B0.ipynb\" target=\"_parent\"><img src=\"https://colab.research.google.com/assets/colab-badge.svg\" alt=\"Open In Colab\"/></a>"
      ]
    },
    {
      "cell_type": "code",
      "execution_count": 1,
      "metadata": {
        "id": "guQBzifAINk0"
      },
      "outputs": [],
      "source": [
        "# 문제 설명\n",
        "# 정수가 들어 있는 배열 num_list가 매개변수로 주어집니다.\n",
        "# num_list의 원소의 순서를 거꾸로 뒤집은 배열을 return하도록 solution 함수를 완성해주세요.\n",
        "\n",
        "# 제한사항\n",
        "# 1 ≤ num_list의 길이 ≤ 1,000\n",
        "# 0 ≤ num_list의 원소 ≤ 1,000\n",
        "\n",
        "# 입출력 예\n",
        "# num_list\t                  result\n",
        "# [1, 2, 3, 4, 5]\t            [5, 4, 3, 2, 1]\n",
        "# [1, 1, 1, 1, 1, 2]\t        [2, 1, 1, 1, 1, 1]\n",
        "# [1, 0, 1, 1, 1, 3, 5]\t      [5, 3, 1, 1, 1, 0, 1]\n",
        "\n",
        "# 입출력 예 설명\n",
        "# 입출력 예 #1\n",
        "# num_list가 [1, 2, 3, 4, 5]이므로 순서를 거꾸로 뒤집은 배열 [5, 4, 3, 2, 1]을 return합니다.\n",
        "\n",
        "# 입출력 예 #2\n",
        "# num_list가 [1, 1, 1, 1, 1, 2]이므로 순서를 거꾸로 뒤집은 배열 [2, 1, 1, 1, 1, 1]을 return합니다.\n",
        "\n",
        "# 입출력 예 #3\n",
        "# num_list가 [1, 0, 1, 1, 1, 3, 5]이므로 순서를 거꾸로 뒤집은 배열 [5, 3, 1, 1, 1, 0, 1]을 return합니다."
      ]
    },
    {
      "cell_type": "code",
      "source": [
        "def solution(num_list):\n",
        "    answer = num_list[: : -1]\n",
        "    return answer"
      ],
      "metadata": {
        "id": "7bANTFUbIV7p"
      },
      "execution_count": 14,
      "outputs": []
    },
    {
      "cell_type": "code",
      "source": [
        "num_list = [1, 2, 3, 4, 5]\n",
        "solution(num_list)"
      ],
      "metadata": {
        "colab": {
          "base_uri": "https://localhost:8080/"
        },
        "id": "HG4hxe9UImlo",
        "outputId": "dce3338a-e8b1-4e50-ea2c-926e1996f1a1"
      },
      "execution_count": 15,
      "outputs": [
        {
          "output_type": "execute_result",
          "data": {
            "text/plain": [
              "[5, 4, 3, 2, 1]"
            ]
          },
          "metadata": {},
          "execution_count": 15
        }
      ]
    },
    {
      "cell_type": "code",
      "source": [
        "num_list = [1, 1, 1, 1, 1, 2]\n",
        "solution(num_list)"
      ],
      "metadata": {
        "colab": {
          "base_uri": "https://localhost:8080/"
        },
        "id": "brE4nBbTIsPw",
        "outputId": "20b5ecb6-7d1d-4cf8-b927-297fa637559e"
      },
      "execution_count": 16,
      "outputs": [
        {
          "output_type": "execute_result",
          "data": {
            "text/plain": [
              "[2, 1, 1, 1, 1, 1]"
            ]
          },
          "metadata": {},
          "execution_count": 16
        }
      ]
    },
    {
      "cell_type": "code",
      "source": [
        "num_list = [1, 0, 1, 1, 1, 3, 5]\n",
        "solution(num_list)"
      ],
      "metadata": {
        "colab": {
          "base_uri": "https://localhost:8080/"
        },
        "id": "ukpmz3qSJ7CX",
        "outputId": "59fc36db-2b0d-401e-d282-72b3823c34ee"
      },
      "execution_count": 17,
      "outputs": [
        {
          "output_type": "execute_result",
          "data": {
            "text/plain": [
              "[5, 3, 1, 1, 1, 0, 1]"
            ]
          },
          "metadata": {},
          "execution_count": 17
        }
      ]
    },
    {
      "cell_type": "code",
      "source": [
        "# 다른사람 풀이"
      ],
      "metadata": {
        "id": "eHUktpxBJ-CY"
      },
      "execution_count": 18,
      "outputs": []
    },
    {
      "cell_type": "code",
      "source": [
        "# pop() 이용\n",
        "def solution(num_list):\n",
        "    result =[]\n",
        "    while(num_list):\n",
        "        result.append(num_list.pop())\n",
        "    return result"
      ],
      "metadata": {
        "id": "Lju0GnB5KFNh"
      },
      "execution_count": 19,
      "outputs": []
    },
    {
      "cell_type": "code",
      "source": [
        "# 이거 헷갈렸음\n",
        "def solution(num_list):\n",
        "    num_list.reverse()\n",
        "    return num_list"
      ],
      "metadata": {
        "id": "z8ydgzh9KsSi"
      },
      "execution_count": null,
      "outputs": []
    },
    {
      "cell_type": "code",
      "source": [
        "# a가 왜 None인지 모르겠음\n",
        "num_list = [1, 0, 1, 1, 1, 3, 5]\n",
        "a = num_list.reverse()\n",
        "print(a)"
      ],
      "metadata": {
        "colab": {
          "base_uri": "https://localhost:8080/"
        },
        "id": "0vYhDRg1KLZ3",
        "outputId": "2a57dbe4-83dd-408a-a37e-4c34dea32eb4"
      },
      "execution_count": 25,
      "outputs": [
        {
          "output_type": "stream",
          "name": "stdout",
          "text": [
            "None\n"
          ]
        }
      ]
    },
    {
      "cell_type": "code",
      "source": [
        "#  이렇게 하니까 됐음 ㅋㅋㅋㅋ 좀 그럼\n",
        "num_list = [1, 0, 1, 1, 1, 3, 5]\n",
        "num_list.reverse()\n",
        "num_list"
      ],
      "metadata": {
        "colab": {
          "base_uri": "https://localhost:8080/"
        },
        "id": "N5cfSQSUKU2H",
        "outputId": "5232aad4-1824-4fb4-eae3-032f38d9a290"
      },
      "execution_count": 24,
      "outputs": [
        {
          "output_type": "execute_result",
          "data": {
            "text/plain": [
              "[5, 3, 1, 1, 1, 0, 1]"
            ]
          },
          "metadata": {},
          "execution_count": 24
        }
      ]
    },
    {
      "cell_type": "code",
      "source": [],
      "metadata": {
        "id": "CY1OoZzsKesf"
      },
      "execution_count": null,
      "outputs": []
    }
  ]
}