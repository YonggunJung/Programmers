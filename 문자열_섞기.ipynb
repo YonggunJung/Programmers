{
  "nbformat": 4,
  "nbformat_minor": 0,
  "metadata": {
    "colab": {
      "provenance": [],
      "authorship_tag": "ABX9TyOQVegfygWeZVspUKEYSdY2",
      "include_colab_link": true
    },
    "kernelspec": {
      "name": "python3",
      "display_name": "Python 3"
    },
    "language_info": {
      "name": "python"
    }
  },
  "cells": [
    {
      "cell_type": "markdown",
      "metadata": {
        "id": "view-in-github",
        "colab_type": "text"
      },
      "source": [
        "<a href=\"https://colab.research.google.com/github/YonggunJung/Programmers/blob/main/%EB%AC%B8%EC%9E%90%EC%97%B4_%EC%84%9E%EA%B8%B0.ipynb\" target=\"_parent\"><img src=\"https://colab.research.google.com/assets/colab-badge.svg\" alt=\"Open In Colab\"/></a>"
      ]
    },
    {
      "cell_type": "code",
      "execution_count": 1,
      "metadata": {
        "id": "-G7u31LToOJL"
      },
      "outputs": [],
      "source": [
        "# 문제 설명\n",
        "# 길이가 같은 두 문자열 str1과 str2가 주어집니다.\n",
        "\n",
        "# 두 문자열의 각 문자가 앞에서부터 서로 번갈아가면서 한 번씩 등장하는 문자열을 만들어\n",
        "# return 하는 solution 함수를 완성해 주세요.\n",
        "\n",
        "# 제한사항\n",
        "# 1 ≤ str1의 길이 = str2의 길이 ≤ 10\n",
        "# str1과 str2는 알파벳 소문자로 이루어진 문자열입니다.\n",
        "\n",
        "# 입출력 예\n",
        "# str1\t      str2\t      result\n",
        "# \"aaaaa\"\t    \"bbbbb\"\t    \"ababababab\""
      ]
    },
    {
      "cell_type": "code",
      "source": [
        "# 이 쉬운걸 혼자 이상한 짓하고 한 30분 헤맴 ㅠㅠ\n",
        "def solution(str1, str2):\n",
        "    answer = ''\n",
        "    for i in range(len(str1)):\n",
        "      answer += str1[i] + str2[i]\n",
        "    return answer"
      ],
      "metadata": {
        "id": "e6cdES6uoVmU"
      },
      "execution_count": 43,
      "outputs": []
    },
    {
      "cell_type": "code",
      "source": [
        "str1 = \"aaaaa\"\n",
        "str2 = \"bbbbb\"\n",
        "solution(str1, str2)"
      ],
      "metadata": {
        "colab": {
          "base_uri": "https://localhost:8080/",
          "height": 35
        },
        "id": "L6EYTgPYoWnG",
        "outputId": "c291f939-92cd-448c-c213-fd7524953bdf"
      },
      "execution_count": 44,
      "outputs": [
        {
          "output_type": "execute_result",
          "data": {
            "text/plain": [
              "'ababababab'"
            ],
            "application/vnd.google.colaboratory.intrinsic+json": {
              "type": "string"
            }
          },
          "metadata": {},
          "execution_count": 44
        }
      ]
    },
    {
      "cell_type": "code",
      "source": [
        "# 다른 사람 풀이"
      ],
      "metadata": {
        "id": "7C8-gkoooXHh"
      },
      "execution_count": 45,
      "outputs": []
    },
    {
      "cell_type": "code",
      "source": [
        "def solution(str1, str2):\n",
        "    answer = ''.join([str1[i] + str2[i] for i in range(len(str1))])\n",
        "    return answer"
      ],
      "metadata": {
        "id": "u1SYRnMxwpRn"
      },
      "execution_count": 46,
      "outputs": []
    },
    {
      "cell_type": "code",
      "source": [
        "def solution(str1, str2):\n",
        "    answer = []\n",
        "    for i in range(len(str1)):\n",
        "        answer.append(str1[i])\n",
        "        answer.append(str2[i])\n",
        "    return ''.join(answer)"
      ],
      "metadata": {
        "id": "dGafQGoJwvjN"
      },
      "execution_count": null,
      "outputs": []
    }
  ]
}