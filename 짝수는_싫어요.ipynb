{
  "nbformat": 4,
  "nbformat_minor": 0,
  "metadata": {
    "colab": {
      "provenance": [],
      "authorship_tag": "ABX9TyPfK3pqgV6qLbBqCqceWze/",
      "include_colab_link": true
    },
    "kernelspec": {
      "name": "python3",
      "display_name": "Python 3"
    },
    "language_info": {
      "name": "python"
    }
  },
  "cells": [
    {
      "cell_type": "markdown",
      "metadata": {
        "id": "view-in-github",
        "colab_type": "text"
      },
      "source": [
        "<a href=\"https://colab.research.google.com/github/YonggunJung/Programmers/blob/main/%EC%A7%9D%EC%88%98%EB%8A%94_%EC%8B%AB%EC%96%B4%EC%9A%94.ipynb\" target=\"_parent\"><img src=\"https://colab.research.google.com/assets/colab-badge.svg\" alt=\"Open In Colab\"/></a>"
      ]
    },
    {
      "cell_type": "code",
      "execution_count": 1,
      "metadata": {
        "id": "MIxwEGFVOrAG"
      },
      "outputs": [],
      "source": [
        "# 문제 설명\n",
        "# 정수 n이 매개변수로 주어질 때,\n",
        "# n 이하의 홀수가 오름차순으로 담긴 배열을 return하도록 solution 함수를 완성해주세요.\n",
        "\n",
        "# 제한사항\n",
        "# 1 ≤ n ≤ 100\n",
        "\n",
        "# 입출력 예\n",
        "# n\t          result\n",
        "# 10\t        [1, 3, 5, 7, 9]\n",
        "# 15\t        [1, 3, 5, 7, 9, 11, 13, 15]\n",
        "\n",
        "# 입출력 예 설명\n",
        "# 입출력 #1\n",
        "# 10 이하의 홀수가 담긴 배열 [1, 3, 5, 7, 9]를 return합니다.\n",
        "\n",
        "# 입출력 #1\n",
        "# 15 이하의 홀수가 담긴 배열 [1, 3, 5, 7, 9, 11, 13, 15]를 return합니다."
      ]
    },
    {
      "cell_type": "code",
      "source": [
        "def solution(n):\n",
        "    answer = [i for i in range(1, n+1, 2)]\n",
        "    return answer"
      ],
      "metadata": {
        "id": "YphH2rUkOxnD"
      },
      "execution_count": 12,
      "outputs": []
    },
    {
      "cell_type": "code",
      "source": [
        "def solution(n):\n",
        "    answer = []\n",
        "    for i in range(1, n+1):\n",
        "      if i % 2 != 0:\n",
        "        answer.append(i)\n",
        "\n",
        "    return answer"
      ],
      "metadata": {
        "id": "nqQZ-dZ7Q06U"
      },
      "execution_count": 18,
      "outputs": []
    },
    {
      "cell_type": "code",
      "source": [
        "n = 10\n",
        "solution(n)"
      ],
      "metadata": {
        "colab": {
          "base_uri": "https://localhost:8080/"
        },
        "id": "cUuJzeBZPD4C",
        "outputId": "239f1451-b50b-448a-a9b1-8dd8ad22b909"
      },
      "execution_count": 19,
      "outputs": [
        {
          "output_type": "execute_result",
          "data": {
            "text/plain": [
              "[1, 3, 5, 7, 9]"
            ]
          },
          "metadata": {},
          "execution_count": 19
        }
      ]
    },
    {
      "cell_type": "code",
      "source": [
        "n = 15\n",
        "solution(n)"
      ],
      "metadata": {
        "colab": {
          "base_uri": "https://localhost:8080/"
        },
        "id": "91zNu9JiPH89",
        "outputId": "cce1d3a6-aff4-40ac-ea51-5f5aba43f0ac"
      },
      "execution_count": 20,
      "outputs": [
        {
          "output_type": "execute_result",
          "data": {
            "text/plain": [
              "[1, 3, 5, 7, 9, 11, 13, 15]"
            ]
          },
          "metadata": {},
          "execution_count": 20
        }
      ]
    },
    {
      "cell_type": "code",
      "source": [
        "# 다른 사람 풀이"
      ],
      "metadata": {
        "id": "Qkj0kewlPykS"
      },
      "execution_count": 21,
      "outputs": []
    },
    {
      "cell_type": "code",
      "source": [
        "# 이렇게도 가능\n",
        "def solution(n):\n",
        "    return list(range(1, n+1, 2))"
      ],
      "metadata": {
        "id": "ciF6qEnXRCEc"
      },
      "execution_count": 22,
      "outputs": []
    },
    {
      "cell_type": "code",
      "source": [
        "# 내꺼 약간 틀어서, 똑같은거임\n",
        "def solution(n):\n",
        "    answer = []\n",
        "\n",
        "    for i in range(1, n + 1):\n",
        "        if i % 2 == 1:\n",
        "            answer.append(i)\n",
        "\n",
        "    return answer"
      ],
      "metadata": {
        "id": "eyQouuKFRTox"
      },
      "execution_count": null,
      "outputs": []
    }
  ]
}