{
  "nbformat": 4,
  "nbformat_minor": 0,
  "metadata": {
    "colab": {
      "provenance": [],
      "authorship_tag": "ABX9TyOqAk22QiBTlQJIO8wVUXW3",
      "include_colab_link": true
    },
    "kernelspec": {
      "name": "python3",
      "display_name": "Python 3"
    },
    "language_info": {
      "name": "python"
    }
  },
  "cells": [
    {
      "cell_type": "markdown",
      "metadata": {
        "id": "view-in-github",
        "colab_type": "text"
      },
      "source": [
        "<a href=\"https://colab.research.google.com/github/YonggunJung/Programmers/blob/main/%EB%AC%B8%EC%9E%90%EC%97%B4_%EA%B2%B9%EC%B3%90%EC%93%B0%EA%B8%B0.ipynb\" target=\"_parent\"><img src=\"https://colab.research.google.com/assets/colab-badge.svg\" alt=\"Open In Colab\"/></a>"
      ]
    },
    {
      "cell_type": "code",
      "execution_count": 1,
      "metadata": {
        "id": "oVgllYXvi5wW"
      },
      "outputs": [],
      "source": [
        "# 문제 설명\n",
        "# 문자열 my_string, overwrite_string과 정수 s가 주어집니다.\n",
        "# 문자열 my_string의 인덱스 s부터 overwrite_string의 길이만큼을\n",
        "# 문자열 overwrite_string으로 바꾼 문자열을 return 하는 solution 함수를 작성해 주세요.\n",
        "\n",
        "# 제한사항\n",
        "# my_string와 overwrite_string은 숫자와 알파벳으로 이루어져 있습니다.\n",
        "# 1 ≤ overwrite_string의 길이 ≤ my_string의 길이 ≤ 1,000\n",
        "# 0 ≤ s ≤ my_string의 길이 - overwrite_string의 길이\n",
        "\n",
        "# 입출력 예\n",
        "# my_string\t          overwrite_string\t      s\t      result\n",
        "# \"He11oWor1d\"\t      \"lloWorl\"\t              2\t      \"HelloWorld\"\n",
        "# \"Program29b8UYP\"\t  \"merS123\"\t              7\t      \"ProgrammerS123\"\n",
        "\n",
        "# 입출력 예 설명\n",
        "# 입출력 예 #1\n",
        "# 예제 1번의 my_string에서 인덱스 2부터\n",
        "# overwrite_string의 길이만큼에 해당하는 부분은 \"11oWor1\"이고\n",
        "# 이를 \"lloWorl\"로 바꾼 \"HelloWorld\"를 return 합니다.\n",
        "\n",
        "# 입출력 예 #2\n",
        "# 예제 2번의 my_string에서 인덱스 7부터\n",
        "# overwrite_string의 길이만큼에 해당하는 부분은 \"29b8UYP\"이고\n",
        "# 이를 \"merS123\"로 바꾼 \"ProgrammerS123\"를 return 합니다."
      ]
    },
    {
      "cell_type": "code",
      "source": [
        "# 괜히 for문 써서 시간 날림\n",
        "def solution(my_string, overwrite_string, s):\n",
        "    answer = my_string[:s] + overwrite_string + my_string[s+len(overwrite_string):]\n",
        "    return answer"
      ],
      "metadata": {
        "id": "waC1ikrQjaLe"
      },
      "execution_count": 24,
      "outputs": []
    },
    {
      "cell_type": "code",
      "source": [
        "my_string = \"He11oWor1d\"\n",
        "overwrite_string = \"lloWorl\"\n",
        "s = 2\n",
        "solution(my_string, overwrite_string, s)"
      ],
      "metadata": {
        "colab": {
          "base_uri": "https://localhost:8080/",
          "height": 35
        },
        "id": "XOczEQ6mjc60",
        "outputId": "f234026c-522a-4c65-dbf4-73ba8ab30e86"
      },
      "execution_count": 25,
      "outputs": [
        {
          "output_type": "execute_result",
          "data": {
            "text/plain": [
              "'HelloWorld'"
            ],
            "application/vnd.google.colaboratory.intrinsic+json": {
              "type": "string"
            }
          },
          "metadata": {},
          "execution_count": 25
        }
      ]
    },
    {
      "cell_type": "code",
      "source": [
        "my_string = \"Program29b8UYP\"\n",
        "overwrite_string = \"merS123\"\n",
        "s = 7\n",
        "solution(my_string, overwrite_string, s)"
      ],
      "metadata": {
        "colab": {
          "base_uri": "https://localhost:8080/",
          "height": 35
        },
        "id": "Yq7CnfrqjhqL",
        "outputId": "2ed88cd3-f8d6-4e16-9ac7-11dd65f1b1f8"
      },
      "execution_count": 26,
      "outputs": [
        {
          "output_type": "execute_result",
          "data": {
            "text/plain": [
              "'ProgrammerS123'"
            ],
            "application/vnd.google.colaboratory.intrinsic+json": {
              "type": "string"
            }
          },
          "metadata": {},
          "execution_count": 26
        }
      ]
    },
    {
      "cell_type": "code",
      "source": [
        "# 이거 편해 보임\n",
        "def solution(my_string, over, s):\n",
        "    a=list(my_string)\n",
        "    b=list(over)\n",
        "    a[s:s+len(b)]=b\n",
        "    return ''.join(a)"
      ],
      "metadata": {
        "id": "cXZaC_TKjhn_"
      },
      "execution_count": 27,
      "outputs": []
    },
    {
      "cell_type": "code",
      "source": [
        "# for문은 이렇게 쓰면 되는군\n",
        "def solution(my_string, overwrite_string, s):\n",
        "    answer = ''\n",
        "    for i in range(len(my_string)):\n",
        "        if i<s or i>len(overwrite_string)+s-1:\n",
        "            answer += my_string[i]\n",
        "        else:\n",
        "            answer += overwrite_string[i-s]\n",
        "    return answer"
      ],
      "metadata": {
        "id": "1O_KoWZtoBi0"
      },
      "execution_count": null,
      "outputs": []
    }
  ]
}