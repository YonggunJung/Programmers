{
  "nbformat": 4,
  "nbformat_minor": 0,
  "metadata": {
    "colab": {
      "provenance": [],
      "authorship_tag": "ABX9TyMiU+v8wUs3WXX+1w136E4u",
      "include_colab_link": true
    },
    "kernelspec": {
      "name": "python3",
      "display_name": "Python 3"
    },
    "language_info": {
      "name": "python"
    }
  },
  "cells": [
    {
      "cell_type": "markdown",
      "metadata": {
        "id": "view-in-github",
        "colab_type": "text"
      },
      "source": [
        "<a href=\"https://colab.research.google.com/github/YonggunJung/Programmers/blob/main/%EC%A0%90%ED%94%84%EC%99%80_%EC%88%9C%EA%B0%84_%EC%9D%B4%EB%8F%99.ipynb\" target=\"_parent\"><img src=\"https://colab.research.google.com/assets/colab-badge.svg\" alt=\"Open In Colab\"/></a>"
      ]
    },
    {
      "cell_type": "code",
      "execution_count": 1,
      "metadata": {
        "id": "sv9PWb3mbhiQ"
      },
      "outputs": [],
      "source": [
        "# 문제 설명\n",
        "# OO 연구소는 한 번에 K 칸을 앞으로 점프하거나,\n",
        "# (현재까지 온 거리) x 2 에 해당하는 위치로 순간이동을 할 수 있는\n",
        "# 특수한 기능을 가진 아이언 슈트를 개발하여 판매하고 있습니다.\n",
        "# 이 아이언 슈트는 건전지로 작동되는데,\n",
        "# 순간이동을 하면 건전지 사용량이 줄지 않지만,\n",
        "# 앞으로 K 칸을 점프하면 K 만큼의 건전지 사용량이 듭니다.\n",
        "# 그러므로 아이언 슈트를 착용하고 이동할 때는 순간 이동을 하는 것이 더 효율적입니다.\n",
        "# 아이언 슈트 구매자는 아이언 슈트를 착용하고 거리가 N 만큼 떨어져 있는 장소로 가려고 합니다.\n",
        "# 단, 건전지 사용량을 줄이기 위해 점프로 이동하는 것은 최소로 하려고 합니다.\n",
        "# 아이언 슈트 구매자가 이동하려는 거리 N이 주어졌을 때,\n",
        "# 사용해야 하는 건전지 사용량의 최솟값을 return하는 solution 함수를 만들어 주세요.\n",
        "\n",
        "# 예를 들어 거리가 5만큼 떨어져 있는 장소로 가려고 합니다.\n",
        "# 아이언 슈트를 입고 거리가 5만큼 떨어져 있는 장소로 갈 수 있는 경우의 수는 여러 가지입니다.\n",
        "\n",
        "# 처음 위치 0 에서 5 칸을 앞으로 점프하면 바로 도착하지만, 건전지 사용량이 5 만큼 듭니다.\n",
        "# 처음 위치 0 에서 2 칸을 앞으로 점프한 다음 순간이동 하면\n",
        "#  (현재까지 온 거리 : 2) x 2에 해당하는 위치로 이동할 수 있으므로 위치 4로 이동합니다.\n",
        "#  이때 1 칸을 앞으로 점프하면 도착하므로 건전지 사용량이 3 만큼 듭니다.\n",
        "# 처음 위치 0 에서 1 칸을 앞으로 점프한 다음 순간이동 하면\n",
        "#  (현재까지 온 거리 : 1) x 2에 해당하는 위치로 이동할 수 있으므로 위치 2로 이동됩니다.\n",
        "#  이때 다시 순간이동 하면 (현재까지 온 거리 : 2) x 2 만큼 이동할 수 있으므로\n",
        "#  위치 4로 이동합니다.\n",
        "#  이때 1 칸을 앞으로 점프하면 도착하므로 건전지 사용량이 2 만큼 듭니다.\n",
        "# 위의 3가지 경우 거리가 5만큼 떨어져 있는 장소로 가기 위해서\n",
        "# 3번째 경우가 건전지 사용량이 가장 적으므로 답은 2가 됩니다.\n",
        "\n",
        "# 제한 사항\n",
        "# 숫자 N: 1 이상 10억 이하의 자연수\n",
        "# 숫자 K: 1 이상의 자연수\n",
        "\n",
        "# 입출력 예\n",
        "# N\t        result\n",
        "# 5\t          2\n",
        "# 6\t          2\n",
        "# 5000\t      5\n",
        "\n",
        "# 입출력 예 설명\n",
        "# 입출력 예 #1\n",
        "# 위의 예시와 같습니다.\n",
        "\n",
        "# 입출력 예 #2\n",
        "# 처음 위치 0 에서 1 칸을 앞으로 점프한 다음 순간이동 하면\n",
        "#  (현재까지 온 거리 : 1) x 2에 해당하는 위치로 이동할 수 있으므로\n",
        "#  위치 2로 이동합니다. 이때 1 칸을 앞으로 점프하면 위치3으로 이동합니다.\n",
        "#  이때 다시 순간이동 하면 (현재까지 온 거리 : 3) x 2 이동할 수 있으므로\n",
        "#  위치 6에 도착합니다.\n",
        "#  이 경우가 건전지 사용량이 가장 적으므로 2를 반환해주면 됩니다.\n",
        "\n",
        "# 입출력 예 #3\n",
        "# 위와 같은 방식으로 합니다."
      ]
    },
    {
      "cell_type": "code",
      "source": [
        "def solution(n):\n",
        "    ans = 1\n",
        "    while n != 1:\n",
        "      if n % 2 == 0:\n",
        "        n //= 2\n",
        "      else:\n",
        "        n -= 1\n",
        "        ans += 1\n",
        "\n",
        "\n",
        "\n",
        "    # [실행] 버튼을 누르면 출력 값을 볼 수 있습니다.\n",
        "    print('Hello Python')\n",
        "\n",
        "    return ans"
      ],
      "metadata": {
        "id": "LoTFR6g9b4i1"
      },
      "execution_count": 2,
      "outputs": []
    },
    {
      "cell_type": "code",
      "source": [
        "# 다른 사람 풀이\n",
        "# 나름 잘 풀었다 생각했는데 이건 뭐냐? ㅋㅋㅋ\n",
        "def solution(n):\n",
        "    return bin(n).count('1')"
      ],
      "metadata": {
        "id": "ro6jgDLxe5-F"
      },
      "execution_count": 3,
      "outputs": []
    },
    {
      "cell_type": "code",
      "source": [],
      "metadata": {
        "id": "LKEVCDZUe7Ol"
      },
      "execution_count": null,
      "outputs": []
    }
  ]
}