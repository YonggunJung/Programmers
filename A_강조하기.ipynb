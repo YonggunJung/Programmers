{
  "nbformat": 4,
  "nbformat_minor": 0,
  "metadata": {
    "colab": {
      "provenance": [],
      "authorship_tag": "ABX9TyN2UCTl99mIlAMbsQMt1zT0",
      "include_colab_link": true
    },
    "kernelspec": {
      "name": "python3",
      "display_name": "Python 3"
    },
    "language_info": {
      "name": "python"
    }
  },
  "cells": [
    {
      "cell_type": "markdown",
      "metadata": {
        "id": "view-in-github",
        "colab_type": "text"
      },
      "source": [
        "<a href=\"https://colab.research.google.com/github/YonggunJung/Programmers/blob/main/A_%EA%B0%95%EC%A1%B0%ED%95%98%EA%B8%B0.ipynb\" target=\"_parent\"><img src=\"https://colab.research.google.com/assets/colab-badge.svg\" alt=\"Open In Colab\"/></a>"
      ]
    },
    {
      "cell_type": "code",
      "execution_count": 1,
      "metadata": {
        "id": "jPXWaVCzPzXS"
      },
      "outputs": [],
      "source": [
        "# 문제 설명\n",
        "# 문자열 myString이 주어집니다.\n",
        "# myString에서 알파벳 \"a\"가 등장하면 전부 \"A\"로 변환하고,\n",
        "# \"A\"가 아닌 모든 대문자 알파벳은 소문자 알파벳으로 변환하여\n",
        "# return 하는 solution 함수를 완성하세요.\n",
        "\n",
        "# 제한사항\n",
        "# 1 ≤ myString의 길이 ≤ 20\n",
        "# myString은 알파벳으로 이루어진 문자열입니다.\n",
        "\n",
        "# 입출력 예\n",
        "# myString\t                  result\n",
        "# \"abstract algebra\"\t        \"AbstrAct AlgebrA\"\n",
        "# \"PrOgRaMmErS\"\t              \"progrAmmers\"\n",
        "\n",
        "# 입출력 예 설명\n",
        "# 입출력 예 #1\n",
        "# 0번, 5번, 9번, 15번 인덱스의 \"a\"는 소문자이므로 전부 대문자로 고쳐줍니다.\n",
        "# 다른 문자들은 전부 \"a\"가 아닌 소문자이므로 바꾸지 않습니다.\n",
        "# 따라서 \"AbstrAct AlgebrA\"를 return 합니다.\n",
        "\n",
        "# 입출력 예 #2\n",
        "# 0번, 2번, 4번, 6번, 8번, 10번 인덱스의 문자들은 \"A\"가 아닌 대문자이므로\n",
        "# 전부 소문자로 고쳐줍니다.\n",
        "# 5번 인덱스의 \"a\"는 소문자이므로 대문자로 고쳐줍니다.\n",
        "# 다른 문자들은 전부 \"a\"가 아닌 소문자이므로 바꾸지 않습니다.\n",
        "# 따라서 \"progrAmmers\"를 return 합니다."
      ]
    },
    {
      "cell_type": "code",
      "source": [
        "def solution(myString):\n",
        "    answer = ''\n",
        "    msl = myString.lower()\n",
        "    for char in msl:\n",
        "      if char == 'a':\n",
        "        char = char.upper()\n",
        "      answer += char\n",
        "    return answer"
      ],
      "metadata": {
        "id": "6mEktWsSP8qj"
      },
      "execution_count": 6,
      "outputs": []
    },
    {
      "cell_type": "code",
      "source": [
        "myString = \"abstract algebra\"\n",
        "solution(myString)\n"
      ],
      "metadata": {
        "colab": {
          "base_uri": "https://localhost:8080/",
          "height": 35
        },
        "id": "ncafjr_4P_fC",
        "outputId": "5b026b3f-cb0c-415a-b443-aee9dda8cbba"
      },
      "execution_count": 7,
      "outputs": [
        {
          "output_type": "execute_result",
          "data": {
            "text/plain": [
              "'AbstrAct AlgebrA'"
            ],
            "application/vnd.google.colaboratory.intrinsic+json": {
              "type": "string"
            }
          },
          "metadata": {},
          "execution_count": 7
        }
      ]
    },
    {
      "cell_type": "code",
      "source": [
        "myString = \"PrOgRaMmErS\"\n",
        "solution(myString)"
      ],
      "metadata": {
        "colab": {
          "base_uri": "https://localhost:8080/",
          "height": 35
        },
        "id": "Nv7oDea0QCY_",
        "outputId": "365114c0-2123-421f-da0e-f8596e7a49bd"
      },
      "execution_count": 8,
      "outputs": [
        {
          "output_type": "execute_result",
          "data": {
            "text/plain": [
              "'progrAmmers'"
            ],
            "application/vnd.google.colaboratory.intrinsic+json": {
              "type": "string"
            }
          },
          "metadata": {},
          "execution_count": 8
        }
      ]
    },
    {
      "cell_type": "code",
      "source": [
        "# 다른 사람 풀이"
      ],
      "metadata": {
        "id": "g8VzM49EQCW1"
      },
      "execution_count": 9,
      "outputs": []
    },
    {
      "cell_type": "code",
      "source": [
        "# replace()로 간단히\n",
        "def solution(myString):\n",
        "    return myString.lower().replace('a', 'A')"
      ],
      "metadata": {
        "id": "auktqk7SRV21"
      },
      "execution_count": 10,
      "outputs": []
    },
    {
      "cell_type": "code",
      "source": [],
      "metadata": {
        "id": "Bq2yL2G1Ra1F"
      },
      "execution_count": null,
      "outputs": []
    }
  ]
}