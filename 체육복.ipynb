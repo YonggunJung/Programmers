{
  "nbformat": 4,
  "nbformat_minor": 0,
  "metadata": {
    "colab": {
      "provenance": [],
      "authorship_tag": "ABX9TyNEWu+hnuJFRquqi3Yvdy/E",
      "include_colab_link": true
    },
    "kernelspec": {
      "name": "python3",
      "display_name": "Python 3"
    },
    "language_info": {
      "name": "python"
    }
  },
  "cells": [
    {
      "cell_type": "markdown",
      "metadata": {
        "id": "view-in-github",
        "colab_type": "text"
      },
      "source": [
        "<a href=\"https://colab.research.google.com/github/YonggunJung/Programmers/blob/main/%EC%B2%B4%EC%9C%A1%EB%B3%B5.ipynb\" target=\"_parent\"><img src=\"https://colab.research.google.com/assets/colab-badge.svg\" alt=\"Open In Colab\"/></a>"
      ]
    },
    {
      "cell_type": "code",
      "execution_count": 1,
      "metadata": {
        "id": "bmR_CESt7OzR"
      },
      "outputs": [],
      "source": [
        "# 문제 설명\n",
        "# 점심시간에 도둑이 들어, 일부 학생이 체육복을 도난당했습니다.\n",
        "# 다행히 여벌 체육복이 있는 학생이 이들에게 체육복을 빌려주려 합니다.\n",
        "# 학생들의 번호는 체격 순으로 매겨져 있어,\n",
        "# 바로 앞번호의 학생이나 바로 뒷번호의 학생에게만 체육복을 빌려줄 수 있습니다.\n",
        "# 예를 들어, 4번 학생은 3번 학생이나 5번 학생에게만 체육복을 빌려줄 수 있습니다.\n",
        "# 체육복이 없으면 수업을 들을 수 없기 때문에\n",
        "# 체육복을 적절히 빌려 최대한 많은 학생이 체육수업을 들어야 합니다.\n",
        "\n",
        "# 전체 학생의 수 n, 체육복을 도난당한 학생들의 번호가 담긴 배열 lost,\n",
        "# 여벌의 체육복을 가져온 학생들의 번호가 담긴 배열 reserve가 매개변수로 주어질 때,\n",
        "# 체육수업을 들을 수 있는 학생의 최댓값을\n",
        "# return 하도록 solution 함수를 작성해주세요.\n",
        "\n",
        "# 제한사항\n",
        "# 전체 학생의 수는 2명 이상 30명 이하입니다.\n",
        "# 체육복을 도난당한 학생의 수는 1명 이상 n명 이하이고 중복되는 번호는 없습니다.\n",
        "# 여벌의 체육복을 가져온 학생의 수는 1명 이상 n명 이하이고 중복되는 번호는 없습니다.\n",
        "# 여벌 체육복이 있는 학생만 다른 학생에게 체육복을 빌려줄 수 있습니다.\n",
        "# 여벌 체육복을 가져온 학생이 체육복을 도난당했을 수 있습니다.\n",
        "# 이때 이 학생은 체육복을 하나만 도난당했다고 가정하며,\n",
        "# 남은 체육복이 하나이기에 다른 학생에게는 체육복을 빌려줄 수 없습니다.\n",
        "\n",
        "# 입출력 예\n",
        "# n\t    lost\t    reserve\t    return\n",
        "# 5\t    [2, 4]\t  [1, 3, 5]\t    5\n",
        "# 5\t    [2, 4]\t  [3]\t          4\n",
        "# 3\t    [3]\t      [1]\t          2\n",
        "\n",
        "# 입출력 예 설명\n",
        "# 예제 #1\n",
        "# 1번 학생이 2번 학생에게 체육복을 빌려주고,\n",
        "# 3번 학생이나 5번 학생이 4번 학생에게 체육복을 빌려주면\n",
        "# 학생 5명이 체육수업을 들을 수 있습니다.\n",
        "\n",
        "# 예제 #2\n",
        "# 3번 학생이 2번 학생이나 4번 학생에게 체육복을 빌려주면\n",
        "# 학생 4명이 체육수업을 들을 수 있습니다."
      ]
    },
    {
      "cell_type": "code",
      "source": [
        "def solution(n, lost, reserve):\n",
        "    answer = 0\n",
        "    lost.sort()\n",
        "    reserve.sort()\n",
        "    lostlen = len(lost)\n",
        "    rlost = []\n",
        "    for num in lost:\n",
        "      if num in reserve:\n",
        "        lostlen -= 1\n",
        "        reserve.remove(num)\n",
        "        rlost.append(num)\n",
        "\n",
        "    for num in rlost:\n",
        "      if num in lost:\n",
        "        lost.remove(num)\n",
        "\n",
        "    for num in lost:\n",
        "      if num-1 in reserve:\n",
        "        lostlen -= 1\n",
        "        reserve.remove(num-1)\n",
        "      elif num+1 in reserve:\n",
        "        lostlen -= 1\n",
        "        reserve.remove(num+1)\n",
        "    answer = n - lostlen\n",
        "    return answer"
      ],
      "metadata": {
        "id": "7zbxTvHR7gAd"
      },
      "execution_count": 2,
      "outputs": []
    },
    {
      "cell_type": "code",
      "source": [
        "n = 5\n",
        "lost = [2, 4]\n",
        "reserve = [1, 3, 5]\n",
        "answer = 0\n",
        "lost.sort()\n",
        "reserve.sort()\n",
        "for num in lost:\n",
        "  if num-1 in reserve:\n",
        "    lost.remove(num)\n",
        "    reserve.remove(num-1)\n",
        "  elif num+1 in reserve:\n",
        "    lost.remove(num)\n",
        "    reserve.remove(num+1)\n",
        "print(lost)\n",
        "answer = n - len(lost)"
      ],
      "metadata": {
        "colab": {
          "base_uri": "https://localhost:8080/"
        },
        "id": "ktaqjEGzDemH",
        "outputId": "782a94ad-26c1-4b09-a3d4-75bcc8dacb11"
      },
      "execution_count": 3,
      "outputs": [
        {
          "output_type": "stream",
          "name": "stdout",
          "text": [
            "[4]\n"
          ]
        }
      ]
    },
    {
      "cell_type": "code",
      "source": [
        "\n",
        "#  이런거 보면 한참 멀었네\n",
        "def solution(n, lost, reserve):\n",
        "    _reserve = [r for r in reserve if r not in lost]\n",
        "    _lost = [l for l in lost if l not in reserve]\n",
        "    for r in _reserve:\n",
        "        f = r - 1\n",
        "        b = r + 1\n",
        "        if f in _lost:\n",
        "            _lost.remove(f)\n",
        "        elif b in _lost:\n",
        "            _lost.remove(b)\n",
        "    return n - len(_lost)"
      ],
      "metadata": {
        "id": "UWECZThEDpIc"
      },
      "execution_count": null,
      "outputs": []
    }
  ]
}