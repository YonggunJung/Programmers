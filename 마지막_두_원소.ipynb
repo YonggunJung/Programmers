{
  "nbformat": 4,
  "nbformat_minor": 0,
  "metadata": {
    "colab": {
      "provenance": [],
      "authorship_tag": "ABX9TyNZe0Rah5CfT2rrSwpX3iLy",
      "include_colab_link": true
    },
    "kernelspec": {
      "name": "python3",
      "display_name": "Python 3"
    },
    "language_info": {
      "name": "python"
    }
  },
  "cells": [
    {
      "cell_type": "markdown",
      "metadata": {
        "id": "view-in-github",
        "colab_type": "text"
      },
      "source": [
        "<a href=\"https://colab.research.google.com/github/YonggunJung/Programmers/blob/main/%EB%A7%88%EC%A7%80%EB%A7%89_%EB%91%90_%EC%9B%90%EC%86%8C.ipynb\" target=\"_parent\"><img src=\"https://colab.research.google.com/assets/colab-badge.svg\" alt=\"Open In Colab\"/></a>"
      ]
    },
    {
      "cell_type": "code",
      "execution_count": 1,
      "metadata": {
        "id": "SKPggXOQu2Y-"
      },
      "outputs": [],
      "source": [
        "# 문제 설명\n",
        "# 정수 리스트 num_list가 주어질 때,\n",
        "# 마지막 원소가 그전 원소보다 크면 마지막 원소에서\n",
        "# 그전 원소를 뺀 값을 마지막 원소가 그전 원소보다 크지 않다면\n",
        "# 마지막 원소를 두 배한 값을 추가하여 return하도록 solution 함수를 완성해주세요.\n",
        "\n",
        "# 제한사항\n",
        "# 2 ≤ num_list의 길이 ≤ 10\n",
        "# 1 ≤ num_list의 원소 ≤ 9\n",
        "\n",
        "# 입출력 예\n",
        "# num_list\t            result\n",
        "# [2, 1, 6]\t            [2, 1, 6, 5]\n",
        "# [5, 2, 1, 7, 5]\t      [5, 2, 1, 7, 5, 10]\n",
        "\n",
        "# 입출력 예 설명\n",
        "# 입출력 예 #1\n",
        "# 마지막 원소인 6이 그전 원소인 1보다 크기 때문에 6 - 1인 5를 추가해 return합니다.\n",
        "\n",
        "# 입출력 예 #2\n",
        "# 마지막 원소인 5가 그전 원소인 7보다 크지 않기 때문에 5의 두 배인 10을 추가해\n",
        "# return합니다."
      ]
    },
    {
      "cell_type": "code",
      "source": [
        "# 이게 왜 틀린지 모르겠음\n",
        "# def solution(num_list):\n",
        "#     if num_list[-1] > num_list[-2]:\n",
        "#       answer = num_list.append(num_list[-1] - num_list[-2])\n",
        "#     elif num_list[-1] <= num_list[-2]:\n",
        "#       answer = num_list.append(num_list[-1] * 2)\n",
        "#     return answer"
      ],
      "metadata": {
        "id": "ePJizEbjvD83"
      },
      "execution_count": 6,
      "outputs": []
    },
    {
      "cell_type": "code",
      "source": [
        "# 솔직히 뭐가 다른건지 모르겠음\n",
        "def solution(num_list):\n",
        "    if num_list[-1] > num_list[-2]:\n",
        "       num_list.append(num_list[-1] - num_list[-2])\n",
        "       return num_list\n",
        "    elif num_list[-1] <= num_list[-2]:\n",
        "      num_list.append(num_list[-1] * 2)\n",
        "      return num_list"
      ],
      "metadata": {
        "id": "Gu74jQBj0Tcc"
      },
      "execution_count": 32,
      "outputs": []
    },
    {
      "cell_type": "code",
      "source": [
        "num_list = [2, 1, 6]\n",
        "solution(num_list)"
      ],
      "metadata": {
        "colab": {
          "base_uri": "https://localhost:8080/"
        },
        "id": "lTgjqAWSvFIV",
        "outputId": "8e6eced0-4672-4e43-c4ef-a4ad7743b23e"
      },
      "execution_count": 33,
      "outputs": [
        {
          "output_type": "execute_result",
          "data": {
            "text/plain": [
              "[2, 1, 6, 5]"
            ]
          },
          "metadata": {},
          "execution_count": 33
        }
      ]
    },
    {
      "cell_type": "code",
      "source": [
        "num_list = [5, 2, 1, 7, 5]\n",
        "solution(num_list)"
      ],
      "metadata": {
        "colab": {
          "base_uri": "https://localhost:8080/"
        },
        "id": "6lFNh0_tvI47",
        "outputId": "378228d1-be5f-4bc5-e036-da05ce45b82c"
      },
      "execution_count": 34,
      "outputs": [
        {
          "output_type": "execute_result",
          "data": {
            "text/plain": [
              "[5, 2, 1, 7, 5, 10]"
            ]
          },
          "metadata": {},
          "execution_count": 34
        }
      ]
    },
    {
      "cell_type": "code",
      "source": [
        "# 다른 사람 풀이"
      ],
      "metadata": {
        "id": "8CoVPFE9vI29"
      },
      "execution_count": 35,
      "outputs": []
    },
    {
      "cell_type": "code",
      "source": [
        "# 다들 이렇게 쓰는게 뭔가 법칙 같은게 있는가봄\n",
        "def solution(num_list):\n",
        "    n1, n2 = num_list[-1], num_list[-2]\n",
        "    if n1 > n2:\n",
        "        num_list.append(n1 - n2)\n",
        "    else:\n",
        "        num_list.append(n1 * 2)\n",
        "    return num_list"
      ],
      "metadata": {
        "id": "YChIyWJ-0wyG"
      },
      "execution_count": null,
      "outputs": []
    }
  ]
}