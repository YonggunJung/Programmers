{
  "nbformat": 4,
  "nbformat_minor": 0,
  "metadata": {
    "colab": {
      "provenance": [],
      "authorship_tag": "ABX9TyP7y6dWEJPmdSEmOub4TXIE",
      "include_colab_link": true
    },
    "kernelspec": {
      "name": "python3",
      "display_name": "Python 3"
    },
    "language_info": {
      "name": "python"
    }
  },
  "cells": [
    {
      "cell_type": "markdown",
      "metadata": {
        "id": "view-in-github",
        "colab_type": "text"
      },
      "source": [
        "<a href=\"https://colab.research.google.com/github/YonggunJung/Programmers/blob/main/%EC%84%9C%EC%9A%B8%EC%97%90%EC%84%9C_%EA%B9%80%EC%84%9C%EB%B0%A9_%EC%B0%BE%EA%B8%B0.ipynb\" target=\"_parent\"><img src=\"https://colab.research.google.com/assets/colab-badge.svg\" alt=\"Open In Colab\"/></a>"
      ]
    },
    {
      "cell_type": "code",
      "execution_count": 1,
      "metadata": {
        "id": "yzQNEarSIjsl"
      },
      "outputs": [],
      "source": [
        "# 문제 설명\n",
        "# String형 배열 seoul의 element중 \"Kim\"의 위치 x를 찾아,\n",
        "# \"김서방은 x에 있다\"는 String을 반환하는 함수,\n",
        "# solution을 완성하세요.\n",
        "# seoul에 \"Kim\"은 오직 한 번만 나타나며 잘못된 값이 입력되는 경우는 없습니다.\n",
        "\n",
        "# 제한 사항\n",
        "# seoul은 길이 1 이상, 1000 이하인 배열입니다.\n",
        "# seoul의 원소는 길이 1 이상, 20 이하인 문자열입니다.\n",
        "# \"Kim\"은 반드시 seoul 안에 포함되어 있습니다.\n",
        "\n",
        "# 입출력 예\n",
        "# seoul\t                return\n",
        "# [\"Jane\", \"Kim\"]\t      \"김서방은 1에 있다\""
      ]
    },
    {
      "cell_type": "code",
      "source": [
        "def solution(seoul):\n",
        "    answer = ''\n",
        "    for idx, s in enumerate(seoul):\n",
        "      if s == 'Kim':\n",
        "        answer = f\"김서방은 {idx}에 있다\"\n",
        "    return answer"
      ],
      "metadata": {
        "id": "tbrLNxu_IpT1"
      },
      "execution_count": 2,
      "outputs": []
    },
    {
      "cell_type": "code",
      "source": [
        "# 다른 사람풀이\n",
        "# 파이썬은 그냥 index가 있다....\n",
        "def findKim(seoul):\n",
        "    return \"김서방은 {}에 있다\".format(seoul.index('Kim'))"
      ],
      "metadata": {
        "id": "GrZjxyOzJPWN"
      },
      "execution_count": null,
      "outputs": []
    }
  ]
}