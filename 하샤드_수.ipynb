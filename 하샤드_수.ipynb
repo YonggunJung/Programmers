{
  "nbformat": 4,
  "nbformat_minor": 0,
  "metadata": {
    "colab": {
      "provenance": [],
      "authorship_tag": "ABX9TyN9z+u8iLY/WbjAxjFoXWuk",
      "include_colab_link": true
    },
    "kernelspec": {
      "name": "python3",
      "display_name": "Python 3"
    },
    "language_info": {
      "name": "python"
    }
  },
  "cells": [
    {
      "cell_type": "markdown",
      "metadata": {
        "id": "view-in-github",
        "colab_type": "text"
      },
      "source": [
        "<a href=\"https://colab.research.google.com/github/YonggunJung/Programmers/blob/main/%ED%95%98%EC%83%A4%EB%93%9C_%EC%88%98.ipynb\" target=\"_parent\"><img src=\"https://colab.research.google.com/assets/colab-badge.svg\" alt=\"Open In Colab\"/></a>"
      ]
    },
    {
      "cell_type": "code",
      "execution_count": 1,
      "metadata": {
        "id": "fCQuW3eDC5XO"
      },
      "outputs": [],
      "source": [
        "# 문제 설명\n",
        "# 양의 정수 x가 하샤드 수이려면 x의 자릿수의 합으로 x가 나누어져야 합니다.\n",
        "# 예를 들어 18의 자릿수 합은 1+8=9이고,\n",
        "# 18은 9로 나누어 떨어지므로 18은 하샤드 수입니다.\n",
        "# 자연수 x를 입력받아 x가 하샤드 수인지 아닌지 검사하는 함수,\n",
        "# solution을 완성해주세요.\n",
        "\n",
        "# 제한 조건\n",
        "# x는 1 이상, 10000 이하인 정수입니다.\n",
        "\n",
        "# 입출력 예\n",
        "# x\t      return\n",
        "# 10\t    true\n",
        "# 12\t    true\n",
        "# 11\t    false\n",
        "# 13\t    false\n",
        "\n",
        "# 입출력 예 설명\n",
        "# 입출력 예 #1\n",
        "# 10의 모든 자릿수의 합은 1입니다.\n",
        "# 10은 1로 나누어 떨어지므로 10은 하샤드 수입니다.\n",
        "\n",
        "# 입출력 예 #2\n",
        "# 12의 모든 자릿수의 합은 3입니다.\n",
        "# 12는 3으로 나누어 떨어지므로 12는 하샤드 수입니다.\n",
        "\n",
        "# 입출력 예 #3\n",
        "# 11의 모든 자릿수의 합은 2입니다.\n",
        "# 11은 2로 나누어 떨어지지 않으므로 11는 하샤드 수가 아닙니다.\n",
        "\n",
        "# 입출력 예 #4\n",
        "# 13의 모든 자릿수의 합은 4입니다.\n",
        "# 13은 4로 나누어 떨어지지 않으므로 13은 하샤드 수가 아닙니다.\n",
        "\n"
      ]
    },
    {
      "cell_type": "code",
      "source": [
        "def solution(x):\n",
        "    answer = True\n",
        "    sum = 0\n",
        "    n = x\n",
        "    while n > 0:\n",
        "      sum += n % 10\n",
        "      n = n // 10\n",
        "    if x % sum != 0:\n",
        "      answer = False\n",
        "    return answer"
      ],
      "metadata": {
        "id": "ekVB7j3kDBZ2"
      },
      "execution_count": 2,
      "outputs": []
    },
    {
      "cell_type": "code",
      "source": [
        "# 다른 사람 풀이\n",
        "# 간단하구마\n",
        "def Harshad(n):\n",
        "    return n%sum(int(x) for x in str(n)) == 0"
      ],
      "metadata": {
        "id": "LdOaX1clFgYN"
      },
      "execution_count": 3,
      "outputs": []
    },
    {
      "cell_type": "code",
      "source": [],
      "metadata": {
        "id": "ZWUeDee7Fl7f"
      },
      "execution_count": null,
      "outputs": []
    }
  ]
}