{
  "nbformat": 4,
  "nbformat_minor": 0,
  "metadata": {
    "colab": {
      "provenance": [],
      "authorship_tag": "ABX9TyMU/ualG8gK5nkAvdtTI7oo",
      "include_colab_link": true
    },
    "kernelspec": {
      "name": "python3",
      "display_name": "Python 3"
    },
    "language_info": {
      "name": "python"
    }
  },
  "cells": [
    {
      "cell_type": "markdown",
      "metadata": {
        "id": "view-in-github",
        "colab_type": "text"
      },
      "source": [
        "<a href=\"https://colab.research.google.com/github/YonggunJung/Programmers/blob/main/%EC%A0%91%EB%AF%B8%EC%82%AC_%EB%B0%B0%EC%97%B4.ipynb\" target=\"_parent\"><img src=\"https://colab.research.google.com/assets/colab-badge.svg\" alt=\"Open In Colab\"/></a>"
      ]
    },
    {
      "cell_type": "code",
      "execution_count": 1,
      "metadata": {
        "id": "R6SZcbsRwLIJ"
      },
      "outputs": [],
      "source": [
        "# 문제 설명\n",
        "# 어떤 문자열에 대해서 접미사는 특정 인덱스부터 시작하는 문자열을 의미합니다.\n",
        "# 예를 들어, \"banana\"의 모든 접미사는 \"banana\", \"anana\", \"nana\", \"ana\", \"na\", \"a\"입니다.\n",
        "# 문자열 my_string이 매개변수로 주어질 때,\n",
        "# my_string의 모든 접미사를 사전순으로 정렬한 문자열 배열을 return 하는\n",
        "# solution 함수를 작성해 주세요.\n",
        "\n",
        "# 제한사항\n",
        "# my_string은 알파벳 소문자로만 이루어져 있습니다.\n",
        "# 1 ≤ my_string의 길이 ≤ 100\n",
        "\n",
        "# 입출력 예\n",
        "# my_string\t              result\n",
        "# \"banana\"\t              [\"a\", \"ana\", \"anana\", \"banana\", \"na\", \"nana\"]\n",
        "# \"programmers\"\t          [\"ammers\", \"ers\", \"grammers\", \"mers\", \"mmers\", \"ogrammers\", \"programmers\", \"rammers\", \"rogrammers\", \"rs\", \"s\"]\n",
        "\n",
        "# 입출력 예 설명\n",
        "# 입출력 예 #1\n",
        "# 예제 1번의 my_string는 \"banana\"로 모든 접미사는 문제의 설명과 같습니다.\n",
        "# 이를 사전순으로 정렬하면 \"a\", \"ana\", \"anana\", \"banana\", \"na\", \"nana\"이므로\n",
        "#  [\"a\", \"ana\", \"anana\", \"banana\", \"na\", \"nana\"]를 return 합니다.\n",
        "\n",
        "# 입출력 예 #2\n",
        "# 예제 2번의 my_string는 \"programmers\"이고\n",
        "# 모든 접미사는 \"programmers\", \"rogrammers\", \"ogrammers\", \"grammers\", \"rammers\", \"ammers\", \"mmers\", \"mers\", \"ers\", \"rs\", \"s\"입니다.\n",
        "# 이를 사전순으로 정렬한 문자열 배열 [\"ammers\", \"ers\", \"grammers\", \"mers\", \"mmers\", \"ogrammers\", \"programmers\", \"rammers\", \"rogrammers\", \"rs\", \"s\"]를 return 합니다."
      ]
    },
    {
      "cell_type": "code",
      "source": [
        "def solution(my_string):\n",
        "    answer = []\n",
        "    for i in range(0, len(my_string)):\n",
        "      answer.append(my_string[i:])\n",
        "    return sorted(answer)"
      ],
      "metadata": {
        "id": "IT8Dhvf1wl9v"
      },
      "execution_count": 3,
      "outputs": []
    },
    {
      "cell_type": "code",
      "source": [
        "my_string = \"banana\"\n",
        "solution(my_string)"
      ],
      "metadata": {
        "colab": {
          "base_uri": "https://localhost:8080/"
        },
        "id": "8fT4iRCNwoOt",
        "outputId": "74a86bd8-e748-402b-9eca-9ad4c302e583"
      },
      "execution_count": 4,
      "outputs": [
        {
          "output_type": "execute_result",
          "data": {
            "text/plain": [
              "['a', 'ana', 'anana', 'banana', 'na', 'nana']"
            ]
          },
          "metadata": {},
          "execution_count": 4
        }
      ]
    },
    {
      "cell_type": "code",
      "source": [
        "my_string = \"programmers\"\n",
        "solution(my_string)"
      ],
      "metadata": {
        "colab": {
          "base_uri": "https://localhost:8080/"
        },
        "id": "Zk0Hd63twp9u",
        "outputId": "69c2eff9-7a76-466d-e893-dbea0e82b89e"
      },
      "execution_count": 5,
      "outputs": [
        {
          "output_type": "execute_result",
          "data": {
            "text/plain": [
              "['ammers',\n",
              " 'ers',\n",
              " 'grammers',\n",
              " 'mers',\n",
              " 'mmers',\n",
              " 'ogrammers',\n",
              " 'programmers',\n",
              " 'rammers',\n",
              " 'rogrammers',\n",
              " 'rs',\n",
              " 's']"
            ]
          },
          "metadata": {},
          "execution_count": 5
        }
      ]
    },
    {
      "cell_type": "code",
      "source": [
        "# 다른 사람 풀이"
      ],
      "metadata": {
        "id": "uJzkabWvwp7k"
      },
      "execution_count": 6,
      "outputs": []
    },
    {
      "cell_type": "code",
      "source": [
        "def solution(my_string):\n",
        "    return sorted(my_string[i:] for i in range(len(my_string)))"
      ],
      "metadata": {
        "id": "QQZOOPXVxkSH"
      },
      "execution_count": 7,
      "outputs": []
    },
    {
      "cell_type": "code",
      "source": [
        "def solution(my_string):\n",
        "    answer = []\n",
        "    for i in range(len(my_string)):\n",
        "        answer.append(my_string[-i:])\n",
        "    answer.sort()\n",
        "    return answer"
      ],
      "metadata": {
        "id": "qLrcOzG-xm9l"
      },
      "execution_count": null,
      "outputs": []
    }
  ]
}