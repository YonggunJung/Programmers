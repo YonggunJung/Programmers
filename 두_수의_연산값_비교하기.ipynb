{
  "nbformat": 4,
  "nbformat_minor": 0,
  "metadata": {
    "colab": {
      "provenance": [],
      "authorship_tag": "ABX9TyO241Rm5RdO8DkW5jwfs6Rh",
      "include_colab_link": true
    },
    "kernelspec": {
      "name": "python3",
      "display_name": "Python 3"
    },
    "language_info": {
      "name": "python"
    }
  },
  "cells": [
    {
      "cell_type": "markdown",
      "metadata": {
        "id": "view-in-github",
        "colab_type": "text"
      },
      "source": [
        "<a href=\"https://colab.research.google.com/github/YonggunJung/Programmers/blob/main/%EB%91%90_%EC%88%98%EC%9D%98_%EC%97%B0%EC%82%B0%EA%B0%92_%EB%B9%84%EA%B5%90%ED%95%98%EA%B8%B0.ipynb\" target=\"_parent\"><img src=\"https://colab.research.google.com/assets/colab-badge.svg\" alt=\"Open In Colab\"/></a>"
      ]
    },
    {
      "cell_type": "code",
      "execution_count": 1,
      "metadata": {
        "id": "4E1LXbWJfd--"
      },
      "outputs": [],
      "source": [
        "# 문제 설명\n",
        "# 연산 ⊕는 두 정수에 대한 연산으로 두 정수를 붙여서 쓴 값을 반환합니다.\n",
        "# 예를 들면 다음과 같습니다.\n",
        "\n",
        "# 12 ⊕ 3 = 123\n",
        "# 3 ⊕ 12 = 312\n",
        "# 양의 정수 a와 b가 주어졌을 때,\n",
        "# a ⊕ b와 2 * a * b 중 더 큰 값을 return하는 solution 함수를 완성해 주세요.\n",
        "\n",
        "# 단, a ⊕ b와 2 * a * b가 같으면 a ⊕ b를 return 합니다.\n",
        "\n",
        "# 제한사항\n",
        "# 1 ≤ a, b < 10,000\n",
        "\n",
        "# 입출력 예\n",
        "# a   \t  b\t        result\n",
        "# 2\t      91\t      364\n",
        "# 91\t    2\t        912\n",
        "\n",
        "# 입출력 예 설명\n",
        "# 입출력 예 #1\n",
        "# a ⊕ b = 291 이고, 2 * a * b = 364 입니다.\n",
        "# 둘 중 더 큰 값은 364 이므로 364를 return 합니다.\n",
        "\n",
        "# 입출력 예 #2\n",
        "# a ⊕ b = 912 이고, 2 * a * b = 364 입니다.\n",
        "# 둘 중 더 큰 값은 912 이므로 912를 return 합니다."
      ]
    },
    {
      "cell_type": "code",
      "source": [
        "# 방금 배운거 바로 써먹기\n",
        "def solution(a, b):\n",
        "    answer = max((a*b*2), int(f'{a}{b}'))\n",
        "    return answer"
      ],
      "metadata": {
        "id": "xmG1KSdegBK8"
      },
      "execution_count": 3,
      "outputs": []
    },
    {
      "cell_type": "code",
      "source": [
        "a = 2\n",
        "b = 91\n",
        "solution(a, b)"
      ],
      "metadata": {
        "colab": {
          "base_uri": "https://localhost:8080/"
        },
        "id": "APn3cochgCgr",
        "outputId": "c52de773-add2-4094-d9dc-d410ae7704d5"
      },
      "execution_count": 4,
      "outputs": [
        {
          "output_type": "execute_result",
          "data": {
            "text/plain": [
              "364"
            ]
          },
          "metadata": {},
          "execution_count": 4
        }
      ]
    },
    {
      "cell_type": "code",
      "source": [
        "a = 91\n",
        "b = 2\n",
        "solution(a, b)"
      ],
      "metadata": {
        "colab": {
          "base_uri": "https://localhost:8080/"
        },
        "id": "rGiOPUaagFEj",
        "outputId": "4207e0ef-1d30-40e9-e12c-6818726198ff"
      },
      "execution_count": 5,
      "outputs": [
        {
          "output_type": "execute_result",
          "data": {
            "text/plain": [
              "912"
            ]
          },
          "metadata": {},
          "execution_count": 5
        }
      ]
    },
    {
      "cell_type": "code",
      "source": [
        "# 다른 사람 풀이"
      ],
      "metadata": {
        "id": "ooPLdYcHgFCd"
      },
      "execution_count": 6,
      "outputs": []
    },
    {
      "cell_type": "code",
      "source": [
        "def solution(a, b):\n",
        "    return max(int(str(a) + str(b)), 2 * a * b)"
      ],
      "metadata": {
        "id": "UJAKoTBFgkKL"
      },
      "execution_count": null,
      "outputs": []
    },
    {
      "cell_type": "code",
      "source": [],
      "metadata": {
        "id": "vU429MOhgmUe"
      },
      "execution_count": null,
      "outputs": []
    }
  ]
}