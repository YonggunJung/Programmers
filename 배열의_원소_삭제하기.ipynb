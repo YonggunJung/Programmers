{
  "nbformat": 4,
  "nbformat_minor": 0,
  "metadata": {
    "colab": {
      "provenance": [],
      "authorship_tag": "ABX9TyP8y5XQgs76NiMN3wiQ6wDM",
      "include_colab_link": true
    },
    "kernelspec": {
      "name": "python3",
      "display_name": "Python 3"
    },
    "language_info": {
      "name": "python"
    }
  },
  "cells": [
    {
      "cell_type": "markdown",
      "metadata": {
        "id": "view-in-github",
        "colab_type": "text"
      },
      "source": [
        "<a href=\"https://colab.research.google.com/github/YonggunJung/Programmers/blob/main/%EB%B0%B0%EC%97%B4%EC%9D%98_%EC%9B%90%EC%86%8C_%EC%82%AD%EC%A0%9C%ED%95%98%EA%B8%B0.ipynb\" target=\"_parent\"><img src=\"https://colab.research.google.com/assets/colab-badge.svg\" alt=\"Open In Colab\"/></a>"
      ]
    },
    {
      "cell_type": "code",
      "execution_count": 1,
      "metadata": {
        "id": "0yMR4Ele70qa"
      },
      "outputs": [],
      "source": [
        "# 문제 설명\n",
        "# 정수 배열 arr과 delete_list가 있습니다.\n",
        "# arr의 원소 중 delete_list의 원소를 모두 삭제하고\n",
        "# 남은 원소들은 기존의 arr에 있던 순서를 유지한 배열을\n",
        "# return 하는 solution 함수를 작성해 주세요.\n",
        "\n",
        "# 제한사항\n",
        "# 1 ≤ arr의 길이 ≤ 100\n",
        "# 1 ≤ arr의 원소 ≤ 1,000\n",
        "# arr의 원소는 모두 서로 다릅니다.\n",
        "# 1 ≤ delete_list의 길이 ≤ 100\n",
        "# 1 ≤ delete_list의 원소 ≤ 1,000\n",
        "# delete_list의 원소는 모두 서로 다릅니다.\n",
        "\n",
        "# 입출력 예\n",
        "# arr\t                          delete_list\t                      result\n",
        "# [293, 1000, 395, 678, 94]\t    [94, 777, 104, 1000, 1, 12]\t      [293, 395, 678]\n",
        "# [110, 66, 439, 785, 1]\t      [377, 823, 119, 43]\t              [110, 66, 439, 785, 1]\n",
        "\n",
        "# 입출력 예 설명\n",
        "# 입출력 예 #1\n",
        "# 예제 1번의 arr의 원소 중 1000과 94가 delete_list에 있으므로\n",
        "# 이 두 원소를 삭제한 [293, 395, 678]을 return 합니다.\n",
        "\n",
        "# 입출력 예 #2\n",
        "# 예제 2번의 arr의 원소 중 delete_list에 있는 원소는 없습니다.\n",
        "# 따라서 arr 그대로인 [110, 66, 439, 785, 1]을 return 합니다."
      ]
    },
    {
      "cell_type": "code",
      "source": [
        "def solution(arr, delete_list):\n",
        "    answer = []\n",
        "    dlist = []\n",
        "    for num in arr:\n",
        "      for dnum in delete_list:\n",
        "        if num == dnum:\n",
        "          dlist.append(num)\n",
        "\n",
        "    for i in dlist:\n",
        "      arr.remove(i)\n",
        "    answer = arr\n",
        "    return answer"
      ],
      "metadata": {
        "id": "IeP_ZTq08CF1"
      },
      "execution_count": 21,
      "outputs": []
    },
    {
      "cell_type": "code",
      "source": [
        "# 위에껄 해보니까 이렇게 보이더라\n",
        "# 그런데 이게 틀렸단다 ㅋㅋㅋㅋ\n",
        "# def solution(arr, delete_list):\n",
        "#     answer = []\n",
        "#     dlist = []\n",
        "#     for num in arr:\n",
        "#       for dnum in delete_list:\n",
        "#         if num == dnum:\n",
        "#           arr.remove(num)\n",
        "\n",
        "#     answer = arr\n",
        "#     return answer"
      ],
      "metadata": {
        "id": "ld2hZDMX-p9S"
      },
      "execution_count": 22,
      "outputs": []
    },
    {
      "cell_type": "code",
      "source": [
        "arr = [293, 1000, 395, 678, 94]\n",
        "delete_list = [94, 777, 104, 1000, 1, 12]\n",
        "solution(arr, delete_list)"
      ],
      "metadata": {
        "colab": {
          "base_uri": "https://localhost:8080/"
        },
        "id": "5oIPAzC28IoD",
        "outputId": "cea5e303-33d2-4dd3-bd2d-b6a769e97aab"
      },
      "execution_count": 19,
      "outputs": [
        {
          "output_type": "execute_result",
          "data": {
            "text/plain": [
              "[293, 395, 678]"
            ]
          },
          "metadata": {},
          "execution_count": 19
        }
      ]
    },
    {
      "cell_type": "code",
      "source": [
        "arr = [110, 66, 439, 785, 1]\n",
        "delete_list = [377, 823, 119, 43]\n",
        "solution(arr, delete_list)"
      ],
      "metadata": {
        "colab": {
          "base_uri": "https://localhost:8080/"
        },
        "id": "t3_PzsDv8K6I",
        "outputId": "ef16fa3d-c0ae-42cb-e4f7-8f4e517872da"
      },
      "execution_count": 20,
      "outputs": [
        {
          "output_type": "execute_result",
          "data": {
            "text/plain": [
              "[110, 66, 439, 785, 1]"
            ]
          },
          "metadata": {},
          "execution_count": 20
        }
      ]
    },
    {
      "cell_type": "code",
      "source": [
        "# 다른 사람 풀이"
      ],
      "metadata": {
        "id": "OUhSHeAp8Ld-"
      },
      "execution_count": 23,
      "outputs": []
    },
    {
      "cell_type": "code",
      "source": [
        "# 이렇게 한줄 코드 진짜 쉽네\n",
        "def solution(arr, delete_list):\n",
        "\n",
        "    return [i for i in arr if i not in delete_list]"
      ],
      "metadata": {
        "id": "Rk34jlgO_WOn"
      },
      "execution_count": 24,
      "outputs": []
    },
    {
      "cell_type": "code",
      "source": [
        "# 이렇게 하면 되는거였군\n",
        "def solution(arr, delete_list):\n",
        "    answer = []\n",
        "    for i in delete_list:\n",
        "        if i in arr:\n",
        "            arr.remove(i)\n",
        "    return arr\n"
      ],
      "metadata": {
        "id": "wBRsDAh-_ZDt"
      },
      "execution_count": 25,
      "outputs": []
    },
    {
      "cell_type": "code",
      "source": [
        "# 방법은 많구만\n",
        "def solution(arr, delete_list):\n",
        "    answer = []\n",
        "    for x in arr:\n",
        "        if x not in delete_list: answer.append(x)\n",
        "    return answer"
      ],
      "metadata": {
        "id": "Hq2Qcrkx_0x-"
      },
      "execution_count": 26,
      "outputs": []
    },
    {
      "cell_type": "code",
      "source": [],
      "metadata": {
        "id": "xLDpcZzq_9e-"
      },
      "execution_count": null,
      "outputs": []
    }
  ]
}