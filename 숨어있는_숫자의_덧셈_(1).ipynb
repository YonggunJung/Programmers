{
  "nbformat": 4,
  "nbformat_minor": 0,
  "metadata": {
    "colab": {
      "provenance": [],
      "authorship_tag": "ABX9TyPoX5Yd++HefnYr+367YWe5",
      "include_colab_link": true
    },
    "kernelspec": {
      "name": "python3",
      "display_name": "Python 3"
    },
    "language_info": {
      "name": "python"
    }
  },
  "cells": [
    {
      "cell_type": "markdown",
      "metadata": {
        "id": "view-in-github",
        "colab_type": "text"
      },
      "source": [
        "<a href=\"https://colab.research.google.com/github/YonggunJung/Programmers/blob/main/%EC%88%A8%EC%96%B4%EC%9E%88%EB%8A%94_%EC%88%AB%EC%9E%90%EC%9D%98_%EB%8D%A7%EC%85%88_(1).ipynb\" target=\"_parent\"><img src=\"https://colab.research.google.com/assets/colab-badge.svg\" alt=\"Open In Colab\"/></a>"
      ]
    },
    {
      "cell_type": "code",
      "execution_count": 1,
      "metadata": {
        "id": "sUN7a_SKRimi"
      },
      "outputs": [],
      "source": [
        "# 문제 설명\n",
        "# 문자열 my_string이 매개변수로 주어집니다.\n",
        "# my_string안의 모든 자연수들의 합을 return하도록 solution 함수를 완성해주세요.\n",
        "\n",
        "# 제한사항\n",
        "# 1 ≤ my_string의 길이 ≤ 1,000\n",
        "# my_string은 소문자, 대문자 그리고 한자리 자연수로만 구성되어있습니다.\n",
        "\n",
        "# 입출력 예\n",
        "# my_string\t            result\n",
        "# \"aAb1B2cC34oOp\"\t        10\n",
        "# \"1a2b3c4d123\"\t          16\n",
        "\n",
        "# 입출력 예 설명\n",
        "# 입출력 예 #1\n",
        "# \"aAb1B2cC34oOp\"안의 한자리 자연수는 1, 2, 3, 4 입니다. 따라서 1 + 2 + 3 + 4 = 10 을 return합니다.\n",
        "\n",
        "# 입출력 예 #2\n",
        "# \"1a2b3c4d123Z\"안의 한자리 자연수는 1, 2, 3, 4, 1, 2, 3 입니다.\n",
        "# 따라서 1 + 2 + 3 + 4 + 1 + 2 + 3 = 16 을 return합니다.\n",
        "\n",
        "# 유의사항\n",
        "# 연속된 숫자도 각각 한 자리 숫자로 취급합니다."
      ]
    },
    {
      "cell_type": "code",
      "source": [
        "def solution(my_string):\n",
        "    answer = 0\n",
        "    for char in my_string:\n",
        "      if char.isdigit():\n",
        "        answer += int(char)\n",
        "    return answer"
      ],
      "metadata": {
        "id": "6-VywZHlRxdR"
      },
      "execution_count": 9,
      "outputs": []
    },
    {
      "cell_type": "code",
      "source": [
        "my_string = \"aAb1B2cC34oOp\"\n",
        "solution(my_string)"
      ],
      "metadata": {
        "colab": {
          "base_uri": "https://localhost:8080/"
        },
        "id": "faynqSNnRz6R",
        "outputId": "86d44fbe-51df-4b4c-9132-8fa9ea623d90"
      },
      "execution_count": 10,
      "outputs": [
        {
          "output_type": "execute_result",
          "data": {
            "text/plain": [
              "10"
            ]
          },
          "metadata": {},
          "execution_count": 10
        }
      ]
    },
    {
      "cell_type": "code",
      "source": [
        "my_string = \"1a2b3c4d123\"\n",
        "solution(my_string)"
      ],
      "metadata": {
        "colab": {
          "base_uri": "https://localhost:8080/"
        },
        "id": "j7w19U_qR5An",
        "outputId": "a43f2cc5-9e30-45e0-e180-092ecca885b9"
      },
      "execution_count": 11,
      "outputs": [
        {
          "output_type": "execute_result",
          "data": {
            "text/plain": [
              "16"
            ]
          },
          "metadata": {},
          "execution_count": 11
        }
      ]
    },
    {
      "cell_type": "code",
      "source": [
        "# 다른 사람 풀이"
      ],
      "metadata": {
        "id": "VoodymaCS8Fx"
      },
      "execution_count": 12,
      "outputs": []
    },
    {
      "cell_type": "code",
      "source": [
        "# 이렇게 가능하군\n",
        "# 머릿속으로 이렇게 될거 같다 생각은 했는데 구현은 못했음\n",
        "def solution(my_string):\n",
        "    return sum(int(i) for i in my_string if i.isdigit())"
      ],
      "metadata": {
        "id": "EvUDybktUMaI"
      },
      "execution_count": 13,
      "outputs": []
    },
    {
      "cell_type": "code",
      "source": [
        "# 이 생각도 했는데 너무 길다 해서 패스 했음\n",
        "def solution(my_string):\n",
        "    answer = 0\n",
        "    number = ['0','1','2','3','4','5','6','7','8','9']\n",
        "\n",
        "    for i in range(len(my_string)):\n",
        "        if my_string[i] in number:\n",
        "            answer += int(my_string[i])\n",
        "        else:\n",
        "            continue\n",
        "\n",
        "    return answer"
      ],
      "metadata": {
        "id": "0Cjw52K4Ubfw"
      },
      "execution_count": null,
      "outputs": []
    },
    {
      "cell_type": "code",
      "source": [
        "# 알면 보이는 함수\n",
        "import re\n",
        "\n",
        "def solution(my_string):\n",
        "    return sum(int(n) for n in re.sub('[^1-9]', '', my_string))"
      ],
      "metadata": {
        "id": "uJRgiQTWUiL0"
      },
      "execution_count": null,
      "outputs": []
    }
  ]
}