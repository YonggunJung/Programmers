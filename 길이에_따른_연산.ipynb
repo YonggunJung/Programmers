{
  "nbformat": 4,
  "nbformat_minor": 0,
  "metadata": {
    "colab": {
      "provenance": [],
      "authorship_tag": "ABX9TyPv7WmJa2rB373dR3sgB3vW",
      "include_colab_link": true
    },
    "kernelspec": {
      "name": "python3",
      "display_name": "Python 3"
    },
    "language_info": {
      "name": "python"
    }
  },
  "cells": [
    {
      "cell_type": "markdown",
      "metadata": {
        "id": "view-in-github",
        "colab_type": "text"
      },
      "source": [
        "<a href=\"https://colab.research.google.com/github/YonggunJung/Programmers/blob/main/%EA%B8%B8%EC%9D%B4%EC%97%90_%EB%94%B0%EB%A5%B8_%EC%97%B0%EC%82%B0.ipynb\" target=\"_parent\"><img src=\"https://colab.research.google.com/assets/colab-badge.svg\" alt=\"Open In Colab\"/></a>"
      ]
    },
    {
      "cell_type": "code",
      "execution_count": 1,
      "metadata": {
        "id": "5tHp2cCKO0H3"
      },
      "outputs": [],
      "source": [
        "# 문제 설명\n",
        "# 정수가 담긴 리스트 num_list가 주어질 때,\n",
        "# 리스트의 길이가 11 이상이면 리스트에 있는 모든 원소의 합을\n",
        "# 10 이하이면 모든 원소의 곱을 return하도록 solution 함수를 완성해주세요.\n",
        "\n",
        "# 제한사항\n",
        "# 2 ≤ num_list의 길이 ≤ 20\n",
        "# 1 ≤ num_list의 원소 ≤ 9\n",
        "# num_list의 원소를 모두 곱했을 때 2,147,483,647를 넘는 입력은 주어지지 않습니다.\n",
        "\n",
        "# 입출력 예\n",
        "# num_list\t                                    result\n",
        "# [3, 4, 5, 2, 5, 4, 6, 7, 3, 7, 2, 2, 1]\t        51\n",
        "# [2, 3, 4, 5]\t                                  120\n",
        "\n",
        "# 입출력 예 설명\n",
        "# 입출력 예 #1\n",
        "# 리스트의 길이가 13이므로 모든 원소의 합인 51을 return합니다.\n",
        "\n",
        "# 입출력 예 #2\n",
        "# 리스트의 길이가 4이므로 모든 원소의 곱인 120을 return합니다."
      ]
    },
    {
      "cell_type": "code",
      "source": [
        "def solution(num_list):\n",
        "    answer = 1\n",
        "    for num in num_list:\n",
        "      if len(num_list) <= 10:\n",
        "        answer *= num\n",
        "      else:\n",
        "        answer = sum(num_list)\n",
        "\n",
        "    return answer"
      ],
      "metadata": {
        "id": "4N9tsiPeO_co"
      },
      "execution_count": 9,
      "outputs": []
    },
    {
      "cell_type": "code",
      "source": [
        "num_list = [3, 4, 5, 2, 5, 4, 6, 7, 3, 7, 2, 2, 1]\n",
        "solution(num_list)"
      ],
      "metadata": {
        "colab": {
          "base_uri": "https://localhost:8080/"
        },
        "id": "aFn_jbynPBc9",
        "outputId": "3a8475b7-97ca-45a4-9621-8689d1f9fc05"
      },
      "execution_count": 10,
      "outputs": [
        {
          "output_type": "execute_result",
          "data": {
            "text/plain": [
              "51"
            ]
          },
          "metadata": {},
          "execution_count": 10
        }
      ]
    },
    {
      "cell_type": "code",
      "source": [
        "num_list = [2, 3, 4, 5]\n",
        "solution(num_list)"
      ],
      "metadata": {
        "colab": {
          "base_uri": "https://localhost:8080/"
        },
        "id": "ZdQn7_k5PEXo",
        "outputId": "17518a0d-32a3-42a2-dc18-9aac95a929e7"
      },
      "execution_count": 11,
      "outputs": [
        {
          "output_type": "execute_result",
          "data": {
            "text/plain": [
              "120"
            ]
          },
          "metadata": {},
          "execution_count": 11
        }
      ]
    },
    {
      "cell_type": "code",
      "source": [
        "# 다른 사람 풀이"
      ],
      "metadata": {
        "id": "GLRVlJfbPEVb"
      },
      "execution_count": 12,
      "outputs": []
    },
    {
      "cell_type": "code",
      "source": [
        "# 생각지도 못한 방식이네\n",
        "def solution(num_list):\n",
        "    if len(num_list) >= 11:\n",
        "        return eval('+'.join(list(map(str, num_list))))\n",
        "    else:\n",
        "        return eval('*'.join(list(map(str, num_list))))"
      ],
      "metadata": {
        "id": "wBZfdXtpQDJf"
      },
      "execution_count": 13,
      "outputs": []
    },
    {
      "cell_type": "code",
      "source": [
        "# prod() 함수 좋아. sum()처럼 곱셈도 있지 않을까 했는데 진짜 있네\n",
        "from math import prod\n",
        "def solution(num_list):\n",
        "    return sum(num_list) if len(num_list)>=11 else prod(num_list)"
      ],
      "metadata": {
        "id": "0tc5PDbSQLLF"
      },
      "execution_count": 14,
      "outputs": []
    },
    {
      "cell_type": "code",
      "source": [
        "# reduce() 함수 이런거도 있네\n",
        "from functools import reduce\n",
        "def solution(l):\n",
        "    return sum(l) if len(l)>=11 else reduce(lambda a,b: a*b, l)"
      ],
      "metadata": {
        "id": "sQrJKq4DQaUX"
      },
      "execution_count": 15,
      "outputs": []
    },
    {
      "cell_type": "code",
      "source": [],
      "metadata": {
        "id": "yRYU_FDJQnB1"
      },
      "execution_count": null,
      "outputs": []
    }
  ]
}