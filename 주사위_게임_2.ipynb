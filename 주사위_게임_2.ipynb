{
  "nbformat": 4,
  "nbformat_minor": 0,
  "metadata": {
    "colab": {
      "provenance": [],
      "authorship_tag": "ABX9TyNy8k2v/9LCGngbIcuLDm/E",
      "include_colab_link": true
    },
    "kernelspec": {
      "name": "python3",
      "display_name": "Python 3"
    },
    "language_info": {
      "name": "python"
    }
  },
  "cells": [
    {
      "cell_type": "markdown",
      "metadata": {
        "id": "view-in-github",
        "colab_type": "text"
      },
      "source": [
        "<a href=\"https://colab.research.google.com/github/YonggunJung/Programmers/blob/main/%EC%A3%BC%EC%82%AC%EC%9C%84_%EA%B2%8C%EC%9E%84_2.ipynb\" target=\"_parent\"><img src=\"https://colab.research.google.com/assets/colab-badge.svg\" alt=\"Open In Colab\"/></a>"
      ]
    },
    {
      "cell_type": "code",
      "execution_count": 1,
      "metadata": {
        "id": "Fo_jNePgyoZS"
      },
      "outputs": [],
      "source": [
        "# 문제 설명\n",
        "# 1부터 6까지 숫자가 적힌 주사위가 세 개 있습니다.\n",
        "# 세 주사위를 굴렸을 때 나온 숫자를 각각 a, b, c라고 했을 때\n",
        "# 얻는 점수는 다음과 같습니다.\n",
        "\n",
        "# 세 숫자가 모두 다르다면 a + b + c 점을 얻습니다.\n",
        "# 세 숫자 중 어느 두 숫자는 같고 나머지 다른 숫자는 다르다면\n",
        "#  (a + b + c) × (a2 + b2 + c2 )점을 얻습니다.\n",
        "# 세 숫자가 모두 같다면 (a + b + c) × (a2 + b2 + c2 ) × (a3 + b3 + c3 )점을 얻습니다.\n",
        "# 세 정수 a, b, c가 매개변수로 주어질 때,\n",
        "# 얻는 점수를 return 하는 solution 함수를 작성해 주세요.\n",
        "\n",
        "# 제한사항\n",
        "# a, b, c는 1이상 6이하의 정수입니다.\n",
        "\n",
        "# 입출력 예\n",
        "# a\t    b\t    c\t    result\n",
        "# 2\t    6\t    1\t      9\n",
        "# 5\t    3\t    3\t     473\n",
        "# 4\t    4\t    4\t    110592\n",
        "\n",
        "# 입출력 예 설명\n",
        "# 입출력 예 #1\n",
        "# 예제 1번에서 세 주사위 숫자가 모두 다르므로 2 + 6 + 1 = 9점을 얻습니다.\n",
        "# 따라서 9를 return 합니다.\n",
        "\n",
        "# 입출력 예 #2\n",
        "# 예제 2번에서 두 주사위 숫자만 같으므로\n",
        "#  (5 + 3 + 3) × (52 + 32 + 32 ) = 11 × 43 = 473점을 얻습니다.\n",
        "#  따라서 473을 return 합니다.\n",
        "\n",
        "# 입출력 예 #3\n",
        "# 예제 3번에서 세 주사위 숫자가 모두 같으므로\n",
        "#  (4 + 4 + 4) × (42 + 42 + 42 ) × (43 + 43 + 43 ) = 12 × 48 × 192 = 110,592점을 얻습니다.\n",
        "#  따라서 110592를 return 합니다."
      ]
    },
    {
      "cell_type": "code",
      "source": [
        "def solution(a, b, c):\n",
        "    answer = 0\n",
        "    if a == b == c:\n",
        "      answer = (a + b + c) * (a**2 + b**2 + c**2 ) * (a**3 + b**3 + c**3 )\n",
        "    elif a == b or a == c or b == c:\n",
        "      answer = (a + b + c) * (a**2 + b**2 + c**2 )\n",
        "    else:\n",
        "      answer = a + b + c\n",
        "    return answer"
      ],
      "metadata": {
        "id": "IeOCT9Duy-0c"
      },
      "execution_count": 7,
      "outputs": []
    },
    {
      "cell_type": "code",
      "source": [
        "a = 2\n",
        "b = 6\n",
        "c = 1\n",
        "solution(a, b, c)"
      ],
      "metadata": {
        "colab": {
          "base_uri": "https://localhost:8080/"
        },
        "id": "oRqCp2qay_8R",
        "outputId": "98c33037-7411-45a9-ae4b-883c183a80e2"
      },
      "execution_count": 8,
      "outputs": [
        {
          "output_type": "execute_result",
          "data": {
            "text/plain": [
              "9"
            ]
          },
          "metadata": {},
          "execution_count": 8
        }
      ]
    },
    {
      "cell_type": "code",
      "source": [
        "a = 5\n",
        "b = 3\n",
        "c = 3\n",
        "solution(a, b, c)"
      ],
      "metadata": {
        "colab": {
          "base_uri": "https://localhost:8080/"
        },
        "id": "DTzTVa8hzGHz",
        "outputId": "07c89a0a-5057-4493-ed07-aec727e83ffb"
      },
      "execution_count": 9,
      "outputs": [
        {
          "output_type": "execute_result",
          "data": {
            "text/plain": [
              "473"
            ]
          },
          "metadata": {},
          "execution_count": 9
        }
      ]
    },
    {
      "cell_type": "code",
      "source": [
        "a = 4\n",
        "b = 4\n",
        "c = 4\n",
        "solution(a, b, c)"
      ],
      "metadata": {
        "colab": {
          "base_uri": "https://localhost:8080/"
        },
        "id": "OaPKpfvRzGFT",
        "outputId": "0c8fcf70-74b7-49c1-db83-4b692f6dbd34"
      },
      "execution_count": 10,
      "outputs": [
        {
          "output_type": "execute_result",
          "data": {
            "text/plain": [
              "110592"
            ]
          },
          "metadata": {},
          "execution_count": 10
        }
      ]
    },
    {
      "cell_type": "code",
      "source": [
        "# 다른 사람 풀이"
      ],
      "metadata": {
        "id": "NcjLGDC3zGC0"
      },
      "execution_count": 11,
      "outputs": []
    },
    {
      "cell_type": "code",
      "source": [
        "# 세트와 세트 길이 사용\n",
        "def solution(a, b, c):\n",
        "    check=len(set([a,b,c]))\n",
        "    if check==1:\n",
        "        return 3*a*3*(a**2)*3*(a**3)\n",
        "    elif check==2:\n",
        "        return (a+b+c)*(a**2+b**2+c**2)\n",
        "    else:\n",
        "        return (a+b+c)"
      ],
      "metadata": {
        "id": "RgT8NmWZ0ERa"
      },
      "execution_count": 12,
      "outputs": []
    },
    {
      "cell_type": "code",
      "source": [
        "# 뭔가 더 신박하고 간단한게 있을줄 알았는데 없네 ㅠㅠ 까비"
      ],
      "metadata": {
        "id": "u0vbsf2T0POZ"
      },
      "execution_count": null,
      "outputs": []
    }
  ]
}