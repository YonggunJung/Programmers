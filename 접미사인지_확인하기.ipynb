{
  "nbformat": 4,
  "nbformat_minor": 0,
  "metadata": {
    "colab": {
      "provenance": [],
      "authorship_tag": "ABX9TyOp5TB8lNFeIvvn7cRGWc+K",
      "include_colab_link": true
    },
    "kernelspec": {
      "name": "python3",
      "display_name": "Python 3"
    },
    "language_info": {
      "name": "python"
    }
  },
  "cells": [
    {
      "cell_type": "markdown",
      "metadata": {
        "id": "view-in-github",
        "colab_type": "text"
      },
      "source": [
        "<a href=\"https://colab.research.google.com/github/YonggunJung/Programmers/blob/main/%EC%A0%91%EB%AF%B8%EC%82%AC%EC%9D%B8%EC%A7%80_%ED%99%95%EC%9D%B8%ED%95%98%EA%B8%B0.ipynb\" target=\"_parent\"><img src=\"https://colab.research.google.com/assets/colab-badge.svg\" alt=\"Open In Colab\"/></a>"
      ]
    },
    {
      "cell_type": "code",
      "execution_count": 1,
      "metadata": {
        "id": "EqGyc8ne0ddF"
      },
      "outputs": [],
      "source": [
        "# 문제 설명\n",
        "# 어떤 문자열에 대해서 접미사는 특정 인덱스부터 시작하는 문자열을 의미합니다.\n",
        "# 예를 들어, \"banana\"의 모든 접미사는 \"banana\", \"anana\", \"nana\", \"ana\", \"na\", \"a\"입니다.\n",
        "# 문자열 my_string과 is_suffix가 주어질 때, is_suffix가 my_string의 접미사라면 1을,\n",
        "# 아니면 0을 return 하는 solution 함수를 작성해 주세요.\n",
        "\n",
        "# 제한사항\n",
        "# 1 ≤ my_string의 길이 ≤ 100\n",
        "# 1 ≤ is_suffix의 길이 ≤ 100\n",
        "# my_string과 is_suffix는 영소문자로만 이루어져 있습니다.\n",
        "\n",
        "# 입출력 예\n",
        "# my_string\t        is_suffix\t          result\n",
        "# \"banana\"\t        \"ana\"\t                1\n",
        "# \"banana\"\t        \"nan\"\t                0\n",
        "# \"banana\"\t        \"wxyz\"\t              0\n",
        "# \"banana\"\t        \"abanana\"\t            0\n",
        "\n",
        "# 입출력 예 설명\n",
        "# 입출력 예 #1\n",
        "# 예제 1번에서 is_suffix가 my_string의 접미사이기 때문에 1을 return 합니다.\n",
        "\n",
        "# 입출력 예 #2\n",
        "# 예제 2번에서 is_suffix가 my_string의 접미사가 아니기 때문에 0을 return 합니다.\\\n",
        "\n",
        "# 입출력 예 #3\n",
        "# 예제 3번에서 is_suffix가 my_string의 접미사가 아니기 때문에 0을 return 합니다.\n",
        "\n",
        "# 입출력 예 #4\n",
        "# 예제 4번에서 is_suffix가 my_string의 접미사가 아니기 때문에 0을 return 합니다."
      ]
    },
    {
      "cell_type": "code",
      "source": [
        "def solution(my_string, is_suffix):\n",
        "    answer = 0\n",
        "    for i in range(len(my_string)):\n",
        "      if my_string[i:] == is_suffix:\n",
        "        answer = 1\n",
        "    return answer"
      ],
      "metadata": {
        "id": "iP-b3xqa0u8V"
      },
      "execution_count": 18,
      "outputs": []
    },
    {
      "cell_type": "code",
      "source": [
        "my_string = \"banana\"\n",
        "is_suffix = \"ana\"\n",
        "solution(my_string, is_suffix)"
      ],
      "metadata": {
        "colab": {
          "base_uri": "https://localhost:8080/"
        },
        "id": "86azYPW-0wOp",
        "outputId": "a19f091d-afe1-4a42-ec3e-638ae182d917"
      },
      "execution_count": 19,
      "outputs": [
        {
          "output_type": "execute_result",
          "data": {
            "text/plain": [
              "1"
            ]
          },
          "metadata": {},
          "execution_count": 19
        }
      ]
    },
    {
      "cell_type": "code",
      "source": [
        "my_string = \"banana\"\n",
        "is_suffix = \"nan\"\n",
        "solution(my_string, is_suffix)"
      ],
      "metadata": {
        "colab": {
          "base_uri": "https://localhost:8080/"
        },
        "id": "blzC_bSA03EM",
        "outputId": "0b95fd33-5670-4527-9740-95753a99386d"
      },
      "execution_count": 20,
      "outputs": [
        {
          "output_type": "execute_result",
          "data": {
            "text/plain": [
              "0"
            ]
          },
          "metadata": {},
          "execution_count": 20
        }
      ]
    },
    {
      "cell_type": "code",
      "source": [
        "my_string = \"banana\"\n",
        "is_suffix = \"wxyz\"\n",
        "solution(my_string, is_suffix)"
      ],
      "metadata": {
        "colab": {
          "base_uri": "https://localhost:8080/"
        },
        "id": "ZpFLrIt903Bm",
        "outputId": "f8617f62-35f0-4c5c-b3e7-82310501c12c"
      },
      "execution_count": 21,
      "outputs": [
        {
          "output_type": "execute_result",
          "data": {
            "text/plain": [
              "0"
            ]
          },
          "metadata": {},
          "execution_count": 21
        }
      ]
    },
    {
      "cell_type": "code",
      "source": [
        "my_string = \"banana\"\n",
        "is_suffix = \"abanana\"\n",
        "solution(my_string, is_suffix)"
      ],
      "metadata": {
        "colab": {
          "base_uri": "https://localhost:8080/"
        },
        "id": "egZt94sx02-o",
        "outputId": "14364134-9a93-42cb-bd2e-7c950220f8af"
      },
      "execution_count": 22,
      "outputs": [
        {
          "output_type": "execute_result",
          "data": {
            "text/plain": [
              "0"
            ]
          },
          "metadata": {},
          "execution_count": 22
        }
      ]
    },
    {
      "cell_type": "code",
      "source": [
        "# 다른 사람 풀이"
      ],
      "metadata": {
        "id": "2W9pD9wD028Q"
      },
      "execution_count": 23,
      "outputs": []
    },
    {
      "cell_type": "code",
      "source": [
        "def solution(m, s):\n",
        "    if m[-len(s):]==s: return 1\n",
        "    return 0"
      ],
      "metadata": {
        "id": "uwDDqePY2Po6"
      },
      "execution_count": 24,
      "outputs": []
    },
    {
      "cell_type": "code",
      "source": [
        "# endswith() 새로운 함수군 좋아\n",
        "def solution(my_string, is_suffix):\n",
        "    return int(my_string.endswith(is_suffix))"
      ],
      "metadata": {
        "id": "E4A8opnc2Q2Y"
      },
      "execution_count": 25,
      "outputs": []
    },
    {
      "cell_type": "code",
      "source": [
        "def solution(my_string, is_suffix):\n",
        "\n",
        "    return 1 if my_string[::-1][:len(is_suffix)]==is_suffix[::-1] else 0"
      ],
      "metadata": {
        "id": "gCbDqyth2Wf7"
      },
      "execution_count": null,
      "outputs": []
    }
  ]
}