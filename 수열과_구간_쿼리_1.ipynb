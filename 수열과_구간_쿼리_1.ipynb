{
  "nbformat": 4,
  "nbformat_minor": 0,
  "metadata": {
    "colab": {
      "provenance": [],
      "authorship_tag": "ABX9TyNJPEk/ziDqOX6QFNisppa+",
      "include_colab_link": true
    },
    "kernelspec": {
      "name": "python3",
      "display_name": "Python 3"
    },
    "language_info": {
      "name": "python"
    }
  },
  "cells": [
    {
      "cell_type": "markdown",
      "metadata": {
        "id": "view-in-github",
        "colab_type": "text"
      },
      "source": [
        "<a href=\"https://colab.research.google.com/github/YonggunJung/Programmers/blob/main/%EC%88%98%EC%97%B4%EA%B3%BC_%EA%B5%AC%EA%B0%84_%EC%BF%BC%EB%A6%AC_1.ipynb\" target=\"_parent\"><img src=\"https://colab.research.google.com/assets/colab-badge.svg\" alt=\"Open In Colab\"/></a>"
      ]
    },
    {
      "cell_type": "code",
      "execution_count": 1,
      "metadata": {
        "id": "rP80_tAD_G9K"
      },
      "outputs": [],
      "source": [
        "# 문제 설명\n",
        "# 정수 배열 arr와 2차원 정수 배열 queries이 주어집니다.\n",
        "# queries의 원소는 각각 하나의 query를 나타내며, [s, e] 꼴입니다.\n",
        "\n",
        "# 각 query마다 순서대로 s ≤ i ≤ e인 모든 i에 대해 arr[i]에 1을 더합니다.\n",
        "\n",
        "# 위 규칙에 따라 queries를 처리한 이후의 arr를\n",
        "# return 하는 solution 함수를 완성해 주세요.\n",
        "\n",
        "# 제한사항\n",
        "# 1 ≤ arr의 길이 ≤ 1,000\n",
        "# 0 ≤ arr의 원소 ≤ 1,000,000\n",
        "# 1 ≤ queries의 길이 ≤ 1,000\n",
        "# 0 ≤ s ≤ e < arr의 길이\n",
        "\n",
        "# 입출력 예\n",
        "# arr\t                queries\t                      result\n",
        "# [0, 1, 2, 3, 4]\t    [[0, 1],[1, 2],[2, 3]]\t      [1, 3, 4, 4, 4]\n",
        "\n",
        "# 입출력 예 설명\n",
        "# 입출력 예 #1\n",
        "# 각 쿼리에 따라 arr가 다음과 같이 변합니다.\n",
        "# i\t          queries[i]\t      arr\n",
        "# -\t          -\t                [0, 1, 2, 3, 4]\n",
        "# 0\t          [0,1]\t            [1, 2, 2, 3, 4]\n",
        "# 1\t          [1,2]\t            [1, 3, 3, 3, 4]\n",
        "# 2\t          [2,3]\t            [1, 3, 4, 4, 4]\n",
        "# 따라서 [1, 3, 4, 4, 4]를 return 합니다."
      ]
    },
    {
      "cell_type": "code",
      "source": [
        "# 이게 왜 틀린건지 모르겠음 답은 나오는데 빵점 뜨네 ㅠㅠ\n",
        "# def solution(arr, queries):\n",
        "#     for i in arr:\n",
        "#       for j, k in queries:\n",
        "#         if j <= i and i <= k:\n",
        "#           arr[i] += 1\n",
        "#     answer = arr\n",
        "#     return answer"
      ],
      "metadata": {
        "id": "BAoNcjEz_ZCn"
      },
      "execution_count": 16,
      "outputs": []
    },
    {
      "cell_type": "code",
      "source": [
        "# 이 풀이를 봤지만 나랑 뭐가 다른건지 모르겠다 ㅠㅠ\n",
        "def solution(arr, queries):\n",
        "    for i in queries :\n",
        "      for k in range(i[0],i[1]+1):\n",
        "        arr[k] +=1\n",
        "    return arr"
      ],
      "metadata": {
        "id": "rgva03MeDbWj"
      },
      "execution_count": 18,
      "outputs": []
    },
    {
      "cell_type": "code",
      "source": [
        "arr = [0, 1, 2, 3, 4]\n",
        "queries = [[0, 1],[1, 2],[2, 3]]\n",
        "solution(arr, queries)"
      ],
      "metadata": {
        "colab": {
          "base_uri": "https://localhost:8080/"
        },
        "id": "crIplGos_abe",
        "outputId": "1aed2096-6058-4088-fc4a-a6539e51301c"
      },
      "execution_count": 19,
      "outputs": [
        {
          "output_type": "execute_result",
          "data": {
            "text/plain": [
              "[1, 3, 4, 4, 4]"
            ]
          },
          "metadata": {},
          "execution_count": 19
        }
      ]
    },
    {
      "cell_type": "code",
      "source": [
        "# 다른 사람 풀이"
      ],
      "metadata": {
        "id": "ewM85XIh_dRb"
      },
      "execution_count": 20,
      "outputs": []
    },
    {
      "cell_type": "code",
      "source": [
        "# 잘하노\n",
        "def solution(arr, queries):\n",
        "    for (s, e) in queries:\n",
        "        arr = [a+1 if s <= i <= e else a for i, a in enumerate(arr)]\n",
        "    return arr"
      ],
      "metadata": {
        "id": "OrplIqa8EaIm"
      },
      "execution_count": 21,
      "outputs": []
    },
    {
      "cell_type": "code",
      "source": [],
      "metadata": {
        "id": "EdgK7BdmEgsj"
      },
      "execution_count": null,
      "outputs": []
    }
  ]
}