{
  "nbformat": 4,
  "nbformat_minor": 0,
  "metadata": {
    "colab": {
      "provenance": [],
      "authorship_tag": "ABX9TyMWNQudvrEetyA8OqLC+hMk",
      "include_colab_link": true
    },
    "kernelspec": {
      "name": "python3",
      "display_name": "Python 3"
    },
    "language_info": {
      "name": "python"
    }
  },
  "cells": [
    {
      "cell_type": "markdown",
      "metadata": {
        "id": "view-in-github",
        "colab_type": "text"
      },
      "source": [
        "<a href=\"https://colab.research.google.com/github/YonggunJung/Programmers/blob/main/%EB%B0%B0%EC%97%B4%EC%9D%98_%EA%B8%B8%EC%9D%B4%EC%97%90_%EB%94%B0%EB%9D%BC_%EB%8B%A4%EB%A5%B8_%EC%97%B0%EC%82%B0%ED%95%98%EA%B8%B0.ipynb\" target=\"_parent\"><img src=\"https://colab.research.google.com/assets/colab-badge.svg\" alt=\"Open In Colab\"/></a>"
      ]
    },
    {
      "cell_type": "code",
      "execution_count": 1,
      "metadata": {
        "id": "5c3Qm7zyXRzU"
      },
      "outputs": [],
      "source": [
        "# 문제 설명\n",
        "# 정수 배열 arr과 정수 n이 매개변수로 주어집니다.\n",
        "# arr의 길이가 홀수라면 arr의 모든 짝수 인덱스 위치에 n을 더한 배열을,\n",
        "# arr의 길이가 짝수라면 arr의 모든 홀수 인덱스 위치에 n을 더한 배열을\n",
        "# return 하는 solution 함수를 작성해 주세요.\n",
        "\n",
        "# 제한사항\n",
        "# 1 ≤ arr의 길이 ≤ 1,000\n",
        "# 1 ≤ arr의 원소 ≤ 1,000\n",
        "# 1 ≤ n ≤ 1,000\n",
        "\n",
        "# 입출력 예\n",
        "# arr\t                        n\t          result\n",
        "# [49, 12, 100, 276, 33]\t    27\t        [76, 12, 127, 276, 60]\n",
        "# [444, 555, 666, 777]\t      100\t        [444, 655, 666, 877]\n",
        "\n",
        "# 입출력 예 설명\n",
        "# 입출력 예 #1\n",
        "# 예제 1번의 arr의 길이는 5로 홀수입니다.\n",
        "# 따라서 arr의 짝수 인덱스 0, 2, 4에 주어진 n 값인 27을 더하면\n",
        "#  [76, 12, 127, 276, 60]이 됩니다. 따라서 [76, 12, 127, 276, 60]를 return 합니다.\n",
        "\n",
        "# 입출력 예 #1\n",
        "# 예제 2번의 arr의 길이는 4로 짝수입니다.\n",
        "# 따라서 arr의 홀수 인덱스 1, 3에 주어진 n 값인 100을 더하면\n",
        "#  [444, 655, 666, 877]이 됩니다. 따라서 [444, 655, 666, 877]를 return 합니다."
      ]
    },
    {
      "cell_type": "code",
      "source": [
        "def solution(arr, n):\n",
        "    answer = []\n",
        "    if len(arr) % 2 == 1:\n",
        "      for idx, num in enumerate(arr):\n",
        "        if idx % 2 == 0:\n",
        "          arr[idx] = num + n\n",
        "    else:\n",
        "      for idx, num in enumerate(arr):\n",
        "        if idx % 2 == 1:\n",
        "          arr[idx] = num + n\n",
        "    answer = arr\n",
        "    return answer"
      ],
      "metadata": {
        "id": "89N0gaB_XcTf"
      },
      "execution_count": 6,
      "outputs": []
    },
    {
      "cell_type": "code",
      "source": [
        "arr = [49, 12, 100, 276, 33]\n",
        "n = 27\n",
        "solution(arr, n)"
      ],
      "metadata": {
        "colab": {
          "base_uri": "https://localhost:8080/"
        },
        "id": "A1K67SQFXfWu",
        "outputId": "178c5ea7-72fe-4ede-ffc7-b33de1657bfb"
      },
      "execution_count": 7,
      "outputs": [
        {
          "output_type": "execute_result",
          "data": {
            "text/plain": [
              "[76, 12, 127, 276, 60]"
            ]
          },
          "metadata": {},
          "execution_count": 7
        }
      ]
    },
    {
      "cell_type": "code",
      "source": [
        "arr = [444, 555, 666, 777]\n",
        "n = 100\n",
        "solution(arr, n)"
      ],
      "metadata": {
        "colab": {
          "base_uri": "https://localhost:8080/"
        },
        "id": "rLIue0wcXisw",
        "outputId": "6fd14276-9b10-43f7-e5a0-4d2f5d040673"
      },
      "execution_count": 8,
      "outputs": [
        {
          "output_type": "execute_result",
          "data": {
            "text/plain": [
              "[444, 655, 666, 877]"
            ]
          },
          "metadata": {},
          "execution_count": 8
        }
      ]
    },
    {
      "cell_type": "code",
      "source": [
        "# 다른 사람 풀이"
      ],
      "metadata": {
        "id": "0f9sBQe8XiqP"
      },
      "execution_count": 10,
      "outputs": []
    },
    {
      "cell_type": "code",
      "source": [
        "# 이렇게 간단한 거였다니 ㅋㅋㅋㅋㅋ\n",
        "def solution(arr, n):\n",
        "    N=len(arr)\n",
        "    if N%2:\n",
        "        for i in range(0,N,2): arr[i]+=n\n",
        "    else:\n",
        "        for i in range(1,N,2): arr[i]+=n\n",
        "    return arr"
      ],
      "metadata": {
        "id": "Pi0x_zqyYkQg"
      },
      "execution_count": 11,
      "outputs": []
    },
    {
      "cell_type": "code",
      "source": [
        "# 이게 한줄로도 가능 하다니\n",
        "def solution(arr, n):\n",
        "    return [arr[i] + n if i % 2 == 0 else arr[i] for i in range(len(arr))] if len(arr) % 2 != 0 else [arr[i] + n if i % 2 != 0 else arr[i] for i in range(len(arr))]"
      ],
      "metadata": {
        "id": "AWN7TdkFYqke"
      },
      "execution_count": 12,
      "outputs": []
    },
    {
      "cell_type": "code",
      "source": [
        "# 와우\n",
        "solution=lambda a,n: [x+n if i%2==(len(a)+1)%2 else x for i,x in enumerate(a)]"
      ],
      "metadata": {
        "id": "TnHBdU3aY0Nm"
      },
      "execution_count": 13,
      "outputs": []
    },
    {
      "cell_type": "code",
      "source": [
        "# 신기한 코드가 정말 많군\n",
        "#  [num + n*((len(arr)+i)%2) for i, num in enumerate(arr)]"
      ],
      "metadata": {
        "id": "hOzoMHVJY4wW"
      },
      "execution_count": null,
      "outputs": []
    }
  ]
}