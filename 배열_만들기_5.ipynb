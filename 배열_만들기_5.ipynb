{
  "nbformat": 4,
  "nbformat_minor": 0,
  "metadata": {
    "colab": {
      "provenance": [],
      "authorship_tag": "ABX9TyN+ybAybnWTZJ2urS3CJRLB",
      "include_colab_link": true
    },
    "kernelspec": {
      "name": "python3",
      "display_name": "Python 3"
    },
    "language_info": {
      "name": "python"
    }
  },
  "cells": [
    {
      "cell_type": "markdown",
      "metadata": {
        "id": "view-in-github",
        "colab_type": "text"
      },
      "source": [
        "<a href=\"https://colab.research.google.com/github/YonggunJung/Programmers/blob/main/%EB%B0%B0%EC%97%B4_%EB%A7%8C%EB%93%A4%EA%B8%B0_5.ipynb\" target=\"_parent\"><img src=\"https://colab.research.google.com/assets/colab-badge.svg\" alt=\"Open In Colab\"/></a>"
      ]
    },
    {
      "cell_type": "code",
      "source": [
        "# 문제 설명\n",
        "# 문자열 배열 intStrs와 정수 k, s, l가 주어집니다.\n",
        "# intStrs의 원소는 숫자로 이루어져 있습니다.\n",
        "\n",
        "# 배열 intStrs의 각 원소마다 s번 인덱스에서 시작하는\n",
        "# 길이 l짜리 부분 문자열을 잘라내 정수로 변환합니다.\n",
        "# 이때 변환한 정수값이 k보다 큰 값들을 담은 배열을\n",
        "# return 하는 solution 함수를 완성해 주세요.\n",
        "\n",
        "# 제한사항\n",
        "# 0 ≤ s < 100\n",
        "# 1 ≤ l ≤ 8\n",
        "# 10l - 1 ≤ k < 10l\n",
        "# 1 ≤ intStrs의 길이 ≤ 10,000\n",
        "# s + l ≤ intStrs의 원소의 길이 ≤ 120\n",
        "\n",
        "# 입출력 예\n",
        "# intStrs\t                                        k\t       s\t  l\t  result\n",
        "# [\"0123456789\",\"9876543210\",\"9999999999999\"]\t    50000\t   5\t  5\t  [56789, 99999]\n",
        "\n",
        "# 입출력 예 설명\n",
        "# 입출력 예 #1\n",
        "# idx에 따라 잘라낸 문자열과 그에 따른 ret의 변화를 표시하면 다음 표와 같습니다.\n",
        "# idx\t잘라낸 문자열\tret\n",
        "# 0\t\"56789\"\t[56789]\n",
        "# 1\t\"43210\"\t[56789]\n",
        "# 2\t\"99999\"\t[56789, 99999]\n",
        "# 따라서 [56789, 99999]를 return 합니다."
      ],
      "metadata": {
        "id": "ucEEVBPeYsU5"
      },
      "execution_count": null,
      "outputs": []
    },
    {
      "cell_type": "code",
      "execution_count": 7,
      "metadata": {
        "id": "syLzsYhNYgPS"
      },
      "outputs": [],
      "source": [
        "def solution(intStrs, k, s, l):\n",
        "    answer = []\n",
        "    for num in intStrs:\n",
        "      if int(num[s:s+l]) > k:\n",
        "        answer.append(int(num[s:s+l]))\n",
        "    return answer"
      ]
    },
    {
      "cell_type": "code",
      "source": [
        "intStrs = [\"0123456789\",\"9876543210\",\"9999999999999\"]\n",
        "k = 50000\n",
        "s = 5\n",
        "l = 5\n",
        "solution(intStrs, k, s, l)"
      ],
      "metadata": {
        "colab": {
          "base_uri": "https://localhost:8080/"
        },
        "id": "5njrRC_KY7p_",
        "outputId": "56bd6535-4d6b-4d17-f60f-b64a79cd3c58"
      },
      "execution_count": 8,
      "outputs": [
        {
          "output_type": "execute_result",
          "data": {
            "text/plain": [
              "[56789, 99999]"
            ]
          },
          "metadata": {},
          "execution_count": 8
        }
      ]
    },
    {
      "cell_type": "code",
      "source": [
        "# 다른 사람 풀이"
      ],
      "metadata": {
        "id": "UoxJmqidZJcf"
      },
      "execution_count": 9,
      "outputs": []
    },
    {
      "cell_type": "code",
      "source": [],
      "metadata": {
        "id": "HtFi7_GWaqtv"
      },
      "execution_count": null,
      "outputs": []
    }
  ]
}