{
  "nbformat": 4,
  "nbformat_minor": 0,
  "metadata": {
    "colab": {
      "provenance": [],
      "authorship_tag": "ABX9TyNg5lDwtDrlRU2HoncORFP/",
      "include_colab_link": true
    },
    "kernelspec": {
      "name": "python3",
      "display_name": "Python 3"
    },
    "language_info": {
      "name": "python"
    }
  },
  "cells": [
    {
      "cell_type": "markdown",
      "metadata": {
        "id": "view-in-github",
        "colab_type": "text"
      },
      "source": [
        "<a href=\"https://colab.research.google.com/github/YonggunJung/Programmers/blob/main/%EB%AC%B8%EC%9E%90%EC%97%B4_%EB%8F%8C%EB%A6%AC%EA%B8%B0.ipynb\" target=\"_parent\"><img src=\"https://colab.research.google.com/assets/colab-badge.svg\" alt=\"Open In Colab\"/></a>"
      ]
    },
    {
      "cell_type": "code",
      "execution_count": null,
      "metadata": {
        "id": "kJziMiTVgPJO"
      },
      "outputs": [],
      "source": [
        "# 문제 설명\n",
        "# 문자열 str이 주어집니다.\n",
        "# 문자열을 시계방향으로 90도 돌려서 아래 입출력 예와 같이 출력하는 코드를 작성해 보세요.\n",
        "\n",
        "# 제한사항\n",
        "# 1 ≤ str의 길이 ≤ 10\n",
        "\n",
        "# 입출력 예\n",
        "# 입력 #1\n",
        "# abcde\n",
        "\n",
        "# 출력 #1\n",
        "# a\n",
        "# b\n",
        "# c\n",
        "# d\n",
        "# e"
      ]
    },
    {
      "cell_type": "code",
      "source": [
        "# 문제\n",
        "# srt = input()"
      ],
      "metadata": {
        "id": "3y_ZEWZ1gbsd"
      },
      "execution_count": 1,
      "outputs": []
    },
    {
      "cell_type": "code",
      "source": [
        "srt = input()\n",
        "for char in srt:\n",
        "  print(char)"
      ],
      "metadata": {
        "colab": {
          "base_uri": "https://localhost:8080/"
        },
        "id": "ea9nP5Zuggzr",
        "outputId": "1faee99b-75fc-4f64-ffb2-630e045ddd75"
      },
      "execution_count": 5,
      "outputs": [
        {
          "output_type": "stream",
          "name": "stdout",
          "text": [
            "abcde\n",
            "a\n",
            "b\n",
            "c\n",
            "d\n",
            "e\n"
          ]
        }
      ]
    },
    {
      "cell_type": "code",
      "source": [
        "# 다른사람 풀이"
      ],
      "metadata": {
        "id": "pyBqUgF2gyI6"
      },
      "execution_count": 6,
      "outputs": []
    },
    {
      "cell_type": "code",
      "source": [
        "# join() 사용\n",
        "print('\\n'.join(input()))"
      ],
      "metadata": {
        "id": "xtnanqsihTYe"
      },
      "execution_count": null,
      "outputs": []
    }
  ]
}